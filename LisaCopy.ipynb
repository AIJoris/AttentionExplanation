{
 "cells": [
  {
   "cell_type": "code",
   "execution_count": null,
   "metadata": {},
   "outputs": [],
   "source": [
    "for dataset in ['imdb'] :\n",
    "    %run train_and_run_experiments_bc.py --dataset {dataset} --data_dir='.' --output_dir='outputs/' --attention=tanh"
   ]
  },
  {
   "cell_type": "code",
   "execution_count": null,
   "metadata": {},
   "outputs": [],
   "source": [
    "for dataset in ['imdb'] :\n",
    "    %run train_and_run_experiments_bc.py --dataset {dataset} --data_dir='.' --output_dir='outputs/' --attention=dot"
   ]
  },
  {
   "cell_type": "code",
   "execution_count": null,
   "metadata": {},
   "outputs": [],
   "source": [
    "for dataset in ['Anemia'] :\n",
    "    %run train_and_run_experiments_bc.py --dataset {dataset} --data_dir='.' --output_dir='outputs/' --attention=tanh"
   ]
  },
  {
   "cell_type": "code",
   "execution_count": null,
   "metadata": {},
   "outputs": [],
   "source": [
    "for dataset in ['Anemia'] :\n",
    "    %run train_and_run_experiments_bc.py --dataset {dataset} --data_dir='.' --output_dir='outputs/' --attention=dot"
   ]
  },
  {
   "cell_type": "code",
   "execution_count": null,
   "metadata": {},
   "outputs": [],
   "source": [
    "for dataset in ['babi_1', 'babi_2', 'babi_3'] :\n",
    "    %run train_and_run_experiments_qa.py --dataset {dataset} --data_dir='.' --output_dir='outputs/' --attention=dot"
   ]
  },
  {
   "cell_type": "code",
   "execution_count": null,
   "metadata": {},
   "outputs": [
    {
     "name": "stderr",
     "output_type": "stream",
     "text": [
      "/home/sarthak/anaconda3/lib/python3.7/site-packages/sklearn/base.py:251: UserWarning: Trying to unpickle estimator CountVectorizer from version 0.20.1 when using version 0.20.2. This might lead to breaking code or invalid results. Use at your own risk.\n",
      "  UserWarning)\n",
      "/home/sarthak/anaconda3/lib/python3.7/site-packages/allennlp/common/params.py:512: FutureWarning: elementwise comparison failed; returning scalar instead, but in the future will perform elementwise comparison\n",
      "  if dictionary[key] == \"None\":\n",
      "INFO - 2019-04-01 16:18:05,722 - instantiating class <class 'Transparency.model.modules.Encoder.Encoder'> from params {'vocab_size': 10842, 'embed_size': 200, 'kernel_sizes': (1, 3, 5, 7), 'hidden_size': 64, 'activation': 'relu', 'type': 'cnn', 'pre_embed': array([[ 0.        ,  0.        ,  0.        , ...,  0.        ,\n",
      "         0.        ,  0.        ],\n",
      "       [-1.01110077, -0.10963009, -0.12135973, ...,  1.417561  ,\n",
      "         0.22239438, -0.95637527],\n",
      "       [-0.3252375 ,  0.76675387,  0.07743983, ...,  0.71469843,\n",
      "         1.65814695,  1.02895811],\n",
      "       ...,\n",
      "       [-0.9131118 ,  0.65445782, -1.75380741, ..., -1.32082687,\n",
      "         1.96610137,  0.21530122],\n",
      "       [ 0.23878147, -0.24995086, -0.76743705, ...,  0.08109977,\n",
      "        -2.09821721,  1.13257865],\n",
      "       [ 0.21334752,  1.16793904, -0.49893868, ..., -0.49181569,\n",
      "        -0.49463947,  0.03485374]])} and extras {}\n",
      "INFO - 2019-04-01 16:18:05,722 - type = cnn\n",
      "INFO - 2019-04-01 16:18:05,723 - instantiating class <class 'Transparency.model.modules.Encoder.EncoderCNN'> from params {'vocab_size': 10842, 'embed_size': 200, 'kernel_sizes': (1, 3, 5, 7), 'hidden_size': 64, 'activation': 'relu', 'pre_embed': array([[ 0.        ,  0.        ,  0.        , ...,  0.        ,\n",
      "         0.        ,  0.        ],\n",
      "       [-1.01110077, -0.10963009, -0.12135973, ...,  1.417561  ,\n",
      "         0.22239438, -0.95637527],\n",
      "       [-0.3252375 ,  0.76675387,  0.07743983, ...,  0.71469843,\n",
      "         1.65814695,  1.02895811],\n",
      "       ...,\n",
      "       [-0.9131118 ,  0.65445782, -1.75380741, ..., -1.32082687,\n",
      "         1.96610137,  0.21530122],\n",
      "       [ 0.23878147, -0.24995086, -0.76743705, ...,  0.08109977,\n",
      "        -2.09821721,  1.13257865],\n",
      "       [ 0.21334752,  1.16793904, -0.49893868, ..., -0.49181569,\n",
      "        -0.49463947,  0.03485374]])} and extras {}\n",
      "INFO - 2019-04-01 16:18:05,908 - vocab_size = 10842\n",
      "INFO - 2019-04-01 16:18:05,909 - embed_size = 200\n",
      "INFO - 2019-04-01 16:18:05,909 - hidden_size = 64\n",
      "INFO - 2019-04-01 16:18:05,909 - kernel_sizes = (1, 3, 5, 7)\n",
      "INFO - 2019-04-01 16:18:05,910 - activation = relu\n",
      "INFO - 2019-04-01 16:18:05,911 - pre_embed = [[ 0.          0.          0.         ...  0.          0.\n",
      "   0.        ]\n",
      " [-1.01110077 -0.10963009 -0.12135973 ...  1.417561    0.22239438\n",
      "  -0.95637527]\n",
      " [-0.3252375   0.76675387  0.07743983 ...  0.71469843  1.65814695\n",
      "   1.02895811]\n",
      " ...\n",
      " [-0.9131118   0.65445782 -1.75380741 ... -1.32082687  1.96610137\n",
      "   0.21530122]\n",
      " [ 0.23878147 -0.24995086 -0.76743705 ...  0.08109977 -2.09821721\n",
      "   1.13257865]\n",
      " [ 0.21334752  1.16793904 -0.49893868 ... -0.49181569 -0.49463947\n",
      "   0.03485374]]\n"
     ]
    },
    {
     "name": "stdout",
     "output_type": "stream",
     "text": [
      "Better speed can be achieved with apex installed from https://www.github.com/nvidia/apex.\n",
      "Setting Embedding\n"
     ]
    },
    {
     "name": "stderr",
     "output_type": "stream",
     "text": [
      "INFO - 2019-04-01 16:18:06,918 - instantiating class <class 'Transparency.model.modules.Decoder.AttnDecoder'> from params {'attention': {'type': 'dot'}, 'output_size': 1, 'hidden_size': 256} and extras {}\n",
      "INFO - 2019-04-01 16:18:06,918 - hidden_size = 256\n",
      "INFO - 2019-04-01 16:18:06,919 - output_size = 1\n",
      "INFO - 2019-04-01 16:18:06,919 - use_attention = True\n",
      "INFO - 2019-04-01 16:18:06,920 - regularizer_attention = None\n",
      "INFO - 2019-04-01 16:18:06,920 - instantiating class <class 'Transparency.model.modules.Attention.Attention'> from params <allennlp.common.params.Params object at 0x7f35e6275ef0> and extras {}\n",
      "INFO - 2019-04-01 16:18:06,920 - attention.type = dot\n",
      "INFO - 2019-04-01 16:18:06,921 - type = dot\n",
      "INFO - 2019-04-01 16:18:06,921 - instantiating class <class 'Transparency.model.modules.Attention.DotAttention'> from params <allennlp.common.params.Params object at 0x7f35e6275ef0> and extras {}\n",
      "INFO - 2019-04-01 16:18:06,921 - attention.hidden_size = 256\n",
      "INFO - 2019-04-01 16:18:06,922 - hidden_size = 256\n"
     ]
    },
    {
     "data": {
      "application/vnd.jupyter.widget-view+json": {
       "model_id": "4cf84babf988442eaecb6abc68c763c6",
       "version_major": 2,
       "version_minor": 0
      },
      "text/plain": [
       "HBox(children=(IntProgress(value=0, max=8), HTML(value='')))"
      ]
     },
     "metadata": {},
     "output_type": "display_data"
    },
    {
     "data": {
      "application/vnd.jupyter.widget-view+json": {
       "model_id": "8455d64ef4604e14ac25577ab18b6a2f",
       "version_major": 2,
       "version_minor": 0
      },
      "text/plain": [
       "HBox(children=(IntProgress(value=0, max=115), HTML(value='')))"
      ]
     },
     "metadata": {},
     "output_type": "display_data"
    },
    {
     "data": {
      "application/vnd.jupyter.widget-view+json": {
       "model_id": "198f89b48698465a95e40e4f11ca4577",
       "version_major": 2,
       "version_minor": 0
      },
      "text/plain": [
       "HBox(children=(IntProgress(value=0, max=25), HTML(value='')))"
      ]
     },
     "metadata": {},
     "output_type": "display_data"
    },
    {
     "name": "stdout",
     "output_type": "stream",
     "text": [
      "{'accuracy': 0.34886649874055414, 'roc_auc': 0.7481316643486324, 'pr_auc': 0.3177128684838699}\n"
     ]
    },
    {
     "data": {
      "text/html": [
       "<div>\n",
       "<style scoped>\n",
       "    .dataframe tbody tr th:only-of-type {\n",
       "        vertical-align: middle;\n",
       "    }\n",
       "\n",
       "    .dataframe tbody tr th {\n",
       "        vertical-align: top;\n",
       "    }\n",
       "\n",
       "    .dataframe thead th {\n",
       "        text-align: right;\n",
       "    }\n",
       "</style>\n",
       "<table border=\"1\" class=\"dataframe\">\n",
       "  <thead>\n",
       "    <tr style=\"text-align: right;\">\n",
       "      <th></th>\n",
       "      <th>0.0</th>\n",
       "      <th>1.0</th>\n",
       "      <th>micro avg</th>\n",
       "      <th>macro avg</th>\n",
       "      <th>weighted avg</th>\n",
       "    </tr>\n",
       "  </thead>\n",
       "  <tbody>\n",
       "    <tr>\n",
       "      <th>f1-score</th>\n",
       "      <td>0.445</td>\n",
       "      <td>0.213</td>\n",
       "      <td>0.349</td>\n",
       "      <td>0.329</td>\n",
       "      <td>0.423</td>\n",
       "    </tr>\n",
       "    <tr>\n",
       "      <th>precision</th>\n",
       "      <td>0.976</td>\n",
       "      <td>0.120</td>\n",
       "      <td>0.349</td>\n",
       "      <td>0.548</td>\n",
       "      <td>0.896</td>\n",
       "    </tr>\n",
       "    <tr>\n",
       "      <th>recall</th>\n",
       "      <td>0.288</td>\n",
       "      <td>0.933</td>\n",
       "      <td>0.349</td>\n",
       "      <td>0.611</td>\n",
       "      <td>0.349</td>\n",
       "    </tr>\n",
       "    <tr>\n",
       "      <th>support</th>\n",
       "      <td>719.000</td>\n",
       "      <td>75.000</td>\n",
       "      <td>794.000</td>\n",
       "      <td>794.000</td>\n",
       "      <td>794.000</td>\n",
       "    </tr>\n",
       "  </tbody>\n",
       "</table>\n",
       "</div>"
      ],
      "text/plain": [
       "               0.0     1.0  micro avg  macro avg  weighted avg\n",
       "f1-score     0.445   0.213      0.349      0.329         0.423\n",
       "precision    0.976   0.120      0.349      0.548         0.896\n",
       "recall       0.288   0.933      0.349      0.611         0.349\n",
       "support    719.000  75.000    794.000    794.000       794.000"
      ]
     },
     "metadata": {},
     "output_type": "display_data"
    },
    {
     "name": "stdout",
     "output_type": "stream",
     "text": [
      "Model not saved on  roc_auc 0.7481316643486324\n"
     ]
    },
    {
     "data": {
      "application/vnd.jupyter.widget-view+json": {
       "model_id": "b8d40d47144f4b4f80c294428635ea9f",
       "version_major": 2,
       "version_minor": 0
      },
      "text/plain": [
       "HBox(children=(IntProgress(value=0, max=115), HTML(value='')))"
      ]
     },
     "metadata": {},
     "output_type": "display_data"
    },
    {
     "data": {
      "application/vnd.jupyter.widget-view+json": {
       "model_id": "362921a708b64079be3a255c17e7ba2f",
       "version_major": 2,
       "version_minor": 0
      },
      "text/plain": [
       "HBox(children=(IntProgress(value=0, max=25), HTML(value='')))"
      ]
     },
     "metadata": {},
     "output_type": "display_data"
    },
    {
     "name": "stdout",
     "output_type": "stream",
     "text": [
      "{'accuracy': 0.7884130982367759, 'roc_auc': 0.7984237366713027, 'pr_auc': 0.378349341052826}\n"
     ]
    },
    {
     "data": {
      "text/html": [
       "<div>\n",
       "<style scoped>\n",
       "    .dataframe tbody tr th:only-of-type {\n",
       "        vertical-align: middle;\n",
       "    }\n",
       "\n",
       "    .dataframe tbody tr th {\n",
       "        vertical-align: top;\n",
       "    }\n",
       "\n",
       "    .dataframe thead th {\n",
       "        text-align: right;\n",
       "    }\n",
       "</style>\n",
       "<table border=\"1\" class=\"dataframe\">\n",
       "  <thead>\n",
       "    <tr style=\"text-align: right;\">\n",
       "      <th></th>\n",
       "      <th>0.0</th>\n",
       "      <th>1.0</th>\n",
       "      <th>micro avg</th>\n",
       "      <th>macro avg</th>\n",
       "      <th>weighted avg</th>\n",
       "    </tr>\n",
       "  </thead>\n",
       "  <tbody>\n",
       "    <tr>\n",
       "      <th>f1-score</th>\n",
       "      <td>0.873</td>\n",
       "      <td>0.378</td>\n",
       "      <td>0.788</td>\n",
       "      <td>0.625</td>\n",
       "      <td>0.826</td>\n",
       "    </tr>\n",
       "    <tr>\n",
       "      <th>precision</th>\n",
       "      <td>0.960</td>\n",
       "      <td>0.262</td>\n",
       "      <td>0.788</td>\n",
       "      <td>0.611</td>\n",
       "      <td>0.894</td>\n",
       "    </tr>\n",
       "    <tr>\n",
       "      <th>recall</th>\n",
       "      <td>0.800</td>\n",
       "      <td>0.680</td>\n",
       "      <td>0.788</td>\n",
       "      <td>0.740</td>\n",
       "      <td>0.788</td>\n",
       "    </tr>\n",
       "    <tr>\n",
       "      <th>support</th>\n",
       "      <td>719.000</td>\n",
       "      <td>75.000</td>\n",
       "      <td>794.000</td>\n",
       "      <td>794.000</td>\n",
       "      <td>794.000</td>\n",
       "    </tr>\n",
       "  </tbody>\n",
       "</table>\n",
       "</div>"
      ],
      "text/plain": [
       "               0.0     1.0  micro avg  macro avg  weighted avg\n",
       "f1-score     0.873   0.378      0.788      0.625         0.826\n",
       "precision    0.960   0.262      0.788      0.611         0.894\n",
       "recall       0.800   0.680      0.788      0.740         0.788\n",
       "support    719.000  75.000    794.000    794.000       794.000"
      ]
     },
     "metadata": {},
     "output_type": "display_data"
    },
    {
     "name": "stdout",
     "output_type": "stream",
     "text": [
      "Model Saved on  roc_auc 0.7984237366713027\n"
     ]
    },
    {
     "data": {
      "application/vnd.jupyter.widget-view+json": {
       "model_id": "bebb5642634748cfa82429793457ff32",
       "version_major": 2,
       "version_minor": 0
      },
      "text/plain": [
       "HBox(children=(IntProgress(value=0, max=115), HTML(value='')))"
      ]
     },
     "metadata": {},
     "output_type": "display_data"
    },
    {
     "data": {
      "application/vnd.jupyter.widget-view+json": {
       "model_id": "39fdba9288894368a542f7577b28d3b8",
       "version_major": 2,
       "version_minor": 0
      },
      "text/plain": [
       "HBox(children=(IntProgress(value=0, max=25), HTML(value='')))"
      ]
     },
     "metadata": {},
     "output_type": "display_data"
    },
    {
     "name": "stdout",
     "output_type": "stream",
     "text": [
      "{'accuracy': 0.7317380352644837, 'roc_auc': 0.7990913305516921, 'pr_auc': 0.38658314302035807}\n"
     ]
    },
    {
     "data": {
      "text/html": [
       "<div>\n",
       "<style scoped>\n",
       "    .dataframe tbody tr th:only-of-type {\n",
       "        vertical-align: middle;\n",
       "    }\n",
       "\n",
       "    .dataframe tbody tr th {\n",
       "        vertical-align: top;\n",
       "    }\n",
       "\n",
       "    .dataframe thead th {\n",
       "        text-align: right;\n",
       "    }\n",
       "</style>\n",
       "<table border=\"1\" class=\"dataframe\">\n",
       "  <thead>\n",
       "    <tr style=\"text-align: right;\">\n",
       "      <th></th>\n",
       "      <th>0.0</th>\n",
       "      <th>1.0</th>\n",
       "      <th>micro avg</th>\n",
       "      <th>macro avg</th>\n",
       "      <th>weighted avg</th>\n",
       "    </tr>\n",
       "  </thead>\n",
       "  <tbody>\n",
       "    <tr>\n",
       "      <th>f1-score</th>\n",
       "      <td>0.832</td>\n",
       "      <td>0.341</td>\n",
       "      <td>0.732</td>\n",
       "      <td>0.586</td>\n",
       "      <td>0.785</td>\n",
       "    </tr>\n",
       "    <tr>\n",
       "      <th>precision</th>\n",
       "      <td>0.963</td>\n",
       "      <td>0.222</td>\n",
       "      <td>0.732</td>\n",
       "      <td>0.593</td>\n",
       "      <td>0.893</td>\n",
       "    </tr>\n",
       "    <tr>\n",
       "      <th>recall</th>\n",
       "      <td>0.732</td>\n",
       "      <td>0.733</td>\n",
       "      <td>0.732</td>\n",
       "      <td>0.732</td>\n",
       "      <td>0.732</td>\n",
       "    </tr>\n",
       "    <tr>\n",
       "      <th>support</th>\n",
       "      <td>719.000</td>\n",
       "      <td>75.000</td>\n",
       "      <td>794.000</td>\n",
       "      <td>794.000</td>\n",
       "      <td>794.000</td>\n",
       "    </tr>\n",
       "  </tbody>\n",
       "</table>\n",
       "</div>"
      ],
      "text/plain": [
       "               0.0     1.0  micro avg  macro avg  weighted avg\n",
       "f1-score     0.832   0.341      0.732      0.586         0.785\n",
       "precision    0.963   0.222      0.732      0.593         0.893\n",
       "recall       0.732   0.733      0.732      0.732         0.732\n",
       "support    719.000  75.000    794.000    794.000       794.000"
      ]
     },
     "metadata": {},
     "output_type": "display_data"
    },
    {
     "name": "stdout",
     "output_type": "stream",
     "text": [
      "Model Saved on  roc_auc 0.7990913305516921\n"
     ]
    },
    {
     "data": {
      "application/vnd.jupyter.widget-view+json": {
       "model_id": "4975b80973e54a95ab0382b79de360d7",
       "version_major": 2,
       "version_minor": 0
      },
      "text/plain": [
       "HBox(children=(IntProgress(value=0, max=115), HTML(value='')))"
      ]
     },
     "metadata": {},
     "output_type": "display_data"
    },
    {
     "data": {
      "application/vnd.jupyter.widget-view+json": {
       "model_id": "d4fd6a5a2ab94bdaa67e73f3b1f15a2d",
       "version_major": 2,
       "version_minor": 0
      },
      "text/plain": [
       "HBox(children=(IntProgress(value=0, max=25), HTML(value='')))"
      ]
     },
     "metadata": {},
     "output_type": "display_data"
    },
    {
     "name": "stdout",
     "output_type": "stream",
     "text": [
      "{'accuracy': 0.8400503778337531, 'roc_auc': 0.7983310152990265, 'pr_auc': 0.39521809034600286}\n"
     ]
    },
    {
     "data": {
      "text/html": [
       "<div>\n",
       "<style scoped>\n",
       "    .dataframe tbody tr th:only-of-type {\n",
       "        vertical-align: middle;\n",
       "    }\n",
       "\n",
       "    .dataframe tbody tr th {\n",
       "        vertical-align: top;\n",
       "    }\n",
       "\n",
       "    .dataframe thead th {\n",
       "        text-align: right;\n",
       "    }\n",
       "</style>\n",
       "<table border=\"1\" class=\"dataframe\">\n",
       "  <thead>\n",
       "    <tr style=\"text-align: right;\">\n",
       "      <th></th>\n",
       "      <th>0.0</th>\n",
       "      <th>1.0</th>\n",
       "      <th>micro avg</th>\n",
       "      <th>macro avg</th>\n",
       "      <th>weighted avg</th>\n",
       "    </tr>\n",
       "  </thead>\n",
       "  <tbody>\n",
       "    <tr>\n",
       "      <th>f1-score</th>\n",
       "      <td>0.907</td>\n",
       "      <td>0.420</td>\n",
       "      <td>0.84</td>\n",
       "      <td>0.664</td>\n",
       "      <td>0.861</td>\n",
       "    </tr>\n",
       "    <tr>\n",
       "      <th>precision</th>\n",
       "      <td>0.955</td>\n",
       "      <td>0.319</td>\n",
       "      <td>0.84</td>\n",
       "      <td>0.637</td>\n",
       "      <td>0.895</td>\n",
       "    </tr>\n",
       "    <tr>\n",
       "      <th>recall</th>\n",
       "      <td>0.864</td>\n",
       "      <td>0.613</td>\n",
       "      <td>0.84</td>\n",
       "      <td>0.739</td>\n",
       "      <td>0.840</td>\n",
       "    </tr>\n",
       "    <tr>\n",
       "      <th>support</th>\n",
       "      <td>719.000</td>\n",
       "      <td>75.000</td>\n",
       "      <td>794.00</td>\n",
       "      <td>794.000</td>\n",
       "      <td>794.000</td>\n",
       "    </tr>\n",
       "  </tbody>\n",
       "</table>\n",
       "</div>"
      ],
      "text/plain": [
       "               0.0     1.0  micro avg  macro avg  weighted avg\n",
       "f1-score     0.907   0.420       0.84      0.664         0.861\n",
       "precision    0.955   0.319       0.84      0.637         0.895\n",
       "recall       0.864   0.613       0.84      0.739         0.840\n",
       "support    719.000  75.000     794.00    794.000       794.000"
      ]
     },
     "metadata": {},
     "output_type": "display_data"
    },
    {
     "name": "stdout",
     "output_type": "stream",
     "text": [
      "Model not saved on  roc_auc 0.7983310152990265\n"
     ]
    },
    {
     "data": {
      "application/vnd.jupyter.widget-view+json": {
       "model_id": "de32a4d4aecc46d3b190ae5cc87299ab",
       "version_major": 2,
       "version_minor": 0
      },
      "text/plain": [
       "HBox(children=(IntProgress(value=0, max=115), HTML(value='')))"
      ]
     },
     "metadata": {},
     "output_type": "display_data"
    },
    {
     "data": {
      "application/vnd.jupyter.widget-view+json": {
       "model_id": "962cffc5d56844bda7868ef546401253",
       "version_major": 2,
       "version_minor": 0
      },
      "text/plain": [
       "HBox(children=(IntProgress(value=0, max=25), HTML(value='')))"
      ]
     },
     "metadata": {},
     "output_type": "display_data"
    },
    {
     "name": "stdout",
     "output_type": "stream",
     "text": [
      "{'accuracy': 0.8438287153652393, 'roc_auc': 0.7897635605006955, 'pr_auc': 0.40349311228483126}\n"
     ]
    },
    {
     "data": {
      "text/html": [
       "<div>\n",
       "<style scoped>\n",
       "    .dataframe tbody tr th:only-of-type {\n",
       "        vertical-align: middle;\n",
       "    }\n",
       "\n",
       "    .dataframe tbody tr th {\n",
       "        vertical-align: top;\n",
       "    }\n",
       "\n",
       "    .dataframe thead th {\n",
       "        text-align: right;\n",
       "    }\n",
       "</style>\n",
       "<table border=\"1\" class=\"dataframe\">\n",
       "  <thead>\n",
       "    <tr style=\"text-align: right;\">\n",
       "      <th></th>\n",
       "      <th>0.0</th>\n",
       "      <th>1.0</th>\n",
       "      <th>micro avg</th>\n",
       "      <th>macro avg</th>\n",
       "      <th>weighted avg</th>\n",
       "    </tr>\n",
       "  </thead>\n",
       "  <tbody>\n",
       "    <tr>\n",
       "      <th>f1-score</th>\n",
       "      <td>0.910</td>\n",
       "      <td>0.398</td>\n",
       "      <td>0.844</td>\n",
       "      <td>0.654</td>\n",
       "      <td>0.862</td>\n",
       "    </tr>\n",
       "    <tr>\n",
       "      <th>precision</th>\n",
       "      <td>0.949</td>\n",
       "      <td>0.313</td>\n",
       "      <td>0.844</td>\n",
       "      <td>0.631</td>\n",
       "      <td>0.889</td>\n",
       "    </tr>\n",
       "    <tr>\n",
       "      <th>recall</th>\n",
       "      <td>0.875</td>\n",
       "      <td>0.547</td>\n",
       "      <td>0.844</td>\n",
       "      <td>0.711</td>\n",
       "      <td>0.844</td>\n",
       "    </tr>\n",
       "    <tr>\n",
       "      <th>support</th>\n",
       "      <td>719.000</td>\n",
       "      <td>75.000</td>\n",
       "      <td>794.000</td>\n",
       "      <td>794.000</td>\n",
       "      <td>794.000</td>\n",
       "    </tr>\n",
       "  </tbody>\n",
       "</table>\n",
       "</div>"
      ],
      "text/plain": [
       "               0.0     1.0  micro avg  macro avg  weighted avg\n",
       "f1-score     0.910   0.398      0.844      0.654         0.862\n",
       "precision    0.949   0.313      0.844      0.631         0.889\n",
       "recall       0.875   0.547      0.844      0.711         0.844\n",
       "support    719.000  75.000    794.000    794.000       794.000"
      ]
     },
     "metadata": {},
     "output_type": "display_data"
    },
    {
     "name": "stdout",
     "output_type": "stream",
     "text": [
      "Model not saved on  roc_auc 0.7897635605006955\n"
     ]
    },
    {
     "data": {
      "application/vnd.jupyter.widget-view+json": {
       "model_id": "387464c1676e4b0dbffd0b51418e97b9",
       "version_major": 2,
       "version_minor": 0
      },
      "text/plain": [
       "HBox(children=(IntProgress(value=0, max=115), HTML(value='')))"
      ]
     },
     "metadata": {},
     "output_type": "display_data"
    },
    {
     "data": {
      "application/vnd.jupyter.widget-view+json": {
       "model_id": "aa54cbf6955e44deb8c3564dbb8e2b83",
       "version_major": 2,
       "version_minor": 0
      },
      "text/plain": [
       "HBox(children=(IntProgress(value=0, max=25), HTML(value='')))"
      ]
     },
     "metadata": {},
     "output_type": "display_data"
    },
    {
     "name": "stdout",
     "output_type": "stream",
     "text": [
      "{'accuracy': 0.6788413098236776, 'roc_auc': 0.7720908669448308, 'pr_auc': 0.3842515593207023}\n"
     ]
    },
    {
     "data": {
      "text/html": [
       "<div>\n",
       "<style scoped>\n",
       "    .dataframe tbody tr th:only-of-type {\n",
       "        vertical-align: middle;\n",
       "    }\n",
       "\n",
       "    .dataframe tbody tr th {\n",
       "        vertical-align: top;\n",
       "    }\n",
       "\n",
       "    .dataframe thead th {\n",
       "        text-align: right;\n",
       "    }\n",
       "</style>\n",
       "<table border=\"1\" class=\"dataframe\">\n",
       "  <thead>\n",
       "    <tr style=\"text-align: right;\">\n",
       "      <th></th>\n",
       "      <th>0.0</th>\n",
       "      <th>1.0</th>\n",
       "      <th>micro avg</th>\n",
       "      <th>macro avg</th>\n",
       "      <th>weighted avg</th>\n",
       "    </tr>\n",
       "  </thead>\n",
       "  <tbody>\n",
       "    <tr>\n",
       "      <th>f1-score</th>\n",
       "      <td>0.792</td>\n",
       "      <td>0.294</td>\n",
       "      <td>0.679</td>\n",
       "      <td>0.543</td>\n",
       "      <td>0.745</td>\n",
       "    </tr>\n",
       "    <tr>\n",
       "      <th>precision</th>\n",
       "      <td>0.957</td>\n",
       "      <td>0.185</td>\n",
       "      <td>0.679</td>\n",
       "      <td>0.571</td>\n",
       "      <td>0.884</td>\n",
       "    </tr>\n",
       "    <tr>\n",
       "      <th>recall</th>\n",
       "      <td>0.676</td>\n",
       "      <td>0.707</td>\n",
       "      <td>0.679</td>\n",
       "      <td>0.691</td>\n",
       "      <td>0.679</td>\n",
       "    </tr>\n",
       "    <tr>\n",
       "      <th>support</th>\n",
       "      <td>719.000</td>\n",
       "      <td>75.000</td>\n",
       "      <td>794.000</td>\n",
       "      <td>794.000</td>\n",
       "      <td>794.000</td>\n",
       "    </tr>\n",
       "  </tbody>\n",
       "</table>\n",
       "</div>"
      ],
      "text/plain": [
       "               0.0     1.0  micro avg  macro avg  weighted avg\n",
       "f1-score     0.792   0.294      0.679      0.543         0.745\n",
       "precision    0.957   0.185      0.679      0.571         0.884\n",
       "recall       0.676   0.707      0.679      0.691         0.679\n",
       "support    719.000  75.000    794.000    794.000       794.000"
      ]
     },
     "metadata": {},
     "output_type": "display_data"
    },
    {
     "name": "stdout",
     "output_type": "stream",
     "text": [
      "Model not saved on  roc_auc 0.7720908669448308\n"
     ]
    },
    {
     "data": {
      "application/vnd.jupyter.widget-view+json": {
       "model_id": "95e9a9ba49694811b1741bf25fd48c73",
       "version_major": 2,
       "version_minor": 0
      },
      "text/plain": [
       "HBox(children=(IntProgress(value=0, max=115), HTML(value='')))"
      ]
     },
     "metadata": {},
     "output_type": "display_data"
    },
    {
     "data": {
      "application/vnd.jupyter.widget-view+json": {
       "model_id": "ac19da47c4c344ed863561b8b236d882",
       "version_major": 2,
       "version_minor": 0
      },
      "text/plain": [
       "HBox(children=(IntProgress(value=0, max=25), HTML(value='')))"
      ]
     },
     "metadata": {},
     "output_type": "display_data"
    },
    {
     "name": "stdout",
     "output_type": "stream",
     "text": [
      "{'accuracy': 0.8387909319899244, 'roc_auc': 0.7505424200278165, 'pr_auc': 0.3712897202081926}\n"
     ]
    },
    {
     "data": {
      "text/html": [
       "<div>\n",
       "<style scoped>\n",
       "    .dataframe tbody tr th:only-of-type {\n",
       "        vertical-align: middle;\n",
       "    }\n",
       "\n",
       "    .dataframe tbody tr th {\n",
       "        vertical-align: top;\n",
       "    }\n",
       "\n",
       "    .dataframe thead th {\n",
       "        text-align: right;\n",
       "    }\n",
       "</style>\n",
       "<table border=\"1\" class=\"dataframe\">\n",
       "  <thead>\n",
       "    <tr style=\"text-align: right;\">\n",
       "      <th></th>\n",
       "      <th>0.0</th>\n",
       "      <th>1.0</th>\n",
       "      <th>micro avg</th>\n",
       "      <th>macro avg</th>\n",
       "      <th>weighted avg</th>\n",
       "    </tr>\n",
       "  </thead>\n",
       "  <tbody>\n",
       "    <tr>\n",
       "      <th>f1-score</th>\n",
       "      <td>0.907</td>\n",
       "      <td>0.379</td>\n",
       "      <td>0.839</td>\n",
       "      <td>0.643</td>\n",
       "      <td>0.857</td>\n",
       "    </tr>\n",
       "    <tr>\n",
       "      <th>precision</th>\n",
       "      <td>0.946</td>\n",
       "      <td>0.298</td>\n",
       "      <td>0.839</td>\n",
       "      <td>0.622</td>\n",
       "      <td>0.884</td>\n",
       "    </tr>\n",
       "    <tr>\n",
       "      <th>recall</th>\n",
       "      <td>0.872</td>\n",
       "      <td>0.520</td>\n",
       "      <td>0.839</td>\n",
       "      <td>0.696</td>\n",
       "      <td>0.839</td>\n",
       "    </tr>\n",
       "    <tr>\n",
       "      <th>support</th>\n",
       "      <td>719.000</td>\n",
       "      <td>75.000</td>\n",
       "      <td>794.000</td>\n",
       "      <td>794.000</td>\n",
       "      <td>794.000</td>\n",
       "    </tr>\n",
       "  </tbody>\n",
       "</table>\n",
       "</div>"
      ],
      "text/plain": [
       "               0.0     1.0  micro avg  macro avg  weighted avg\n",
       "f1-score     0.907   0.379      0.839      0.643         0.857\n",
       "precision    0.946   0.298      0.839      0.622         0.884\n",
       "recall       0.872   0.520      0.839      0.696         0.839\n",
       "support    719.000  75.000    794.000    794.000       794.000"
      ]
     },
     "metadata": {},
     "output_type": "display_data"
    },
    {
     "name": "stdout",
     "output_type": "stream",
     "text": [
      "Model not saved on  roc_auc 0.7505424200278165\n"
     ]
    },
    {
     "data": {
      "application/vnd.jupyter.widget-view+json": {
       "model_id": "a78ae421b6424e20a8992745d305de73",
       "version_major": 2,
       "version_minor": 0
      },
      "text/plain": [
       "HBox(children=(IntProgress(value=0, max=115), HTML(value='')))"
      ]
     },
     "metadata": {},
     "output_type": "display_data"
    },
    {
     "data": {
      "application/vnd.jupyter.widget-view+json": {
       "model_id": "f77cdecac4fc4c74806351a1d024b618",
       "version_major": 2,
       "version_minor": 0
      },
      "text/plain": [
       "HBox(children=(IntProgress(value=0, max=25), HTML(value='')))"
      ]
     },
     "metadata": {},
     "output_type": "display_data"
    },
    {
     "name": "stdout",
     "output_type": "stream",
     "text": [
      "{'accuracy': 0.809823677581864, 'roc_auc': 0.7299026425591099, 'pr_auc': 0.35375495027619985}\n"
     ]
    },
    {
     "data": {
      "text/html": [
       "<div>\n",
       "<style scoped>\n",
       "    .dataframe tbody tr th:only-of-type {\n",
       "        vertical-align: middle;\n",
       "    }\n",
       "\n",
       "    .dataframe tbody tr th {\n",
       "        vertical-align: top;\n",
       "    }\n",
       "\n",
       "    .dataframe thead th {\n",
       "        text-align: right;\n",
       "    }\n",
       "</style>\n",
       "<table border=\"1\" class=\"dataframe\">\n",
       "  <thead>\n",
       "    <tr style=\"text-align: right;\">\n",
       "      <th></th>\n",
       "      <th>0.0</th>\n",
       "      <th>1.0</th>\n",
       "      <th>micro avg</th>\n",
       "      <th>macro avg</th>\n",
       "      <th>weighted avg</th>\n",
       "    </tr>\n",
       "  </thead>\n",
       "  <tbody>\n",
       "    <tr>\n",
       "      <th>f1-score</th>\n",
       "      <td>0.889</td>\n",
       "      <td>0.352</td>\n",
       "      <td>0.81</td>\n",
       "      <td>0.620</td>\n",
       "      <td>0.838</td>\n",
       "    </tr>\n",
       "    <tr>\n",
       "      <th>precision</th>\n",
       "      <td>0.947</td>\n",
       "      <td>0.259</td>\n",
       "      <td>0.81</td>\n",
       "      <td>0.603</td>\n",
       "      <td>0.882</td>\n",
       "    </tr>\n",
       "    <tr>\n",
       "      <th>recall</th>\n",
       "      <td>0.837</td>\n",
       "      <td>0.547</td>\n",
       "      <td>0.81</td>\n",
       "      <td>0.692</td>\n",
       "      <td>0.810</td>\n",
       "    </tr>\n",
       "    <tr>\n",
       "      <th>support</th>\n",
       "      <td>719.000</td>\n",
       "      <td>75.000</td>\n",
       "      <td>794.00</td>\n",
       "      <td>794.000</td>\n",
       "      <td>794.000</td>\n",
       "    </tr>\n",
       "  </tbody>\n",
       "</table>\n",
       "</div>"
      ],
      "text/plain": [
       "               0.0     1.0  micro avg  macro avg  weighted avg\n",
       "f1-score     0.889   0.352       0.81      0.620         0.838\n",
       "precision    0.947   0.259       0.81      0.603         0.882\n",
       "recall       0.837   0.547       0.81      0.692         0.810\n",
       "support    719.000  75.000     794.00    794.000       794.000"
      ]
     },
     "metadata": {},
     "output_type": "display_data"
    },
    {
     "name": "stderr",
     "output_type": "stream",
     "text": [
      "INFO - 2019-04-01 16:19:25,151 - instantiating class <class 'Transparency.model.modules.Encoder.Encoder'> from params {'vocab_size': 10842, 'embed_size': 200, 'kernel_sizes': [1, 3, 5, 7], 'hidden_size': 64, 'activation': 'relu', 'type': 'cnn', 'pre_embed': None} and extras {}\n",
      "INFO - 2019-04-01 16:19:25,151 - type = cnn\n",
      "INFO - 2019-04-01 16:19:25,152 - instantiating class <class 'Transparency.model.modules.Encoder.EncoderCNN'> from params {'vocab_size': 10842, 'embed_size': 200, 'kernel_sizes': [1, 3, 5, 7], 'hidden_size': 64, 'activation': 'relu', 'pre_embed': None} and extras {}\n",
      "INFO - 2019-04-01 16:19:25,152 - vocab_size = 10842\n",
      "INFO - 2019-04-01 16:19:25,152 - embed_size = 200\n",
      "INFO - 2019-04-01 16:19:25,153 - hidden_size = 64\n",
      "INFO - 2019-04-01 16:19:25,153 - kernel_sizes = [1, 3, 5, 7]\n",
      "INFO - 2019-04-01 16:19:25,153 - activation = relu\n",
      "INFO - 2019-04-01 16:19:25,154 - pre_embed = None\n",
      "INFO - 2019-04-01 16:19:25,168 - instantiating class <class 'Transparency.model.modules.Decoder.AttnDecoder'> from params {'attention': {'type': 'dot'}, 'output_size': 1, 'hidden_size': 256} and extras {}\n",
      "INFO - 2019-04-01 16:19:25,169 - hidden_size = 256\n",
      "INFO - 2019-04-01 16:19:25,169 - output_size = 1\n",
      "INFO - 2019-04-01 16:19:25,170 - use_attention = True\n",
      "INFO - 2019-04-01 16:19:25,170 - regularizer_attention = None\n",
      "INFO - 2019-04-01 16:19:25,171 - instantiating class <class 'Transparency.model.modules.Attention.Attention'> from params <allennlp.common.params.Params object at 0x7f361559edd8> and extras {}\n",
      "INFO - 2019-04-01 16:19:25,171 - attention.type = dot\n",
      "INFO - 2019-04-01 16:19:25,172 - type = dot\n",
      "INFO - 2019-04-01 16:19:25,172 - instantiating class <class 'Transparency.model.modules.Attention.DotAttention'> from params <allennlp.common.params.Params object at 0x7f361559edd8> and extras {}\n",
      "INFO - 2019-04-01 16:19:25,173 - attention.hidden_size = 256\n",
      "INFO - 2019-04-01 16:19:25,173 - hidden_size = 256\n"
     ]
    },
    {
     "name": "stdout",
     "output_type": "stream",
     "text": [
      "Model not saved on  roc_auc 0.7299026425591099\n",
      "\n"
     ]
    },
    {
     "data": {
      "application/vnd.jupyter.widget-view+json": {
       "model_id": "cb5d68b614cf483eaf7294e4f97853ba",
       "version_major": 2,
       "version_minor": 0
      },
      "text/plain": [
       "HBox(children=(IntProgress(value=0, max=25), HTML(value='')))"
      ]
     },
     "metadata": {},
     "output_type": "display_data"
    },
    {
     "name": "stdout",
     "output_type": "stream",
     "text": [
      "\n",
      "{'accuracy': 0.7317380352644837, 'roc_auc': 0.7990913305516921, 'pr_auc': 0.38658314302035807}\n"
     ]
    },
    {
     "data": {
      "text/html": [
       "<div>\n",
       "<style scoped>\n",
       "    .dataframe tbody tr th:only-of-type {\n",
       "        vertical-align: middle;\n",
       "    }\n",
       "\n",
       "    .dataframe tbody tr th {\n",
       "        vertical-align: top;\n",
       "    }\n",
       "\n",
       "    .dataframe thead th {\n",
       "        text-align: right;\n",
       "    }\n",
       "</style>\n",
       "<table border=\"1\" class=\"dataframe\">\n",
       "  <thead>\n",
       "    <tr style=\"text-align: right;\">\n",
       "      <th></th>\n",
       "      <th>0.0</th>\n",
       "      <th>1.0</th>\n",
       "      <th>micro avg</th>\n",
       "      <th>macro avg</th>\n",
       "      <th>weighted avg</th>\n",
       "    </tr>\n",
       "  </thead>\n",
       "  <tbody>\n",
       "    <tr>\n",
       "      <th>f1-score</th>\n",
       "      <td>0.832</td>\n",
       "      <td>0.341</td>\n",
       "      <td>0.732</td>\n",
       "      <td>0.586</td>\n",
       "      <td>0.785</td>\n",
       "    </tr>\n",
       "    <tr>\n",
       "      <th>precision</th>\n",
       "      <td>0.963</td>\n",
       "      <td>0.222</td>\n",
       "      <td>0.732</td>\n",
       "      <td>0.593</td>\n",
       "      <td>0.893</td>\n",
       "    </tr>\n",
       "    <tr>\n",
       "      <th>recall</th>\n",
       "      <td>0.732</td>\n",
       "      <td>0.733</td>\n",
       "      <td>0.732</td>\n",
       "      <td>0.732</td>\n",
       "      <td>0.732</td>\n",
       "    </tr>\n",
       "    <tr>\n",
       "      <th>support</th>\n",
       "      <td>719.000</td>\n",
       "      <td>75.000</td>\n",
       "      <td>794.000</td>\n",
       "      <td>794.000</td>\n",
       "      <td>794.000</td>\n",
       "    </tr>\n",
       "  </tbody>\n",
       "</table>\n",
       "</div>"
      ],
      "text/plain": [
       "               0.0     1.0  micro avg  macro avg  weighted avg\n",
       "f1-score     0.832   0.341      0.732      0.586         0.785\n",
       "precision    0.963   0.222      0.732      0.593         0.893\n",
       "recall       0.732   0.733      0.732      0.732         0.732\n",
       "support    719.000  75.000    794.000    794.000       794.000"
      ]
     },
     "metadata": {},
     "output_type": "display_data"
    },
    {
     "name": "stderr",
     "output_type": "stream",
     "text": [
      "/home/sarthak/anaconda3/lib/python3.7/site-packages/allennlp/common/params.py:512: FutureWarning: elementwise comparison failed; returning scalar instead, but in the future will perform elementwise comparison\n",
      "  if dictionary[key] == \"None\":\n",
      "INFO - 2019-04-01 16:19:26,069 - instantiating class <class 'Transparency.model.modules.Encoder.Encoder'> from params {'vocab_size': 10842, 'embed_size': 200, 'projection': True, 'hidden_size': 128, 'activation': 'tanh', 'type': 'average', 'pre_embed': array([[ 0.        ,  0.        ,  0.        , ...,  0.        ,\n",
      "         0.        ,  0.        ],\n",
      "       [-1.01110077, -0.10963009, -0.12135973, ...,  1.417561  ,\n",
      "         0.22239438, -0.95637527],\n",
      "       [-0.3252375 ,  0.76675387,  0.07743983, ...,  0.71469843,\n",
      "         1.65814695,  1.02895811],\n",
      "       ...,\n",
      "       [-0.9131118 ,  0.65445782, -1.75380741, ..., -1.32082687,\n",
      "         1.96610137,  0.21530122],\n",
      "       [ 0.23878147, -0.24995086, -0.76743705, ...,  0.08109977,\n",
      "        -2.09821721,  1.13257865],\n",
      "       [ 0.21334752,  1.16793904, -0.49893868, ..., -0.49181569,\n",
      "        -0.49463947,  0.03485374]])} and extras {}\n",
      "INFO - 2019-04-01 16:19:26,069 - type = average\n",
      "INFO - 2019-04-01 16:19:26,070 - instantiating class <class 'Transparency.model.modules.Encoder.EncoderAverage'> from params {'vocab_size': 10842, 'embed_size': 200, 'projection': True, 'hidden_size': 128, 'activation': 'tanh', 'pre_embed': array([[ 0.        ,  0.        ,  0.        , ...,  0.        ,\n",
      "         0.        ,  0.        ],\n",
      "       [-1.01110077, -0.10963009, -0.12135973, ...,  1.417561  ,\n",
      "         0.22239438, -0.95637527],\n",
      "       [-0.3252375 ,  0.76675387,  0.07743983, ...,  0.71469843,\n",
      "         1.65814695,  1.02895811],\n",
      "       ...,\n",
      "       [-0.9131118 ,  0.65445782, -1.75380741, ..., -1.32082687,\n",
      "         1.96610137,  0.21530122],\n",
      "       [ 0.23878147, -0.24995086, -0.76743705, ...,  0.08109977,\n",
      "        -2.09821721,  1.13257865],\n",
      "       [ 0.21334752,  1.16793904, -0.49893868, ..., -0.49181569,\n",
      "        -0.49463947,  0.03485374]])} and extras {}\n",
      "INFO - 2019-04-01 16:19:26,070 - vocab_size = 10842\n",
      "INFO - 2019-04-01 16:19:26,071 - embed_size = 200\n",
      "INFO - 2019-04-01 16:19:26,071 - projection = True\n",
      "INFO - 2019-04-01 16:19:26,071 - hidden_size = 128\n",
      "INFO - 2019-04-01 16:19:26,072 - activation = tanh\n",
      "INFO - 2019-04-01 16:19:26,073 - pre_embed = [[ 0.          0.          0.         ...  0.          0.\n",
      "   0.        ]\n",
      " [-1.01110077 -0.10963009 -0.12135973 ...  1.417561    0.22239438\n",
      "  -0.95637527]\n",
      " [-0.3252375   0.76675387  0.07743983 ...  0.71469843  1.65814695\n",
      "   1.02895811]\n",
      " ...\n",
      " [-0.9131118   0.65445782 -1.75380741 ... -1.32082687  1.96610137\n",
      "   0.21530122]\n",
      " [ 0.23878147 -0.24995086 -0.76743705 ...  0.08109977 -2.09821721\n",
      "   1.13257865]\n",
      " [ 0.21334752  1.16793904 -0.49893868 ... -0.49181569 -0.49463947\n",
      "   0.03485374]]\n",
      "INFO - 2019-04-01 16:19:26,078 - instantiating class <class 'Transparency.model.modules.Decoder.AttnDecoder'> from params {'attention': {'type': 'dot'}, 'output_size': 1, 'hidden_size': 128} and extras {}\n",
      "INFO - 2019-04-01 16:19:26,078 - hidden_size = 128\n",
      "INFO - 2019-04-01 16:19:26,079 - output_size = 1\n",
      "INFO - 2019-04-01 16:19:26,079 - use_attention = True\n",
      "INFO - 2019-04-01 16:19:26,079 - regularizer_attention = None\n",
      "INFO - 2019-04-01 16:19:26,080 - instantiating class <class 'Transparency.model.modules.Attention.Attention'> from params <allennlp.common.params.Params object at 0x7f35c2d5f8d0> and extras {}\n",
      "INFO - 2019-04-01 16:19:26,080 - attention.type = dot\n",
      "INFO - 2019-04-01 16:19:26,081 - type = dot\n",
      "INFO - 2019-04-01 16:19:26,081 - instantiating class <class 'Transparency.model.modules.Attention.DotAttention'> from params <allennlp.common.params.Params object at 0x7f35c2d5f8d0> and extras {}\n",
      "INFO - 2019-04-01 16:19:26,082 - attention.hidden_size = 128\n",
      "INFO - 2019-04-01 16:19:26,082 - hidden_size = 128\n"
     ]
    },
    {
     "name": "stdout",
     "output_type": "stream",
     "text": [
      "Setting Embedding\n"
     ]
    },
    {
     "data": {
      "application/vnd.jupyter.widget-view+json": {
       "model_id": "0728e612c14545d8847b8e11433c6544",
       "version_major": 2,
       "version_minor": 0
      },
      "text/plain": [
       "HBox(children=(IntProgress(value=0, max=8), HTML(value='')))"
      ]
     },
     "metadata": {},
     "output_type": "display_data"
    },
    {
     "data": {
      "application/vnd.jupyter.widget-view+json": {
       "model_id": "c93f45e5543a4d60bb42bb0aea479878",
       "version_major": 2,
       "version_minor": 0
      },
      "text/plain": [
       "HBox(children=(IntProgress(value=0, max=115), HTML(value='')))"
      ]
     },
     "metadata": {},
     "output_type": "display_data"
    },
    {
     "data": {
      "application/vnd.jupyter.widget-view+json": {
       "model_id": "09160ca0628a4ccb99b9565237ca229c",
       "version_major": 2,
       "version_minor": 0
      },
      "text/plain": [
       "HBox(children=(IntProgress(value=0, max=25), HTML(value='')))"
      ]
     },
     "metadata": {},
     "output_type": "display_data"
    },
    {
     "name": "stdout",
     "output_type": "stream",
     "text": [
      "{'accuracy': 0.3765743073047859, 'roc_auc': 0.6799258229021791, 'pr_auc': 0.18589406115303675}\n"
     ]
    },
    {
     "data": {
      "text/html": [
       "<div>\n",
       "<style scoped>\n",
       "    .dataframe tbody tr th:only-of-type {\n",
       "        vertical-align: middle;\n",
       "    }\n",
       "\n",
       "    .dataframe tbody tr th {\n",
       "        vertical-align: top;\n",
       "    }\n",
       "\n",
       "    .dataframe thead th {\n",
       "        text-align: right;\n",
       "    }\n",
       "</style>\n",
       "<table border=\"1\" class=\"dataframe\">\n",
       "  <thead>\n",
       "    <tr style=\"text-align: right;\">\n",
       "      <th></th>\n",
       "      <th>0.0</th>\n",
       "      <th>1.0</th>\n",
       "      <th>micro avg</th>\n",
       "      <th>macro avg</th>\n",
       "      <th>weighted avg</th>\n",
       "    </tr>\n",
       "  </thead>\n",
       "  <tbody>\n",
       "    <tr>\n",
       "      <th>f1-score</th>\n",
       "      <td>0.483</td>\n",
       "      <td>0.216</td>\n",
       "      <td>0.377</td>\n",
       "      <td>0.349</td>\n",
       "      <td>0.458</td>\n",
       "    </tr>\n",
       "    <tr>\n",
       "      <th>precision</th>\n",
       "      <td>0.971</td>\n",
       "      <td>0.122</td>\n",
       "      <td>0.377</td>\n",
       "      <td>0.546</td>\n",
       "      <td>0.890</td>\n",
       "    </tr>\n",
       "    <tr>\n",
       "      <th>recall</th>\n",
       "      <td>0.321</td>\n",
       "      <td>0.907</td>\n",
       "      <td>0.377</td>\n",
       "      <td>0.614</td>\n",
       "      <td>0.377</td>\n",
       "    </tr>\n",
       "    <tr>\n",
       "      <th>support</th>\n",
       "      <td>719.000</td>\n",
       "      <td>75.000</td>\n",
       "      <td>794.000</td>\n",
       "      <td>794.000</td>\n",
       "      <td>794.000</td>\n",
       "    </tr>\n",
       "  </tbody>\n",
       "</table>\n",
       "</div>"
      ],
      "text/plain": [
       "               0.0     1.0  micro avg  macro avg  weighted avg\n",
       "f1-score     0.483   0.216      0.377      0.349         0.458\n",
       "precision    0.971   0.122      0.377      0.546         0.890\n",
       "recall       0.321   0.907      0.377      0.614         0.377\n",
       "support    719.000  75.000    794.000    794.000       794.000"
      ]
     },
     "metadata": {},
     "output_type": "display_data"
    },
    {
     "name": "stdout",
     "output_type": "stream",
     "text": [
      "Model not saved on  roc_auc 0.6799258229021791\n"
     ]
    },
    {
     "data": {
      "application/vnd.jupyter.widget-view+json": {
       "model_id": "b5e2d5012c884dea979b44f418bf494b",
       "version_major": 2,
       "version_minor": 0
      },
      "text/plain": [
       "HBox(children=(IntProgress(value=0, max=115), HTML(value='')))"
      ]
     },
     "metadata": {},
     "output_type": "display_data"
    },
    {
     "data": {
      "application/vnd.jupyter.widget-view+json": {
       "model_id": "bd39d65567af40e5ba18cac242c813a3",
       "version_major": 2,
       "version_minor": 0
      },
      "text/plain": [
       "HBox(children=(IntProgress(value=0, max=25), HTML(value='')))"
      ]
     },
     "metadata": {},
     "output_type": "display_data"
    },
    {
     "name": "stdout",
     "output_type": "stream",
     "text": [
      "{'accuracy': 0.5088161209068011, 'roc_auc': 0.7437552155771905, 'pr_auc': 0.2591760679132005}\n"
     ]
    },
    {
     "data": {
      "text/html": [
       "<div>\n",
       "<style scoped>\n",
       "    .dataframe tbody tr th:only-of-type {\n",
       "        vertical-align: middle;\n",
       "    }\n",
       "\n",
       "    .dataframe tbody tr th {\n",
       "        vertical-align: top;\n",
       "    }\n",
       "\n",
       "    .dataframe thead th {\n",
       "        text-align: right;\n",
       "    }\n",
       "</style>\n",
       "<table border=\"1\" class=\"dataframe\">\n",
       "  <thead>\n",
       "    <tr style=\"text-align: right;\">\n",
       "      <th></th>\n",
       "      <th>0.0</th>\n",
       "      <th>1.0</th>\n",
       "      <th>micro avg</th>\n",
       "      <th>macro avg</th>\n",
       "      <th>weighted avg</th>\n",
       "    </tr>\n",
       "  </thead>\n",
       "  <tbody>\n",
       "    <tr>\n",
       "      <th>f1-score</th>\n",
       "      <td>0.638</td>\n",
       "      <td>0.238</td>\n",
       "      <td>0.509</td>\n",
       "      <td>0.438</td>\n",
       "      <td>0.600</td>\n",
       "    </tr>\n",
       "    <tr>\n",
       "      <th>precision</th>\n",
       "      <td>0.961</td>\n",
       "      <td>0.140</td>\n",
       "      <td>0.509</td>\n",
       "      <td>0.550</td>\n",
       "      <td>0.883</td>\n",
       "    </tr>\n",
       "    <tr>\n",
       "      <th>recall</th>\n",
       "      <td>0.477</td>\n",
       "      <td>0.813</td>\n",
       "      <td>0.509</td>\n",
       "      <td>0.645</td>\n",
       "      <td>0.509</td>\n",
       "    </tr>\n",
       "    <tr>\n",
       "      <th>support</th>\n",
       "      <td>719.000</td>\n",
       "      <td>75.000</td>\n",
       "      <td>794.000</td>\n",
       "      <td>794.000</td>\n",
       "      <td>794.000</td>\n",
       "    </tr>\n",
       "  </tbody>\n",
       "</table>\n",
       "</div>"
      ],
      "text/plain": [
       "               0.0     1.0  micro avg  macro avg  weighted avg\n",
       "f1-score     0.638   0.238      0.509      0.438         0.600\n",
       "precision    0.961   0.140      0.509      0.550         0.883\n",
       "recall       0.477   0.813      0.509      0.645         0.509\n",
       "support    719.000  75.000    794.000    794.000       794.000"
      ]
     },
     "metadata": {},
     "output_type": "display_data"
    },
    {
     "name": "stdout",
     "output_type": "stream",
     "text": [
      "Model Saved on  roc_auc 0.7437552155771905\n"
     ]
    },
    {
     "data": {
      "application/vnd.jupyter.widget-view+json": {
       "model_id": "fc75d031b1044e7bbc2333fdb6f04fae",
       "version_major": 2,
       "version_minor": 0
      },
      "text/plain": [
       "HBox(children=(IntProgress(value=0, max=115), HTML(value='')))"
      ]
     },
     "metadata": {},
     "output_type": "display_data"
    },
    {
     "data": {
      "application/vnd.jupyter.widget-view+json": {
       "model_id": "b9d526bf7fc64e5691ff49e55b1608d0",
       "version_major": 2,
       "version_minor": 0
      },
      "text/plain": [
       "HBox(children=(IntProgress(value=0, max=25), HTML(value='')))"
      ]
     },
     "metadata": {},
     "output_type": "display_data"
    },
    {
     "name": "stdout",
     "output_type": "stream",
     "text": [
      "{'accuracy': 0.8148614609571788, 'roc_auc': 0.7670468242929995, 'pr_auc': 0.32077456255727915}\n"
     ]
    },
    {
     "data": {
      "text/html": [
       "<div>\n",
       "<style scoped>\n",
       "    .dataframe tbody tr th:only-of-type {\n",
       "        vertical-align: middle;\n",
       "    }\n",
       "\n",
       "    .dataframe tbody tr th {\n",
       "        vertical-align: top;\n",
       "    }\n",
       "\n",
       "    .dataframe thead th {\n",
       "        text-align: right;\n",
       "    }\n",
       "</style>\n",
       "<table border=\"1\" class=\"dataframe\">\n",
       "  <thead>\n",
       "    <tr style=\"text-align: right;\">\n",
       "      <th></th>\n",
       "      <th>0.0</th>\n",
       "      <th>1.0</th>\n",
       "      <th>micro avg</th>\n",
       "      <th>macro avg</th>\n",
       "      <th>weighted avg</th>\n",
       "    </tr>\n",
       "  </thead>\n",
       "  <tbody>\n",
       "    <tr>\n",
       "      <th>f1-score</th>\n",
       "      <td>0.891</td>\n",
       "      <td>0.374</td>\n",
       "      <td>0.815</td>\n",
       "      <td>0.633</td>\n",
       "      <td>0.843</td>\n",
       "    </tr>\n",
       "    <tr>\n",
       "      <th>precision</th>\n",
       "      <td>0.951</td>\n",
       "      <td>0.275</td>\n",
       "      <td>0.815</td>\n",
       "      <td>0.613</td>\n",
       "      <td>0.887</td>\n",
       "    </tr>\n",
       "    <tr>\n",
       "      <th>recall</th>\n",
       "      <td>0.839</td>\n",
       "      <td>0.587</td>\n",
       "      <td>0.815</td>\n",
       "      <td>0.713</td>\n",
       "      <td>0.815</td>\n",
       "    </tr>\n",
       "    <tr>\n",
       "      <th>support</th>\n",
       "      <td>719.000</td>\n",
       "      <td>75.000</td>\n",
       "      <td>794.000</td>\n",
       "      <td>794.000</td>\n",
       "      <td>794.000</td>\n",
       "    </tr>\n",
       "  </tbody>\n",
       "</table>\n",
       "</div>"
      ],
      "text/plain": [
       "               0.0     1.0  micro avg  macro avg  weighted avg\n",
       "f1-score     0.891   0.374      0.815      0.633         0.843\n",
       "precision    0.951   0.275      0.815      0.613         0.887\n",
       "recall       0.839   0.587      0.815      0.713         0.815\n",
       "support    719.000  75.000    794.000    794.000       794.000"
      ]
     },
     "metadata": {},
     "output_type": "display_data"
    },
    {
     "name": "stdout",
     "output_type": "stream",
     "text": [
      "Model Saved on  roc_auc 0.7670468242929995\n"
     ]
    },
    {
     "data": {
      "application/vnd.jupyter.widget-view+json": {
       "model_id": "94e04af313bb45639dbb467375d50a08",
       "version_major": 2,
       "version_minor": 0
      },
      "text/plain": [
       "HBox(children=(IntProgress(value=0, max=115), HTML(value='')))"
      ]
     },
     "metadata": {},
     "output_type": "display_data"
    },
    {
     "data": {
      "application/vnd.jupyter.widget-view+json": {
       "model_id": "516a5c2b997a4438bb71f1754c4803a4",
       "version_major": 2,
       "version_minor": 0
      },
      "text/plain": [
       "HBox(children=(IntProgress(value=0, max=25), HTML(value='')))"
      ]
     },
     "metadata": {},
     "output_type": "display_data"
    },
    {
     "name": "stdout",
     "output_type": "stream",
     "text": [
      "{'accuracy': 0.5730478589420654, 'roc_auc': 0.7908762169680111, 'pr_auc': 0.36543827232886744}\n"
     ]
    },
    {
     "data": {
      "text/html": [
       "<div>\n",
       "<style scoped>\n",
       "    .dataframe tbody tr th:only-of-type {\n",
       "        vertical-align: middle;\n",
       "    }\n",
       "\n",
       "    .dataframe tbody tr th {\n",
       "        vertical-align: top;\n",
       "    }\n",
       "\n",
       "    .dataframe thead th {\n",
       "        text-align: right;\n",
       "    }\n",
       "</style>\n",
       "<table border=\"1\" class=\"dataframe\">\n",
       "  <thead>\n",
       "    <tr style=\"text-align: right;\">\n",
       "      <th></th>\n",
       "      <th>0.0</th>\n",
       "      <th>1.0</th>\n",
       "      <th>micro avg</th>\n",
       "      <th>macro avg</th>\n",
       "      <th>weighted avg</th>\n",
       "    </tr>\n",
       "  </thead>\n",
       "  <tbody>\n",
       "    <tr>\n",
       "      <th>f1-score</th>\n",
       "      <td>0.698</td>\n",
       "      <td>0.271</td>\n",
       "      <td>0.573</td>\n",
       "      <td>0.485</td>\n",
       "      <td>0.658</td>\n",
       "    </tr>\n",
       "    <tr>\n",
       "      <th>precision</th>\n",
       "      <td>0.970</td>\n",
       "      <td>0.162</td>\n",
       "      <td>0.573</td>\n",
       "      <td>0.566</td>\n",
       "      <td>0.894</td>\n",
       "    </tr>\n",
       "    <tr>\n",
       "      <th>recall</th>\n",
       "      <td>0.545</td>\n",
       "      <td>0.840</td>\n",
       "      <td>0.573</td>\n",
       "      <td>0.693</td>\n",
       "      <td>0.573</td>\n",
       "    </tr>\n",
       "    <tr>\n",
       "      <th>support</th>\n",
       "      <td>719.000</td>\n",
       "      <td>75.000</td>\n",
       "      <td>794.000</td>\n",
       "      <td>794.000</td>\n",
       "      <td>794.000</td>\n",
       "    </tr>\n",
       "  </tbody>\n",
       "</table>\n",
       "</div>"
      ],
      "text/plain": [
       "               0.0     1.0  micro avg  macro avg  weighted avg\n",
       "f1-score     0.698   0.271      0.573      0.485         0.658\n",
       "precision    0.970   0.162      0.573      0.566         0.894\n",
       "recall       0.545   0.840      0.573      0.693         0.573\n",
       "support    719.000  75.000    794.000    794.000       794.000"
      ]
     },
     "metadata": {},
     "output_type": "display_data"
    },
    {
     "name": "stdout",
     "output_type": "stream",
     "text": [
      "Model Saved on  roc_auc 0.7908762169680111\n"
     ]
    },
    {
     "data": {
      "application/vnd.jupyter.widget-view+json": {
       "model_id": "6d5d8e83c0814e1fafbd4b8ded2677f6",
       "version_major": 2,
       "version_minor": 0
      },
      "text/plain": [
       "HBox(children=(IntProgress(value=0, max=115), HTML(value='')))"
      ]
     },
     "metadata": {},
     "output_type": "display_data"
    },
    {
     "data": {
      "application/vnd.jupyter.widget-view+json": {
       "model_id": "c176fb03e4ad427493dd54f69ceebc24",
       "version_major": 2,
       "version_minor": 0
      },
      "text/plain": [
       "HBox(children=(IntProgress(value=0, max=25), HTML(value='')))"
      ]
     },
     "metadata": {},
     "output_type": "display_data"
    },
    {
     "name": "stdout",
     "output_type": "stream",
     "text": [
      "{'accuracy': 0.8287153652392947, 'roc_auc': 0.7826981919332406, 'pr_auc': 0.363841188586295}\n"
     ]
    },
    {
     "data": {
      "text/html": [
       "<div>\n",
       "<style scoped>\n",
       "    .dataframe tbody tr th:only-of-type {\n",
       "        vertical-align: middle;\n",
       "    }\n",
       "\n",
       "    .dataframe tbody tr th {\n",
       "        vertical-align: top;\n",
       "    }\n",
       "\n",
       "    .dataframe thead th {\n",
       "        text-align: right;\n",
       "    }\n",
       "</style>\n",
       "<table border=\"1\" class=\"dataframe\">\n",
       "  <thead>\n",
       "    <tr style=\"text-align: right;\">\n",
       "      <th></th>\n",
       "      <th>0.0</th>\n",
       "      <th>1.0</th>\n",
       "      <th>micro avg</th>\n",
       "      <th>macro avg</th>\n",
       "      <th>weighted avg</th>\n",
       "    </tr>\n",
       "  </thead>\n",
       "  <tbody>\n",
       "    <tr>\n",
       "      <th>f1-score</th>\n",
       "      <td>0.900</td>\n",
       "      <td>0.398</td>\n",
       "      <td>0.829</td>\n",
       "      <td>0.649</td>\n",
       "      <td>0.853</td>\n",
       "    </tr>\n",
       "    <tr>\n",
       "      <th>precision</th>\n",
       "      <td>0.953</td>\n",
       "      <td>0.298</td>\n",
       "      <td>0.829</td>\n",
       "      <td>0.626</td>\n",
       "      <td>0.891</td>\n",
       "    </tr>\n",
       "    <tr>\n",
       "      <th>recall</th>\n",
       "      <td>0.853</td>\n",
       "      <td>0.600</td>\n",
       "      <td>0.829</td>\n",
       "      <td>0.726</td>\n",
       "      <td>0.829</td>\n",
       "    </tr>\n",
       "    <tr>\n",
       "      <th>support</th>\n",
       "      <td>719.000</td>\n",
       "      <td>75.000</td>\n",
       "      <td>794.000</td>\n",
       "      <td>794.000</td>\n",
       "      <td>794.000</td>\n",
       "    </tr>\n",
       "  </tbody>\n",
       "</table>\n",
       "</div>"
      ],
      "text/plain": [
       "               0.0     1.0  micro avg  macro avg  weighted avg\n",
       "f1-score     0.900   0.398      0.829      0.649         0.853\n",
       "precision    0.953   0.298      0.829      0.626         0.891\n",
       "recall       0.853   0.600      0.829      0.726         0.829\n",
       "support    719.000  75.000    794.000    794.000       794.000"
      ]
     },
     "metadata": {},
     "output_type": "display_data"
    },
    {
     "name": "stdout",
     "output_type": "stream",
     "text": [
      "Model not saved on  roc_auc 0.7826981919332406\n"
     ]
    },
    {
     "data": {
      "application/vnd.jupyter.widget-view+json": {
       "model_id": "dd35e5daee7248889f0b4614f8cd8a7c",
       "version_major": 2,
       "version_minor": 0
      },
      "text/plain": [
       "HBox(children=(IntProgress(value=0, max=115), HTML(value='')))"
      ]
     },
     "metadata": {},
     "output_type": "display_data"
    },
    {
     "data": {
      "application/vnd.jupyter.widget-view+json": {
       "model_id": "d79c35d23c7740c2ba86737881f5e084",
       "version_major": 2,
       "version_minor": 0
      },
      "text/plain": [
       "HBox(children=(IntProgress(value=0, max=25), HTML(value='')))"
      ]
     },
     "metadata": {},
     "output_type": "display_data"
    },
    {
     "name": "stdout",
     "output_type": "stream",
     "text": [
      "{'accuracy': 0.8236775818639799, 'roc_auc': 0.7811404728789986, 'pr_auc': 0.3789260959944353}\n"
     ]
    },
    {
     "data": {
      "text/html": [
       "<div>\n",
       "<style scoped>\n",
       "    .dataframe tbody tr th:only-of-type {\n",
       "        vertical-align: middle;\n",
       "    }\n",
       "\n",
       "    .dataframe tbody tr th {\n",
       "        vertical-align: top;\n",
       "    }\n",
       "\n",
       "    .dataframe thead th {\n",
       "        text-align: right;\n",
       "    }\n",
       "</style>\n",
       "<table border=\"1\" class=\"dataframe\">\n",
       "  <thead>\n",
       "    <tr style=\"text-align: right;\">\n",
       "      <th></th>\n",
       "      <th>0.0</th>\n",
       "      <th>1.0</th>\n",
       "      <th>micro avg</th>\n",
       "      <th>macro avg</th>\n",
       "      <th>weighted avg</th>\n",
       "    </tr>\n",
       "  </thead>\n",
       "  <tbody>\n",
       "    <tr>\n",
       "      <th>f1-score</th>\n",
       "      <td>0.897</td>\n",
       "      <td>0.397</td>\n",
       "      <td>0.824</td>\n",
       "      <td>0.647</td>\n",
       "      <td>0.850</td>\n",
       "    </tr>\n",
       "    <tr>\n",
       "      <th>precision</th>\n",
       "      <td>0.954</td>\n",
       "      <td>0.293</td>\n",
       "      <td>0.824</td>\n",
       "      <td>0.624</td>\n",
       "      <td>0.892</td>\n",
       "    </tr>\n",
       "    <tr>\n",
       "      <th>recall</th>\n",
       "      <td>0.846</td>\n",
       "      <td>0.613</td>\n",
       "      <td>0.824</td>\n",
       "      <td>0.729</td>\n",
       "      <td>0.824</td>\n",
       "    </tr>\n",
       "    <tr>\n",
       "      <th>support</th>\n",
       "      <td>719.000</td>\n",
       "      <td>75.000</td>\n",
       "      <td>794.000</td>\n",
       "      <td>794.000</td>\n",
       "      <td>794.000</td>\n",
       "    </tr>\n",
       "  </tbody>\n",
       "</table>\n",
       "</div>"
      ],
      "text/plain": [
       "               0.0     1.0  micro avg  macro avg  weighted avg\n",
       "f1-score     0.897   0.397      0.824      0.647         0.850\n",
       "precision    0.954   0.293      0.824      0.624         0.892\n",
       "recall       0.846   0.613      0.824      0.729         0.824\n",
       "support    719.000  75.000    794.000    794.000       794.000"
      ]
     },
     "metadata": {},
     "output_type": "display_data"
    },
    {
     "name": "stdout",
     "output_type": "stream",
     "text": [
      "Model not saved on  roc_auc 0.7811404728789986\n"
     ]
    },
    {
     "data": {
      "application/vnd.jupyter.widget-view+json": {
       "model_id": "eea2a282c8ca4049bbd3c21d93b12ae2",
       "version_major": 2,
       "version_minor": 0
      },
      "text/plain": [
       "HBox(children=(IntProgress(value=0, max=115), HTML(value='')))"
      ]
     },
     "metadata": {},
     "output_type": "display_data"
    },
    {
     "data": {
      "application/vnd.jupyter.widget-view+json": {
       "model_id": "0099d33344a34b3b99d4f3905636700d",
       "version_major": 2,
       "version_minor": 0
      },
      "text/plain": [
       "HBox(children=(IntProgress(value=0, max=25), HTML(value='')))"
      ]
     },
     "metadata": {},
     "output_type": "display_data"
    },
    {
     "name": "stdout",
     "output_type": "stream",
     "text": [
      "{'accuracy': 0.7720403022670025, 'roc_auc': 0.778970792767733, 'pr_auc': 0.38356389157400067}\n"
     ]
    },
    {
     "data": {
      "text/html": [
       "<div>\n",
       "<style scoped>\n",
       "    .dataframe tbody tr th:only-of-type {\n",
       "        vertical-align: middle;\n",
       "    }\n",
       "\n",
       "    .dataframe tbody tr th {\n",
       "        vertical-align: top;\n",
       "    }\n",
       "\n",
       "    .dataframe thead th {\n",
       "        text-align: right;\n",
       "    }\n",
       "</style>\n",
       "<table border=\"1\" class=\"dataframe\">\n",
       "  <thead>\n",
       "    <tr style=\"text-align: right;\">\n",
       "      <th></th>\n",
       "      <th>0.0</th>\n",
       "      <th>1.0</th>\n",
       "      <th>micro avg</th>\n",
       "      <th>macro avg</th>\n",
       "      <th>weighted avg</th>\n",
       "    </tr>\n",
       "  </thead>\n",
       "  <tbody>\n",
       "    <tr>\n",
       "      <th>f1-score</th>\n",
       "      <td>0.861</td>\n",
       "      <td>0.360</td>\n",
       "      <td>0.772</td>\n",
       "      <td>0.611</td>\n",
       "      <td>0.814</td>\n",
       "    </tr>\n",
       "    <tr>\n",
       "      <th>precision</th>\n",
       "      <td>0.959</td>\n",
       "      <td>0.245</td>\n",
       "      <td>0.772</td>\n",
       "      <td>0.602</td>\n",
       "      <td>0.892</td>\n",
       "    </tr>\n",
       "    <tr>\n",
       "      <th>recall</th>\n",
       "      <td>0.782</td>\n",
       "      <td>0.680</td>\n",
       "      <td>0.772</td>\n",
       "      <td>0.731</td>\n",
       "      <td>0.772</td>\n",
       "    </tr>\n",
       "    <tr>\n",
       "      <th>support</th>\n",
       "      <td>719.000</td>\n",
       "      <td>75.000</td>\n",
       "      <td>794.000</td>\n",
       "      <td>794.000</td>\n",
       "      <td>794.000</td>\n",
       "    </tr>\n",
       "  </tbody>\n",
       "</table>\n",
       "</div>"
      ],
      "text/plain": [
       "               0.0     1.0  micro avg  macro avg  weighted avg\n",
       "f1-score     0.861   0.360      0.772      0.611         0.814\n",
       "precision    0.959   0.245      0.772      0.602         0.892\n",
       "recall       0.782   0.680      0.772      0.731         0.772\n",
       "support    719.000  75.000    794.000    794.000       794.000"
      ]
     },
     "metadata": {},
     "output_type": "display_data"
    },
    {
     "name": "stdout",
     "output_type": "stream",
     "text": [
      "Model not saved on  roc_auc 0.778970792767733\n"
     ]
    },
    {
     "data": {
      "application/vnd.jupyter.widget-view+json": {
       "model_id": "79df4515397949d5a4e37432186fe60a",
       "version_major": 2,
       "version_minor": 0
      },
      "text/plain": [
       "HBox(children=(IntProgress(value=0, max=115), HTML(value='')))"
      ]
     },
     "metadata": {},
     "output_type": "display_data"
    },
    {
     "data": {
      "application/vnd.jupyter.widget-view+json": {
       "model_id": "51945c7399b646f5a274c1e938a55f87",
       "version_major": 2,
       "version_minor": 0
      },
      "text/plain": [
       "HBox(children=(IntProgress(value=0, max=25), HTML(value='')))"
      ]
     },
     "metadata": {},
     "output_type": "display_data"
    },
    {
     "name": "stdout",
     "output_type": "stream",
     "text": [
      "{'accuracy': 0.8324937027707808, 'roc_auc': 0.7884469170143719, 'pr_auc': 0.3841703326229407}\n"
     ]
    },
    {
     "data": {
      "text/html": [
       "<div>\n",
       "<style scoped>\n",
       "    .dataframe tbody tr th:only-of-type {\n",
       "        vertical-align: middle;\n",
       "    }\n",
       "\n",
       "    .dataframe tbody tr th {\n",
       "        vertical-align: top;\n",
       "    }\n",
       "\n",
       "    .dataframe thead th {\n",
       "        text-align: right;\n",
       "    }\n",
       "</style>\n",
       "<table border=\"1\" class=\"dataframe\">\n",
       "  <thead>\n",
       "    <tr style=\"text-align: right;\">\n",
       "      <th></th>\n",
       "      <th>0.0</th>\n",
       "      <th>1.0</th>\n",
       "      <th>micro avg</th>\n",
       "      <th>macro avg</th>\n",
       "      <th>weighted avg</th>\n",
       "    </tr>\n",
       "  </thead>\n",
       "  <tbody>\n",
       "    <tr>\n",
       "      <th>f1-score</th>\n",
       "      <td>0.902</td>\n",
       "      <td>0.414</td>\n",
       "      <td>0.832</td>\n",
       "      <td>0.658</td>\n",
       "      <td>0.856</td>\n",
       "    </tr>\n",
       "    <tr>\n",
       "      <th>precision</th>\n",
       "      <td>0.956</td>\n",
       "      <td>0.309</td>\n",
       "      <td>0.832</td>\n",
       "      <td>0.633</td>\n",
       "      <td>0.895</td>\n",
       "    </tr>\n",
       "    <tr>\n",
       "      <th>recall</th>\n",
       "      <td>0.854</td>\n",
       "      <td>0.627</td>\n",
       "      <td>0.832</td>\n",
       "      <td>0.740</td>\n",
       "      <td>0.832</td>\n",
       "    </tr>\n",
       "    <tr>\n",
       "      <th>support</th>\n",
       "      <td>719.000</td>\n",
       "      <td>75.000</td>\n",
       "      <td>794.000</td>\n",
       "      <td>794.000</td>\n",
       "      <td>794.000</td>\n",
       "    </tr>\n",
       "  </tbody>\n",
       "</table>\n",
       "</div>"
      ],
      "text/plain": [
       "               0.0     1.0  micro avg  macro avg  weighted avg\n",
       "f1-score     0.902   0.414      0.832      0.658         0.856\n",
       "precision    0.956   0.309      0.832      0.633         0.895\n",
       "recall       0.854   0.627      0.832      0.740         0.832\n",
       "support    719.000  75.000    794.000    794.000       794.000"
      ]
     },
     "metadata": {},
     "output_type": "display_data"
    },
    {
     "name": "stderr",
     "output_type": "stream",
     "text": [
      "INFO - 2019-04-01 16:19:53,953 - instantiating class <class 'Transparency.model.modules.Encoder.Encoder'> from params {'vocab_size': 10842, 'embed_size': 200, 'projection': True, 'hidden_size': 128, 'activation': 'tanh', 'type': 'average', 'pre_embed': None} and extras {}\n",
      "INFO - 2019-04-01 16:19:53,953 - type = average\n",
      "INFO - 2019-04-01 16:19:53,954 - instantiating class <class 'Transparency.model.modules.Encoder.EncoderAverage'> from params {'vocab_size': 10842, 'embed_size': 200, 'projection': True, 'hidden_size': 128, 'activation': 'tanh', 'pre_embed': None} and extras {}\n",
      "INFO - 2019-04-01 16:19:53,954 - vocab_size = 10842\n",
      "INFO - 2019-04-01 16:19:53,954 - embed_size = 200\n",
      "INFO - 2019-04-01 16:19:53,955 - projection = True\n",
      "INFO - 2019-04-01 16:19:53,955 - hidden_size = 128\n",
      "INFO - 2019-04-01 16:19:53,955 - activation = tanh\n",
      "INFO - 2019-04-01 16:19:53,956 - pre_embed = None\n",
      "INFO - 2019-04-01 16:19:53,969 - instantiating class <class 'Transparency.model.modules.Decoder.AttnDecoder'> from params {'attention': {'type': 'dot'}, 'output_size': 1, 'hidden_size': 128} and extras {}\n",
      "INFO - 2019-04-01 16:19:53,970 - hidden_size = 128\n",
      "INFO - 2019-04-01 16:19:53,970 - output_size = 1\n",
      "INFO - 2019-04-01 16:19:53,971 - use_attention = True\n",
      "INFO - 2019-04-01 16:19:53,971 - regularizer_attention = None\n",
      "INFO - 2019-04-01 16:19:53,971 - instantiating class <class 'Transparency.model.modules.Attention.Attention'> from params <allennlp.common.params.Params object at 0x7f361554bc50> and extras {}\n",
      "INFO - 2019-04-01 16:19:53,972 - attention.type = dot\n",
      "INFO - 2019-04-01 16:19:53,972 - type = dot\n",
      "INFO - 2019-04-01 16:19:53,973 - instantiating class <class 'Transparency.model.modules.Attention.DotAttention'> from params <allennlp.common.params.Params object at 0x7f361554bc50> and extras {}\n",
      "INFO - 2019-04-01 16:19:53,973 - attention.hidden_size = 128\n",
      "INFO - 2019-04-01 16:19:53,973 - hidden_size = 128\n"
     ]
    },
    {
     "name": "stdout",
     "output_type": "stream",
     "text": [
      "Model not saved on  roc_auc 0.7884469170143719\n",
      "\n"
     ]
    },
    {
     "data": {
      "application/vnd.jupyter.widget-view+json": {
       "model_id": "9aa7ae7d9edf4e20b333069a7d69e218",
       "version_major": 2,
       "version_minor": 0
      },
      "text/plain": [
       "HBox(children=(IntProgress(value=0, max=25), HTML(value='')))"
      ]
     },
     "metadata": {},
     "output_type": "display_data"
    },
    {
     "name": "stdout",
     "output_type": "stream",
     "text": [
      "\n",
      "{'accuracy': 0.5730478589420654, 'roc_auc': 0.7908762169680111, 'pr_auc': 0.36543827232886744}\n"
     ]
    },
    {
     "data": {
      "text/html": [
       "<div>\n",
       "<style scoped>\n",
       "    .dataframe tbody tr th:only-of-type {\n",
       "        vertical-align: middle;\n",
       "    }\n",
       "\n",
       "    .dataframe tbody tr th {\n",
       "        vertical-align: top;\n",
       "    }\n",
       "\n",
       "    .dataframe thead th {\n",
       "        text-align: right;\n",
       "    }\n",
       "</style>\n",
       "<table border=\"1\" class=\"dataframe\">\n",
       "  <thead>\n",
       "    <tr style=\"text-align: right;\">\n",
       "      <th></th>\n",
       "      <th>0.0</th>\n",
       "      <th>1.0</th>\n",
       "      <th>micro avg</th>\n",
       "      <th>macro avg</th>\n",
       "      <th>weighted avg</th>\n",
       "    </tr>\n",
       "  </thead>\n",
       "  <tbody>\n",
       "    <tr>\n",
       "      <th>f1-score</th>\n",
       "      <td>0.698</td>\n",
       "      <td>0.271</td>\n",
       "      <td>0.573</td>\n",
       "      <td>0.485</td>\n",
       "      <td>0.658</td>\n",
       "    </tr>\n",
       "    <tr>\n",
       "      <th>precision</th>\n",
       "      <td>0.970</td>\n",
       "      <td>0.162</td>\n",
       "      <td>0.573</td>\n",
       "      <td>0.566</td>\n",
       "      <td>0.894</td>\n",
       "    </tr>\n",
       "    <tr>\n",
       "      <th>recall</th>\n",
       "      <td>0.545</td>\n",
       "      <td>0.840</td>\n",
       "      <td>0.573</td>\n",
       "      <td>0.693</td>\n",
       "      <td>0.573</td>\n",
       "    </tr>\n",
       "    <tr>\n",
       "      <th>support</th>\n",
       "      <td>719.000</td>\n",
       "      <td>75.000</td>\n",
       "      <td>794.000</td>\n",
       "      <td>794.000</td>\n",
       "      <td>794.000</td>\n",
       "    </tr>\n",
       "  </tbody>\n",
       "</table>\n",
       "</div>"
      ],
      "text/plain": [
       "               0.0     1.0  micro avg  macro avg  weighted avg\n",
       "f1-score     0.698   0.271      0.573      0.485         0.658\n",
       "precision    0.970   0.162      0.573      0.566         0.894\n",
       "recall       0.545   0.840      0.573      0.693         0.573\n",
       "support    719.000  75.000    794.000    794.000       794.000"
      ]
     },
     "metadata": {},
     "output_type": "display_data"
    },
    {
     "name": "stderr",
     "output_type": "stream",
     "text": [
      "INFO - 2019-04-01 16:19:54,393 - instantiating class <class 'Transparency.model.modules.Encoder.Encoder'> from params {'vocab_size': 10842, 'embed_size': 200, 'type': 'rnn', 'hidden_size': 128, 'pre_embed': array([[ 0.        ,  0.        ,  0.        , ...,  0.        ,\n",
      "         0.        ,  0.        ],\n",
      "       [-1.01110077, -0.10963009, -0.12135973, ...,  1.417561  ,\n",
      "         0.22239438, -0.95637527],\n",
      "       [-0.3252375 ,  0.76675387,  0.07743983, ...,  0.71469843,\n",
      "         1.65814695,  1.02895811],\n",
      "       ...,\n",
      "       [-0.9131118 ,  0.65445782, -1.75380741, ..., -1.32082687,\n",
      "         1.96610137,  0.21530122],\n",
      "       [ 0.23878147, -0.24995086, -0.76743705, ...,  0.08109977,\n",
      "        -2.09821721,  1.13257865],\n",
      "       [ 0.21334752,  1.16793904, -0.49893868, ..., -0.49181569,\n",
      "        -0.49463947,  0.03485374]])} and extras {}\n",
      "INFO - 2019-04-01 16:19:54,393 - type = rnn\n",
      "INFO - 2019-04-01 16:19:54,394 - instantiating class <class 'Transparency.model.modules.Encoder.EncoderRNN'> from params {'vocab_size': 10842, 'embed_size': 200, 'hidden_size': 128, 'pre_embed': array([[ 0.        ,  0.        ,  0.        , ...,  0.        ,\n",
      "         0.        ,  0.        ],\n",
      "       [-1.01110077, -0.10963009, -0.12135973, ...,  1.417561  ,\n",
      "         0.22239438, -0.95637527],\n",
      "       [-0.3252375 ,  0.76675387,  0.07743983, ...,  0.71469843,\n",
      "         1.65814695,  1.02895811],\n",
      "       ...,\n",
      "       [-0.9131118 ,  0.65445782, -1.75380741, ..., -1.32082687,\n",
      "         1.96610137,  0.21530122],\n",
      "       [ 0.23878147, -0.24995086, -0.76743705, ...,  0.08109977,\n",
      "        -2.09821721,  1.13257865],\n",
      "       [ 0.21334752,  1.16793904, -0.49893868, ..., -0.49181569,\n",
      "        -0.49463947,  0.03485374]])} and extras {}\n",
      "INFO - 2019-04-01 16:19:54,394 - vocab_size = 10842\n",
      "INFO - 2019-04-01 16:19:54,394 - embed_size = 200\n",
      "INFO - 2019-04-01 16:19:54,395 - hidden_size = 128\n",
      "INFO - 2019-04-01 16:19:54,395 - pre_embed = [[ 0.          0.          0.         ...  0.          0.\n",
      "   0.        ]\n",
      " [-1.01110077 -0.10963009 -0.12135973 ...  1.417561    0.22239438\n",
      "  -0.95637527]\n",
      " [-0.3252375   0.76675387  0.07743983 ...  0.71469843  1.65814695\n",
      "   1.02895811]\n",
      " ...\n",
      " [-0.9131118   0.65445782 -1.75380741 ... -1.32082687  1.96610137\n",
      "   0.21530122]\n",
      " [ 0.23878147 -0.24995086 -0.76743705 ...  0.08109977 -2.09821721\n",
      "   1.13257865]\n",
      " [ 0.21334752  1.16793904 -0.49893868 ... -0.49181569 -0.49463947\n",
      "   0.03485374]]\n",
      "INFO - 2019-04-01 16:19:54,422 - instantiating class <class 'Transparency.model.modules.Decoder.AttnDecoder'> from params {'attention': {'type': 'dot'}, 'output_size': 1, 'hidden_size': 256} and extras {}\n",
      "INFO - 2019-04-01 16:19:54,424 - hidden_size = 256\n",
      "INFO - 2019-04-01 16:19:54,426 - output_size = 1\n",
      "INFO - 2019-04-01 16:19:54,428 - use_attention = True\n",
      "INFO - 2019-04-01 16:19:54,429 - regularizer_attention = None\n",
      "INFO - 2019-04-01 16:19:54,431 - instantiating class <class 'Transparency.model.modules.Attention.Attention'> from params <allennlp.common.params.Params object at 0x7f3615518860> and extras {}\n",
      "INFO - 2019-04-01 16:19:54,432 - attention.type = dot\n",
      "INFO - 2019-04-01 16:19:54,435 - type = dot\n",
      "INFO - 2019-04-01 16:19:54,436 - instantiating class <class 'Transparency.model.modules.Attention.DotAttention'> from params <allennlp.common.params.Params object at 0x7f3615518860> and extras {}\n",
      "INFO - 2019-04-01 16:19:54,438 - attention.hidden_size = 256\n",
      "INFO - 2019-04-01 16:19:54,440 - hidden_size = 256\n"
     ]
    },
    {
     "name": "stdout",
     "output_type": "stream",
     "text": [
      "Setting Embedding\n"
     ]
    },
    {
     "data": {
      "application/vnd.jupyter.widget-view+json": {
       "model_id": "7891f46fb1fb45b6b5b63af38eeb0755",
       "version_major": 2,
       "version_minor": 0
      },
      "text/plain": [
       "HBox(children=(IntProgress(value=0, max=8), HTML(value='')))"
      ]
     },
     "metadata": {},
     "output_type": "display_data"
    },
    {
     "data": {
      "application/vnd.jupyter.widget-view+json": {
       "model_id": "fefbf4a7321c4c97852eb432c5aee636",
       "version_major": 2,
       "version_minor": 0
      },
      "text/plain": [
       "HBox(children=(IntProgress(value=0, max=115), HTML(value='')))"
      ]
     },
     "metadata": {},
     "output_type": "display_data"
    },
    {
     "data": {
      "application/vnd.jupyter.widget-view+json": {
       "model_id": "7668506407be4c6285f087f1b83b6042",
       "version_major": 2,
       "version_minor": 0
      },
      "text/plain": [
       "HBox(children=(IntProgress(value=0, max=25), HTML(value='')))"
      ]
     },
     "metadata": {},
     "output_type": "display_data"
    },
    {
     "name": "stdout",
     "output_type": "stream",
     "text": [
      "{'accuracy': 0.6473551637279596, 'roc_auc': 0.6554659248956884, 'pr_auc': 0.16523289209687225}\n"
     ]
    },
    {
     "data": {
      "text/html": [
       "<div>\n",
       "<style scoped>\n",
       "    .dataframe tbody tr th:only-of-type {\n",
       "        vertical-align: middle;\n",
       "    }\n",
       "\n",
       "    .dataframe tbody tr th {\n",
       "        vertical-align: top;\n",
       "    }\n",
       "\n",
       "    .dataframe thead th {\n",
       "        text-align: right;\n",
       "    }\n",
       "</style>\n",
       "<table border=\"1\" class=\"dataframe\">\n",
       "  <thead>\n",
       "    <tr style=\"text-align: right;\">\n",
       "      <th></th>\n",
       "      <th>0.0</th>\n",
       "      <th>1.0</th>\n",
       "      <th>micro avg</th>\n",
       "      <th>macro avg</th>\n",
       "      <th>weighted avg</th>\n",
       "    </tr>\n",
       "  </thead>\n",
       "  <tbody>\n",
       "    <tr>\n",
       "      <th>f1-score</th>\n",
       "      <td>0.773</td>\n",
       "      <td>0.213</td>\n",
       "      <td>0.647</td>\n",
       "      <td>0.493</td>\n",
       "      <td>0.720</td>\n",
       "    </tr>\n",
       "    <tr>\n",
       "      <th>precision</th>\n",
       "      <td>0.928</td>\n",
       "      <td>0.135</td>\n",
       "      <td>0.647</td>\n",
       "      <td>0.532</td>\n",
       "      <td>0.853</td>\n",
       "    </tr>\n",
       "    <tr>\n",
       "      <th>recall</th>\n",
       "      <td>0.662</td>\n",
       "      <td>0.507</td>\n",
       "      <td>0.647</td>\n",
       "      <td>0.584</td>\n",
       "      <td>0.647</td>\n",
       "    </tr>\n",
       "    <tr>\n",
       "      <th>support</th>\n",
       "      <td>719.000</td>\n",
       "      <td>75.000</td>\n",
       "      <td>794.000</td>\n",
       "      <td>794.000</td>\n",
       "      <td>794.000</td>\n",
       "    </tr>\n",
       "  </tbody>\n",
       "</table>\n",
       "</div>"
      ],
      "text/plain": [
       "               0.0     1.0  micro avg  macro avg  weighted avg\n",
       "f1-score     0.773   0.213      0.647      0.493         0.720\n",
       "precision    0.928   0.135      0.647      0.532         0.853\n",
       "recall       0.662   0.507      0.647      0.584         0.647\n",
       "support    719.000  75.000    794.000    794.000       794.000"
      ]
     },
     "metadata": {},
     "output_type": "display_data"
    },
    {
     "name": "stdout",
     "output_type": "stream",
     "text": [
      "Model not saved on  roc_auc 0.6554659248956884\n"
     ]
    },
    {
     "data": {
      "application/vnd.jupyter.widget-view+json": {
       "model_id": "55a5b10847d44fa8b239eb1fd637e698",
       "version_major": 2,
       "version_minor": 0
      },
      "text/plain": [
       "HBox(children=(IntProgress(value=0, max=115), HTML(value='')))"
      ]
     },
     "metadata": {},
     "output_type": "display_data"
    },
    {
     "data": {
      "application/vnd.jupyter.widget-view+json": {
       "model_id": "35c3b5ff09514ac7b643f92b63927a91",
       "version_major": 2,
       "version_minor": 0
      },
      "text/plain": [
       "HBox(children=(IntProgress(value=0, max=25), HTML(value='')))"
      ]
     },
     "metadata": {},
     "output_type": "display_data"
    },
    {
     "name": "stdout",
     "output_type": "stream",
     "text": [
      "{'accuracy': 0.7795969773299748, 'roc_auc': 0.771052387575336, 'pr_auc': 0.29130456168486163}\n"
     ]
    },
    {
     "data": {
      "text/html": [
       "<div>\n",
       "<style scoped>\n",
       "    .dataframe tbody tr th:only-of-type {\n",
       "        vertical-align: middle;\n",
       "    }\n",
       "\n",
       "    .dataframe tbody tr th {\n",
       "        vertical-align: top;\n",
       "    }\n",
       "\n",
       "    .dataframe thead th {\n",
       "        text-align: right;\n",
       "    }\n",
       "</style>\n",
       "<table border=\"1\" class=\"dataframe\">\n",
       "  <thead>\n",
       "    <tr style=\"text-align: right;\">\n",
       "      <th></th>\n",
       "      <th>0.0</th>\n",
       "      <th>1.0</th>\n",
       "      <th>micro avg</th>\n",
       "      <th>macro avg</th>\n",
       "      <th>weighted avg</th>\n",
       "    </tr>\n",
       "  </thead>\n",
       "  <tbody>\n",
       "    <tr>\n",
       "      <th>f1-score</th>\n",
       "      <td>0.867</td>\n",
       "      <td>0.354</td>\n",
       "      <td>0.78</td>\n",
       "      <td>0.611</td>\n",
       "      <td>0.819</td>\n",
       "    </tr>\n",
       "    <tr>\n",
       "      <th>precision</th>\n",
       "      <td>0.955</td>\n",
       "      <td>0.245</td>\n",
       "      <td>0.78</td>\n",
       "      <td>0.600</td>\n",
       "      <td>0.888</td>\n",
       "    </tr>\n",
       "    <tr>\n",
       "      <th>recall</th>\n",
       "      <td>0.794</td>\n",
       "      <td>0.640</td>\n",
       "      <td>0.78</td>\n",
       "      <td>0.717</td>\n",
       "      <td>0.780</td>\n",
       "    </tr>\n",
       "    <tr>\n",
       "      <th>support</th>\n",
       "      <td>719.000</td>\n",
       "      <td>75.000</td>\n",
       "      <td>794.00</td>\n",
       "      <td>794.000</td>\n",
       "      <td>794.000</td>\n",
       "    </tr>\n",
       "  </tbody>\n",
       "</table>\n",
       "</div>"
      ],
      "text/plain": [
       "               0.0     1.0  micro avg  macro avg  weighted avg\n",
       "f1-score     0.867   0.354       0.78      0.611         0.819\n",
       "precision    0.955   0.245       0.78      0.600         0.888\n",
       "recall       0.794   0.640       0.78      0.717         0.780\n",
       "support    719.000  75.000     794.00    794.000       794.000"
      ]
     },
     "metadata": {},
     "output_type": "display_data"
    },
    {
     "name": "stdout",
     "output_type": "stream",
     "text": [
      "Model Saved on  roc_auc 0.771052387575336\n"
     ]
    },
    {
     "data": {
      "application/vnd.jupyter.widget-view+json": {
       "model_id": "753fe1e5637842169027f6b01ca1c174",
       "version_major": 2,
       "version_minor": 0
      },
      "text/plain": [
       "HBox(children=(IntProgress(value=0, max=115), HTML(value='')))"
      ]
     },
     "metadata": {},
     "output_type": "display_data"
    },
    {
     "data": {
      "application/vnd.jupyter.widget-view+json": {
       "model_id": "51325b8b1c234143a1dfea6e451b938b",
       "version_major": 2,
       "version_minor": 0
      },
      "text/plain": [
       "HBox(children=(IntProgress(value=0, max=25), HTML(value='')))"
      ]
     },
     "metadata": {},
     "output_type": "display_data"
    },
    {
     "name": "stdout",
     "output_type": "stream",
     "text": [
      "{'accuracy': 0.7342569269521411, 'roc_auc': 0.7722206768660177, 'pr_auc': 0.3289141178079461}\n"
     ]
    },
    {
     "data": {
      "text/html": [
       "<div>\n",
       "<style scoped>\n",
       "    .dataframe tbody tr th:only-of-type {\n",
       "        vertical-align: middle;\n",
       "    }\n",
       "\n",
       "    .dataframe tbody tr th {\n",
       "        vertical-align: top;\n",
       "    }\n",
       "\n",
       "    .dataframe thead th {\n",
       "        text-align: right;\n",
       "    }\n",
       "</style>\n",
       "<table border=\"1\" class=\"dataframe\">\n",
       "  <thead>\n",
       "    <tr style=\"text-align: right;\">\n",
       "      <th></th>\n",
       "      <th>0.0</th>\n",
       "      <th>1.0</th>\n",
       "      <th>micro avg</th>\n",
       "      <th>macro avg</th>\n",
       "      <th>weighted avg</th>\n",
       "    </tr>\n",
       "  </thead>\n",
       "  <tbody>\n",
       "    <tr>\n",
       "      <th>f1-score</th>\n",
       "      <td>0.835</td>\n",
       "      <td>0.313</td>\n",
       "      <td>0.734</td>\n",
       "      <td>0.574</td>\n",
       "      <td>0.786</td>\n",
       "    </tr>\n",
       "    <tr>\n",
       "      <th>precision</th>\n",
       "      <td>0.952</td>\n",
       "      <td>0.207</td>\n",
       "      <td>0.734</td>\n",
       "      <td>0.579</td>\n",
       "      <td>0.882</td>\n",
       "    </tr>\n",
       "    <tr>\n",
       "      <th>recall</th>\n",
       "      <td>0.744</td>\n",
       "      <td>0.640</td>\n",
       "      <td>0.734</td>\n",
       "      <td>0.692</td>\n",
       "      <td>0.734</td>\n",
       "    </tr>\n",
       "    <tr>\n",
       "      <th>support</th>\n",
       "      <td>719.000</td>\n",
       "      <td>75.000</td>\n",
       "      <td>794.000</td>\n",
       "      <td>794.000</td>\n",
       "      <td>794.000</td>\n",
       "    </tr>\n",
       "  </tbody>\n",
       "</table>\n",
       "</div>"
      ],
      "text/plain": [
       "               0.0     1.0  micro avg  macro avg  weighted avg\n",
       "f1-score     0.835   0.313      0.734      0.574         0.786\n",
       "precision    0.952   0.207      0.734      0.579         0.882\n",
       "recall       0.744   0.640      0.734      0.692         0.734\n",
       "support    719.000  75.000    794.000    794.000       794.000"
      ]
     },
     "metadata": {},
     "output_type": "display_data"
    },
    {
     "name": "stdout",
     "output_type": "stream",
     "text": [
      "Model Saved on  roc_auc 0.7722206768660177\n"
     ]
    },
    {
     "data": {
      "application/vnd.jupyter.widget-view+json": {
       "model_id": "88aa1554ef174775adfdd66002141647",
       "version_major": 2,
       "version_minor": 0
      },
      "text/plain": [
       "HBox(children=(IntProgress(value=0, max=115), HTML(value='')))"
      ]
     },
     "metadata": {},
     "output_type": "display_data"
    },
    {
     "data": {
      "application/vnd.jupyter.widget-view+json": {
       "model_id": "8935f5aa510d4aabb797b4ce0c158b9c",
       "version_major": 2,
       "version_minor": 0
      },
      "text/plain": [
       "HBox(children=(IntProgress(value=0, max=25), HTML(value='')))"
      ]
     },
     "metadata": {},
     "output_type": "display_data"
    },
    {
     "name": "stdout",
     "output_type": "stream",
     "text": [
      "{'accuracy': 0.8690176322418136, 'roc_auc': 0.6939545665275846, 'pr_auc': 0.2792401888781794}\n"
     ]
    },
    {
     "data": {
      "text/html": [
       "<div>\n",
       "<style scoped>\n",
       "    .dataframe tbody tr th:only-of-type {\n",
       "        vertical-align: middle;\n",
       "    }\n",
       "\n",
       "    .dataframe tbody tr th {\n",
       "        vertical-align: top;\n",
       "    }\n",
       "\n",
       "    .dataframe thead th {\n",
       "        text-align: right;\n",
       "    }\n",
       "</style>\n",
       "<table border=\"1\" class=\"dataframe\">\n",
       "  <thead>\n",
       "    <tr style=\"text-align: right;\">\n",
       "      <th></th>\n",
       "      <th>0.0</th>\n",
       "      <th>1.0</th>\n",
       "      <th>micro avg</th>\n",
       "      <th>macro avg</th>\n",
       "      <th>weighted avg</th>\n",
       "    </tr>\n",
       "  </thead>\n",
       "  <tbody>\n",
       "    <tr>\n",
       "      <th>f1-score</th>\n",
       "      <td>0.927</td>\n",
       "      <td>0.381</td>\n",
       "      <td>0.869</td>\n",
       "      <td>0.654</td>\n",
       "      <td>0.875</td>\n",
       "    </tr>\n",
       "    <tr>\n",
       "      <th>precision</th>\n",
       "      <td>0.939</td>\n",
       "      <td>0.344</td>\n",
       "      <td>0.869</td>\n",
       "      <td>0.641</td>\n",
       "      <td>0.882</td>\n",
       "    </tr>\n",
       "    <tr>\n",
       "      <th>recall</th>\n",
       "      <td>0.915</td>\n",
       "      <td>0.427</td>\n",
       "      <td>0.869</td>\n",
       "      <td>0.671</td>\n",
       "      <td>0.869</td>\n",
       "    </tr>\n",
       "    <tr>\n",
       "      <th>support</th>\n",
       "      <td>719.000</td>\n",
       "      <td>75.000</td>\n",
       "      <td>794.000</td>\n",
       "      <td>794.000</td>\n",
       "      <td>794.000</td>\n",
       "    </tr>\n",
       "  </tbody>\n",
       "</table>\n",
       "</div>"
      ],
      "text/plain": [
       "               0.0     1.0  micro avg  macro avg  weighted avg\n",
       "f1-score     0.927   0.381      0.869      0.654         0.875\n",
       "precision    0.939   0.344      0.869      0.641         0.882\n",
       "recall       0.915   0.427      0.869      0.671         0.869\n",
       "support    719.000  75.000    794.000    794.000       794.000"
      ]
     },
     "metadata": {},
     "output_type": "display_data"
    },
    {
     "name": "stdout",
     "output_type": "stream",
     "text": [
      "Model not saved on  roc_auc 0.6939545665275846\n"
     ]
    },
    {
     "data": {
      "application/vnd.jupyter.widget-view+json": {
       "model_id": "1a6e23c1fb01434b97af5dc2454c382c",
       "version_major": 2,
       "version_minor": 0
      },
      "text/plain": [
       "HBox(children=(IntProgress(value=0, max=115), HTML(value='')))"
      ]
     },
     "metadata": {},
     "output_type": "display_data"
    },
    {
     "data": {
      "application/vnd.jupyter.widget-view+json": {
       "model_id": "c34017817bf8474695ba71c131fb7a62",
       "version_major": 2,
       "version_minor": 0
      },
      "text/plain": [
       "HBox(children=(IntProgress(value=0, max=25), HTML(value='')))"
      ]
     },
     "metadata": {},
     "output_type": "display_data"
    },
    {
     "name": "stdout",
     "output_type": "stream",
     "text": [
      "{'accuracy': 0.6612090680100756, 'roc_auc': 0.7735187760778859, 'pr_auc': 0.34746096697060114}\n"
     ]
    },
    {
     "data": {
      "text/html": [
       "<div>\n",
       "<style scoped>\n",
       "    .dataframe tbody tr th:only-of-type {\n",
       "        vertical-align: middle;\n",
       "    }\n",
       "\n",
       "    .dataframe tbody tr th {\n",
       "        vertical-align: top;\n",
       "    }\n",
       "\n",
       "    .dataframe thead th {\n",
       "        text-align: right;\n",
       "    }\n",
       "</style>\n",
       "<table border=\"1\" class=\"dataframe\">\n",
       "  <thead>\n",
       "    <tr style=\"text-align: right;\">\n",
       "      <th></th>\n",
       "      <th>0.0</th>\n",
       "      <th>1.0</th>\n",
       "      <th>micro avg</th>\n",
       "      <th>macro avg</th>\n",
       "      <th>weighted avg</th>\n",
       "    </tr>\n",
       "  </thead>\n",
       "  <tbody>\n",
       "    <tr>\n",
       "      <th>f1-score</th>\n",
       "      <td>0.776</td>\n",
       "      <td>0.301</td>\n",
       "      <td>0.661</td>\n",
       "      <td>0.539</td>\n",
       "      <td>0.732</td>\n",
       "    </tr>\n",
       "    <tr>\n",
       "      <th>precision</th>\n",
       "      <td>0.965</td>\n",
       "      <td>0.187</td>\n",
       "      <td>0.661</td>\n",
       "      <td>0.576</td>\n",
       "      <td>0.891</td>\n",
       "    </tr>\n",
       "    <tr>\n",
       "      <th>recall</th>\n",
       "      <td>0.650</td>\n",
       "      <td>0.773</td>\n",
       "      <td>0.661</td>\n",
       "      <td>0.711</td>\n",
       "      <td>0.661</td>\n",
       "    </tr>\n",
       "    <tr>\n",
       "      <th>support</th>\n",
       "      <td>719.000</td>\n",
       "      <td>75.000</td>\n",
       "      <td>794.000</td>\n",
       "      <td>794.000</td>\n",
       "      <td>794.000</td>\n",
       "    </tr>\n",
       "  </tbody>\n",
       "</table>\n",
       "</div>"
      ],
      "text/plain": [
       "               0.0     1.0  micro avg  macro avg  weighted avg\n",
       "f1-score     0.776   0.301      0.661      0.539         0.732\n",
       "precision    0.965   0.187      0.661      0.576         0.891\n",
       "recall       0.650   0.773      0.661      0.711         0.661\n",
       "support    719.000  75.000    794.000    794.000       794.000"
      ]
     },
     "metadata": {},
     "output_type": "display_data"
    },
    {
     "name": "stdout",
     "output_type": "stream",
     "text": [
      "Model Saved on  roc_auc 0.7735187760778859\n"
     ]
    },
    {
     "data": {
      "application/vnd.jupyter.widget-view+json": {
       "model_id": "3b0ccc7c6c894fbfba3c9642c8c5ccfd",
       "version_major": 2,
       "version_minor": 0
      },
      "text/plain": [
       "HBox(children=(IntProgress(value=0, max=115), HTML(value='')))"
      ]
     },
     "metadata": {},
     "output_type": "display_data"
    },
    {
     "data": {
      "application/vnd.jupyter.widget-view+json": {
       "model_id": "6efbf1e59f9543c3ad4d0952f2ee2324",
       "version_major": 2,
       "version_minor": 0
      },
      "text/plain": [
       "HBox(children=(IntProgress(value=0, max=25), HTML(value='')))"
      ]
     },
     "metadata": {},
     "output_type": "display_data"
    },
    {
     "name": "stdout",
     "output_type": "stream",
     "text": [
      "{'accuracy': 0.8438287153652393, 'roc_auc': 0.7761520630505331, 'pr_auc': 0.32130691249266363}\n"
     ]
    },
    {
     "data": {
      "text/html": [
       "<div>\n",
       "<style scoped>\n",
       "    .dataframe tbody tr th:only-of-type {\n",
       "        vertical-align: middle;\n",
       "    }\n",
       "\n",
       "    .dataframe tbody tr th {\n",
       "        vertical-align: top;\n",
       "    }\n",
       "\n",
       "    .dataframe thead th {\n",
       "        text-align: right;\n",
       "    }\n",
       "</style>\n",
       "<table border=\"1\" class=\"dataframe\">\n",
       "  <thead>\n",
       "    <tr style=\"text-align: right;\">\n",
       "      <th></th>\n",
       "      <th>0.0</th>\n",
       "      <th>1.0</th>\n",
       "      <th>micro avg</th>\n",
       "      <th>macro avg</th>\n",
       "      <th>weighted avg</th>\n",
       "    </tr>\n",
       "  </thead>\n",
       "  <tbody>\n",
       "    <tr>\n",
       "      <th>f1-score</th>\n",
       "      <td>0.910</td>\n",
       "      <td>0.392</td>\n",
       "      <td>0.844</td>\n",
       "      <td>0.651</td>\n",
       "      <td>0.861</td>\n",
       "    </tr>\n",
       "    <tr>\n",
       "      <th>precision</th>\n",
       "      <td>0.947</td>\n",
       "      <td>0.310</td>\n",
       "      <td>0.844</td>\n",
       "      <td>0.629</td>\n",
       "      <td>0.887</td>\n",
       "    </tr>\n",
       "    <tr>\n",
       "      <th>recall</th>\n",
       "      <td>0.876</td>\n",
       "      <td>0.533</td>\n",
       "      <td>0.844</td>\n",
       "      <td>0.705</td>\n",
       "      <td>0.844</td>\n",
       "    </tr>\n",
       "    <tr>\n",
       "      <th>support</th>\n",
       "      <td>719.000</td>\n",
       "      <td>75.000</td>\n",
       "      <td>794.000</td>\n",
       "      <td>794.000</td>\n",
       "      <td>794.000</td>\n",
       "    </tr>\n",
       "  </tbody>\n",
       "</table>\n",
       "</div>"
      ],
      "text/plain": [
       "               0.0     1.0  micro avg  macro avg  weighted avg\n",
       "f1-score     0.910   0.392      0.844      0.651         0.861\n",
       "precision    0.947   0.310      0.844      0.629         0.887\n",
       "recall       0.876   0.533      0.844      0.705         0.844\n",
       "support    719.000  75.000    794.000    794.000       794.000"
      ]
     },
     "metadata": {},
     "output_type": "display_data"
    },
    {
     "name": "stdout",
     "output_type": "stream",
     "text": [
      "Model Saved on  roc_auc 0.7761520630505331\n"
     ]
    },
    {
     "data": {
      "application/vnd.jupyter.widget-view+json": {
       "model_id": "a975ba70064149778a38778cb17a55aa",
       "version_major": 2,
       "version_minor": 0
      },
      "text/plain": [
       "HBox(children=(IntProgress(value=0, max=115), HTML(value='')))"
      ]
     },
     "metadata": {},
     "output_type": "display_data"
    },
    {
     "data": {
      "application/vnd.jupyter.widget-view+json": {
       "model_id": "9c33e009b3ed47a2bdcb10faba5d75d5",
       "version_major": 2,
       "version_minor": 0
      },
      "text/plain": [
       "HBox(children=(IntProgress(value=0, max=25), HTML(value='')))"
      ]
     },
     "metadata": {},
     "output_type": "display_data"
    },
    {
     "name": "stdout",
     "output_type": "stream",
     "text": [
      "{'accuracy': 0.8664987405541562, 'roc_auc': 0.7806954102920722, 'pr_auc': 0.3493605690742423}\n"
     ]
    },
    {
     "data": {
      "text/html": [
       "<div>\n",
       "<style scoped>\n",
       "    .dataframe tbody tr th:only-of-type {\n",
       "        vertical-align: middle;\n",
       "    }\n",
       "\n",
       "    .dataframe tbody tr th {\n",
       "        vertical-align: top;\n",
       "    }\n",
       "\n",
       "    .dataframe thead th {\n",
       "        text-align: right;\n",
       "    }\n",
       "</style>\n",
       "<table border=\"1\" class=\"dataframe\">\n",
       "  <thead>\n",
       "    <tr style=\"text-align: right;\">\n",
       "      <th></th>\n",
       "      <th>0.0</th>\n",
       "      <th>1.0</th>\n",
       "      <th>micro avg</th>\n",
       "      <th>macro avg</th>\n",
       "      <th>weighted avg</th>\n",
       "    </tr>\n",
       "  </thead>\n",
       "  <tbody>\n",
       "    <tr>\n",
       "      <th>f1-score</th>\n",
       "      <td>0.925</td>\n",
       "      <td>0.411</td>\n",
       "      <td>0.866</td>\n",
       "      <td>0.668</td>\n",
       "      <td>0.876</td>\n",
       "    </tr>\n",
       "    <tr>\n",
       "      <th>precision</th>\n",
       "      <td>0.945</td>\n",
       "      <td>0.352</td>\n",
       "      <td>0.866</td>\n",
       "      <td>0.649</td>\n",
       "      <td>0.889</td>\n",
       "    </tr>\n",
       "    <tr>\n",
       "      <th>recall</th>\n",
       "      <td>0.905</td>\n",
       "      <td>0.493</td>\n",
       "      <td>0.866</td>\n",
       "      <td>0.699</td>\n",
       "      <td>0.866</td>\n",
       "    </tr>\n",
       "    <tr>\n",
       "      <th>support</th>\n",
       "      <td>719.000</td>\n",
       "      <td>75.000</td>\n",
       "      <td>794.000</td>\n",
       "      <td>794.000</td>\n",
       "      <td>794.000</td>\n",
       "    </tr>\n",
       "  </tbody>\n",
       "</table>\n",
       "</div>"
      ],
      "text/plain": [
       "               0.0     1.0  micro avg  macro avg  weighted avg\n",
       "f1-score     0.925   0.411      0.866      0.668         0.876\n",
       "precision    0.945   0.352      0.866      0.649         0.889\n",
       "recall       0.905   0.493      0.866      0.699         0.866\n",
       "support    719.000  75.000    794.000    794.000       794.000"
      ]
     },
     "metadata": {},
     "output_type": "display_data"
    },
    {
     "name": "stdout",
     "output_type": "stream",
     "text": [
      "Model Saved on  roc_auc 0.7806954102920722\n"
     ]
    },
    {
     "data": {
      "application/vnd.jupyter.widget-view+json": {
       "model_id": "9d0bfcc9723d4237b26cd520ef70f65e",
       "version_major": 2,
       "version_minor": 0
      },
      "text/plain": [
       "HBox(children=(IntProgress(value=0, max=115), HTML(value='')))"
      ]
     },
     "metadata": {},
     "output_type": "display_data"
    },
    {
     "data": {
      "application/vnd.jupyter.widget-view+json": {
       "model_id": "c7bee293e16d41f38848079f4e8ee459",
       "version_major": 2,
       "version_minor": 0
      },
      "text/plain": [
       "HBox(children=(IntProgress(value=0, max=25), HTML(value='')))"
      ]
     },
     "metadata": {},
     "output_type": "display_data"
    },
    {
     "name": "stdout",
     "output_type": "stream",
     "text": [
      "{'accuracy': 0.8387909319899244, 'roc_auc': 0.7355215577190543, 'pr_auc': 0.2886502306791347}\n"
     ]
    },
    {
     "data": {
      "text/html": [
       "<div>\n",
       "<style scoped>\n",
       "    .dataframe tbody tr th:only-of-type {\n",
       "        vertical-align: middle;\n",
       "    }\n",
       "\n",
       "    .dataframe tbody tr th {\n",
       "        vertical-align: top;\n",
       "    }\n",
       "\n",
       "    .dataframe thead th {\n",
       "        text-align: right;\n",
       "    }\n",
       "</style>\n",
       "<table border=\"1\" class=\"dataframe\">\n",
       "  <thead>\n",
       "    <tr style=\"text-align: right;\">\n",
       "      <th></th>\n",
       "      <th>0.0</th>\n",
       "      <th>1.0</th>\n",
       "      <th>micro avg</th>\n",
       "      <th>macro avg</th>\n",
       "      <th>weighted avg</th>\n",
       "    </tr>\n",
       "  </thead>\n",
       "  <tbody>\n",
       "    <tr>\n",
       "      <th>f1-score</th>\n",
       "      <td>0.908</td>\n",
       "      <td>0.347</td>\n",
       "      <td>0.839</td>\n",
       "      <td>0.627</td>\n",
       "      <td>0.855</td>\n",
       "    </tr>\n",
       "    <tr>\n",
       "      <th>precision</th>\n",
       "      <td>0.939</td>\n",
       "      <td>0.281</td>\n",
       "      <td>0.839</td>\n",
       "      <td>0.610</td>\n",
       "      <td>0.877</td>\n",
       "    </tr>\n",
       "    <tr>\n",
       "      <th>recall</th>\n",
       "      <td>0.879</td>\n",
       "      <td>0.453</td>\n",
       "      <td>0.839</td>\n",
       "      <td>0.666</td>\n",
       "      <td>0.839</td>\n",
       "    </tr>\n",
       "    <tr>\n",
       "      <th>support</th>\n",
       "      <td>719.000</td>\n",
       "      <td>75.000</td>\n",
       "      <td>794.000</td>\n",
       "      <td>794.000</td>\n",
       "      <td>794.000</td>\n",
       "    </tr>\n",
       "  </tbody>\n",
       "</table>\n",
       "</div>"
      ],
      "text/plain": [
       "               0.0     1.0  micro avg  macro avg  weighted avg\n",
       "f1-score     0.908   0.347      0.839      0.627         0.855\n",
       "precision    0.939   0.281      0.839      0.610         0.877\n",
       "recall       0.879   0.453      0.839      0.666         0.839\n",
       "support    719.000  75.000    794.000    794.000       794.000"
      ]
     },
     "metadata": {},
     "output_type": "display_data"
    },
    {
     "name": "stderr",
     "output_type": "stream",
     "text": [
      "INFO - 2019-04-01 16:23:53,154 - instantiating class <class 'Transparency.model.modules.Encoder.Encoder'> from params {'vocab_size': 10842, 'embed_size': 200, 'type': 'rnn', 'hidden_size': 128, 'pre_embed': None} and extras {}\n",
      "INFO - 2019-04-01 16:23:53,154 - type = rnn\n",
      "INFO - 2019-04-01 16:23:53,155 - instantiating class <class 'Transparency.model.modules.Encoder.EncoderRNN'> from params {'vocab_size': 10842, 'embed_size': 200, 'hidden_size': 128, 'pre_embed': None} and extras {}\n",
      "INFO - 2019-04-01 16:23:53,155 - vocab_size = 10842\n",
      "INFO - 2019-04-01 16:23:53,156 - embed_size = 200\n",
      "INFO - 2019-04-01 16:23:53,156 - hidden_size = 128\n",
      "INFO - 2019-04-01 16:23:53,157 - pre_embed = None\n",
      "INFO - 2019-04-01 16:23:53,172 - instantiating class <class 'Transparency.model.modules.Decoder.AttnDecoder'> from params {'attention': {'type': 'dot'}, 'output_size': 1, 'hidden_size': 256} and extras {}\n",
      "INFO - 2019-04-01 16:23:53,172 - hidden_size = 256\n",
      "INFO - 2019-04-01 16:23:53,173 - output_size = 1\n",
      "INFO - 2019-04-01 16:23:53,173 - use_attention = True\n",
      "INFO - 2019-04-01 16:23:53,174 - regularizer_attention = None\n",
      "INFO - 2019-04-01 16:23:53,174 - instantiating class <class 'Transparency.model.modules.Attention.Attention'> from params <allennlp.common.params.Params object at 0x7f361545da90> and extras {}\n",
      "INFO - 2019-04-01 16:23:53,175 - attention.type = dot\n",
      "INFO - 2019-04-01 16:23:53,175 - type = dot\n",
      "INFO - 2019-04-01 16:23:53,176 - instantiating class <class 'Transparency.model.modules.Attention.DotAttention'> from params <allennlp.common.params.Params object at 0x7f361545da90> and extras {}\n",
      "INFO - 2019-04-01 16:23:53,176 - attention.hidden_size = 256\n",
      "INFO - 2019-04-01 16:23:53,177 - hidden_size = 256\n"
     ]
    },
    {
     "name": "stdout",
     "output_type": "stream",
     "text": [
      "Model not saved on  roc_auc 0.7355215577190543\n",
      "\n"
     ]
    },
    {
     "data": {
      "application/vnd.jupyter.widget-view+json": {
       "model_id": "6b01d2f4afab4687849daae206171200",
       "version_major": 2,
       "version_minor": 0
      },
      "text/plain": [
       "HBox(children=(IntProgress(value=0, max=25), HTML(value='')))"
      ]
     },
     "metadata": {},
     "output_type": "display_data"
    },
    {
     "name": "stdout",
     "output_type": "stream",
     "text": [
      "\n",
      "{'accuracy': 0.8664987405541562, 'roc_auc': 0.7806954102920722, 'pr_auc': 0.3493605690742423}\n"
     ]
    },
    {
     "data": {
      "text/html": [
       "<div>\n",
       "<style scoped>\n",
       "    .dataframe tbody tr th:only-of-type {\n",
       "        vertical-align: middle;\n",
       "    }\n",
       "\n",
       "    .dataframe tbody tr th {\n",
       "        vertical-align: top;\n",
       "    }\n",
       "\n",
       "    .dataframe thead th {\n",
       "        text-align: right;\n",
       "    }\n",
       "</style>\n",
       "<table border=\"1\" class=\"dataframe\">\n",
       "  <thead>\n",
       "    <tr style=\"text-align: right;\">\n",
       "      <th></th>\n",
       "      <th>0.0</th>\n",
       "      <th>1.0</th>\n",
       "      <th>micro avg</th>\n",
       "      <th>macro avg</th>\n",
       "      <th>weighted avg</th>\n",
       "    </tr>\n",
       "  </thead>\n",
       "  <tbody>\n",
       "    <tr>\n",
       "      <th>f1-score</th>\n",
       "      <td>0.925</td>\n",
       "      <td>0.411</td>\n",
       "      <td>0.866</td>\n",
       "      <td>0.668</td>\n",
       "      <td>0.876</td>\n",
       "    </tr>\n",
       "    <tr>\n",
       "      <th>precision</th>\n",
       "      <td>0.945</td>\n",
       "      <td>0.352</td>\n",
       "      <td>0.866</td>\n",
       "      <td>0.649</td>\n",
       "      <td>0.889</td>\n",
       "    </tr>\n",
       "    <tr>\n",
       "      <th>recall</th>\n",
       "      <td>0.905</td>\n",
       "      <td>0.493</td>\n",
       "      <td>0.866</td>\n",
       "      <td>0.699</td>\n",
       "      <td>0.866</td>\n",
       "    </tr>\n",
       "    <tr>\n",
       "      <th>support</th>\n",
       "      <td>719.000</td>\n",
       "      <td>75.000</td>\n",
       "      <td>794.000</td>\n",
       "      <td>794.000</td>\n",
       "      <td>794.000</td>\n",
       "    </tr>\n",
       "  </tbody>\n",
       "</table>\n",
       "</div>"
      ],
      "text/plain": [
       "               0.0     1.0  micro avg  macro avg  weighted avg\n",
       "f1-score     0.925   0.411      0.866      0.668         0.876\n",
       "precision    0.945   0.352      0.866      0.649         0.889\n",
       "recall       0.905   0.493      0.866      0.699         0.866\n",
       "support    719.000  75.000    794.000    794.000       794.000"
      ]
     },
     "metadata": {},
     "output_type": "display_data"
    },
    {
     "name": "stderr",
     "output_type": "stream",
     "text": [
      "INFO - 2019-04-01 16:23:55,028 - instantiating class <class 'Transparency.model.modules.Encoder.Encoder'> from params {'vocab_size': 10842, 'embed_size': 200, 'kernel_sizes': [1, 3, 5, 7], 'hidden_size': 64, 'activation': 'relu', 'type': 'cnn', 'pre_embed': None} and extras {}\n",
      "INFO - 2019-04-01 16:23:55,029 - type = cnn\n",
      "INFO - 2019-04-01 16:23:55,029 - instantiating class <class 'Transparency.model.modules.Encoder.EncoderCNN'> from params {'vocab_size': 10842, 'embed_size': 200, 'kernel_sizes': [1, 3, 5, 7], 'hidden_size': 64, 'activation': 'relu', 'pre_embed': None} and extras {}\n",
      "INFO - 2019-04-01 16:23:55,030 - vocab_size = 10842\n",
      "INFO - 2019-04-01 16:23:55,030 - embed_size = 200\n",
      "INFO - 2019-04-01 16:23:55,030 - hidden_size = 64\n",
      "INFO - 2019-04-01 16:23:55,031 - kernel_sizes = [1, 3, 5, 7]\n",
      "INFO - 2019-04-01 16:23:55,031 - activation = relu\n",
      "INFO - 2019-04-01 16:23:55,032 - pre_embed = None\n",
      "INFO - 2019-04-01 16:23:55,046 - instantiating class <class 'Transparency.model.modules.Decoder.AttnDecoder'> from params {'attention': {'type': 'dot'}, 'output_size': 1, 'hidden_size': 256} and extras {}\n",
      "INFO - 2019-04-01 16:23:55,047 - hidden_size = 256\n",
      "INFO - 2019-04-01 16:23:55,047 - output_size = 1\n",
      "INFO - 2019-04-01 16:23:55,047 - use_attention = True\n",
      "INFO - 2019-04-01 16:23:55,048 - regularizer_attention = None\n",
      "INFO - 2019-04-01 16:23:55,048 - instantiating class <class 'Transparency.model.modules.Attention.Attention'> from params <allennlp.common.params.Params object at 0x7f361559ea58> and extras {}\n",
      "INFO - 2019-04-01 16:23:55,049 - attention.type = dot\n",
      "INFO - 2019-04-01 16:23:55,049 - type = dot\n",
      "INFO - 2019-04-01 16:23:55,050 - instantiating class <class 'Transparency.model.modules.Attention.DotAttention'> from params <allennlp.common.params.Params object at 0x7f361559ea58> and extras {}\n",
      "INFO - 2019-04-01 16:23:55,050 - attention.hidden_size = 256\n",
      "INFO - 2019-04-01 16:23:55,050 - hidden_size = 256\n"
     ]
    },
    {
     "data": {
      "application/vnd.jupyter.widget-view+json": {
       "model_id": "89cf61fad14e42eea256d108d76fbfc0",
       "version_major": 2,
       "version_minor": 0
      },
      "text/plain": [
       "HBox(children=(IntProgress(value=0, max=25), HTML(value='')))"
      ]
     },
     "metadata": {},
     "output_type": "display_data"
    },
    {
     "name": "stdout",
     "output_type": "stream",
     "text": [
      "\n",
      "{'accuracy': 0.7317380352644837, 'roc_auc': 0.7990913305516921, 'pr_auc': 0.38658314302035807}\n"
     ]
    },
    {
     "data": {
      "text/html": [
       "<div>\n",
       "<style scoped>\n",
       "    .dataframe tbody tr th:only-of-type {\n",
       "        vertical-align: middle;\n",
       "    }\n",
       "\n",
       "    .dataframe tbody tr th {\n",
       "        vertical-align: top;\n",
       "    }\n",
       "\n",
       "    .dataframe thead th {\n",
       "        text-align: right;\n",
       "    }\n",
       "</style>\n",
       "<table border=\"1\" class=\"dataframe\">\n",
       "  <thead>\n",
       "    <tr style=\"text-align: right;\">\n",
       "      <th></th>\n",
       "      <th>0.0</th>\n",
       "      <th>1.0</th>\n",
       "      <th>micro avg</th>\n",
       "      <th>macro avg</th>\n",
       "      <th>weighted avg</th>\n",
       "    </tr>\n",
       "  </thead>\n",
       "  <tbody>\n",
       "    <tr>\n",
       "      <th>f1-score</th>\n",
       "      <td>0.832</td>\n",
       "      <td>0.341</td>\n",
       "      <td>0.732</td>\n",
       "      <td>0.586</td>\n",
       "      <td>0.785</td>\n",
       "    </tr>\n",
       "    <tr>\n",
       "      <th>precision</th>\n",
       "      <td>0.963</td>\n",
       "      <td>0.222</td>\n",
       "      <td>0.732</td>\n",
       "      <td>0.593</td>\n",
       "      <td>0.893</td>\n",
       "    </tr>\n",
       "    <tr>\n",
       "      <th>recall</th>\n",
       "      <td>0.732</td>\n",
       "      <td>0.733</td>\n",
       "      <td>0.732</td>\n",
       "      <td>0.732</td>\n",
       "      <td>0.732</td>\n",
       "    </tr>\n",
       "    <tr>\n",
       "      <th>support</th>\n",
       "      <td>719.000</td>\n",
       "      <td>75.000</td>\n",
       "      <td>794.000</td>\n",
       "      <td>794.000</td>\n",
       "      <td>794.000</td>\n",
       "    </tr>\n",
       "  </tbody>\n",
       "</table>\n",
       "</div>"
      ],
      "text/plain": [
       "               0.0     1.0  micro avg  macro avg  weighted avg\n",
       "f1-score     0.832   0.341      0.732      0.586         0.785\n",
       "precision    0.963   0.222      0.732      0.593         0.893\n",
       "recall       0.732   0.733      0.732      0.732         0.732\n",
       "support    719.000  75.000    794.000    794.000       794.000"
      ]
     },
     "metadata": {},
     "output_type": "display_data"
    },
    {
     "data": {
      "application/vnd.jupyter.widget-view+json": {
       "model_id": "0116a54fc7094f6daae309f3f7504472",
       "version_major": 2,
       "version_minor": 0
      },
      "text/plain": [
       "HBox(children=(IntProgress(value=0, max=25), HTML(value='')))"
      ]
     },
     "metadata": {},
     "output_type": "display_data"
    },
    {
     "name": "stdout",
     "output_type": "stream",
     "text": [
      "\n"
     ]
    },
    {
     "data": {
      "application/vnd.jupyter.widget-view+json": {
       "model_id": "e4c643c6aac643f4918aa0f2d5a99cc3",
       "version_major": 2,
       "version_minor": 0
      },
      "text/plain": [
       "HBox(children=(IntProgress(value=0, max=25), HTML(value='')))"
      ]
     },
     "metadata": {},
     "output_type": "display_data"
    },
    {
     "name": "stdout",
     "output_type": "stream",
     "text": [
      "\n"
     ]
    },
    {
     "data": {
      "application/vnd.jupyter.widget-view+json": {
       "model_id": "cb85839e616d4c25b63e660054a08a82",
       "version_major": 2,
       "version_minor": 0
      },
      "text/plain": [
       "HBox(children=(IntProgress(value=0, max=25), HTML(value='')))"
      ]
     },
     "metadata": {},
     "output_type": "display_data"
    },
    {
     "name": "stdout",
     "output_type": "stream",
     "text": [
      "\n"
     ]
    },
    {
     "name": "stderr",
     "output_type": "stream",
     "text": [
      "INFO - 2019-04-01 16:26:24,196 - instantiating class <class 'Transparency.model.modules.Encoder.Encoder'> from params {'vocab_size': 10842, 'embed_size': 200, 'projection': True, 'hidden_size': 128, 'activation': 'tanh', 'type': 'average', 'pre_embed': None} and extras {}\n",
      "INFO - 2019-04-01 16:26:24,197 - type = average\n",
      "INFO - 2019-04-01 16:26:24,197 - instantiating class <class 'Transparency.model.modules.Encoder.EncoderAverage'> from params {'vocab_size': 10842, 'embed_size': 200, 'projection': True, 'hidden_size': 128, 'activation': 'tanh', 'pre_embed': None} and extras {}\n",
      "INFO - 2019-04-01 16:26:24,198 - vocab_size = 10842\n",
      "INFO - 2019-04-01 16:26:24,198 - embed_size = 200\n",
      "INFO - 2019-04-01 16:26:24,199 - projection = True\n",
      "INFO - 2019-04-01 16:26:24,199 - hidden_size = 128\n",
      "INFO - 2019-04-01 16:26:24,199 - activation = tanh\n",
      "INFO - 2019-04-01 16:26:24,200 - pre_embed = None\n",
      "INFO - 2019-04-01 16:26:24,215 - instantiating class <class 'Transparency.model.modules.Decoder.AttnDecoder'> from params {'attention': {'type': 'dot'}, 'output_size': 1, 'hidden_size': 128} and extras {}\n",
      "INFO - 2019-04-01 16:26:24,215 - hidden_size = 128\n",
      "INFO - 2019-04-01 16:26:24,215 - output_size = 1\n",
      "INFO - 2019-04-01 16:26:24,216 - use_attention = True\n",
      "INFO - 2019-04-01 16:26:24,216 - regularizer_attention = None\n",
      "INFO - 2019-04-01 16:26:24,217 - instantiating class <class 'Transparency.model.modules.Attention.Attention'> from params <allennlp.common.params.Params object at 0x7f36154fea20> and extras {}\n",
      "INFO - 2019-04-01 16:26:24,217 - attention.type = dot\n",
      "INFO - 2019-04-01 16:26:24,218 - type = dot\n",
      "INFO - 2019-04-01 16:26:24,218 - instantiating class <class 'Transparency.model.modules.Attention.DotAttention'> from params <allennlp.common.params.Params object at 0x7f36154fea20> and extras {}\n",
      "INFO - 2019-04-01 16:26:24,218 - attention.hidden_size = 128\n",
      "INFO - 2019-04-01 16:26:24,219 - hidden_size = 128\n"
     ]
    },
    {
     "data": {
      "application/vnd.jupyter.widget-view+json": {
       "model_id": "5e35a9c845d9407197ec5074411c8988",
       "version_major": 2,
       "version_minor": 0
      },
      "text/plain": [
       "HBox(children=(IntProgress(value=0, max=25), HTML(value='')))"
      ]
     },
     "metadata": {},
     "output_type": "display_data"
    },
    {
     "name": "stdout",
     "output_type": "stream",
     "text": [
      "\n",
      "{'accuracy': 0.5730478589420654, 'roc_auc': 0.7908762169680111, 'pr_auc': 0.36543827232886744}\n"
     ]
    },
    {
     "data": {
      "text/html": [
       "<div>\n",
       "<style scoped>\n",
       "    .dataframe tbody tr th:only-of-type {\n",
       "        vertical-align: middle;\n",
       "    }\n",
       "\n",
       "    .dataframe tbody tr th {\n",
       "        vertical-align: top;\n",
       "    }\n",
       "\n",
       "    .dataframe thead th {\n",
       "        text-align: right;\n",
       "    }\n",
       "</style>\n",
       "<table border=\"1\" class=\"dataframe\">\n",
       "  <thead>\n",
       "    <tr style=\"text-align: right;\">\n",
       "      <th></th>\n",
       "      <th>0.0</th>\n",
       "      <th>1.0</th>\n",
       "      <th>micro avg</th>\n",
       "      <th>macro avg</th>\n",
       "      <th>weighted avg</th>\n",
       "    </tr>\n",
       "  </thead>\n",
       "  <tbody>\n",
       "    <tr>\n",
       "      <th>f1-score</th>\n",
       "      <td>0.698</td>\n",
       "      <td>0.271</td>\n",
       "      <td>0.573</td>\n",
       "      <td>0.485</td>\n",
       "      <td>0.658</td>\n",
       "    </tr>\n",
       "    <tr>\n",
       "      <th>precision</th>\n",
       "      <td>0.970</td>\n",
       "      <td>0.162</td>\n",
       "      <td>0.573</td>\n",
       "      <td>0.566</td>\n",
       "      <td>0.894</td>\n",
       "    </tr>\n",
       "    <tr>\n",
       "      <th>recall</th>\n",
       "      <td>0.545</td>\n",
       "      <td>0.840</td>\n",
       "      <td>0.573</td>\n",
       "      <td>0.693</td>\n",
       "      <td>0.573</td>\n",
       "    </tr>\n",
       "    <tr>\n",
       "      <th>support</th>\n",
       "      <td>719.000</td>\n",
       "      <td>75.000</td>\n",
       "      <td>794.000</td>\n",
       "      <td>794.000</td>\n",
       "      <td>794.000</td>\n",
       "    </tr>\n",
       "  </tbody>\n",
       "</table>\n",
       "</div>"
      ],
      "text/plain": [
       "               0.0     1.0  micro avg  macro avg  weighted avg\n",
       "f1-score     0.698   0.271      0.573      0.485         0.658\n",
       "precision    0.970   0.162      0.573      0.566         0.894\n",
       "recall       0.545   0.840      0.573      0.693         0.573\n",
       "support    719.000  75.000    794.000    794.000       794.000"
      ]
     },
     "metadata": {},
     "output_type": "display_data"
    },
    {
     "data": {
      "application/vnd.jupyter.widget-view+json": {
       "model_id": "4e5ff6474e2c47eea875d10d6464034a",
       "version_major": 2,
       "version_minor": 0
      },
      "text/plain": [
       "HBox(children=(IntProgress(value=0, max=25), HTML(value='')))"
      ]
     },
     "metadata": {},
     "output_type": "display_data"
    },
    {
     "name": "stdout",
     "output_type": "stream",
     "text": [
      "\n"
     ]
    },
    {
     "data": {
      "application/vnd.jupyter.widget-view+json": {
       "model_id": "7ccc1ecfcc5d46988d155f234ef1a589",
       "version_major": 2,
       "version_minor": 0
      },
      "text/plain": [
       "HBox(children=(IntProgress(value=0, max=25), HTML(value='')))"
      ]
     },
     "metadata": {},
     "output_type": "display_data"
    },
    {
     "name": "stdout",
     "output_type": "stream",
     "text": [
      "\n"
     ]
    },
    {
     "data": {
      "application/vnd.jupyter.widget-view+json": {
       "model_id": "4384f646a6d14cbcac1c80a3322783c8",
       "version_major": 2,
       "version_minor": 0
      },
      "text/plain": [
       "HBox(children=(IntProgress(value=0, max=25), HTML(value='')))"
      ]
     },
     "metadata": {},
     "output_type": "display_data"
    },
    {
     "name": "stdout",
     "output_type": "stream",
     "text": [
      "\n"
     ]
    },
    {
     "name": "stderr",
     "output_type": "stream",
     "text": [
      "INFO - 2019-04-01 16:28:13,242 - instantiating class <class 'Transparency.model.modules.Encoder.Encoder'> from params {'vocab_size': 10842, 'embed_size': 200, 'type': 'rnn', 'hidden_size': 128, 'pre_embed': None} and extras {}\n",
      "INFO - 2019-04-01 16:28:13,242 - type = rnn\n",
      "INFO - 2019-04-01 16:28:13,243 - instantiating class <class 'Transparency.model.modules.Encoder.EncoderRNN'> from params {'vocab_size': 10842, 'embed_size': 200, 'hidden_size': 128, 'pre_embed': None} and extras {}\n",
      "INFO - 2019-04-01 16:28:13,243 - vocab_size = 10842\n",
      "INFO - 2019-04-01 16:28:13,244 - embed_size = 200\n",
      "INFO - 2019-04-01 16:28:13,244 - hidden_size = 128\n",
      "INFO - 2019-04-01 16:28:13,244 - pre_embed = None\n",
      "INFO - 2019-04-01 16:28:13,261 - instantiating class <class 'Transparency.model.modules.Decoder.AttnDecoder'> from params {'attention': {'type': 'dot'}, 'output_size': 1, 'hidden_size': 256} and extras {}\n",
      "INFO - 2019-04-01 16:28:13,262 - hidden_size = 256\n",
      "INFO - 2019-04-01 16:28:13,262 - output_size = 1\n",
      "INFO - 2019-04-01 16:28:13,263 - use_attention = True\n",
      "INFO - 2019-04-01 16:28:13,263 - regularizer_attention = None\n",
      "INFO - 2019-04-01 16:28:13,264 - instantiating class <class 'Transparency.model.modules.Attention.Attention'> from params <allennlp.common.params.Params object at 0x7f36154b76d8> and extras {}\n",
      "INFO - 2019-04-01 16:28:13,264 - attention.type = dot\n",
      "INFO - 2019-04-01 16:28:13,264 - type = dot\n",
      "INFO - 2019-04-01 16:28:13,265 - instantiating class <class 'Transparency.model.modules.Attention.DotAttention'> from params <allennlp.common.params.Params object at 0x7f36154b76d8> and extras {}\n",
      "INFO - 2019-04-01 16:28:13,265 - attention.hidden_size = 256\n",
      "INFO - 2019-04-01 16:28:13,266 - hidden_size = 256\n"
     ]
    },
    {
     "data": {
      "application/vnd.jupyter.widget-view+json": {
       "model_id": "bb2eb7ee926a469f86a8945a206c2f5d",
       "version_major": 2,
       "version_minor": 0
      },
      "text/plain": [
       "HBox(children=(IntProgress(value=0, max=25), HTML(value='')))"
      ]
     },
     "metadata": {},
     "output_type": "display_data"
    },
    {
     "name": "stdout",
     "output_type": "stream",
     "text": [
      "\n",
      "{'accuracy': 0.8664987405541562, 'roc_auc': 0.7806954102920722, 'pr_auc': 0.3493605690742423}\n"
     ]
    },
    {
     "data": {
      "text/html": [
       "<div>\n",
       "<style scoped>\n",
       "    .dataframe tbody tr th:only-of-type {\n",
       "        vertical-align: middle;\n",
       "    }\n",
       "\n",
       "    .dataframe tbody tr th {\n",
       "        vertical-align: top;\n",
       "    }\n",
       "\n",
       "    .dataframe thead th {\n",
       "        text-align: right;\n",
       "    }\n",
       "</style>\n",
       "<table border=\"1\" class=\"dataframe\">\n",
       "  <thead>\n",
       "    <tr style=\"text-align: right;\">\n",
       "      <th></th>\n",
       "      <th>0.0</th>\n",
       "      <th>1.0</th>\n",
       "      <th>micro avg</th>\n",
       "      <th>macro avg</th>\n",
       "      <th>weighted avg</th>\n",
       "    </tr>\n",
       "  </thead>\n",
       "  <tbody>\n",
       "    <tr>\n",
       "      <th>f1-score</th>\n",
       "      <td>0.925</td>\n",
       "      <td>0.411</td>\n",
       "      <td>0.866</td>\n",
       "      <td>0.668</td>\n",
       "      <td>0.876</td>\n",
       "    </tr>\n",
       "    <tr>\n",
       "      <th>precision</th>\n",
       "      <td>0.945</td>\n",
       "      <td>0.352</td>\n",
       "      <td>0.866</td>\n",
       "      <td>0.649</td>\n",
       "      <td>0.889</td>\n",
       "    </tr>\n",
       "    <tr>\n",
       "      <th>recall</th>\n",
       "      <td>0.905</td>\n",
       "      <td>0.493</td>\n",
       "      <td>0.866</td>\n",
       "      <td>0.699</td>\n",
       "      <td>0.866</td>\n",
       "    </tr>\n",
       "    <tr>\n",
       "      <th>support</th>\n",
       "      <td>719.000</td>\n",
       "      <td>75.000</td>\n",
       "      <td>794.000</td>\n",
       "      <td>794.000</td>\n",
       "      <td>794.000</td>\n",
       "    </tr>\n",
       "  </tbody>\n",
       "</table>\n",
       "</div>"
      ],
      "text/plain": [
       "               0.0     1.0  micro avg  macro avg  weighted avg\n",
       "f1-score     0.925   0.411      0.866      0.668         0.876\n",
       "precision    0.945   0.352      0.866      0.649         0.889\n",
       "recall       0.905   0.493      0.866      0.699         0.866\n",
       "support    719.000  75.000    794.000    794.000       794.000"
      ]
     },
     "metadata": {},
     "output_type": "display_data"
    },
    {
     "data": {
      "application/vnd.jupyter.widget-view+json": {
       "model_id": "10fd768add61443dabef99890e9a3242",
       "version_major": 2,
       "version_minor": 0
      },
      "text/plain": [
       "HBox(children=(IntProgress(value=0, max=25), HTML(value='')))"
      ]
     },
     "metadata": {},
     "output_type": "display_data"
    },
    {
     "name": "stdout",
     "output_type": "stream",
     "text": [
      "\n"
     ]
    },
    {
     "data": {
      "application/vnd.jupyter.widget-view+json": {
       "model_id": "11ea99a1583440ac91881851916f5d56",
       "version_major": 2,
       "version_minor": 0
      },
      "text/plain": [
       "HBox(children=(IntProgress(value=0, max=25), HTML(value='')))"
      ]
     },
     "metadata": {},
     "output_type": "display_data"
    },
    {
     "name": "stdout",
     "output_type": "stream",
     "text": [
      "\n"
     ]
    },
    {
     "data": {
      "application/vnd.jupyter.widget-view+json": {
       "model_id": "4e9e4160009a46589c9ee6fe10d9ae8b",
       "version_major": 2,
       "version_minor": 0
      },
      "text/plain": [
       "HBox(children=(IntProgress(value=0, max=25), HTML(value='')))"
      ]
     },
     "metadata": {},
     "output_type": "display_data"
    },
    {
     "name": "stdout",
     "output_type": "stream",
     "text": [
      "\n"
     ]
    },
    {
     "name": "stderr",
     "output_type": "stream",
     "text": [
      "/home/sarthak/anaconda3/lib/python3.7/site-packages/sklearn/base.py:251: UserWarning: Trying to unpickle estimator CountVectorizer from version 0.20.1 when using version 0.20.2. This might lead to breaking code or invalid results. Use at your own risk.\n",
      "  UserWarning)\n",
      "INFO - 2019-04-01 16:30:53,856 - instantiating class <class 'Transparency.model.modules.Encoder.Encoder'> from params {'vocab_size': 10075, 'embed_size': 200, 'kernel_sizes': (1, 3, 5, 7), 'hidden_size': 64, 'activation': 'relu', 'type': 'cnn', 'pre_embed': array([[ 0.        ,  0.        ,  0.        , ...,  0.        ,\n",
      "         0.        ,  0.        ],\n",
      "       [-0.29865993, -0.17479846,  0.20471731, ..., -0.12766917,\n",
      "         1.92515118, -0.17015621],\n",
      "       [-1.87020174, -0.09294443,  0.30508447, ..., -1.57104445,\n",
      "         0.79930904, -1.21405616],\n",
      "       ...,\n",
      "       [-0.71627158, -0.4282509 ,  0.1870833 , ...,  0.60732475,\n",
      "        -1.01639971, -1.09935162],\n",
      "       [-0.95892945, -0.1429986 , -0.12479383, ...,  2.33162925,\n",
      "        -0.21536553, -0.26449798],\n",
      "       [ 1.48001289,  0.28240156, -0.26519005, ...,  0.59071161,\n",
      "         0.44081113,  1.53199245]])} and extras {}\n",
      "INFO - 2019-04-01 16:30:53,856 - type = cnn\n",
      "INFO - 2019-04-01 16:30:53,857 - instantiating class <class 'Transparency.model.modules.Encoder.EncoderCNN'> from params {'vocab_size': 10075, 'embed_size': 200, 'kernel_sizes': (1, 3, 5, 7), 'hidden_size': 64, 'activation': 'relu', 'pre_embed': array([[ 0.        ,  0.        ,  0.        , ...,  0.        ,\n",
      "         0.        ,  0.        ],\n",
      "       [-0.29865993, -0.17479846,  0.20471731, ..., -0.12766917,\n",
      "         1.92515118, -0.17015621],\n",
      "       [-1.87020174, -0.09294443,  0.30508447, ..., -1.57104445,\n",
      "         0.79930904, -1.21405616],\n",
      "       ...,\n",
      "       [-0.71627158, -0.4282509 ,  0.1870833 , ...,  0.60732475,\n",
      "        -1.01639971, -1.09935162],\n",
      "       [-0.95892945, -0.1429986 , -0.12479383, ...,  2.33162925,\n",
      "        -0.21536553, -0.26449798],\n",
      "       [ 1.48001289,  0.28240156, -0.26519005, ...,  0.59071161,\n",
      "         0.44081113,  1.53199245]])} and extras {}\n",
      "INFO - 2019-04-01 16:30:53,857 - vocab_size = 10075\n",
      "INFO - 2019-04-01 16:30:53,858 - embed_size = 200\n",
      "INFO - 2019-04-01 16:30:53,858 - hidden_size = 64\n",
      "INFO - 2019-04-01 16:30:53,859 - kernel_sizes = (1, 3, 5, 7)\n",
      "INFO - 2019-04-01 16:30:53,859 - activation = relu\n",
      "INFO - 2019-04-01 16:30:53,860 - pre_embed = [[ 0.          0.          0.         ...  0.          0.\n",
      "   0.        ]\n",
      " [-0.29865993 -0.17479846  0.20471731 ... -0.12766917  1.92515118\n",
      "  -0.17015621]\n",
      " [-1.87020174 -0.09294443  0.30508447 ... -1.57104445  0.79930904\n",
      "  -1.21405616]\n",
      " ...\n",
      " [-0.71627158 -0.4282509   0.1870833  ...  0.60732475 -1.01639971\n",
      "  -1.09935162]\n",
      " [-0.95892945 -0.1429986  -0.12479383 ...  2.33162925 -0.21536553\n",
      "  -0.26449798]\n",
      " [ 1.48001289  0.28240156 -0.26519005 ...  0.59071161  0.44081113\n",
      "   1.53199245]]\n",
      "INFO - 2019-04-01 16:30:53,867 - instantiating class <class 'Transparency.model.modules.Decoder.AttnDecoder'> from params {'attention': {'type': 'dot'}, 'output_size': 1, 'hidden_size': 256} and extras {}\n",
      "INFO - 2019-04-01 16:30:53,868 - hidden_size = 256\n",
      "INFO - 2019-04-01 16:30:53,868 - output_size = 1\n",
      "INFO - 2019-04-01 16:30:53,869 - use_attention = True\n",
      "INFO - 2019-04-01 16:30:53,869 - regularizer_attention = None\n",
      "INFO - 2019-04-01 16:30:53,870 - instantiating class <class 'Transparency.model.modules.Attention.Attention'> from params <allennlp.common.params.Params object at 0x7f36154b7c18> and extras {}\n",
      "INFO - 2019-04-01 16:30:53,870 - attention.type = dot\n",
      "INFO - 2019-04-01 16:30:53,871 - type = dot\n",
      "INFO - 2019-04-01 16:30:53,871 - instantiating class <class 'Transparency.model.modules.Attention.DotAttention'> from params <allennlp.common.params.Params object at 0x7f36154b7c18> and extras {}\n",
      "INFO - 2019-04-01 16:30:53,872 - attention.hidden_size = 256\n",
      "INFO - 2019-04-01 16:30:53,872 - hidden_size = 256\n"
     ]
    },
    {
     "name": "stdout",
     "output_type": "stream",
     "text": [
      "Setting Embedding\n"
     ]
    },
    {
     "data": {
      "application/vnd.jupyter.widget-view+json": {
       "model_id": "f1ad1515950f4fc888903d8938d5da49",
       "version_major": 2,
       "version_minor": 0
      },
      "text/plain": [
       "HBox(children=(IntProgress(value=0, max=8), HTML(value='')))"
      ]
     },
     "metadata": {},
     "output_type": "display_data"
    },
    {
     "data": {
      "application/vnd.jupyter.widget-view+json": {
       "model_id": "8c005dc0930446f0bbd2152437f95977",
       "version_major": 2,
       "version_minor": 0
      },
      "text/plain": [
       "HBox(children=(IntProgress(value=0, max=94), HTML(value='')))"
      ]
     },
     "metadata": {},
     "output_type": "display_data"
    },
    {
     "data": {
      "application/vnd.jupyter.widget-view+json": {
       "model_id": "9781f1a4697449a7bc9cf6edac30953d",
       "version_major": 2,
       "version_minor": 0
      },
      "text/plain": [
       "HBox(children=(IntProgress(value=0, max=20), HTML(value='')))"
      ]
     },
     "metadata": {},
     "output_type": "display_data"
    },
    {
     "name": "stdout",
     "output_type": "stream",
     "text": [
      "{'accuracy': 0.8111111111111111, 'roc_auc': 0.6930662943871707, 'pr_auc': 0.2424147966703165}\n"
     ]
    },
    {
     "data": {
      "text/html": [
       "<div>\n",
       "<style scoped>\n",
       "    .dataframe tbody tr th:only-of-type {\n",
       "        vertical-align: middle;\n",
       "    }\n",
       "\n",
       "    .dataframe tbody tr th {\n",
       "        vertical-align: top;\n",
       "    }\n",
       "\n",
       "    .dataframe thead th {\n",
       "        text-align: right;\n",
       "    }\n",
       "</style>\n",
       "<table border=\"1\" class=\"dataframe\">\n",
       "  <thead>\n",
       "    <tr style=\"text-align: right;\">\n",
       "      <th></th>\n",
       "      <th>0.0</th>\n",
       "      <th>1.0</th>\n",
       "      <th>micro avg</th>\n",
       "      <th>macro avg</th>\n",
       "      <th>weighted avg</th>\n",
       "    </tr>\n",
       "  </thead>\n",
       "  <tbody>\n",
       "    <tr>\n",
       "      <th>f1-score</th>\n",
       "      <td>0.891</td>\n",
       "      <td>0.279</td>\n",
       "      <td>0.811</td>\n",
       "      <td>0.585</td>\n",
       "      <td>0.845</td>\n",
       "    </tr>\n",
       "    <tr>\n",
       "      <th>precision</th>\n",
       "      <td>0.951</td>\n",
       "      <td>0.197</td>\n",
       "      <td>0.811</td>\n",
       "      <td>0.574</td>\n",
       "      <td>0.894</td>\n",
       "    </tr>\n",
       "    <tr>\n",
       "      <th>recall</th>\n",
       "      <td>0.838</td>\n",
       "      <td>0.479</td>\n",
       "      <td>0.811</td>\n",
       "      <td>0.659</td>\n",
       "      <td>0.811</td>\n",
       "    </tr>\n",
       "    <tr>\n",
       "      <th>support</th>\n",
       "      <td>582.000</td>\n",
       "      <td>48.000</td>\n",
       "      <td>630.000</td>\n",
       "      <td>630.000</td>\n",
       "      <td>630.000</td>\n",
       "    </tr>\n",
       "  </tbody>\n",
       "</table>\n",
       "</div>"
      ],
      "text/plain": [
       "               0.0     1.0  micro avg  macro avg  weighted avg\n",
       "f1-score     0.891   0.279      0.811      0.585         0.845\n",
       "precision    0.951   0.197      0.811      0.574         0.894\n",
       "recall       0.838   0.479      0.811      0.659         0.811\n",
       "support    582.000  48.000    630.000    630.000       630.000"
      ]
     },
     "metadata": {},
     "output_type": "display_data"
    },
    {
     "name": "stdout",
     "output_type": "stream",
     "text": [
      "Model not saved on  roc_auc 0.6930662943871707\n"
     ]
    },
    {
     "data": {
      "application/vnd.jupyter.widget-view+json": {
       "model_id": "37472c60b66c46b98b7e99194e1480d7",
       "version_major": 2,
       "version_minor": 0
      },
      "text/plain": [
       "HBox(children=(IntProgress(value=0, max=94), HTML(value='')))"
      ]
     },
     "metadata": {},
     "output_type": "display_data"
    },
    {
     "data": {
      "application/vnd.jupyter.widget-view+json": {
       "model_id": "41c7eeac683344778437d38380a768ed",
       "version_major": 2,
       "version_minor": 0
      },
      "text/plain": [
       "HBox(children=(IntProgress(value=0, max=20), HTML(value='')))"
      ]
     },
     "metadata": {},
     "output_type": "display_data"
    },
    {
     "name": "stdout",
     "output_type": "stream",
     "text": [
      "{'accuracy': 0.6031746031746031, 'roc_auc': 0.7746814146620848, 'pr_auc': 0.26055841952255}\n"
     ]
    },
    {
     "data": {
      "text/html": [
       "<div>\n",
       "<style scoped>\n",
       "    .dataframe tbody tr th:only-of-type {\n",
       "        vertical-align: middle;\n",
       "    }\n",
       "\n",
       "    .dataframe tbody tr th {\n",
       "        vertical-align: top;\n",
       "    }\n",
       "\n",
       "    .dataframe thead th {\n",
       "        text-align: right;\n",
       "    }\n",
       "</style>\n",
       "<table border=\"1\" class=\"dataframe\">\n",
       "  <thead>\n",
       "    <tr style=\"text-align: right;\">\n",
       "      <th></th>\n",
       "      <th>0.0</th>\n",
       "      <th>1.0</th>\n",
       "      <th>micro avg</th>\n",
       "      <th>macro avg</th>\n",
       "      <th>weighted avg</th>\n",
       "    </tr>\n",
       "  </thead>\n",
       "  <tbody>\n",
       "    <tr>\n",
       "      <th>f1-score</th>\n",
       "      <td>0.733</td>\n",
       "      <td>0.228</td>\n",
       "      <td>0.603</td>\n",
       "      <td>0.481</td>\n",
       "      <td>0.694</td>\n",
       "    </tr>\n",
       "    <tr>\n",
       "      <th>precision</th>\n",
       "      <td>0.969</td>\n",
       "      <td>0.134</td>\n",
       "      <td>0.603</td>\n",
       "      <td>0.551</td>\n",
       "      <td>0.905</td>\n",
       "    </tr>\n",
       "    <tr>\n",
       "      <th>recall</th>\n",
       "      <td>0.589</td>\n",
       "      <td>0.771</td>\n",
       "      <td>0.603</td>\n",
       "      <td>0.680</td>\n",
       "      <td>0.603</td>\n",
       "    </tr>\n",
       "    <tr>\n",
       "      <th>support</th>\n",
       "      <td>582.000</td>\n",
       "      <td>48.000</td>\n",
       "      <td>630.000</td>\n",
       "      <td>630.000</td>\n",
       "      <td>630.000</td>\n",
       "    </tr>\n",
       "  </tbody>\n",
       "</table>\n",
       "</div>"
      ],
      "text/plain": [
       "               0.0     1.0  micro avg  macro avg  weighted avg\n",
       "f1-score     0.733   0.228      0.603      0.481         0.694\n",
       "precision    0.969   0.134      0.603      0.551         0.905\n",
       "recall       0.589   0.771      0.603      0.680         0.603\n",
       "support    582.000  48.000    630.000    630.000       630.000"
      ]
     },
     "metadata": {},
     "output_type": "display_data"
    },
    {
     "name": "stdout",
     "output_type": "stream",
     "text": [
      "Model Saved on  roc_auc 0.7746814146620848\n"
     ]
    },
    {
     "data": {
      "application/vnd.jupyter.widget-view+json": {
       "model_id": "47f031386890406a877348ef81606290",
       "version_major": 2,
       "version_minor": 0
      },
      "text/plain": [
       "HBox(children=(IntProgress(value=0, max=94), HTML(value='')))"
      ]
     },
     "metadata": {},
     "output_type": "display_data"
    },
    {
     "data": {
      "application/vnd.jupyter.widget-view+json": {
       "model_id": "d91d2e22ba1b4b369425ec1f58a56b48",
       "version_major": 2,
       "version_minor": 0
      },
      "text/plain": [
       "HBox(children=(IntProgress(value=0, max=20), HTML(value='')))"
      ]
     },
     "metadata": {},
     "output_type": "display_data"
    },
    {
     "name": "stdout",
     "output_type": "stream",
     "text": [
      "{'accuracy': 0.8142857142857143, 'roc_auc': 0.7711018041237114, 'pr_auc': 0.3644228867219796}\n"
     ]
    },
    {
     "data": {
      "text/html": [
       "<div>\n",
       "<style scoped>\n",
       "    .dataframe tbody tr th:only-of-type {\n",
       "        vertical-align: middle;\n",
       "    }\n",
       "\n",
       "    .dataframe tbody tr th {\n",
       "        vertical-align: top;\n",
       "    }\n",
       "\n",
       "    .dataframe thead th {\n",
       "        text-align: right;\n",
       "    }\n",
       "</style>\n",
       "<table border=\"1\" class=\"dataframe\">\n",
       "  <thead>\n",
       "    <tr style=\"text-align: right;\">\n",
       "      <th></th>\n",
       "      <th>0.0</th>\n",
       "      <th>1.0</th>\n",
       "      <th>micro avg</th>\n",
       "      <th>macro avg</th>\n",
       "      <th>weighted avg</th>\n",
       "    </tr>\n",
       "  </thead>\n",
       "  <tbody>\n",
       "    <tr>\n",
       "      <th>f1-score</th>\n",
       "      <td>0.892</td>\n",
       "      <td>0.339</td>\n",
       "      <td>0.814</td>\n",
       "      <td>0.615</td>\n",
       "      <td>0.850</td>\n",
       "    </tr>\n",
       "    <tr>\n",
       "      <th>precision</th>\n",
       "      <td>0.964</td>\n",
       "      <td>0.233</td>\n",
       "      <td>0.814</td>\n",
       "      <td>0.598</td>\n",
       "      <td>0.908</td>\n",
       "    </tr>\n",
       "    <tr>\n",
       "      <th>recall</th>\n",
       "      <td>0.830</td>\n",
       "      <td>0.625</td>\n",
       "      <td>0.814</td>\n",
       "      <td>0.727</td>\n",
       "      <td>0.814</td>\n",
       "    </tr>\n",
       "    <tr>\n",
       "      <th>support</th>\n",
       "      <td>582.000</td>\n",
       "      <td>48.000</td>\n",
       "      <td>630.000</td>\n",
       "      <td>630.000</td>\n",
       "      <td>630.000</td>\n",
       "    </tr>\n",
       "  </tbody>\n",
       "</table>\n",
       "</div>"
      ],
      "text/plain": [
       "               0.0     1.0  micro avg  macro avg  weighted avg\n",
       "f1-score     0.892   0.339      0.814      0.615         0.850\n",
       "precision    0.964   0.233      0.814      0.598         0.908\n",
       "recall       0.830   0.625      0.814      0.727         0.814\n",
       "support    582.000  48.000    630.000    630.000       630.000"
      ]
     },
     "metadata": {},
     "output_type": "display_data"
    },
    {
     "name": "stdout",
     "output_type": "stream",
     "text": [
      "Model not saved on  roc_auc 0.7711018041237114\n"
     ]
    },
    {
     "data": {
      "application/vnd.jupyter.widget-view+json": {
       "model_id": "224ade8d2e8f42e29cd2bae375d00a97",
       "version_major": 2,
       "version_minor": 0
      },
      "text/plain": [
       "HBox(children=(IntProgress(value=0, max=94), HTML(value='')))"
      ]
     },
     "metadata": {},
     "output_type": "display_data"
    },
    {
     "data": {
      "application/vnd.jupyter.widget-view+json": {
       "model_id": "3d9fa170154c4322af81d516ab2d4df9",
       "version_major": 2,
       "version_minor": 0
      },
      "text/plain": [
       "HBox(children=(IntProgress(value=0, max=20), HTML(value='')))"
      ]
     },
     "metadata": {},
     "output_type": "display_data"
    },
    {
     "name": "stdout",
     "output_type": "stream",
     "text": [
      "{'accuracy': 0.8222222222222222, 'roc_auc': 0.7605419530355098, 'pr_auc': 0.3563168436608427}\n"
     ]
    },
    {
     "data": {
      "text/html": [
       "<div>\n",
       "<style scoped>\n",
       "    .dataframe tbody tr th:only-of-type {\n",
       "        vertical-align: middle;\n",
       "    }\n",
       "\n",
       "    .dataframe tbody tr th {\n",
       "        vertical-align: top;\n",
       "    }\n",
       "\n",
       "    .dataframe thead th {\n",
       "        text-align: right;\n",
       "    }\n",
       "</style>\n",
       "<table border=\"1\" class=\"dataframe\">\n",
       "  <thead>\n",
       "    <tr style=\"text-align: right;\">\n",
       "      <th></th>\n",
       "      <th>0.0</th>\n",
       "      <th>1.0</th>\n",
       "      <th>micro avg</th>\n",
       "      <th>macro avg</th>\n",
       "      <th>weighted avg</th>\n",
       "    </tr>\n",
       "  </thead>\n",
       "  <tbody>\n",
       "    <tr>\n",
       "      <th>f1-score</th>\n",
       "      <td>0.898</td>\n",
       "      <td>0.325</td>\n",
       "      <td>0.822</td>\n",
       "      <td>0.611</td>\n",
       "      <td>0.854</td>\n",
       "    </tr>\n",
       "    <tr>\n",
       "      <th>precision</th>\n",
       "      <td>0.959</td>\n",
       "      <td>0.229</td>\n",
       "      <td>0.822</td>\n",
       "      <td>0.594</td>\n",
       "      <td>0.903</td>\n",
       "    </tr>\n",
       "    <tr>\n",
       "      <th>recall</th>\n",
       "      <td>0.844</td>\n",
       "      <td>0.562</td>\n",
       "      <td>0.822</td>\n",
       "      <td>0.703</td>\n",
       "      <td>0.822</td>\n",
       "    </tr>\n",
       "    <tr>\n",
       "      <th>support</th>\n",
       "      <td>582.000</td>\n",
       "      <td>48.000</td>\n",
       "      <td>630.000</td>\n",
       "      <td>630.000</td>\n",
       "      <td>630.000</td>\n",
       "    </tr>\n",
       "  </tbody>\n",
       "</table>\n",
       "</div>"
      ],
      "text/plain": [
       "               0.0     1.0  micro avg  macro avg  weighted avg\n",
       "f1-score     0.898   0.325      0.822      0.611         0.854\n",
       "precision    0.959   0.229      0.822      0.594         0.903\n",
       "recall       0.844   0.562      0.822      0.703         0.822\n",
       "support    582.000  48.000    630.000    630.000       630.000"
      ]
     },
     "metadata": {},
     "output_type": "display_data"
    },
    {
     "name": "stdout",
     "output_type": "stream",
     "text": [
      "Model not saved on  roc_auc 0.7605419530355098\n"
     ]
    },
    {
     "data": {
      "application/vnd.jupyter.widget-view+json": {
       "model_id": "b389b165cd3d4311af82c7b86278c817",
       "version_major": 2,
       "version_minor": 0
      },
      "text/plain": [
       "HBox(children=(IntProgress(value=0, max=94), HTML(value='')))"
      ]
     },
     "metadata": {},
     "output_type": "display_data"
    },
    {
     "data": {
      "application/vnd.jupyter.widget-view+json": {
       "model_id": "10128b0040de4e4a8c4b605b7b771432",
       "version_major": 2,
       "version_minor": 0
      },
      "text/plain": [
       "HBox(children=(IntProgress(value=0, max=20), HTML(value='')))"
      ]
     },
     "metadata": {},
     "output_type": "display_data"
    },
    {
     "name": "stdout",
     "output_type": "stream",
     "text": [
      "{'accuracy': 0.8984126984126984, 'roc_auc': 0.7541344501718212, 'pr_auc': 0.35555489524515116}\n"
     ]
    },
    {
     "data": {
      "text/html": [
       "<div>\n",
       "<style scoped>\n",
       "    .dataframe tbody tr th:only-of-type {\n",
       "        vertical-align: middle;\n",
       "    }\n",
       "\n",
       "    .dataframe tbody tr th {\n",
       "        vertical-align: top;\n",
       "    }\n",
       "\n",
       "    .dataframe thead th {\n",
       "        text-align: right;\n",
       "    }\n",
       "</style>\n",
       "<table border=\"1\" class=\"dataframe\">\n",
       "  <thead>\n",
       "    <tr style=\"text-align: right;\">\n",
       "      <th></th>\n",
       "      <th>0.0</th>\n",
       "      <th>1.0</th>\n",
       "      <th>micro avg</th>\n",
       "      <th>macro avg</th>\n",
       "      <th>weighted avg</th>\n",
       "    </tr>\n",
       "  </thead>\n",
       "  <tbody>\n",
       "    <tr>\n",
       "      <th>f1-score</th>\n",
       "      <td>0.944</td>\n",
       "      <td>0.439</td>\n",
       "      <td>0.898</td>\n",
       "      <td>0.691</td>\n",
       "      <td>0.906</td>\n",
       "    </tr>\n",
       "    <tr>\n",
       "      <th>precision</th>\n",
       "      <td>0.959</td>\n",
       "      <td>0.379</td>\n",
       "      <td>0.898</td>\n",
       "      <td>0.669</td>\n",
       "      <td>0.915</td>\n",
       "    </tr>\n",
       "    <tr>\n",
       "      <th>recall</th>\n",
       "      <td>0.930</td>\n",
       "      <td>0.521</td>\n",
       "      <td>0.898</td>\n",
       "      <td>0.725</td>\n",
       "      <td>0.898</td>\n",
       "    </tr>\n",
       "    <tr>\n",
       "      <th>support</th>\n",
       "      <td>582.000</td>\n",
       "      <td>48.000</td>\n",
       "      <td>630.000</td>\n",
       "      <td>630.000</td>\n",
       "      <td>630.000</td>\n",
       "    </tr>\n",
       "  </tbody>\n",
       "</table>\n",
       "</div>"
      ],
      "text/plain": [
       "               0.0     1.0  micro avg  macro avg  weighted avg\n",
       "f1-score     0.944   0.439      0.898      0.691         0.906\n",
       "precision    0.959   0.379      0.898      0.669         0.915\n",
       "recall       0.930   0.521      0.898      0.725         0.898\n",
       "support    582.000  48.000    630.000    630.000       630.000"
      ]
     },
     "metadata": {},
     "output_type": "display_data"
    },
    {
     "name": "stdout",
     "output_type": "stream",
     "text": [
      "Model not saved on  roc_auc 0.7541344501718212\n"
     ]
    },
    {
     "data": {
      "application/vnd.jupyter.widget-view+json": {
       "model_id": "f7813f11b20b4d0c929154e18102732c",
       "version_major": 2,
       "version_minor": 0
      },
      "text/plain": [
       "HBox(children=(IntProgress(value=0, max=94), HTML(value='')))"
      ]
     },
     "metadata": {},
     "output_type": "display_data"
    },
    {
     "data": {
      "application/vnd.jupyter.widget-view+json": {
       "model_id": "9d7d25072b5d47ac8d28ef3bb4b55b6f",
       "version_major": 2,
       "version_minor": 0
      },
      "text/plain": [
       "HBox(children=(IntProgress(value=0, max=20), HTML(value='')))"
      ]
     },
     "metadata": {},
     "output_type": "display_data"
    },
    {
     "name": "stdout",
     "output_type": "stream",
     "text": [
      "{'accuracy': 0.9015873015873016, 'roc_auc': 0.7480849083619703, 'pr_auc': 0.35056934399653444}\n"
     ]
    },
    {
     "data": {
      "text/html": [
       "<div>\n",
       "<style scoped>\n",
       "    .dataframe tbody tr th:only-of-type {\n",
       "        vertical-align: middle;\n",
       "    }\n",
       "\n",
       "    .dataframe tbody tr th {\n",
       "        vertical-align: top;\n",
       "    }\n",
       "\n",
       "    .dataframe thead th {\n",
       "        text-align: right;\n",
       "    }\n",
       "</style>\n",
       "<table border=\"1\" class=\"dataframe\">\n",
       "  <thead>\n",
       "    <tr style=\"text-align: right;\">\n",
       "      <th></th>\n",
       "      <th>0.0</th>\n",
       "      <th>1.0</th>\n",
       "      <th>micro avg</th>\n",
       "      <th>macro avg</th>\n",
       "      <th>weighted avg</th>\n",
       "    </tr>\n",
       "  </thead>\n",
       "  <tbody>\n",
       "    <tr>\n",
       "      <th>f1-score</th>\n",
       "      <td>0.946</td>\n",
       "      <td>0.446</td>\n",
       "      <td>0.902</td>\n",
       "      <td>0.696</td>\n",
       "      <td>0.908</td>\n",
       "    </tr>\n",
       "    <tr>\n",
       "      <th>precision</th>\n",
       "      <td>0.959</td>\n",
       "      <td>0.391</td>\n",
       "      <td>0.902</td>\n",
       "      <td>0.675</td>\n",
       "      <td>0.916</td>\n",
       "    </tr>\n",
       "    <tr>\n",
       "      <th>recall</th>\n",
       "      <td>0.933</td>\n",
       "      <td>0.521</td>\n",
       "      <td>0.902</td>\n",
       "      <td>0.727</td>\n",
       "      <td>0.902</td>\n",
       "    </tr>\n",
       "    <tr>\n",
       "      <th>support</th>\n",
       "      <td>582.000</td>\n",
       "      <td>48.000</td>\n",
       "      <td>630.000</td>\n",
       "      <td>630.000</td>\n",
       "      <td>630.000</td>\n",
       "    </tr>\n",
       "  </tbody>\n",
       "</table>\n",
       "</div>"
      ],
      "text/plain": [
       "               0.0     1.0  micro avg  macro avg  weighted avg\n",
       "f1-score     0.946   0.446      0.902      0.696         0.908\n",
       "precision    0.959   0.391      0.902      0.675         0.916\n",
       "recall       0.933   0.521      0.902      0.727         0.902\n",
       "support    582.000  48.000    630.000    630.000       630.000"
      ]
     },
     "metadata": {},
     "output_type": "display_data"
    },
    {
     "name": "stdout",
     "output_type": "stream",
     "text": [
      "Model not saved on  roc_auc 0.7480849083619703\n"
     ]
    },
    {
     "data": {
      "application/vnd.jupyter.widget-view+json": {
       "model_id": "942e1ae2ff2848bb9d948c8e79ff7f8f",
       "version_major": 2,
       "version_minor": 0
      },
      "text/plain": [
       "HBox(children=(IntProgress(value=0, max=94), HTML(value='')))"
      ]
     },
     "metadata": {},
     "output_type": "display_data"
    },
    {
     "data": {
      "application/vnd.jupyter.widget-view+json": {
       "model_id": "67819cd47a324548ae8a6960b1599386",
       "version_major": 2,
       "version_minor": 0
      },
      "text/plain": [
       "HBox(children=(IntProgress(value=0, max=20), HTML(value='')))"
      ]
     },
     "metadata": {},
     "output_type": "display_data"
    },
    {
     "name": "stdout",
     "output_type": "stream",
     "text": [
      "{'accuracy': 0.7841269841269841, 'roc_auc': 0.7385273482245132, 'pr_auc': 0.34862154508841714}\n"
     ]
    },
    {
     "data": {
      "text/html": [
       "<div>\n",
       "<style scoped>\n",
       "    .dataframe tbody tr th:only-of-type {\n",
       "        vertical-align: middle;\n",
       "    }\n",
       "\n",
       "    .dataframe tbody tr th {\n",
       "        vertical-align: top;\n",
       "    }\n",
       "\n",
       "    .dataframe thead th {\n",
       "        text-align: right;\n",
       "    }\n",
       "</style>\n",
       "<table border=\"1\" class=\"dataframe\">\n",
       "  <thead>\n",
       "    <tr style=\"text-align: right;\">\n",
       "      <th></th>\n",
       "      <th>0.0</th>\n",
       "      <th>1.0</th>\n",
       "      <th>micro avg</th>\n",
       "      <th>macro avg</th>\n",
       "      <th>weighted avg</th>\n",
       "    </tr>\n",
       "  </thead>\n",
       "  <tbody>\n",
       "    <tr>\n",
       "      <th>f1-score</th>\n",
       "      <td>0.872</td>\n",
       "      <td>0.299</td>\n",
       "      <td>0.784</td>\n",
       "      <td>0.586</td>\n",
       "      <td>0.829</td>\n",
       "    </tr>\n",
       "    <tr>\n",
       "      <th>precision</th>\n",
       "      <td>0.961</td>\n",
       "      <td>0.199</td>\n",
       "      <td>0.784</td>\n",
       "      <td>0.580</td>\n",
       "      <td>0.903</td>\n",
       "    </tr>\n",
       "    <tr>\n",
       "      <th>recall</th>\n",
       "      <td>0.799</td>\n",
       "      <td>0.604</td>\n",
       "      <td>0.784</td>\n",
       "      <td>0.702</td>\n",
       "      <td>0.784</td>\n",
       "    </tr>\n",
       "    <tr>\n",
       "      <th>support</th>\n",
       "      <td>582.000</td>\n",
       "      <td>48.000</td>\n",
       "      <td>630.000</td>\n",
       "      <td>630.000</td>\n",
       "      <td>630.000</td>\n",
       "    </tr>\n",
       "  </tbody>\n",
       "</table>\n",
       "</div>"
      ],
      "text/plain": [
       "               0.0     1.0  micro avg  macro avg  weighted avg\n",
       "f1-score     0.872   0.299      0.784      0.586         0.829\n",
       "precision    0.961   0.199      0.784      0.580         0.903\n",
       "recall       0.799   0.604      0.784      0.702         0.784\n",
       "support    582.000  48.000    630.000    630.000       630.000"
      ]
     },
     "metadata": {},
     "output_type": "display_data"
    },
    {
     "name": "stdout",
     "output_type": "stream",
     "text": [
      "Model not saved on  roc_auc 0.7385273482245132\n"
     ]
    },
    {
     "data": {
      "application/vnd.jupyter.widget-view+json": {
       "model_id": "0a30c375c60340839efe70c8a2139319",
       "version_major": 2,
       "version_minor": 0
      },
      "text/plain": [
       "HBox(children=(IntProgress(value=0, max=94), HTML(value='')))"
      ]
     },
     "metadata": {},
     "output_type": "display_data"
    },
    {
     "data": {
      "application/vnd.jupyter.widget-view+json": {
       "model_id": "7f51925ba2ed4969a62558c1b6728ec2",
       "version_major": 2,
       "version_minor": 0
      },
      "text/plain": [
       "HBox(children=(IntProgress(value=0, max=20), HTML(value='')))"
      ]
     },
     "metadata": {},
     "output_type": "display_data"
    },
    {
     "name": "stdout",
     "output_type": "stream",
     "text": [
      "{'accuracy': 0.9095238095238095, 'roc_auc': 0.7347329610538373, 'pr_auc': 0.3237120478339516}\n"
     ]
    },
    {
     "data": {
      "text/html": [
       "<div>\n",
       "<style scoped>\n",
       "    .dataframe tbody tr th:only-of-type {\n",
       "        vertical-align: middle;\n",
       "    }\n",
       "\n",
       "    .dataframe tbody tr th {\n",
       "        vertical-align: top;\n",
       "    }\n",
       "\n",
       "    .dataframe thead th {\n",
       "        text-align: right;\n",
       "    }\n",
       "</style>\n",
       "<table border=\"1\" class=\"dataframe\">\n",
       "  <thead>\n",
       "    <tr style=\"text-align: right;\">\n",
       "      <th></th>\n",
       "      <th>0.0</th>\n",
       "      <th>1.0</th>\n",
       "      <th>micro avg</th>\n",
       "      <th>macro avg</th>\n",
       "      <th>weighted avg</th>\n",
       "    </tr>\n",
       "  </thead>\n",
       "  <tbody>\n",
       "    <tr>\n",
       "      <th>f1-score</th>\n",
       "      <td>0.951</td>\n",
       "      <td>0.457</td>\n",
       "      <td>0.91</td>\n",
       "      <td>0.704</td>\n",
       "      <td>0.913</td>\n",
       "    </tr>\n",
       "    <tr>\n",
       "      <th>precision</th>\n",
       "      <td>0.958</td>\n",
       "      <td>0.421</td>\n",
       "      <td>0.91</td>\n",
       "      <td>0.690</td>\n",
       "      <td>0.917</td>\n",
       "    </tr>\n",
       "    <tr>\n",
       "      <th>recall</th>\n",
       "      <td>0.943</td>\n",
       "      <td>0.500</td>\n",
       "      <td>0.91</td>\n",
       "      <td>0.722</td>\n",
       "      <td>0.910</td>\n",
       "    </tr>\n",
       "    <tr>\n",
       "      <th>support</th>\n",
       "      <td>582.000</td>\n",
       "      <td>48.000</td>\n",
       "      <td>630.00</td>\n",
       "      <td>630.000</td>\n",
       "      <td>630.000</td>\n",
       "    </tr>\n",
       "  </tbody>\n",
       "</table>\n",
       "</div>"
      ],
      "text/plain": [
       "               0.0     1.0  micro avg  macro avg  weighted avg\n",
       "f1-score     0.951   0.457       0.91      0.704         0.913\n",
       "precision    0.958   0.421       0.91      0.690         0.917\n",
       "recall       0.943   0.500       0.91      0.722         0.910\n",
       "support    582.000  48.000     630.00    630.000       630.000"
      ]
     },
     "metadata": {},
     "output_type": "display_data"
    },
    {
     "name": "stderr",
     "output_type": "stream",
     "text": [
      "INFO - 2019-04-01 16:31:56,441 - instantiating class <class 'Transparency.model.modules.Encoder.Encoder'> from params {'vocab_size': 10075, 'embed_size': 200, 'kernel_sizes': [1, 3, 5, 7], 'hidden_size': 64, 'activation': 'relu', 'type': 'cnn', 'pre_embed': None} and extras {}\n",
      "INFO - 2019-04-01 16:31:56,441 - type = cnn\n",
      "INFO - 2019-04-01 16:31:56,442 - instantiating class <class 'Transparency.model.modules.Encoder.EncoderCNN'> from params {'vocab_size': 10075, 'embed_size': 200, 'kernel_sizes': [1, 3, 5, 7], 'hidden_size': 64, 'activation': 'relu', 'pre_embed': None} and extras {}\n",
      "INFO - 2019-04-01 16:31:56,442 - vocab_size = 10075\n",
      "INFO - 2019-04-01 16:31:56,443 - embed_size = 200\n",
      "INFO - 2019-04-01 16:31:56,443 - hidden_size = 64\n",
      "INFO - 2019-04-01 16:31:56,443 - kernel_sizes = [1, 3, 5, 7]\n",
      "INFO - 2019-04-01 16:31:56,444 - activation = relu\n",
      "INFO - 2019-04-01 16:31:56,444 - pre_embed = None\n",
      "INFO - 2019-04-01 16:31:56,458 - instantiating class <class 'Transparency.model.modules.Decoder.AttnDecoder'> from params {'attention': {'type': 'dot'}, 'output_size': 1, 'hidden_size': 256} and extras {}\n",
      "INFO - 2019-04-01 16:31:56,459 - hidden_size = 256\n",
      "INFO - 2019-04-01 16:31:56,459 - output_size = 1\n",
      "INFO - 2019-04-01 16:31:56,460 - use_attention = True\n",
      "INFO - 2019-04-01 16:31:56,460 - regularizer_attention = None\n",
      "INFO - 2019-04-01 16:31:56,461 - instantiating class <class 'Transparency.model.modules.Attention.Attention'> from params <allennlp.common.params.Params object at 0x7f35c1764710> and extras {}\n",
      "INFO - 2019-04-01 16:31:56,461 - attention.type = dot\n",
      "INFO - 2019-04-01 16:31:56,461 - type = dot\n",
      "INFO - 2019-04-01 16:31:56,462 - instantiating class <class 'Transparency.model.modules.Attention.DotAttention'> from params <allennlp.common.params.Params object at 0x7f35c1764710> and extras {}\n",
      "INFO - 2019-04-01 16:31:56,462 - attention.hidden_size = 256\n",
      "INFO - 2019-04-01 16:31:56,463 - hidden_size = 256\n"
     ]
    },
    {
     "name": "stdout",
     "output_type": "stream",
     "text": [
      "Model not saved on  roc_auc 0.7347329610538373\n",
      "\n"
     ]
    },
    {
     "data": {
      "application/vnd.jupyter.widget-view+json": {
       "model_id": "47380847eac84bc68089bd5f723bb417",
       "version_major": 2,
       "version_minor": 0
      },
      "text/plain": [
       "HBox(children=(IntProgress(value=0, max=20), HTML(value='')))"
      ]
     },
     "metadata": {},
     "output_type": "display_data"
    },
    {
     "name": "stdout",
     "output_type": "stream",
     "text": [
      "\n",
      "{'accuracy': 0.6031746031746031, 'roc_auc': 0.7746814146620848, 'pr_auc': 0.26055841952255}\n"
     ]
    },
    {
     "data": {
      "text/html": [
       "<div>\n",
       "<style scoped>\n",
       "    .dataframe tbody tr th:only-of-type {\n",
       "        vertical-align: middle;\n",
       "    }\n",
       "\n",
       "    .dataframe tbody tr th {\n",
       "        vertical-align: top;\n",
       "    }\n",
       "\n",
       "    .dataframe thead th {\n",
       "        text-align: right;\n",
       "    }\n",
       "</style>\n",
       "<table border=\"1\" class=\"dataframe\">\n",
       "  <thead>\n",
       "    <tr style=\"text-align: right;\">\n",
       "      <th></th>\n",
       "      <th>0.0</th>\n",
       "      <th>1.0</th>\n",
       "      <th>micro avg</th>\n",
       "      <th>macro avg</th>\n",
       "      <th>weighted avg</th>\n",
       "    </tr>\n",
       "  </thead>\n",
       "  <tbody>\n",
       "    <tr>\n",
       "      <th>f1-score</th>\n",
       "      <td>0.733</td>\n",
       "      <td>0.228</td>\n",
       "      <td>0.603</td>\n",
       "      <td>0.481</td>\n",
       "      <td>0.694</td>\n",
       "    </tr>\n",
       "    <tr>\n",
       "      <th>precision</th>\n",
       "      <td>0.969</td>\n",
       "      <td>0.134</td>\n",
       "      <td>0.603</td>\n",
       "      <td>0.551</td>\n",
       "      <td>0.905</td>\n",
       "    </tr>\n",
       "    <tr>\n",
       "      <th>recall</th>\n",
       "      <td>0.589</td>\n",
       "      <td>0.771</td>\n",
       "      <td>0.603</td>\n",
       "      <td>0.680</td>\n",
       "      <td>0.603</td>\n",
       "    </tr>\n",
       "    <tr>\n",
       "      <th>support</th>\n",
       "      <td>582.000</td>\n",
       "      <td>48.000</td>\n",
       "      <td>630.000</td>\n",
       "      <td>630.000</td>\n",
       "      <td>630.000</td>\n",
       "    </tr>\n",
       "  </tbody>\n",
       "</table>\n",
       "</div>"
      ],
      "text/plain": [
       "               0.0     1.0  micro avg  macro avg  weighted avg\n",
       "f1-score     0.733   0.228      0.603      0.481         0.694\n",
       "precision    0.969   0.134      0.603      0.551         0.905\n",
       "recall       0.589   0.771      0.603      0.680         0.603\n",
       "support    582.000  48.000    630.000    630.000       630.000"
      ]
     },
     "metadata": {},
     "output_type": "display_data"
    },
    {
     "name": "stderr",
     "output_type": "stream",
     "text": [
      "INFO - 2019-04-01 16:31:57,286 - instantiating class <class 'Transparency.model.modules.Encoder.Encoder'> from params {'vocab_size': 10075, 'embed_size': 200, 'projection': True, 'hidden_size': 128, 'activation': 'tanh', 'type': 'average', 'pre_embed': array([[ 0.        ,  0.        ,  0.        , ...,  0.        ,\n",
      "         0.        ,  0.        ],\n",
      "       [-0.29865993, -0.17479846,  0.20471731, ..., -0.12766917,\n",
      "         1.92515118, -0.17015621],\n",
      "       [-1.87020174, -0.09294443,  0.30508447, ..., -1.57104445,\n",
      "         0.79930904, -1.21405616],\n",
      "       ...,\n",
      "       [-0.71627158, -0.4282509 ,  0.1870833 , ...,  0.60732475,\n",
      "        -1.01639971, -1.09935162],\n",
      "       [-0.95892945, -0.1429986 , -0.12479383, ...,  2.33162925,\n",
      "        -0.21536553, -0.26449798],\n",
      "       [ 1.48001289,  0.28240156, -0.26519005, ...,  0.59071161,\n",
      "         0.44081113,  1.53199245]])} and extras {}\n",
      "INFO - 2019-04-01 16:31:57,287 - type = average\n",
      "INFO - 2019-04-01 16:31:57,290 - instantiating class <class 'Transparency.model.modules.Encoder.EncoderAverage'> from params {'vocab_size': 10075, 'embed_size': 200, 'projection': True, 'hidden_size': 128, 'activation': 'tanh', 'pre_embed': array([[ 0.        ,  0.        ,  0.        , ...,  0.        ,\n",
      "         0.        ,  0.        ],\n",
      "       [-0.29865993, -0.17479846,  0.20471731, ..., -0.12766917,\n",
      "         1.92515118, -0.17015621],\n",
      "       [-1.87020174, -0.09294443,  0.30508447, ..., -1.57104445,\n",
      "         0.79930904, -1.21405616],\n",
      "       ...,\n",
      "       [-0.71627158, -0.4282509 ,  0.1870833 , ...,  0.60732475,\n",
      "        -1.01639971, -1.09935162],\n",
      "       [-0.95892945, -0.1429986 , -0.12479383, ...,  2.33162925,\n",
      "        -0.21536553, -0.26449798],\n",
      "       [ 1.48001289,  0.28240156, -0.26519005, ...,  0.59071161,\n",
      "         0.44081113,  1.53199245]])} and extras {}\n",
      "INFO - 2019-04-01 16:31:57,291 - vocab_size = 10075\n",
      "INFO - 2019-04-01 16:31:57,292 - embed_size = 200\n",
      "INFO - 2019-04-01 16:31:57,293 - projection = True\n",
      "INFO - 2019-04-01 16:31:57,293 - hidden_size = 128\n",
      "INFO - 2019-04-01 16:31:57,294 - activation = tanh\n",
      "INFO - 2019-04-01 16:31:57,294 - pre_embed = [[ 0.          0.          0.         ...  0.          0.\n",
      "   0.        ]\n",
      " [-0.29865993 -0.17479846  0.20471731 ... -0.12766917  1.92515118\n",
      "  -0.17015621]\n",
      " [-1.87020174 -0.09294443  0.30508447 ... -1.57104445  0.79930904\n",
      "  -1.21405616]\n",
      " ...\n",
      " [-0.71627158 -0.4282509   0.1870833  ...  0.60732475 -1.01639971\n",
      "  -1.09935162]\n",
      " [-0.95892945 -0.1429986  -0.12479383 ...  2.33162925 -0.21536553\n",
      "  -0.26449798]\n",
      " [ 1.48001289  0.28240156 -0.26519005 ...  0.59071161  0.44081113\n",
      "   1.53199245]]\n",
      "INFO - 2019-04-01 16:31:57,299 - instantiating class <class 'Transparency.model.modules.Decoder.AttnDecoder'> from params {'attention': {'type': 'dot'}, 'output_size': 1, 'hidden_size': 128} and extras {}\n",
      "INFO - 2019-04-01 16:31:57,299 - hidden_size = 128\n",
      "INFO - 2019-04-01 16:31:57,300 - output_size = 1\n",
      "INFO - 2019-04-01 16:31:57,300 - use_attention = True\n",
      "INFO - 2019-04-01 16:31:57,300 - regularizer_attention = None\n",
      "INFO - 2019-04-01 16:31:57,301 - instantiating class <class 'Transparency.model.modules.Attention.Attention'> from params <allennlp.common.params.Params object at 0x7f35c17f8630> and extras {}\n",
      "INFO - 2019-04-01 16:31:57,301 - attention.type = dot\n",
      "INFO - 2019-04-01 16:31:57,302 - type = dot\n",
      "INFO - 2019-04-01 16:31:57,302 - instantiating class <class 'Transparency.model.modules.Attention.DotAttention'> from params <allennlp.common.params.Params object at 0x7f35c17f8630> and extras {}\n",
      "INFO - 2019-04-01 16:31:57,303 - attention.hidden_size = 128\n",
      "INFO - 2019-04-01 16:31:57,303 - hidden_size = 128\n"
     ]
    },
    {
     "name": "stdout",
     "output_type": "stream",
     "text": [
      "Setting Embedding\n"
     ]
    },
    {
     "data": {
      "application/vnd.jupyter.widget-view+json": {
       "model_id": "589384baadb245e9a535a145c24f87d4",
       "version_major": 2,
       "version_minor": 0
      },
      "text/plain": [
       "HBox(children=(IntProgress(value=0, max=8), HTML(value='')))"
      ]
     },
     "metadata": {},
     "output_type": "display_data"
    },
    {
     "data": {
      "application/vnd.jupyter.widget-view+json": {
       "model_id": "f00f746a32cd4dbeb9698b0218051679",
       "version_major": 2,
       "version_minor": 0
      },
      "text/plain": [
       "HBox(children=(IntProgress(value=0, max=94), HTML(value='')))"
      ]
     },
     "metadata": {},
     "output_type": "display_data"
    },
    {
     "data": {
      "application/vnd.jupyter.widget-view+json": {
       "model_id": "c34cf120a5e241a68f211b3da61e5632",
       "version_major": 2,
       "version_minor": 0
      },
      "text/plain": [
       "HBox(children=(IntProgress(value=0, max=20), HTML(value='')))"
      ]
     },
     "metadata": {},
     "output_type": "display_data"
    },
    {
     "name": "stdout",
     "output_type": "stream",
     "text": [
      "{'accuracy': 0.45396825396825397, 'roc_auc': 0.6528314719358534, 'pr_auc': 0.1638249121361677}\n"
     ]
    },
    {
     "data": {
      "text/html": [
       "<div>\n",
       "<style scoped>\n",
       "    .dataframe tbody tr th:only-of-type {\n",
       "        vertical-align: middle;\n",
       "    }\n",
       "\n",
       "    .dataframe tbody tr th {\n",
       "        vertical-align: top;\n",
       "    }\n",
       "\n",
       "    .dataframe thead th {\n",
       "        text-align: right;\n",
       "    }\n",
       "</style>\n",
       "<table border=\"1\" class=\"dataframe\">\n",
       "  <thead>\n",
       "    <tr style=\"text-align: right;\">\n",
       "      <th></th>\n",
       "      <th>0.0</th>\n",
       "      <th>1.0</th>\n",
       "      <th>micro avg</th>\n",
       "      <th>macro avg</th>\n",
       "      <th>weighted avg</th>\n",
       "    </tr>\n",
       "  </thead>\n",
       "  <tbody>\n",
       "    <tr>\n",
       "      <th>f1-score</th>\n",
       "      <td>0.595</td>\n",
       "      <td>0.161</td>\n",
       "      <td>0.454</td>\n",
       "      <td>0.378</td>\n",
       "      <td>0.562</td>\n",
       "    </tr>\n",
       "    <tr>\n",
       "      <th>precision</th>\n",
       "      <td>0.944</td>\n",
       "      <td>0.091</td>\n",
       "      <td>0.454</td>\n",
       "      <td>0.518</td>\n",
       "      <td>0.879</td>\n",
       "    </tr>\n",
       "    <tr>\n",
       "      <th>recall</th>\n",
       "      <td>0.435</td>\n",
       "      <td>0.688</td>\n",
       "      <td>0.454</td>\n",
       "      <td>0.561</td>\n",
       "      <td>0.454</td>\n",
       "    </tr>\n",
       "    <tr>\n",
       "      <th>support</th>\n",
       "      <td>582.000</td>\n",
       "      <td>48.000</td>\n",
       "      <td>630.000</td>\n",
       "      <td>630.000</td>\n",
       "      <td>630.000</td>\n",
       "    </tr>\n",
       "  </tbody>\n",
       "</table>\n",
       "</div>"
      ],
      "text/plain": [
       "               0.0     1.0  micro avg  macro avg  weighted avg\n",
       "f1-score     0.595   0.161      0.454      0.378         0.562\n",
       "precision    0.944   0.091      0.454      0.518         0.879\n",
       "recall       0.435   0.688      0.454      0.561         0.454\n",
       "support    582.000  48.000    630.000    630.000       630.000"
      ]
     },
     "metadata": {},
     "output_type": "display_data"
    },
    {
     "name": "stdout",
     "output_type": "stream",
     "text": [
      "Model not saved on  roc_auc 0.6528314719358534\n"
     ]
    },
    {
     "data": {
      "application/vnd.jupyter.widget-view+json": {
       "model_id": "e2ffd58fa32c48ddaed87e046eff735c",
       "version_major": 2,
       "version_minor": 0
      },
      "text/plain": [
       "HBox(children=(IntProgress(value=0, max=94), HTML(value='')))"
      ]
     },
     "metadata": {},
     "output_type": "display_data"
    },
    {
     "data": {
      "application/vnd.jupyter.widget-view+json": {
       "model_id": "83da962101104cf29af1b9b76b6988f8",
       "version_major": 2,
       "version_minor": 0
      },
      "text/plain": [
       "HBox(children=(IntProgress(value=0, max=20), HTML(value='')))"
      ]
     },
     "metadata": {},
     "output_type": "display_data"
    },
    {
     "name": "stdout",
     "output_type": "stream",
     "text": [
      "{'accuracy': 0.8380952380952381, 'roc_auc': 0.7201997422680412, 'pr_auc': 0.24513919792078395}\n"
     ]
    },
    {
     "data": {
      "text/html": [
       "<div>\n",
       "<style scoped>\n",
       "    .dataframe tbody tr th:only-of-type {\n",
       "        vertical-align: middle;\n",
       "    }\n",
       "\n",
       "    .dataframe tbody tr th {\n",
       "        vertical-align: top;\n",
       "    }\n",
       "\n",
       "    .dataframe thead th {\n",
       "        text-align: right;\n",
       "    }\n",
       "</style>\n",
       "<table border=\"1\" class=\"dataframe\">\n",
       "  <thead>\n",
       "    <tr style=\"text-align: right;\">\n",
       "      <th></th>\n",
       "      <th>0.0</th>\n",
       "      <th>1.0</th>\n",
       "      <th>micro avg</th>\n",
       "      <th>macro avg</th>\n",
       "      <th>weighted avg</th>\n",
       "    </tr>\n",
       "  </thead>\n",
       "  <tbody>\n",
       "    <tr>\n",
       "      <th>f1-score</th>\n",
       "      <td>0.909</td>\n",
       "      <td>0.261</td>\n",
       "      <td>0.838</td>\n",
       "      <td>0.585</td>\n",
       "      <td>0.860</td>\n",
       "    </tr>\n",
       "    <tr>\n",
       "      <th>precision</th>\n",
       "      <td>0.944</td>\n",
       "      <td>0.200</td>\n",
       "      <td>0.838</td>\n",
       "      <td>0.572</td>\n",
       "      <td>0.888</td>\n",
       "    </tr>\n",
       "    <tr>\n",
       "      <th>recall</th>\n",
       "      <td>0.876</td>\n",
       "      <td>0.375</td>\n",
       "      <td>0.838</td>\n",
       "      <td>0.626</td>\n",
       "      <td>0.838</td>\n",
       "    </tr>\n",
       "    <tr>\n",
       "      <th>support</th>\n",
       "      <td>582.000</td>\n",
       "      <td>48.000</td>\n",
       "      <td>630.000</td>\n",
       "      <td>630.000</td>\n",
       "      <td>630.000</td>\n",
       "    </tr>\n",
       "  </tbody>\n",
       "</table>\n",
       "</div>"
      ],
      "text/plain": [
       "               0.0     1.0  micro avg  macro avg  weighted avg\n",
       "f1-score     0.909   0.261      0.838      0.585         0.860\n",
       "precision    0.944   0.200      0.838      0.572         0.888\n",
       "recall       0.876   0.375      0.838      0.626         0.838\n",
       "support    582.000  48.000    630.000    630.000       630.000"
      ]
     },
     "metadata": {},
     "output_type": "display_data"
    },
    {
     "name": "stdout",
     "output_type": "stream",
     "text": [
      "Model Saved on  roc_auc 0.7201997422680412\n"
     ]
    },
    {
     "data": {
      "application/vnd.jupyter.widget-view+json": {
       "model_id": "3eb590fcfa8b46509561c0a505e96714",
       "version_major": 2,
       "version_minor": 0
      },
      "text/plain": [
       "HBox(children=(IntProgress(value=0, max=94), HTML(value='')))"
      ]
     },
     "metadata": {},
     "output_type": "display_data"
    },
    {
     "data": {
      "application/vnd.jupyter.widget-view+json": {
       "model_id": "6536bf1a5dfc447d89086929e2105429",
       "version_major": 2,
       "version_minor": 0
      },
      "text/plain": [
       "HBox(children=(IntProgress(value=0, max=20), HTML(value='')))"
      ]
     },
     "metadata": {},
     "output_type": "display_data"
    },
    {
     "name": "stdout",
     "output_type": "stream",
     "text": [
      "{'accuracy': 0.7095238095238096, 'roc_auc': 0.7592174971363116, 'pr_auc': 0.2239155369335812}\n"
     ]
    },
    {
     "data": {
      "text/html": [
       "<div>\n",
       "<style scoped>\n",
       "    .dataframe tbody tr th:only-of-type {\n",
       "        vertical-align: middle;\n",
       "    }\n",
       "\n",
       "    .dataframe tbody tr th {\n",
       "        vertical-align: top;\n",
       "    }\n",
       "\n",
       "    .dataframe thead th {\n",
       "        text-align: right;\n",
       "    }\n",
       "</style>\n",
       "<table border=\"1\" class=\"dataframe\">\n",
       "  <thead>\n",
       "    <tr style=\"text-align: right;\">\n",
       "      <th></th>\n",
       "      <th>0.0</th>\n",
       "      <th>1.0</th>\n",
       "      <th>micro avg</th>\n",
       "      <th>macro avg</th>\n",
       "      <th>weighted avg</th>\n",
       "    </tr>\n",
       "  </thead>\n",
       "  <tbody>\n",
       "    <tr>\n",
       "      <th>f1-score</th>\n",
       "      <td>0.819</td>\n",
       "      <td>0.265</td>\n",
       "      <td>0.71</td>\n",
       "      <td>0.542</td>\n",
       "      <td>0.777</td>\n",
       "    </tr>\n",
       "    <tr>\n",
       "      <th>precision</th>\n",
       "      <td>0.965</td>\n",
       "      <td>0.164</td>\n",
       "      <td>0.71</td>\n",
       "      <td>0.565</td>\n",
       "      <td>0.904</td>\n",
       "    </tr>\n",
       "    <tr>\n",
       "      <th>recall</th>\n",
       "      <td>0.711</td>\n",
       "      <td>0.688</td>\n",
       "      <td>0.71</td>\n",
       "      <td>0.699</td>\n",
       "      <td>0.710</td>\n",
       "    </tr>\n",
       "    <tr>\n",
       "      <th>support</th>\n",
       "      <td>582.000</td>\n",
       "      <td>48.000</td>\n",
       "      <td>630.00</td>\n",
       "      <td>630.000</td>\n",
       "      <td>630.000</td>\n",
       "    </tr>\n",
       "  </tbody>\n",
       "</table>\n",
       "</div>"
      ],
      "text/plain": [
       "               0.0     1.0  micro avg  macro avg  weighted avg\n",
       "f1-score     0.819   0.265       0.71      0.542         0.777\n",
       "precision    0.965   0.164       0.71      0.565         0.904\n",
       "recall       0.711   0.688       0.71      0.699         0.710\n",
       "support    582.000  48.000     630.00    630.000       630.000"
      ]
     },
     "metadata": {},
     "output_type": "display_data"
    },
    {
     "name": "stdout",
     "output_type": "stream",
     "text": [
      "Model Saved on  roc_auc 0.7592174971363116\n"
     ]
    },
    {
     "data": {
      "application/vnd.jupyter.widget-view+json": {
       "model_id": "4443954c31354d9bb4805a327ca75b98",
       "version_major": 2,
       "version_minor": 0
      },
      "text/plain": [
       "HBox(children=(IntProgress(value=0, max=94), HTML(value='')))"
      ]
     },
     "metadata": {},
     "output_type": "display_data"
    },
    {
     "data": {
      "application/vnd.jupyter.widget-view+json": {
       "model_id": "1040b0ed318947c7b53616c820ad5d7b",
       "version_major": 2,
       "version_minor": 0
      },
      "text/plain": [
       "HBox(children=(IntProgress(value=0, max=20), HTML(value='')))"
      ]
     },
     "metadata": {},
     "output_type": "display_data"
    },
    {
     "name": "stdout",
     "output_type": "stream",
     "text": [
      "{'accuracy': 0.5349206349206349, 'roc_auc': 0.7435030068728523, 'pr_auc': 0.2093581827977866}\n"
     ]
    },
    {
     "data": {
      "text/html": [
       "<div>\n",
       "<style scoped>\n",
       "    .dataframe tbody tr th:only-of-type {\n",
       "        vertical-align: middle;\n",
       "    }\n",
       "\n",
       "    .dataframe tbody tr th {\n",
       "        vertical-align: top;\n",
       "    }\n",
       "\n",
       "    .dataframe thead th {\n",
       "        text-align: right;\n",
       "    }\n",
       "</style>\n",
       "<table border=\"1\" class=\"dataframe\">\n",
       "  <thead>\n",
       "    <tr style=\"text-align: right;\">\n",
       "      <th></th>\n",
       "      <th>0.0</th>\n",
       "      <th>1.0</th>\n",
       "      <th>micro avg</th>\n",
       "      <th>macro avg</th>\n",
       "      <th>weighted avg</th>\n",
       "    </tr>\n",
       "  </thead>\n",
       "  <tbody>\n",
       "    <tr>\n",
       "      <th>f1-score</th>\n",
       "      <td>0.670</td>\n",
       "      <td>0.214</td>\n",
       "      <td>0.535</td>\n",
       "      <td>0.442</td>\n",
       "      <td>0.635</td>\n",
       "    </tr>\n",
       "    <tr>\n",
       "      <th>precision</th>\n",
       "      <td>0.974</td>\n",
       "      <td>0.123</td>\n",
       "      <td>0.535</td>\n",
       "      <td>0.548</td>\n",
       "      <td>0.909</td>\n",
       "    </tr>\n",
       "    <tr>\n",
       "      <th>recall</th>\n",
       "      <td>0.510</td>\n",
       "      <td>0.833</td>\n",
       "      <td>0.535</td>\n",
       "      <td>0.672</td>\n",
       "      <td>0.535</td>\n",
       "    </tr>\n",
       "    <tr>\n",
       "      <th>support</th>\n",
       "      <td>582.000</td>\n",
       "      <td>48.000</td>\n",
       "      <td>630.000</td>\n",
       "      <td>630.000</td>\n",
       "      <td>630.000</td>\n",
       "    </tr>\n",
       "  </tbody>\n",
       "</table>\n",
       "</div>"
      ],
      "text/plain": [
       "               0.0     1.0  micro avg  macro avg  weighted avg\n",
       "f1-score     0.670   0.214      0.535      0.442         0.635\n",
       "precision    0.974   0.123      0.535      0.548         0.909\n",
       "recall       0.510   0.833      0.535      0.672         0.535\n",
       "support    582.000  48.000    630.000    630.000       630.000"
      ]
     },
     "metadata": {},
     "output_type": "display_data"
    },
    {
     "name": "stdout",
     "output_type": "stream",
     "text": [
      "Model not saved on  roc_auc 0.7435030068728523\n"
     ]
    },
    {
     "data": {
      "application/vnd.jupyter.widget-view+json": {
       "model_id": "628fe344436042ebacab9485808457f5",
       "version_major": 2,
       "version_minor": 0
      },
      "text/plain": [
       "HBox(children=(IntProgress(value=0, max=94), HTML(value='')))"
      ]
     },
     "metadata": {},
     "output_type": "display_data"
    },
    {
     "data": {
      "application/vnd.jupyter.widget-view+json": {
       "model_id": "3dd75aad4dc341618bd4f340e5728453",
       "version_major": 2,
       "version_minor": 0
      },
      "text/plain": [
       "HBox(children=(IntProgress(value=0, max=20), HTML(value='')))"
      ]
     },
     "metadata": {},
     "output_type": "display_data"
    },
    {
     "name": "stdout",
     "output_type": "stream",
     "text": [
      "{'accuracy': 0.48095238095238096, 'roc_auc': 0.7610430985108821, 'pr_auc': 0.3249911796481549}\n"
     ]
    },
    {
     "data": {
      "text/html": [
       "<div>\n",
       "<style scoped>\n",
       "    .dataframe tbody tr th:only-of-type {\n",
       "        vertical-align: middle;\n",
       "    }\n",
       "\n",
       "    .dataframe tbody tr th {\n",
       "        vertical-align: top;\n",
       "    }\n",
       "\n",
       "    .dataframe thead th {\n",
       "        text-align: right;\n",
       "    }\n",
       "</style>\n",
       "<table border=\"1\" class=\"dataframe\">\n",
       "  <thead>\n",
       "    <tr style=\"text-align: right;\">\n",
       "      <th></th>\n",
       "      <th>0.0</th>\n",
       "      <th>1.0</th>\n",
       "      <th>micro avg</th>\n",
       "      <th>macro avg</th>\n",
       "      <th>weighted avg</th>\n",
       "    </tr>\n",
       "  </thead>\n",
       "  <tbody>\n",
       "    <tr>\n",
       "      <th>f1-score</th>\n",
       "      <td>0.617</td>\n",
       "      <td>0.197</td>\n",
       "      <td>0.481</td>\n",
       "      <td>0.407</td>\n",
       "      <td>0.585</td>\n",
       "    </tr>\n",
       "    <tr>\n",
       "      <th>precision</th>\n",
       "      <td>0.970</td>\n",
       "      <td>0.111</td>\n",
       "      <td>0.481</td>\n",
       "      <td>0.541</td>\n",
       "      <td>0.905</td>\n",
       "    </tr>\n",
       "    <tr>\n",
       "      <th>recall</th>\n",
       "      <td>0.452</td>\n",
       "      <td>0.833</td>\n",
       "      <td>0.481</td>\n",
       "      <td>0.643</td>\n",
       "      <td>0.481</td>\n",
       "    </tr>\n",
       "    <tr>\n",
       "      <th>support</th>\n",
       "      <td>582.000</td>\n",
       "      <td>48.000</td>\n",
       "      <td>630.000</td>\n",
       "      <td>630.000</td>\n",
       "      <td>630.000</td>\n",
       "    </tr>\n",
       "  </tbody>\n",
       "</table>\n",
       "</div>"
      ],
      "text/plain": [
       "               0.0     1.0  micro avg  macro avg  weighted avg\n",
       "f1-score     0.617   0.197      0.481      0.407         0.585\n",
       "precision    0.970   0.111      0.481      0.541         0.905\n",
       "recall       0.452   0.833      0.481      0.643         0.481\n",
       "support    582.000  48.000    630.000    630.000       630.000"
      ]
     },
     "metadata": {},
     "output_type": "display_data"
    },
    {
     "name": "stdout",
     "output_type": "stream",
     "text": [
      "Model Saved on  roc_auc 0.7610430985108821\n"
     ]
    },
    {
     "data": {
      "application/vnd.jupyter.widget-view+json": {
       "model_id": "25ad82cf59c8402f8eb59e72694be2dc",
       "version_major": 2,
       "version_minor": 0
      },
      "text/plain": [
       "HBox(children=(IntProgress(value=0, max=94), HTML(value='')))"
      ]
     },
     "metadata": {},
     "output_type": "display_data"
    },
    {
     "data": {
      "application/vnd.jupyter.widget-view+json": {
       "model_id": "096e2b6f9e724481bca3ae55e76dbdbc",
       "version_major": 2,
       "version_minor": 0
      },
      "text/plain": [
       "HBox(children=(IntProgress(value=0, max=20), HTML(value='')))"
      ]
     },
     "metadata": {},
     "output_type": "display_data"
    },
    {
     "name": "stdout",
     "output_type": "stream",
     "text": [
      "{'accuracy': 0.5571428571428572, 'roc_auc': 0.7779388602520045, 'pr_auc': 0.36892846493695475}\n"
     ]
    },
    {
     "data": {
      "text/html": [
       "<div>\n",
       "<style scoped>\n",
       "    .dataframe tbody tr th:only-of-type {\n",
       "        vertical-align: middle;\n",
       "    }\n",
       "\n",
       "    .dataframe tbody tr th {\n",
       "        vertical-align: top;\n",
       "    }\n",
       "\n",
       "    .dataframe thead th {\n",
       "        text-align: right;\n",
       "    }\n",
       "</style>\n",
       "<table border=\"1\" class=\"dataframe\">\n",
       "  <thead>\n",
       "    <tr style=\"text-align: right;\">\n",
       "      <th></th>\n",
       "      <th>0.0</th>\n",
       "      <th>1.0</th>\n",
       "      <th>micro avg</th>\n",
       "      <th>macro avg</th>\n",
       "      <th>weighted avg</th>\n",
       "    </tr>\n",
       "  </thead>\n",
       "  <tbody>\n",
       "    <tr>\n",
       "      <th>f1-score</th>\n",
       "      <td>0.692</td>\n",
       "      <td>0.214</td>\n",
       "      <td>0.557</td>\n",
       "      <td>0.453</td>\n",
       "      <td>0.655</td>\n",
       "    </tr>\n",
       "    <tr>\n",
       "      <th>precision</th>\n",
       "      <td>0.969</td>\n",
       "      <td>0.124</td>\n",
       "      <td>0.557</td>\n",
       "      <td>0.546</td>\n",
       "      <td>0.905</td>\n",
       "    </tr>\n",
       "    <tr>\n",
       "      <th>recall</th>\n",
       "      <td>0.538</td>\n",
       "      <td>0.792</td>\n",
       "      <td>0.557</td>\n",
       "      <td>0.665</td>\n",
       "      <td>0.557</td>\n",
       "    </tr>\n",
       "    <tr>\n",
       "      <th>support</th>\n",
       "      <td>582.000</td>\n",
       "      <td>48.000</td>\n",
       "      <td>630.000</td>\n",
       "      <td>630.000</td>\n",
       "      <td>630.000</td>\n",
       "    </tr>\n",
       "  </tbody>\n",
       "</table>\n",
       "</div>"
      ],
      "text/plain": [
       "               0.0     1.0  micro avg  macro avg  weighted avg\n",
       "f1-score     0.692   0.214      0.557      0.453         0.655\n",
       "precision    0.969   0.124      0.557      0.546         0.905\n",
       "recall       0.538   0.792      0.557      0.665         0.557\n",
       "support    582.000  48.000    630.000    630.000       630.000"
      ]
     },
     "metadata": {},
     "output_type": "display_data"
    },
    {
     "name": "stdout",
     "output_type": "stream",
     "text": [
      "Model Saved on  roc_auc 0.7779388602520045\n"
     ]
    },
    {
     "data": {
      "application/vnd.jupyter.widget-view+json": {
       "model_id": "bf5720041de948bdb0a3b02d8d5ef156",
       "version_major": 2,
       "version_minor": 0
      },
      "text/plain": [
       "HBox(children=(IntProgress(value=0, max=94), HTML(value='')))"
      ]
     },
     "metadata": {},
     "output_type": "display_data"
    },
    {
     "data": {
      "application/vnd.jupyter.widget-view+json": {
       "model_id": "17850e97f8e047fa89ef3da5a1802244",
       "version_major": 2,
       "version_minor": 0
      },
      "text/plain": [
       "HBox(children=(IntProgress(value=0, max=20), HTML(value='')))"
      ]
     },
     "metadata": {},
     "output_type": "display_data"
    },
    {
     "name": "stdout",
     "output_type": "stream",
     "text": [
      "{'accuracy': 0.8206349206349206, 'roc_auc': 0.7743592497136312, 'pr_auc': 0.37419878950615004}\n"
     ]
    },
    {
     "data": {
      "text/html": [
       "<div>\n",
       "<style scoped>\n",
       "    .dataframe tbody tr th:only-of-type {\n",
       "        vertical-align: middle;\n",
       "    }\n",
       "\n",
       "    .dataframe tbody tr th {\n",
       "        vertical-align: top;\n",
       "    }\n",
       "\n",
       "    .dataframe thead th {\n",
       "        text-align: right;\n",
       "    }\n",
       "</style>\n",
       "<table border=\"1\" class=\"dataframe\">\n",
       "  <thead>\n",
       "    <tr style=\"text-align: right;\">\n",
       "      <th></th>\n",
       "      <th>0.0</th>\n",
       "      <th>1.0</th>\n",
       "      <th>micro avg</th>\n",
       "      <th>macro avg</th>\n",
       "      <th>weighted avg</th>\n",
       "    </tr>\n",
       "  </thead>\n",
       "  <tbody>\n",
       "    <tr>\n",
       "      <th>f1-score</th>\n",
       "      <td>0.896</td>\n",
       "      <td>0.339</td>\n",
       "      <td>0.821</td>\n",
       "      <td>0.618</td>\n",
       "      <td>0.854</td>\n",
       "    </tr>\n",
       "    <tr>\n",
       "      <th>precision</th>\n",
       "      <td>0.963</td>\n",
       "      <td>0.236</td>\n",
       "      <td>0.821</td>\n",
       "      <td>0.599</td>\n",
       "      <td>0.907</td>\n",
       "    </tr>\n",
       "    <tr>\n",
       "      <th>recall</th>\n",
       "      <td>0.838</td>\n",
       "      <td>0.604</td>\n",
       "      <td>0.821</td>\n",
       "      <td>0.721</td>\n",
       "      <td>0.821</td>\n",
       "    </tr>\n",
       "    <tr>\n",
       "      <th>support</th>\n",
       "      <td>582.000</td>\n",
       "      <td>48.000</td>\n",
       "      <td>630.000</td>\n",
       "      <td>630.000</td>\n",
       "      <td>630.000</td>\n",
       "    </tr>\n",
       "  </tbody>\n",
       "</table>\n",
       "</div>"
      ],
      "text/plain": [
       "               0.0     1.0  micro avg  macro avg  weighted avg\n",
       "f1-score     0.896   0.339      0.821      0.618         0.854\n",
       "precision    0.963   0.236      0.821      0.599         0.907\n",
       "recall       0.838   0.604      0.821      0.721         0.821\n",
       "support    582.000  48.000    630.000    630.000       630.000"
      ]
     },
     "metadata": {},
     "output_type": "display_data"
    },
    {
     "name": "stdout",
     "output_type": "stream",
     "text": [
      "Model not saved on  roc_auc 0.7743592497136312\n"
     ]
    },
    {
     "data": {
      "application/vnd.jupyter.widget-view+json": {
       "model_id": "07a528c12bbf45f99a33aead71fb8268",
       "version_major": 2,
       "version_minor": 0
      },
      "text/plain": [
       "HBox(children=(IntProgress(value=0, max=94), HTML(value='')))"
      ]
     },
     "metadata": {},
     "output_type": "display_data"
    },
    {
     "data": {
      "application/vnd.jupyter.widget-view+json": {
       "model_id": "cd6f46c48ff94376aa6b34e07ed25400",
       "version_major": 2,
       "version_minor": 0
      },
      "text/plain": [
       "HBox(children=(IntProgress(value=0, max=20), HTML(value='')))"
      ]
     },
     "metadata": {},
     "output_type": "display_data"
    },
    {
     "name": "stdout",
     "output_type": "stream",
     "text": [
      "{'accuracy': 0.7253968253968254, 'roc_auc': 0.7748603951890034, 'pr_auc': 0.3909538913792931}\n"
     ]
    },
    {
     "data": {
      "text/html": [
       "<div>\n",
       "<style scoped>\n",
       "    .dataframe tbody tr th:only-of-type {\n",
       "        vertical-align: middle;\n",
       "    }\n",
       "\n",
       "    .dataframe tbody tr th {\n",
       "        vertical-align: top;\n",
       "    }\n",
       "\n",
       "    .dataframe thead th {\n",
       "        text-align: right;\n",
       "    }\n",
       "</style>\n",
       "<table border=\"1\" class=\"dataframe\">\n",
       "  <thead>\n",
       "    <tr style=\"text-align: right;\">\n",
       "      <th></th>\n",
       "      <th>0.0</th>\n",
       "      <th>1.0</th>\n",
       "      <th>micro avg</th>\n",
       "      <th>macro avg</th>\n",
       "      <th>weighted avg</th>\n",
       "    </tr>\n",
       "  </thead>\n",
       "  <tbody>\n",
       "    <tr>\n",
       "      <th>f1-score</th>\n",
       "      <td>0.830</td>\n",
       "      <td>0.282</td>\n",
       "      <td>0.725</td>\n",
       "      <td>0.556</td>\n",
       "      <td>0.788</td>\n",
       "    </tr>\n",
       "    <tr>\n",
       "      <th>precision</th>\n",
       "      <td>0.968</td>\n",
       "      <td>0.176</td>\n",
       "      <td>0.725</td>\n",
       "      <td>0.572</td>\n",
       "      <td>0.908</td>\n",
       "    </tr>\n",
       "    <tr>\n",
       "      <th>recall</th>\n",
       "      <td>0.727</td>\n",
       "      <td>0.708</td>\n",
       "      <td>0.725</td>\n",
       "      <td>0.718</td>\n",
       "      <td>0.725</td>\n",
       "    </tr>\n",
       "    <tr>\n",
       "      <th>support</th>\n",
       "      <td>582.000</td>\n",
       "      <td>48.000</td>\n",
       "      <td>630.000</td>\n",
       "      <td>630.000</td>\n",
       "      <td>630.000</td>\n",
       "    </tr>\n",
       "  </tbody>\n",
       "</table>\n",
       "</div>"
      ],
      "text/plain": [
       "               0.0     1.0  micro avg  macro avg  weighted avg\n",
       "f1-score     0.830   0.282      0.725      0.556         0.788\n",
       "precision    0.968   0.176      0.725      0.572         0.908\n",
       "recall       0.727   0.708      0.725      0.718         0.725\n",
       "support    582.000  48.000    630.000    630.000       630.000"
      ]
     },
     "metadata": {},
     "output_type": "display_data"
    },
    {
     "name": "stderr",
     "output_type": "stream",
     "text": [
      "INFO - 2019-04-01 16:32:19,928 - instantiating class <class 'Transparency.model.modules.Encoder.Encoder'> from params {'vocab_size': 10075, 'embed_size': 200, 'projection': True, 'hidden_size': 128, 'activation': 'tanh', 'type': 'average', 'pre_embed': None} and extras {}\n",
      "INFO - 2019-04-01 16:32:19,929 - type = average\n",
      "INFO - 2019-04-01 16:32:19,929 - instantiating class <class 'Transparency.model.modules.Encoder.EncoderAverage'> from params {'vocab_size': 10075, 'embed_size': 200, 'projection': True, 'hidden_size': 128, 'activation': 'tanh', 'pre_embed': None} and extras {}\n",
      "INFO - 2019-04-01 16:32:19,930 - vocab_size = 10075\n",
      "INFO - 2019-04-01 16:32:19,930 - embed_size = 200\n",
      "INFO - 2019-04-01 16:32:19,930 - projection = True\n",
      "INFO - 2019-04-01 16:32:19,931 - hidden_size = 128\n",
      "INFO - 2019-04-01 16:32:19,931 - activation = tanh\n",
      "INFO - 2019-04-01 16:32:19,931 - pre_embed = None\n",
      "INFO - 2019-04-01 16:32:19,943 - instantiating class <class 'Transparency.model.modules.Decoder.AttnDecoder'> from params {'attention': {'type': 'dot'}, 'output_size': 1, 'hidden_size': 128} and extras {}\n",
      "INFO - 2019-04-01 16:32:19,944 - hidden_size = 128\n",
      "INFO - 2019-04-01 16:32:19,944 - output_size = 1\n",
      "INFO - 2019-04-01 16:32:19,945 - use_attention = True\n",
      "INFO - 2019-04-01 16:32:19,945 - regularizer_attention = None\n",
      "INFO - 2019-04-01 16:32:19,945 - instantiating class <class 'Transparency.model.modules.Attention.Attention'> from params <allennlp.common.params.Params object at 0x7f359d9afda0> and extras {}\n",
      "INFO - 2019-04-01 16:32:19,946 - attention.type = dot\n",
      "INFO - 2019-04-01 16:32:19,946 - type = dot\n",
      "INFO - 2019-04-01 16:32:19,947 - instantiating class <class 'Transparency.model.modules.Attention.DotAttention'> from params <allennlp.common.params.Params object at 0x7f359d9afda0> and extras {}\n",
      "INFO - 2019-04-01 16:32:19,947 - attention.hidden_size = 128\n",
      "INFO - 2019-04-01 16:32:19,947 - hidden_size = 128\n"
     ]
    },
    {
     "name": "stdout",
     "output_type": "stream",
     "text": [
      "Model not saved on  roc_auc 0.7748603951890034\n",
      "\n"
     ]
    },
    {
     "data": {
      "application/vnd.jupyter.widget-view+json": {
       "model_id": "4e22f2cf193d4ea6b51cc2a4c6afdf2b",
       "version_major": 2,
       "version_minor": 0
      },
      "text/plain": [
       "HBox(children=(IntProgress(value=0, max=20), HTML(value='')))"
      ]
     },
     "metadata": {},
     "output_type": "display_data"
    },
    {
     "name": "stdout",
     "output_type": "stream",
     "text": [
      "\n",
      "{'accuracy': 0.5571428571428572, 'roc_auc': 0.7779388602520045, 'pr_auc': 0.36892846493695475}\n"
     ]
    },
    {
     "data": {
      "text/html": [
       "<div>\n",
       "<style scoped>\n",
       "    .dataframe tbody tr th:only-of-type {\n",
       "        vertical-align: middle;\n",
       "    }\n",
       "\n",
       "    .dataframe tbody tr th {\n",
       "        vertical-align: top;\n",
       "    }\n",
       "\n",
       "    .dataframe thead th {\n",
       "        text-align: right;\n",
       "    }\n",
       "</style>\n",
       "<table border=\"1\" class=\"dataframe\">\n",
       "  <thead>\n",
       "    <tr style=\"text-align: right;\">\n",
       "      <th></th>\n",
       "      <th>0.0</th>\n",
       "      <th>1.0</th>\n",
       "      <th>micro avg</th>\n",
       "      <th>macro avg</th>\n",
       "      <th>weighted avg</th>\n",
       "    </tr>\n",
       "  </thead>\n",
       "  <tbody>\n",
       "    <tr>\n",
       "      <th>f1-score</th>\n",
       "      <td>0.692</td>\n",
       "      <td>0.214</td>\n",
       "      <td>0.557</td>\n",
       "      <td>0.453</td>\n",
       "      <td>0.655</td>\n",
       "    </tr>\n",
       "    <tr>\n",
       "      <th>precision</th>\n",
       "      <td>0.969</td>\n",
       "      <td>0.124</td>\n",
       "      <td>0.557</td>\n",
       "      <td>0.546</td>\n",
       "      <td>0.905</td>\n",
       "    </tr>\n",
       "    <tr>\n",
       "      <th>recall</th>\n",
       "      <td>0.538</td>\n",
       "      <td>0.792</td>\n",
       "      <td>0.557</td>\n",
       "      <td>0.665</td>\n",
       "      <td>0.557</td>\n",
       "    </tr>\n",
       "    <tr>\n",
       "      <th>support</th>\n",
       "      <td>582.000</td>\n",
       "      <td>48.000</td>\n",
       "      <td>630.000</td>\n",
       "      <td>630.000</td>\n",
       "      <td>630.000</td>\n",
       "    </tr>\n",
       "  </tbody>\n",
       "</table>\n",
       "</div>"
      ],
      "text/plain": [
       "               0.0     1.0  micro avg  macro avg  weighted avg\n",
       "f1-score     0.692   0.214      0.557      0.453         0.655\n",
       "precision    0.969   0.124      0.557      0.546         0.905\n",
       "recall       0.538   0.792      0.557      0.665         0.557\n",
       "support    582.000  48.000    630.000    630.000       630.000"
      ]
     },
     "metadata": {},
     "output_type": "display_data"
    },
    {
     "name": "stderr",
     "output_type": "stream",
     "text": [
      "INFO - 2019-04-01 16:32:20,321 - instantiating class <class 'Transparency.model.modules.Encoder.Encoder'> from params {'vocab_size': 10075, 'embed_size': 200, 'type': 'rnn', 'hidden_size': 128, 'pre_embed': array([[ 0.        ,  0.        ,  0.        , ...,  0.        ,\n",
      "         0.        ,  0.        ],\n",
      "       [-0.29865993, -0.17479846,  0.20471731, ..., -0.12766917,\n",
      "         1.92515118, -0.17015621],\n",
      "       [-1.87020174, -0.09294443,  0.30508447, ..., -1.57104445,\n",
      "         0.79930904, -1.21405616],\n",
      "       ...,\n",
      "       [-0.71627158, -0.4282509 ,  0.1870833 , ...,  0.60732475,\n",
      "        -1.01639971, -1.09935162],\n",
      "       [-0.95892945, -0.1429986 , -0.12479383, ...,  2.33162925,\n",
      "        -0.21536553, -0.26449798],\n",
      "       [ 1.48001289,  0.28240156, -0.26519005, ...,  0.59071161,\n",
      "         0.44081113,  1.53199245]])} and extras {}\n",
      "INFO - 2019-04-01 16:32:20,321 - type = rnn\n",
      "INFO - 2019-04-01 16:32:20,322 - instantiating class <class 'Transparency.model.modules.Encoder.EncoderRNN'> from params {'vocab_size': 10075, 'embed_size': 200, 'hidden_size': 128, 'pre_embed': array([[ 0.        ,  0.        ,  0.        , ...,  0.        ,\n",
      "         0.        ,  0.        ],\n",
      "       [-0.29865993, -0.17479846,  0.20471731, ..., -0.12766917,\n",
      "         1.92515118, -0.17015621],\n",
      "       [-1.87020174, -0.09294443,  0.30508447, ..., -1.57104445,\n",
      "         0.79930904, -1.21405616],\n",
      "       ...,\n",
      "       [-0.71627158, -0.4282509 ,  0.1870833 , ...,  0.60732475,\n",
      "        -1.01639971, -1.09935162],\n",
      "       [-0.95892945, -0.1429986 , -0.12479383, ...,  2.33162925,\n",
      "        -0.21536553, -0.26449798],\n",
      "       [ 1.48001289,  0.28240156, -0.26519005, ...,  0.59071161,\n",
      "         0.44081113,  1.53199245]])} and extras {}\n",
      "INFO - 2019-04-01 16:32:20,322 - vocab_size = 10075\n",
      "INFO - 2019-04-01 16:32:20,323 - embed_size = 200\n",
      "INFO - 2019-04-01 16:32:20,323 - hidden_size = 128\n",
      "INFO - 2019-04-01 16:32:20,324 - pre_embed = [[ 0.          0.          0.         ...  0.          0.\n",
      "   0.        ]\n",
      " [-0.29865993 -0.17479846  0.20471731 ... -0.12766917  1.92515118\n",
      "  -0.17015621]\n",
      " [-1.87020174 -0.09294443  0.30508447 ... -1.57104445  0.79930904\n",
      "  -1.21405616]\n",
      " ...\n",
      " [-0.71627158 -0.4282509   0.1870833  ...  0.60732475 -1.01639971\n",
      "  -1.09935162]\n",
      " [-0.95892945 -0.1429986  -0.12479383 ...  2.33162925 -0.21536553\n",
      "  -0.26449798]\n",
      " [ 1.48001289  0.28240156 -0.26519005 ...  0.59071161  0.44081113\n",
      "   1.53199245]]\n",
      "INFO - 2019-04-01 16:32:20,331 - instantiating class <class 'Transparency.model.modules.Decoder.AttnDecoder'> from params {'attention': {'type': 'dot'}, 'output_size': 1, 'hidden_size': 256} and extras {}\n",
      "INFO - 2019-04-01 16:32:20,331 - hidden_size = 256\n",
      "INFO - 2019-04-01 16:32:20,332 - output_size = 1\n",
      "INFO - 2019-04-01 16:32:20,332 - use_attention = True\n",
      "INFO - 2019-04-01 16:32:20,332 - regularizer_attention = None\n",
      "INFO - 2019-04-01 16:32:20,333 - instantiating class <class 'Transparency.model.modules.Attention.Attention'> from params <allennlp.common.params.Params object at 0x7f35c1728940> and extras {}\n",
      "INFO - 2019-04-01 16:32:20,334 - attention.type = dot\n",
      "INFO - 2019-04-01 16:32:20,334 - type = dot\n",
      "INFO - 2019-04-01 16:32:20,335 - instantiating class <class 'Transparency.model.modules.Attention.DotAttention'> from params <allennlp.common.params.Params object at 0x7f35c1728940> and extras {}\n",
      "INFO - 2019-04-01 16:32:20,335 - attention.hidden_size = 256\n",
      "INFO - 2019-04-01 16:32:20,335 - hidden_size = 256\n"
     ]
    },
    {
     "name": "stdout",
     "output_type": "stream",
     "text": [
      "Setting Embedding\n"
     ]
    },
    {
     "data": {
      "application/vnd.jupyter.widget-view+json": {
       "model_id": "0aa36bdd64994f058cb11336df1a4c39",
       "version_major": 2,
       "version_minor": 0
      },
      "text/plain": [
       "HBox(children=(IntProgress(value=0, max=8), HTML(value='')))"
      ]
     },
     "metadata": {},
     "output_type": "display_data"
    },
    {
     "data": {
      "application/vnd.jupyter.widget-view+json": {
       "model_id": "7166ec8638964e3d96aeaba58457e87a",
       "version_major": 2,
       "version_minor": 0
      },
      "text/plain": [
       "HBox(children=(IntProgress(value=0, max=94), HTML(value='')))"
      ]
     },
     "metadata": {},
     "output_type": "display_data"
    },
    {
     "data": {
      "application/vnd.jupyter.widget-view+json": {
       "model_id": "b5ba4759c3474f0181c3c1b74b74be22",
       "version_major": 2,
       "version_minor": 0
      },
      "text/plain": [
       "HBox(children=(IntProgress(value=0, max=20), HTML(value='')))"
      ]
     },
     "metadata": {},
     "output_type": "display_data"
    },
    {
     "name": "stdout",
     "output_type": "stream",
     "text": [
      "{'accuracy': 0.12857142857142856, 'roc_auc': 0.6672215063001146, 'pr_auc': 0.1976378916961273}\n"
     ]
    },
    {
     "data": {
      "text/html": [
       "<div>\n",
       "<style scoped>\n",
       "    .dataframe tbody tr th:only-of-type {\n",
       "        vertical-align: middle;\n",
       "    }\n",
       "\n",
       "    .dataframe tbody tr th {\n",
       "        vertical-align: top;\n",
       "    }\n",
       "\n",
       "    .dataframe thead th {\n",
       "        text-align: right;\n",
       "    }\n",
       "</style>\n",
       "<table border=\"1\" class=\"dataframe\">\n",
       "  <thead>\n",
       "    <tr style=\"text-align: right;\">\n",
       "      <th></th>\n",
       "      <th>0.0</th>\n",
       "      <th>1.0</th>\n",
       "      <th>micro avg</th>\n",
       "      <th>macro avg</th>\n",
       "      <th>weighted avg</th>\n",
       "    </tr>\n",
       "  </thead>\n",
       "  <tbody>\n",
       "    <tr>\n",
       "      <th>f1-score</th>\n",
       "      <td>0.116</td>\n",
       "      <td>0.141</td>\n",
       "      <td>0.129</td>\n",
       "      <td>0.128</td>\n",
       "      <td>0.118</td>\n",
       "    </tr>\n",
       "    <tr>\n",
       "      <th>precision</th>\n",
       "      <td>0.923</td>\n",
       "      <td>0.076</td>\n",
       "      <td>0.129</td>\n",
       "      <td>0.500</td>\n",
       "      <td>0.859</td>\n",
       "    </tr>\n",
       "    <tr>\n",
       "      <th>recall</th>\n",
       "      <td>0.062</td>\n",
       "      <td>0.938</td>\n",
       "      <td>0.129</td>\n",
       "      <td>0.500</td>\n",
       "      <td>0.129</td>\n",
       "    </tr>\n",
       "    <tr>\n",
       "      <th>support</th>\n",
       "      <td>582.000</td>\n",
       "      <td>48.000</td>\n",
       "      <td>630.000</td>\n",
       "      <td>630.000</td>\n",
       "      <td>630.000</td>\n",
       "    </tr>\n",
       "  </tbody>\n",
       "</table>\n",
       "</div>"
      ],
      "text/plain": [
       "               0.0     1.0  micro avg  macro avg  weighted avg\n",
       "f1-score     0.116   0.141      0.129      0.128         0.118\n",
       "precision    0.923   0.076      0.129      0.500         0.859\n",
       "recall       0.062   0.938      0.129      0.500         0.129\n",
       "support    582.000  48.000    630.000    630.000       630.000"
      ]
     },
     "metadata": {},
     "output_type": "display_data"
    },
    {
     "name": "stdout",
     "output_type": "stream",
     "text": [
      "Model not saved on  roc_auc 0.6672215063001146\n"
     ]
    },
    {
     "data": {
      "application/vnd.jupyter.widget-view+json": {
       "model_id": "dec18868d489447682ccf394c821a291",
       "version_major": 2,
       "version_minor": 0
      },
      "text/plain": [
       "HBox(children=(IntProgress(value=0, max=94), HTML(value='')))"
      ]
     },
     "metadata": {},
     "output_type": "display_data"
    },
    {
     "data": {
      "application/vnd.jupyter.widget-view+json": {
       "model_id": "09ca7625ce1c45aa80ae388538166056",
       "version_major": 2,
       "version_minor": 0
      },
      "text/plain": [
       "HBox(children=(IntProgress(value=0, max=20), HTML(value='')))"
      ]
     },
     "metadata": {},
     "output_type": "display_data"
    },
    {
     "name": "stdout",
     "output_type": "stream",
     "text": [
      "{'accuracy': 0.6111111111111112, 'roc_auc': 0.7206292955326461, 'pr_auc': 0.2800340021057436}\n"
     ]
    },
    {
     "data": {
      "text/html": [
       "<div>\n",
       "<style scoped>\n",
       "    .dataframe tbody tr th:only-of-type {\n",
       "        vertical-align: middle;\n",
       "    }\n",
       "\n",
       "    .dataframe tbody tr th {\n",
       "        vertical-align: top;\n",
       "    }\n",
       "\n",
       "    .dataframe thead th {\n",
       "        text-align: right;\n",
       "    }\n",
       "</style>\n",
       "<table border=\"1\" class=\"dataframe\">\n",
       "  <thead>\n",
       "    <tr style=\"text-align: right;\">\n",
       "      <th></th>\n",
       "      <th>0.0</th>\n",
       "      <th>1.0</th>\n",
       "      <th>micro avg</th>\n",
       "      <th>macro avg</th>\n",
       "      <th>weighted avg</th>\n",
       "    </tr>\n",
       "  </thead>\n",
       "  <tbody>\n",
       "    <tr>\n",
       "      <th>f1-score</th>\n",
       "      <td>0.741</td>\n",
       "      <td>0.222</td>\n",
       "      <td>0.611</td>\n",
       "      <td>0.481</td>\n",
       "      <td>0.701</td>\n",
       "    </tr>\n",
       "    <tr>\n",
       "      <th>precision</th>\n",
       "      <td>0.964</td>\n",
       "      <td>0.131</td>\n",
       "      <td>0.611</td>\n",
       "      <td>0.548</td>\n",
       "      <td>0.901</td>\n",
       "    </tr>\n",
       "    <tr>\n",
       "      <th>recall</th>\n",
       "      <td>0.601</td>\n",
       "      <td>0.729</td>\n",
       "      <td>0.611</td>\n",
       "      <td>0.665</td>\n",
       "      <td>0.611</td>\n",
       "    </tr>\n",
       "    <tr>\n",
       "      <th>support</th>\n",
       "      <td>582.000</td>\n",
       "      <td>48.000</td>\n",
       "      <td>630.000</td>\n",
       "      <td>630.000</td>\n",
       "      <td>630.000</td>\n",
       "    </tr>\n",
       "  </tbody>\n",
       "</table>\n",
       "</div>"
      ],
      "text/plain": [
       "               0.0     1.0  micro avg  macro avg  weighted avg\n",
       "f1-score     0.741   0.222      0.611      0.481         0.701\n",
       "precision    0.964   0.131      0.611      0.548         0.901\n",
       "recall       0.601   0.729      0.611      0.665         0.611\n",
       "support    582.000  48.000    630.000    630.000       630.000"
      ]
     },
     "metadata": {},
     "output_type": "display_data"
    },
    {
     "name": "stdout",
     "output_type": "stream",
     "text": [
      "Model Saved on  roc_auc 0.7206292955326461\n"
     ]
    },
    {
     "data": {
      "application/vnd.jupyter.widget-view+json": {
       "model_id": "67fbfb62c59e4e2f85127b373cd5df14",
       "version_major": 2,
       "version_minor": 0
      },
      "text/plain": [
       "HBox(children=(IntProgress(value=0, max=94), HTML(value='')))"
      ]
     },
     "metadata": {},
     "output_type": "display_data"
    },
    {
     "data": {
      "application/vnd.jupyter.widget-view+json": {
       "model_id": "45a8184f7b784fc4b4c3283f01d9ec1e",
       "version_major": 2,
       "version_minor": 0
      },
      "text/plain": [
       "HBox(children=(IntProgress(value=0, max=20), HTML(value='')))"
      ]
     },
     "metadata": {},
     "output_type": "display_data"
    },
    {
     "name": "stdout",
     "output_type": "stream",
     "text": [
      "{'accuracy': 0.6301587301587301, 'roc_auc': 0.72306343069874, 'pr_auc': 0.22527736510531393}\n"
     ]
    },
    {
     "data": {
      "text/html": [
       "<div>\n",
       "<style scoped>\n",
       "    .dataframe tbody tr th:only-of-type {\n",
       "        vertical-align: middle;\n",
       "    }\n",
       "\n",
       "    .dataframe tbody tr th {\n",
       "        vertical-align: top;\n",
       "    }\n",
       "\n",
       "    .dataframe thead th {\n",
       "        text-align: right;\n",
       "    }\n",
       "</style>\n",
       "<table border=\"1\" class=\"dataframe\">\n",
       "  <thead>\n",
       "    <tr style=\"text-align: right;\">\n",
       "      <th></th>\n",
       "      <th>0.0</th>\n",
       "      <th>1.0</th>\n",
       "      <th>micro avg</th>\n",
       "      <th>macro avg</th>\n",
       "      <th>weighted avg</th>\n",
       "    </tr>\n",
       "  </thead>\n",
       "  <tbody>\n",
       "    <tr>\n",
       "      <th>f1-score</th>\n",
       "      <td>0.758</td>\n",
       "      <td>0.221</td>\n",
       "      <td>0.63</td>\n",
       "      <td>0.489</td>\n",
       "      <td>0.717</td>\n",
       "    </tr>\n",
       "    <tr>\n",
       "      <th>precision</th>\n",
       "      <td>0.960</td>\n",
       "      <td>0.131</td>\n",
       "      <td>0.63</td>\n",
       "      <td>0.546</td>\n",
       "      <td>0.897</td>\n",
       "    </tr>\n",
       "    <tr>\n",
       "      <th>recall</th>\n",
       "      <td>0.625</td>\n",
       "      <td>0.688</td>\n",
       "      <td>0.63</td>\n",
       "      <td>0.656</td>\n",
       "      <td>0.630</td>\n",
       "    </tr>\n",
       "    <tr>\n",
       "      <th>support</th>\n",
       "      <td>582.000</td>\n",
       "      <td>48.000</td>\n",
       "      <td>630.00</td>\n",
       "      <td>630.000</td>\n",
       "      <td>630.000</td>\n",
       "    </tr>\n",
       "  </tbody>\n",
       "</table>\n",
       "</div>"
      ],
      "text/plain": [
       "               0.0     1.0  micro avg  macro avg  weighted avg\n",
       "f1-score     0.758   0.221       0.63      0.489         0.717\n",
       "precision    0.960   0.131       0.63      0.546         0.897\n",
       "recall       0.625   0.688       0.63      0.656         0.630\n",
       "support    582.000  48.000     630.00    630.000       630.000"
      ]
     },
     "metadata": {},
     "output_type": "display_data"
    },
    {
     "name": "stdout",
     "output_type": "stream",
     "text": [
      "Model Saved on  roc_auc 0.72306343069874\n"
     ]
    },
    {
     "data": {
      "application/vnd.jupyter.widget-view+json": {
       "model_id": "ccb7534c241444579f74467e297e474c",
       "version_major": 2,
       "version_minor": 0
      },
      "text/plain": [
       "HBox(children=(IntProgress(value=0, max=94), HTML(value='')))"
      ]
     },
     "metadata": {},
     "output_type": "display_data"
    },
    {
     "data": {
      "application/vnd.jupyter.widget-view+json": {
       "model_id": "8e3d21e54ebc40fc90e88f9789d93462",
       "version_major": 2,
       "version_minor": 0
      },
      "text/plain": [
       "HBox(children=(IntProgress(value=0, max=20), HTML(value='')))"
      ]
     },
     "metadata": {},
     "output_type": "display_data"
    },
    {
     "name": "stdout",
     "output_type": "stream",
     "text": [
      "{'accuracy': 0.5476190476190477, 'roc_auc': 0.7646585051546391, 'pr_auc': 0.37148815187121015}\n"
     ]
    },
    {
     "data": {
      "text/html": [
       "<div>\n",
       "<style scoped>\n",
       "    .dataframe tbody tr th:only-of-type {\n",
       "        vertical-align: middle;\n",
       "    }\n",
       "\n",
       "    .dataframe tbody tr th {\n",
       "        vertical-align: top;\n",
       "    }\n",
       "\n",
       "    .dataframe thead th {\n",
       "        text-align: right;\n",
       "    }\n",
       "</style>\n",
       "<table border=\"1\" class=\"dataframe\">\n",
       "  <thead>\n",
       "    <tr style=\"text-align: right;\">\n",
       "      <th></th>\n",
       "      <th>0.0</th>\n",
       "      <th>1.0</th>\n",
       "      <th>micro avg</th>\n",
       "      <th>macro avg</th>\n",
       "      <th>weighted avg</th>\n",
       "    </tr>\n",
       "  </thead>\n",
       "  <tbody>\n",
       "    <tr>\n",
       "      <th>f1-score</th>\n",
       "      <td>0.683</td>\n",
       "      <td>0.211</td>\n",
       "      <td>0.548</td>\n",
       "      <td>0.447</td>\n",
       "      <td>0.647</td>\n",
       "    </tr>\n",
       "    <tr>\n",
       "      <th>precision</th>\n",
       "      <td>0.968</td>\n",
       "      <td>0.121</td>\n",
       "      <td>0.548</td>\n",
       "      <td>0.545</td>\n",
       "      <td>0.904</td>\n",
       "    </tr>\n",
       "    <tr>\n",
       "      <th>recall</th>\n",
       "      <td>0.527</td>\n",
       "      <td>0.792</td>\n",
       "      <td>0.548</td>\n",
       "      <td>0.660</td>\n",
       "      <td>0.548</td>\n",
       "    </tr>\n",
       "    <tr>\n",
       "      <th>support</th>\n",
       "      <td>582.000</td>\n",
       "      <td>48.000</td>\n",
       "      <td>630.000</td>\n",
       "      <td>630.000</td>\n",
       "      <td>630.000</td>\n",
       "    </tr>\n",
       "  </tbody>\n",
       "</table>\n",
       "</div>"
      ],
      "text/plain": [
       "               0.0     1.0  micro avg  macro avg  weighted avg\n",
       "f1-score     0.683   0.211      0.548      0.447         0.647\n",
       "precision    0.968   0.121      0.548      0.545         0.904\n",
       "recall       0.527   0.792      0.548      0.660         0.548\n",
       "support    582.000  48.000    630.000    630.000       630.000"
      ]
     },
     "metadata": {},
     "output_type": "display_data"
    },
    {
     "name": "stdout",
     "output_type": "stream",
     "text": [
      "Model Saved on  roc_auc 0.7646585051546391\n"
     ]
    },
    {
     "data": {
      "application/vnd.jupyter.widget-view+json": {
       "model_id": "8850455e1af1411eafe9b269d24579b2",
       "version_major": 2,
       "version_minor": 0
      },
      "text/plain": [
       "HBox(children=(IntProgress(value=0, max=94), HTML(value='')))"
      ]
     },
     "metadata": {},
     "output_type": "display_data"
    },
    {
     "data": {
      "application/vnd.jupyter.widget-view+json": {
       "model_id": "f2ca753ef2f14080b1ef9fa83746db33",
       "version_major": 2,
       "version_minor": 0
      },
      "text/plain": [
       "HBox(children=(IntProgress(value=0, max=20), HTML(value='')))"
      ]
     },
     "metadata": {},
     "output_type": "display_data"
    },
    {
     "name": "stdout",
     "output_type": "stream",
     "text": [
      "{'accuracy': 0.6761904761904762, 'roc_auc': 0.7570339347079037, 'pr_auc': 0.38254692451495476}\n"
     ]
    },
    {
     "data": {
      "text/html": [
       "<div>\n",
       "<style scoped>\n",
       "    .dataframe tbody tr th:only-of-type {\n",
       "        vertical-align: middle;\n",
       "    }\n",
       "\n",
       "    .dataframe tbody tr th {\n",
       "        vertical-align: top;\n",
       "    }\n",
       "\n",
       "    .dataframe thead th {\n",
       "        text-align: right;\n",
       "    }\n",
       "</style>\n",
       "<table border=\"1\" class=\"dataframe\">\n",
       "  <thead>\n",
       "    <tr style=\"text-align: right;\">\n",
       "      <th></th>\n",
       "      <th>0.0</th>\n",
       "      <th>1.0</th>\n",
       "      <th>micro avg</th>\n",
       "      <th>macro avg</th>\n",
       "      <th>weighted avg</th>\n",
       "    </tr>\n",
       "  </thead>\n",
       "  <tbody>\n",
       "    <tr>\n",
       "      <th>f1-score</th>\n",
       "      <td>0.794</td>\n",
       "      <td>0.250</td>\n",
       "      <td>0.676</td>\n",
       "      <td>0.522</td>\n",
       "      <td>0.752</td>\n",
       "    </tr>\n",
       "    <tr>\n",
       "      <th>precision</th>\n",
       "      <td>0.966</td>\n",
       "      <td>0.152</td>\n",
       "      <td>0.676</td>\n",
       "      <td>0.559</td>\n",
       "      <td>0.904</td>\n",
       "    </tr>\n",
       "    <tr>\n",
       "      <th>recall</th>\n",
       "      <td>0.674</td>\n",
       "      <td>0.708</td>\n",
       "      <td>0.676</td>\n",
       "      <td>0.691</td>\n",
       "      <td>0.676</td>\n",
       "    </tr>\n",
       "    <tr>\n",
       "      <th>support</th>\n",
       "      <td>582.000</td>\n",
       "      <td>48.000</td>\n",
       "      <td>630.000</td>\n",
       "      <td>630.000</td>\n",
       "      <td>630.000</td>\n",
       "    </tr>\n",
       "  </tbody>\n",
       "</table>\n",
       "</div>"
      ],
      "text/plain": [
       "               0.0     1.0  micro avg  macro avg  weighted avg\n",
       "f1-score     0.794   0.250      0.676      0.522         0.752\n",
       "precision    0.966   0.152      0.676      0.559         0.904\n",
       "recall       0.674   0.708      0.676      0.691         0.676\n",
       "support    582.000  48.000    630.000    630.000       630.000"
      ]
     },
     "metadata": {},
     "output_type": "display_data"
    },
    {
     "name": "stdout",
     "output_type": "stream",
     "text": [
      "Model not saved on  roc_auc 0.7570339347079037\n"
     ]
    },
    {
     "data": {
      "application/vnd.jupyter.widget-view+json": {
       "model_id": "669cd477c5a944ff982ad5ee0cc88a62",
       "version_major": 2,
       "version_minor": 0
      },
      "text/plain": [
       "HBox(children=(IntProgress(value=0, max=94), HTML(value='')))"
      ]
     },
     "metadata": {},
     "output_type": "display_data"
    },
    {
     "data": {
      "application/vnd.jupyter.widget-view+json": {
       "model_id": "6056facd33f84d1881e57d54da140e8e",
       "version_major": 2,
       "version_minor": 0
      },
      "text/plain": [
       "HBox(children=(IntProgress(value=0, max=20), HTML(value='')))"
      ]
     },
     "metadata": {},
     "output_type": "display_data"
    },
    {
     "name": "stdout",
     "output_type": "stream",
     "text": [
      "{'accuracy': 0.8603174603174604, 'roc_auc': 0.752559421534937, 'pr_auc': 0.395244396763007}\n"
     ]
    },
    {
     "data": {
      "text/html": [
       "<div>\n",
       "<style scoped>\n",
       "    .dataframe tbody tr th:only-of-type {\n",
       "        vertical-align: middle;\n",
       "    }\n",
       "\n",
       "    .dataframe tbody tr th {\n",
       "        vertical-align: top;\n",
       "    }\n",
       "\n",
       "    .dataframe thead th {\n",
       "        text-align: right;\n",
       "    }\n",
       "</style>\n",
       "<table border=\"1\" class=\"dataframe\">\n",
       "  <thead>\n",
       "    <tr style=\"text-align: right;\">\n",
       "      <th></th>\n",
       "      <th>0.0</th>\n",
       "      <th>1.0</th>\n",
       "      <th>micro avg</th>\n",
       "      <th>macro avg</th>\n",
       "      <th>weighted avg</th>\n",
       "    </tr>\n",
       "  </thead>\n",
       "  <tbody>\n",
       "    <tr>\n",
       "      <th>f1-score</th>\n",
       "      <td>0.921</td>\n",
       "      <td>0.380</td>\n",
       "      <td>0.86</td>\n",
       "      <td>0.651</td>\n",
       "      <td>0.880</td>\n",
       "    </tr>\n",
       "    <tr>\n",
       "      <th>precision</th>\n",
       "      <td>0.961</td>\n",
       "      <td>0.287</td>\n",
       "      <td>0.86</td>\n",
       "      <td>0.624</td>\n",
       "      <td>0.909</td>\n",
       "    </tr>\n",
       "    <tr>\n",
       "      <th>recall</th>\n",
       "      <td>0.885</td>\n",
       "      <td>0.562</td>\n",
       "      <td>0.86</td>\n",
       "      <td>0.724</td>\n",
       "      <td>0.860</td>\n",
       "    </tr>\n",
       "    <tr>\n",
       "      <th>support</th>\n",
       "      <td>582.000</td>\n",
       "      <td>48.000</td>\n",
       "      <td>630.00</td>\n",
       "      <td>630.000</td>\n",
       "      <td>630.000</td>\n",
       "    </tr>\n",
       "  </tbody>\n",
       "</table>\n",
       "</div>"
      ],
      "text/plain": [
       "               0.0     1.0  micro avg  macro avg  weighted avg\n",
       "f1-score     0.921   0.380       0.86      0.651         0.880\n",
       "precision    0.961   0.287       0.86      0.624         0.909\n",
       "recall       0.885   0.562       0.86      0.724         0.860\n",
       "support    582.000  48.000     630.00    630.000       630.000"
      ]
     },
     "metadata": {},
     "output_type": "display_data"
    },
    {
     "name": "stdout",
     "output_type": "stream",
     "text": [
      "Model not saved on  roc_auc 0.752559421534937\n"
     ]
    },
    {
     "data": {
      "application/vnd.jupyter.widget-view+json": {
       "model_id": "f2ecb25d20af4984b85942a81243d57c",
       "version_major": 2,
       "version_minor": 0
      },
      "text/plain": [
       "HBox(children=(IntProgress(value=0, max=94), HTML(value='')))"
      ]
     },
     "metadata": {},
     "output_type": "display_data"
    },
    {
     "data": {
      "application/vnd.jupyter.widget-view+json": {
       "model_id": "107038f07fae4b9e9342c392a54e2dcb",
       "version_major": 2,
       "version_minor": 0
      },
      "text/plain": [
       "HBox(children=(IntProgress(value=0, max=20), HTML(value='')))"
      ]
     },
     "metadata": {},
     "output_type": "display_data"
    },
    {
     "name": "stdout",
     "output_type": "stream",
     "text": [
      "{'accuracy': 0.6682539682539682, 'roc_auc': 0.7695983676975946, 'pr_auc': 0.3769436463799935}\n"
     ]
    },
    {
     "data": {
      "text/html": [
       "<div>\n",
       "<style scoped>\n",
       "    .dataframe tbody tr th:only-of-type {\n",
       "        vertical-align: middle;\n",
       "    }\n",
       "\n",
       "    .dataframe tbody tr th {\n",
       "        vertical-align: top;\n",
       "    }\n",
       "\n",
       "    .dataframe thead th {\n",
       "        text-align: right;\n",
       "    }\n",
       "</style>\n",
       "<table border=\"1\" class=\"dataframe\">\n",
       "  <thead>\n",
       "    <tr style=\"text-align: right;\">\n",
       "      <th></th>\n",
       "      <th>0.0</th>\n",
       "      <th>1.0</th>\n",
       "      <th>micro avg</th>\n",
       "      <th>macro avg</th>\n",
       "      <th>weighted avg</th>\n",
       "    </tr>\n",
       "  </thead>\n",
       "  <tbody>\n",
       "    <tr>\n",
       "      <th>f1-score</th>\n",
       "      <td>0.786</td>\n",
       "      <td>0.267</td>\n",
       "      <td>0.668</td>\n",
       "      <td>0.526</td>\n",
       "      <td>0.746</td>\n",
       "    </tr>\n",
       "    <tr>\n",
       "      <th>precision</th>\n",
       "      <td>0.975</td>\n",
       "      <td>0.160</td>\n",
       "      <td>0.668</td>\n",
       "      <td>0.567</td>\n",
       "      <td>0.913</td>\n",
       "    </tr>\n",
       "    <tr>\n",
       "      <th>recall</th>\n",
       "      <td>0.658</td>\n",
       "      <td>0.792</td>\n",
       "      <td>0.668</td>\n",
       "      <td>0.725</td>\n",
       "      <td>0.668</td>\n",
       "    </tr>\n",
       "    <tr>\n",
       "      <th>support</th>\n",
       "      <td>582.000</td>\n",
       "      <td>48.000</td>\n",
       "      <td>630.000</td>\n",
       "      <td>630.000</td>\n",
       "      <td>630.000</td>\n",
       "    </tr>\n",
       "  </tbody>\n",
       "</table>\n",
       "</div>"
      ],
      "text/plain": [
       "               0.0     1.0  micro avg  macro avg  weighted avg\n",
       "f1-score     0.786   0.267      0.668      0.526         0.746\n",
       "precision    0.975   0.160      0.668      0.567         0.913\n",
       "recall       0.658   0.792      0.668      0.725         0.668\n",
       "support    582.000  48.000    630.000    630.000       630.000"
      ]
     },
     "metadata": {},
     "output_type": "display_data"
    },
    {
     "name": "stdout",
     "output_type": "stream",
     "text": [
      "Model Saved on  roc_auc 0.7695983676975946\n"
     ]
    },
    {
     "data": {
      "application/vnd.jupyter.widget-view+json": {
       "model_id": "ecd923f422014688a2cd4fb157db367f",
       "version_major": 2,
       "version_minor": 0
      },
      "text/plain": [
       "HBox(children=(IntProgress(value=0, max=94), HTML(value='')))"
      ]
     },
     "metadata": {},
     "output_type": "display_data"
    },
    {
     "data": {
      "application/vnd.jupyter.widget-view+json": {
       "model_id": "873e7f0c57024e68b547c18c4405ded1",
       "version_major": 2,
       "version_minor": 0
      },
      "text/plain": [
       "HBox(children=(IntProgress(value=0, max=20), HTML(value='')))"
      ]
     },
     "metadata": {},
     "output_type": "display_data"
    },
    {
     "name": "stdout",
     "output_type": "stream",
     "text": [
      "{'accuracy': 0.8571428571428571, 'roc_auc': 0.7603987686139748, 'pr_auc': 0.36323443320359233}\n"
     ]
    },
    {
     "data": {
      "text/html": [
       "<div>\n",
       "<style scoped>\n",
       "    .dataframe tbody tr th:only-of-type {\n",
       "        vertical-align: middle;\n",
       "    }\n",
       "\n",
       "    .dataframe tbody tr th {\n",
       "        vertical-align: top;\n",
       "    }\n",
       "\n",
       "    .dataframe thead th {\n",
       "        text-align: right;\n",
       "    }\n",
       "</style>\n",
       "<table border=\"1\" class=\"dataframe\">\n",
       "  <thead>\n",
       "    <tr style=\"text-align: right;\">\n",
       "      <th></th>\n",
       "      <th>0.0</th>\n",
       "      <th>1.0</th>\n",
       "      <th>micro avg</th>\n",
       "      <th>macro avg</th>\n",
       "      <th>weighted avg</th>\n",
       "    </tr>\n",
       "  </thead>\n",
       "  <tbody>\n",
       "    <tr>\n",
       "      <th>f1-score</th>\n",
       "      <td>0.919</td>\n",
       "      <td>0.400</td>\n",
       "      <td>0.857</td>\n",
       "      <td>0.659</td>\n",
       "      <td>0.879</td>\n",
       "    </tr>\n",
       "    <tr>\n",
       "      <th>precision</th>\n",
       "      <td>0.966</td>\n",
       "      <td>0.294</td>\n",
       "      <td>0.857</td>\n",
       "      <td>0.630</td>\n",
       "      <td>0.915</td>\n",
       "    </tr>\n",
       "    <tr>\n",
       "      <th>recall</th>\n",
       "      <td>0.876</td>\n",
       "      <td>0.625</td>\n",
       "      <td>0.857</td>\n",
       "      <td>0.751</td>\n",
       "      <td>0.857</td>\n",
       "    </tr>\n",
       "    <tr>\n",
       "      <th>support</th>\n",
       "      <td>582.000</td>\n",
       "      <td>48.000</td>\n",
       "      <td>630.000</td>\n",
       "      <td>630.000</td>\n",
       "      <td>630.000</td>\n",
       "    </tr>\n",
       "  </tbody>\n",
       "</table>\n",
       "</div>"
      ],
      "text/plain": [
       "               0.0     1.0  micro avg  macro avg  weighted avg\n",
       "f1-score     0.919   0.400      0.857      0.659         0.879\n",
       "precision    0.966   0.294      0.857      0.630         0.915\n",
       "recall       0.876   0.625      0.857      0.751         0.857\n",
       "support    582.000  48.000    630.000    630.000       630.000"
      ]
     },
     "metadata": {},
     "output_type": "display_data"
    },
    {
     "name": "stderr",
     "output_type": "stream",
     "text": [
      "INFO - 2019-04-01 16:35:31,118 - instantiating class <class 'Transparency.model.modules.Encoder.Encoder'> from params {'vocab_size': 10075, 'embed_size': 200, 'type': 'rnn', 'hidden_size': 128, 'pre_embed': None} and extras {}\n",
      "INFO - 2019-04-01 16:35:31,119 - type = rnn\n",
      "INFO - 2019-04-01 16:35:31,119 - instantiating class <class 'Transparency.model.modules.Encoder.EncoderRNN'> from params {'vocab_size': 10075, 'embed_size': 200, 'hidden_size': 128, 'pre_embed': None} and extras {}\n",
      "INFO - 2019-04-01 16:35:31,120 - vocab_size = 10075\n",
      "INFO - 2019-04-01 16:35:31,120 - embed_size = 200\n",
      "INFO - 2019-04-01 16:35:31,120 - hidden_size = 128\n",
      "INFO - 2019-04-01 16:35:31,121 - pre_embed = None\n",
      "INFO - 2019-04-01 16:35:31,137 - instantiating class <class 'Transparency.model.modules.Decoder.AttnDecoder'> from params {'attention': {'type': 'dot'}, 'output_size': 1, 'hidden_size': 256} and extras {}\n",
      "INFO - 2019-04-01 16:35:31,137 - hidden_size = 256\n",
      "INFO - 2019-04-01 16:35:31,137 - output_size = 1\n",
      "INFO - 2019-04-01 16:35:31,138 - use_attention = True\n",
      "INFO - 2019-04-01 16:35:31,138 - regularizer_attention = None\n",
      "INFO - 2019-04-01 16:35:31,139 - instantiating class <class 'Transparency.model.modules.Attention.Attention'> from params <allennlp.common.params.Params object at 0x7f359d8c3cc0> and extras {}\n",
      "INFO - 2019-04-01 16:35:31,139 - attention.type = dot\n",
      "INFO - 2019-04-01 16:35:31,139 - type = dot\n",
      "INFO - 2019-04-01 16:35:31,139 - instantiating class <class 'Transparency.model.modules.Attention.DotAttention'> from params <allennlp.common.params.Params object at 0x7f359d8c3cc0> and extras {}\n",
      "INFO - 2019-04-01 16:35:31,140 - attention.hidden_size = 256\n",
      "INFO - 2019-04-01 16:35:31,140 - hidden_size = 256\n"
     ]
    },
    {
     "name": "stdout",
     "output_type": "stream",
     "text": [
      "Model not saved on  roc_auc 0.7603987686139748\n",
      "\n"
     ]
    },
    {
     "data": {
      "application/vnd.jupyter.widget-view+json": {
       "model_id": "1760af820de74ce3b150b1b02e99515f",
       "version_major": 2,
       "version_minor": 0
      },
      "text/plain": [
       "HBox(children=(IntProgress(value=0, max=20), HTML(value='')))"
      ]
     },
     "metadata": {},
     "output_type": "display_data"
    },
    {
     "name": "stdout",
     "output_type": "stream",
     "text": [
      "\n",
      "{'accuracy': 0.6682539682539682, 'roc_auc': 0.7695983676975946, 'pr_auc': 0.3769436463799935}\n"
     ]
    },
    {
     "data": {
      "text/html": [
       "<div>\n",
       "<style scoped>\n",
       "    .dataframe tbody tr th:only-of-type {\n",
       "        vertical-align: middle;\n",
       "    }\n",
       "\n",
       "    .dataframe tbody tr th {\n",
       "        vertical-align: top;\n",
       "    }\n",
       "\n",
       "    .dataframe thead th {\n",
       "        text-align: right;\n",
       "    }\n",
       "</style>\n",
       "<table border=\"1\" class=\"dataframe\">\n",
       "  <thead>\n",
       "    <tr style=\"text-align: right;\">\n",
       "      <th></th>\n",
       "      <th>0.0</th>\n",
       "      <th>1.0</th>\n",
       "      <th>micro avg</th>\n",
       "      <th>macro avg</th>\n",
       "      <th>weighted avg</th>\n",
       "    </tr>\n",
       "  </thead>\n",
       "  <tbody>\n",
       "    <tr>\n",
       "      <th>f1-score</th>\n",
       "      <td>0.786</td>\n",
       "      <td>0.267</td>\n",
       "      <td>0.668</td>\n",
       "      <td>0.526</td>\n",
       "      <td>0.746</td>\n",
       "    </tr>\n",
       "    <tr>\n",
       "      <th>precision</th>\n",
       "      <td>0.975</td>\n",
       "      <td>0.160</td>\n",
       "      <td>0.668</td>\n",
       "      <td>0.567</td>\n",
       "      <td>0.913</td>\n",
       "    </tr>\n",
       "    <tr>\n",
       "      <th>recall</th>\n",
       "      <td>0.658</td>\n",
       "      <td>0.792</td>\n",
       "      <td>0.668</td>\n",
       "      <td>0.725</td>\n",
       "      <td>0.668</td>\n",
       "    </tr>\n",
       "    <tr>\n",
       "      <th>support</th>\n",
       "      <td>582.000</td>\n",
       "      <td>48.000</td>\n",
       "      <td>630.000</td>\n",
       "      <td>630.000</td>\n",
       "      <td>630.000</td>\n",
       "    </tr>\n",
       "  </tbody>\n",
       "</table>\n",
       "</div>"
      ],
      "text/plain": [
       "               0.0     1.0  micro avg  macro avg  weighted avg\n",
       "f1-score     0.786   0.267      0.668      0.526         0.746\n",
       "precision    0.975   0.160      0.668      0.567         0.913\n",
       "recall       0.658   0.792      0.668      0.725         0.668\n",
       "support    582.000  48.000    630.000    630.000       630.000"
      ]
     },
     "metadata": {},
     "output_type": "display_data"
    },
    {
     "name": "stderr",
     "output_type": "stream",
     "text": [
      "INFO - 2019-04-01 16:35:32,841 - instantiating class <class 'Transparency.model.modules.Encoder.Encoder'> from params {'vocab_size': 10075, 'embed_size': 200, 'kernel_sizes': [1, 3, 5, 7], 'hidden_size': 64, 'activation': 'relu', 'type': 'cnn', 'pre_embed': None} and extras {}\n",
      "INFO - 2019-04-01 16:35:32,842 - type = cnn\n",
      "INFO - 2019-04-01 16:35:32,842 - instantiating class <class 'Transparency.model.modules.Encoder.EncoderCNN'> from params {'vocab_size': 10075, 'embed_size': 200, 'kernel_sizes': [1, 3, 5, 7], 'hidden_size': 64, 'activation': 'relu', 'pre_embed': None} and extras {}\n",
      "INFO - 2019-04-01 16:35:32,842 - vocab_size = 10075\n",
      "INFO - 2019-04-01 16:35:32,843 - embed_size = 200\n",
      "INFO - 2019-04-01 16:35:32,843 - hidden_size = 64\n",
      "INFO - 2019-04-01 16:35:32,844 - kernel_sizes = [1, 3, 5, 7]\n",
      "INFO - 2019-04-01 16:35:32,844 - activation = relu\n",
      "INFO - 2019-04-01 16:35:32,845 - pre_embed = None\n",
      "INFO - 2019-04-01 16:35:32,860 - instantiating class <class 'Transparency.model.modules.Decoder.AttnDecoder'> from params {'attention': {'type': 'dot'}, 'output_size': 1, 'hidden_size': 256} and extras {}\n",
      "INFO - 2019-04-01 16:35:32,860 - hidden_size = 256\n",
      "INFO - 2019-04-01 16:35:32,861 - output_size = 1\n",
      "INFO - 2019-04-01 16:35:32,861 - use_attention = True\n",
      "INFO - 2019-04-01 16:35:32,862 - regularizer_attention = None\n",
      "INFO - 2019-04-01 16:35:32,862 - instantiating class <class 'Transparency.model.modules.Attention.Attention'> from params <allennlp.common.params.Params object at 0x7f35c1764358> and extras {}\n",
      "INFO - 2019-04-01 16:35:32,863 - attention.type = dot\n",
      "INFO - 2019-04-01 16:35:32,863 - type = dot\n",
      "INFO - 2019-04-01 16:35:32,863 - instantiating class <class 'Transparency.model.modules.Attention.DotAttention'> from params <allennlp.common.params.Params object at 0x7f35c1764358> and extras {}\n",
      "INFO - 2019-04-01 16:35:32,864 - attention.hidden_size = 256\n",
      "INFO - 2019-04-01 16:35:32,864 - hidden_size = 256\n"
     ]
    },
    {
     "data": {
      "application/vnd.jupyter.widget-view+json": {
       "model_id": "dafb0161aaf44a4b8a2aa8073d0a1f4e",
       "version_major": 2,
       "version_minor": 0
      },
      "text/plain": [
       "HBox(children=(IntProgress(value=0, max=20), HTML(value='')))"
      ]
     },
     "metadata": {},
     "output_type": "display_data"
    },
    {
     "name": "stdout",
     "output_type": "stream",
     "text": [
      "\n",
      "{'accuracy': 0.6031746031746031, 'roc_auc': 0.7746814146620848, 'pr_auc': 0.26055841952255}\n"
     ]
    },
    {
     "data": {
      "text/html": [
       "<div>\n",
       "<style scoped>\n",
       "    .dataframe tbody tr th:only-of-type {\n",
       "        vertical-align: middle;\n",
       "    }\n",
       "\n",
       "    .dataframe tbody tr th {\n",
       "        vertical-align: top;\n",
       "    }\n",
       "\n",
       "    .dataframe thead th {\n",
       "        text-align: right;\n",
       "    }\n",
       "</style>\n",
       "<table border=\"1\" class=\"dataframe\">\n",
       "  <thead>\n",
       "    <tr style=\"text-align: right;\">\n",
       "      <th></th>\n",
       "      <th>0.0</th>\n",
       "      <th>1.0</th>\n",
       "      <th>micro avg</th>\n",
       "      <th>macro avg</th>\n",
       "      <th>weighted avg</th>\n",
       "    </tr>\n",
       "  </thead>\n",
       "  <tbody>\n",
       "    <tr>\n",
       "      <th>f1-score</th>\n",
       "      <td>0.733</td>\n",
       "      <td>0.228</td>\n",
       "      <td>0.603</td>\n",
       "      <td>0.481</td>\n",
       "      <td>0.694</td>\n",
       "    </tr>\n",
       "    <tr>\n",
       "      <th>precision</th>\n",
       "      <td>0.969</td>\n",
       "      <td>0.134</td>\n",
       "      <td>0.603</td>\n",
       "      <td>0.551</td>\n",
       "      <td>0.905</td>\n",
       "    </tr>\n",
       "    <tr>\n",
       "      <th>recall</th>\n",
       "      <td>0.589</td>\n",
       "      <td>0.771</td>\n",
       "      <td>0.603</td>\n",
       "      <td>0.680</td>\n",
       "      <td>0.603</td>\n",
       "    </tr>\n",
       "    <tr>\n",
       "      <th>support</th>\n",
       "      <td>582.000</td>\n",
       "      <td>48.000</td>\n",
       "      <td>630.000</td>\n",
       "      <td>630.000</td>\n",
       "      <td>630.000</td>\n",
       "    </tr>\n",
       "  </tbody>\n",
       "</table>\n",
       "</div>"
      ],
      "text/plain": [
       "               0.0     1.0  micro avg  macro avg  weighted avg\n",
       "f1-score     0.733   0.228      0.603      0.481         0.694\n",
       "precision    0.969   0.134      0.603      0.551         0.905\n",
       "recall       0.589   0.771      0.603      0.680         0.603\n",
       "support    582.000  48.000    630.000    630.000       630.000"
      ]
     },
     "metadata": {},
     "output_type": "display_data"
    },
    {
     "data": {
      "application/vnd.jupyter.widget-view+json": {
       "model_id": "df85700d0df94312b06499f204644d96",
       "version_major": 2,
       "version_minor": 0
      },
      "text/plain": [
       "HBox(children=(IntProgress(value=0, max=20), HTML(value='')))"
      ]
     },
     "metadata": {},
     "output_type": "display_data"
    },
    {
     "name": "stdout",
     "output_type": "stream",
     "text": [
      "\n"
     ]
    },
    {
     "data": {
      "application/vnd.jupyter.widget-view+json": {
       "model_id": "d21169ee5e2e421e8155bb6eed35505e",
       "version_major": 2,
       "version_minor": 0
      },
      "text/plain": [
       "HBox(children=(IntProgress(value=0, max=20), HTML(value='')))"
      ]
     },
     "metadata": {},
     "output_type": "display_data"
    },
    {
     "name": "stdout",
     "output_type": "stream",
     "text": [
      "\n"
     ]
    },
    {
     "data": {
      "application/vnd.jupyter.widget-view+json": {
       "model_id": "c779681ae75843ac9386a08f1321c49b",
       "version_major": 2,
       "version_minor": 0
      },
      "text/plain": [
       "HBox(children=(IntProgress(value=0, max=20), HTML(value='')))"
      ]
     },
     "metadata": {},
     "output_type": "display_data"
    },
    {
     "name": "stdout",
     "output_type": "stream",
     "text": [
      "\n"
     ]
    },
    {
     "name": "stderr",
     "output_type": "stream",
     "text": [
      "INFO - 2019-04-01 16:37:44,231 - instantiating class <class 'Transparency.model.modules.Encoder.Encoder'> from params {'vocab_size': 10075, 'embed_size': 200, 'projection': True, 'hidden_size': 128, 'activation': 'tanh', 'type': 'average', 'pre_embed': None} and extras {}\n",
      "INFO - 2019-04-01 16:37:44,232 - type = average\n",
      "INFO - 2019-04-01 16:37:44,232 - instantiating class <class 'Transparency.model.modules.Encoder.EncoderAverage'> from params {'vocab_size': 10075, 'embed_size': 200, 'projection': True, 'hidden_size': 128, 'activation': 'tanh', 'pre_embed': None} and extras {}\n",
      "INFO - 2019-04-01 16:37:44,233 - vocab_size = 10075\n",
      "INFO - 2019-04-01 16:37:44,233 - embed_size = 200\n",
      "INFO - 2019-04-01 16:37:44,233 - projection = True\n",
      "INFO - 2019-04-01 16:37:44,234 - hidden_size = 128\n",
      "INFO - 2019-04-01 16:37:44,235 - activation = tanh\n",
      "INFO - 2019-04-01 16:37:44,235 - pre_embed = None\n",
      "INFO - 2019-04-01 16:37:44,249 - instantiating class <class 'Transparency.model.modules.Decoder.AttnDecoder'> from params {'attention': {'type': 'dot'}, 'output_size': 1, 'hidden_size': 128} and extras {}\n",
      "INFO - 2019-04-01 16:37:44,250 - hidden_size = 128\n",
      "INFO - 2019-04-01 16:37:44,250 - output_size = 1\n",
      "INFO - 2019-04-01 16:37:44,251 - use_attention = True\n",
      "INFO - 2019-04-01 16:37:44,251 - regularizer_attention = None\n",
      "INFO - 2019-04-01 16:37:44,252 - instantiating class <class 'Transparency.model.modules.Attention.Attention'> from params <allennlp.common.params.Params object at 0x7f3615201080> and extras {}\n",
      "INFO - 2019-04-01 16:37:44,252 - attention.type = dot\n",
      "INFO - 2019-04-01 16:37:44,252 - type = dot\n",
      "INFO - 2019-04-01 16:37:44,253 - instantiating class <class 'Transparency.model.modules.Attention.DotAttention'> from params <allennlp.common.params.Params object at 0x7f3615201080> and extras {}\n",
      "INFO - 2019-04-01 16:37:44,253 - attention.hidden_size = 128\n",
      "INFO - 2019-04-01 16:37:44,253 - hidden_size = 128\n"
     ]
    },
    {
     "data": {
      "application/vnd.jupyter.widget-view+json": {
       "model_id": "bfb7b477a6ec4d9c84a53e0e3c305074",
       "version_major": 2,
       "version_minor": 0
      },
      "text/plain": [
       "HBox(children=(IntProgress(value=0, max=20), HTML(value='')))"
      ]
     },
     "metadata": {},
     "output_type": "display_data"
    },
    {
     "name": "stdout",
     "output_type": "stream",
     "text": [
      "\n",
      "{'accuracy': 0.5571428571428572, 'roc_auc': 0.7779388602520045, 'pr_auc': 0.36892846493695475}\n"
     ]
    },
    {
     "data": {
      "text/html": [
       "<div>\n",
       "<style scoped>\n",
       "    .dataframe tbody tr th:only-of-type {\n",
       "        vertical-align: middle;\n",
       "    }\n",
       "\n",
       "    .dataframe tbody tr th {\n",
       "        vertical-align: top;\n",
       "    }\n",
       "\n",
       "    .dataframe thead th {\n",
       "        text-align: right;\n",
       "    }\n",
       "</style>\n",
       "<table border=\"1\" class=\"dataframe\">\n",
       "  <thead>\n",
       "    <tr style=\"text-align: right;\">\n",
       "      <th></th>\n",
       "      <th>0.0</th>\n",
       "      <th>1.0</th>\n",
       "      <th>micro avg</th>\n",
       "      <th>macro avg</th>\n",
       "      <th>weighted avg</th>\n",
       "    </tr>\n",
       "  </thead>\n",
       "  <tbody>\n",
       "    <tr>\n",
       "      <th>f1-score</th>\n",
       "      <td>0.692</td>\n",
       "      <td>0.214</td>\n",
       "      <td>0.557</td>\n",
       "      <td>0.453</td>\n",
       "      <td>0.655</td>\n",
       "    </tr>\n",
       "    <tr>\n",
       "      <th>precision</th>\n",
       "      <td>0.969</td>\n",
       "      <td>0.124</td>\n",
       "      <td>0.557</td>\n",
       "      <td>0.546</td>\n",
       "      <td>0.905</td>\n",
       "    </tr>\n",
       "    <tr>\n",
       "      <th>recall</th>\n",
       "      <td>0.538</td>\n",
       "      <td>0.792</td>\n",
       "      <td>0.557</td>\n",
       "      <td>0.665</td>\n",
       "      <td>0.557</td>\n",
       "    </tr>\n",
       "    <tr>\n",
       "      <th>support</th>\n",
       "      <td>582.000</td>\n",
       "      <td>48.000</td>\n",
       "      <td>630.000</td>\n",
       "      <td>630.000</td>\n",
       "      <td>630.000</td>\n",
       "    </tr>\n",
       "  </tbody>\n",
       "</table>\n",
       "</div>"
      ],
      "text/plain": [
       "               0.0     1.0  micro avg  macro avg  weighted avg\n",
       "f1-score     0.692   0.214      0.557      0.453         0.655\n",
       "precision    0.969   0.124      0.557      0.546         0.905\n",
       "recall       0.538   0.792      0.557      0.665         0.557\n",
       "support    582.000  48.000    630.000    630.000       630.000"
      ]
     },
     "metadata": {},
     "output_type": "display_data"
    },
    {
     "data": {
      "application/vnd.jupyter.widget-view+json": {
       "model_id": "b294e31988934c6bb69b05b6c64c17e7",
       "version_major": 2,
       "version_minor": 0
      },
      "text/plain": [
       "HBox(children=(IntProgress(value=0, max=20), HTML(value='')))"
      ]
     },
     "metadata": {},
     "output_type": "display_data"
    },
    {
     "name": "stdout",
     "output_type": "stream",
     "text": [
      "\n"
     ]
    },
    {
     "data": {
      "application/vnd.jupyter.widget-view+json": {
       "model_id": "14e1ab6387a9402aa0c3c0b2717f40b7",
       "version_major": 2,
       "version_minor": 0
      },
      "text/plain": [
       "HBox(children=(IntProgress(value=0, max=20), HTML(value='')))"
      ]
     },
     "metadata": {},
     "output_type": "display_data"
    },
    {
     "name": "stdout",
     "output_type": "stream",
     "text": [
      "\n"
     ]
    },
    {
     "data": {
      "application/vnd.jupyter.widget-view+json": {
       "model_id": "a8e59eddbb1e40c4bd891b259cb653dd",
       "version_major": 2,
       "version_minor": 0
      },
      "text/plain": [
       "HBox(children=(IntProgress(value=0, max=20), HTML(value='')))"
      ]
     },
     "metadata": {},
     "output_type": "display_data"
    },
    {
     "name": "stdout",
     "output_type": "stream",
     "text": [
      "\n"
     ]
    },
    {
     "name": "stderr",
     "output_type": "stream",
     "text": [
      "INFO - 2019-04-01 16:39:19,405 - instantiating class <class 'Transparency.model.modules.Encoder.Encoder'> from params {'vocab_size': 10075, 'embed_size': 200, 'type': 'rnn', 'hidden_size': 128, 'pre_embed': None} and extras {}\n",
      "INFO - 2019-04-01 16:39:19,406 - type = rnn\n",
      "INFO - 2019-04-01 16:39:19,406 - instantiating class <class 'Transparency.model.modules.Encoder.EncoderRNN'> from params {'vocab_size': 10075, 'embed_size': 200, 'hidden_size': 128, 'pre_embed': None} and extras {}\n",
      "INFO - 2019-04-01 16:39:19,407 - vocab_size = 10075\n",
      "INFO - 2019-04-01 16:39:19,408 - embed_size = 200\n",
      "INFO - 2019-04-01 16:39:19,408 - hidden_size = 128\n",
      "INFO - 2019-04-01 16:39:19,409 - pre_embed = None\n",
      "INFO - 2019-04-01 16:39:19,423 - instantiating class <class 'Transparency.model.modules.Decoder.AttnDecoder'> from params {'attention': {'type': 'dot'}, 'output_size': 1, 'hidden_size': 256} and extras {}\n",
      "INFO - 2019-04-01 16:39:19,423 - hidden_size = 256\n",
      "INFO - 2019-04-01 16:39:19,424 - output_size = 1\n",
      "INFO - 2019-04-01 16:39:19,424 - use_attention = True\n",
      "INFO - 2019-04-01 16:39:19,425 - regularizer_attention = None\n",
      "INFO - 2019-04-01 16:39:19,425 - instantiating class <class 'Transparency.model.modules.Attention.Attention'> from params <allennlp.common.params.Params object at 0x7f359d9bf748> and extras {}\n",
      "INFO - 2019-04-01 16:39:19,425 - attention.type = dot\n",
      "INFO - 2019-04-01 16:39:19,426 - type = dot\n",
      "INFO - 2019-04-01 16:39:19,426 - instantiating class <class 'Transparency.model.modules.Attention.DotAttention'> from params <allennlp.common.params.Params object at 0x7f359d9bf748> and extras {}\n",
      "INFO - 2019-04-01 16:39:19,426 - attention.hidden_size = 256\n",
      "INFO - 2019-04-01 16:39:19,427 - hidden_size = 256\n"
     ]
    },
    {
     "data": {
      "application/vnd.jupyter.widget-view+json": {
       "model_id": "e16bb9c4963440c9b147106619186bc8",
       "version_major": 2,
       "version_minor": 0
      },
      "text/plain": [
       "HBox(children=(IntProgress(value=0, max=20), HTML(value='')))"
      ]
     },
     "metadata": {},
     "output_type": "display_data"
    },
    {
     "name": "stdout",
     "output_type": "stream",
     "text": [
      "\n",
      "{'accuracy': 0.6682539682539682, 'roc_auc': 0.7695983676975946, 'pr_auc': 0.3769436463799935}\n"
     ]
    },
    {
     "data": {
      "text/html": [
       "<div>\n",
       "<style scoped>\n",
       "    .dataframe tbody tr th:only-of-type {\n",
       "        vertical-align: middle;\n",
       "    }\n",
       "\n",
       "    .dataframe tbody tr th {\n",
       "        vertical-align: top;\n",
       "    }\n",
       "\n",
       "    .dataframe thead th {\n",
       "        text-align: right;\n",
       "    }\n",
       "</style>\n",
       "<table border=\"1\" class=\"dataframe\">\n",
       "  <thead>\n",
       "    <tr style=\"text-align: right;\">\n",
       "      <th></th>\n",
       "      <th>0.0</th>\n",
       "      <th>1.0</th>\n",
       "      <th>micro avg</th>\n",
       "      <th>macro avg</th>\n",
       "      <th>weighted avg</th>\n",
       "    </tr>\n",
       "  </thead>\n",
       "  <tbody>\n",
       "    <tr>\n",
       "      <th>f1-score</th>\n",
       "      <td>0.786</td>\n",
       "      <td>0.267</td>\n",
       "      <td>0.668</td>\n",
       "      <td>0.526</td>\n",
       "      <td>0.746</td>\n",
       "    </tr>\n",
       "    <tr>\n",
       "      <th>precision</th>\n",
       "      <td>0.975</td>\n",
       "      <td>0.160</td>\n",
       "      <td>0.668</td>\n",
       "      <td>0.567</td>\n",
       "      <td>0.913</td>\n",
       "    </tr>\n",
       "    <tr>\n",
       "      <th>recall</th>\n",
       "      <td>0.658</td>\n",
       "      <td>0.792</td>\n",
       "      <td>0.668</td>\n",
       "      <td>0.725</td>\n",
       "      <td>0.668</td>\n",
       "    </tr>\n",
       "    <tr>\n",
       "      <th>support</th>\n",
       "      <td>582.000</td>\n",
       "      <td>48.000</td>\n",
       "      <td>630.000</td>\n",
       "      <td>630.000</td>\n",
       "      <td>630.000</td>\n",
       "    </tr>\n",
       "  </tbody>\n",
       "</table>\n",
       "</div>"
      ],
      "text/plain": [
       "               0.0     1.0  micro avg  macro avg  weighted avg\n",
       "f1-score     0.786   0.267      0.668      0.526         0.746\n",
       "precision    0.975   0.160      0.668      0.567         0.913\n",
       "recall       0.658   0.792      0.668      0.725         0.668\n",
       "support    582.000  48.000    630.000    630.000       630.000"
      ]
     },
     "metadata": {},
     "output_type": "display_data"
    },
    {
     "data": {
      "application/vnd.jupyter.widget-view+json": {
       "model_id": "089d0f28aaa94448aaa9a07d013dc182",
       "version_major": 2,
       "version_minor": 0
      },
      "text/plain": [
       "HBox(children=(IntProgress(value=0, max=20), HTML(value='')))"
      ]
     },
     "metadata": {},
     "output_type": "display_data"
    },
    {
     "name": "stdout",
     "output_type": "stream",
     "text": [
      "\n"
     ]
    },
    {
     "data": {
      "application/vnd.jupyter.widget-view+json": {
       "model_id": "7db1e6e9105e4fc4a9bd2e25ab7cca61",
       "version_major": 2,
       "version_minor": 0
      },
      "text/plain": [
       "HBox(children=(IntProgress(value=0, max=20), HTML(value='')))"
      ]
     },
     "metadata": {},
     "output_type": "display_data"
    },
    {
     "name": "stdout",
     "output_type": "stream",
     "text": [
      "\n"
     ]
    },
    {
     "data": {
      "application/vnd.jupyter.widget-view+json": {
       "model_id": "58a4718ccba446cbb432bbe2d64bae20",
       "version_major": 2,
       "version_minor": 0
      },
      "text/plain": [
       "HBox(children=(IntProgress(value=0, max=20), HTML(value='')))"
      ]
     },
     "metadata": {},
     "output_type": "display_data"
    },
    {
     "name": "stdout",
     "output_type": "stream",
     "text": [
      "\n"
     ]
    },
    {
     "name": "stderr",
     "output_type": "stream",
     "text": [
      "/home/sarthak/anaconda3/lib/python3.7/site-packages/sklearn/base.py:251: UserWarning: Trying to unpickle estimator CountVectorizer from version 0.20.1 when using version 0.20.2. This might lead to breaking code or invalid results. Use at your own risk.\n",
      "  UserWarning)\n",
      "INFO - 2019-04-01 16:41:52,740 - instantiating class <class 'Transparency.model.modules.Encoder.Encoder'> from params {'vocab_size': 34030, 'embed_size': 200, 'kernel_sizes': (1, 3, 5, 7), 'hidden_size': 64, 'activation': 'relu', 'type': 'cnn', 'pre_embed': array([[ 0.        ,  0.        ,  0.        , ...,  0.        ,\n",
      "         0.        ,  0.        ],\n",
      "       [-0.43057253,  0.93848264,  0.6098264 , ..., -0.76956456,\n",
      "        -3.41140512,  0.81111248],\n",
      "       [ 2.40001628, -0.00736626, -0.81541255, ..., -0.80043767,\n",
      "        -0.51311282, -1.03497934],\n",
      "       ...,\n",
      "       [-0.16475224,  0.28398755,  0.48023063, ..., -3.51783657,\n",
      "         3.90744638,  2.99771905],\n",
      "       [ 0.0009315 , -0.98411071, -1.11939907, ..., -6.90321016,\n",
      "         3.93742228, -1.51261103],\n",
      "       [-0.72030318, -0.14090668, -2.27291822, ..., -1.9552381 ,\n",
      "         0.7607277 , -1.39611304]])} and extras {}\n",
      "INFO - 2019-04-01 16:41:52,741 - type = cnn\n",
      "INFO - 2019-04-01 16:41:52,742 - instantiating class <class 'Transparency.model.modules.Encoder.EncoderCNN'> from params {'vocab_size': 34030, 'embed_size': 200, 'kernel_sizes': (1, 3, 5, 7), 'hidden_size': 64, 'activation': 'relu', 'pre_embed': array([[ 0.        ,  0.        ,  0.        , ...,  0.        ,\n",
      "         0.        ,  0.        ],\n",
      "       [-0.43057253,  0.93848264,  0.6098264 , ..., -0.76956456,\n",
      "        -3.41140512,  0.81111248],\n",
      "       [ 2.40001628, -0.00736626, -0.81541255, ..., -0.80043767,\n",
      "        -0.51311282, -1.03497934],\n",
      "       ...,\n",
      "       [-0.16475224,  0.28398755,  0.48023063, ..., -3.51783657,\n",
      "         3.90744638,  2.99771905],\n",
      "       [ 0.0009315 , -0.98411071, -1.11939907, ..., -6.90321016,\n",
      "         3.93742228, -1.51261103],\n",
      "       [-0.72030318, -0.14090668, -2.27291822, ..., -1.9552381 ,\n",
      "         0.7607277 , -1.39611304]])} and extras {}\n",
      "INFO - 2019-04-01 16:41:52,742 - vocab_size = 34030\n",
      "INFO - 2019-04-01 16:41:52,743 - embed_size = 200\n",
      "INFO - 2019-04-01 16:41:52,743 - hidden_size = 64\n",
      "INFO - 2019-04-01 16:41:52,744 - kernel_sizes = (1, 3, 5, 7)\n",
      "INFO - 2019-04-01 16:41:52,744 - activation = relu\n",
      "INFO - 2019-04-01 16:41:52,745 - pre_embed = [[ 0.          0.          0.         ...  0.          0.\n",
      "   0.        ]\n",
      " [-0.43057253  0.93848264  0.6098264  ... -0.76956456 -3.41140512\n",
      "   0.81111248]\n",
      " [ 2.40001628 -0.00736626 -0.81541255 ... -0.80043767 -0.51311282\n",
      "  -1.03497934]\n",
      " ...\n",
      " [-0.16475224  0.28398755  0.48023063 ... -3.51783657  3.90744638\n",
      "   2.99771905]\n",
      " [ 0.0009315  -0.98411071 -1.11939907 ... -6.90321016  3.93742228\n",
      "  -1.51261103]\n",
      " [-0.72030318 -0.14090668 -2.27291822 ... -1.9552381   0.7607277\n",
      "  -1.39611304]]\n",
      "INFO - 2019-04-01 16:41:52,766 - instantiating class <class 'Transparency.model.modules.Decoder.AttnDecoder'> from params {'attention': {'type': 'dot'}, 'output_size': 1, 'hidden_size': 256} and extras {}\n",
      "INFO - 2019-04-01 16:41:52,766 - hidden_size = 256\n",
      "INFO - 2019-04-01 16:41:52,767 - output_size = 1\n",
      "INFO - 2019-04-01 16:41:52,767 - use_attention = True\n",
      "INFO - 2019-04-01 16:41:52,767 - regularizer_attention = None\n",
      "INFO - 2019-04-01 16:41:52,768 - instantiating class <class 'Transparency.model.modules.Attention.Attention'> from params <allennlp.common.params.Params object at 0x7f359d8c3b00> and extras {}\n",
      "INFO - 2019-04-01 16:41:52,768 - attention.type = dot\n",
      "INFO - 2019-04-01 16:41:52,769 - type = dot\n",
      "INFO - 2019-04-01 16:41:52,769 - instantiating class <class 'Transparency.model.modules.Attention.DotAttention'> from params <allennlp.common.params.Params object at 0x7f359d8c3b00> and extras {}\n",
      "INFO - 2019-04-01 16:41:52,770 - attention.hidden_size = 256\n",
      "INFO - 2019-04-01 16:41:52,770 - hidden_size = 256\n"
     ]
    },
    {
     "name": "stdout",
     "output_type": "stream",
     "text": [
      "Setting Embedding\n"
     ]
    },
    {
     "data": {
      "application/vnd.jupyter.widget-view+json": {
       "model_id": "c23cfb6113f9430184d6f40c2fa66311",
       "version_major": 2,
       "version_minor": 0
      },
      "text/plain": [
       "HBox(children=(IntProgress(value=0, max=8), HTML(value='')))"
      ]
     },
     "metadata": {},
     "output_type": "display_data"
    },
    {
     "data": {
      "application/vnd.jupyter.widget-view+json": {
       "model_id": "76ebde655c9f4625afa68b6817da4f12",
       "version_major": 2,
       "version_minor": 0
      },
      "text/plain": [
       "HBox(children=(IntProgress(value=0, max=814), HTML(value='')))"
      ]
     },
     "metadata": {},
     "output_type": "display_data"
    },
    {
     "data": {
      "application/vnd.jupyter.widget-view+json": {
       "model_id": "c10661a3b81d4b36a2fb5ba8437d693e",
       "version_major": 2,
       "version_minor": 0
      },
      "text/plain": [
       "HBox(children=(IntProgress(value=0, max=157), HTML(value='')))"
      ]
     },
     "metadata": {},
     "output_type": "display_data"
    },
    {
     "name": "stdout",
     "output_type": "stream",
     "text": [
      "{'accuracy': 0.8378, 'roc_auc': 0.8156383139751615, 'pr_auc': 0.4238596428024299}\n"
     ]
    },
    {
     "data": {
      "text/html": [
       "<div>\n",
       "<style scoped>\n",
       "    .dataframe tbody tr th:only-of-type {\n",
       "        vertical-align: middle;\n",
       "    }\n",
       "\n",
       "    .dataframe tbody tr th {\n",
       "        vertical-align: top;\n",
       "    }\n",
       "\n",
       "    .dataframe thead th {\n",
       "        text-align: right;\n",
       "    }\n",
       "</style>\n",
       "<table border=\"1\" class=\"dataframe\">\n",
       "  <thead>\n",
       "    <tr style=\"text-align: right;\">\n",
       "      <th></th>\n",
       "      <th>0</th>\n",
       "      <th>1</th>\n",
       "      <th>micro avg</th>\n",
       "      <th>macro avg</th>\n",
       "      <th>weighted avg</th>\n",
       "    </tr>\n",
       "  </thead>\n",
       "  <tbody>\n",
       "    <tr>\n",
       "      <th>f1-score</th>\n",
       "      <td>0.904</td>\n",
       "      <td>0.465</td>\n",
       "      <td>0.838</td>\n",
       "      <td>0.685</td>\n",
       "      <td>0.845</td>\n",
       "    </tr>\n",
       "    <tr>\n",
       "      <th>precision</th>\n",
       "      <td>0.922</td>\n",
       "      <td>0.420</td>\n",
       "      <td>0.838</td>\n",
       "      <td>0.671</td>\n",
       "      <td>0.854</td>\n",
       "    </tr>\n",
       "    <tr>\n",
       "      <th>recall</th>\n",
       "      <td>0.888</td>\n",
       "      <td>0.520</td>\n",
       "      <td>0.838</td>\n",
       "      <td>0.704</td>\n",
       "      <td>0.838</td>\n",
       "    </tr>\n",
       "    <tr>\n",
       "      <th>support</th>\n",
       "      <td>4323.000</td>\n",
       "      <td>677.000</td>\n",
       "      <td>5000.000</td>\n",
       "      <td>5000.000</td>\n",
       "      <td>5000.000</td>\n",
       "    </tr>\n",
       "  </tbody>\n",
       "</table>\n",
       "</div>"
      ],
      "text/plain": [
       "                  0        1  micro avg  macro avg  weighted avg\n",
       "f1-score      0.904    0.465      0.838      0.685         0.845\n",
       "precision     0.922    0.420      0.838      0.671         0.854\n",
       "recall        0.888    0.520      0.838      0.704         0.838\n",
       "support    4323.000  677.000   5000.000   5000.000      5000.000"
      ]
     },
     "metadata": {},
     "output_type": "display_data"
    },
    {
     "name": "stdout",
     "output_type": "stream",
     "text": [
      "Model not saved on  roc_auc 0.8156383139751615\n"
     ]
    },
    {
     "data": {
      "application/vnd.jupyter.widget-view+json": {
       "model_id": "f24c42b6de49480996ae6f77e06c00c7",
       "version_major": 2,
       "version_minor": 0
      },
      "text/plain": [
       "HBox(children=(IntProgress(value=0, max=814), HTML(value='')))"
      ]
     },
     "metadata": {},
     "output_type": "display_data"
    },
    {
     "data": {
      "application/vnd.jupyter.widget-view+json": {
       "model_id": "297ea15f86a54a418500dc23d4eac8c7",
       "version_major": 2,
       "version_minor": 0
      },
      "text/plain": [
       "HBox(children=(IntProgress(value=0, max=157), HTML(value='')))"
      ]
     },
     "metadata": {},
     "output_type": "display_data"
    },
    {
     "name": "stdout",
     "output_type": "stream",
     "text": [
      "{'accuracy': 0.839, 'roc_auc': 0.824708687788959, 'pr_auc': 0.45196256651393496}\n"
     ]
    },
    {
     "data": {
      "text/html": [
       "<div>\n",
       "<style scoped>\n",
       "    .dataframe tbody tr th:only-of-type {\n",
       "        vertical-align: middle;\n",
       "    }\n",
       "\n",
       "    .dataframe tbody tr th {\n",
       "        vertical-align: top;\n",
       "    }\n",
       "\n",
       "    .dataframe thead th {\n",
       "        text-align: right;\n",
       "    }\n",
       "</style>\n",
       "<table border=\"1\" class=\"dataframe\">\n",
       "  <thead>\n",
       "    <tr style=\"text-align: right;\">\n",
       "      <th></th>\n",
       "      <th>0</th>\n",
       "      <th>1</th>\n",
       "      <th>micro avg</th>\n",
       "      <th>macro avg</th>\n",
       "      <th>weighted avg</th>\n",
       "    </tr>\n",
       "  </thead>\n",
       "  <tbody>\n",
       "    <tr>\n",
       "      <th>f1-score</th>\n",
       "      <td>0.905</td>\n",
       "      <td>0.482</td>\n",
       "      <td>0.839</td>\n",
       "      <td>0.693</td>\n",
       "      <td>0.847</td>\n",
       "    </tr>\n",
       "    <tr>\n",
       "      <th>precision</th>\n",
       "      <td>0.927</td>\n",
       "      <td>0.427</td>\n",
       "      <td>0.839</td>\n",
       "      <td>0.677</td>\n",
       "      <td>0.859</td>\n",
       "    </tr>\n",
       "    <tr>\n",
       "      <th>recall</th>\n",
       "      <td>0.884</td>\n",
       "      <td>0.552</td>\n",
       "      <td>0.839</td>\n",
       "      <td>0.718</td>\n",
       "      <td>0.839</td>\n",
       "    </tr>\n",
       "    <tr>\n",
       "      <th>support</th>\n",
       "      <td>4323.000</td>\n",
       "      <td>677.000</td>\n",
       "      <td>5000.000</td>\n",
       "      <td>5000.000</td>\n",
       "      <td>5000.000</td>\n",
       "    </tr>\n",
       "  </tbody>\n",
       "</table>\n",
       "</div>"
      ],
      "text/plain": [
       "                  0        1  micro avg  macro avg  weighted avg\n",
       "f1-score      0.905    0.482      0.839      0.693         0.847\n",
       "precision     0.927    0.427      0.839      0.677         0.859\n",
       "recall        0.884    0.552      0.839      0.718         0.839\n",
       "support    4323.000  677.000   5000.000   5000.000      5000.000"
      ]
     },
     "metadata": {},
     "output_type": "display_data"
    },
    {
     "name": "stdout",
     "output_type": "stream",
     "text": [
      "Model Saved on  roc_auc 0.824708687788959\n"
     ]
    },
    {
     "data": {
      "application/vnd.jupyter.widget-view+json": {
       "model_id": "038fa70785784c649c55d9ce2c5b040b",
       "version_major": 2,
       "version_minor": 0
      },
      "text/plain": [
       "HBox(children=(IntProgress(value=0, max=814), HTML(value='')))"
      ]
     },
     "metadata": {},
     "output_type": "display_data"
    },
    {
     "data": {
      "application/vnd.jupyter.widget-view+json": {
       "model_id": "c157f488e47043cf8fd0ac31a3b0469c",
       "version_major": 2,
       "version_minor": 0
      },
      "text/plain": [
       "HBox(children=(IntProgress(value=0, max=157), HTML(value='')))"
      ]
     },
     "metadata": {},
     "output_type": "display_data"
    },
    {
     "name": "stdout",
     "output_type": "stream",
     "text": [
      "{'accuracy': 0.849, 'roc_auc': 0.8295226897727828, 'pr_auc': 0.4700937585934171}\n"
     ]
    },
    {
     "data": {
      "text/html": [
       "<div>\n",
       "<style scoped>\n",
       "    .dataframe tbody tr th:only-of-type {\n",
       "        vertical-align: middle;\n",
       "    }\n",
       "\n",
       "    .dataframe tbody tr th {\n",
       "        vertical-align: top;\n",
       "    }\n",
       "\n",
       "    .dataframe thead th {\n",
       "        text-align: right;\n",
       "    }\n",
       "</style>\n",
       "<table border=\"1\" class=\"dataframe\">\n",
       "  <thead>\n",
       "    <tr style=\"text-align: right;\">\n",
       "      <th></th>\n",
       "      <th>0</th>\n",
       "      <th>1</th>\n",
       "      <th>micro avg</th>\n",
       "      <th>macro avg</th>\n",
       "      <th>weighted avg</th>\n",
       "    </tr>\n",
       "  </thead>\n",
       "  <tbody>\n",
       "    <tr>\n",
       "      <th>f1-score</th>\n",
       "      <td>0.912</td>\n",
       "      <td>0.482</td>\n",
       "      <td>0.849</td>\n",
       "      <td>0.697</td>\n",
       "      <td>0.853</td>\n",
       "    </tr>\n",
       "    <tr>\n",
       "      <th>precision</th>\n",
       "      <td>0.923</td>\n",
       "      <td>0.450</td>\n",
       "      <td>0.849</td>\n",
       "      <td>0.686</td>\n",
       "      <td>0.859</td>\n",
       "    </tr>\n",
       "    <tr>\n",
       "      <th>recall</th>\n",
       "      <td>0.901</td>\n",
       "      <td>0.518</td>\n",
       "      <td>0.849</td>\n",
       "      <td>0.710</td>\n",
       "      <td>0.849</td>\n",
       "    </tr>\n",
       "    <tr>\n",
       "      <th>support</th>\n",
       "      <td>4323.000</td>\n",
       "      <td>677.000</td>\n",
       "      <td>5000.000</td>\n",
       "      <td>5000.000</td>\n",
       "      <td>5000.000</td>\n",
       "    </tr>\n",
       "  </tbody>\n",
       "</table>\n",
       "</div>"
      ],
      "text/plain": [
       "                  0        1  micro avg  macro avg  weighted avg\n",
       "f1-score      0.912    0.482      0.849      0.697         0.853\n",
       "precision     0.923    0.450      0.849      0.686         0.859\n",
       "recall        0.901    0.518      0.849      0.710         0.849\n",
       "support    4323.000  677.000   5000.000   5000.000      5000.000"
      ]
     },
     "metadata": {},
     "output_type": "display_data"
    }
   ],
   "source": [
    "for dataset in ['knee', 'hip', 'mortality'] :\n",
    "    %run train_and_run_experiments_ehr.py --dataset {dataset} --data_dir='.' --output_dir='outputs/' --attention=dot"
   ]
  },
  {
   "cell_type": "code",
   "execution_count": null,
   "metadata": {},
   "outputs": [],
   "source": [
    "for dataset in ['knee', 'hip', 'mortality'] :\n",
    "    %run train_and_run_experiments_ehr.py --dataset {dataset} --data_dir='.' --output_dir='outputs/' --attention=tanh"
   ]
  },
  {
   "cell_type": "code",
   "execution_count": null,
   "metadata": {},
   "outputs": [],
   "source": []
  }
 ],
 "metadata": {
  "kernelspec": {
   "display_name": "Python 3",
   "language": "python",
   "name": "python3"
  },
  "language_info": {
   "codemirror_mode": {
    "name": "ipython",
    "version": 3
   },
   "file_extension": ".py",
   "mimetype": "text/x-python",
   "name": "python",
   "nbconvert_exporter": "python",
   "pygments_lexer": "ipython3",
   "version": "3.7.2"
  }
 },
 "nbformat": 4,
 "nbformat_minor": 2
}

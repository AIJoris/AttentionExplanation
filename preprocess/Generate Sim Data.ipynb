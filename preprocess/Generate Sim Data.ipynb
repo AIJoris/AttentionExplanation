{
 "cells": [
  {
   "cell_type": "code",
   "execution_count": 1,
   "metadata": {},
   "outputs": [],
   "source": [
    "V = 15\n",
    "N = 1000\n",
    "L = 10"
   ]
  },
  {
   "cell_type": "code",
   "execution_count": 2,
   "metadata": {},
   "outputs": [],
   "source": [
    "import numpy as np\n",
    "# np.random.seed(1345)\n",
    "\n",
    "def generate() :\n",
    "    x = np.random.choice(range(4, V-1), size=L) + 1\n",
    "\n",
    "    element = x.copy()\n",
    "    w = np.random.choice([1, 2], size=1)\n",
    "    x1 = np.random.randint(L-2, size=1)\n",
    "    element[x1] = w\n",
    "    \n",
    "    w = np.random.choice([3, 4], size=1)\n",
    "    x2 = x1 + 2 \n",
    "    element[x2] = w\n",
    "    return element"
   ]
  },
  {
   "cell_type": "code",
   "execution_count": 3,
   "metadata": {},
   "outputs": [],
   "source": [
    "def label(x) :\n",
    "    if 1 in x and 3 in x :\n",
    "        return 0\n",
    "    if 1 in x and 4 in x :\n",
    "        return 1\n",
    "    if 2 in x and 3 in x :\n",
    "        return 1\n",
    "    if 2 in x and 4 in x :\n",
    "        return 0\n",
    "    raise(\"Error\")"
   ]
  },
  {
   "cell_type": "code",
   "execution_count": 4,
   "metadata": {},
   "outputs": [],
   "source": [
    "import vectorizer\n",
    "vec = vectorizer.Vectorizer(min_df=None)"
   ]
  },
  {
   "cell_type": "code",
   "execution_count": 5,
   "metadata": {},
   "outputs": [],
   "source": [
    "vec.seq_text = {}\n",
    "vec.label = {}\n",
    "\n",
    "keys = ['train', 'test']\n",
    "Nk = {'train' : 1000, 'test': 100 }\n",
    "\n",
    "for k in keys :\n",
    "    data = [generate() for _ in range(Nk[k])]\n",
    "    y = [label(data[i]) for i in range(Nk[k])]\n",
    "    vec.seq_text[k] = [\" \".join([str(y) for y in x]) for x in data]\n",
    "    vec.label[k] = y"
   ]
  },
  {
   "cell_type": "code",
   "execution_count": 6,
   "metadata": {},
   "outputs": [],
   "source": [
    "vec.fit(vec.seq_text['train'] + vec.seq_text['test'])"
   ]
  },
  {
   "cell_type": "code",
   "execution_count": 7,
   "metadata": {},
   "outputs": [],
   "source": [
    "for k in keys :\n",
    "    vec.seq_text[k] = vec.get_seq_for_docs(vec.seq_text[k])"
   ]
  },
  {
   "cell_type": "code",
   "execution_count": 8,
   "metadata": {},
   "outputs": [],
   "source": [
    "vec.word_dim = 8"
   ]
  },
  {
   "cell_type": "code",
   "execution_count": 9,
   "metadata": {},
   "outputs": [],
   "source": [
    "vec.embedding = None"
   ]
  },
  {
   "cell_type": "code",
   "execution_count": 10,
   "metadata": {},
   "outputs": [],
   "source": [
    "import pickle\n",
    "pickle.dump(vec, open('sim_data.p', 'wb'))"
   ]
  },
  {
   "cell_type": "code",
   "execution_count": null,
   "metadata": {},
   "outputs": [],
   "source": []
  }
 ],
 "metadata": {
  "kernelspec": {
   "display_name": "Python 3",
   "language": "python",
   "name": "python3"
  },
  "language_info": {
   "codemirror_mode": {
    "name": "ipython",
    "version": 3
   },
   "file_extension": ".py",
   "mimetype": "text/x-python",
   "name": "python",
   "nbconvert_exporter": "python",
   "pygments_lexer": "ipython3",
   "version": "3.7.0"
  }
 },
 "nbformat": 4,
 "nbformat_minor": 2
}

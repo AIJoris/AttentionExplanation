{
 "cells": [
  {
   "cell_type": "code",
   "execution_count": 1,
   "metadata": {},
   "outputs": [],
   "source": [
    "V = 15\n",
    "N = 1000\n",
    "L = 10"
   ]
  },
  {
   "cell_type": "code",
   "execution_count": 2,
   "metadata": {},
   "outputs": [],
   "source": [
    "import numpy as np\n",
    "np.random.seed(1345)\n",
    "\n",
    "def generate() :\n",
    "    x = np.random.choice(range(4, V-1), size=L) + 1\n",
    "\n",
    "    element = x.copy()\n",
    "    w = np.random.choice([1, 2], size=1)\n",
    "    x1 = np.random.randint(L-2, size=1)\n",
    "    element[x1] = w\n",
    "    \n",
    "    w = np.random.choice([3, 4], size=1)\n",
    "    x2 = x1 + 2 \n",
    "    element[x2] = w\n",
    "    return element"
   ]
  },
  {
   "cell_type": "code",
   "execution_count": 3,
   "metadata": {},
   "outputs": [],
   "source": [
    "def label(x) :\n",
    "    if 1 in x and 3 in x :\n",
    "        return 0\n",
    "    if 1 in x and 4 in x :\n",
    "        return 1\n",
    "    if 2 in x and 3 in x :\n",
    "        return 1\n",
    "    if 2 in x and 4 in x :\n",
    "        return 0\n",
    "    raise(\"Error\")"
   ]
  },
  {
   "cell_type": "code",
   "execution_count": 4,
   "metadata": {},
   "outputs": [
    {
     "name": "stderr",
     "output_type": "stream",
     "text": [
      "/home/sarthak/anaconda3/lib/python3.7/site-packages/sklearn/utils/__init__.py:4: DeprecationWarning: Using or importing the ABCs from 'collections' instead of from 'collections.abc' is deprecated, and in 3.8 it will stop working\n",
      "  from collections import Sequence\n"
     ]
    }
   ],
   "source": [
    "import vectorizer\n",
    "vec = vectorizer.Vectorizer(min_df=None)"
   ]
  },
  {
   "cell_type": "code",
   "execution_count": 5,
   "metadata": {},
   "outputs": [],
   "source": [
    "vec.seq_text = {}\n",
    "vec.label = {}\n",
    "\n",
    "keys = ['train', 'dev', 'test']\n",
    "Nk = {'train' : 1000, 'test': 100, 'dev' : 100}\n",
    "for k in keys :\n",
    "    data = [generate() for _ in range(Nk[k])]\n",
    "    y = [label(data[i]) for i in range(Nk[k])]\n",
    "    vec.seq_text[k] = data\n",
    "    vec.label[k] = y"
   ]
  },
  {
   "cell_type": "code",
   "execution_count": 6,
   "metadata": {},
   "outputs": [],
   "source": [
    "vec.vocab_size = V\n",
    "vec.word_dim = 8"
   ]
  },
  {
   "cell_type": "code",
   "execution_count": 7,
   "metadata": {},
   "outputs": [],
   "source": [
    "vec.embedding = None"
   ]
  },
  {
   "cell_type": "code",
   "execution_count": 8,
   "metadata": {},
   "outputs": [],
   "source": [
    "vec.word2idx = {str(i):i for i in range(V)}\n",
    "vec.idx2word = {i:str(i) for i in range(V)}"
   ]
  },
  {
   "cell_type": "code",
   "execution_count": 9,
   "metadata": {},
   "outputs": [],
   "source": [
    "import pickle\n",
    "pickle.dump(vec, open('sim_data.p', 'wb'))"
   ]
  }
 ],
 "metadata": {
  "kernelspec": {
   "display_name": "Python 3",
   "language": "python",
   "name": "python3"
  },
  "language_info": {
   "codemirror_mode": {
    "name": "ipython",
    "version": 3
   },
   "file_extension": ".py",
   "mimetype": "text/x-python",
   "name": "python",
   "nbconvert_exporter": "python",
   "pygments_lexer": "ipython3",
   "version": "3.7.0"
  }
 },
 "nbformat": 4,
 "nbformat_minor": 2
}

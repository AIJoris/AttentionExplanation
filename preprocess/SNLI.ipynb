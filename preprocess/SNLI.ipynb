{
 "cells": [
  {
   "cell_type": "code",
   "execution_count": 1,
   "metadata": {},
   "outputs": [],
   "source": [
    "import numpy as np\n",
    "import matplotlib.pyplot as plt"
   ]
  },
  {
   "cell_type": "code",
   "execution_count": 2,
   "metadata": {},
   "outputs": [],
   "source": [
    "keys = ['train', 'test']"
   ]
  },
  {
   "cell_type": "code",
   "execution_count": 3,
   "metadata": {},
   "outputs": [],
   "source": [
    "import json"
   ]
  },
  {
   "cell_type": "code",
   "execution_count": 4,
   "metadata": {},
   "outputs": [],
   "source": [
    "data = {k:[] for k in keys}\n",
    "for k in keys :\n",
    "    for line in open('SNLI/snli_1.0/snli_1.0_' + k + '.jsonl').readlines() :\n",
    "        data[k].append(json.loads(line))"
   ]
  },
  {
   "cell_type": "code",
   "execution_count": 5,
   "metadata": {},
   "outputs": [],
   "source": [
    "from vectorizer import cleaner"
   ]
  },
  {
   "cell_type": "code",
   "execution_count": 6,
   "metadata": {},
   "outputs": [],
   "source": [
    "p, q, a = {}, {}, {}\n",
    "\n",
    "for k in keys :\n",
    "    p[k] = [cleaner(x['sentence1']) for x in data[k] if x['gold_label'] != '-']\n",
    "    q[k] = [cleaner(x['sentence2']) for x in data[k] if x['gold_label'] != '-']\n",
    "    a[k] = [cleaner(x['gold_label']) for x in data[k] if x['gold_label'] != '-']"
   ]
  },
  {
   "cell_type": "code",
   "execution_count": 7,
   "metadata": {},
   "outputs": [],
   "source": [
    "from vectorizer import Vectorizer"
   ]
  },
  {
   "cell_type": "code",
   "execution_count": 8,
   "metadata": {},
   "outputs": [],
   "source": [
    "vec = Vectorizer(min_df=3)"
   ]
  },
  {
   "cell_type": "code",
   "execution_count": 9,
   "metadata": {},
   "outputs": [],
   "source": [
    "vec.fit(p['train'] + q['train'])"
   ]
  },
  {
   "cell_type": "code",
   "execution_count": 10,
   "metadata": {},
   "outputs": [
    {
     "data": {
      "text/plain": [
       "20982"
      ]
     },
     "execution_count": 10,
     "metadata": {},
     "output_type": "execute_result"
    }
   ],
   "source": [
    "vec.vocab_size"
   ]
  },
  {
   "cell_type": "code",
   "execution_count": 11,
   "metadata": {},
   "outputs": [],
   "source": [
    "vec.entity2idx = {}\n",
    "i = 0\n",
    "for w in set(a['test']) :\n",
    "    vec.entity2idx[w] = i\n",
    "    i += 1\n",
    "    \n",
    "vec.idx2entity = {v:k for k, v in vec.entity2idx.items()}"
   ]
  },
  {
   "cell_type": "code",
   "execution_count": 12,
   "metadata": {},
   "outputs": [],
   "source": [
    "def generate_label_and_filter(a) :\n",
    "    entities = np.ones((len(vec.entity2idx),))\n",
    "    return entities, vec.entity2idx[a]"
   ]
  },
  {
   "cell_type": "code",
   "execution_count": 13,
   "metadata": {},
   "outputs": [],
   "source": [
    "vec.paragraphs = {}\n",
    "vec.questions = {}\n",
    "vec.entity_masks = {}\n",
    "vec.answers = {}\n",
    "\n",
    "for k in keys :\n",
    "    vec.paragraphs[k] = vec.texts_to_sequences(p[k])\n",
    "    vec.questions[k] = vec.texts_to_sequences(q[k])\n",
    "    vec.entity_masks[k] = []\n",
    "    vec.answers[k] = []\n",
    "    for i in range(len(a[k])) :\n",
    "        mask, answer = generate_label_and_filter(a[k][i])\n",
    "        vec.entity_masks[k].append(mask)\n",
    "        vec.answers[k].append(answer)"
   ]
  },
  {
   "cell_type": "code",
   "execution_count": 14,
   "metadata": {},
   "outputs": [],
   "source": [
    "from torchtext.vocab import Vectors, GloVe, CharNGram, FastText\n",
    "url = 'http://nlp.stanford.edu/data/glove.840B.300d.zip'\n",
    "vectors = Vectors('glove.840B.300d.txt', url=url)"
   ]
  },
  {
   "cell_type": "code",
   "execution_count": 15,
   "metadata": {},
   "outputs": [],
   "source": [
    "vec.word_dim = vectors.dim\n",
    "import numpy as np\n",
    "vec.embeddings = np.zeros((len(vec.idx2word), vec.word_dim))\n",
    "for i, word in vec.idx2word.items() :\n",
    "    vec.embeddings[i] = vectors[word].numpy()"
   ]
  },
  {
   "cell_type": "code",
   "execution_count": 16,
   "metadata": {},
   "outputs": [],
   "source": [
    "import pickle\n",
    "pickle.dump(vec, open('SNLI/vec_snli.p', 'wb'))"
   ]
  },
  {
   "cell_type": "code",
   "execution_count": null,
   "metadata": {},
   "outputs": [],
   "source": []
  }
 ],
 "metadata": {
  "kernelspec": {
   "display_name": "Python 3",
   "language": "python",
   "name": "python3"
  },
  "language_info": {
   "codemirror_mode": {
    "name": "ipython",
    "version": 3
   },
   "file_extension": ".py",
   "mimetype": "text/x-python",
   "name": "python",
   "nbconvert_exporter": "python",
   "pygments_lexer": "ipython3",
   "version": "3.7.0"
  }
 },
 "nbformat": 4,
 "nbformat_minor": 2
}

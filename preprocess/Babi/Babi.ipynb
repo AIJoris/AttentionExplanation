{
 "cells": [
  {
   "cell_type": "code",
   "execution_count": null,
   "metadata": {},
   "outputs": [],
   "source": [
    "import numpy as np\n",
    "import matplotlib.pyplot as plt"
   ]
  },
  {
   "cell_type": "code",
   "execution_count": null,
   "metadata": {},
   "outputs": [],
   "source": [
    "keys = ['train', 'test']"
   ]
  },
  {
   "cell_type": "code",
   "execution_count": null,
   "metadata": {},
   "outputs": [],
   "source": [
    "def _parse(file):\n",
    "    data, story = [], []\n",
    "    for line in open(file).readlines():\n",
    "        tid, text = line.rstrip('\\n').split(' ', 1)\n",
    "        if tid == '1':\n",
    "            story = []\n",
    "        # sentence\n",
    "        if text.endswith('.'):\n",
    "            story.append(text[:-1])\n",
    "        # question\n",
    "        else:\n",
    "            # remove any leading or trailing whitespace after splitting\n",
    "            query, answer, supporting = (x.strip() for x in text.split('\\t'))\n",
    "            substory = [x for x in story if x]\n",
    "            data.append((substory, query[:-1], answer))    # remove '?'\n",
    "            story.append(\"\")\n",
    "    return data"
   ]
  },
  {
   "cell_type": "code",
   "execution_count": null,
   "metadata": {},
   "outputs": [],
   "source": [
    "tasks = ['qa1_single-supporting-fact_', 'qa2_two-supporting-facts_', 'qa3_three-supporting-facts_']\n",
    "data = {}\n",
    "for t in tasks :\n",
    "    data[t] = {}\n",
    "    for k in keys :\n",
    "        data[t][k] = list(zip(*_parse('Babi/tasks_1-20_v1-2/en-10k/' + t + k + '.txt')))"
   ]
  },
  {
   "cell_type": "code",
   "execution_count": null,
   "metadata": {},
   "outputs": [],
   "source": [
    "p, q, a = {}, {}, {}\n",
    "\n",
    "for k in keys :\n",
    "    p[k], q[k], a[k] = {}, {}, {}\n",
    "    for t in tasks :\n",
    "        p[k][t] = [\" . \".join(x) for x in data[t][k][0]]\n",
    "        q[k][t] = data[t][k][1]\n",
    "        a[k][t] = data[t][k][2]"
   ]
  },
  {
   "cell_type": "code",
   "execution_count": null,
   "metadata": {},
   "outputs": [],
   "source": [
    "from vectorizer import Vectorizer"
   ]
  },
  {
   "cell_type": "code",
   "execution_count": null,
   "metadata": {},
   "outputs": [],
   "source": [
    "vec = Vectorizer(min_df=1)"
   ]
  },
  {
   "cell_type": "code",
   "execution_count": null,
   "metadata": {},
   "outputs": [],
   "source": [
    "flatten = lambda x : [y for z in x for y in z]"
   ]
  },
  {
   "cell_type": "code",
   "execution_count": null,
   "metadata": {},
   "outputs": [],
   "source": [
    "vec.fit(flatten(p['train'].values()) + flatten(q['train'].values()))"
   ]
  },
  {
   "cell_type": "code",
   "execution_count": null,
   "metadata": {},
   "outputs": [],
   "source": [
    "vec.entity2idx = {}\n",
    "i = 0\n",
    "for w in vec.word2idx :\n",
    "    if vec.word2idx[w] < 4 : continue\n",
    "    vec.entity2idx[w] = i\n",
    "    i += 1\n",
    "    \n",
    "vec.idx2entity = {v:k for k, v in vec.entity2idx.items()}"
   ]
  },
  {
   "cell_type": "code",
   "execution_count": null,
   "metadata": {},
   "outputs": [],
   "source": [
    "def generate_label_and_filter(a) :\n",
    "    entities = np.ones((len(vec.entity2idx),))\n",
    "    return entities, vec.entity2idx[a]"
   ]
  },
  {
   "cell_type": "code",
   "execution_count": null,
   "metadata": {},
   "outputs": [],
   "source": [
    "vec.paragraphs = {}\n",
    "vec.questions = {}\n",
    "vec.entity_masks = {}\n",
    "vec.answers = {}\n",
    "\n",
    "for k in keys :\n",
    "    vec.paragraphs[k] = {t:vec.texts_to_sequences(p[k][t]) for t in p[k]}\n",
    "    vec.questions[k] = {t:vec.texts_to_sequences(q[k][t]) for t in q[k]}\n",
    "    vec.entity_masks[k] = {t:[] for t in a[k]}\n",
    "    vec.answers[k] = {t:[] for t in a[k]}\n",
    "    for t in a[k] :\n",
    "        for i in range(len(a[k][t])) :\n",
    "            mask, answer = generate_label_and_filter(a[k][t][i])\n",
    "            vec.entity_masks[k][t].append(mask)\n",
    "            vec.answers[k][t].append(answer)"
   ]
  },
  {
   "cell_type": "code",
   "execution_count": null,
   "metadata": {},
   "outputs": [],
   "source": [
    "vec.word_dim = 50"
   ]
  },
  {
   "cell_type": "code",
   "execution_count": null,
   "metadata": {},
   "outputs": [],
   "source": [
    "import pickle\n",
    "pickle.dump(vec, open('Babi/babi.p', 'wb'))"
   ]
  },
  {
   "cell_type": "code",
   "execution_count": null,
   "metadata": {},
   "outputs": [],
   "source": []
  }
 ],
 "metadata": {
  "kernelspec": {
   "display_name": "Python 3",
   "language": "python",
   "name": "python3"
  },
  "language_info": {
   "codemirror_mode": {
    "name": "ipython",
    "version": 3
   },
   "file_extension": ".py",
   "mimetype": "text/x-python",
   "name": "python",
   "nbconvert_exporter": "python",
   "pygments_lexer": "ipython3",
   "version": "3.7.3"
  }
 },
 "nbformat": 4,
 "nbformat_minor": 2
}

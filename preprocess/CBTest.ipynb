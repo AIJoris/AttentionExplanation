{
 "cells": [
  {
   "cell_type": "code",
   "execution_count": 1,
   "metadata": {},
   "outputs": [],
   "source": [
    "import numpy as np\n",
    "import matplotlib.pyplot as plt"
   ]
  },
  {
   "cell_type": "code",
   "execution_count": 2,
   "metadata": {},
   "outputs": [],
   "source": [
    "keys = ['train', 'valid', 'test']"
   ]
  },
  {
   "cell_type": "code",
   "execution_count": 3,
   "metadata": {},
   "outputs": [],
   "source": [
    "p, q, a, e = {}, {}, {}, {}\n",
    "for k in keys :\n",
    "    file = open('CBTest/data/cbtest_NE_' + k + '.txt').read().strip().split('\\n\\n')\n",
    "    file = [x.split('\\n') for x in file]\n",
    "    file = [[y.lower().split()[1:] for y in x] for x in file]\n",
    "    p[k] = [\" \".join([\" \".join(y) for y in x[:-1]]) for x in file]\n",
    "    qa = [x[-1] for x in file]\n",
    "    q[k] = [\" \".join(x[:-2]) for x in qa]\n",
    "    a[k] = [x[-2] for x in qa]\n",
    "    e[k] = [x[-1].split('|') for x in qa]"
   ]
  },
  {
   "cell_type": "code",
   "execution_count": null,
   "metadata": {},
   "outputs": [],
   "source": []
  },
  {
   "cell_type": "code",
   "execution_count": 4,
   "metadata": {},
   "outputs": [],
   "source": [
    "from vectorizer import Vectorizer"
   ]
  },
  {
   "cell_type": "code",
   "execution_count": 26,
   "metadata": {},
   "outputs": [],
   "source": [
    "vec = Vectorizer(min_df=1)"
   ]
  },
  {
   "cell_type": "code",
   "execution_count": 27,
   "metadata": {},
   "outputs": [],
   "source": [
    "vec.fit(p['train'] + q['train'])"
   ]
  },
  {
   "cell_type": "code",
   "execution_count": 34,
   "metadata": {},
   "outputs": [],
   "source": [
    "answers = set([y for k in e for x in e[k] for y in x])"
   ]
  },
  {
   "cell_type": "code",
   "execution_count": 38,
   "metadata": {},
   "outputs": [],
   "source": [
    "vec.entity2idx = {}\n",
    "i = 0\n",
    "for w in answers :\n",
    "    vec.entity2idx[w] = i\n",
    "    i += 1\n",
    "vec.idx2entity = {v:k for k, v in vec.entity2idx.items()}"
   ]
  },
  {
   "cell_type": "code",
   "execution_count": 47,
   "metadata": {},
   "outputs": [],
   "source": [
    "def generate_label_and_filter(elist, a) :\n",
    "    entities = np.zeros((len(vec.entity2idx),))\n",
    "    for w in elist :\n",
    "        entities[vec.entity2idx[w]] = 1\n",
    "    \n",
    "    return entities, vec.entity2idx[a]"
   ]
  },
  {
   "cell_type": "code",
   "execution_count": 52,
   "metadata": {},
   "outputs": [],
   "source": [
    "vec.paragraphs = {}\n",
    "vec.questions = {}\n",
    "vec.entity_masks = {}\n",
    "vec.answers = {}\n",
    "\n",
    "for k in keys :\n",
    "    vec.paragraphs[k] = vec.texts_to_sequences(p[k])\n",
    "    vec.questions[k] = vec.texts_to_sequences(q[k])\n",
    "    vec.entity_masks[k] = []\n",
    "    vec.answers[k] = []\n",
    "    for i in range(len(p[k])) :\n",
    "        mask, answer = generate_label_and_filter(e[k][i], a[k][i])\n",
    "        vec.entity_masks[k].append(mask)\n",
    "        vec.answers[k].append(answer)"
   ]
  },
  {
   "cell_type": "code",
   "execution_count": 57,
   "metadata": {},
   "outputs": [],
   "source": [
    "from torchtext.vocab import Vectors, GloVe, CharNGram, FastText\n",
    "url = 'https://s3-us-west-1.amazonaws.com/fasttext-vectors/wiki.simple.vec'\n",
    "vectors = Vectors('wiki.simple.vec', url=url)"
   ]
  },
  {
   "cell_type": "code",
   "execution_count": 58,
   "metadata": {},
   "outputs": [],
   "source": [
    "vec.word_dim = vectors.dim\n",
    "import numpy as np\n",
    "vec.embeddings = np.zeros((len(vec.idx2word), vec.word_dim))\n",
    "for i, word in vec.idx2word.items() :\n",
    "    vec.embeddings[i] = vectors[word].numpy()"
   ]
  },
  {
   "cell_type": "code",
   "execution_count": 59,
   "metadata": {},
   "outputs": [],
   "source": [
    "import pickle\n",
    "pickle.dump(vec, open('CBTest/vec_cbt.p', 'wb'))"
   ]
  },
  {
   "cell_type": "code",
   "execution_count": null,
   "metadata": {},
   "outputs": [],
   "source": []
  }
 ],
 "metadata": {
  "kernelspec": {
   "display_name": "Python 3",
   "language": "python",
   "name": "python3"
  },
  "language_info": {
   "codemirror_mode": {
    "name": "ipython",
    "version": 3
   },
   "file_extension": ".py",
   "mimetype": "text/x-python",
   "name": "python",
   "nbconvert_exporter": "python",
   "pygments_lexer": "ipython3",
   "version": "3.7.0"
  }
 },
 "nbformat": 4,
 "nbformat_minor": 2
}

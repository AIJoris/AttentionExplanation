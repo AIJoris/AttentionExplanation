{
 "cells": [
  {
   "cell_type": "code",
   "execution_count": 35,
   "metadata": {},
   "outputs": [],
   "source": [
    "import numpy as np\n",
    "import matplotlib.pyplot as plt"
   ]
  },
  {
   "cell_type": "code",
   "execution_count": 36,
   "metadata": {},
   "outputs": [],
   "source": [
    "keys = ['train', 'dev', 'test']"
   ]
  },
  {
   "cell_type": "code",
   "execution_count": 37,
   "metadata": {},
   "outputs": [],
   "source": [
    "p, q, a = {}, {}, {}\n",
    "for k in keys :\n",
    "    file = open('CNN/cnn/' + k + '.txt').read().strip().split('\\n\\n')\n",
    "    file = [x.split('\\n') for x in file]\n",
    "    p[k] = [x[2] for x in file]\n",
    "    q[k] = [x[0] for x in file]\n",
    "    a[k] = [x[1] for x in file]"
   ]
  },
  {
   "cell_type": "code",
   "execution_count": 48,
   "metadata": {},
   "outputs": [],
   "source": [
    "from vectorizer import Vectorizer"
   ]
  },
  {
   "cell_type": "code",
   "execution_count": 49,
   "metadata": {},
   "outputs": [],
   "source": [
    "vec = Vectorizer(min_df=7)"
   ]
  },
  {
   "cell_type": "code",
   "execution_count": 50,
   "metadata": {},
   "outputs": [],
   "source": [
    "vec.fit(p['train'] + q['train'])"
   ]
  },
  {
   "cell_type": "code",
   "execution_count": 51,
   "metadata": {},
   "outputs": [],
   "source": [
    "entities = {}\n",
    "for k in p :\n",
    "    entities[k] = []\n",
    "    for x in p[k] :\n",
    "        entities[k] += [y for y in x.split() if y.startswith('@entity')]\n",
    "    \n",
    "    entities[k] = set(entities[k])"
   ]
  },
  {
   "cell_type": "code",
   "execution_count": 52,
   "metadata": {},
   "outputs": [],
   "source": [
    "for e in entities['train'] :\n",
    "    vec.add_word(e)"
   ]
  },
  {
   "cell_type": "code",
   "execution_count": 59,
   "metadata": {},
   "outputs": [],
   "source": [
    "vec.entity2idx = {}\n",
    "i = 0\n",
    "for w in vec.word2idx :\n",
    "    if w.startswith('@entity') :\n",
    "        vec.entity2idx[w] = i\n",
    "        i += 1\n",
    "vec.idx2entity = {v:k for k, v in vec.entity2idx.items()}"
   ]
  },
  {
   "cell_type": "code",
   "execution_count": 62,
   "metadata": {},
   "outputs": [],
   "source": [
    "def generate_label_and_filter(p, q, a) :\n",
    "    entities = np.zeros((len(vec.entity2idx),))\n",
    "    for w in p.split() :\n",
    "        if w.startswith('@entity') :\n",
    "            entities[vec.entity2idx[w]] = 1\n",
    "    \n",
    "    return entities, vec.entity2idx[a]"
   ]
  },
  {
   "cell_type": "code",
   "execution_count": 66,
   "metadata": {},
   "outputs": [],
   "source": [
    "vec.paragraphs = {}\n",
    "vec.questions = {}\n",
    "vec.entity_masks = {}\n",
    "vec.answers = {}\n",
    "\n",
    "for k in keys :\n",
    "    vec.paragraphs[k] = vec.texts_to_sequences(p[k])\n",
    "    vec.questions[k] = vec.texts_to_sequences(q[k])\n",
    "    vec.entity_masks[k] = []\n",
    "    vec.answers[k] = []\n",
    "    for i in range(len(p[k])) :\n",
    "        mask, answer = generate_label_and_filter(p[k][i], q[k][i], a[k][i])\n",
    "        vec.entity_masks[k].append(mask)\n",
    "        vec.answers[k].append(answer)"
   ]
  },
  {
   "cell_type": "code",
   "execution_count": 72,
   "metadata": {},
   "outputs": [],
   "source": [
    "from torchtext.vocab import Vectors, GloVe, CharNGram, FastText\n",
    "url = 'https://s3-us-west-1.amazonaws.com/fasttext-vectors/wiki.simple.vec'\n",
    "vectors = Vectors('wiki.simple.vec', url=url)"
   ]
  },
  {
   "cell_type": "code",
   "execution_count": 73,
   "metadata": {},
   "outputs": [],
   "source": [
    "vec.word_dim = vectors.dim\n",
    "import numpy as np\n",
    "vec.embeddings = np.zeros((len(vec.idx2word), vec.word_dim))\n",
    "for i, word in vec.idx2word.items() :\n",
    "    vec.embeddings[i] = vectors[word].numpy()"
   ]
  },
  {
   "cell_type": "code",
   "execution_count": 74,
   "metadata": {},
   "outputs": [],
   "source": [
    "import pickle\n",
    "pickle.dump(vec, open('CNN/vec_cnn.p', 'wb'))"
   ]
  },
  {
   "cell_type": "code",
   "execution_count": null,
   "metadata": {},
   "outputs": [],
   "source": []
  }
 ],
 "metadata": {
  "kernelspec": {
   "display_name": "Python 3",
   "language": "python",
   "name": "python3"
  },
  "language_info": {
   "codemirror_mode": {
    "name": "ipython",
    "version": 3
   },
   "file_extension": ".py",
   "mimetype": "text/x-python",
   "name": "python",
   "nbconvert_exporter": "python",
   "pygments_lexer": "ipython3",
   "version": "3.7.3"
  }
 },
 "nbformat": 4,
 "nbformat_minor": 2
}

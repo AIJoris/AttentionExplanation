{
 "cells": [
  {
   "cell_type": "code",
   "execution_count": 18,
   "metadata": {},
   "outputs": [
    {
     "name": "stdout",
     "output_type": "stream",
     "text": [
      "The autoreload extension is already loaded. To reload it, use:\n",
      "  %reload_ext autoreload\n"
     ]
    }
   ],
   "source": [
    "%load_ext autoreload\n",
    "%autoreload 2\n",
    "%matplotlib inline\n",
    "%config InlineBackend.figure_format = 'retina'"
   ]
  },
  {
   "cell_type": "code",
   "execution_count": 19,
   "metadata": {},
   "outputs": [],
   "source": [
    "import numpy as np\n",
    "import torch\n",
    "import pandas as pd\n",
    "from tqdm import tqdm_notebook\n",
    "import matplotlib.pyplot as plt\n",
    "import seaborn as sns\n",
    "np.set_printoptions(suppress=True)\n",
    "from Utils import *"
   ]
  },
  {
   "cell_type": "code",
   "execution_count": 3,
   "metadata": {},
   "outputs": [],
   "source": [
    "torch.cuda.set_device(1)"
   ]
  },
  {
   "cell_type": "code",
   "execution_count": 4,
   "metadata": {},
   "outputs": [],
   "source": [
    "import sys\n",
    "sys.path.insert(0, 'preprocess/')\n",
    "import vectorizer\n",
    "\n",
    "import pickle"
   ]
  },
  {
   "cell_type": "code",
   "execution_count": 5,
   "metadata": {},
   "outputs": [],
   "source": [
    "vec = pickle.load(open('preprocess/IMDB/imdb_data.p', 'rb'))\n",
    "add_frequencies(vec, vec.seq_text['train'])"
   ]
  },
  {
   "cell_type": "code",
   "execution_count": 6,
   "metadata": {},
   "outputs": [],
   "source": [
    "import model.Attn_Word_Pert as M\n",
    "Model = M.Model"
   ]
  },
  {
   "cell_type": "code",
   "execution_count": 7,
   "metadata": {},
   "outputs": [],
   "source": [
    "X, Xt, Xr = vec.seq_text['train'], vec.seq_text['test'], vec.seq_text['rem']\n",
    "y, yt, yr = vec.label['train'], vec.label['test'], vec.label['rem']"
   ]
  },
  {
   "cell_type": "code",
   "execution_count": 8,
   "metadata": {},
   "outputs": [],
   "source": [
    "X, y = filterbylength(X, y, min_length=6)\n",
    "Xt, yt = filterbylength(Xt, yt, min_length=6)\n",
    "Xr, yr = filterbylength(Xr, yr, min_length=6)\n",
    "\n",
    "Xt, yt = sortbylength(Xt, yt)\n",
    "Xr, yr = sortbylength(Xr, yr)"
   ]
  },
  {
   "cell_type": "code",
   "execution_count": 9,
   "metadata": {},
   "outputs": [],
   "source": [
    "pos_weight = 1 #len(y)/sum(y) - 1"
   ]
  },
  {
   "cell_type": "code",
   "execution_count": 10,
   "metadata": {},
   "outputs": [],
   "source": [
    "from sklearn.metrics import classification_report, f1_score\n",
    "\n",
    "def train(name='') :\n",
    "    model = Model(vec.vocab_size, vec.word_dim, 64, dirname='imdb', hidden_size=128, pre_embed=vec.embeddings)\n",
    "    best_f1 = 0.0\n",
    "    for i in tqdm_notebook(range(10)) :\n",
    "        loss = model.train(X, y)\n",
    "        o, he = model.evaluate(Xt)\n",
    "        o = np.array(o)\n",
    "        rep = classification_report(yt, (o > 0.5))\n",
    "        f1 = f1_score(yt, (o > 0.5), pos_label=1)\n",
    "        print(rep)\n",
    "        stmt = '%s, %s' % (i, loss)\n",
    "        if f1 > best_f1 and i > 3:\n",
    "            best_f1 = f1\n",
    "            dirname = model.save_values(add_name=name, save_model=True)\n",
    "            print(\"Model Saved\", f1)\n",
    "        else :\n",
    "            dirname = model.save_values(add_name=name, save_model=False)\n",
    "            print(\"Model not saved\", f1)\n",
    "        f = open(dirname + '/epoch.txt', 'a')\n",
    "        f.write(stmt + '\\n')\n",
    "        f.write(rep + '\\n')\n",
    "        f.close()\n",
    "    \n",
    "    return model"
   ]
  },
  {
   "cell_type": "code",
   "execution_count": 11,
   "metadata": {},
   "outputs": [
    {
     "name": "stdout",
     "output_type": "stream",
     "text": [
      "Setting Embedding\n"
     ]
    },
    {
     "data": {
      "application/vnd.jupyter.widget-view+json": {
       "model_id": "d012a7e16a2b48959f815500463177c6",
       "version_major": 2,
       "version_minor": 0
      },
      "text/plain": [
       "HBox(children=(IntProgress(value=0, max=10), HTML(value='')))"
      ]
     },
     "metadata": {},
     "output_type": "display_data"
    },
    {
     "data": {
      "application/vnd.jupyter.widget-view+json": {
       "model_id": "03bbadb3e1d1496cba8dd7b52e04a1ab",
       "version_major": 2,
       "version_minor": 0
      },
      "text/plain": [
       "HBox(children=(IntProgress(value=0, max=336), HTML(value='')))"
      ]
     },
     "metadata": {},
     "output_type": "display_data"
    },
    {
     "name": "stdout",
     "output_type": "stream",
     "text": [
      "              precision    recall  f1-score   support\n",
      "\n",
      "           0       0.86      0.93      0.90      2184\n",
      "           1       0.93      0.85      0.89      2172\n",
      "\n",
      "   micro avg       0.89      0.89      0.89      4356\n",
      "   macro avg       0.89      0.89      0.89      4356\n",
      "weighted avg       0.89      0.89      0.89      4356\n",
      "\n",
      "Model not saved 0.8861124459394522\n"
     ]
    },
    {
     "data": {
      "application/vnd.jupyter.widget-view+json": {
       "model_id": "d41970078a99444aa5fe1e8b01bac453",
       "version_major": 2,
       "version_minor": 0
      },
      "text/plain": [
       "HBox(children=(IntProgress(value=0, max=336), HTML(value='')))"
      ]
     },
     "metadata": {},
     "output_type": "display_data"
    },
    {
     "name": "stdout",
     "output_type": "stream",
     "text": [
      "              precision    recall  f1-score   support\n",
      "\n",
      "           0       0.89      0.92      0.90      2184\n",
      "           1       0.92      0.89      0.90      2172\n",
      "\n",
      "   micro avg       0.90      0.90      0.90      4356\n",
      "   macro avg       0.90      0.90      0.90      4356\n",
      "weighted avg       0.90      0.90      0.90      4356\n",
      "\n",
      "Model not saved 0.9010989010989011\n"
     ]
    },
    {
     "data": {
      "application/vnd.jupyter.widget-view+json": {
       "model_id": "9b0fd48d8f2e4a31b4f65670473465cc",
       "version_major": 2,
       "version_minor": 0
      },
      "text/plain": [
       "HBox(children=(IntProgress(value=0, max=336), HTML(value='')))"
      ]
     },
     "metadata": {},
     "output_type": "display_data"
    },
    {
     "name": "stdout",
     "output_type": "stream",
     "text": [
      "              precision    recall  f1-score   support\n",
      "\n",
      "           0       0.88      0.91      0.90      2184\n",
      "           1       0.91      0.88      0.90      2172\n",
      "\n",
      "   micro avg       0.90      0.90      0.90      4356\n",
      "   macro avg       0.90      0.90      0.90      4356\n",
      "weighted avg       0.90      0.90      0.90      4356\n",
      "\n",
      "Model not saved 0.8955503512880562\n"
     ]
    },
    {
     "data": {
      "application/vnd.jupyter.widget-view+json": {
       "model_id": "51b6fb9808ae4db080ff059d9787f39e",
       "version_major": 2,
       "version_minor": 0
      },
      "text/plain": [
       "HBox(children=(IntProgress(value=0, max=336), HTML(value='')))"
      ]
     },
     "metadata": {},
     "output_type": "display_data"
    },
    {
     "name": "stdout",
     "output_type": "stream",
     "text": [
      "              precision    recall  f1-score   support\n",
      "\n",
      "           0       0.87      0.91      0.89      2184\n",
      "           1       0.91      0.86      0.89      2172\n",
      "\n",
      "   micro avg       0.89      0.89      0.89      4356\n",
      "   macro avg       0.89      0.89      0.89      4356\n",
      "weighted avg       0.89      0.89      0.89      4356\n",
      "\n",
      "Model not saved 0.88642266824085\n"
     ]
    },
    {
     "data": {
      "application/vnd.jupyter.widget-view+json": {
       "model_id": "bfc27f3733454922bef2da8a28e985ba",
       "version_major": 2,
       "version_minor": 0
      },
      "text/plain": [
       "HBox(children=(IntProgress(value=0, max=336), HTML(value='')))"
      ]
     },
     "metadata": {},
     "output_type": "display_data"
    },
    {
     "name": "stdout",
     "output_type": "stream",
     "text": [
      "              precision    recall  f1-score   support\n",
      "\n",
      "           0       0.87      0.90      0.88      2184\n",
      "           1       0.90      0.86      0.88      2172\n",
      "\n",
      "   micro avg       0.88      0.88      0.88      4356\n",
      "   macro avg       0.88      0.88      0.88      4356\n",
      "weighted avg       0.88      0.88      0.88      4356\n",
      "\n",
      "Model Saved 0.8785178236397749\n"
     ]
    },
    {
     "data": {
      "application/vnd.jupyter.widget-view+json": {
       "model_id": "7b04596c7d1144caae879be325853cf1",
       "version_major": 2,
       "version_minor": 0
      },
      "text/plain": [
       "HBox(children=(IntProgress(value=0, max=336), HTML(value='')))"
      ]
     },
     "metadata": {},
     "output_type": "display_data"
    },
    {
     "name": "stdout",
     "output_type": "stream",
     "text": [
      "              precision    recall  f1-score   support\n",
      "\n",
      "           0       0.85      0.92      0.88      2184\n",
      "           1       0.91      0.84      0.87      2172\n",
      "\n",
      "   micro avg       0.88      0.88      0.88      4356\n",
      "   macro avg       0.88      0.88      0.88      4356\n",
      "weighted avg       0.88      0.88      0.88      4356\n",
      "\n",
      "Model not saved 0.873259721555449\n"
     ]
    },
    {
     "data": {
      "application/vnd.jupyter.widget-view+json": {
       "model_id": "cbe697e802da459e9eb156c5f1141a75",
       "version_major": 2,
       "version_minor": 0
      },
      "text/plain": [
       "HBox(children=(IntProgress(value=0, max=336), HTML(value='')))"
      ]
     },
     "metadata": {},
     "output_type": "display_data"
    },
    {
     "name": "stdout",
     "output_type": "stream",
     "text": [
      "              precision    recall  f1-score   support\n",
      "\n",
      "           0       0.91      0.84      0.87      2184\n",
      "           1       0.85      0.92      0.88      2172\n",
      "\n",
      "   micro avg       0.88      0.88      0.88      4356\n",
      "   macro avg       0.88      0.88      0.88      4356\n",
      "weighted avg       0.88      0.88      0.88      4356\n",
      "\n",
      "Model Saved 0.8825749167591564\n"
     ]
    },
    {
     "data": {
      "application/vnd.jupyter.widget-view+json": {
       "model_id": "ac5b6501d45a4f5880dcbc54c3633803",
       "version_major": 2,
       "version_minor": 0
      },
      "text/plain": [
       "HBox(children=(IntProgress(value=0, max=336), HTML(value='')))"
      ]
     },
     "metadata": {},
     "output_type": "display_data"
    },
    {
     "name": "stdout",
     "output_type": "stream",
     "text": [
      "              precision    recall  f1-score   support\n",
      "\n",
      "           0       0.88      0.89      0.88      2184\n",
      "           1       0.89      0.88      0.88      2172\n",
      "\n",
      "   micro avg       0.88      0.88      0.88      4356\n",
      "   macro avg       0.88      0.88      0.88      4356\n",
      "weighted avg       0.88      0.88      0.88      4356\n",
      "\n",
      "Model not saved 0.8811285846438482\n"
     ]
    },
    {
     "data": {
      "application/vnd.jupyter.widget-view+json": {
       "model_id": "8a11710978a5416a83771af5d6ed99cb",
       "version_major": 2,
       "version_minor": 0
      },
      "text/plain": [
       "HBox(children=(IntProgress(value=0, max=336), HTML(value='')))"
      ]
     },
     "metadata": {},
     "output_type": "display_data"
    },
    {
     "name": "stdout",
     "output_type": "stream",
     "text": [
      "              precision    recall  f1-score   support\n",
      "\n",
      "           0       0.88      0.88      0.88      2184\n",
      "           1       0.88      0.88      0.88      2172\n",
      "\n",
      "   micro avg       0.88      0.88      0.88      4356\n",
      "   macro avg       0.88      0.88      0.88      4356\n",
      "weighted avg       0.88      0.88      0.88      4356\n",
      "\n",
      "Model not saved 0.8795042460408538\n"
     ]
    },
    {
     "data": {
      "application/vnd.jupyter.widget-view+json": {
       "model_id": "5f4c8a864b20412f86d42bc4168beaea",
       "version_major": 2,
       "version_minor": 0
      },
      "text/plain": [
       "HBox(children=(IntProgress(value=0, max=336), HTML(value='')))"
      ]
     },
     "metadata": {},
     "output_type": "display_data"
    },
    {
     "name": "stdout",
     "output_type": "stream",
     "text": [
      "              precision    recall  f1-score   support\n",
      "\n",
      "           0       0.83      0.92      0.88      2184\n",
      "           1       0.91      0.82      0.86      2172\n",
      "\n",
      "   micro avg       0.87      0.87      0.87      4356\n",
      "   macro avg       0.87      0.87      0.87      4356\n",
      "weighted avg       0.87      0.87      0.87      4356\n",
      "\n",
      "Model not saved 0.8613813229571984\n",
      "\n"
     ]
    },
    {
     "data": {
      "text/plain": [
       "<model.Attn_Word_Pert.Model at 0x7f1f17eda5c0>"
      ]
     },
     "execution_count": 11,
     "metadata": {},
     "output_type": "execute_result"
    }
   ],
   "source": [
    "train(name='first_final_imdb')"
   ]
  },
  {
   "cell_type": "markdown",
   "metadata": {},
   "source": [
    "# **EVALUATION**"
   ]
  },
  {
   "cell_type": "code",
   "execution_count": 12,
   "metadata": {},
   "outputs": [],
   "source": [
    "def load_model(dirname) :\n",
    "    model = Model(vec.vocab_size, vec.word_dim, 32, dirname='imdb', hidden_size=128, pre_embed=vec.embeddings)\n",
    "    model.dirname = dirname\n",
    "    model.load_values(dirname)\n",
    "    return model"
   ]
  },
  {
   "cell_type": "code",
   "execution_count": 13,
   "metadata": {},
   "outputs": [
    {
     "name": "stdout",
     "output_type": "stream",
     "text": [
      "Setting Embedding\n"
     ]
    }
   ],
   "source": [
    "model = load_model('outputs/attn_word_imdb/SatOct2012:40:132018_first_final_imdb/')"
   ]
  },
  {
   "cell_type": "code",
   "execution_count": 14,
   "metadata": {},
   "outputs": [
    {
     "name": "stdout",
     "output_type": "stream",
     "text": [
      "              precision    recall  f1-score   support\n",
      "\n",
      "           0       0.91      0.84      0.87      2184\n",
      "           1       0.85      0.92      0.88      2172\n",
      "\n",
      "   micro avg       0.88      0.88      0.88      4356\n",
      "   macro avg       0.88      0.88      0.88      4356\n",
      "weighted avg       0.88      0.88      0.88      4356\n",
      "\n"
     ]
    }
   ],
   "source": [
    "yt_hat, attn_hat = evaluate_and_print(model, Xt, yt)"
   ]
  },
  {
   "cell_type": "code",
   "execution_count": 15,
   "metadata": {},
   "outputs": [
    {
     "data": {
      "image/png": "[encoded data removed]",
      "text/plain": [
       "<Figure size 432x288 with 1 Axes>"
      ]
     },
     "metadata": {
      "image/png": {
       "height": 250,
       "width": 373
      },
      "needs_background": "light"
     },
     "output_type": "display_data"
    }
   ],
   "source": [
    "plot_entropy(Xt, attn_hat)"
   ]
  },
  {
   "cell_type": "markdown",
   "metadata": {},
   "source": [
    "# __Sampling__"
   ]
  },
  {
   "cell_type": "code",
   "execution_count": 16,
   "metadata": {},
   "outputs": [
    {
     "data": {
      "application/vnd.jupyter.widget-view+json": {
       "model_id": "bea4b4a18ede48718d2ad49c9630829f",
       "version_major": 2,
       "version_minor": 0
      },
      "text/plain": [
       "HBox(children=(IntProgress(value=0, max=137), HTML(value='')))"
      ]
     },
     "metadata": {},
     "output_type": "display_data"
    },
    {
     "data": {
      "application/vnd.jupyter.widget-view+json": {
       "model_id": "934b2983cca142688e101515a3a6222b",
       "version_major": 2,
       "version_minor": 0
      },
      "text/plain": [
       "HBox(children=(IntProgress(value=0), HTML(value='')))"
      ]
     },
     "metadata": {},
     "output_type": "display_data"
    },
    {
     "data": {
      "application/vnd.jupyter.widget-view+json": {
       "model_id": "fc46a21832ef45f29fd6713f5f708da1",
       "version_major": 2,
       "version_minor": 0
      },
      "text/plain": [
       "HBox(children=(IntProgress(value=0), HTML(value='')))"
      ]
     },
     "metadata": {},
     "output_type": "display_data"
    },
    {
     "data": {
      "application/vnd.jupyter.widget-view+json": {
       "model_id": "17d5de2c5c374deb99031dcce2fb4a34",
       "version_major": 2,
       "version_minor": 0
      },
      "text/plain": [
       "HBox(children=(IntProgress(value=0), HTML(value='')))"
      ]
     },
     "metadata": {},
     "output_type": "display_data"
    },
    {
     "data": {
      "application/vnd.jupyter.widget-view+json": {
       "model_id": "c4716479b59349229fe073064487bfc0",
       "version_major": 2,
       "version_minor": 0
      },
      "text/plain": [
       "HBox(children=(IntProgress(value=0), HTML(value='')))"
      ]
     },
     "metadata": {},
     "output_type": "display_data"
    },
    {
     "data": {
      "application/vnd.jupyter.widget-view+json": {
       "model_id": "c951253992784d8db064169fdf505f48",
       "version_major": 2,
       "version_minor": 0
      },
      "text/plain": [
       "HBox(children=(IntProgress(value=0), HTML(value='')))"
      ]
     },
     "metadata": {},
     "output_type": "display_data"
    },
    {
     "data": {
      "application/vnd.jupyter.widget-view+json": {
       "model_id": "05c2fe6e69304bbc8bee876e8239bc52",
       "version_major": 2,
       "version_minor": 0
      },
      "text/plain": [
       "HBox(children=(IntProgress(value=0), HTML(value='')))"
      ]
     },
     "metadata": {},
     "output_type": "display_data"
    },
    {
     "data": {
      "application/vnd.jupyter.widget-view+json": {
       "model_id": "95f21bd5b54c416888fca2bcd604125b",
       "version_major": 2,
       "version_minor": 0
      },
      "text/plain": [
       "HBox(children=(IntProgress(value=0), HTML(value='')))"
      ]
     },
     "metadata": {},
     "output_type": "display_data"
    },
    {
     "data": {
      "application/vnd.jupyter.widget-view+json": {
       "model_id": "958e3527eb0744f4a114eb298bd7b454",
       "version_major": 2,
       "version_minor": 0
      },
      "text/plain": [
       "HBox(children=(IntProgress(value=0), HTML(value='')))"
      ]
     },
     "metadata": {},
     "output_type": "display_data"
    },
    {
     "data": {
      "application/vnd.jupyter.widget-view+json": {
       "model_id": "019a278e6f184ac9a378e43d43d96cba",
       "version_major": 2,
       "version_minor": 0
      },
      "text/plain": [
       "HBox(children=(IntProgress(value=0), HTML(value='')))"
      ]
     },
     "metadata": {},
     "output_type": "display_data"
    },
    {
     "data": {
      "application/vnd.jupyter.widget-view+json": {
       "model_id": "ebe00ae8a098419c9643e551c5b841f0",
       "version_major": 2,
       "version_minor": 0
      },
      "text/plain": [
       "HBox(children=(IntProgress(value=0), HTML(value='')))"
      ]
     },
     "metadata": {},
     "output_type": "display_data"
    },
    {
     "data": {
      "application/vnd.jupyter.widget-view+json": {
       "model_id": "095d6f1b8110444c9fb5dd7f54a93e74",
       "version_major": 2,
       "version_minor": 0
      },
      "text/plain": [
       "HBox(children=(IntProgress(value=0), HTML(value='')))"
      ]
     },
     "metadata": {},
     "output_type": "display_data"
    },
    {
     "data": {
      "application/vnd.jupyter.widget-view+json": {
       "model_id": "2c4e879155f245c08d918f66632085f7",
       "version_major": 2,
       "version_minor": 0
      },
      "text/plain": [
       "HBox(children=(IntProgress(value=0), HTML(value='')))"
      ]
     },
     "metadata": {},
     "output_type": "display_data"
    },
    {
     "data": {
      "application/vnd.jupyter.widget-view+json": {
       "model_id": "d42459784d6846218728fd86675ba9a8",
       "version_major": 2,
       "version_minor": 0
      },
      "text/plain": [
       "HBox(children=(IntProgress(value=0), HTML(value='')))"
      ]
     },
     "metadata": {},
     "output_type": "display_data"
    },
    {
     "data": {
      "application/vnd.jupyter.widget-view+json": {
       "model_id": "88574a7a085e498aae2d5e489b7b8fec",
       "version_major": 2,
       "version_minor": 0
      },
      "text/plain": [
       "HBox(children=(IntProgress(value=0), HTML(value='')))"
      ]
     },
     "metadata": {},
     "output_type": "display_data"
    },
    {
     "data": {
      "application/vnd.jupyter.widget-view+json": {
       "model_id": "492bc45b24844ee78dc4da42c5e3fb14",
       "version_major": 2,
       "version_minor": 0
      },
      "text/plain": [
       "HBox(children=(IntProgress(value=0), HTML(value='')))"
      ]
     },
     "metadata": {},
     "output_type": "display_data"
    },
    {
     "data": {
      "application/vnd.jupyter.widget-view+json": {
       "model_id": "599006394efc4b6799221251d4cdaef6",
       "version_major": 2,
       "version_minor": 0
      },
      "text/plain": [
       "HBox(children=(IntProgress(value=0), HTML(value='')))"
      ]
     },
     "metadata": {},
     "output_type": "display_data"
    },
    {
     "data": {
      "application/vnd.jupyter.widget-view+json": {
       "model_id": "d523cbde85db4448b185dbbccc7380bb",
       "version_major": 2,
       "version_minor": 0
      },
      "text/plain": [
       "HBox(children=(IntProgress(value=0), HTML(value='')))"
      ]
     },
     "metadata": {},
     "output_type": "display_data"
    },
    {
     "data": {
      "application/vnd.jupyter.widget-view+json": {
       "model_id": "51b76ed88ff84c56a9fbe8e7b7211ee8",
       "version_major": 2,
       "version_minor": 0
      },
      "text/plain": [
       "HBox(children=(IntProgress(value=0), HTML(value='')))"
      ]
     },
     "metadata": {},
     "output_type": "display_data"
    },
    {
     "data": {
      "application/vnd.jupyter.widget-view+json": {
       "model_id": "39e10f94bfc34d7487321956f6b5a225",
       "version_major": 2,
       "version_minor": 0
      },
      "text/plain": [
       "HBox(children=(IntProgress(value=0), HTML(value='')))"
      ]
     },
     "metadata": {},
     "output_type": "display_data"
    },
    {
     "data": {
      "application/vnd.jupyter.widget-view+json": {
       "model_id": "2a03fa86311b4a7fa39ab04b9d8d2124",
       "version_major": 2,
       "version_minor": 0
      },
      "text/plain": [
       "HBox(children=(IntProgress(value=0), HTML(value='')))"
      ]
     },
     "metadata": {},
     "output_type": "display_data"
    },
    {
     "data": {
      "application/vnd.jupyter.widget-view+json": {
       "model_id": "efe1fb0f97474746ae31c8f0a8ee81aa",
       "version_major": 2,
       "version_minor": 0
      },
      "text/plain": [
       "HBox(children=(IntProgress(value=0), HTML(value='')))"
      ]
     },
     "metadata": {},
     "output_type": "display_data"
    },
    {
     "data": {
      "application/vnd.jupyter.widget-view+json": {
       "model_id": "d546f366dfc04235ad961c3b9ec1dd9c",
       "version_major": 2,
       "version_minor": 0
      },
      "text/plain": [
       "HBox(children=(IntProgress(value=0), HTML(value='')))"
      ]
     },
     "metadata": {},
     "output_type": "display_data"
    },
    {
     "data": {
      "application/vnd.jupyter.widget-view+json": {
       "model_id": "f43d0d2e36b742f386afb9ec6c4ac49c",
       "version_major": 2,
       "version_minor": 0
      },
      "text/plain": [
       "HBox(children=(IntProgress(value=0), HTML(value='')))"
      ]
     },
     "metadata": {},
     "output_type": "display_data"
    },
    {
     "data": {
      "application/vnd.jupyter.widget-view+json": {
       "model_id": "7ad83647a211405584df7ed3a1665b0c",
       "version_major": 2,
       "version_minor": 0
      },
      "text/plain": [
       "HBox(children=(IntProgress(value=0), HTML(value='')))"
      ]
     },
     "metadata": {},
     "output_type": "display_data"
    },
    {
     "data": {
      "application/vnd.jupyter.widget-view+json": {
       "model_id": "3124507719fc40df94632a71ea0b142f",
       "version_major": 2,
       "version_minor": 0
      },
      "text/plain": [
       "HBox(children=(IntProgress(value=0), HTML(value='')))"
      ]
     },
     "metadata": {},
     "output_type": "display_data"
    },
    {
     "data": {
      "application/vnd.jupyter.widget-view+json": {
       "model_id": "af3c88b9a93a4866a20fa07578b8a472",
       "version_major": 2,
       "version_minor": 0
      },
      "text/plain": [
       "HBox(children=(IntProgress(value=0), HTML(value='')))"
      ]
     },
     "metadata": {},
     "output_type": "display_data"
    },
    {
     "data": {
      "application/vnd.jupyter.widget-view+json": {
       "model_id": "db99376e4f464d7fa40fd4213770d293",
       "version_major": 2,
       "version_minor": 0
      },
      "text/plain": [
       "HBox(children=(IntProgress(value=0), HTML(value='')))"
      ]
     },
     "metadata": {},
     "output_type": "display_data"
    },
    {
     "data": {
      "application/vnd.jupyter.widget-view+json": {
       "model_id": "f6cada3b682442caad57eb9c4e2eb29e",
       "version_major": 2,
       "version_minor": 0
      },
      "text/plain": [
       "HBox(children=(IntProgress(value=0), HTML(value='')))"
      ]
     },
     "metadata": {},
     "output_type": "display_data"
    },
    {
     "data": {
      "application/vnd.jupyter.widget-view+json": {
       "model_id": "1748b0ce1e10468ab55828ece0da3f7c",
       "version_major": 2,
       "version_minor": 0
      },
      "text/plain": [
       "HBox(children=(IntProgress(value=0), HTML(value='')))"
      ]
     },
     "metadata": {},
     "output_type": "display_data"
    },
    {
     "data": {
      "application/vnd.jupyter.widget-view+json": {
       "model_id": "c728915bd6cf4903ba46989d81c6e98a",
       "version_major": 2,
       "version_minor": 0
      },
      "text/plain": [
       "HBox(children=(IntProgress(value=0), HTML(value='')))"
      ]
     },
     "metadata": {},
     "output_type": "display_data"
    },
    {
     "data": {
      "application/vnd.jupyter.widget-view+json": {
       "model_id": "0a3e0b1f5a484dc68f62dd52925540b9",
       "version_major": 2,
       "version_minor": 0
      },
      "text/plain": [
       "HBox(children=(IntProgress(value=0), HTML(value='')))"
      ]
     },
     "metadata": {},
     "output_type": "display_data"
    },
    {
     "data": {
      "application/vnd.jupyter.widget-view+json": {
       "model_id": "762df7ea921a440eb41227dce904a642",
       "version_major": 2,
       "version_minor": 0
      },
      "text/plain": [
       "HBox(children=(IntProgress(value=0), HTML(value='')))"
      ]
     },
     "metadata": {},
     "output_type": "display_data"
    },
    {
     "data": {
      "application/vnd.jupyter.widget-view+json": {
       "model_id": "ec3c192d74854927a5adddaa62802486",
       "version_major": 2,
       "version_minor": 0
      },
      "text/plain": [
       "HBox(children=(IntProgress(value=0), HTML(value='')))"
      ]
     },
     "metadata": {},
     "output_type": "display_data"
    },
    {
     "data": {
      "application/vnd.jupyter.widget-view+json": {
       "model_id": "a65a8dfbc86640cd97a5c3f2e680ecfb",
       "version_major": 2,
       "version_minor": 0
      },
      "text/plain": [
       "HBox(children=(IntProgress(value=0), HTML(value='')))"
      ]
     },
     "metadata": {},
     "output_type": "display_data"
    },
    {
     "data": {
      "application/vnd.jupyter.widget-view+json": {
       "model_id": "1d209e73cb9848e885b4ccc1f5d591ad",
       "version_major": 2,
       "version_minor": 0
      },
      "text/plain": [
       "HBox(children=(IntProgress(value=0), HTML(value='')))"
      ]
     },
     "metadata": {},
     "output_type": "display_data"
    },
    {
     "data": {
      "application/vnd.jupyter.widget-view+json": {
       "model_id": "d1a91d7ab33c428da98a74622bb42f84",
       "version_major": 2,
       "version_minor": 0
      },
      "text/plain": [
       "HBox(children=(IntProgress(value=0), HTML(value='')))"
      ]
     },
     "metadata": {},
     "output_type": "display_data"
    },
    {
     "data": {
      "application/vnd.jupyter.widget-view+json": {
       "model_id": "6dfbc19e170a4656bdd0fd22c243a6d0",
       "version_major": 2,
       "version_minor": 0
      },
      "text/plain": [
       "HBox(children=(IntProgress(value=0), HTML(value='')))"
      ]
     },
     "metadata": {},
     "output_type": "display_data"
    },
    {
     "data": {
      "application/vnd.jupyter.widget-view+json": {
       "model_id": "8201d45c2fc04194811963daf3184ebe",
       "version_major": 2,
       "version_minor": 0
      },
      "text/plain": [
       "HBox(children=(IntProgress(value=0), HTML(value='')))"
      ]
     },
     "metadata": {},
     "output_type": "display_data"
    },
    {
     "data": {
      "application/vnd.jupyter.widget-view+json": {
       "model_id": "d9431135b97f4d83a8265998c61b69aa",
       "version_major": 2,
       "version_minor": 0
      },
      "text/plain": [
       "HBox(children=(IntProgress(value=0), HTML(value='')))"
      ]
     },
     "metadata": {},
     "output_type": "display_data"
    },
    {
     "data": {
      "application/vnd.jupyter.widget-view+json": {
       "model_id": "20392cf7c51f456bbdb9430cbb3799fa",
       "version_major": 2,
       "version_minor": 0
      },
      "text/plain": [
       "HBox(children=(IntProgress(value=0), HTML(value='')))"
      ]
     },
     "metadata": {},
     "output_type": "display_data"
    },
    {
     "data": {
      "application/vnd.jupyter.widget-view+json": {
       "model_id": "25c0ee99ac45403d8c17ebe2526ff9e1",
       "version_major": 2,
       "version_minor": 0
      },
      "text/plain": [
       "HBox(children=(IntProgress(value=0), HTML(value='')))"
      ]
     },
     "metadata": {},
     "output_type": "display_data"
    },
    {
     "data": {
      "application/vnd.jupyter.widget-view+json": {
       "model_id": "171729698a90432fb3db37fbd4db47d4",
       "version_major": 2,
       "version_minor": 0
      },
      "text/plain": [
       "HBox(children=(IntProgress(value=0), HTML(value='')))"
      ]
     },
     "metadata": {},
     "output_type": "display_data"
    },
    {
     "data": {
      "application/vnd.jupyter.widget-view+json": {
       "model_id": "6d0215deda74450185216264efbfb40e",
       "version_major": 2,
       "version_minor": 0
      },
      "text/plain": [
       "HBox(children=(IntProgress(value=0), HTML(value='')))"
      ]
     },
     "metadata": {},
     "output_type": "display_data"
    },
    {
     "data": {
      "application/vnd.jupyter.widget-view+json": {
       "model_id": "f8e5483b8e284828bab5262c685a91f8",
       "version_major": 2,
       "version_minor": 0
      },
      "text/plain": [
       "HBox(children=(IntProgress(value=0), HTML(value='')))"
      ]
     },
     "metadata": {},
     "output_type": "display_data"
    },
    {
     "data": {
      "application/vnd.jupyter.widget-view+json": {
       "model_id": "b61f2b0adf86441ebd6144f1a3df9769",
       "version_major": 2,
       "version_minor": 0
      },
      "text/plain": [
       "HBox(children=(IntProgress(value=0), HTML(value='')))"
      ]
     },
     "metadata": {},
     "output_type": "display_data"
    },
    {
     "data": {
      "application/vnd.jupyter.widget-view+json": {
       "model_id": "4c804ef6d35842208f015b2e953e389c",
       "version_major": 2,
       "version_minor": 0
      },
      "text/plain": [
       "HBox(children=(IntProgress(value=0), HTML(value='')))"
      ]
     },
     "metadata": {},
     "output_type": "display_data"
    },
    {
     "data": {
      "application/vnd.jupyter.widget-view+json": {
       "model_id": "db84b191ce3c4533970438369c7d9a2f",
       "version_major": 2,
       "version_minor": 0
      },
      "text/plain": [
       "HBox(children=(IntProgress(value=0), HTML(value='')))"
      ]
     },
     "metadata": {},
     "output_type": "display_data"
    },
    {
     "data": {
      "application/vnd.jupyter.widget-view+json": {
       "model_id": "785174be09674bfda85d2462cdfd99ca",
       "version_major": 2,
       "version_minor": 0
      },
      "text/plain": [
       "HBox(children=(IntProgress(value=0), HTML(value='')))"
      ]
     },
     "metadata": {},
     "output_type": "display_data"
    },
    {
     "data": {
      "application/vnd.jupyter.widget-view+json": {
       "model_id": "08a1ed38a37f450cbaaa073a06236a00",
       "version_major": 2,
       "version_minor": 0
      },
      "text/plain": [
       "HBox(children=(IntProgress(value=0), HTML(value='')))"
      ]
     },
     "metadata": {},
     "output_type": "display_data"
    },
    {
     "data": {
      "application/vnd.jupyter.widget-view+json": {
       "model_id": "e1bf6406e3364f29ad347380b027565a",
       "version_major": 2,
       "version_minor": 0
      },
      "text/plain": [
       "HBox(children=(IntProgress(value=0), HTML(value='')))"
      ]
     },
     "metadata": {},
     "output_type": "display_data"
    },
    {
     "data": {
      "application/vnd.jupyter.widget-view+json": {
       "model_id": "6bf4e6e0878843ebb69ce35c08ebe994",
       "version_major": 2,
       "version_minor": 0
      },
      "text/plain": [
       "HBox(children=(IntProgress(value=0), HTML(value='')))"
      ]
     },
     "metadata": {},
     "output_type": "display_data"
    },
    {
     "data": {
      "application/vnd.jupyter.widget-view+json": {
       "model_id": "613e4334f4994a9f87d05461fca1aadc",
       "version_major": 2,
       "version_minor": 0
      },
      "text/plain": [
       "HBox(children=(IntProgress(value=0), HTML(value='')))"
      ]
     },
     "metadata": {},
     "output_type": "display_data"
    },
    {
     "data": {
      "application/vnd.jupyter.widget-view+json": {
       "model_id": "50e89d727ac04969b723f6b59b315d4d",
       "version_major": 2,
       "version_minor": 0
      },
      "text/plain": [
       "HBox(children=(IntProgress(value=0), HTML(value='')))"
      ]
     },
     "metadata": {},
     "output_type": "display_data"
    },
    {
     "data": {
      "application/vnd.jupyter.widget-view+json": {
       "model_id": "a895867084f44cd1a84e3e933193e388",
       "version_major": 2,
       "version_minor": 0
      },
      "text/plain": [
       "HBox(children=(IntProgress(value=0), HTML(value='')))"
      ]
     },
     "metadata": {},
     "output_type": "display_data"
    },
    {
     "data": {
      "application/vnd.jupyter.widget-view+json": {
       "model_id": "3d6fcb91b67c47889b83a324a00df80c",
       "version_major": 2,
       "version_minor": 0
      },
      "text/plain": [
       "HBox(children=(IntProgress(value=0), HTML(value='')))"
      ]
     },
     "metadata": {},
     "output_type": "display_data"
    },
    {
     "data": {
      "application/vnd.jupyter.widget-view+json": {
       "model_id": "52e6c792bc864e9b81eac5ec1ee6e810",
       "version_major": 2,
       "version_minor": 0
      },
      "text/plain": [
       "HBox(children=(IntProgress(value=0), HTML(value='')))"
      ]
     },
     "metadata": {},
     "output_type": "display_data"
    },
    {
     "data": {
      "application/vnd.jupyter.widget-view+json": {
       "model_id": "e138b0973e91471abc6f82fb41eb5a18",
       "version_major": 2,
       "version_minor": 0
      },
      "text/plain": [
       "HBox(children=(IntProgress(value=0), HTML(value='')))"
      ]
     },
     "metadata": {},
     "output_type": "display_data"
    },
    {
     "data": {
      "application/vnd.jupyter.widget-view+json": {
       "model_id": "4a0bc63b0974470eb358a88a87358023",
       "version_major": 2,
       "version_minor": 0
      },
      "text/plain": [
       "HBox(children=(IntProgress(value=0), HTML(value='')))"
      ]
     },
     "metadata": {},
     "output_type": "display_data"
    },
    {
     "data": {
      "application/vnd.jupyter.widget-view+json": {
       "model_id": "42d98d09fd2f44d990667049e9fc6bb3",
       "version_major": 2,
       "version_minor": 0
      },
      "text/plain": [
       "HBox(children=(IntProgress(value=0), HTML(value='')))"
      ]
     },
     "metadata": {},
     "output_type": "display_data"
    },
    {
     "data": {
      "application/vnd.jupyter.widget-view+json": {
       "model_id": "0eb3f1040ac04441b0064d16c07112dd",
       "version_major": 2,
       "version_minor": 0
      },
      "text/plain": [
       "HBox(children=(IntProgress(value=0), HTML(value='')))"
      ]
     },
     "metadata": {},
     "output_type": "display_data"
    },
    {
     "data": {
      "application/vnd.jupyter.widget-view+json": {
       "model_id": "b5615a37534e49739eae9ca02ebaafd6",
       "version_major": 2,
       "version_minor": 0
      },
      "text/plain": [
       "HBox(children=(IntProgress(value=0), HTML(value='')))"
      ]
     },
     "metadata": {},
     "output_type": "display_data"
    },
    {
     "data": {
      "application/vnd.jupyter.widget-view+json": {
       "model_id": "f7d5d8cf24dc468c96eb91f4e715dfe9",
       "version_major": 2,
       "version_minor": 0
      },
      "text/plain": [
       "HBox(children=(IntProgress(value=0), HTML(value='')))"
      ]
     },
     "metadata": {},
     "output_type": "display_data"
    },
    {
     "data": {
      "application/vnd.jupyter.widget-view+json": {
       "model_id": "88494c9512ec4bea9edb208b978b9024",
       "version_major": 2,
       "version_minor": 0
      },
      "text/plain": [
       "HBox(children=(IntProgress(value=0), HTML(value='')))"
      ]
     },
     "metadata": {},
     "output_type": "display_data"
    },
    {
     "data": {
      "application/vnd.jupyter.widget-view+json": {
       "model_id": "c0552477eb8a47eda346c5f1d7f861b6",
       "version_major": 2,
       "version_minor": 0
      },
      "text/plain": [
       "HBox(children=(IntProgress(value=0), HTML(value='')))"
      ]
     },
     "metadata": {},
     "output_type": "display_data"
    },
    {
     "data": {
      "application/vnd.jupyter.widget-view+json": {
       "model_id": "9c5daa2f3ac842c981284e8651732d56",
       "version_major": 2,
       "version_minor": 0
      },
      "text/plain": [
       "HBox(children=(IntProgress(value=0), HTML(value='')))"
      ]
     },
     "metadata": {},
     "output_type": "display_data"
    },
    {
     "data": {
      "application/vnd.jupyter.widget-view+json": {
       "model_id": "bf59f4d7699545cdad37f2fdcbd1bd49",
       "version_major": 2,
       "version_minor": 0
      },
      "text/plain": [
       "HBox(children=(IntProgress(value=0), HTML(value='')))"
      ]
     },
     "metadata": {},
     "output_type": "display_data"
    },
    {
     "data": {
      "application/vnd.jupyter.widget-view+json": {
       "model_id": "fe8be2be4ba649f0b9f2bd2677245943",
       "version_major": 2,
       "version_minor": 0
      },
      "text/plain": [
       "HBox(children=(IntProgress(value=0), HTML(value='')))"
      ]
     },
     "metadata": {},
     "output_type": "display_data"
    },
    {
     "data": {
      "application/vnd.jupyter.widget-view+json": {
       "model_id": "d515bdd0fea64c5a8145177ca0f82ea9",
       "version_major": 2,
       "version_minor": 0
      },
      "text/plain": [
       "HBox(children=(IntProgress(value=0), HTML(value='')))"
      ]
     },
     "metadata": {},
     "output_type": "display_data"
    },
    {
     "data": {
      "application/vnd.jupyter.widget-view+json": {
       "model_id": "e898d59c487e497eb79d072fb1c4bdcc",
       "version_major": 2,
       "version_minor": 0
      },
      "text/plain": [
       "HBox(children=(IntProgress(value=0), HTML(value='')))"
      ]
     },
     "metadata": {},
     "output_type": "display_data"
    },
    {
     "data": {
      "application/vnd.jupyter.widget-view+json": {
       "model_id": "8dcf0c64a2a94048979da43f5b1dd8a3",
       "version_major": 2,
       "version_minor": 0
      },
      "text/plain": [
       "HBox(children=(IntProgress(value=0), HTML(value='')))"
      ]
     },
     "metadata": {},
     "output_type": "display_data"
    },
    {
     "data": {
      "application/vnd.jupyter.widget-view+json": {
       "model_id": "cd1f98024ef6407cb28de57563b1db9e",
       "version_major": 2,
       "version_minor": 0
      },
      "text/plain": [
       "HBox(children=(IntProgress(value=0), HTML(value='')))"
      ]
     },
     "metadata": {},
     "output_type": "display_data"
    },
    {
     "data": {
      "application/vnd.jupyter.widget-view+json": {
       "model_id": "7fa6aa6c42d44a8baf02fc18cee67a19",
       "version_major": 2,
       "version_minor": 0
      },
      "text/plain": [
       "HBox(children=(IntProgress(value=0), HTML(value='')))"
      ]
     },
     "metadata": {},
     "output_type": "display_data"
    },
    {
     "data": {
      "application/vnd.jupyter.widget-view+json": {
       "model_id": "be55fb9534014443b1570498a7882fd6",
       "version_major": 2,
       "version_minor": 0
      },
      "text/plain": [
       "HBox(children=(IntProgress(value=0), HTML(value='')))"
      ]
     },
     "metadata": {},
     "output_type": "display_data"
    },
    {
     "data": {
      "application/vnd.jupyter.widget-view+json": {
       "model_id": "441ab887384a43eb86dee20e21b88964",
       "version_major": 2,
       "version_minor": 0
      },
      "text/plain": [
       "HBox(children=(IntProgress(value=0), HTML(value='')))"
      ]
     },
     "metadata": {},
     "output_type": "display_data"
    },
    {
     "data": {
      "application/vnd.jupyter.widget-view+json": {
       "model_id": "c1adca836efa4ccd867008a541ac6322",
       "version_major": 2,
       "version_minor": 0
      },
      "text/plain": [
       "HBox(children=(IntProgress(value=0), HTML(value='')))"
      ]
     },
     "metadata": {},
     "output_type": "display_data"
    },
    {
     "data": {
      "application/vnd.jupyter.widget-view+json": {
       "model_id": "0a221347b7674b0e986c92fe958b894a",
       "version_major": 2,
       "version_minor": 0
      },
      "text/plain": [
       "HBox(children=(IntProgress(value=0), HTML(value='')))"
      ]
     },
     "metadata": {},
     "output_type": "display_data"
    },
    {
     "data": {
      "application/vnd.jupyter.widget-view+json": {
       "model_id": "a5673586fad8447c877fa24ce2d27e1a",
       "version_major": 2,
       "version_minor": 0
      },
      "text/plain": [
       "HBox(children=(IntProgress(value=0), HTML(value='')))"
      ]
     },
     "metadata": {},
     "output_type": "display_data"
    },
    {
     "data": {
      "application/vnd.jupyter.widget-view+json": {
       "model_id": "f8288c0284db4bca90141aef5090bc8c",
       "version_major": 2,
       "version_minor": 0
      },
      "text/plain": [
       "HBox(children=(IntProgress(value=0), HTML(value='')))"
      ]
     },
     "metadata": {},
     "output_type": "display_data"
    },
    {
     "data": {
      "application/vnd.jupyter.widget-view+json": {
       "model_id": "671fe117a2474c7a88d1eb00e96cd4a3",
       "version_major": 2,
       "version_minor": 0
      },
      "text/plain": [
       "HBox(children=(IntProgress(value=0), HTML(value='')))"
      ]
     },
     "metadata": {},
     "output_type": "display_data"
    },
    {
     "data": {
      "application/vnd.jupyter.widget-view+json": {
       "model_id": "8a7185986b8443d588036c1b2a21d29c",
       "version_major": 2,
       "version_minor": 0
      },
      "text/plain": [
       "HBox(children=(IntProgress(value=0), HTML(value='')))"
      ]
     },
     "metadata": {},
     "output_type": "display_data"
    },
    {
     "data": {
      "application/vnd.jupyter.widget-view+json": {
       "model_id": "f09b1a39cfdb48be9accfdb7b2ca5077",
       "version_major": 2,
       "version_minor": 0
      },
      "text/plain": [
       "HBox(children=(IntProgress(value=0), HTML(value='')))"
      ]
     },
     "metadata": {},
     "output_type": "display_data"
    },
    {
     "data": {
      "application/vnd.jupyter.widget-view+json": {
       "model_id": "fc11cb9999de4aabb020122d9d182be3",
       "version_major": 2,
       "version_minor": 0
      },
      "text/plain": [
       "HBox(children=(IntProgress(value=0), HTML(value='')))"
      ]
     },
     "metadata": {},
     "output_type": "display_data"
    },
    {
     "data": {
      "application/vnd.jupyter.widget-view+json": {
       "model_id": "ca24e6c3b8ea496d88a2e1367299a938",
       "version_major": 2,
       "version_minor": 0
      },
      "text/plain": [
       "HBox(children=(IntProgress(value=0), HTML(value='')))"
      ]
     },
     "metadata": {},
     "output_type": "display_data"
    },
    {
     "data": {
      "application/vnd.jupyter.widget-view+json": {
       "model_id": "978df7474d0b4397934cadb815072e6f",
       "version_major": 2,
       "version_minor": 0
      },
      "text/plain": [
       "HBox(children=(IntProgress(value=0), HTML(value='')))"
      ]
     },
     "metadata": {},
     "output_type": "display_data"
    },
    {
     "data": {
      "application/vnd.jupyter.widget-view+json": {
       "model_id": "4cdbc8ea51fe4460aa270893424c5f7c",
       "version_major": 2,
       "version_minor": 0
      },
      "text/plain": [
       "HBox(children=(IntProgress(value=0), HTML(value='')))"
      ]
     },
     "metadata": {},
     "output_type": "display_data"
    },
    {
     "data": {
      "application/vnd.jupyter.widget-view+json": {
       "model_id": "1ca6acf21c664017bcb1c8a2800215b4",
       "version_major": 2,
       "version_minor": 0
      },
      "text/plain": [
       "HBox(children=(IntProgress(value=0), HTML(value='')))"
      ]
     },
     "metadata": {},
     "output_type": "display_data"
    },
    {
     "data": {
      "application/vnd.jupyter.widget-view+json": {
       "model_id": "afed3c163e3a43209c0990fa6a482ad8",
       "version_major": 2,
       "version_minor": 0
      },
      "text/plain": [
       "HBox(children=(IntProgress(value=0), HTML(value='')))"
      ]
     },
     "metadata": {},
     "output_type": "display_data"
    },
    {
     "data": {
      "application/vnd.jupyter.widget-view+json": {
       "model_id": "bc91fb69511742feb5e9e1c8414dd38c",
       "version_major": 2,
       "version_minor": 0
      },
      "text/plain": [
       "HBox(children=(IntProgress(value=0), HTML(value='')))"
      ]
     },
     "metadata": {},
     "output_type": "display_data"
    },
    {
     "data": {
      "application/vnd.jupyter.widget-view+json": {
       "model_id": "d3c3ebfea292407d98a24c0a495a949f",
       "version_major": 2,
       "version_minor": 0
      },
      "text/plain": [
       "HBox(children=(IntProgress(value=0), HTML(value='')))"
      ]
     },
     "metadata": {},
     "output_type": "display_data"
    },
    {
     "data": {
      "application/vnd.jupyter.widget-view+json": {
       "model_id": "409086f2638645a4a87e0bca0054b87d",
       "version_major": 2,
       "version_minor": 0
      },
      "text/plain": [
       "HBox(children=(IntProgress(value=0), HTML(value='')))"
      ]
     },
     "metadata": {},
     "output_type": "display_data"
    },
    {
     "data": {
      "application/vnd.jupyter.widget-view+json": {
       "model_id": "43614b6ef2f244efb8eb6626fd2e487f",
       "version_major": 2,
       "version_minor": 0
      },
      "text/plain": [
       "HBox(children=(IntProgress(value=0), HTML(value='')))"
      ]
     },
     "metadata": {},
     "output_type": "display_data"
    },
    {
     "data": {
      "application/vnd.jupyter.widget-view+json": {
       "model_id": "d12982665f194e50a5d16d22c9f1e8b4",
       "version_major": 2,
       "version_minor": 0
      },
      "text/plain": [
       "HBox(children=(IntProgress(value=0), HTML(value='')))"
      ]
     },
     "metadata": {},
     "output_type": "display_data"
    },
    {
     "data": {
      "application/vnd.jupyter.widget-view+json": {
       "model_id": "8955310c87d449a0957507baec53cbb3",
       "version_major": 2,
       "version_minor": 0
      },
      "text/plain": [
       "HBox(children=(IntProgress(value=0), HTML(value='')))"
      ]
     },
     "metadata": {},
     "output_type": "display_data"
    },
    {
     "data": {
      "application/vnd.jupyter.widget-view+json": {
       "model_id": "428f41aa34854e39befaacd141c408cf",
       "version_major": 2,
       "version_minor": 0
      },
      "text/plain": [
       "HBox(children=(IntProgress(value=0), HTML(value='')))"
      ]
     },
     "metadata": {},
     "output_type": "display_data"
    },
    {
     "data": {
      "application/vnd.jupyter.widget-view+json": {
       "model_id": "4118ac38241447689c44ea32fb667779",
       "version_major": 2,
       "version_minor": 0
      },
      "text/plain": [
       "HBox(children=(IntProgress(value=0), HTML(value='')))"
      ]
     },
     "metadata": {},
     "output_type": "display_data"
    },
    {
     "data": {
      "application/vnd.jupyter.widget-view+json": {
       "model_id": "b1c998b2eafe446683fec103219fcbb4",
       "version_major": 2,
       "version_minor": 0
      },
      "text/plain": [
       "HBox(children=(IntProgress(value=0), HTML(value='')))"
      ]
     },
     "metadata": {},
     "output_type": "display_data"
    },
    {
     "data": {
      "application/vnd.jupyter.widget-view+json": {
       "model_id": "52d6467f28b44bcca38022c84e7262d2",
       "version_major": 2,
       "version_minor": 0
      },
      "text/plain": [
       "HBox(children=(IntProgress(value=0), HTML(value='')))"
      ]
     },
     "metadata": {},
     "output_type": "display_data"
    },
    {
     "data": {
      "application/vnd.jupyter.widget-view+json": {
       "model_id": "b4e367fff046431ba84e0d51555bdcce",
       "version_major": 2,
       "version_minor": 0
      },
      "text/plain": [
       "HBox(children=(IntProgress(value=0), HTML(value='')))"
      ]
     },
     "metadata": {},
     "output_type": "display_data"
    },
    {
     "data": {
      "application/vnd.jupyter.widget-view+json": {
       "model_id": "98eeb9b2cdc5465e88e265e3c4060bad",
       "version_major": 2,
       "version_minor": 0
      },
      "text/plain": [
       "HBox(children=(IntProgress(value=0), HTML(value='')))"
      ]
     },
     "metadata": {},
     "output_type": "display_data"
    },
    {
     "data": {
      "application/vnd.jupyter.widget-view+json": {
       "model_id": "6fcdef4e7c174862bfc76583f699d0d1",
       "version_major": 2,
       "version_minor": 0
      },
      "text/plain": [
       "HBox(children=(IntProgress(value=0), HTML(value='')))"
      ]
     },
     "metadata": {},
     "output_type": "display_data"
    },
    {
     "data": {
      "application/vnd.jupyter.widget-view+json": {
       "model_id": "9fc12f038c214202bdc9b1d4484823e8",
       "version_major": 2,
       "version_minor": 0
      },
      "text/plain": [
       "HBox(children=(IntProgress(value=0), HTML(value='')))"
      ]
     },
     "metadata": {},
     "output_type": "display_data"
    },
    {
     "data": {
      "application/vnd.jupyter.widget-view+json": {
       "model_id": "8d17d2b4a9024599a654c9180daba43b",
       "version_major": 2,
       "version_minor": 0
      },
      "text/plain": [
       "HBox(children=(IntProgress(value=0), HTML(value='')))"
      ]
     },
     "metadata": {},
     "output_type": "display_data"
    },
    {
     "data": {
      "application/vnd.jupyter.widget-view+json": {
       "model_id": "e0b9d849c8404365a9b4e7224cbe189c",
       "version_major": 2,
       "version_minor": 0
      },
      "text/plain": [
       "HBox(children=(IntProgress(value=0), HTML(value='')))"
      ]
     },
     "metadata": {},
     "output_type": "display_data"
    },
    {
     "data": {
      "application/vnd.jupyter.widget-view+json": {
       "model_id": "9dbaab850f4c48978d1cab1803c8334a",
       "version_major": 2,
       "version_minor": 0
      },
      "text/plain": [
       "HBox(children=(IntProgress(value=0), HTML(value='')))"
      ]
     },
     "metadata": {},
     "output_type": "display_data"
    },
    {
     "data": {
      "application/vnd.jupyter.widget-view+json": {
       "model_id": "a2ba8446172345d895482417afea2784",
       "version_major": 2,
       "version_minor": 0
      },
      "text/plain": [
       "HBox(children=(IntProgress(value=0), HTML(value='')))"
      ]
     },
     "metadata": {},
     "output_type": "display_data"
    },
    {
     "data": {
      "application/vnd.jupyter.widget-view+json": {
       "model_id": "9f45f683a4d341feb2864e3790450b99",
       "version_major": 2,
       "version_minor": 0
      },
      "text/plain": [
       "HBox(children=(IntProgress(value=0), HTML(value='')))"
      ]
     },
     "metadata": {},
     "output_type": "display_data"
    },
    {
     "data": {
      "application/vnd.jupyter.widget-view+json": {
       "model_id": "f9d279aea22d4210be43d970ddb7d64f",
       "version_major": 2,
       "version_minor": 0
      },
      "text/plain": [
       "HBox(children=(IntProgress(value=0), HTML(value='')))"
      ]
     },
     "metadata": {},
     "output_type": "display_data"
    },
    {
     "data": {
      "application/vnd.jupyter.widget-view+json": {
       "model_id": "03d96d9ddc674f3d89be3b9a9fc5b49b",
       "version_major": 2,
       "version_minor": 0
      },
      "text/plain": [
       "HBox(children=(IntProgress(value=0), HTML(value='')))"
      ]
     },
     "metadata": {},
     "output_type": "display_data"
    },
    {
     "data": {
      "application/vnd.jupyter.widget-view+json": {
       "model_id": "7e5ddeaf2c8c45178e0d66eb9ba7c7a9",
       "version_major": 2,
       "version_minor": 0
      },
      "text/plain": [
       "HBox(children=(IntProgress(value=0), HTML(value='')))"
      ]
     },
     "metadata": {},
     "output_type": "display_data"
    },
    {
     "data": {
      "application/vnd.jupyter.widget-view+json": {
       "model_id": "f7ff4818b7624249a15f5ffb7bccd4ac",
       "version_major": 2,
       "version_minor": 0
      },
      "text/plain": [
       "HBox(children=(IntProgress(value=0), HTML(value='')))"
      ]
     },
     "metadata": {},
     "output_type": "display_data"
    },
    {
     "data": {
      "application/vnd.jupyter.widget-view+json": {
       "model_id": "43758485f4514f488a5035d0d07e387e",
       "version_major": 2,
       "version_minor": 0
      },
      "text/plain": [
       "HBox(children=(IntProgress(value=0), HTML(value='')))"
      ]
     },
     "metadata": {},
     "output_type": "display_data"
    },
    {
     "data": {
      "application/vnd.jupyter.widget-view+json": {
       "model_id": "db05790c2f064b4994b72e7cd5e168c3",
       "version_major": 2,
       "version_minor": 0
      },
      "text/plain": [
       "HBox(children=(IntProgress(value=0), HTML(value='')))"
      ]
     },
     "metadata": {},
     "output_type": "display_data"
    },
    {
     "data": {
      "application/vnd.jupyter.widget-view+json": {
       "model_id": "2cb705fcda9448faaa84d6de2471e37d",
       "version_major": 2,
       "version_minor": 0
      },
      "text/plain": [
       "HBox(children=(IntProgress(value=0), HTML(value='')))"
      ]
     },
     "metadata": {},
     "output_type": "display_data"
    },
    {
     "data": {
      "application/vnd.jupyter.widget-view+json": {
       "model_id": "0c77f8d4d4654512bb365a1158c1faf6",
       "version_major": 2,
       "version_minor": 0
      },
      "text/plain": [
       "HBox(children=(IntProgress(value=0), HTML(value='')))"
      ]
     },
     "metadata": {},
     "output_type": "display_data"
    },
    {
     "data": {
      "application/vnd.jupyter.widget-view+json": {
       "model_id": "41e196df38ad4c5696f63c4e8c37f90c",
       "version_major": 2,
       "version_minor": 0
      },
      "text/plain": [
       "HBox(children=(IntProgress(value=0), HTML(value='')))"
      ]
     },
     "metadata": {},
     "output_type": "display_data"
    },
    {
     "data": {
      "application/vnd.jupyter.widget-view+json": {
       "model_id": "c09ba8930bfa4338a30cfbba2ba59250",
       "version_major": 2,
       "version_minor": 0
      },
      "text/plain": [
       "HBox(children=(IntProgress(value=0), HTML(value='')))"
      ]
     },
     "metadata": {},
     "output_type": "display_data"
    },
    {
     "data": {
      "application/vnd.jupyter.widget-view+json": {
       "model_id": "804cd9deb6144d36bd5ded8330f47c3a",
       "version_major": 2,
       "version_minor": 0
      },
      "text/plain": [
       "HBox(children=(IntProgress(value=0), HTML(value='')))"
      ]
     },
     "metadata": {},
     "output_type": "display_data"
    },
    {
     "data": {
      "application/vnd.jupyter.widget-view+json": {
       "model_id": "d9d4e908a1d5441c9e3ee458f2d3e277",
       "version_major": 2,
       "version_minor": 0
      },
      "text/plain": [
       "HBox(children=(IntProgress(value=0), HTML(value='')))"
      ]
     },
     "metadata": {},
     "output_type": "display_data"
    },
    {
     "data": {
      "application/vnd.jupyter.widget-view+json": {
       "model_id": "011ade0b287e4bd3a41e323bbad3c7e6",
       "version_major": 2,
       "version_minor": 0
      },
      "text/plain": [
       "HBox(children=(IntProgress(value=0), HTML(value='')))"
      ]
     },
     "metadata": {},
     "output_type": "display_data"
    },
    {
     "data": {
      "application/vnd.jupyter.widget-view+json": {
       "model_id": "9ac652b42e45405eb2e427668782d837",
       "version_major": 2,
       "version_minor": 0
      },
      "text/plain": [
       "HBox(children=(IntProgress(value=0), HTML(value='')))"
      ]
     },
     "metadata": {},
     "output_type": "display_data"
    },
    {
     "data": {
      "application/vnd.jupyter.widget-view+json": {
       "model_id": "36ff30774ce548a2ab1164ae3329c32e",
       "version_major": 2,
       "version_minor": 0
      },
      "text/plain": [
       "HBox(children=(IntProgress(value=0), HTML(value='')))"
      ]
     },
     "metadata": {},
     "output_type": "display_data"
    },
    {
     "data": {
      "application/vnd.jupyter.widget-view+json": {
       "model_id": "10c11f7415774433ad637095751764ee",
       "version_major": 2,
       "version_minor": 0
      },
      "text/plain": [
       "HBox(children=(IntProgress(value=0), HTML(value='')))"
      ]
     },
     "metadata": {},
     "output_type": "display_data"
    },
    {
     "data": {
      "application/vnd.jupyter.widget-view+json": {
       "model_id": "da58c6216fc84a1187a303dc42c87128",
       "version_major": 2,
       "version_minor": 0
      },
      "text/plain": [
       "HBox(children=(IntProgress(value=0), HTML(value='')))"
      ]
     },
     "metadata": {},
     "output_type": "display_data"
    },
    {
     "data": {
      "application/vnd.jupyter.widget-view+json": {
       "model_id": "e31d21658ac9472da7ec028c1217fc9f",
       "version_major": 2,
       "version_minor": 0
      },
      "text/plain": [
       "HBox(children=(IntProgress(value=0), HTML(value='')))"
      ]
     },
     "metadata": {},
     "output_type": "display_data"
    },
    {
     "data": {
      "application/vnd.jupyter.widget-view+json": {
       "model_id": "f15b59be22a942c6bbfbcf2b29cc7e8b",
       "version_major": 2,
       "version_minor": 0
      },
      "text/plain": [
       "HBox(children=(IntProgress(value=0), HTML(value='')))"
      ]
     },
     "metadata": {},
     "output_type": "display_data"
    },
    {
     "data": {
      "application/vnd.jupyter.widget-view+json": {
       "model_id": "fccfd325b275401ba0f930a9f005c2c7",
       "version_major": 2,
       "version_minor": 0
      },
      "text/plain": [
       "HBox(children=(IntProgress(value=0), HTML(value='')))"
      ]
     },
     "metadata": {},
     "output_type": "display_data"
    },
    {
     "data": {
      "application/vnd.jupyter.widget-view+json": {
       "model_id": "80ad3c36c0ea4d4288115d67915fd3ab",
       "version_major": 2,
       "version_minor": 0
      },
      "text/plain": [
       "HBox(children=(IntProgress(value=0), HTML(value='')))"
      ]
     },
     "metadata": {},
     "output_type": "display_data"
    },
    {
     "data": {
      "application/vnd.jupyter.widget-view+json": {
       "model_id": "ecb954cdad54433dbc7b5bc5dd3b511d",
       "version_major": 2,
       "version_minor": 0
      },
      "text/plain": [
       "HBox(children=(IntProgress(value=0), HTML(value='')))"
      ]
     },
     "metadata": {},
     "output_type": "display_data"
    },
    {
     "data": {
      "application/vnd.jupyter.widget-view+json": {
       "model_id": "200e5924fbb44517849540077c597c86",
       "version_major": 2,
       "version_minor": 0
      },
      "text/plain": [
       "HBox(children=(IntProgress(value=0), HTML(value='')))"
      ]
     },
     "metadata": {},
     "output_type": "display_data"
    },
    {
     "data": {
      "application/vnd.jupyter.widget-view+json": {
       "model_id": "bc6151c92e13423eb34eb6b411e9e275",
       "version_major": 2,
       "version_minor": 0
      },
      "text/plain": [
       "HBox(children=(IntProgress(value=0), HTML(value='')))"
      ]
     },
     "metadata": {},
     "output_type": "display_data"
    },
    {
     "data": {
      "application/vnd.jupyter.widget-view+json": {
       "model_id": "10ca4afa789e49c7ba0cd91c19bd1e1a",
       "version_major": 2,
       "version_minor": 0
      },
      "text/plain": [
       "HBox(children=(IntProgress(value=0), HTML(value='')))"
      ]
     },
     "metadata": {},
     "output_type": "display_data"
    },
    {
     "data": {
      "application/vnd.jupyter.widget-view+json": {
       "model_id": "6fc6e3cbe5d04634936b11ccb0adf658",
       "version_major": 2,
       "version_minor": 0
      },
      "text/plain": [
       "HBox(children=(IntProgress(value=0), HTML(value='')))"
      ]
     },
     "metadata": {},
     "output_type": "display_data"
    },
    {
     "data": {
      "application/vnd.jupyter.widget-view+json": {
       "model_id": "0547ff10d98d4855a000a0c17375db45",
       "version_major": 2,
       "version_minor": 0
      },
      "text/plain": [
       "HBox(children=(IntProgress(value=0), HTML(value='')))"
      ]
     },
     "metadata": {},
     "output_type": "display_data"
    },
    {
     "data": {
      "application/vnd.jupyter.widget-view+json": {
       "model_id": "a64ccf2b247a4a74aa56e1fb9b8f396f",
       "version_major": 2,
       "version_minor": 0
      },
      "text/plain": [
       "HBox(children=(IntProgress(value=0), HTML(value='')))"
      ]
     },
     "metadata": {},
     "output_type": "display_data"
    },
    {
     "data": {
      "application/vnd.jupyter.widget-view+json": {
       "model_id": "54ad68fd3e8e44ac92e2a18230ec51d3",
       "version_major": 2,
       "version_minor": 0
      },
      "text/plain": [
       "HBox(children=(IntProgress(value=0), HTML(value='')))"
      ]
     },
     "metadata": {},
     "output_type": "display_data"
    },
    {
     "data": {
      "application/vnd.jupyter.widget-view+json": {
       "model_id": "14ec68bd277541cd971064d9d945bdc3",
       "version_major": 2,
       "version_minor": 0
      },
      "text/plain": [
       "HBox(children=(IntProgress(value=0), HTML(value='')))"
      ]
     },
     "metadata": {},
     "output_type": "display_data"
    },
    {
     "data": {
      "application/vnd.jupyter.widget-view+json": {
       "model_id": "34591cfd5ded431c8fbdbb2afeb8ceaa",
       "version_major": 2,
       "version_minor": 0
      },
      "text/plain": [
       "HBox(children=(IntProgress(value=0), HTML(value='')))"
      ]
     },
     "metadata": {},
     "output_type": "display_data"
    },
    {
     "name": "stdout",
     "output_type": "stream",
     "text": [
      "\n"
     ]
    }
   ],
   "source": [
    "model.vec = vec\n",
    "sampled_output = model.sampling_top(Xt, sample_vocab=100, topnum=5)"
   ]
  },
  {
   "cell_type": "code",
   "execution_count": 20,
   "metadata": {},
   "outputs": [],
   "source": [
    "pdump(model, sampled_output, 'sampled')"
   ]
  },
  {
   "cell_type": "code",
   "execution_count": 22,
   "metadata": {},
   "outputs": [],
   "source": [
    "sampled_output = pload(model, 'sampled')"
   ]
  },
  {
   "cell_type": "code",
   "execution_count": 23,
   "metadata": {},
   "outputs": [
    {
     "data": {
      "image/png": "[encoded data removed]",
      "text/plain": [
       "<Figure size 432x288 with 1 Axes>"
      ]
     },
     "metadata": {
      "image/png": {
       "height": 277,
       "width": 388
      },
      "needs_background": "light"
     },
     "output_type": "display_data"
    },
    {
     "data": {
      "image/png": "[encoded data removed]",
      "text/plain": [
       "<Figure size 432x288 with 1 Axes>"
      ]
     },
     "metadata": {
      "image/png": {
       "height": 277,
       "width": 389
      },
      "needs_background": "light"
     },
     "output_type": "display_data"
    }
   ],
   "source": [
    "generate_medians_from_sampling_top(sampled_output, attn_hat, yt_hat, dirname=model.dirname)"
   ]
  },
  {
   "cell_type": "code",
   "execution_count": 24,
   "metadata": {},
   "outputs": [
    {
     "name": "stdout",
     "output_type": "stream",
     "text": [
      "2.4691358024691357 4 162\n"
     ]
    },
    {
     "data": {
      "text/html": [
       "<span style=\"background-color:hsl(360,100%,99.99704963756813%);\">this </span><span style=\"background-color:hsl(360,100%,99.99697311141063%);\">is </span><span style=\"background-color:hsl(360,100%,99.99064622097649%);\">a </span><span style=\"background-color:hsl(360,100%,99.98399899486685%);\">strange </span><span style=\"background-color:hsl(360,100%,99.98553146433551%);\">little </span><span style=\"background-color:hsl(360,100%,99.93165899068117%);\">forgotten </span><span style=\"background-color:hsl(360,100%,99.9435558274854%);\">movie </span><span style=\"background-color:hsl(360,100%,99.990370067826%);\">from </span><span style=\"background-color:hsl(360,100%,99.99531731882598%);\">the </span><span style=\"background-color:hsl(360,100%,99.99074457373354%);\">late </span><span style=\"background-color:hsl(360,100%,99.86630193889141%);\">eighties </span><span style=\"background-color:hsl(360,100%,99.97649461147375%);\">it's </span><span style=\"background-color:hsl(360,100%,99.9964871101838%);\">one </span><span style=\"background-color:hsl(360,100%,99.99343291274272%);\">of </span><span style=\"background-color:hsl(360,100%,99.99540910794167%);\">those </span><span style=\"background-color:hsl(360,100%,99.99148772767512%);\">large </span><span style=\"background-color:hsl(360,100%,99.92563782143407%);\">cast </span><span style=\"background-color:hsl(360,100%,95.23532688617706%);\">kitchen </span><span style=\"background-color:hsl(360,100%,99.93951581418514%);\">sink </span><span style=\"background-color:hsl(360,100%,99.84189588576555%);\">movies </span><span style=\"background-color:hsl(360,100%,99.90323009551503%);\">that </span><span style=\"background-color:hsl(360,100%,95.72713039815426%);\">delivers </span><span style=\"background-color:hsl(360,100%,99.83838986372575%);\">some </span><span style=\"background-color:hsl(360,100%,96.71051949262619%);\">good </span><span style=\"background-color:hsl(360,100%,98.5998154617846%);\">gags </span><span style=\"background-color:hsl(360,100%,99.99383414542535%);\">if </span><span style=\"background-color:hsl(360,100%,99.99820104549144%);\">you </span><span style=\"background-color:hsl(360,100%,99.99906720413492%);\">like </span><span style=\"background-color:hsl(360,100%,99.99800913374202%);\">the </span><span style=\"background-color:hsl(360,100%,99.99901427026998%);\">people </span><span style=\"background-color:hsl(360,100%,99.99727021822764%);\">in </span><span style=\"background-color:hsl(360,100%,99.99051948325359%);\">this </span><span style=\"background-color:hsl(360,100%,99.98205941956257%);\">one </span><span style=\"background-color:hsl(360,100%,99.17719895020127%);\">give </span><span style=\"background-color:hsl(360,100%,99.53202297911048%);\">it </span><span style=\"background-color:hsl(360,100%,98.92354505136609%);\">a </span><span style=\"background-color:hsl(360,100%,67.06233322620392%);border-style : solid;\">shot </span>"
      ],
      "text/plain": [
       "<IPython.core.display.HTML object>"
      ]
     },
     "metadata": {},
     "output_type": "display_data"
    },
    {
     "name": "stdout",
     "output_type": "stream",
     "text": [
      "--------------------\n"
     ]
    },
    {
     "data": {
      "text/html": [
       "<span style=\"background-color:hsl(360,100%,99.99738183614681%);\">this </span><span style=\"background-color:hsl(360,100%,99.99731861025793%);\">is </span><span style=\"background-color:hsl(360,100%,99.99174849290284%);\">a </span><span style=\"background-color:hsl(360,100%,99.98589311289834%);\">strange </span><span style=\"background-color:hsl(360,100%,99.98728769423906%);\">little </span><span style=\"background-color:hsl(360,100%,99.93915438535623%);\">forgotten </span><span style=\"background-color:hsl(360,100%,99.95034809107892%);\">movie </span><span style=\"background-color:hsl(360,100%,99.9914709595032%);\">from </span><span style=\"background-color:hsl(360,100%,99.99587118618365%);\">the </span><span style=\"background-color:hsl(360,100%,99.99193611001829%);\">late </span><span style=\"background-color:hsl(360,100%,99.8852833174169%);\">eighties </span><span style=\"background-color:hsl(360,100%,99.97937472508056%);\">it's </span><span style=\"background-color:hsl(360,100%,99.9968790983985%);\">one </span><span style=\"background-color:hsl(360,100%,99.99417898325191%);\">of </span><span style=\"background-color:hsl(360,100%,99.99589947110508%);\">those </span><span style=\"background-color:hsl(360,100%,99.99232181726256%);\">large </span><span style=\"background-color:hsl(360,100%,99.93294464075007%);\">cast </span><span style=\"background-color:hsl(360,100%,95.51372267305851%);\">kitchen </span><span style=\"background-color:hsl(360,100%,99.94243487599306%);\">sink </span><span style=\"background-color:hsl(360,100%,99.85263301059604%);\">movies </span><span style=\"background-color:hsl(360,100%,99.90333580062725%);\">that </span><span style=\"background-color:hsl(360,100%,95.83783112466335%);\">delivers </span><span style=\"background-color:hsl(360,100%,99.81932118535042%);\">some </span><span style=\"background-color:hsl(360,100%,96.45462445914745%);\">good </span><span style=\"background-color:hsl(360,100%,98.28893188387156%);\">gags </span><span style=\"background-color:hsl(360,100%,99.99320931747206%);\">if </span><span style=\"background-color:hsl(360,100%,99.99826524290256%);\">you </span><span style=\"background-color:hsl(360,100%,99.99909800490059%);\">like </span><span style=\"background-color:hsl(360,100%,99.99802793463459%);\">the </span><span style=\"background-color:hsl(360,100%,99.99897883417361%);\">people </span><span style=\"background-color:hsl(360,100%,99.99635474996467%);\">in </span><span style=\"background-color:hsl(360,100%,99.98171710030874%);\">this </span><span style=\"background-color:hsl(360,100%,99.95544263219927%);\">one </span><span style=\"background-color:hsl(360,100%,98.01942855119705%);\">give </span><span style=\"background-color:hsl(360,100%,98.89209559187293%);\">it </span><span style=\"background-color:hsl(360,100%,97.18156736344099%);\">a </span><span style=\"background-color:hsl(360,100%,70.7676887512207%);border-style : solid;\">all </span>"
      ],
      "text/plain": [
       "<IPython.core.display.HTML object>"
      ]
     },
     "metadata": {},
     "output_type": "display_data"
    },
    {
     "name": "stdout",
     "output_type": "stream",
     "text": [
      "****************************************\n"
     ]
    },
    {
     "data": {
      "text/html": [
       "<span style=\"background-color:hsl(360,100%,99.9971578741679%);\">i </span><span style=\"background-color:hsl(360,100%,99.99630991587765%);\">rented </span><span style=\"background-color:hsl(360,100%,99.99831734985491%);\">this </span><span style=\"background-color:hsl(360,100%,99.99873954420764%);\">movie </span><span style=\"background-color:hsl(360,100%,99.9997527005462%);\">because </span><span style=\"background-color:hsl(360,100%,99.9996684136704%);\">the </span><span style=\"background-color:hsl(360,100%,99.9995357653006%);\">cover </span><span style=\"background-color:hsl(360,100%,99.99908962818154%);\">was </span><span style=\"background-color:hsl(360,100%,99.99949186312733%);\">cool </span><span style=\"background-color:hsl(360,100%,99.99957069730954%);\">looking </span><span style=\"background-color:hsl(360,100%,99.9996193704419%);\">the </span><span style=\"background-color:hsl(360,100%,99.99981035475685%);\">first </span><span style=\"background-color:hsl(360,100%,99.99968654385611%);\">15 </span><span style=\"background-color:hsl(360,100%,99.99858473856875%);\">minutes </span><span style=\"background-color:hsl(360,100%,99.99921660801192%);\">of </span><span style=\"background-color:hsl(360,100%,99.99914366753728%);\">the </span><span style=\"background-color:hsl(360,100%,99.99839459233044%);\">movie </span><span style=\"background-color:hsl(360,100%,99.99919323454378%);\">are </span><span style=\"background-color:hsl(360,100%,99.88206316484138%);\">okay </span><span style=\"background-color:hsl(360,100%,99.99681258341298%);\">and </span><span style=\"background-color:hsl(360,100%,99.96951372013427%);\">somehow </span><span style=\"background-color:hsl(360,100%,99.98807011797908%);\">interesting </span><span style=\"background-color:hsl(360,100%,99.99878997177802%);\">but </span><span style=\"background-color:hsl(360,100%,99.99919825522738%);\">once </span><span style=\"background-color:hsl(360,100%,99.999459587616%);\">the </span><span style=\"background-color:hsl(360,100%,99.99978176670083%);\">young </span><span style=\"background-color:hsl(360,100%,99.99864187639105%);\">woman </span><span style=\"background-color:hsl(360,100%,99.99958828702802%);\">and </span><span style=\"background-color:hsl(360,100%,99.99977919046614%);\">her </span><span style=\"background-color:hsl(360,100%,99.99980920408689%);\">little </span><span style=\"background-color:hsl(360,100%,99.99959554465931%);\">sister </span><span style=\"background-color:hsl(360,100%,99.99939543890832%);\">go </span><span style=\"background-color:hsl(360,100%,99.99881684716456%);\">on </span><span style=\"background-color:hsl(360,100%,99.99947676506054%);\">their </span><span style=\"background-color:hsl(360,100%,99.99927706899143%);\">trip </span><span style=\"background-color:hsl(360,100%,99.99869619878154%);\">everything </span><span style=\"background-color:hsl(360,100%,99.99714880414103%);\">goes </span><span style=\"background-color:hsl(360,100%,99.99795344010636%);\">to </span><span style=\"background-color:hsl(360,100%,99.99023182681412%);\">hell </span><span style=\"background-color:hsl(360,100%,99.99228215165203%);\">and </span><span style=\"background-color:hsl(360,100%,99.9910193386313%);\">the </span><span style=\"background-color:hsl(360,100%,99.94664824916981%);\">movie </span><span style=\"background-color:hsl(360,100%,95.31970024108887%);\">becomes </span><span style=\"background-color:hsl(360,100%,54.95697259902954%);border-style : solid;\">boring </span>"
      ],
      "text/plain": [
       "<IPython.core.display.HTML object>"
      ]
     },
     "metadata": {},
     "output_type": "display_data"
    },
    {
     "name": "stdout",
     "output_type": "stream",
     "text": [
      "--------------------\n"
     ]
    },
    {
     "data": {
      "text/html": [
       "<span style=\"background-color:hsl(360,100%,99.94503181078471%);\">i </span><span style=\"background-color:hsl(360,100%,99.928638007259%);\">rented </span><span style=\"background-color:hsl(360,100%,99.96744872478303%);\">this </span><span style=\"background-color:hsl(360,100%,99.97561495256377%);\">movie </span><span style=\"background-color:hsl(360,100%,99.99521675308642%);\">because </span><span style=\"background-color:hsl(360,100%,99.99358725908678%);\">the </span><span style=\"background-color:hsl(360,100%,99.99102194706211%);\">cover </span><span style=\"background-color:hsl(360,100%,99.98238969274098%);\">was </span><span style=\"background-color:hsl(360,100%,99.99016528818174%);\">cool </span><span style=\"background-color:hsl(360,100%,99.9916948050668%);\">looking </span><span style=\"background-color:hsl(360,100%,99.99263650170178%);\">the </span><span style=\"background-color:hsl(360,100%,99.99633083643857%);\">first </span><span style=\"background-color:hsl(360,100%,99.9939314166113%);\">15 </span><span style=\"background-color:hsl(360,100%,99.97256720380392%);\">minutes </span><span style=\"background-color:hsl(360,100%,99.98481161746895%);\">of </span><span style=\"background-color:hsl(360,100%,99.98339955491247%);\">the </span><span style=\"background-color:hsl(360,100%,99.96883957937825%);\">movie </span><span style=\"background-color:hsl(360,100%,99.98436147870962%);\">are </span><span style=\"background-color:hsl(360,100%,97.70746976137161%);\">okay </span><span style=\"background-color:hsl(360,100%,99.93817867944017%);\">and </span><span style=\"background-color:hsl(360,100%,99.40968030132353%);\">somehow </span><span style=\"background-color:hsl(360,100%,99.76836428977549%);\">interesting </span><span style=\"background-color:hsl(360,100%,99.97657947096741%);\">but </span><span style=\"background-color:hsl(360,100%,99.98431871499633%);\">once </span><span style=\"background-color:hsl(360,100%,99.9894691100053%);\">the </span><span style=\"background-color:hsl(360,100%,99.99574676294287%);\">young </span><span style=\"background-color:hsl(360,100%,99.97346840391401%);\">woman </span><span style=\"background-color:hsl(360,100%,99.99183336112765%);\">and </span><span style=\"background-color:hsl(360,100%,99.99571241096419%);\">her </span><span style=\"background-color:hsl(360,100%,99.99623283256369%);\">little </span><span style=\"background-color:hsl(360,100%,99.991987246176%);\">sister </span><span style=\"background-color:hsl(360,100%,99.98810196120758%);\">go </span><span style=\"background-color:hsl(360,100%,99.97599558555521%);\">on </span><span style=\"background-color:hsl(360,100%,99.98896766919643%);\">their </span><span style=\"background-color:hsl(360,100%,99.98577189981006%);\">trip </span><span style=\"background-color:hsl(360,100%,99.97357699321583%);\">everything </span><span style=\"background-color:hsl(360,100%,99.9558822484687%);\">goes </span><span style=\"background-color:hsl(360,100%,99.96548726630863%);\">to </span><span style=\"background-color:hsl(360,100%,99.79459564201534%);\">hell </span><span style=\"background-color:hsl(360,100%,99.83186245663092%);\">and </span><span style=\"background-color:hsl(360,100%,99.91187092382461%);\">the </span><span style=\"background-color:hsl(360,100%,99.61153713520616%);\">movie </span><span style=\"background-color:hsl(360,100%,91.80374667048454%);\">becomes </span><span style=\"background-color:hsl(360,100%,62.85587251186371%);border-style : solid;\">only </span>"
      ],
      "text/plain": [
       "<IPython.core.display.HTML object>"
      ]
     },
     "metadata": {},
     "output_type": "display_data"
    },
    {
     "name": "stdout",
     "output_type": "stream",
     "text": [
      "****************************************\n"
     ]
    },
    {
     "data": {
      "text/html": [
       "<span style=\"background-color:hsl(360,100%,99.98271768854465%);\">steve </span><span style=\"background-color:hsl(360,100%,99.91705479915254%);\">martin </span><span style=\"background-color:hsl(360,100%,99.89412458380684%);\">looks </span><span style=\"background-color:hsl(360,100%,99.99121490691323%);\">like </span><span style=\"background-color:hsl(360,100%,99.97957521554781%);\">he's </span><span style=\"background-color:hsl(360,100%,99.99323388692574%);\">had </span><span style=\"background-color:hsl(360,100%,99.99058666580822%);\">a </span><span style=\"background-color:hsl(360,100%,99.99138153871172%);\">face </span><span style=\"background-color:hsl(360,100%,98.17109908908606%);\">lift </span><span style=\"background-color:hsl(360,100%,99.99298777984222%);\">something </span><span style=\"background-color:hsl(360,100%,99.99525082639593%);\">very </span><span style=\"background-color:hsl(360,100%,99.99420567219204%);\">strange </span><span style=\"background-color:hsl(360,100%,99.9958152668114%);\">about </span><span style=\"background-color:hsl(360,100%,99.99749444050394%);\">his </span><span style=\"background-color:hsl(360,100%,99.99648100820195%);\">face </span><span style=\"background-color:hsl(360,100%,99.99311439823941%);\">i </span><span style=\"background-color:hsl(360,100%,99.99494987932849%);\">usually </span><span style=\"background-color:hsl(360,100%,99.99740673465567%);\">like </span><span style=\"background-color:hsl(360,100%,99.9961352943501%);\">anything </span><span style=\"background-color:hsl(360,100%,99.99546135186392%);\">steve </span><span style=\"background-color:hsl(360,100%,99.98170287144603%);\">does </span><span style=\"background-color:hsl(360,100%,99.98755674314452%);\">but </span><span style=\"background-color:hsl(360,100%,99.87159742740914%);\">this </span><span style=\"background-color:hsl(360,100%,99.7908532153815%);\">movie </span><span style=\"background-color:hsl(360,100%,99.86486890120432%);\">comes </span><span style=\"background-color:hsl(360,100%,99.51233961619437%);\">off </span><span style=\"background-color:hsl(360,100%,99.76697540841997%);\">as </span><span style=\"background-color:hsl(360,100%,99.38254598528147%);\">trashy </span><span style=\"background-color:hsl(360,100%,99.91437509888783%);\">not </span><span style=\"background-color:hsl(360,100%,99.99105629322003%);\">funny </span><span style=\"background-color:hsl(360,100%,99.4464869145304%);\">didn't </span><span style=\"background-color:hsl(360,100%,99.98826661976636%);\">think </span><span style=\"background-color:hsl(360,100%,99.9772888229927%);\">&lt;UNK&gt; </span><span style=\"background-color:hsl(360,100%,99.99050775149954%);\">encouraging </span><span style=\"background-color:hsl(360,100%,99.9976395189151%);\">him </span><span style=\"background-color:hsl(360,100%,99.99285715748556%);\">to </span><span style=\"background-color:hsl(360,100%,99.99549383210251%);\">be </span><span style=\"background-color:hsl(360,100%,99.99416695609398%);\">rough </span><span style=\"background-color:hsl(360,100%,99.99670615252398%);\">with </span><span style=\"background-color:hsl(360,100%,99.99748654026916%);\">his </span><span style=\"background-color:hsl(360,100%,99.9968438896758%);\">wife </span><span style=\"background-color:hsl(360,100%,99.99327841069316%);\">was </span><span style=\"background-color:hsl(360,100%,99.98635883530369%);\">a </span><span style=\"background-color:hsl(360,100%,99.87805490382016%);\">good </span><span style=\"background-color:hsl(360,100%,99.98707738122903%);\">message </span><span style=\"background-color:hsl(360,100%,99.97592498693848%);\">to </span><span style=\"background-color:hsl(360,100%,99.98054012248758%);\">be </span><span style=\"background-color:hsl(360,100%,99.89146161824465%);\">sending </span><span style=\"background-color:hsl(360,100%,99.98063289385755%);\">out </span><span style=\"background-color:hsl(360,100%,99.96311895665713%);\">to </span><span style=\"background-color:hsl(360,100%,99.57548379898071%);\">teens </span><span style=\"background-color:hsl(360,100%,96.92138563841581%);\">watching </span><span style=\"background-color:hsl(360,100%,92.86653846502304%);\">this </span><span style=\"background-color:hsl(360,100%,65.70223271846771%);border-style : solid;\">film </span>"
      ],
      "text/plain": [
       "<IPython.core.display.HTML object>"
      ]
     },
     "metadata": {},
     "output_type": "display_data"
    },
    {
     "name": "stdout",
     "output_type": "stream",
     "text": [
      "--------------------\n"
     ]
    },
    {
     "data": {
      "text/html": [
       "<span style=\"background-color:hsl(360,100%,99.92643419536762%);\">steve </span><span style=\"background-color:hsl(360,100%,99.64692271314561%);\">martin </span><span style=\"background-color:hsl(360,100%,99.54931680113077%);\">looks </span><span style=\"background-color:hsl(360,100%,99.96260486077517%);\">like </span><span style=\"background-color:hsl(360,100%,99.91305746953003%);\">he's </span><span style=\"background-color:hsl(360,100%,99.9711985787144%);\">had </span><span style=\"background-color:hsl(360,100%,99.95993100164924%);\">a </span><span style=\"background-color:hsl(360,100%,99.96331551810727%);\">face </span><span style=\"background-color:hsl(360,100%,92.21516996622086%);\">lift </span><span style=\"background-color:hsl(360,100%,99.97015131521039%);\">something </span><span style=\"background-color:hsl(360,100%,99.97978431347292%);\">very </span><span style=\"background-color:hsl(360,100%,99.97533505375031%);\">strange </span><span style=\"background-color:hsl(360,100%,99.9821865974809%);\">about </span><span style=\"background-color:hsl(360,100%,99.98933452734491%);\">his </span><span style=\"background-color:hsl(360,100%,99.98502035305137%);\">face </span><span style=\"background-color:hsl(360,100%,99.97068808006588%);\">i </span><span style=\"background-color:hsl(360,100%,99.97850012150593%);\">usually </span><span style=\"background-color:hsl(360,100%,99.98895991302561%);\">like </span><span style=\"background-color:hsl(360,100%,99.98354401177494%);\">anything </span><span style=\"background-color:hsl(360,100%,99.98067457345314%);\">steve </span><span style=\"background-color:hsl(360,100%,99.92204526206478%);\">does </span><span style=\"background-color:hsl(360,100%,99.94697482907213%);\">but </span><span style=\"background-color:hsl(360,100%,99.45310759358108%);\">this </span><span style=\"background-color:hsl(360,100%,99.10942483693361%);\">movie </span><span style=\"background-color:hsl(360,100%,99.42313428036869%);\">comes </span><span style=\"background-color:hsl(360,100%,97.91653994470835%);\">off </span><span style=\"background-color:hsl(360,100%,99.01265809312463%);\">as </span><span style=\"background-color:hsl(360,100%,97.37703036516905%);\">trashy </span><span style=\"background-color:hsl(360,100%,99.63340440299362%);\">not </span><span style=\"background-color:hsl(360,100%,99.96195554267615%);\">funny </span><span style=\"background-color:hsl(360,100%,97.62001875787973%);\">didn't </span><span style=\"background-color:hsl(360,100%,99.95029992423952%);\">think </span><span style=\"background-color:hsl(360,100%,99.90339649957605%);\">&lt;UNK&gt; </span><span style=\"background-color:hsl(360,100%,99.95954210753553%);\">encouraging </span><span style=\"background-color:hsl(360,100%,99.9899495356658%);\">him </span><span style=\"background-color:hsl(360,100%,99.96936077659484%);\">to </span><span style=\"background-color:hsl(360,100%,99.9806579973665%);\">be </span><span style=\"background-color:hsl(360,100%,99.97507378284354%);\">rough </span><span style=\"background-color:hsl(360,100%,99.98582856060239%);\">with </span><span style=\"background-color:hsl(360,100%,99.98923199746059%);\">his </span><span style=\"background-color:hsl(360,100%,99.9864143479499%);\">wife </span><span style=\"background-color:hsl(360,100%,99.97168506961316%);\">was </span><span style=\"background-color:hsl(360,100%,99.94775158120319%);\">a </span><span style=\"background-color:hsl(360,100%,99.65879372321069%);\">good </span><span style=\"background-color:hsl(360,100%,99.95315003325231%);\">message </span><span style=\"background-color:hsl(360,100%,99.92425841046497%);\">to </span><span style=\"background-color:hsl(360,100%,99.9527538951952%);\">be </span><span style=\"background-color:hsl(360,100%,99.85127900727093%);\">sending </span><span style=\"background-color:hsl(360,100%,99.97243131219875%);\">out </span><span style=\"background-color:hsl(360,100%,99.94545879890211%);\">to </span><span style=\"background-color:hsl(360,100%,99.87343305256218%);\">teens </span><span style=\"background-color:hsl(360,100%,99.71187273040414%);\">watching </span><span style=\"background-color:hsl(360,100%,99.201475456357%);\">this </span><span style=\"background-color:hsl(360,100%,72.07747399806976%);border-style : solid;\">teens </span>"
      ],
      "text/plain": [
       "<IPython.core.display.HTML object>"
      ]
     },
     "metadata": {},
     "output_type": "display_data"
    },
    {
     "name": "stdout",
     "output_type": "stream",
     "text": [
      "****************************************\n"
     ]
    },
    {
     "data": {
      "text/html": [
       "<span style=\"background-color:hsl(360,100%,99.99644813651685%);\">this </span><span style=\"background-color:hsl(360,100%,99.99337180925068%);\">is </span><span style=\"background-color:hsl(360,100%,99.01126716285944%);\">actually </span><span style=\"background-color:hsl(360,100%,99.92745586205274%);\">the </span><span style=\"background-color:hsl(360,100%,99.74869503639638%);\">first </span><span style=\"background-color:hsl(360,100%,98.91575612127781%);\">movie </span><span style=\"background-color:hsl(360,100%,99.96546473703347%);\">i </span><span style=\"background-color:hsl(360,100%,99.98698561248602%);\">ever </span><span style=\"background-color:hsl(360,100%,99.99731166972197%);\">saw </span><span style=\"background-color:hsl(360,100%,99.9989436452779%);\">in </span><span style=\"background-color:hsl(360,100%,99.99891134293648%);\">a </span><span style=\"background-color:hsl(360,100%,99.99889436676312%);\">theatre </span><span style=\"background-color:hsl(360,100%,99.999795479971%);\">where </span><span style=\"background-color:hsl(360,100%,99.99928882607492%);\">the </span><span style=\"background-color:hsl(360,100%,99.99947962114675%);\">people </span><span style=\"background-color:hsl(360,100%,99.99900192060522%);\">didn't </span><span style=\"background-color:hsl(360,100%,99.99980949794463%);\">leave </span><span style=\"background-color:hsl(360,100%,99.99948126369418%);\">immediately </span><span style=\"background-color:hsl(360,100%,99.9998242782226%);\">when </span><span style=\"background-color:hsl(360,100%,99.99952307057356%);\">the </span><span style=\"background-color:hsl(360,100%,99.9993839407125%);\">end </span><span style=\"background-color:hsl(360,100%,99.99923520199445%);\">credits </span><span style=\"background-color:hsl(360,100%,99.99978644425482%);\">started </span><span style=\"background-color:hsl(360,100%,99.99960164200274%);\">in </span><span style=\"background-color:hsl(360,100%,99.99914676309345%);\">&lt;UNK&gt; </span><span style=\"background-color:hsl(360,100%,99.99949820016809%);\">they </span><span style=\"background-color:hsl(360,100%,99.9928724981146%);\">remained </span><span style=\"background-color:hsl(360,100%,99.9961749301292%);\">seated </span><span style=\"background-color:hsl(360,100%,99.99921183398328%);\">for </span><span style=\"background-color:hsl(360,100%,99.99924049629954%);\">a </span><span style=\"background-color:hsl(360,100%,99.99783575603942%);\">few </span><span style=\"background-color:hsl(360,100%,99.99411733988381%);\">minutes </span><span style=\"background-color:hsl(360,100%,99.97077016741969%);\">gaping </span><span style=\"background-color:hsl(360,100%,99.99802896727488%);\">with </span><span style=\"background-color:hsl(360,100%,99.99859537620068%);\">their </span><span style=\"background-color:hsl(360,100%,99.99454072858498%);\">mouths </span><span style=\"background-color:hsl(360,100%,99.99788812147017%);\">open </span><span style=\"background-color:hsl(360,100%,99.99921128728602%);\">staring </span><span style=\"background-color:hsl(360,100%,99.9996639470055%);\">in </span><span style=\"background-color:hsl(360,100%,99.99922730248727%);\">the </span><span style=\"background-color:hsl(360,100%,99.9962590274663%);\">infinite </span><span style=\"background-color:hsl(360,100%,99.87424477003515%);\">trying </span><span style=\"background-color:hsl(360,100%,99.99866503985686%);\">to </span><span style=\"background-color:hsl(360,100%,99.99954344366415%);\">understand </span><span style=\"background-color:hsl(360,100%,99.99962974861774%);\">what </span><span style=\"background-color:hsl(360,100%,99.99929457376311%);\">they </span><span style=\"background-color:hsl(360,100%,99.98993897315813%);\">&lt;UNK&gt; </span><span style=\"background-color:hsl(360,100%,99.88136742031202%);\">just </span><span style=\"background-color:hsl(360,100%,99.99810698009242%);\">seen </span><span style=\"background-color:hsl(360,100%,99.9989172095411%);\">br </span><span style=\"background-color:hsl(360,100%,99.9991137532561%);\">br </span><span style=\"background-color:hsl(360,100%,99.99887835128902%);\">the </span><span style=\"background-color:hsl(360,100%,99.99921767357591%);\">only </span><span style=\"background-color:hsl(360,100%,99.99955819121169%);\">thing </span><span style=\"background-color:hsl(360,100%,99.99681278241042%);\">i </span><span style=\"background-color:hsl(360,100%,99.9994969198724%);\">can </span><span style=\"background-color:hsl(360,100%,99.99937283041618%);\">say </span><span style=\"background-color:hsl(360,100%,99.99792480703036%);\">try </span><span style=\"background-color:hsl(360,100%,99.99911689765213%);\">to </span><span style=\"background-color:hsl(360,100%,99.99805763873155%);\">go </span><span style=\"background-color:hsl(360,100%,99.98900107311783%);\">watch </span><span style=\"background-color:hsl(360,100%,99.98854089353699%);\">this </span><span style=\"background-color:hsl(360,100%,99.98485255637206%);\">movie </span><span style=\"background-color:hsl(360,100%,99.99860578864173%);\">with </span><span style=\"background-color:hsl(360,100%,99.99938885202937%);\">as </span><span style=\"background-color:hsl(360,100%,99.99980324766966%);\">little </span><span style=\"background-color:hsl(360,100%,99.99976955120928%);\">knowledge </span><span style=\"background-color:hsl(360,100%,99.99979424787853%);\">about </span><span style=\"background-color:hsl(360,100%,99.99912440234766%);\">it </span><span style=\"background-color:hsl(360,100%,99.99937572638373%);\">as </span><span style=\"background-color:hsl(360,100%,99.99792642756802%);\">possible </span><span style=\"background-color:hsl(360,100%,99.94165712269023%);\">so </span><span style=\"background-color:hsl(360,100%,99.74397970363498%);\">did </span><span style=\"background-color:hsl(360,100%,99.61298890411854%);\">i </span><span style=\"background-color:hsl(360,100%,99.79207103606313%);\">i </span><span style=\"background-color:hsl(360,100%,99.68656315468252%);\">gave </span><span style=\"background-color:hsl(360,100%,97.68095202744007%);\">it </span><span style=\"background-color:hsl(360,100%,87.32983320951462%);\">a </span><span style=\"background-color:hsl(360,100%,69.06251907348633%);border-style : solid;\">10 </span>"
      ],
      "text/plain": [
       "<IPython.core.display.HTML object>"
      ]
     },
     "metadata": {},
     "output_type": "display_data"
    },
    {
     "name": "stdout",
     "output_type": "stream",
     "text": [
      "--------------------\n"
     ]
    },
    {
     "data": {
      "text/html": [
       "<span style=\"background-color:hsl(360,100%,99.98010777198942%);\">this </span><span style=\"background-color:hsl(360,100%,99.96287886169739%);\">is </span><span style=\"background-color:hsl(360,100%,94.46260593831539%);\">actually </span><span style=\"background-color:hsl(360,100%,99.59371429868042%);\">the </span><span style=\"background-color:hsl(360,100%,98.59255524352193%);\">first </span><span style=\"background-color:hsl(360,100%,93.92764382064342%);\">movie </span><span style=\"background-color:hsl(360,100%,99.80658306740224%);\">i </span><span style=\"background-color:hsl(360,100%,99.92711234372109%);\">ever </span><span style=\"background-color:hsl(360,100%,99.98494386964012%);\">saw </span><span style=\"background-color:hsl(360,100%,99.99408382936963%);\">in </span><span style=\"background-color:hsl(360,100%,99.99390290722658%);\">a </span><span style=\"background-color:hsl(360,100%,99.99380781300715%);\">theatre </span><span style=\"background-color:hsl(360,100%,99.998854572641%);\">where </span><span style=\"background-color:hsl(360,100%,99.9960170367558%);\">the </span><span style=\"background-color:hsl(360,100%,99.99708558225393%);\">people </span><span style=\"background-color:hsl(360,100%,99.99441001673404%);\">didn't </span><span style=\"background-color:hsl(360,100%,99.99893305985097%);\">leave </span><span style=\"background-color:hsl(360,100%,99.99709478415753%);\">immediately </span><span style=\"background-color:hsl(360,100%,99.99901583641986%);\">when </span><span style=\"background-color:hsl(360,100%,99.9973287965986%);\">the </span><span style=\"background-color:hsl(360,100%,99.9965494575008%);\">end </span><span style=\"background-color:hsl(360,100%,99.99571611188003%);\">credits </span><span style=\"background-color:hsl(360,100%,99.99880383402342%);\">started </span><span style=\"background-color:hsl(360,100%,99.99776865370222%);\">in </span><span style=\"background-color:hsl(360,100%,99.99522039834119%);\">&lt;UNK&gt; </span><span style=\"background-color:hsl(360,100%,99.99718872441008%);\">they </span><span style=\"background-color:hsl(360,100%,99.96006681758445%);\">remained </span><span style=\"background-color:hsl(360,100%,99.9785772699397%);\">seated </span><span style=\"background-color:hsl(360,100%,99.9955837327434%);\">for </span><span style=\"background-color:hsl(360,100%,99.99574434696115%);\">a </span><span style=\"background-color:hsl(360,100%,99.987872516067%);\">few </span><span style=\"background-color:hsl(360,100%,99.96702395728789%);\">minutes </span><span style=\"background-color:hsl(360,100%,99.83649087371305%);\">gaping </span><span style=\"background-color:hsl(360,100%,99.98895924290991%);\">with </span><span style=\"background-color:hsl(360,100%,99.99213872215478%);\">their </span><span style=\"background-color:hsl(360,100%,99.96938786352985%);\">mouths </span><span style=\"background-color:hsl(360,100%,99.98814158680034%);\">open </span><span style=\"background-color:hsl(360,100%,99.99557486298727%);\">staring </span><span style=\"background-color:hsl(360,100%,99.99811559337104%);\">in </span><span style=\"background-color:hsl(360,100%,99.99567591185041%);\">the </span><span style=\"background-color:hsl(360,100%,99.97900764574297%);\">infinite </span><span style=\"background-color:hsl(360,100%,99.29564078338444%);\">trying </span><span style=\"background-color:hsl(360,100%,99.99264091311488%);\">to </span><span style=\"background-color:hsl(360,100%,99.99750337883597%);\">understand </span><span style=\"background-color:hsl(360,100%,99.99795103831275%);\">what </span><span style=\"background-color:hsl(360,100%,99.99609108199365%);\">they </span><span style=\"background-color:hsl(360,100%,99.94587101973593%);\">&lt;UNK&gt; </span><span style=\"background-color:hsl(360,100%,99.36633054167032%);\">just </span><span style=\"background-color:hsl(360,100%,99.99034643551568%);\">seen </span><span style=\"background-color:hsl(360,100%,99.99429618073918%);\">br </span><span style=\"background-color:hsl(360,100%,99.99541951801802%);\">br </span><span style=\"background-color:hsl(360,100%,99.99414949197671%);\">the </span><span style=\"background-color:hsl(360,100%,99.99575580077362%);\">only </span><span style=\"background-color:hsl(360,100%,99.99764261301607%);\">thing </span><span style=\"background-color:hsl(360,100%,99.98380830220412%);\">i </span><span style=\"background-color:hsl(360,100%,99.9973279202095%);\">can </span><span style=\"background-color:hsl(360,100%,99.99668055679649%);\">say </span><span style=\"background-color:hsl(360,100%,99.98911363873049%);\">try </span><span style=\"background-color:hsl(360,100%,99.99533929039899%);\">to </span><span style=\"background-color:hsl(360,100%,99.99062261704239%);\">go </span><span style=\"background-color:hsl(360,100%,99.95199482946191%);\">watch </span><span style=\"background-color:hsl(360,100%,99.94969955296256%);\">this </span><span style=\"background-color:hsl(360,100%,99.93701241910458%);\">movie </span><span style=\"background-color:hsl(360,100%,99.99338865163736%);\">with </span><span style=\"background-color:hsl(360,100%,99.99710917236371%);\">as </span><span style=\"background-color:hsl(360,100%,99.9990256822457%);\">little </span><span style=\"background-color:hsl(360,100%,99.99888558331804%);\">knowledge </span><span style=\"background-color:hsl(360,100%,99.99901285482338%);\">about </span><span style=\"background-color:hsl(360,100%,99.99649216333637%);\">it </span><span style=\"background-color:hsl(360,100%,99.99758010180813%);\">as </span><span style=\"background-color:hsl(360,100%,99.99419157102238%);\">possible </span><span style=\"background-color:hsl(360,100%,99.86708037322387%);\">so </span><span style=\"background-color:hsl(360,100%,99.42707531154156%);\">did </span><span style=\"background-color:hsl(360,100%,99.18376235291362%);\">i </span><span style=\"background-color:hsl(360,100%,99.70396610442549%);\">i </span><span style=\"background-color:hsl(360,100%,99.79043907951564%);\">gave </span><span style=\"background-color:hsl(360,100%,98.17809760570526%);\">it </span><span style=\"background-color:hsl(360,100%,95.40083147585392%);\">a </span><span style=\"background-color:hsl(360,100%,74.3135392665863%);border-style : solid;\">as </span>"
      ],
      "text/plain": [
       "<IPython.core.display.HTML object>"
      ]
     },
     "metadata": {},
     "output_type": "display_data"
    },
    {
     "name": "stdout",
     "output_type": "stream",
     "text": [
      "****************************************\n"
     ]
    }
   ],
   "source": [
    "distractors = get_distractors(sampled_output, attn_hat)\n",
    "print_few_distractors(vec, Xt, attn_hat, sampled_output, distractors)"
   ]
  },
  {
   "cell_type": "markdown",
   "metadata": {},
   "source": [
    "**Gradients**\n",
    "============="
   ]
  },
  {
   "cell_type": "code",
   "execution_count": 25,
   "metadata": {},
   "outputs": [],
   "source": [
    "grads = model.gradient_mem(Xt)\n",
    "process_grads(grads)"
   ]
  },
  {
   "cell_type": "code",
   "execution_count": 26,
   "metadata": {},
   "outputs": [
    {
     "data": {
      "image/png": "[encoded data removed]",
      "text/plain": [
       "<Figure size 1080x1080 with 3 Axes>"
      ]
     },
     "metadata": {
      "image/png": {
       "height": 367,
       "width": 1078
      },
      "needs_background": "light"
     },
     "output_type": "display_data"
    }
   ],
   "source": [
    "plot_grads(Xt, attn_hat, grads, dirname=model.dirname)"
   ]
  },
  {
   "cell_type": "markdown",
   "metadata": {},
   "source": [
    "**Permutation**\n",
    "==========="
   ]
  },
  {
   "cell_type": "code",
   "execution_count": 27,
   "metadata": {},
   "outputs": [
    {
     "data": {
      "application/vnd.jupyter.widget-view+json": {
       "model_id": "3f955c7e90294cddbe1f3792fb2e1167",
       "version_major": 2,
       "version_minor": 0
      },
      "text/plain": [
       "HBox(children=(IntProgress(value=0, max=137), HTML(value='')))"
      ]
     },
     "metadata": {},
     "output_type": "display_data"
    },
    {
     "data": {
      "application/vnd.jupyter.widget-view+json": {
       "model_id": "d1d02e7e575b48c4871d111ea6ea57b5",
       "version_major": 2,
       "version_minor": 0
      },
      "text/plain": [
       "HBox(children=(IntProgress(value=0), HTML(value='')))"
      ]
     },
     "metadata": {},
     "output_type": "display_data"
    },
    {
     "data": {
      "application/vnd.jupyter.widget-view+json": {
       "model_id": "fa8c0cbb2b984814b80f3bcf4729f2a8",
       "version_major": 2,
       "version_minor": 0
      },
      "text/plain": [
       "HBox(children=(IntProgress(value=0), HTML(value='')))"
      ]
     },
     "metadata": {},
     "output_type": "display_data"
    },
    {
     "data": {
      "application/vnd.jupyter.widget-view+json": {
       "model_id": "cf953b58433b41c1a6a00fcf157405c8",
       "version_major": 2,
       "version_minor": 0
      },
      "text/plain": [
       "HBox(children=(IntProgress(value=0), HTML(value='')))"
      ]
     },
     "metadata": {},
     "output_type": "display_data"
    },
    {
     "data": {
      "application/vnd.jupyter.widget-view+json": {
       "model_id": "2f1d0488c4474333964750cf14cc5b13",
       "version_major": 2,
       "version_minor": 0
      },
      "text/plain": [
       "HBox(children=(IntProgress(value=0), HTML(value='')))"
      ]
     },
     "metadata": {},
     "output_type": "display_data"
    },
    {
     "data": {
      "application/vnd.jupyter.widget-view+json": {
       "model_id": "33102612200246e5ab5f05f38f018784",
       "version_major": 2,
       "version_minor": 0
      },
      "text/plain": [
       "HBox(children=(IntProgress(value=0), HTML(value='')))"
      ]
     },
     "metadata": {},
     "output_type": "display_data"
    },
    {
     "data": {
      "application/vnd.jupyter.widget-view+json": {
       "model_id": "37478d4a72844dc0bea84dd8ea402e0f",
       "version_major": 2,
       "version_minor": 0
      },
      "text/plain": [
       "HBox(children=(IntProgress(value=0), HTML(value='')))"
      ]
     },
     "metadata": {},
     "output_type": "display_data"
    },
    {
     "data": {
      "application/vnd.jupyter.widget-view+json": {
       "model_id": "79597efc4ecc4780b5aed4d6d78db044",
       "version_major": 2,
       "version_minor": 0
      },
      "text/plain": [
       "HBox(children=(IntProgress(value=0), HTML(value='')))"
      ]
     },
     "metadata": {},
     "output_type": "display_data"
    },
    {
     "data": {
      "application/vnd.jupyter.widget-view+json": {
       "model_id": "e46ee735da7140b8b46acb91975ef658",
       "version_major": 2,
       "version_minor": 0
      },
      "text/plain": [
       "HBox(children=(IntProgress(value=0), HTML(value='')))"
      ]
     },
     "metadata": {},
     "output_type": "display_data"
    },
    {
     "data": {
      "application/vnd.jupyter.widget-view+json": {
       "model_id": "8e59c380ea1c439a9f202a6bc2f0d52d",
       "version_major": 2,
       "version_minor": 0
      },
      "text/plain": [
       "HBox(children=(IntProgress(value=0), HTML(value='')))"
      ]
     },
     "metadata": {},
     "output_type": "display_data"
    },
    {
     "data": {
      "application/vnd.jupyter.widget-view+json": {
       "model_id": "00c1dae28044429a8ba3137459d49144",
       "version_major": 2,
       "version_minor": 0
      },
      "text/plain": [
       "HBox(children=(IntProgress(value=0), HTML(value='')))"
      ]
     },
     "metadata": {},
     "output_type": "display_data"
    },
    {
     "data": {
      "application/vnd.jupyter.widget-view+json": {
       "model_id": "60c8ceb797ae4f9b82663b1e13f5d0d8",
       "version_major": 2,
       "version_minor": 0
      },
      "text/plain": [
       "HBox(children=(IntProgress(value=0), HTML(value='')))"
      ]
     },
     "metadata": {},
     "output_type": "display_data"
    },
    {
     "data": {
      "application/vnd.jupyter.widget-view+json": {
       "model_id": "b6d96562a37241b08cdab5f2b4a78505",
       "version_major": 2,
       "version_minor": 0
      },
      "text/plain": [
       "HBox(children=(IntProgress(value=0), HTML(value='')))"
      ]
     },
     "metadata": {},
     "output_type": "display_data"
    },
    {
     "data": {
      "application/vnd.jupyter.widget-view+json": {
       "model_id": "279d2aad52c54bc79003866fbb741900",
       "version_major": 2,
       "version_minor": 0
      },
      "text/plain": [
       "HBox(children=(IntProgress(value=0), HTML(value='')))"
      ]
     },
     "metadata": {},
     "output_type": "display_data"
    },
    {
     "data": {
      "application/vnd.jupyter.widget-view+json": {
       "model_id": "b725cab45a4b4607b6786887aa8dcc21",
       "version_major": 2,
       "version_minor": 0
      },
      "text/plain": [
       "HBox(children=(IntProgress(value=0), HTML(value='')))"
      ]
     },
     "metadata": {},
     "output_type": "display_data"
    },
    {
     "data": {
      "application/vnd.jupyter.widget-view+json": {
       "model_id": "9132e5a93d8747f599033d3e46b8f80d",
       "version_major": 2,
       "version_minor": 0
      },
      "text/plain": [
       "HBox(children=(IntProgress(value=0), HTML(value='')))"
      ]
     },
     "metadata": {},
     "output_type": "display_data"
    },
    {
     "data": {
      "application/vnd.jupyter.widget-view+json": {
       "model_id": "7bda58ec89fb4c30a70d875ed010a7ad",
       "version_major": 2,
       "version_minor": 0
      },
      "text/plain": [
       "HBox(children=(IntProgress(value=0), HTML(value='')))"
      ]
     },
     "metadata": {},
     "output_type": "display_data"
    },
    {
     "data": {
      "application/vnd.jupyter.widget-view+json": {
       "model_id": "92d407d8cdaa4ac5a7545f0509ecbd4d",
       "version_major": 2,
       "version_minor": 0
      },
      "text/plain": [
       "HBox(children=(IntProgress(value=0), HTML(value='')))"
      ]
     },
     "metadata": {},
     "output_type": "display_data"
    },
    {
     "data": {
      "application/vnd.jupyter.widget-view+json": {
       "model_id": "4bf0b95071134e9998c79886a90f9ed2",
       "version_major": 2,
       "version_minor": 0
      },
      "text/plain": [
       "HBox(children=(IntProgress(value=0), HTML(value='')))"
      ]
     },
     "metadata": {},
     "output_type": "display_data"
    },
    {
     "data": {
      "application/vnd.jupyter.widget-view+json": {
       "model_id": "98c78de86a8d4531b5e69607cd0b0161",
       "version_major": 2,
       "version_minor": 0
      },
      "text/plain": [
       "HBox(children=(IntProgress(value=0), HTML(value='')))"
      ]
     },
     "metadata": {},
     "output_type": "display_data"
    },
    {
     "data": {
      "application/vnd.jupyter.widget-view+json": {
       "model_id": "b230c49c97a944bbaa40227487374827",
       "version_major": 2,
       "version_minor": 0
      },
      "text/plain": [
       "HBox(children=(IntProgress(value=0), HTML(value='')))"
      ]
     },
     "metadata": {},
     "output_type": "display_data"
    },
    {
     "data": {
      "application/vnd.jupyter.widget-view+json": {
       "model_id": "737c0c60426344b3a82c4ca8b5cd0522",
       "version_major": 2,
       "version_minor": 0
      },
      "text/plain": [
       "HBox(children=(IntProgress(value=0), HTML(value='')))"
      ]
     },
     "metadata": {},
     "output_type": "display_data"
    },
    {
     "data": {
      "application/vnd.jupyter.widget-view+json": {
       "model_id": "e30ceca0fcee48f8bf1d7ead1683ee89",
       "version_major": 2,
       "version_minor": 0
      },
      "text/plain": [
       "HBox(children=(IntProgress(value=0), HTML(value='')))"
      ]
     },
     "metadata": {},
     "output_type": "display_data"
    },
    {
     "data": {
      "application/vnd.jupyter.widget-view+json": {
       "model_id": "fea658e1b94f4d10a909413a7006b218",
       "version_major": 2,
       "version_minor": 0
      },
      "text/plain": [
       "HBox(children=(IntProgress(value=0), HTML(value='')))"
      ]
     },
     "metadata": {},
     "output_type": "display_data"
    },
    {
     "data": {
      "application/vnd.jupyter.widget-view+json": {
       "model_id": "9a64b2f607ae46558726dcf84b0c282b",
       "version_major": 2,
       "version_minor": 0
      },
      "text/plain": [
       "HBox(children=(IntProgress(value=0), HTML(value='')))"
      ]
     },
     "metadata": {},
     "output_type": "display_data"
    },
    {
     "data": {
      "application/vnd.jupyter.widget-view+json": {
       "model_id": "f7483795961e45418992b86bcfdec8c8",
       "version_major": 2,
       "version_minor": 0
      },
      "text/plain": [
       "HBox(children=(IntProgress(value=0), HTML(value='')))"
      ]
     },
     "metadata": {},
     "output_type": "display_data"
    },
    {
     "data": {
      "application/vnd.jupyter.widget-view+json": {
       "model_id": "6ab88ae760f5453181598d4dbf82aee4",
       "version_major": 2,
       "version_minor": 0
      },
      "text/plain": [
       "HBox(children=(IntProgress(value=0), HTML(value='')))"
      ]
     },
     "metadata": {},
     "output_type": "display_data"
    },
    {
     "data": {
      "application/vnd.jupyter.widget-view+json": {
       "model_id": "ff010f231b044478b52dbd293024d1ec",
       "version_major": 2,
       "version_minor": 0
      },
      "text/plain": [
       "HBox(children=(IntProgress(value=0), HTML(value='')))"
      ]
     },
     "metadata": {},
     "output_type": "display_data"
    },
    {
     "data": {
      "application/vnd.jupyter.widget-view+json": {
       "model_id": "c7a3a2a3163b4cefbbf1b9201271ad52",
       "version_major": 2,
       "version_minor": 0
      },
      "text/plain": [
       "HBox(children=(IntProgress(value=0), HTML(value='')))"
      ]
     },
     "metadata": {},
     "output_type": "display_data"
    },
    {
     "data": {
      "application/vnd.jupyter.widget-view+json": {
       "model_id": "aa5fc8a558fd48a9b4a21c3cd24fc2b5",
       "version_major": 2,
       "version_minor": 0
      },
      "text/plain": [
       "HBox(children=(IntProgress(value=0), HTML(value='')))"
      ]
     },
     "metadata": {},
     "output_type": "display_data"
    },
    {
     "data": {
      "application/vnd.jupyter.widget-view+json": {
       "model_id": "1e8df7c488a5462cb65487b935b23b51",
       "version_major": 2,
       "version_minor": 0
      },
      "text/plain": [
       "HBox(children=(IntProgress(value=0), HTML(value='')))"
      ]
     },
     "metadata": {},
     "output_type": "display_data"
    },
    {
     "data": {
      "application/vnd.jupyter.widget-view+json": {
       "model_id": "39e9c7c8e43140d0bacfa37267f710c1",
       "version_major": 2,
       "version_minor": 0
      },
      "text/plain": [
       "HBox(children=(IntProgress(value=0), HTML(value='')))"
      ]
     },
     "metadata": {},
     "output_type": "display_data"
    },
    {
     "data": {
      "application/vnd.jupyter.widget-view+json": {
       "model_id": "398e41f9dbe549de98bcad65fc7b329b",
       "version_major": 2,
       "version_minor": 0
      },
      "text/plain": [
       "HBox(children=(IntProgress(value=0), HTML(value='')))"
      ]
     },
     "metadata": {},
     "output_type": "display_data"
    },
    {
     "data": {
      "application/vnd.jupyter.widget-view+json": {
       "model_id": "a2007b618b674ba6aea3bdf86573e0d3",
       "version_major": 2,
       "version_minor": 0
      },
      "text/plain": [
       "HBox(children=(IntProgress(value=0), HTML(value='')))"
      ]
     },
     "metadata": {},
     "output_type": "display_data"
    },
    {
     "data": {
      "application/vnd.jupyter.widget-view+json": {
       "model_id": "ffb25e93b1c44a5e8d905f8bf9e5c3cc",
       "version_major": 2,
       "version_minor": 0
      },
      "text/plain": [
       "HBox(children=(IntProgress(value=0), HTML(value='')))"
      ]
     },
     "metadata": {},
     "output_type": "display_data"
    },
    {
     "data": {
      "application/vnd.jupyter.widget-view+json": {
       "model_id": "9abf56ad45be41d9a567550ad9068f4d",
       "version_major": 2,
       "version_minor": 0
      },
      "text/plain": [
       "HBox(children=(IntProgress(value=0), HTML(value='')))"
      ]
     },
     "metadata": {},
     "output_type": "display_data"
    },
    {
     "data": {
      "application/vnd.jupyter.widget-view+json": {
       "model_id": "bb15b05f576f4c47814b7469811f2245",
       "version_major": 2,
       "version_minor": 0
      },
      "text/plain": [
       "HBox(children=(IntProgress(value=0), HTML(value='')))"
      ]
     },
     "metadata": {},
     "output_type": "display_data"
    },
    {
     "data": {
      "application/vnd.jupyter.widget-view+json": {
       "model_id": "6e11cc0db1ab43c2935f89f60c4bb7f3",
       "version_major": 2,
       "version_minor": 0
      },
      "text/plain": [
       "HBox(children=(IntProgress(value=0), HTML(value='')))"
      ]
     },
     "metadata": {},
     "output_type": "display_data"
    },
    {
     "data": {
      "application/vnd.jupyter.widget-view+json": {
       "model_id": "329e8675f8dc46dba0c2b4d92604c824",
       "version_major": 2,
       "version_minor": 0
      },
      "text/plain": [
       "HBox(children=(IntProgress(value=0), HTML(value='')))"
      ]
     },
     "metadata": {},
     "output_type": "display_data"
    },
    {
     "data": {
      "application/vnd.jupyter.widget-view+json": {
       "model_id": "78b2dbd993794c818d2be2b53ce8dc03",
       "version_major": 2,
       "version_minor": 0
      },
      "text/plain": [
       "HBox(children=(IntProgress(value=0), HTML(value='')))"
      ]
     },
     "metadata": {},
     "output_type": "display_data"
    },
    {
     "data": {
      "application/vnd.jupyter.widget-view+json": {
       "model_id": "216aec10100b4010a33ce7047ea05f89",
       "version_major": 2,
       "version_minor": 0
      },
      "text/plain": [
       "HBox(children=(IntProgress(value=0), HTML(value='')))"
      ]
     },
     "metadata": {},
     "output_type": "display_data"
    },
    {
     "data": {
      "application/vnd.jupyter.widget-view+json": {
       "model_id": "79c96ca458f34eb0a54546dcbc73f723",
       "version_major": 2,
       "version_minor": 0
      },
      "text/plain": [
       "HBox(children=(IntProgress(value=0), HTML(value='')))"
      ]
     },
     "metadata": {},
     "output_type": "display_data"
    },
    {
     "data": {
      "application/vnd.jupyter.widget-view+json": {
       "model_id": "55ec411cd6994f438dbc50e3c1b7baf5",
       "version_major": 2,
       "version_minor": 0
      },
      "text/plain": [
       "HBox(children=(IntProgress(value=0), HTML(value='')))"
      ]
     },
     "metadata": {},
     "output_type": "display_data"
    },
    {
     "data": {
      "application/vnd.jupyter.widget-view+json": {
       "model_id": "82377737e5fb42109a53b8a7aae3b1bb",
       "version_major": 2,
       "version_minor": 0
      },
      "text/plain": [
       "HBox(children=(IntProgress(value=0), HTML(value='')))"
      ]
     },
     "metadata": {},
     "output_type": "display_data"
    },
    {
     "data": {
      "application/vnd.jupyter.widget-view+json": {
       "model_id": "c2a4c6669cc840ada822a84db596b5d6",
       "version_major": 2,
       "version_minor": 0
      },
      "text/plain": [
       "HBox(children=(IntProgress(value=0), HTML(value='')))"
      ]
     },
     "metadata": {},
     "output_type": "display_data"
    },
    {
     "data": {
      "application/vnd.jupyter.widget-view+json": {
       "model_id": "6ad5563164e242239e7a48bd3bfc625c",
       "version_major": 2,
       "version_minor": 0
      },
      "text/plain": [
       "HBox(children=(IntProgress(value=0), HTML(value='')))"
      ]
     },
     "metadata": {},
     "output_type": "display_data"
    },
    {
     "data": {
      "application/vnd.jupyter.widget-view+json": {
       "model_id": "e1d153f7bd6844178945fd47b5e8cf49",
       "version_major": 2,
       "version_minor": 0
      },
      "text/plain": [
       "HBox(children=(IntProgress(value=0), HTML(value='')))"
      ]
     },
     "metadata": {},
     "output_type": "display_data"
    },
    {
     "data": {
      "application/vnd.jupyter.widget-view+json": {
       "model_id": "ab66ab6a4cbc47d6b89dff046602f39b",
       "version_major": 2,
       "version_minor": 0
      },
      "text/plain": [
       "HBox(children=(IntProgress(value=0), HTML(value='')))"
      ]
     },
     "metadata": {},
     "output_type": "display_data"
    },
    {
     "data": {
      "application/vnd.jupyter.widget-view+json": {
       "model_id": "378b6ec34f404fc3b314eeeae893208f",
       "version_major": 2,
       "version_minor": 0
      },
      "text/plain": [
       "HBox(children=(IntProgress(value=0), HTML(value='')))"
      ]
     },
     "metadata": {},
     "output_type": "display_data"
    },
    {
     "data": {
      "application/vnd.jupyter.widget-view+json": {
       "model_id": "2cb36e62da634d24ad65610b3ec2e1f1",
       "version_major": 2,
       "version_minor": 0
      },
      "text/plain": [
       "HBox(children=(IntProgress(value=0), HTML(value='')))"
      ]
     },
     "metadata": {},
     "output_type": "display_data"
    },
    {
     "data": {
      "application/vnd.jupyter.widget-view+json": {
       "model_id": "fd5f0eb50cd24b3795786b201c6271a0",
       "version_major": 2,
       "version_minor": 0
      },
      "text/plain": [
       "HBox(children=(IntProgress(value=0), HTML(value='')))"
      ]
     },
     "metadata": {},
     "output_type": "display_data"
    },
    {
     "data": {
      "application/vnd.jupyter.widget-view+json": {
       "model_id": "9528413879164b57958af3e50849344d",
       "version_major": 2,
       "version_minor": 0
      },
      "text/plain": [
       "HBox(children=(IntProgress(value=0), HTML(value='')))"
      ]
     },
     "metadata": {},
     "output_type": "display_data"
    },
    {
     "data": {
      "application/vnd.jupyter.widget-view+json": {
       "model_id": "e63bc246fac24440a2b571a7759c4ee7",
       "version_major": 2,
       "version_minor": 0
      },
      "text/plain": [
       "HBox(children=(IntProgress(value=0), HTML(value='')))"
      ]
     },
     "metadata": {},
     "output_type": "display_data"
    },
    {
     "data": {
      "application/vnd.jupyter.widget-view+json": {
       "model_id": "283b3fc09ec34ff5bab37fbe1ea80552",
       "version_major": 2,
       "version_minor": 0
      },
      "text/plain": [
       "HBox(children=(IntProgress(value=0), HTML(value='')))"
      ]
     },
     "metadata": {},
     "output_type": "display_data"
    },
    {
     "data": {
      "application/vnd.jupyter.widget-view+json": {
       "model_id": "1c0586cad1b7402dad14d849020b28b3",
       "version_major": 2,
       "version_minor": 0
      },
      "text/plain": [
       "HBox(children=(IntProgress(value=0), HTML(value='')))"
      ]
     },
     "metadata": {},
     "output_type": "display_data"
    },
    {
     "data": {
      "application/vnd.jupyter.widget-view+json": {
       "model_id": "9186c34188284722a997d8193992f7ca",
       "version_major": 2,
       "version_minor": 0
      },
      "text/plain": [
       "HBox(children=(IntProgress(value=0), HTML(value='')))"
      ]
     },
     "metadata": {},
     "output_type": "display_data"
    },
    {
     "data": {
      "application/vnd.jupyter.widget-view+json": {
       "model_id": "e630b36665944db484578354115d78c1",
       "version_major": 2,
       "version_minor": 0
      },
      "text/plain": [
       "HBox(children=(IntProgress(value=0), HTML(value='')))"
      ]
     },
     "metadata": {},
     "output_type": "display_data"
    },
    {
     "data": {
      "application/vnd.jupyter.widget-view+json": {
       "model_id": "bc9573c8830d4608ad69320491233a45",
       "version_major": 2,
       "version_minor": 0
      },
      "text/plain": [
       "HBox(children=(IntProgress(value=0), HTML(value='')))"
      ]
     },
     "metadata": {},
     "output_type": "display_data"
    },
    {
     "data": {
      "application/vnd.jupyter.widget-view+json": {
       "model_id": "0a981f1da5424b53a7bc4ea46baa416c",
       "version_major": 2,
       "version_minor": 0
      },
      "text/plain": [
       "HBox(children=(IntProgress(value=0), HTML(value='')))"
      ]
     },
     "metadata": {},
     "output_type": "display_data"
    },
    {
     "data": {
      "application/vnd.jupyter.widget-view+json": {
       "model_id": "d34ef3612914427aa93f9e9f84499b52",
       "version_major": 2,
       "version_minor": 0
      },
      "text/plain": [
       "HBox(children=(IntProgress(value=0), HTML(value='')))"
      ]
     },
     "metadata": {},
     "output_type": "display_data"
    },
    {
     "data": {
      "application/vnd.jupyter.widget-view+json": {
       "model_id": "3aa0a9d4b9a34528b3524d76b8e96b51",
       "version_major": 2,
       "version_minor": 0
      },
      "text/plain": [
       "HBox(children=(IntProgress(value=0), HTML(value='')))"
      ]
     },
     "metadata": {},
     "output_type": "display_data"
    },
    {
     "data": {
      "application/vnd.jupyter.widget-view+json": {
       "model_id": "65e388977f1349c68c998e43f120971a",
       "version_major": 2,
       "version_minor": 0
      },
      "text/plain": [
       "HBox(children=(IntProgress(value=0), HTML(value='')))"
      ]
     },
     "metadata": {},
     "output_type": "display_data"
    },
    {
     "data": {
      "application/vnd.jupyter.widget-view+json": {
       "model_id": "c43c6b9bc6be497bad5ed1bb03cfdb3b",
       "version_major": 2,
       "version_minor": 0
      },
      "text/plain": [
       "HBox(children=(IntProgress(value=0), HTML(value='')))"
      ]
     },
     "metadata": {},
     "output_type": "display_data"
    },
    {
     "data": {
      "application/vnd.jupyter.widget-view+json": {
       "model_id": "292a79730fde4d13a623faf8f9fae688",
       "version_major": 2,
       "version_minor": 0
      },
      "text/plain": [
       "HBox(children=(IntProgress(value=0), HTML(value='')))"
      ]
     },
     "metadata": {},
     "output_type": "display_data"
    },
    {
     "data": {
      "application/vnd.jupyter.widget-view+json": {
       "model_id": "e22d0b0839df471aafe6deca36974740",
       "version_major": 2,
       "version_minor": 0
      },
      "text/plain": [
       "HBox(children=(IntProgress(value=0), HTML(value='')))"
      ]
     },
     "metadata": {},
     "output_type": "display_data"
    },
    {
     "data": {
      "application/vnd.jupyter.widget-view+json": {
       "model_id": "382abd4395c441c3b940f2bfa84d5c46",
       "version_major": 2,
       "version_minor": 0
      },
      "text/plain": [
       "HBox(children=(IntProgress(value=0), HTML(value='')))"
      ]
     },
     "metadata": {},
     "output_type": "display_data"
    },
    {
     "data": {
      "application/vnd.jupyter.widget-view+json": {
       "model_id": "f3e1f09a640e4a6fa7e0194f0468ec77",
       "version_major": 2,
       "version_minor": 0
      },
      "text/plain": [
       "HBox(children=(IntProgress(value=0), HTML(value='')))"
      ]
     },
     "metadata": {},
     "output_type": "display_data"
    },
    {
     "data": {
      "application/vnd.jupyter.widget-view+json": {
       "model_id": "a604a3b1ef5249fba34d5acb2407460c",
       "version_major": 2,
       "version_minor": 0
      },
      "text/plain": [
       "HBox(children=(IntProgress(value=0), HTML(value='')))"
      ]
     },
     "metadata": {},
     "output_type": "display_data"
    },
    {
     "data": {
      "application/vnd.jupyter.widget-view+json": {
       "model_id": "ff9d3bf4befb40d9bd3e5e2f657c23ad",
       "version_major": 2,
       "version_minor": 0
      },
      "text/plain": [
       "HBox(children=(IntProgress(value=0), HTML(value='')))"
      ]
     },
     "metadata": {},
     "output_type": "display_data"
    },
    {
     "data": {
      "application/vnd.jupyter.widget-view+json": {
       "model_id": "5d7971a2861e4ccdbd7c0a5a7d12dfda",
       "version_major": 2,
       "version_minor": 0
      },
      "text/plain": [
       "HBox(children=(IntProgress(value=0), HTML(value='')))"
      ]
     },
     "metadata": {},
     "output_type": "display_data"
    },
    {
     "data": {
      "application/vnd.jupyter.widget-view+json": {
       "model_id": "bd5559a3fc6e411ab678f638c7509c95",
       "version_major": 2,
       "version_minor": 0
      },
      "text/plain": [
       "HBox(children=(IntProgress(value=0), HTML(value='')))"
      ]
     },
     "metadata": {},
     "output_type": "display_data"
    },
    {
     "data": {
      "application/vnd.jupyter.widget-view+json": {
       "model_id": "ae4658cae81e4278aad598750411dda4",
       "version_major": 2,
       "version_minor": 0
      },
      "text/plain": [
       "HBox(children=(IntProgress(value=0), HTML(value='')))"
      ]
     },
     "metadata": {},
     "output_type": "display_data"
    },
    {
     "data": {
      "application/vnd.jupyter.widget-view+json": {
       "model_id": "8592d1912b9642cb8df2feebb390f5eb",
       "version_major": 2,
       "version_minor": 0
      },
      "text/plain": [
       "HBox(children=(IntProgress(value=0), HTML(value='')))"
      ]
     },
     "metadata": {},
     "output_type": "display_data"
    },
    {
     "data": {
      "application/vnd.jupyter.widget-view+json": {
       "model_id": "78bdfd48db0e4c5aa78f2b92aa341460",
       "version_major": 2,
       "version_minor": 0
      },
      "text/plain": [
       "HBox(children=(IntProgress(value=0), HTML(value='')))"
      ]
     },
     "metadata": {},
     "output_type": "display_data"
    },
    {
     "data": {
      "application/vnd.jupyter.widget-view+json": {
       "model_id": "e94cfa241d3b4a4bb8026ce7bde6b33c",
       "version_major": 2,
       "version_minor": 0
      },
      "text/plain": [
       "HBox(children=(IntProgress(value=0), HTML(value='')))"
      ]
     },
     "metadata": {},
     "output_type": "display_data"
    },
    {
     "data": {
      "application/vnd.jupyter.widget-view+json": {
       "model_id": "cb7cd2c8c00649a9a79eeb99cacd8903",
       "version_major": 2,
       "version_minor": 0
      },
      "text/plain": [
       "HBox(children=(IntProgress(value=0), HTML(value='')))"
      ]
     },
     "metadata": {},
     "output_type": "display_data"
    },
    {
     "data": {
      "application/vnd.jupyter.widget-view+json": {
       "model_id": "73332ae9c5e94eeb9cdf4e25cefcc8e4",
       "version_major": 2,
       "version_minor": 0
      },
      "text/plain": [
       "HBox(children=(IntProgress(value=0), HTML(value='')))"
      ]
     },
     "metadata": {},
     "output_type": "display_data"
    },
    {
     "data": {
      "application/vnd.jupyter.widget-view+json": {
       "model_id": "a5ca0d6b99de4dcfba7fa9ae1245329f",
       "version_major": 2,
       "version_minor": 0
      },
      "text/plain": [
       "HBox(children=(IntProgress(value=0), HTML(value='')))"
      ]
     },
     "metadata": {},
     "output_type": "display_data"
    },
    {
     "data": {
      "application/vnd.jupyter.widget-view+json": {
       "model_id": "555a4198d1b9470d972ea65604578968",
       "version_major": 2,
       "version_minor": 0
      },
      "text/plain": [
       "HBox(children=(IntProgress(value=0), HTML(value='')))"
      ]
     },
     "metadata": {},
     "output_type": "display_data"
    },
    {
     "data": {
      "application/vnd.jupyter.widget-view+json": {
       "model_id": "dd7988f632cf465da23c638fd58e068c",
       "version_major": 2,
       "version_minor": 0
      },
      "text/plain": [
       "HBox(children=(IntProgress(value=0), HTML(value='')))"
      ]
     },
     "metadata": {},
     "output_type": "display_data"
    },
    {
     "data": {
      "application/vnd.jupyter.widget-view+json": {
       "model_id": "c485bbf08d354fdcb29c04d38d094f4d",
       "version_major": 2,
       "version_minor": 0
      },
      "text/plain": [
       "HBox(children=(IntProgress(value=0), HTML(value='')))"
      ]
     },
     "metadata": {},
     "output_type": "display_data"
    },
    {
     "data": {
      "application/vnd.jupyter.widget-view+json": {
       "model_id": "6f80faa00c3c464ab3c2dea25a7629ed",
       "version_major": 2,
       "version_minor": 0
      },
      "text/plain": [
       "HBox(children=(IntProgress(value=0), HTML(value='')))"
      ]
     },
     "metadata": {},
     "output_type": "display_data"
    },
    {
     "data": {
      "application/vnd.jupyter.widget-view+json": {
       "model_id": "f5d319965e424437a4f612fc63d484ce",
       "version_major": 2,
       "version_minor": 0
      },
      "text/plain": [
       "HBox(children=(IntProgress(value=0), HTML(value='')))"
      ]
     },
     "metadata": {},
     "output_type": "display_data"
    },
    {
     "data": {
      "application/vnd.jupyter.widget-view+json": {
       "model_id": "3bee6e0509ea4f8ba49f4d3737bfe9c6",
       "version_major": 2,
       "version_minor": 0
      },
      "text/plain": [
       "HBox(children=(IntProgress(value=0), HTML(value='')))"
      ]
     },
     "metadata": {},
     "output_type": "display_data"
    },
    {
     "data": {
      "application/vnd.jupyter.widget-view+json": {
       "model_id": "ea406e6ae1564cd690bbff718e31347a",
       "version_major": 2,
       "version_minor": 0
      },
      "text/plain": [
       "HBox(children=(IntProgress(value=0), HTML(value='')))"
      ]
     },
     "metadata": {},
     "output_type": "display_data"
    },
    {
     "data": {
      "application/vnd.jupyter.widget-view+json": {
       "model_id": "c6ba7c3ae6954441a415d88fbbfe49cf",
       "version_major": 2,
       "version_minor": 0
      },
      "text/plain": [
       "HBox(children=(IntProgress(value=0), HTML(value='')))"
      ]
     },
     "metadata": {},
     "output_type": "display_data"
    },
    {
     "data": {
      "application/vnd.jupyter.widget-view+json": {
       "model_id": "3a8a03b7d49149bf9ac6258a805bc29d",
       "version_major": 2,
       "version_minor": 0
      },
      "text/plain": [
       "HBox(children=(IntProgress(value=0), HTML(value='')))"
      ]
     },
     "metadata": {},
     "output_type": "display_data"
    },
    {
     "data": {
      "application/vnd.jupyter.widget-view+json": {
       "model_id": "09f2b7128b8d41ad88474fa67ce14c94",
       "version_major": 2,
       "version_minor": 0
      },
      "text/plain": [
       "HBox(children=(IntProgress(value=0), HTML(value='')))"
      ]
     },
     "metadata": {},
     "output_type": "display_data"
    },
    {
     "data": {
      "application/vnd.jupyter.widget-view+json": {
       "model_id": "f0191378340244509f98cc79ce93d047",
       "version_major": 2,
       "version_minor": 0
      },
      "text/plain": [
       "HBox(children=(IntProgress(value=0), HTML(value='')))"
      ]
     },
     "metadata": {},
     "output_type": "display_data"
    },
    {
     "data": {
      "application/vnd.jupyter.widget-view+json": {
       "model_id": "50dc9bdffa7b488ca8514090df714b89",
       "version_major": 2,
       "version_minor": 0
      },
      "text/plain": [
       "HBox(children=(IntProgress(value=0), HTML(value='')))"
      ]
     },
     "metadata": {},
     "output_type": "display_data"
    },
    {
     "data": {
      "application/vnd.jupyter.widget-view+json": {
       "model_id": "c35ed445554547b1af9ffde698781ec7",
       "version_major": 2,
       "version_minor": 0
      },
      "text/plain": [
       "HBox(children=(IntProgress(value=0), HTML(value='')))"
      ]
     },
     "metadata": {},
     "output_type": "display_data"
    },
    {
     "data": {
      "application/vnd.jupyter.widget-view+json": {
       "model_id": "e3a5db4591c34095a9190d92e6a5b984",
       "version_major": 2,
       "version_minor": 0
      },
      "text/plain": [
       "HBox(children=(IntProgress(value=0), HTML(value='')))"
      ]
     },
     "metadata": {},
     "output_type": "display_data"
    },
    {
     "data": {
      "application/vnd.jupyter.widget-view+json": {
       "model_id": "45730549ee264c5aa2a0b75a839193e8",
       "version_major": 2,
       "version_minor": 0
      },
      "text/plain": [
       "HBox(children=(IntProgress(value=0), HTML(value='')))"
      ]
     },
     "metadata": {},
     "output_type": "display_data"
    },
    {
     "data": {
      "application/vnd.jupyter.widget-view+json": {
       "model_id": "5f388380448342feae602261b73cde02",
       "version_major": 2,
       "version_minor": 0
      },
      "text/plain": [
       "HBox(children=(IntProgress(value=0), HTML(value='')))"
      ]
     },
     "metadata": {},
     "output_type": "display_data"
    },
    {
     "data": {
      "application/vnd.jupyter.widget-view+json": {
       "model_id": "e28bfa35bc944e89a5ff8d9646263fba",
       "version_major": 2,
       "version_minor": 0
      },
      "text/plain": [
       "HBox(children=(IntProgress(value=0), HTML(value='')))"
      ]
     },
     "metadata": {},
     "output_type": "display_data"
    },
    {
     "data": {
      "application/vnd.jupyter.widget-view+json": {
       "model_id": "d14e3b7601ca4e68a6f99f201627fe94",
       "version_major": 2,
       "version_minor": 0
      },
      "text/plain": [
       "HBox(children=(IntProgress(value=0), HTML(value='')))"
      ]
     },
     "metadata": {},
     "output_type": "display_data"
    },
    {
     "data": {
      "application/vnd.jupyter.widget-view+json": {
       "model_id": "c96306c94f7243be84fe3337afd8dd4d",
       "version_major": 2,
       "version_minor": 0
      },
      "text/plain": [
       "HBox(children=(IntProgress(value=0), HTML(value='')))"
      ]
     },
     "metadata": {},
     "output_type": "display_data"
    },
    {
     "data": {
      "application/vnd.jupyter.widget-view+json": {
       "model_id": "6153ec24767646b3812b51edcb1fdf96",
       "version_major": 2,
       "version_minor": 0
      },
      "text/plain": [
       "HBox(children=(IntProgress(value=0), HTML(value='')))"
      ]
     },
     "metadata": {},
     "output_type": "display_data"
    },
    {
     "data": {
      "application/vnd.jupyter.widget-view+json": {
       "model_id": "4ff28da8320d47ceb2d297931b318919",
       "version_major": 2,
       "version_minor": 0
      },
      "text/plain": [
       "HBox(children=(IntProgress(value=0), HTML(value='')))"
      ]
     },
     "metadata": {},
     "output_type": "display_data"
    },
    {
     "data": {
      "application/vnd.jupyter.widget-view+json": {
       "model_id": "a6746b902e394ab69d057ca9af2ba349",
       "version_major": 2,
       "version_minor": 0
      },
      "text/plain": [
       "HBox(children=(IntProgress(value=0), HTML(value='')))"
      ]
     },
     "metadata": {},
     "output_type": "display_data"
    },
    {
     "data": {
      "application/vnd.jupyter.widget-view+json": {
       "model_id": "8470341189f74257a43f4fac6b32faf6",
       "version_major": 2,
       "version_minor": 0
      },
      "text/plain": [
       "HBox(children=(IntProgress(value=0), HTML(value='')))"
      ]
     },
     "metadata": {},
     "output_type": "display_data"
    },
    {
     "data": {
      "application/vnd.jupyter.widget-view+json": {
       "model_id": "199d0886a3bb4fcbab766476d8dbaefc",
       "version_major": 2,
       "version_minor": 0
      },
      "text/plain": [
       "HBox(children=(IntProgress(value=0), HTML(value='')))"
      ]
     },
     "metadata": {},
     "output_type": "display_data"
    },
    {
     "data": {
      "application/vnd.jupyter.widget-view+json": {
       "model_id": "1143630846c940d9949988dcf17d8d7e",
       "version_major": 2,
       "version_minor": 0
      },
      "text/plain": [
       "HBox(children=(IntProgress(value=0), HTML(value='')))"
      ]
     },
     "metadata": {},
     "output_type": "display_data"
    },
    {
     "data": {
      "application/vnd.jupyter.widget-view+json": {
       "model_id": "309934c032574882952c168ac60267d0",
       "version_major": 2,
       "version_minor": 0
      },
      "text/plain": [
       "HBox(children=(IntProgress(value=0), HTML(value='')))"
      ]
     },
     "metadata": {},
     "output_type": "display_data"
    },
    {
     "data": {
      "application/vnd.jupyter.widget-view+json": {
       "model_id": "aca448ac9294431ab027c6488bdb5134",
       "version_major": 2,
       "version_minor": 0
      },
      "text/plain": [
       "HBox(children=(IntProgress(value=0), HTML(value='')))"
      ]
     },
     "metadata": {},
     "output_type": "display_data"
    },
    {
     "data": {
      "application/vnd.jupyter.widget-view+json": {
       "model_id": "db9bfd7c5452425b9a8912eef0969bbd",
       "version_major": 2,
       "version_minor": 0
      },
      "text/plain": [
       "HBox(children=(IntProgress(value=0), HTML(value='')))"
      ]
     },
     "metadata": {},
     "output_type": "display_data"
    },
    {
     "data": {
      "application/vnd.jupyter.widget-view+json": {
       "model_id": "7931d1564bb74122b219637ee9a1dc2d",
       "version_major": 2,
       "version_minor": 0
      },
      "text/plain": [
       "HBox(children=(IntProgress(value=0), HTML(value='')))"
      ]
     },
     "metadata": {},
     "output_type": "display_data"
    },
    {
     "data": {
      "application/vnd.jupyter.widget-view+json": {
       "model_id": "72064df5d0ae4088ad03a153f997640e",
       "version_major": 2,
       "version_minor": 0
      },
      "text/plain": [
       "HBox(children=(IntProgress(value=0), HTML(value='')))"
      ]
     },
     "metadata": {},
     "output_type": "display_data"
    },
    {
     "data": {
      "application/vnd.jupyter.widget-view+json": {
       "model_id": "87b04723f1bd44f5a4ed48ec4c7e17a6",
       "version_major": 2,
       "version_minor": 0
      },
      "text/plain": [
       "HBox(children=(IntProgress(value=0), HTML(value='')))"
      ]
     },
     "metadata": {},
     "output_type": "display_data"
    },
    {
     "data": {
      "application/vnd.jupyter.widget-view+json": {
       "model_id": "c5517807a19440159b9bba55b3d56313",
       "version_major": 2,
       "version_minor": 0
      },
      "text/plain": [
       "HBox(children=(IntProgress(value=0), HTML(value='')))"
      ]
     },
     "metadata": {},
     "output_type": "display_data"
    },
    {
     "data": {
      "application/vnd.jupyter.widget-view+json": {
       "model_id": "a89dec1e8a754537a7516e4806d392c4",
       "version_major": 2,
       "version_minor": 0
      },
      "text/plain": [
       "HBox(children=(IntProgress(value=0), HTML(value='')))"
      ]
     },
     "metadata": {},
     "output_type": "display_data"
    },
    {
     "data": {
      "application/vnd.jupyter.widget-view+json": {
       "model_id": "f8b50290bc1549219b800b13e64e1fd7",
       "version_major": 2,
       "version_minor": 0
      },
      "text/plain": [
       "HBox(children=(IntProgress(value=0), HTML(value='')))"
      ]
     },
     "metadata": {},
     "output_type": "display_data"
    },
    {
     "data": {
      "application/vnd.jupyter.widget-view+json": {
       "model_id": "6a47a5ab969649d0bc1eea2978475a5a",
       "version_major": 2,
       "version_minor": 0
      },
      "text/plain": [
       "HBox(children=(IntProgress(value=0), HTML(value='')))"
      ]
     },
     "metadata": {},
     "output_type": "display_data"
    },
    {
     "data": {
      "application/vnd.jupyter.widget-view+json": {
       "model_id": "24b75123d1304af79fee8a428d5afa98",
       "version_major": 2,
       "version_minor": 0
      },
      "text/plain": [
       "HBox(children=(IntProgress(value=0), HTML(value='')))"
      ]
     },
     "metadata": {},
     "output_type": "display_data"
    },
    {
     "data": {
      "application/vnd.jupyter.widget-view+json": {
       "model_id": "57f6cccd6b0644a59ffab895638d4822",
       "version_major": 2,
       "version_minor": 0
      },
      "text/plain": [
       "HBox(children=(IntProgress(value=0), HTML(value='')))"
      ]
     },
     "metadata": {},
     "output_type": "display_data"
    },
    {
     "data": {
      "application/vnd.jupyter.widget-view+json": {
       "model_id": "a6b054b56c5643a88b498a75ad206121",
       "version_major": 2,
       "version_minor": 0
      },
      "text/plain": [
       "HBox(children=(IntProgress(value=0), HTML(value='')))"
      ]
     },
     "metadata": {},
     "output_type": "display_data"
    },
    {
     "data": {
      "application/vnd.jupyter.widget-view+json": {
       "model_id": "2e81940585034eca8325be08dfecb69e",
       "version_major": 2,
       "version_minor": 0
      },
      "text/plain": [
       "HBox(children=(IntProgress(value=0), HTML(value='')))"
      ]
     },
     "metadata": {},
     "output_type": "display_data"
    },
    {
     "data": {
      "application/vnd.jupyter.widget-view+json": {
       "model_id": "67a54d279b3b43678c3cdb2909095c09",
       "version_major": 2,
       "version_minor": 0
      },
      "text/plain": [
       "HBox(children=(IntProgress(value=0), HTML(value='')))"
      ]
     },
     "metadata": {},
     "output_type": "display_data"
    },
    {
     "data": {
      "application/vnd.jupyter.widget-view+json": {
       "model_id": "20f690c8e82046f4b2332fe0076d2877",
       "version_major": 2,
       "version_minor": 0
      },
      "text/plain": [
       "HBox(children=(IntProgress(value=0), HTML(value='')))"
      ]
     },
     "metadata": {},
     "output_type": "display_data"
    },
    {
     "data": {
      "application/vnd.jupyter.widget-view+json": {
       "model_id": "016092cf54c844c4b2986237992473e9",
       "version_major": 2,
       "version_minor": 0
      },
      "text/plain": [
       "HBox(children=(IntProgress(value=0), HTML(value='')))"
      ]
     },
     "metadata": {},
     "output_type": "display_data"
    },
    {
     "data": {
      "application/vnd.jupyter.widget-view+json": {
       "model_id": "cff540a4fdfe4aa19e538467b7981a35",
       "version_major": 2,
       "version_minor": 0
      },
      "text/plain": [
       "HBox(children=(IntProgress(value=0), HTML(value='')))"
      ]
     },
     "metadata": {},
     "output_type": "display_data"
    },
    {
     "data": {
      "application/vnd.jupyter.widget-view+json": {
       "model_id": "02dd525f39a545fc8380b5baa20c0570",
       "version_major": 2,
       "version_minor": 0
      },
      "text/plain": [
       "HBox(children=(IntProgress(value=0), HTML(value='')))"
      ]
     },
     "metadata": {},
     "output_type": "display_data"
    },
    {
     "data": {
      "application/vnd.jupyter.widget-view+json": {
       "model_id": "f348646e2ef54d549cead1363d7e8f7f",
       "version_major": 2,
       "version_minor": 0
      },
      "text/plain": [
       "HBox(children=(IntProgress(value=0), HTML(value='')))"
      ]
     },
     "metadata": {},
     "output_type": "display_data"
    },
    {
     "data": {
      "application/vnd.jupyter.widget-view+json": {
       "model_id": "2628e2413e964bf984e68134f68c807e",
       "version_major": 2,
       "version_minor": 0
      },
      "text/plain": [
       "HBox(children=(IntProgress(value=0), HTML(value='')))"
      ]
     },
     "metadata": {},
     "output_type": "display_data"
    },
    {
     "data": {
      "application/vnd.jupyter.widget-view+json": {
       "model_id": "dad8a036accd42c5895553a22010a512",
       "version_major": 2,
       "version_minor": 0
      },
      "text/plain": [
       "HBox(children=(IntProgress(value=0), HTML(value='')))"
      ]
     },
     "metadata": {},
     "output_type": "display_data"
    },
    {
     "data": {
      "application/vnd.jupyter.widget-view+json": {
       "model_id": "c7fca99d6d3a4138aff9c9dfc3055d0b",
       "version_major": 2,
       "version_minor": 0
      },
      "text/plain": [
       "HBox(children=(IntProgress(value=0), HTML(value='')))"
      ]
     },
     "metadata": {},
     "output_type": "display_data"
    },
    {
     "data": {
      "application/vnd.jupyter.widget-view+json": {
       "model_id": "7a06adacc7e24fc0b7026a4b5fbe17f5",
       "version_major": 2,
       "version_minor": 0
      },
      "text/plain": [
       "HBox(children=(IntProgress(value=0), HTML(value='')))"
      ]
     },
     "metadata": {},
     "output_type": "display_data"
    },
    {
     "data": {
      "application/vnd.jupyter.widget-view+json": {
       "model_id": "f6ee8d9dbaf54560821fe53fffcc99c1",
       "version_major": 2,
       "version_minor": 0
      },
      "text/plain": [
       "HBox(children=(IntProgress(value=0), HTML(value='')))"
      ]
     },
     "metadata": {},
     "output_type": "display_data"
    },
    {
     "data": {
      "application/vnd.jupyter.widget-view+json": {
       "model_id": "4ace0153a32d418eb1c7833f55b2f41e",
       "version_major": 2,
       "version_minor": 0
      },
      "text/plain": [
       "HBox(children=(IntProgress(value=0), HTML(value='')))"
      ]
     },
     "metadata": {},
     "output_type": "display_data"
    },
    {
     "data": {
      "application/vnd.jupyter.widget-view+json": {
       "model_id": "7989cb2011fd4ccb9e847027f23ca8e9",
       "version_major": 2,
       "version_minor": 0
      },
      "text/plain": [
       "HBox(children=(IntProgress(value=0), HTML(value='')))"
      ]
     },
     "metadata": {},
     "output_type": "display_data"
    },
    {
     "data": {
      "application/vnd.jupyter.widget-view+json": {
       "model_id": "b28fff4f98a345d18c3a27cd302c077f",
       "version_major": 2,
       "version_minor": 0
      },
      "text/plain": [
       "HBox(children=(IntProgress(value=0), HTML(value='')))"
      ]
     },
     "metadata": {},
     "output_type": "display_data"
    },
    {
     "data": {
      "application/vnd.jupyter.widget-view+json": {
       "model_id": "118c2d1f7ccc4e92a36ac6ee59ceb8b0",
       "version_major": 2,
       "version_minor": 0
      },
      "text/plain": [
       "HBox(children=(IntProgress(value=0), HTML(value='')))"
      ]
     },
     "metadata": {},
     "output_type": "display_data"
    },
    {
     "data": {
      "application/vnd.jupyter.widget-view+json": {
       "model_id": "9f38171df8c64b3289166c9a24c95f75",
       "version_major": 2,
       "version_minor": 0
      },
      "text/plain": [
       "HBox(children=(IntProgress(value=0), HTML(value='')))"
      ]
     },
     "metadata": {},
     "output_type": "display_data"
    },
    {
     "data": {
      "application/vnd.jupyter.widget-view+json": {
       "model_id": "d8126ada9d4e4fae9b04c7f54d46e0aa",
       "version_major": 2,
       "version_minor": 0
      },
      "text/plain": [
       "HBox(children=(IntProgress(value=0), HTML(value='')))"
      ]
     },
     "metadata": {},
     "output_type": "display_data"
    },
    {
     "data": {
      "application/vnd.jupyter.widget-view+json": {
       "model_id": "61ea82b8c66c423389efd3408c0212d5",
       "version_major": 2,
       "version_minor": 0
      },
      "text/plain": [
       "HBox(children=(IntProgress(value=0), HTML(value='')))"
      ]
     },
     "metadata": {},
     "output_type": "display_data"
    },
    {
     "data": {
      "application/vnd.jupyter.widget-view+json": {
       "model_id": "3bd5ce452b8e438996fa41c8cfc34b0e",
       "version_major": 2,
       "version_minor": 0
      },
      "text/plain": [
       "HBox(children=(IntProgress(value=0), HTML(value='')))"
      ]
     },
     "metadata": {},
     "output_type": "display_data"
    },
    {
     "data": {
      "application/vnd.jupyter.widget-view+json": {
       "model_id": "c31e99ac30834efd8f5dddda1a50d7a6",
       "version_major": 2,
       "version_minor": 0
      },
      "text/plain": [
       "HBox(children=(IntProgress(value=0), HTML(value='')))"
      ]
     },
     "metadata": {},
     "output_type": "display_data"
    },
    {
     "data": {
      "application/vnd.jupyter.widget-view+json": {
       "model_id": "6a7cec49b4e54707a2782cf3ac76c373",
       "version_major": 2,
       "version_minor": 0
      },
      "text/plain": [
       "HBox(children=(IntProgress(value=0), HTML(value='')))"
      ]
     },
     "metadata": {},
     "output_type": "display_data"
    },
    {
     "name": "stdout",
     "output_type": "stream",
     "text": [
      "\n"
     ]
    }
   ],
   "source": [
    "perms = model.permute_attn(Xt)\n",
    "pdump(model, perms, 'attn_permutation')"
   ]
  },
  {
   "cell_type": "code",
   "execution_count": 28,
   "metadata": {},
   "outputs": [],
   "source": [
    "perms = pload(model, 'attn_permutation')"
   ]
  },
  {
   "cell_type": "code",
   "execution_count": 29,
   "metadata": {},
   "outputs": [
    {
     "data": {
      "image/png": "[encoded data removed]",
      "text/plain": [
       "<Figure size 1080x1080 with 4 Axes>"
      ]
     },
     "metadata": {
      "image/png": {
       "height": 249,
       "width": 1073
      },
      "needs_background": "light"
     },
     "output_type": "display_data"
    }
   ],
   "source": [
    "plot_permutations(perms, Xt, yt_hat, attn_hat, dirname=model.dirname)"
   ]
  },
  {
   "cell_type": "markdown",
   "metadata": {},
   "source": [
    "**Adversarial Attention**\n",
    "========================="
   ]
  },
  {
   "cell_type": "code",
   "execution_count": null,
   "metadata": {},
   "outputs": [
    {
     "data": {
      "application/vnd.jupyter.widget-view+json": {
       "model_id": "ac5a9e6eff41417ba6e61a72c3ab503d",
       "version_major": 2,
       "version_minor": 0
      },
      "text/plain": [
       "HBox(children=(IntProgress(value=0, max=137), HTML(value='')))"
      ]
     },
     "metadata": {},
     "output_type": "display_data"
    }
   ],
   "source": [
    "adversarial_outputs = model.adversarial(Xt, _type='uniform')\n",
    "pdump(model, adversarial_outputs, 'adversarial')\n",
    "ad_y, ad_attn = adversarial_outputs"
   ]
  },
  {
   "cell_type": "code",
   "execution_count": null,
   "metadata": {},
   "outputs": [],
   "source": [
    "jds = plot_adversarial(Xt, yt_hat, attn_hat, adversarial_outputs, dirname=model.dirname)"
   ]
  },
  {
   "cell_type": "code",
   "execution_count": null,
   "metadata": {},
   "outputs": [],
   "source": [
    "idx = list(np.where(np.logical_and(np.array(jds) > 0.5, yt_hat > 0.7))[0])[:30]\n",
    "idx"
   ]
  },
  {
   "cell_type": "code",
   "execution_count": null,
   "metadata": {},
   "outputs": [],
   "source": [
    "n = 113\n",
    "print_adversarial_example(vec.map2words(X[n]), attn_hat[n], ad_attn[n])\n",
    "print(yt_hat[n], ad_y[n])"
   ]
  },
  {
   "cell_type": "markdown",
   "metadata": {},
   "source": [
    "**Zero Runs** -- p(y|x, c) - p(y|x)\n",
    "============="
   ]
  },
  {
   "cell_type": "code",
   "execution_count": null,
   "metadata": {},
   "outputs": [],
   "source": [
    "zero_runs = model.zero_H_run(Xt)"
   ]
  },
  {
   "cell_type": "code",
   "execution_count": null,
   "metadata": {},
   "outputs": [],
   "source": [
    "zero_outputs, zero_H_diff = zero_runs"
   ]
  },
  {
   "cell_type": "code",
   "execution_count": null,
   "metadata": {},
   "outputs": [],
   "source": [
    "plot_attn_diff(Xt, attn_hat, zero_H_diff, xlabel='Attention', ylabel=\"H(x|c) - H(x)\", \n",
    "               title=\"Attention vs change in hidden state\", save_name=\"hxc-hx.pdf\", dirname=model.dirname)\n",
    "plot_y_diff(X, attn_hat, yt_hat, zero_outputs, xlabel=\"Attention\", ylabel=\"p(y|x, c) - p(y|x)\", \n",
    "            title=\"Attention vs change in output\", save_name=\"pyxc-pyx.pdf\", dirname=model.dirname)"
   ]
  },
  {
   "cell_type": "markdown",
   "metadata": {},
   "source": [
    "**Remove and Run** -- p(y|x, c) - p(y|c)\n",
    "=================="
   ]
  },
  {
   "cell_type": "code",
   "execution_count": null,
   "metadata": {},
   "outputs": [],
   "source": [
    "remove_outputs = model.remove_and_run(Xt)\n",
    "pdump(model, remove_outputs, 'remove_run')"
   ]
  },
  {
   "cell_type": "code",
   "execution_count": null,
   "metadata": {},
   "outputs": [],
   "source": [
    "plot_y_diff(Xt, attn_hat, yt_hat, remove_outputs, xlabel=\"Attention\", ylabel=\"p(y|x, c) - p(y|c)\", \n",
    "            title=\"Attention vs change in output\", save_name=\"pyxc-pyc.pdf\", dirname=model.dirname)"
   ]
  },
  {
   "cell_type": "markdown",
   "metadata": {},
   "source": [
    "**Perturbation**\n",
    "================"
   ]
  },
  {
   "cell_type": "code",
   "execution_count": null,
   "metadata": {},
   "outputs": [],
   "source": [
    "perturb_outputs = model.perturbation_embedding(Xt)"
   ]
  },
  {
   "cell_type": "code",
   "execution_count": null,
   "metadata": {},
   "outputs": [],
   "source": [
    "plot_pertub_embedding(Xt, attn_hat, yt_hat, perturb_outputs, dirname=model.dirname)"
   ]
  },
  {
   "cell_type": "code",
   "execution_count": null,
   "metadata": {},
   "outputs": [],
   "source": []
  }
 ],
 "metadata": {
  "kernelspec": {
   "display_name": "Python 3",
   "language": "python",
   "name": "python3"
  },
  "language_info": {
   "codemirror_mode": {
    "name": "ipython",
    "version": 3
   },
   "file_extension": ".py",
   "mimetype": "text/x-python",
   "name": "python",
   "nbconvert_exporter": "python",
   "pygments_lexer": "ipython3",
   "version": "3.7.0"
  }
 },
 "nbformat": 4,
 "nbformat_minor": 2
}

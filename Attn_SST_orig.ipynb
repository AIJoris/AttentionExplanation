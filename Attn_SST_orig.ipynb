{
 "cells": [
  {
   "cell_type": "code",
   "execution_count": 2,
   "metadata": {},
   "outputs": [
    {
     "name": "stdout",
     "output_type": "stream",
     "text": [
      "The autoreload extension is already loaded. To reload it, use:\n",
      "  %reload_ext autoreload\n"
     ]
    }
   ],
   "source": [
    "%load_ext autoreload\n",
    "%autoreload 2\n",
    "%matplotlib inline\n",
    "%config InlineBackend.figure_format = 'retina'"
   ]
  },
  {
   "cell_type": "code",
   "execution_count": 3,
   "metadata": {},
   "outputs": [],
   "source": [
    "import numpy as np\n",
    "import pandas as pd\n",
    "from tqdm import tqdm_notebook\n",
    "import matplotlib.pyplot as plt\n",
    "import seaborn as sns\n",
    "from sklearn.metrics import classification_report\n",
    "np.set_printoptions(suppress=True)"
   ]
  },
  {
   "cell_type": "code",
   "execution_count": 4,
   "metadata": {},
   "outputs": [],
   "source": [
    "import sys\n",
    "sys.path.insert(0, 'preprocess/')\n",
    "import vectorizer\n",
    "\n",
    "import pickle"
   ]
  },
  {
   "cell_type": "code",
   "execution_count": 5,
   "metadata": {},
   "outputs": [],
   "source": [
    "vec = pickle.load(open('preprocess/SST/sst.p', 'rb'))"
   ]
  },
  {
   "cell_type": "code",
   "execution_count": 6,
   "metadata": {},
   "outputs": [],
   "source": [
    "import model.Attn_Word as AttnModel\n",
    "Model = AttnModel.Model"
   ]
  },
  {
   "cell_type": "code",
   "execution_count": 7,
   "metadata": {},
   "outputs": [],
   "source": [
    "vocab_size = vec.vocab_size\n",
    "embed_size = vec.word_dim"
   ]
  },
  {
   "cell_type": "code",
   "execution_count": 8,
   "metadata": {},
   "outputs": [],
   "source": [
    "X, Xt = vec.seq_text['train'], vec.seq_text['test']\n",
    "y, yt = vec.label['train'], vec.label['test']"
   ]
  },
  {
   "cell_type": "code",
   "execution_count": 9,
   "metadata": {},
   "outputs": [
    {
     "name": "stdout",
     "output_type": "stream",
     "text": [
      "0\n"
     ]
    }
   ],
   "source": [
    "ind_1 = [i for i, x in enumerate(X) if len(x) <= 2]\n",
    "X = [x for i, x in enumerate(X) if i not in ind_1]\n",
    "y = [x for i, x in enumerate(y) if i not in ind_1]\n",
    "print(len(ind_1))\n",
    "ind_1 = [i for i, x in enumerate(Xt) if len(x) <= 2]\n",
    "Xt = [x for i, x in enumerate(Xt) if i not in ind_1]\n",
    "yt = [x for i, x in enumerate(yt) if i not in ind_1]"
   ]
  },
  {
   "cell_type": "code",
   "execution_count": 10,
   "metadata": {},
   "outputs": [],
   "source": [
    "def train(std, lreg, kld=False, name='') :\n",
    "    model = Model(vocab_size, embed_size, 32, dirname='sst', pre_embed=vec.embeddings)\n",
    "    model.std = std\n",
    "    model.lreg = lreg\n",
    "    loss_list = []\n",
    "\n",
    "    for i in tqdm_notebook(range(7)) :\n",
    "        if kld :\n",
    "            if i >= 1 :\n",
    "                correct=True\n",
    "            else :\n",
    "                correct=False\n",
    "        else : correct = False\n",
    "        loss, losses = model.train(X, y, correct=correct)\n",
    "        print(loss)\n",
    "        loss_list.append(losses)\n",
    "        o, he = model.evaluate(Xt)\n",
    "        o = np.array(o)\n",
    "        rep = classification_report(yt, (o > 0.5))\n",
    "        print(rep)\n",
    "        stmt = '%s, %s, %s, %s' % (i, loss, std, lreg)\n",
    "        dirname = model.save_values(add_name=name+'_test_'+str(std)+'_'+str(lreg), save_model=(not np.isnan(loss)))\n",
    "        f = open(dirname + '/epoch.txt', 'a')\n",
    "        f.write(stmt + '\\n')\n",
    "        f.write(rep + '\\n')\n",
    "        f.close()\n",
    "    \n",
    "    pickle.dump(loss_list, open(dirname + '/loss_list.p', 'wb'))\n",
    "    model.loss_list = loss_list\n",
    "    return model"
   ]
  },
  {
   "cell_type": "code",
   "execution_count": 14,
   "metadata": {},
   "outputs": [],
   "source": [
    "lreg = [0.005, 0.01, 0.05, 0.1, 0.5, 1, 1.5, 2]\n",
    "std = [0.005, 0.01, 0.05, 0.1, 0.5, 1, 1.5, 2]"
   ]
  },
  {
   "cell_type": "code",
   "execution_count": 15,
   "metadata": {},
   "outputs": [
    {
     "name": "stdout",
     "output_type": "stream",
     "text": [
      "Setting Embedding\n"
     ]
    },
    {
     "data": {
      "application/vnd.jupyter.widget-view+json": {
       "model_id": "4aab4d91bc6644b499215947ef41c5a7",
       "version_major": 2,
       "version_minor": 0
      },
      "text/plain": [
       "HBox(children=(IntProgress(value=0, max=7), HTML(value='')))"
      ]
     },
     "metadata": {},
     "output_type": "display_data"
    },
    {
     "data": {
      "application/vnd.jupyter.widget-view+json": {
       "model_id": "8644801bbdc54a4eaf5ea4118e71d445",
       "version_major": 2,
       "version_minor": 0
      },
      "text/plain": [
       "HBox(children=(IntProgress(value=0, max=195), HTML(value='')))"
      ]
     },
     "metadata": {},
     "output_type": "display_data"
    },
    {
     "name": "stdout",
     "output_type": "stream",
     "text": [
      "tensor(1.00000e-03 *\n",
      "       [[ 1.5029,  1.0030,  3.2585,  ...,  0.0000,  0.0000,  0.0000],\n",
      "        [-0.7101, -1.6123, -1.2102,  ...,  0.0000,  0.0000,  0.0000],\n",
      "        [-0.4603,  1.1363,  2.2358,  ...,  0.0000,  0.0000,  0.0000],\n",
      "        ...,\n",
      "        [ 0.9933,  2.0050, -0.6084,  ...,  0.0000,  0.0000,  0.0000],\n",
      "        [ 0.1151, -1.5193, -0.4917,  ...,  0.0000,  0.0000,  0.0000],\n",
      "        [ 2.0062, -0.3347, -2.0573,  ...,  0.0000,  0.0000,  0.0000]], device='cuda:0')\n",
      "\n"
     ]
    },
    {
     "ename": "NameError",
     "evalue": "name 'ss' is not defined",
     "output_type": "error",
     "traceback": [
      "\u001b[0;31m---------------------------------------------------------------------------\u001b[0m",
      "\u001b[0;31mNameError\u001b[0m                                 Traceback (most recent call last)",
      "\u001b[0;32m<ipython-input-15-0f6a1d6ca331>\u001b[0m in \u001b[0;36m<module>\u001b[0;34m()\u001b[0m\n\u001b[0;32m----> 1\u001b[0;31m \u001b[0mmodel\u001b[0m \u001b[0;34m=\u001b[0m \u001b[0mtrain\u001b[0m\u001b[0;34m(\u001b[0m\u001b[0mstd\u001b[0m\u001b[0;34m[\u001b[0m\u001b[0;36m0\u001b[0m\u001b[0;34m]\u001b[0m\u001b[0;34m,\u001b[0m \u001b[0mlreg\u001b[0m\u001b[0;34m[\u001b[0m\u001b[0;36m0\u001b[0m\u001b[0;34m]\u001b[0m\u001b[0;34m,\u001b[0m \u001b[0mkld\u001b[0m\u001b[0;34m=\u001b[0m\u001b[0;32mFalse\u001b[0m\u001b[0;34m,\u001b[0m \u001b[0mname\u001b[0m\u001b[0;34m=\u001b[0m\u001b[0;34m'test'\u001b[0m\u001b[0;34m)\u001b[0m\u001b[0;34m\u001b[0m\u001b[0m\n\u001b[0m",
      "\u001b[0;32m<ipython-input-10-f3f69f56d5b7>\u001b[0m in \u001b[0;36mtrain\u001b[0;34m(std, lreg, kld, name)\u001b[0m\n\u001b[1;32m     12\u001b[0m                 \u001b[0mcorrect\u001b[0m\u001b[0;34m=\u001b[0m\u001b[0;32mFalse\u001b[0m\u001b[0;34m\u001b[0m\u001b[0m\n\u001b[1;32m     13\u001b[0m         \u001b[0;32melse\u001b[0m \u001b[0;34m:\u001b[0m \u001b[0mcorrect\u001b[0m \u001b[0;34m=\u001b[0m \u001b[0;32mFalse\u001b[0m\u001b[0;34m\u001b[0m\u001b[0m\n\u001b[0;32m---> 14\u001b[0;31m         \u001b[0mloss\u001b[0m\u001b[0;34m,\u001b[0m \u001b[0mlosses\u001b[0m \u001b[0;34m=\u001b[0m \u001b[0mmodel\u001b[0m\u001b[0;34m.\u001b[0m\u001b[0mtrain\u001b[0m\u001b[0;34m(\u001b[0m\u001b[0mX\u001b[0m\u001b[0;34m,\u001b[0m \u001b[0my\u001b[0m\u001b[0;34m,\u001b[0m \u001b[0mcorrect\u001b[0m\u001b[0;34m=\u001b[0m\u001b[0mcorrect\u001b[0m\u001b[0;34m)\u001b[0m\u001b[0;34m\u001b[0m\u001b[0m\n\u001b[0m\u001b[1;32m     15\u001b[0m         \u001b[0mprint\u001b[0m\u001b[0;34m(\u001b[0m\u001b[0mloss\u001b[0m\u001b[0;34m)\u001b[0m\u001b[0;34m\u001b[0m\u001b[0m\n\u001b[1;32m     16\u001b[0m         \u001b[0mloss_list\u001b[0m\u001b[0;34m.\u001b[0m\u001b[0mappend\u001b[0m\u001b[0;34m(\u001b[0m\u001b[0mlosses\u001b[0m\u001b[0;34m)\u001b[0m\u001b[0;34m\u001b[0m\u001b[0m\n",
      "\u001b[0;32m~/Transparency/model/Attn_Word.py\u001b[0m in \u001b[0;36mtrain\u001b[0;34m(self, data_in, target_in, train, correct)\u001b[0m\n\u001b[1;32m    209\u001b[0m                     \u001b[0mloss\u001b[0m\u001b[0;34m.\u001b[0m\u001b[0mbackward\u001b[0m\u001b[0;34m(\u001b[0m\u001b[0;34m)\u001b[0m\u001b[0;34m\u001b[0m\u001b[0m\n\u001b[1;32m    210\u001b[0m                     \u001b[0mprint\u001b[0m\u001b[0;34m(\u001b[0m\u001b[0mbatch_data\u001b[0m\u001b[0;34m.\u001b[0m\u001b[0mattn\u001b[0m\u001b[0;34m.\u001b[0m\u001b[0mgrad\u001b[0m\u001b[0;34m)\u001b[0m\u001b[0;34m\u001b[0m\u001b[0m\n\u001b[0;32m--> 211\u001b[0;31m                     \u001b[0mss\u001b[0m\u001b[0;34m\u001b[0m\u001b[0m\n\u001b[0m\u001b[1;32m    212\u001b[0m                     \u001b[0mnn\u001b[0m\u001b[0;34m.\u001b[0m\u001b[0mutils\u001b[0m\u001b[0;34m.\u001b[0m\u001b[0mclip_grad_norm_\u001b[0m\u001b[0;34m(\u001b[0m\u001b[0mself\u001b[0m\u001b[0;34m.\u001b[0m\u001b[0mencoder\u001b[0m\u001b[0;34m.\u001b[0m\u001b[0mparameters\u001b[0m\u001b[0;34m(\u001b[0m\u001b[0;34m)\u001b[0m\u001b[0;34m,\u001b[0m \u001b[0;36m5\u001b[0m\u001b[0;34m)\u001b[0m\u001b[0;34m\u001b[0m\u001b[0m\n\u001b[1;32m    213\u001b[0m                     \u001b[0mnn\u001b[0m\u001b[0;34m.\u001b[0m\u001b[0mutils\u001b[0m\u001b[0;34m.\u001b[0m\u001b[0mclip_grad_norm_\u001b[0m\u001b[0;34m(\u001b[0m\u001b[0mself\u001b[0m\u001b[0;34m.\u001b[0m\u001b[0mdecoder\u001b[0m\u001b[0;34m.\u001b[0m\u001b[0mparameters\u001b[0m\u001b[0;34m(\u001b[0m\u001b[0;34m)\u001b[0m\u001b[0;34m,\u001b[0m \u001b[0;36m5\u001b[0m\u001b[0;34m)\u001b[0m\u001b[0;34m\u001b[0m\u001b[0m\n",
      "\u001b[0;31mNameError\u001b[0m: name 'ss' is not defined"
     ]
    }
   ],
   "source": [
    "model = train(std[0], lreg[0], kld=False, name='test')"
   ]
  },
  {
   "cell_type": "code",
   "execution_count": null,
   "metadata": {},
   "outputs": [],
   "source": [
    "for lr in lreg :\n",
    "    for s in std :\n",
    "        if lr <= 1 and s <= 1 :\n",
    "            continue\n",
    "        print(s, lr)\n",
    "        model = train(s, lr, kld=True, name='kld')"
   ]
  },
  {
   "cell_type": "code",
   "execution_count": null,
   "metadata": {},
   "outputs": [],
   "source": [
    "def load_model(dirname) :\n",
    "    model = Model(vocab_size, embed_size, 32, dirname='sst', pre_embed=vec.embeddings)\n",
    "    model.std = 2\n",
    "    model.lreg = 1\n",
    "    model.dirname = dirname\n",
    "    model.load_values(dirname)\n",
    "    return model"
   ]
  },
  {
   "cell_type": "code",
   "execution_count": null,
   "metadata": {},
   "outputs": [],
   "source": [
    "dirname_normal = 'outputs/attn_word_sst/ThuJul1213:15:002018_normal/'\n",
    "model_normal = load_model(dirname_normal)"
   ]
  },
  {
   "cell_type": "code",
   "execution_count": null,
   "metadata": {},
   "outputs": [],
   "source": [
    "dirname_kld = 'outputs/attn_word_sst/FriJul1300:08:552018_kld_test_2_1.5/'\n",
    "model_kld = load_model(dirname_kld)"
   ]
  },
  {
   "cell_type": "code",
   "execution_count": null,
   "metadata": {},
   "outputs": [],
   "source": [
    "import pickle\n",
    "loss_list = pickle.load(open('outputs/attn_word_sst/FriJul1300:50:572018_kld_test_2_2/loss_list.p', 'rb'))"
   ]
  },
  {
   "cell_type": "markdown",
   "metadata": {},
   "source": [
    "Evaluation\n",
    "=========="
   ]
  },
  {
   "cell_type": "code",
   "execution_count": null,
   "metadata": {},
   "outputs": [],
   "source": [
    "Xtest = Xt\n",
    "ytest = yt"
   ]
  },
  {
   "cell_type": "code",
   "execution_count": null,
   "metadata": {},
   "outputs": [],
   "source": [
    "def generate_sampled(model) :\n",
    "    attn_list = []\n",
    "    sampled_list = []\n",
    "    for i in range(10) :\n",
    "        _, attn, sampled = model.evaluate(Xtest, sample=True)\n",
    "        attn_list.append(attn)\n",
    "        sampled_list.append(sampled)\n",
    "        \n",
    "    pickle.dump([attn_list, sampled_list], open(model.dirname + '/sampled.p', 'wb'))\n",
    "        \n",
    "def load_sampled(model) :\n",
    "    attn_list, sampled_list = pickle.load(open(model.dirname + '/sampled.p', 'rb'))\n",
    "    attn = list(map(list, zip(*attn_list)))\n",
    "    attn = [np.array(x) for x in attn]\n",
    "    attn = [x.mean(0) for x in attn]\n",
    "\n",
    "    sampled = list(map(list, zip(*sampled_list)))\n",
    "    sampled = [np.array(x) for x in sampled]\n",
    "    sampled = [x.mean(0) for x in sampled]\n",
    "\n",
    "    model.attn = attn\n",
    "    model.sampled = sampled"
   ]
  },
  {
   "cell_type": "code",
   "execution_count": null,
   "metadata": {},
   "outputs": [],
   "source": [
    "import os\n",
    "files = os.listdir('outputs/attn_word_sst/')\n",
    "for f in tqdm_notebook(files) :\n",
    "    try :\n",
    "        dirname_kld = 'outputs/attn_word_sst/' + f\n",
    "        if os.path.isfile(dirname_kld + '/sampled.p') :\n",
    "            continue\n",
    "        model_kld = load_model(dirname_kld)\n",
    "        generate_sampled(model_kld)\n",
    "    except :\n",
    "        continue"
   ]
  },
  {
   "cell_type": "code",
   "execution_count": null,
   "metadata": {},
   "outputs": [],
   "source": [
    "# generate_sampled(model_normal)\n",
    "generate_sampled(model_kld)"
   ]
  },
  {
   "cell_type": "code",
   "execution_count": null,
   "metadata": {},
   "outputs": [],
   "source": [
    "models = {}\n",
    "\n",
    "for f in files :\n",
    "    try :\n",
    "        g = f.split('_')\n",
    "        std = float(g[-2])\n",
    "        lreg = float(g[-1])\n",
    "        dirname_kld = 'outputs/attn_word_sst/' + f\n",
    "        models[(std, lreg)] = load_model(dirname_kld)\n",
    "        load_sampled(models[(std, lreg)])\n",
    "    except Exception as e:\n",
    "        print(e)\n",
    "        continue"
   ]
  },
  {
   "cell_type": "code",
   "execution_count": null,
   "metadata": {},
   "outputs": [],
   "source": [
    "len(models)"
   ]
  },
  {
   "cell_type": "code",
   "execution_count": null,
   "metadata": {},
   "outputs": [],
   "source": [
    "def calc_corr(model) :\n",
    "    a = []\n",
    "    b = []\n",
    "    for i in range(len(model.attn)) :\n",
    "        a += list(model.attn[i])\n",
    "        b += list(model.sampled[i])\n",
    "        \n",
    "    ind = [i for i, (x, y) in enumerate(zip(a, b)) if y == y and x > 0.0]\n",
    "\n",
    "    a = np.array(a)[ind]\n",
    "    b = np.array(b)[ind]\n",
    "    model.spear = spearmanr(a, b)\n",
    "    model.kendall = kendalltau(a, b)\n",
    "    model.pear = np.corrcoef(a, b)"
   ]
  },
  {
   "cell_type": "code",
   "execution_count": null,
   "metadata": {},
   "outputs": [],
   "source": [
    "for m in tqdm_notebook(models) :\n",
    "    calc_corr(models[m])"
   ]
  },
  {
   "cell_type": "code",
   "execution_count": null,
   "metadata": {},
   "outputs": [],
   "source": [
    "scores = np.zeros((len(lreg), len(std)))"
   ]
  },
  {
   "cell_type": "code",
   "execution_count": null,
   "metadata": {},
   "outputs": [],
   "source": [
    "for i, l in enumerate(lreg) :\n",
    "    for j, s in enumerate(std) :\n",
    "        try :\n",
    "            scores[i, j] = models[(s, l)].pear[0, 1]\n",
    "        except :\n",
    "            scores[i, j] = models[(1.5, 1.0)].pear[0, 1]"
   ]
  },
  {
   "cell_type": "code",
   "execution_count": null,
   "metadata": {},
   "outputs": [],
   "source": [
    "fig = plt.figure(figsize=(10, 10))\n",
    "plt.imshow(scores)\n",
    "plt.xticks(range(len(std)), std)\n",
    "plt.yticks(range(len(lreg)), lreg)\n",
    "for i in range(8) :\n",
    "    for j in range(8) :\n",
    "        plt.text(i, j, \"{0:.3f}\".format(scores[j, i]))"
   ]
  },
  {
   "cell_type": "code",
   "execution_count": null,
   "metadata": {},
   "outputs": [],
   "source": [
    "from scipy.stats import spearmanr, kendalltau\n",
    "from cycler import cycler\n",
    "import matplotlib.pyplot as plt\n",
    "\n",
    "plt.rc('lines', linewidth=2)\n",
    "line_cycle = cycler('linestyle', ['-', '--'])\n",
    "color_cycle = cycler('color', ['#1f78b4', '#33a02c'])\n",
    "marker_cycle = cycler('marker', ['+', '2'])\n",
    "\n",
    "def plot(attn, sampled, ax, name, marker) :\n",
    "    a = []\n",
    "    b = []\n",
    "    for i in range(len(attn)) :\n",
    "        a += list(attn[i])\n",
    "        b += list(sampled[i])\n",
    "        \n",
    "    ind = [i for i, (x, y) in enumerate(zip(a, b)) if y == y and x > 0.0]\n",
    "\n",
    "    a = np.array(a)[ind]\n",
    "    b = np.array(b)[ind]\n",
    "    print(spearmanr(a, b))\n",
    "    print(kendalltau(a, b))\n",
    "    print(np.corrcoef(a, b))\n",
    "    fit = np.polyfit(a, b, deg=1)\n",
    "    r = np.linspace(0, 1, 10)\n",
    "    ax.plot(r, fit[0] * r + fit[1], label=name + (r' ($\\rho$=%.3f'%np.corrcoef(a, b)[0, 1]) + ')')\n",
    "    ax.scatter(a, b, s=0.8, alpha=0.5, marker=marker)\n",
    "    ax.set_xlabel('Attention')\n",
    "    ax.set_ylabel('Expected Normalised KL divergence')"
   ]
  },
  {
   "cell_type": "code",
   "execution_count": null,
   "metadata": {},
   "outputs": [],
   "source": [
    "fig, ax = plt.subplots()\n",
    "ax.set_prop_cycle(line_cycle + color_cycle) # + marker_cycle)\n",
    "# plot(model_normal.attn, model_normal.sampled, ax, name='Standard', marker='^')\n",
    "plot(model_kld.attn, model_kld.sampled, ax, name='Regularized', marker='*')\n",
    "ax.legend()"
   ]
  },
  {
   "cell_type": "markdown",
   "metadata": {},
   "source": [
    "Attention Maps\n",
    "=============="
   ]
  },
  {
   "cell_type": "code",
   "execution_count": null,
   "metadata": {},
   "outputs": [],
   "source": [
    "import matplotlib.ticker as ticker\n",
    "from mpl_toolkits.axes_grid1 import make_axes_locatable\n",
    "\n",
    "def showAttention(fig, ax, input_sentence, attnn, kldn, attnk, kldk):\n",
    "    # Set up figure with colorbar\n",
    "#     ax = fig.add_subplot()\n",
    "    attentions = np.stack([attnn, kldn, attnk, kldk], axis=0)\n",
    "    mask1 = np.zeros(attentions.shape)\n",
    "    mask1[1, :] = 1\n",
    "    mask1[3, :]\n",
    "    \n",
    "    a1 = np.ma.masked_array(attentions, mask1)\n",
    "    im = ax.imshow(a1, cmap='Reds', vmin=0, vmax=1, interpolation='none')\n",
    "#     divider = make_axes_locatable(ax)\n",
    "#     cax = divider.append_axes(\"right\", size=\"10%\", pad=0.05)\n",
    "#     fig.colorbar(im, cax=cax, ax=ax)\n",
    "#     cbar = fig.colorbar(cax, orientation='vertical')\n",
    "#     cbar.ax.set_yticklabels([])\n",
    "    \n",
    "    mask1 = np.zeros(attentions.shape)\n",
    "    mask1[0, :] = 1\n",
    "    mask1[2, :] = 1\n",
    "    \n",
    "    a1 = np.ma.masked_array(attentions, mask1)\n",
    "    im = ax.imshow(a1, cmap='Greens', vmin=0, vmax=1, interpolation='none')\n",
    "#     divider = make_axes_locatable(ax)\n",
    "#     cax = divider.append_axes(\"left\", size=\"10%\", pad=0.05)\n",
    "#     fig.colorbar(im, cax=cax, ax=ax)\n",
    "    #cbar.ax.set_yticklabels([])\n",
    "    \n",
    "    # Set up axes\n",
    "    ax.set_xticks(np.arange(len(input_sentence)))\n",
    "    ax.set_xticklabels(input_sentence, rotation=85)\n",
    "    \n",
    "    ax.set_yticks([])\n",
    "    ax.set_yticklabels([])\n",
    "\n",
    "#     plt.show()"
   ]
  },
  {
   "cell_type": "code",
   "execution_count": null,
   "metadata": {},
   "outputs": [],
   "source": [
    "idxs = []\n",
    "for idx, (att, sm) in enumerate(zip(model_normal.attn, model_normal.sampled)) :\n",
    "    kld = (att * np.log((att + 1e-8)/(sm + 1e-8))).sum()\n",
    "    if kld != kld :\n",
    "        continue\n",
    "    if kld > 1.5 :\n",
    "        idxs.append(idx)"
   ]
  },
  {
   "cell_type": "code",
   "execution_count": null,
   "metadata": {},
   "outputs": [],
   "source": [
    "not_eq = 0\n",
    "for idx, (i, j) in enumerate(zip(normal_pred, kld_pred)) :\n",
    "    if (i > 0.5) == (j > 0.5) :\n",
    "        print(idx, i, j)\n",
    "        not_eq += 1\n",
    "print(not_eq)"
   ]
  },
  {
   "cell_type": "code",
   "execution_count": null,
   "metadata": {},
   "outputs": [],
   "source": [
    "n = 422"
   ]
  },
  {
   "cell_type": "code",
   "execution_count": null,
   "metadata": {},
   "outputs": [],
   "source": [
    "import matplotlib.backends.backend_pdf\n",
    "pdf = matplotlib.backends.backend_pdf.PdfPages(\"output_sst.pdf\")\n",
    "for i, n in enumerate(idxs) :\n",
    "    fig, axes = plt.subplots(nrows=1, ncols=1, figsize=(8, 8))\n",
    "    showAttention(fig, axes, [vec.idx2word[x] for x in Xtest[n]], model_normal.attn[n][:len(Xtest[n])], model_normal.sampled[n][:len(Xtest[n])],\n",
    "                                                                model_kld.attn[n][:len(Xtest[n])], model_kld.sampled[n][:len(Xtest[n])])\n",
    "    pdf.savefig(fig)\n",
    "pdf.close()"
   ]
  },
  {
   "cell_type": "code",
   "execution_count": null,
   "metadata": {},
   "outputs": [],
   "source": [
    "plt.show()"
   ]
  },
  {
   "cell_type": "code",
   "execution_count": 1,
   "metadata": {},
   "outputs": [],
   "source": [
    "import torch"
   ]
  },
  {
   "cell_type": "code",
   "execution_count": 145,
   "metadata": {},
   "outputs": [
    {
     "data": {
      "text/plain": [
       "array([7.683411e-09], dtype=float32)"
      ]
     },
     "execution_count": 145,
     "metadata": {},
     "output_type": "execute_result"
    }
   ],
   "source": [
    "x = torch.randn(10, 30, 4, requires_grad=True)\n",
    "W = torch.randn(4, requires_grad=True)\n",
    "b = torch.randn(1, requires_grad=True)\n",
    "\n",
    "f = torch.matmul(x, W) + b\n",
    "a = torch.exp(f) / torch.exp(f).sum(-1).unsqueeze(-1)\n",
    "\n",
    "h = torch.matmul(a.unsqueeze(1), x).squeeze()\n",
    "\n",
    "W2 = torch.randn(4, 1, requires_grad=True)\n",
    "b2 = torch.randn(1, requires_grad=True)\n",
    "y = torch.matmul(h, W2) + b2\n",
    "\n",
    "t = (torch.randn(10) > 0).float()\n",
    "loss = torch.nn.BCEWithLogitsLoss()\n",
    "loss = loss(y.squeeze(), t)\n",
    "loss.backward()\n",
    "b.grad.numpy()"
   ]
  },
  {
   "cell_type": "code",
   "execution_count": null,
   "metadata": {},
   "outputs": [],
   "source": []
  }
 ],
 "metadata": {
  "kernelspec": {
   "display_name": "Python 3",
   "language": "python",
   "name": "python3"
  },
  "language_info": {
   "codemirror_mode": {
    "name": "ipython",
    "version": 3
   },
   "file_extension": ".py",
   "mimetype": "text/x-python",
   "name": "python",
   "nbconvert_exporter": "python",
   "pygments_lexer": "ipython3",
   "version": "3.7.0"
  }
 },
 "nbformat": 4,
 "nbformat_minor": 2
}

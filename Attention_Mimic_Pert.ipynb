{
 "cells": [
  {
   "cell_type": "code",
   "execution_count": 25,
   "metadata": {},
   "outputs": [
    {
     "name": "stdout",
     "output_type": "stream",
     "text": [
      "The autoreload extension is already loaded. To reload it, use:\n",
      "  %reload_ext autoreload\n"
     ]
    },
    {
     "data": {
      "text/html": [
       "\n",
       "<style>\n",
       ".jp-Stdin-input {\n",
       "    width: 80% !important;\n",
       "    height : 1.5em !important;\n",
       "    font-size : 1em;\n",
       "    background : white;\n",
       "    border:1px solid #cccccc;\n",
       "}\n",
       "</style>\n"
      ],
      "text/plain": [
       "<IPython.core.display.HTML object>"
      ]
     },
     "execution_count": 25,
     "metadata": {},
     "output_type": "execute_result"
    }
   ],
   "source": [
    "%load_ext autoreload\n",
    "%autoreload 2\n",
    "%matplotlib inline\n",
    "%config InlineBackend.figure_format = 'retina'\n",
    "\n",
    "from IPython.display import HTML\n",
    "HTML(\"\"\"\n",
    "<style>\n",
    ".jp-Stdin-input {\n",
    "    width: 80% !important;\n",
    "    height : 1.5em !important;\n",
    "    font-size : 1em;\n",
    "    background : white;\n",
    "    border:1px solid #cccccc;\n",
    "}\n",
    "</style>\n",
    "\"\"\")"
   ]
  },
  {
   "cell_type": "code",
   "execution_count": 26,
   "metadata": {},
   "outputs": [],
   "source": [
    "import numpy as np\n",
    "import torch\n",
    "import pandas as pd\n",
    "from tqdm import tqdm_notebook\n",
    "import matplotlib.pyplot as plt\n",
    "import seaborn as sns\n",
    "np.set_printoptions(suppress=True)"
   ]
  },
  {
   "cell_type": "code",
   "execution_count": 27,
   "metadata": {},
   "outputs": [],
   "source": [
    "import sys\n",
    "sys.path.insert(0, 'preprocess/')\n",
    "import vectorizer\n",
    "\n",
    "import pickle"
   ]
  },
  {
   "cell_type": "code",
   "execution_count": 28,
   "metadata": {},
   "outputs": [
    {
     "name": "stderr",
     "output_type": "stream",
     "text": [
      "/home/sarthak/anaconda3/lib/python3.7/site-packages/sklearn/base.py:311: UserWarning: Trying to unpickle estimator CountVectorizer from version 0.19.1 when using version 0.19.2. This might lead to breaking code or invalid results. Use at your own risk.\n",
      "  UserWarning)\n"
     ]
    }
   ],
   "source": [
    "vec = pickle.load(open('preprocess/MIMIC/vec.p', 'rb'))\n",
    "vec.output_size = len(vec.label2idx)\n",
    "\n",
    "freq = np.zeros((vec.vocab_size, ))\n",
    "for x in vec.seqs['train'] :\n",
    "    for w in x :\n",
    "        freq[w] += 1\n",
    "freq = freq / np.sum(freq)\n",
    "vec.freq = freq\n",
    "\n",
    "def map2words(sent) : \n",
    "    return [vec.idx2word[x] for x in sent]"
   ]
  },
  {
   "cell_type": "code",
   "execution_count": 29,
   "metadata": {},
   "outputs": [],
   "source": [
    "import model.Attn_Mimic_Pert as M\n",
    "Model = M.Model"
   ]
  },
  {
   "cell_type": "code",
   "execution_count": 6,
   "metadata": {},
   "outputs": [],
   "source": [
    "X, Xt = vec.seqs['train'], vec.seqs['test']\n",
    "y, yt = vec.label_one_hot['train'], vec.label_one_hot['test']"
   ]
  },
  {
   "cell_type": "code",
   "execution_count": 8,
   "metadata": {},
   "outputs": [],
   "source": [
    "len_t = np.argsort([len(x) for x in Xt])\n",
    "Xt = [Xt[i] for i in len_t]\n",
    "yt = [yt[i] for i in len_t]"
   ]
  },
  {
   "cell_type": "code",
   "execution_count": 9,
   "metadata": {},
   "outputs": [],
   "source": [
    "code_list = [vec.code_desc[vec.idx2label[i]] for i in range(len(vec.idx2label))]"
   ]
  },
  {
   "cell_type": "code",
   "execution_count": 10,
   "metadata": {},
   "outputs": [],
   "source": [
    "from sklearn.metrics import roc_auc_score, f1_score\n",
    "\n",
    "def train(name='') :\n",
    "    model = Model(vec.vocab_size, vec.word_dim, vec.output_size, 32, dirname='mimic', hidden_size=128, pre_embed=vec.embeddings)\n",
    "    for i in tqdm_notebook(range(10)) :\n",
    "        loss = model.train(X, y, code_list)\n",
    "        print(loss)\n",
    "        o, he = model.evaluate(Xt, code_list)\n",
    "        o = np.array(o)\n",
    "        macro_auc = roc_auc_score(yt, o, average='macro')\n",
    "        micro_auc = roc_auc_score(yt, o, average='micro')\n",
    "        \n",
    "        macro_f1 = f1_score(yt, np.where(o > 0.5, 1, 0), average='macro')\n",
    "        micro_f1 = f1_score(yt, np.where(o > 0.5, 1, 0), average='micro')\n",
    "        \n",
    "        stmt = '%s, %s' % (i, loss)\n",
    "        rep = 'Micro-AUC = %s, Macro-AUC = %s, Micro-F1 = %s, Macro-F1 = %s' %(micro_auc, macro_auc, micro_f1, macro_f1)\n",
    "        print(rep)\n",
    "\n",
    "        dirname = model.save_values(add_name=name)\n",
    "\n",
    "        f = open(dirname + '/epoch.txt', 'a')\n",
    "        f.write(stmt + '\\n')\n",
    "        f.write(rep + '\\n')\n",
    "        f.close()\n",
    "    \n",
    "    return model"
   ]
  },
  {
   "cell_type": "code",
   "execution_count": 11,
   "metadata": {},
   "outputs": [],
   "source": [
    "# train(name='TEST_embedding')"
   ]
  },
  {
   "cell_type": "code",
   "execution_count": 12,
   "metadata": {},
   "outputs": [],
   "source": [
    "# for i in range(20) :\n",
    "#     train(name='experiment_code_diff')"
   ]
  },
  {
   "cell_type": "code",
   "execution_count": 36,
   "metadata": {},
   "outputs": [],
   "source": [
    "def load_model(dirname) :\n",
    "    model = Model(vec.vocab_size, vec.word_dim, vec.output_size, 32, dirname='mimic', hidden_size=128, pre_embed=vec.embeddings)\n",
    "    model.dirname = dirname\n",
    "    model.load_values(dirname)\n",
    "    return model"
   ]
  },
  {
   "cell_type": "code",
   "execution_count": 37,
   "metadata": {},
   "outputs": [
    {
     "name": "stdout",
     "output_type": "stream",
     "text": [
      "Setting Embedding\n",
      "Setting Embedding\n"
     ]
    }
   ],
   "source": [
    "model = load_model('outputs/attn_sim_pert_mimic/SunSep2312:47:422018_TEST_embedding/')"
   ]
  },
  {
   "cell_type": "code",
   "execution_count": 38,
   "metadata": {
    "jupyter": {
     "source_hidden": true
    }
   },
   "outputs": [],
   "source": [
    "# import os\n",
    "# exps = os.listdir('outputs/attn_sim_pert_mimic/')\n",
    "# exps = [e for e in exps if 'experiment' in e]"
   ]
  },
  {
   "cell_type": "code",
   "execution_count": 39,
   "metadata": {
    "jupyter": {
     "source_hidden": true
    }
   },
   "outputs": [],
   "source": [
    "# model_normal_list = {}\n",
    "\n",
    "# from sklearn.metrics import accuracy_score\n",
    "# for e in exps :\n",
    "#     dirname_normal = 'outputs/attn_sim_pert_mimic/'+ e\n",
    "#     model = load_model(dirname_normal)\n",
    "#     o, he = model.evaluate(Xt, code_list)\n",
    "#     o = np.array(o)\n",
    "#     macro_auc = roc_auc_score(yt, o, average='macro')\n",
    "#     micro_auc = roc_auc_score(yt, o, average='micro')\n",
    "\n",
    "#     macro_f1 = f1_score(yt, np.where(o > 0.5, 1, 0), average='macro')\n",
    "#     micro_f1 = f1_score(yt, np.where(o > 0.5, 1, 0), average='micro')\n",
    "#     rep = 'Micro-AUC = %s, Macro-AUC = %s, Micro-F1 = %s, Macro-F1 = %s' %(micro_auc, macro_auc, micro_f1, macro_f1)\n",
    "\n",
    "#     print(rep)\n",
    "#     model_normal_list[e] = model"
   ]
  },
  {
   "cell_type": "code",
   "execution_count": 41,
   "metadata": {
    "jupyter": {
     "source_hidden": true
    }
   },
   "outputs": [],
   "source": [
    "o, he = model.evaluate(Xt[:500], code_list)"
   ]
  },
  {
   "cell_type": "code",
   "execution_count": 57,
   "metadata": {},
   "outputs": [
    {
     "name": "stdout",
     "output_type": "stream",
     "text": [
      "Non Zero :  tensor(185, device='cuda:0', dtype=torch.uint8)\n"
     ]
    },
    {
     "data": {
      "application/vnd.jupyter.widget-view+json": {
       "model_id": "130b84c1ba634e31bd530fd60f94901e",
       "version_major": 2,
       "version_minor": 0
      },
      "text/plain": [
       "HBox(children=(IntProgress(value=0, max=16), HTML(value='')))"
      ]
     },
     "metadata": {},
     "output_type": "display_data"
    },
    {
     "data": {
      "application/vnd.jupyter.widget-view+json": {
       "model_id": "2b329c05d9ea49fbb0d2047e6fa15acb",
       "version_major": 2,
       "version_minor": 0
      },
      "text/plain": [
       "HBox(children=(IntProgress(value=0), HTML(value='')))"
      ]
     },
     "metadata": {},
     "output_type": "display_data"
    },
    {
     "data": {
      "application/vnd.jupyter.widget-view+json": {
       "model_id": "fb6a188654a34f11b7923d4cf1c0a0ce",
       "version_major": 2,
       "version_minor": 0
      },
      "text/plain": [
       "HBox(children=(IntProgress(value=0), HTML(value='')))"
      ]
     },
     "metadata": {},
     "output_type": "display_data"
    },
    {
     "data": {
      "application/vnd.jupyter.widget-view+json": {
       "model_id": "809442d629c14693b8a482a2b2eaa532",
       "version_major": 2,
       "version_minor": 0
      },
      "text/plain": [
       "HBox(children=(IntProgress(value=0), HTML(value='')))"
      ]
     },
     "metadata": {},
     "output_type": "display_data"
    },
    {
     "data": {
      "application/vnd.jupyter.widget-view+json": {
       "model_id": "d00e8612243f4316bbe857f069479695",
       "version_major": 2,
       "version_minor": 0
      },
      "text/plain": [
       "HBox(children=(IntProgress(value=0), HTML(value='')))"
      ]
     },
     "metadata": {},
     "output_type": "display_data"
    },
    {
     "data": {
      "application/vnd.jupyter.widget-view+json": {
       "model_id": "5006f996eaac4732918177beb99ae094",
       "version_major": 2,
       "version_minor": 0
      },
      "text/plain": [
       "HBox(children=(IntProgress(value=0), HTML(value='')))"
      ]
     },
     "metadata": {},
     "output_type": "display_data"
    },
    {
     "data": {
      "application/vnd.jupyter.widget-view+json": {
       "model_id": "0e8011ccdc8f4e01b38dbbb904b37673",
       "version_major": 2,
       "version_minor": 0
      },
      "text/plain": [
       "HBox(children=(IntProgress(value=0), HTML(value='')))"
      ]
     },
     "metadata": {},
     "output_type": "display_data"
    },
    {
     "data": {
      "application/vnd.jupyter.widget-view+json": {
       "model_id": "cec83aeafff04ab3996c4a628ec557a1",
       "version_major": 2,
       "version_minor": 0
      },
      "text/plain": [
       "HBox(children=(IntProgress(value=0), HTML(value='')))"
      ]
     },
     "metadata": {},
     "output_type": "display_data"
    },
    {
     "data": {
      "application/vnd.jupyter.widget-view+json": {
       "model_id": "23ed25667a814dc893ba3a6d647947f5",
       "version_major": 2,
       "version_minor": 0
      },
      "text/plain": [
       "HBox(children=(IntProgress(value=0), HTML(value='')))"
      ]
     },
     "metadata": {},
     "output_type": "display_data"
    },
    {
     "data": {
      "application/vnd.jupyter.widget-view+json": {
       "model_id": "00f83dee1b6c4dd19bb7ad9c5878cf72",
       "version_major": 2,
       "version_minor": 0
      },
      "text/plain": [
       "HBox(children=(IntProgress(value=0), HTML(value='')))"
      ]
     },
     "metadata": {},
     "output_type": "display_data"
    },
    {
     "data": {
      "application/vnd.jupyter.widget-view+json": {
       "model_id": "8329301e62224e87bec1a238d5eadd1c",
       "version_major": 2,
       "version_minor": 0
      },
      "text/plain": [
       "HBox(children=(IntProgress(value=0), HTML(value='')))"
      ]
     },
     "metadata": {},
     "output_type": "display_data"
    },
    {
     "data": {
      "application/vnd.jupyter.widget-view+json": {
       "model_id": "e719699f05134b12824481faa4d6c9f6",
       "version_major": 2,
       "version_minor": 0
      },
      "text/plain": [
       "HBox(children=(IntProgress(value=0), HTML(value='')))"
      ]
     },
     "metadata": {},
     "output_type": "display_data"
    },
    {
     "data": {
      "application/vnd.jupyter.widget-view+json": {
       "model_id": "2858d30e3c2244e4949d48e87e93f4e8",
       "version_major": 2,
       "version_minor": 0
      },
      "text/plain": [
       "HBox(children=(IntProgress(value=0), HTML(value='')))"
      ]
     },
     "metadata": {},
     "output_type": "display_data"
    },
    {
     "data": {
      "application/vnd.jupyter.widget-view+json": {
       "model_id": "feede3e9066d4c71a895f42bfdb534ae",
       "version_major": 2,
       "version_minor": 0
      },
      "text/plain": [
       "HBox(children=(IntProgress(value=0), HTML(value='')))"
      ]
     },
     "metadata": {},
     "output_type": "display_data"
    },
    {
     "data": {
      "application/vnd.jupyter.widget-view+json": {
       "model_id": "c39e4c6fd38f48749ce5aafbe9baab47",
       "version_major": 2,
       "version_minor": 0
      },
      "text/plain": [
       "HBox(children=(IntProgress(value=0), HTML(value='')))"
      ]
     },
     "metadata": {},
     "output_type": "display_data"
    },
    {
     "data": {
      "application/vnd.jupyter.widget-view+json": {
       "model_id": "9d8a47af6c284b9d84205bf59f9d812b",
       "version_major": 2,
       "version_minor": 0
      },
      "text/plain": [
       "HBox(children=(IntProgress(value=0), HTML(value='')))"
      ]
     },
     "metadata": {},
     "output_type": "display_data"
    },
    {
     "data": {
      "application/vnd.jupyter.widget-view+json": {
       "model_id": "f88678234f904cc8a2c9a85ffbba5c8d",
       "version_major": 2,
       "version_minor": 0
      },
      "text/plain": [
       "HBox(children=(IntProgress(value=0), HTML(value='')))"
      ]
     },
     "metadata": {},
     "output_type": "display_data"
    }
   ],
   "source": [
    "model.vec = vec\n",
    "output = model.sampling(Xt[:500], code_list, sample_vocab=100)"
   ]
  },
  {
   "cell_type": "code",
   "execution_count": 58,
   "metadata": {},
   "outputs": [],
   "source": [
    "perts_attn, words_sampled, best_attn_idxs = output"
   ]
  },
  {
   "cell_type": "code",
   "execution_count": 60,
   "metadata": {},
   "outputs": [],
   "source": [
    "best_icd9 = [np.argmax(x) for x in o]"
   ]
  },
  {
   "cell_type": "code",
   "execution_count": 63,
   "metadata": {},
   "outputs": [],
   "source": [
    "perts_attn_med = [np.median(perts_attn[i], 1) for i in range(len(perts_attn))]"
   ]
  },
  {
   "cell_type": "code",
   "execution_count": 72,
   "metadata": {},
   "outputs": [],
   "source": [
    "meds, attn_meds = [], []\n",
    "for i in range(len(perts_attn)) :\n",
    "    m = perts_attn_med[i]\n",
    "    for j in range(10) :\n",
    "        meds.append(m[best_attn_idxs[i][j], j])\n",
    "        attn_meds.append(he[i][best_attn_idxs[i][j], best_icd9[i]])"
   ]
  },
  {
   "cell_type": "code",
   "execution_count": 51,
   "metadata": {},
   "outputs": [],
   "source": [
    "perts_attn_med_best = np.array([perts_attn_med[i][best_attn_idxs[i]][0] for i in range(len(perts_attn))])"
   ]
  },
  {
   "cell_type": "code",
   "execution_count": 52,
   "metadata": {},
   "outputs": [],
   "source": [
    "attn_med = np.array([he[i][best_attn_idxs[i], best_icd9[i]][0] for i in range(len(perts_attn))])"
   ]
  },
  {
   "cell_type": "code",
   "execution_count": 76,
   "metadata": {},
   "outputs": [
    {
     "data": {
      "text/plain": [
       "(0, 1)"
      ]
     },
     "execution_count": 76,
     "metadata": {},
     "output_type": "execute_result"
    },
    {
     "data": {
      "image/png": "[encoded data removed]",
      "text/plain": [
       "<Figure size 432x288 with 1 Axes>"
      ]
     },
     "metadata": {
      "image/png": {
       "height": 252,
       "width": 380
      },
      "needs_background": "light"
     },
     "output_type": "display_data"
    }
   ],
   "source": [
    "plt.scatter(attn_meds, meds, s=1)\n",
    "plt.xlim(0, 1)\n",
    "plt.ylim(0, 1)"
   ]
  },
  {
   "cell_type": "code",
   "execution_count": null,
   "metadata": {},
   "outputs": [],
   "source": [
    "from IPython.core.display import display, HTML\n",
    "import re\n",
    "def print_attn(sentence, attention) :\n",
    "    l = []\n",
    "    for w, a in zip(sentence, attention) :\n",
    "        w = re.sub('&', '&amp;', w)\n",
    "        w = re.sub('<', '&lt;', w)\n",
    "        w = re.sub('>', '&gt;', w)\n",
    "        \n",
    "        l.append('<span style=\"background-color:hsl(360,100%,' + str((1-a) * 50 + 50) + '%)\">' + w + ' </span>')\n",
    "    display(HTML(''.join(l)))"
   ]
  },
  {
   "cell_type": "code",
   "execution_count": null,
   "metadata": {},
   "outputs": [],
   "source": [
    "def plot_diff(sentence_1, idx, new_word, old_attn, new_attn) :\n",
    "    L = len(sentence_1)\n",
    "    print_attn(sentence_1, old_attn[:L])\n",
    "    sentence_1 = [x for x in sentence_1]\n",
    "    sentence_1[idx] = vec.idx2word[new_word]\n",
    "    print(\"=\"*20)\n",
    "    print_attn(sentence_1, new_attn[:L])"
   ]
  },
  {
   "cell_type": "code",
   "execution_count": null,
   "metadata": {},
   "outputs": [],
   "source": [
    "n = 50\n",
    "print(vec.label2desc[vec.idx2label[best_icd9[n]]])\n",
    "plot_diff(map2words(Xt[n]), \n",
    "          best_attn_idxs[n][0], \n",
    "          int(words_sampled[n][0]), \n",
    "          he[n][:, best_icd9[n]], \n",
    "          perts_attn[n][:, 0])"
   ]
  },
  {
   "cell_type": "code",
   "execution_count": null,
   "metadata": {},
   "outputs": [],
   "source": [
    "n = 20\n",
    "p = o[n].argsort()[-3]\n",
    "print(vec.label2desc[vec.idx2label[p]])\n",
    "\n",
    "attn = he[n][:, p]\n",
    "print_attn([vec.idx2word[x] for x in Xt[n]], attn)"
   ]
  },
  {
   "cell_type": "code",
   "execution_count": null,
   "metadata": {},
   "outputs": [],
   "source": [
    "def calc_entropy(i) :\n",
    "    h = he[i][:len(Xt[i])]\n",
    "    p = o[i].argmax()\n",
    "    a = h * np.log(np.clip(h, a_min=1e-8, a_max=None))\n",
    "    a = -a.sum(0)\n",
    "    return a[p], np.log(len(Xt[i])) \n",
    "entropy = [calc_entropy(i) for i in range(len(he))]"
   ]
  },
  {
   "cell_type": "code",
   "execution_count": null,
   "metadata": {},
   "outputs": [],
   "source": [
    "x, y = zip(*entropy)\n",
    "plt.scatter(x, y, s=1)"
   ]
  },
  {
   "cell_type": "code",
   "execution_count": null,
   "metadata": {},
   "outputs": [],
   "source": [
    "y.shape"
   ]
  },
  {
   "cell_type": "code",
   "execution_count": null,
   "metadata": {},
   "outputs": [],
   "source": []
  }
 ],
 "metadata": {
  "kernelspec": {
   "display_name": "Python 3",
   "language": "python",
   "name": "python3"
  },
  "language_info": {
   "codemirror_mode": {
    "name": "ipython",
    "version": 3
   },
   "file_extension": ".py",
   "mimetype": "text/x-python",
   "name": "python",
   "nbconvert_exporter": "python",
   "pygments_lexer": "ipython3",
   "version": "3.7.0"
  }
 },
 "nbformat": 4,
 "nbformat_minor": 2
}

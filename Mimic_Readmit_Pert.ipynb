{
 "cells": [
  {
   "cell_type": "code",
   "execution_count": 1,
   "metadata": {},
   "outputs": [
    {
     "data": {
      "text/html": [
       "\n",
       "<style>\n",
       ".jp-Stdin-input {\n",
       "    width: 80% !important;\n",
       "    height : 1.5em !important;\n",
       "    font-size : 1em;\n",
       "    background : white;\n",
       "    border:1px solid #cccccc;\n",
       "}\n",
       "</style>\n"
      ],
      "text/plain": [
       "<IPython.core.display.HTML object>"
      ]
     },
     "execution_count": 1,
     "metadata": {},
     "output_type": "execute_result"
    }
   ],
   "source": [
    "%load_ext autoreload\n",
    "%autoreload 2\n",
    "%matplotlib inline\n",
    "%config InlineBackend.figure_format = 'retina'\n",
    "\n",
    "from IPython.display import HTML\n",
    "HTML(\"\"\"\n",
    "<style>\n",
    ".jp-Stdin-input {\n",
    "    width: 80% !important;\n",
    "    height : 1.5em !important;\n",
    "    font-size : 1em;\n",
    "    background : white;\n",
    "    border:1px solid #cccccc;\n",
    "}\n",
    "</style>\n",
    "\"\"\")"
   ]
  },
  {
   "cell_type": "code",
   "execution_count": 2,
   "metadata": {},
   "outputs": [],
   "source": [
    "import numpy as np\n",
    "import torch\n",
    "import pandas as pd\n",
    "from tqdm import tqdm_notebook\n",
    "import matplotlib.pyplot as plt\n",
    "import seaborn as sns\n",
    "np.set_printoptions(suppress=True)"
   ]
  },
  {
   "cell_type": "code",
   "execution_count": 3,
   "metadata": {},
   "outputs": [],
   "source": [
    "import sys\n",
    "sys.path.insert(0, 'preprocess/')\n",
    "import vectorizer\n",
    "\n",
    "import pickle"
   ]
  },
  {
   "cell_type": "code",
   "execution_count": 30,
   "metadata": {},
   "outputs": [],
   "source": [
    "vec = pickle.load(open('preprocess/MIMIC/vec_admit_only.p', 'rb'))\n",
    "\n",
    "freq = np.zeros((vec.vocab_size, ))\n",
    "for x in vec.seqs['train'] :\n",
    "    for w in x :\n",
    "        freq[w] += 1\n",
    "freq = freq / np.sum(freq)\n",
    "vec.freq = freq"
   ]
  },
  {
   "cell_type": "code",
   "execution_count": 5,
   "metadata": {},
   "outputs": [],
   "source": [
    "import model.Attn_Readmit_Pert as M\n",
    "Model = M.Model"
   ]
  },
  {
   "cell_type": "code",
   "execution_count": 6,
   "metadata": {},
   "outputs": [],
   "source": [
    "X, Xt = vec.seqs['train'], vec.seqs['test']\n",
    "y, yt = vec.labels['train'], vec.labels['test']"
   ]
  },
  {
   "cell_type": "code",
   "execution_count": 7,
   "metadata": {},
   "outputs": [],
   "source": [
    "len_t = np.argsort([len(x) for x in Xt])\n",
    "Xt = [Xt[i] for i in len_t]\n",
    "yt = [yt[i] for i in len_t]"
   ]
  },
  {
   "cell_type": "code",
   "execution_count": 8,
   "metadata": {},
   "outputs": [],
   "source": [
    "pos_weight = len(y)/sum(y) - 1"
   ]
  },
  {
   "cell_type": "code",
   "execution_count": 11,
   "metadata": {},
   "outputs": [],
   "source": [
    "from sklearn.metrics import classification_report, f1_score\n",
    "\n",
    "def train(name='') :\n",
    "    model = Model(vec.vocab_size, vec.word_dim, 32, dirname='mimic', hidden_size=128, pre_embed=vec.embeddings, pos_weight=pos_weight)\n",
    "    best_f1 = 100.0\n",
    "    for i in tqdm_notebook(range(10)) :\n",
    "        loss = model.train(X, y, shuffle_batches=False)\n",
    "        o, he = model.evaluate(Xt)\n",
    "        o = np.array(o)\n",
    "        rep = classification_report(yt, (o > 0.5))\n",
    "        f1 = np.abs(f1_score(yt, (o > 0.5), pos_label=1) - f1_score(yt, (o > 0.5), pos_label=0))\n",
    "        print(rep)\n",
    "        stmt = '%s, %s' % (i, loss)\n",
    "        if f1 < best_f1 :\n",
    "            best_f1 = f1\n",
    "            dirname = model.save_values(add_name=name, save_model=True)\n",
    "            print(\"Model Saved\", f1)\n",
    "        else :\n",
    "            dirname = model.save_values(add_name=name, save_model=False)\n",
    "            print(\"Model not saved\", f1)\n",
    "        f = open(dirname + '/epoch.txt', 'a')\n",
    "        f.write(stmt + '\\n')\n",
    "        f.write(rep + '\\n')\n",
    "        f.close()\n",
    "    \n",
    "    return model"
   ]
  },
  {
   "cell_type": "code",
   "execution_count": null,
   "metadata": {},
   "outputs": [],
   "source": [
    "train(name='TEST_embedding_without_bias_preproc')"
   ]
  },
  {
   "cell_type": "markdown",
   "metadata": {},
   "source": [
    "# **EVALUATION**"
   ]
  },
  {
   "cell_type": "code",
   "execution_count": 13,
   "metadata": {},
   "outputs": [],
   "source": [
    "def load_model(dirname) :\n",
    "    model = Model(vec.vocab_size, vec.word_dim, 32, dirname='mimic', hidden_size=128, pre_embed=vec.embeddings)\n",
    "    model.dirname = dirname\n",
    "    model.load_values(dirname)\n",
    "    return model"
   ]
  },
  {
   "cell_type": "code",
   "execution_count": 14,
   "metadata": {},
   "outputs": [
    {
     "name": "stdout",
     "output_type": "stream",
     "text": [
      "Setting Embedding\n"
     ]
    }
   ],
   "source": [
    "model = load_model('outputs/readmit_mimic_pert_mimic/ThuOct412:27:252018_TEST_embedding_without_bias_preproc/')"
   ]
  },
  {
   "cell_type": "code",
   "execution_count": 15,
   "metadata": {
    "jupyter": {
     "source_hidden": true
    }
   },
   "outputs": [
    {
     "name": "stdout",
     "output_type": "stream",
     "text": [
      "              precision    recall  f1-score   support\n",
      "\n",
      "           0       0.74      0.38      0.51       551\n",
      "           1       0.39      0.74      0.51       291\n",
      "\n",
      "   micro avg       0.51      0.51      0.51       842\n",
      "   macro avg       0.56      0.56      0.51       842\n",
      "weighted avg       0.62      0.51      0.51       842\n",
      "\n"
     ]
    }
   ],
   "source": [
    "o, he = model.evaluate(Xt)\n",
    "o = np.array(o)\n",
    "rep = classification_report(yt, (o > 0.5))\n",
    "print(rep)"
   ]
  },
  {
   "cell_type": "code",
   "execution_count": 16,
   "metadata": {},
   "outputs": [],
   "source": [
    "from IPython.core.display import display, HTML\n",
    "import re\n",
    "def print_attn(sentence, attention) :\n",
    "    l = []\n",
    "    for w, a in zip(sentence, attention) :\n",
    "        w = re.sub('&', '&amp;', w)\n",
    "        w = re.sub('<', '&lt;', w)\n",
    "        w = re.sub('>', '&gt;', w)\n",
    "        \n",
    "        l.append('<span style=\"background-color:hsl(360,100%,' + str((1-a) * 50 + 50) + '%)\">' + w + ' </span>')\n",
    "    display(HTML(''.join(l)))"
   ]
  },
  {
   "cell_type": "code",
   "execution_count": 17,
   "metadata": {},
   "outputs": [
    {
     "data": {
      "text/plain": [
       "<matplotlib.collections.PathCollection at 0x7f3319f892e8>"
      ]
     },
     "execution_count": 17,
     "metadata": {},
     "output_type": "execute_result"
    },
    {
     "data": {
      "image/png": "[encoded data removed]",
      "text/plain": [
       "<Figure size 432x288 with 1 Axes>"
      ]
     },
     "metadata": {
      "image/png": {
       "height": 250,
       "width": 373
      },
      "needs_background": "light"
     },
     "output_type": "display_data"
    }
   ],
   "source": [
    "def calc_entropy(i) :\n",
    "    h = he[i][:len(Xt[i])]\n",
    "    a = h * np.log(np.clip(h, a_min=1e-8, a_max=None))\n",
    "    a = -a.sum()\n",
    "    return a, np.log(len(Xt[i])) \n",
    "entropy = [calc_entropy(i) for i in range(len(he))]\n",
    "\n",
    "x1, y1 = zip(*entropy)\n",
    "plt.scatter(x1, y1, s=1)"
   ]
  },
  {
   "cell_type": "code",
   "execution_count": 18,
   "metadata": {},
   "outputs": [
    {
     "name": "stdout",
     "output_type": "stream",
     "text": [
      "[20  4  9 13 10  8 12  2  0  1]\n",
      "0.08032749\n"
     ]
    }
   ],
   "source": [
    "print(np.argsort([max(x) for x in he])[-10:])\n",
    "print(max([max(x) for x in he]))"
   ]
  },
  {
   "cell_type": "markdown",
   "metadata": {},
   "source": [
    "# __SAMPLING__"
   ]
  },
  {
   "cell_type": "code",
   "execution_count": null,
   "metadata": {},
   "outputs": [],
   "source": [
    "model.vec = vec\n",
    "output = model.sampling(Xt, sample_vocab=50)"
   ]
  },
  {
   "cell_type": "code",
   "execution_count": null,
   "metadata": {},
   "outputs": [],
   "source": [
    "perts_attn, words_sampled, best_attn_idxs = output"
   ]
  },
  {
   "cell_type": "code",
   "execution_count": null,
   "metadata": {},
   "outputs": [],
   "source": [
    "perts_attn_med = [np.median(perts_attn[i], 1) for i in range(len(perts_attn))]"
   ]
  },
  {
   "cell_type": "code",
   "execution_count": null,
   "metadata": {},
   "outputs": [],
   "source": [
    "meds, attn_meds = [], []\n",
    "for i in range(len(perts_attn)) :\n",
    "    m = perts_attn_med[i]\n",
    "    for j in range(10) :\n",
    "        meds.append(m[best_attn_idxs[i][j], j])\n",
    "        attn_meds.append(he[i][best_attn_idxs[i][j]])"
   ]
  },
  {
   "cell_type": "code",
   "execution_count": null,
   "metadata": {},
   "outputs": [],
   "source": [
    "plt.scatter(attn_meds, meds, s=1)"
   ]
  },
  {
   "cell_type": "code",
   "execution_count": null,
   "metadata": {},
   "outputs": [],
   "source": [
    "def plot_diff(sentence_1, idx, new_word, old_attn, new_attn) :\n",
    "    L = len(sentence_1)\n",
    "    print_attn(sentence_1, old_attn[:L])\n",
    "    sentence_1 = [x for x in sentence_1]\n",
    "    sentence_1[idx] = vec.idx2word[new_word]\n",
    "    print(\"=\"*20)\n",
    "    print_attn(sentence_1, new_attn[:L])"
   ]
  },
  {
   "cell_type": "code",
   "execution_count": null,
   "metadata": {},
   "outputs": [],
   "source": [
    "n = 75\n",
    "w = 5\n",
    "plot_diff(map2words(Xt[n]), \n",
    "          best_attn_idxs[n][0], \n",
    "          int(words_sampled[n][w]), \n",
    "          he[n][:], \n",
    "          perts_attn[n][:, w, 0])"
   ]
  },
  {
   "cell_type": "markdown",
   "metadata": {},
   "source": [
    "# **LOGISTIC REGRESSION**"
   ]
  },
  {
   "cell_type": "code",
   "execution_count": 36,
   "metadata": {},
   "outputs": [],
   "source": [
    "vec.bow = {'train' : None, 'test' : None}\n",
    "for k in vec.bow.keys() :\n",
    "    vec.bow[k] = np.zeros((len(vec.seqs[k]), vec.vocab_size))\n",
    "    for i, s in enumerate(vec.seqs[k]) :\n",
    "        for x in s :\n",
    "            vec.bow[k][i, x] += 1\n",
    "    vec.bow[k] = vec.bow[k][:, 4:]"
   ]
  },
  {
   "cell_type": "code",
   "execution_count": 37,
   "metadata": {},
   "outputs": [],
   "source": [
    "from sklearn.feature_extraction.text import TfidfTransformer\n",
    "tfconv = TfidfTransformer()\n",
    "\n",
    "vec.tfidf = { 'train' : None, 'test' : None }\n",
    "vec.tfidf['train'] = tfconv.fit_transform(vec.bow['train'])\n",
    "vec.tfidf['test'] = tfconv.transform(vec.bow['test'])"
   ]
  },
  {
   "cell_type": "code",
   "execution_count": 38,
   "metadata": {},
   "outputs": [],
   "source": [
    "from sklearn.linear_model import SGDClassifier\n",
    "model_sgd = SGDClassifier(loss='log', class_weight='balanced', penalty='l1')"
   ]
  },
  {
   "cell_type": "code",
   "execution_count": 39,
   "metadata": {},
   "outputs": [
    {
     "name": "stderr",
     "output_type": "stream",
     "text": [
      "/home/sarthak/anaconda3/lib/python3.7/site-packages/sklearn/linear_model/stochastic_gradient.py:144: FutureWarning: max_iter and tol parameters have been added in SGDClassifier in 0.19. If both are left unset, they default to max_iter=5 and tol=None. If tol is not None, max_iter defaults to max_iter=1000. From 0.21, default max_iter will be 1000, and default tol will be 1e-3.\n",
      "  FutureWarning)\n"
     ]
    },
    {
     "data": {
      "text/plain": [
       "SGDClassifier(alpha=0.0001, average=False, class_weight='balanced',\n",
       "       early_stopping=False, epsilon=0.1, eta0=0.0, fit_intercept=True,\n",
       "       l1_ratio=0.15, learning_rate='optimal', loss='log', max_iter=None,\n",
       "       n_iter=None, n_iter_no_change=5, n_jobs=None, penalty='l1',\n",
       "       power_t=0.5, random_state=None, shuffle=True, tol=None,\n",
       "       validation_fraction=0.1, verbose=0, warm_start=False)"
      ]
     },
     "execution_count": 39,
     "metadata": {},
     "output_type": "execute_result"
    }
   ],
   "source": [
    "model_sgd.fit(vec.tfidf['train'], vec.labels['train'])"
   ]
  },
  {
   "cell_type": "code",
   "execution_count": 40,
   "metadata": {},
   "outputs": [
    {
     "name": "stdout",
     "output_type": "stream",
     "text": [
      "              precision    recall  f1-score   support\n",
      "\n",
      "           0       0.68      0.44      0.54       551\n",
      "           1       0.36      0.60      0.45       291\n",
      "\n",
      "   micro avg       0.50      0.50      0.50       842\n",
      "   macro avg       0.52      0.52      0.50       842\n",
      "weighted avg       0.57      0.50      0.51       842\n",
      "\n"
     ]
    }
   ],
   "source": [
    "pred = model_sgd.predict(vec.tfidf['test'])\n",
    "rep = classification_report(yt, pred)\n",
    "print(rep)"
   ]
  },
  {
   "cell_type": "code",
   "execution_count": 41,
   "metadata": {},
   "outputs": [],
   "source": [
    "abs_coef = np.abs(model_sgd.coef_[0])\n",
    "# abs_coef = abs_coef / sum(abs_coef)"
   ]
  },
  {
   "cell_type": "code",
   "execution_count": 42,
   "metadata": {},
   "outputs": [],
   "source": [
    "attns, lrc = [], []\n",
    "for i in range(len(he)) :\n",
    "    a = he[i][1:len(Xt[i])-1]\n",
    "    attns += list(a)\n",
    "    for j in Xt[i][1:-1] :\n",
    "        lrc.append(abs_coef[j-4])"
   ]
  },
  {
   "cell_type": "code",
   "execution_count": 43,
   "metadata": {},
   "outputs": [
    {
     "data": {
      "text/plain": [
       "<matplotlib.collections.PathCollection at 0x7f32ab4a7898>"
      ]
     },
     "execution_count": 43,
     "metadata": {},
     "output_type": "execute_result"
    },
    {
     "data": {
      "image/png": "[encoded data removed]",
      "text/plain": [
       "<Figure size 432x288 with 1 Axes>"
      ]
     },
     "metadata": {
      "image/png": {
       "height": 250,
       "width": 364
      },
      "needs_background": "light"
     },
     "output_type": "display_data"
    }
   ],
   "source": [
    "plt.scatter(attns, lrc, s=1)"
   ]
  },
  {
   "cell_type": "code",
   "execution_count": 44,
   "metadata": {},
   "outputs": [
    {
     "data": {
      "text/plain": [
       "['patient',\n",
       " 'metastatic',\n",
       " 'postoperative',\n",
       " 'seizure',\n",
       " 'ascites',\n",
       " ';',\n",
       " 'renal',\n",
       " 'peg',\n",
       " 'up',\n",
       " 'respiratory',\n",
       " 'for',\n",
       " 'graft',\n",
       " 'refills',\n",
       " 'disp',\n",
       " 'expired',\n",
       " 'at',\n",
       " 'subdural',\n",
       " 'trach',\n",
       " 'ml',\n",
       " 'infant']"
      ]
     },
     "execution_count": 44,
     "metadata": {},
     "output_type": "execute_result"
    }
   ],
   "source": [
    "vec.map2words_shift(np.argsort(abs_coef)[-20:])"
   ]
  },
  {
   "cell_type": "code",
   "execution_count": 47,
   "metadata": {},
   "outputs": [
    {
     "name": "stderr",
     "output_type": "stream",
     "text": [
      "/home/sarthak/anaconda3/lib/python3.7/site-packages/ipykernel_launcher.py:7: RuntimeWarning: divide by zero encountered in log\n",
      "  import sys\n"
     ]
    },
    {
     "data": {
      "text/plain": [
       "['cardic',\n",
       " 'dependance',\n",
       " 'convex',\n",
       " 'asterixes',\n",
       " 'psurgh',\n",
       " 'adf',\n",
       " 'flolan',\n",
       " 'anisocytosis',\n",
       " 'triads',\n",
       " 'sonata',\n",
       " 'vad',\n",
       " 'gtcs',\n",
       " 'frontally',\n",
       " 'malposition',\n",
       " 'dn',\n",
       " 'menstruation',\n",
       " 'adhered',\n",
       " 'asthmacort',\n",
       " 'psychopharmacology',\n",
       " 'txp']"
      ]
     },
     "execution_count": 47,
     "metadata": {},
     "output_type": "execute_result"
    }
   ],
   "source": [
    "c0 = np.clip(vec.bow['train'], a_min=0, a_max=1)[np.array(vec.labels['train']) == 0].sum(0)\n",
    "c1 = np.clip(vec.bow['train'], a_min=0, a_max=1)[np.array(vec.labels['train']) == 1].sum(0)\n",
    "\n",
    "pxy1 = c1 / sum(vec.labels['train'])\n",
    "pxy0 = c0 / (len(vec.labels['train']) - sum(vec.labels['train']))\n",
    "\n",
    "vec.map2words_shift(np.argsort(np.abs(np.log(pxy1) - np.log(pxy0)))[-20:])"
   ]
  },
  {
   "cell_type": "code",
   "execution_count": null,
   "metadata": {},
   "outputs": [],
   "source": []
  }
 ],
 "metadata": {
  "kernelspec": {
   "display_name": "Python 3",
   "language": "python",
   "name": "python3"
  },
  "language_info": {
   "codemirror_mode": {
    "name": "ipython",
    "version": 3
   },
   "file_extension": ".py",
   "mimetype": "text/x-python",
   "name": "python",
   "nbconvert_exporter": "python",
   "pygments_lexer": "ipython3",
   "version": "3.7.0"
  }
 },
 "nbformat": 4,
 "nbformat_minor": 2
}

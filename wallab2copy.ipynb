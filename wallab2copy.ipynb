{
 "cells": [
  {
   "cell_type": "code",
   "execution_count": 1,
   "metadata": {},
   "outputs": [
    {
     "name": "stderr",
     "output_type": "stream",
     "text": [
      "/media/data/sarthak/anaconda3/lib/python3.7/site-packages/sklearn/base.py:251: UserWarning: Trying to unpickle estimator CountVectorizer from version 0.20.0 when using version 0.20.1. This might lead to breaking code or invalid results. Use at your own risk.\n",
      "  UserWarning)\n",
      "/media/data/sarthak/anaconda3/lib/python3.7/site-packages/allennlp/common/params.py:512: FutureWarning: elementwise comparison failed; returning scalar instead, but in the future will perform elementwise comparison\n",
      "  if dictionary[key] == \"None\":\n",
      "INFO - 2019-03-31 14:39:36,816 - instantiating class <class 'Transparency.model.modules.Encoder.Encoder'> from params {'vocab_size': 22316, 'embed_size': 200, 'kernel_sizes': (1, 3, 5, 7), 'hidden_size': 64, 'activation': 'relu', 'type': 'cnn', 'pre_embed': array([[ 0.        ,  0.        ,  0.        , ...,  0.        ,\n",
      "         0.        ,  0.        ],\n",
      "       [ 0.60795819,  0.75690186, -0.45841884, ...,  0.32715918,\n",
      "         1.05838462, -1.00027972],\n",
      "       [ 0.32040939, -0.98453535, -1.66852078, ..., -0.12068232,\n",
      "         2.20697478, -1.14211235],\n",
      "       ...,\n",
      "       [ 1.16788733, -0.92413783,  1.75671399, ...,  0.00975742,\n",
      "        -0.28707436, -0.2458024 ],\n",
      "       [ 0.0009315 , -0.98411071, -1.11939907, ..., -6.90321016,\n",
      "         3.93742228, -1.51261103],\n",
      "       [-0.72030318, -0.14090668, -2.27291822, ..., -1.9552381 ,\n",
      "         0.7607277 , -1.39611304]])} and extras {}\n",
      "INFO - 2019-03-31 14:39:36,816 - type = cnn\n",
      "INFO - 2019-03-31 14:39:36,817 - instantiating class <class 'Transparency.model.modules.Encoder.EncoderCNN'> from params {'vocab_size': 22316, 'embed_size': 200, 'kernel_sizes': (1, 3, 5, 7), 'hidden_size': 64, 'activation': 'relu', 'pre_embed': array([[ 0.        ,  0.        ,  0.        , ...,  0.        ,\n",
      "         0.        ,  0.        ],\n",
      "       [ 0.60795819,  0.75690186, -0.45841884, ...,  0.32715918,\n",
      "         1.05838462, -1.00027972],\n",
      "       [ 0.32040939, -0.98453535, -1.66852078, ..., -0.12068232,\n",
      "         2.20697478, -1.14211235],\n",
      "       ...,\n",
      "       [ 1.16788733, -0.92413783,  1.75671399, ...,  0.00975742,\n",
      "        -0.28707436, -0.2458024 ],\n",
      "       [ 0.0009315 , -0.98411071, -1.11939907, ..., -6.90321016,\n",
      "         3.93742228, -1.51261103],\n",
      "       [-0.72030318, -0.14090668, -2.27291822, ..., -1.9552381 ,\n",
      "         0.7607277 , -1.39611304]])} and extras {}\n"
     ]
    },
    {
     "name": "stdout",
     "output_type": "stream",
     "text": [
      "Better speed can be achieved with apex installed from https://www.github.com/nvidia/apex.\n"
     ]
    },
    {
     "name": "stderr",
     "output_type": "stream",
     "text": [
      "INFO - 2019-03-31 14:39:43,081 - vocab_size = 22316\n",
      "INFO - 2019-03-31 14:39:43,082 - embed_size = 200\n",
      "INFO - 2019-03-31 14:39:43,084 - hidden_size = 64\n",
      "INFO - 2019-03-31 14:39:43,085 - kernel_sizes = (1, 3, 5, 7)\n",
      "INFO - 2019-03-31 14:39:43,087 - activation = relu\n",
      "INFO - 2019-03-31 14:39:43,089 - pre_embed = [[ 0.          0.          0.         ...  0.          0.\n",
      "   0.        ]\n",
      " [ 0.60795819  0.75690186 -0.45841884 ...  0.32715918  1.05838462\n",
      "  -1.00027972]\n",
      " [ 0.32040939 -0.98453535 -1.66852078 ... -0.12068232  2.20697478\n",
      "  -1.14211235]\n",
      " ...\n",
      " [ 1.16788733 -0.92413783  1.75671399 ...  0.00975742 -0.28707436\n",
      "  -0.2458024 ]\n",
      " [ 0.0009315  -0.98411071 -1.11939907 ... -6.90321016  3.93742228\n",
      "  -1.51261103]\n",
      " [-0.72030318 -0.14090668 -2.27291822 ... -1.9552381   0.7607277\n",
      "  -1.39611304]]\n"
     ]
    },
    {
     "name": "stdout",
     "output_type": "stream",
     "text": [
      "Setting Embedding\n"
     ]
    },
    {
     "name": "stderr",
     "output_type": "stream",
     "text": [
      "INFO - 2019-03-31 14:39:48,750 - instantiating class <class 'Transparency.model.modules.Decoder.AttnDecoder'> from params {'attention': {'type': 'tanh'}, 'output_size': 1, 'hidden_size': 256} and extras {}\n",
      "INFO - 2019-03-31 14:39:48,751 - hidden_size = 256\n",
      "INFO - 2019-03-31 14:39:48,751 - output_size = 1\n",
      "INFO - 2019-03-31 14:39:48,752 - use_attention = True\n",
      "INFO - 2019-03-31 14:39:48,752 - regularizer_attention = None\n",
      "INFO - 2019-03-31 14:39:48,753 - instantiating class <class 'Transparency.model.modules.Attention.Attention'> from params <allennlp.common.params.Params object at 0x7f66eda9f9b0> and extras {}\n",
      "INFO - 2019-03-31 14:39:48,753 - attention.type = tanh\n",
      "INFO - 2019-03-31 14:39:48,753 - type = tanh\n",
      "INFO - 2019-03-31 14:39:48,754 - instantiating class <class 'Transparency.model.modules.Attention.TanhAttention'> from params <allennlp.common.params.Params object at 0x7f66eda9f9b0> and extras {}\n",
      "INFO - 2019-03-31 14:39:48,754 - attention.hidden_size = 256\n",
      "INFO - 2019-03-31 14:39:48,754 - hidden_size = 256\n"
     ]
    },
    {
     "data": {
      "application/vnd.jupyter.widget-view+json": {
       "model_id": "f78adb1fef9b47e491fff2569b00690e",
       "version_major": 2,
       "version_minor": 0
      },
      "text/plain": [
       "HBox(children=(IntProgress(value=0, max=8), HTML(value='')))"
      ]
     },
     "metadata": {},
     "output_type": "display_data"
    },
    {
     "data": {
      "application/vnd.jupyter.widget-view+json": {
       "model_id": "149d7de3f7864017bc728b1573b8c1b2",
       "version_major": 2,
       "version_minor": 0
      },
      "text/plain": [
       "HBox(children=(IntProgress(value=0, max=242), HTML(value='')))"
      ]
     },
     "metadata": {},
     "output_type": "display_data"
    },
    {
     "data": {
      "application/vnd.jupyter.widget-view+json": {
       "model_id": "d21e695efffc4157ba2d568003e96247",
       "version_major": 2,
       "version_minor": 0
      },
      "text/plain": [
       "HBox(children=(IntProgress(value=0, max=51), HTML(value='')))"
      ]
     },
     "metadata": {},
     "output_type": "display_data"
    },
    {
     "name": "stdout",
     "output_type": "stream",
     "text": [
      "{'accuracy': 0.8495356037151702, 'roc_auc': 0.9255461705174349, 'pr_auc': 0.774533769635499}\n"
     ]
    },
    {
     "data": {
      "text/html": [
       "<div>\n",
       "<style scoped>\n",
       "    .dataframe tbody tr th:only-of-type {\n",
       "        vertical-align: middle;\n",
       "    }\n",
       "\n",
       "    .dataframe tbody tr th {\n",
       "        vertical-align: top;\n",
       "    }\n",
       "\n",
       "    .dataframe thead th {\n",
       "        text-align: right;\n",
       "    }\n",
       "</style>\n",
       "<table border=\"1\" class=\"dataframe\">\n",
       "  <thead>\n",
       "    <tr style=\"text-align: right;\">\n",
       "      <th></th>\n",
       "      <th>0.0</th>\n",
       "      <th>1.0</th>\n",
       "      <th>micro avg</th>\n",
       "      <th>macro avg</th>\n",
       "      <th>weighted avg</th>\n",
       "    </tr>\n",
       "  </thead>\n",
       "  <tbody>\n",
       "    <tr>\n",
       "      <th>f1-score</th>\n",
       "      <td>0.900</td>\n",
       "      <td>0.699</td>\n",
       "      <td>0.85</td>\n",
       "      <td>0.799</td>\n",
       "      <td>0.86</td>\n",
       "    </tr>\n",
       "    <tr>\n",
       "      <th>precision</th>\n",
       "      <td>0.967</td>\n",
       "      <td>0.578</td>\n",
       "      <td>0.85</td>\n",
       "      <td>0.773</td>\n",
       "      <td>0.89</td>\n",
       "    </tr>\n",
       "    <tr>\n",
       "      <th>recall</th>\n",
       "      <td>0.841</td>\n",
       "      <td>0.884</td>\n",
       "      <td>0.85</td>\n",
       "      <td>0.863</td>\n",
       "      <td>0.85</td>\n",
       "    </tr>\n",
       "    <tr>\n",
       "      <th>support</th>\n",
       "      <td>1296.000</td>\n",
       "      <td>319.000</td>\n",
       "      <td>1615.00</td>\n",
       "      <td>1615.000</td>\n",
       "      <td>1615.00</td>\n",
       "    </tr>\n",
       "  </tbody>\n",
       "</table>\n",
       "</div>"
      ],
      "text/plain": [
       "                0.0      1.0  micro avg  macro avg  weighted avg\n",
       "f1-score      0.900    0.699       0.85      0.799          0.86\n",
       "precision     0.967    0.578       0.85      0.773          0.89\n",
       "recall        0.841    0.884       0.85      0.863          0.85\n",
       "support    1296.000  319.000    1615.00   1615.000       1615.00"
      ]
     },
     "metadata": {},
     "output_type": "display_data"
    },
    {
     "name": "stdout",
     "output_type": "stream",
     "text": [
      "Model not saved on  roc_auc 0.9255461705174349\n"
     ]
    },
    {
     "data": {
      "application/vnd.jupyter.widget-view+json": {
       "model_id": "985c547bfd544330a174886631840ee3",
       "version_major": 2,
       "version_minor": 0
      },
      "text/plain": [
       "HBox(children=(IntProgress(value=0, max=242), HTML(value='')))"
      ]
     },
     "metadata": {},
     "output_type": "display_data"
    },
    {
     "data": {
      "application/vnd.jupyter.widget-view+json": {
       "model_id": "85ffe808a07e42858900060108c82e7e",
       "version_major": 2,
       "version_minor": 0
      },
      "text/plain": [
       "HBox(children=(IntProgress(value=0, max=51), HTML(value='')))"
      ]
     },
     "metadata": {},
     "output_type": "display_data"
    },
    {
     "name": "stdout",
     "output_type": "stream",
     "text": [
      "{'accuracy': 0.871826625386997, 'roc_auc': 0.9388811486512637, 'pr_auc': 0.8045142655335366}\n"
     ]
    },
    {
     "data": {
      "text/html": [
       "<div>\n",
       "<style scoped>\n",
       "    .dataframe tbody tr th:only-of-type {\n",
       "        vertical-align: middle;\n",
       "    }\n",
       "\n",
       "    .dataframe tbody tr th {\n",
       "        vertical-align: top;\n",
       "    }\n",
       "\n",
       "    .dataframe thead th {\n",
       "        text-align: right;\n",
       "    }\n",
       "</style>\n",
       "<table border=\"1\" class=\"dataframe\">\n",
       "  <thead>\n",
       "    <tr style=\"text-align: right;\">\n",
       "      <th></th>\n",
       "      <th>0.0</th>\n",
       "      <th>1.0</th>\n",
       "      <th>micro avg</th>\n",
       "      <th>macro avg</th>\n",
       "      <th>weighted avg</th>\n",
       "    </tr>\n",
       "  </thead>\n",
       "  <tbody>\n",
       "    <tr>\n",
       "      <th>f1-score</th>\n",
       "      <td>0.915</td>\n",
       "      <td>0.735</td>\n",
       "      <td>0.872</td>\n",
       "      <td>0.825</td>\n",
       "      <td>0.880</td>\n",
       "    </tr>\n",
       "    <tr>\n",
       "      <th>precision</th>\n",
       "      <td>0.972</td>\n",
       "      <td>0.621</td>\n",
       "      <td>0.872</td>\n",
       "      <td>0.797</td>\n",
       "      <td>0.903</td>\n",
       "    </tr>\n",
       "    <tr>\n",
       "      <th>recall</th>\n",
       "      <td>0.865</td>\n",
       "      <td>0.900</td>\n",
       "      <td>0.872</td>\n",
       "      <td>0.882</td>\n",
       "      <td>0.872</td>\n",
       "    </tr>\n",
       "    <tr>\n",
       "      <th>support</th>\n",
       "      <td>1296.000</td>\n",
       "      <td>319.000</td>\n",
       "      <td>1615.000</td>\n",
       "      <td>1615.000</td>\n",
       "      <td>1615.000</td>\n",
       "    </tr>\n",
       "  </tbody>\n",
       "</table>\n",
       "</div>"
      ],
      "text/plain": [
       "                0.0      1.0  micro avg  macro avg  weighted avg\n",
       "f1-score      0.915    0.735      0.872      0.825         0.880\n",
       "precision     0.972    0.621      0.872      0.797         0.903\n",
       "recall        0.865    0.900      0.872      0.882         0.872\n",
       "support    1296.000  319.000   1615.000   1615.000      1615.000"
      ]
     },
     "metadata": {},
     "output_type": "display_data"
    },
    {
     "name": "stdout",
     "output_type": "stream",
     "text": [
      "Model Saved on  roc_auc 0.9388811486512637\n"
     ]
    },
    {
     "data": {
      "application/vnd.jupyter.widget-view+json": {
       "model_id": "8ea76ea8d62b4083abda08999fa32513",
       "version_major": 2,
       "version_minor": 0
      },
      "text/plain": [
       "HBox(children=(IntProgress(value=0, max=242), HTML(value='')))"
      ]
     },
     "metadata": {},
     "output_type": "display_data"
    },
    {
     "data": {
      "application/vnd.jupyter.widget-view+json": {
       "model_id": "68823da871f94573b44535741c57c1fc",
       "version_major": 2,
       "version_minor": 0
      },
      "text/plain": [
       "HBox(children=(IntProgress(value=0, max=51), HTML(value='')))"
      ]
     },
     "metadata": {},
     "output_type": "display_data"
    },
    {
     "name": "stdout",
     "output_type": "stream",
     "text": [
      "{'accuracy': 0.8984520123839009, 'roc_auc': 0.9331243469174504, 'pr_auc': 0.7853672379081632}\n"
     ]
    },
    {
     "data": {
      "text/html": [
       "<div>\n",
       "<style scoped>\n",
       "    .dataframe tbody tr th:only-of-type {\n",
       "        vertical-align: middle;\n",
       "    }\n",
       "\n",
       "    .dataframe tbody tr th {\n",
       "        vertical-align: top;\n",
       "    }\n",
       "\n",
       "    .dataframe thead th {\n",
       "        text-align: right;\n",
       "    }\n",
       "</style>\n",
       "<table border=\"1\" class=\"dataframe\">\n",
       "  <thead>\n",
       "    <tr style=\"text-align: right;\">\n",
       "      <th></th>\n",
       "      <th>0.0</th>\n",
       "      <th>1.0</th>\n",
       "      <th>micro avg</th>\n",
       "      <th>macro avg</th>\n",
       "      <th>weighted avg</th>\n",
       "    </tr>\n",
       "  </thead>\n",
       "  <tbody>\n",
       "    <tr>\n",
       "      <th>f1-score</th>\n",
       "      <td>0.935</td>\n",
       "      <td>0.768</td>\n",
       "      <td>0.898</td>\n",
       "      <td>0.851</td>\n",
       "      <td>0.902</td>\n",
       "    </tr>\n",
       "    <tr>\n",
       "      <th>precision</th>\n",
       "      <td>0.961</td>\n",
       "      <td>0.700</td>\n",
       "      <td>0.898</td>\n",
       "      <td>0.831</td>\n",
       "      <td>0.909</td>\n",
       "    </tr>\n",
       "    <tr>\n",
       "      <th>recall</th>\n",
       "      <td>0.910</td>\n",
       "      <td>0.850</td>\n",
       "      <td>0.898</td>\n",
       "      <td>0.880</td>\n",
       "      <td>0.898</td>\n",
       "    </tr>\n",
       "    <tr>\n",
       "      <th>support</th>\n",
       "      <td>1296.000</td>\n",
       "      <td>319.000</td>\n",
       "      <td>1615.000</td>\n",
       "      <td>1615.000</td>\n",
       "      <td>1615.000</td>\n",
       "    </tr>\n",
       "  </tbody>\n",
       "</table>\n",
       "</div>"
      ],
      "text/plain": [
       "                0.0      1.0  micro avg  macro avg  weighted avg\n",
       "f1-score      0.935    0.768      0.898      0.851         0.902\n",
       "precision     0.961    0.700      0.898      0.831         0.909\n",
       "recall        0.910    0.850      0.898      0.880         0.898\n",
       "support    1296.000  319.000   1615.000   1615.000      1615.000"
      ]
     },
     "metadata": {},
     "output_type": "display_data"
    },
    {
     "name": "stdout",
     "output_type": "stream",
     "text": [
      "Model not saved on  roc_auc 0.9331243469174504\n"
     ]
    },
    {
     "data": {
      "application/vnd.jupyter.widget-view+json": {
       "model_id": "58f3f432236b461f9f6d6c9566ff4a8d",
       "version_major": 2,
       "version_minor": 0
      },
      "text/plain": [
       "HBox(children=(IntProgress(value=0, max=242), HTML(value='')))"
      ]
     },
     "metadata": {},
     "output_type": "display_data"
    },
    {
     "data": {
      "application/vnd.jupyter.widget-view+json": {
       "model_id": "b3a095c039ff4833b14fa7ea0522757e",
       "version_major": 2,
       "version_minor": 0
      },
      "text/plain": [
       "HBox(children=(IntProgress(value=0, max=51), HTML(value='')))"
      ]
     },
     "metadata": {},
     "output_type": "display_data"
    },
    {
     "name": "stdout",
     "output_type": "stream",
     "text": [
      "{'accuracy': 0.8804953560371517, 'roc_auc': 0.9377346259530166, 'pr_auc': 0.8119355289921242}\n"
     ]
    },
    {
     "data": {
      "text/html": [
       "<div>\n",
       "<style scoped>\n",
       "    .dataframe tbody tr th:only-of-type {\n",
       "        vertical-align: middle;\n",
       "    }\n",
       "\n",
       "    .dataframe tbody tr th {\n",
       "        vertical-align: top;\n",
       "    }\n",
       "\n",
       "    .dataframe thead th {\n",
       "        text-align: right;\n",
       "    }\n",
       "</style>\n",
       "<table border=\"1\" class=\"dataframe\">\n",
       "  <thead>\n",
       "    <tr style=\"text-align: right;\">\n",
       "      <th></th>\n",
       "      <th>0.0</th>\n",
       "      <th>1.0</th>\n",
       "      <th>micro avg</th>\n",
       "      <th>macro avg</th>\n",
       "      <th>weighted avg</th>\n",
       "    </tr>\n",
       "  </thead>\n",
       "  <tbody>\n",
       "    <tr>\n",
       "      <th>f1-score</th>\n",
       "      <td>0.922</td>\n",
       "      <td>0.743</td>\n",
       "      <td>0.88</td>\n",
       "      <td>0.833</td>\n",
       "      <td>0.887</td>\n",
       "    </tr>\n",
       "    <tr>\n",
       "      <th>precision</th>\n",
       "      <td>0.966</td>\n",
       "      <td>0.646</td>\n",
       "      <td>0.88</td>\n",
       "      <td>0.806</td>\n",
       "      <td>0.903</td>\n",
       "    </tr>\n",
       "    <tr>\n",
       "      <th>recall</th>\n",
       "      <td>0.882</td>\n",
       "      <td>0.875</td>\n",
       "      <td>0.88</td>\n",
       "      <td>0.878</td>\n",
       "      <td>0.880</td>\n",
       "    </tr>\n",
       "    <tr>\n",
       "      <th>support</th>\n",
       "      <td>1296.000</td>\n",
       "      <td>319.000</td>\n",
       "      <td>1615.00</td>\n",
       "      <td>1615.000</td>\n",
       "      <td>1615.000</td>\n",
       "    </tr>\n",
       "  </tbody>\n",
       "</table>\n",
       "</div>"
      ],
      "text/plain": [
       "                0.0      1.0  micro avg  macro avg  weighted avg\n",
       "f1-score      0.922    0.743       0.88      0.833         0.887\n",
       "precision     0.966    0.646       0.88      0.806         0.903\n",
       "recall        0.882    0.875       0.88      0.878         0.880\n",
       "support    1296.000  319.000    1615.00   1615.000      1615.000"
      ]
     },
     "metadata": {},
     "output_type": "display_data"
    },
    {
     "name": "stdout",
     "output_type": "stream",
     "text": [
      "Model not saved on  roc_auc 0.9377346259530166\n"
     ]
    },
    {
     "data": {
      "application/vnd.jupyter.widget-view+json": {
       "model_id": "e45974a0637748159384b9c1c9743454",
       "version_major": 2,
       "version_minor": 0
      },
      "text/plain": [
       "HBox(children=(IntProgress(value=0, max=242), HTML(value='')))"
      ]
     },
     "metadata": {},
     "output_type": "display_data"
    },
    {
     "data": {
      "application/vnd.jupyter.widget-view+json": {
       "model_id": "13cbd62be57c45aa9ba61c03b30935e6",
       "version_major": 2,
       "version_minor": 0
      },
      "text/plain": [
       "HBox(children=(IntProgress(value=0, max=51), HTML(value='')))"
      ]
     },
     "metadata": {},
     "output_type": "display_data"
    },
    {
     "name": "stdout",
     "output_type": "stream",
     "text": [
      "{'accuracy': 0.8780185758513932, 'roc_auc': 0.9346869073880568, 'pr_auc': 0.7716865533917557}\n"
     ]
    },
    {
     "data": {
      "text/html": [
       "<div>\n",
       "<style scoped>\n",
       "    .dataframe tbody tr th:only-of-type {\n",
       "        vertical-align: middle;\n",
       "    }\n",
       "\n",
       "    .dataframe tbody tr th {\n",
       "        vertical-align: top;\n",
       "    }\n",
       "\n",
       "    .dataframe thead th {\n",
       "        text-align: right;\n",
       "    }\n",
       "</style>\n",
       "<table border=\"1\" class=\"dataframe\">\n",
       "  <thead>\n",
       "    <tr style=\"text-align: right;\">\n",
       "      <th></th>\n",
       "      <th>0.0</th>\n",
       "      <th>1.0</th>\n",
       "      <th>micro avg</th>\n",
       "      <th>macro avg</th>\n",
       "      <th>weighted avg</th>\n",
       "    </tr>\n",
       "  </thead>\n",
       "  <tbody>\n",
       "    <tr>\n",
       "      <th>f1-score</th>\n",
       "      <td>0.920</td>\n",
       "      <td>0.746</td>\n",
       "      <td>0.878</td>\n",
       "      <td>0.833</td>\n",
       "      <td>0.885</td>\n",
       "    </tr>\n",
       "    <tr>\n",
       "      <th>precision</th>\n",
       "      <td>0.975</td>\n",
       "      <td>0.633</td>\n",
       "      <td>0.878</td>\n",
       "      <td>0.804</td>\n",
       "      <td>0.907</td>\n",
       "    </tr>\n",
       "    <tr>\n",
       "      <th>recall</th>\n",
       "      <td>0.870</td>\n",
       "      <td>0.909</td>\n",
       "      <td>0.878</td>\n",
       "      <td>0.890</td>\n",
       "      <td>0.878</td>\n",
       "    </tr>\n",
       "    <tr>\n",
       "      <th>support</th>\n",
       "      <td>1296.000</td>\n",
       "      <td>319.000</td>\n",
       "      <td>1615.000</td>\n",
       "      <td>1615.000</td>\n",
       "      <td>1615.000</td>\n",
       "    </tr>\n",
       "  </tbody>\n",
       "</table>\n",
       "</div>"
      ],
      "text/plain": [
       "                0.0      1.0  micro avg  macro avg  weighted avg\n",
       "f1-score      0.920    0.746      0.878      0.833         0.885\n",
       "precision     0.975    0.633      0.878      0.804         0.907\n",
       "recall        0.870    0.909      0.878      0.890         0.878\n",
       "support    1296.000  319.000   1615.000   1615.000      1615.000"
      ]
     },
     "metadata": {},
     "output_type": "display_data"
    },
    {
     "name": "stdout",
     "output_type": "stream",
     "text": [
      "Model not saved on  roc_auc 0.9346869073880568\n"
     ]
    },
    {
     "data": {
      "application/vnd.jupyter.widget-view+json": {
       "model_id": "0a4bf8d6670942069e5fd9dc1ef89861",
       "version_major": 2,
       "version_minor": 0
      },
      "text/plain": [
       "HBox(children=(IntProgress(value=0, max=242), HTML(value='')))"
      ]
     },
     "metadata": {},
     "output_type": "display_data"
    },
    {
     "data": {
      "application/vnd.jupyter.widget-view+json": {
       "model_id": "c9c00dbb1ce94bd0a9803588a0578734",
       "version_major": 2,
       "version_minor": 0
      },
      "text/plain": [
       "HBox(children=(IntProgress(value=0, max=51), HTML(value='')))"
      ]
     },
     "metadata": {},
     "output_type": "display_data"
    },
    {
     "name": "stdout",
     "output_type": "stream",
     "text": [
      "{'accuracy': 0.9058823529411765, 'roc_auc': 0.9320552265954565, 'pr_auc': 0.7903134686643656}\n"
     ]
    },
    {
     "data": {
      "text/html": [
       "<div>\n",
       "<style scoped>\n",
       "    .dataframe tbody tr th:only-of-type {\n",
       "        vertical-align: middle;\n",
       "    }\n",
       "\n",
       "    .dataframe tbody tr th {\n",
       "        vertical-align: top;\n",
       "    }\n",
       "\n",
       "    .dataframe thead th {\n",
       "        text-align: right;\n",
       "    }\n",
       "</style>\n",
       "<table border=\"1\" class=\"dataframe\">\n",
       "  <thead>\n",
       "    <tr style=\"text-align: right;\">\n",
       "      <th></th>\n",
       "      <th>0.0</th>\n",
       "      <th>1.0</th>\n",
       "      <th>micro avg</th>\n",
       "      <th>macro avg</th>\n",
       "      <th>weighted avg</th>\n",
       "    </tr>\n",
       "  </thead>\n",
       "  <tbody>\n",
       "    <tr>\n",
       "      <th>f1-score</th>\n",
       "      <td>0.940</td>\n",
       "      <td>0.777</td>\n",
       "      <td>0.906</td>\n",
       "      <td>0.859</td>\n",
       "      <td>0.908</td>\n",
       "    </tr>\n",
       "    <tr>\n",
       "      <th>precision</th>\n",
       "      <td>0.957</td>\n",
       "      <td>0.730</td>\n",
       "      <td>0.906</td>\n",
       "      <td>0.843</td>\n",
       "      <td>0.912</td>\n",
       "    </tr>\n",
       "    <tr>\n",
       "      <th>recall</th>\n",
       "      <td>0.924</td>\n",
       "      <td>0.831</td>\n",
       "      <td>0.906</td>\n",
       "      <td>0.878</td>\n",
       "      <td>0.906</td>\n",
       "    </tr>\n",
       "    <tr>\n",
       "      <th>support</th>\n",
       "      <td>1296.000</td>\n",
       "      <td>319.000</td>\n",
       "      <td>1615.000</td>\n",
       "      <td>1615.000</td>\n",
       "      <td>1615.000</td>\n",
       "    </tr>\n",
       "  </tbody>\n",
       "</table>\n",
       "</div>"
      ],
      "text/plain": [
       "                0.0      1.0  micro avg  macro avg  weighted avg\n",
       "f1-score      0.940    0.777      0.906      0.859         0.908\n",
       "precision     0.957    0.730      0.906      0.843         0.912\n",
       "recall        0.924    0.831      0.906      0.878         0.906\n",
       "support    1296.000  319.000   1615.000   1615.000      1615.000"
      ]
     },
     "metadata": {},
     "output_type": "display_data"
    },
    {
     "name": "stdout",
     "output_type": "stream",
     "text": [
      "Model not saved on  roc_auc 0.9320552265954565\n"
     ]
    },
    {
     "data": {
      "application/vnd.jupyter.widget-view+json": {
       "model_id": "4b0c05e863d043c6a56be2fa5fbf3c80",
       "version_major": 2,
       "version_minor": 0
      },
      "text/plain": [
       "HBox(children=(IntProgress(value=0, max=242), HTML(value='')))"
      ]
     },
     "metadata": {},
     "output_type": "display_data"
    },
    {
     "data": {
      "application/vnd.jupyter.widget-view+json": {
       "model_id": "4fc55c8563d0427398e90442b60e2772",
       "version_major": 2,
       "version_minor": 0
      },
      "text/plain": [
       "HBox(children=(IntProgress(value=0, max=51), HTML(value='')))"
      ]
     },
     "metadata": {},
     "output_type": "display_data"
    },
    {
     "name": "stdout",
     "output_type": "stream",
     "text": [
      "{'accuracy': 0.8854489164086687, 'roc_auc': 0.9282262277951933, 'pr_auc': 0.7808253314009918}\n"
     ]
    },
    {
     "data": {
      "text/html": [
       "<div>\n",
       "<style scoped>\n",
       "    .dataframe tbody tr th:only-of-type {\n",
       "        vertical-align: middle;\n",
       "    }\n",
       "\n",
       "    .dataframe tbody tr th {\n",
       "        vertical-align: top;\n",
       "    }\n",
       "\n",
       "    .dataframe thead th {\n",
       "        text-align: right;\n",
       "    }\n",
       "</style>\n",
       "<table border=\"1\" class=\"dataframe\">\n",
       "  <thead>\n",
       "    <tr style=\"text-align: right;\">\n",
       "      <th></th>\n",
       "      <th>0.0</th>\n",
       "      <th>1.0</th>\n",
       "      <th>micro avg</th>\n",
       "      <th>macro avg</th>\n",
       "      <th>weighted avg</th>\n",
       "    </tr>\n",
       "  </thead>\n",
       "  <tbody>\n",
       "    <tr>\n",
       "      <th>f1-score</th>\n",
       "      <td>0.926</td>\n",
       "      <td>0.748</td>\n",
       "      <td>0.885</td>\n",
       "      <td>0.837</td>\n",
       "      <td>0.891</td>\n",
       "    </tr>\n",
       "    <tr>\n",
       "      <th>precision</th>\n",
       "      <td>0.963</td>\n",
       "      <td>0.662</td>\n",
       "      <td>0.885</td>\n",
       "      <td>0.812</td>\n",
       "      <td>0.903</td>\n",
       "    </tr>\n",
       "    <tr>\n",
       "      <th>recall</th>\n",
       "      <td>0.892</td>\n",
       "      <td>0.859</td>\n",
       "      <td>0.885</td>\n",
       "      <td>0.875</td>\n",
       "      <td>0.885</td>\n",
       "    </tr>\n",
       "    <tr>\n",
       "      <th>support</th>\n",
       "      <td>1296.000</td>\n",
       "      <td>319.000</td>\n",
       "      <td>1615.000</td>\n",
       "      <td>1615.000</td>\n",
       "      <td>1615.000</td>\n",
       "    </tr>\n",
       "  </tbody>\n",
       "</table>\n",
       "</div>"
      ],
      "text/plain": [
       "                0.0      1.0  micro avg  macro avg  weighted avg\n",
       "f1-score      0.926    0.748      0.885      0.837         0.891\n",
       "precision     0.963    0.662      0.885      0.812         0.903\n",
       "recall        0.892    0.859      0.885      0.875         0.885\n",
       "support    1296.000  319.000   1615.000   1615.000      1615.000"
      ]
     },
     "metadata": {},
     "output_type": "display_data"
    },
    {
     "name": "stdout",
     "output_type": "stream",
     "text": [
      "Model not saved on  roc_auc 0.9282262277951933\n"
     ]
    },
    {
     "data": {
      "application/vnd.jupyter.widget-view+json": {
       "model_id": "5966633ab9244f86abb6763f4dde23d7",
       "version_major": 2,
       "version_minor": 0
      },
      "text/plain": [
       "HBox(children=(IntProgress(value=0, max=242), HTML(value='')))"
      ]
     },
     "metadata": {},
     "output_type": "display_data"
    },
    {
     "data": {
      "application/vnd.jupyter.widget-view+json": {
       "model_id": "10d2781aa35a496ca96d6eb93e13b50c",
       "version_major": 2,
       "version_minor": 0
      },
      "text/plain": [
       "HBox(children=(IntProgress(value=0, max=51), HTML(value='')))"
      ]
     },
     "metadata": {},
     "output_type": "display_data"
    },
    {
     "name": "stdout",
     "output_type": "stream",
     "text": [
      "{'accuracy': 0.8842105263157894, 'roc_auc': 0.9216542822864663, 'pr_auc': 0.7502229632567431}\n"
     ]
    },
    {
     "data": {
      "text/html": [
       "<div>\n",
       "<style scoped>\n",
       "    .dataframe tbody tr th:only-of-type {\n",
       "        vertical-align: middle;\n",
       "    }\n",
       "\n",
       "    .dataframe tbody tr th {\n",
       "        vertical-align: top;\n",
       "    }\n",
       "\n",
       "    .dataframe thead th {\n",
       "        text-align: right;\n",
       "    }\n",
       "</style>\n",
       "<table border=\"1\" class=\"dataframe\">\n",
       "  <thead>\n",
       "    <tr style=\"text-align: right;\">\n",
       "      <th></th>\n",
       "      <th>0.0</th>\n",
       "      <th>1.0</th>\n",
       "      <th>micro avg</th>\n",
       "      <th>macro avg</th>\n",
       "      <th>weighted avg</th>\n",
       "    </tr>\n",
       "  </thead>\n",
       "  <tbody>\n",
       "    <tr>\n",
       "      <th>f1-score</th>\n",
       "      <td>0.925</td>\n",
       "      <td>0.746</td>\n",
       "      <td>0.884</td>\n",
       "      <td>0.836</td>\n",
       "      <td>0.890</td>\n",
       "    </tr>\n",
       "    <tr>\n",
       "      <th>precision</th>\n",
       "      <td>0.963</td>\n",
       "      <td>0.658</td>\n",
       "      <td>0.884</td>\n",
       "      <td>0.811</td>\n",
       "      <td>0.903</td>\n",
       "    </tr>\n",
       "    <tr>\n",
       "      <th>recall</th>\n",
       "      <td>0.890</td>\n",
       "      <td>0.862</td>\n",
       "      <td>0.884</td>\n",
       "      <td>0.876</td>\n",
       "      <td>0.884</td>\n",
       "    </tr>\n",
       "    <tr>\n",
       "      <th>support</th>\n",
       "      <td>1296.000</td>\n",
       "      <td>319.000</td>\n",
       "      <td>1615.000</td>\n",
       "      <td>1615.000</td>\n",
       "      <td>1615.000</td>\n",
       "    </tr>\n",
       "  </tbody>\n",
       "</table>\n",
       "</div>"
      ],
      "text/plain": [
       "                0.0      1.0  micro avg  macro avg  weighted avg\n",
       "f1-score      0.925    0.746      0.884      0.836         0.890\n",
       "precision     0.963    0.658      0.884      0.811         0.903\n",
       "recall        0.890    0.862      0.884      0.876         0.884\n",
       "support    1296.000  319.000   1615.000   1615.000      1615.000"
      ]
     },
     "metadata": {},
     "output_type": "display_data"
    },
    {
     "name": "stderr",
     "output_type": "stream",
     "text": [
      "INFO - 2019-03-31 14:41:57,086 - instantiating class <class 'Transparency.model.modules.Encoder.Encoder'> from params {'vocab_size': 22316, 'embed_size': 200, 'kernel_sizes': [1, 3, 5, 7], 'hidden_size': 64, 'activation': 'relu', 'type': 'cnn', 'pre_embed': None} and extras {}\n",
      "INFO - 2019-03-31 14:41:57,086 - type = cnn\n",
      "INFO - 2019-03-31 14:41:57,086 - instantiating class <class 'Transparency.model.modules.Encoder.EncoderCNN'> from params {'vocab_size': 22316, 'embed_size': 200, 'kernel_sizes': [1, 3, 5, 7], 'hidden_size': 64, 'activation': 'relu', 'pre_embed': None} and extras {}\n",
      "INFO - 2019-03-31 14:41:57,087 - vocab_size = 22316\n",
      "INFO - 2019-03-31 14:41:57,087 - embed_size = 200\n",
      "INFO - 2019-03-31 14:41:57,087 - hidden_size = 64\n",
      "INFO - 2019-03-31 14:41:57,087 - kernel_sizes = [1, 3, 5, 7]\n",
      "INFO - 2019-03-31 14:41:57,088 - activation = relu\n",
      "INFO - 2019-03-31 14:41:57,088 - pre_embed = None\n"
     ]
    },
    {
     "name": "stdout",
     "output_type": "stream",
     "text": [
      "Model not saved on  roc_auc 0.9216542822864663\n",
      "\n"
     ]
    },
    {
     "name": "stderr",
     "output_type": "stream",
     "text": [
      "INFO - 2019-03-31 14:41:57,719 - instantiating class <class 'Transparency.model.modules.Decoder.AttnDecoder'> from params {'attention': {'type': 'tanh'}, 'output_size': 1, 'hidden_size': 256} and extras {}\n",
      "INFO - 2019-03-31 14:41:57,720 - hidden_size = 256\n",
      "INFO - 2019-03-31 14:41:57,720 - output_size = 1\n",
      "INFO - 2019-03-31 14:41:57,720 - use_attention = True\n",
      "INFO - 2019-03-31 14:41:57,721 - regularizer_attention = None\n",
      "INFO - 2019-03-31 14:41:57,721 - instantiating class <class 'Transparency.model.modules.Attention.Attention'> from params <allennlp.common.params.Params object at 0x7f66ed1c4860> and extras {}\n",
      "INFO - 2019-03-31 14:41:57,722 - attention.type = tanh\n",
      "INFO - 2019-03-31 14:41:57,722 - type = tanh\n",
      "INFO - 2019-03-31 14:41:57,722 - instantiating class <class 'Transparency.model.modules.Attention.TanhAttention'> from params <allennlp.common.params.Params object at 0x7f66ed1c4860> and extras {}\n",
      "INFO - 2019-03-31 14:41:57,723 - attention.hidden_size = 256\n",
      "INFO - 2019-03-31 14:41:57,723 - hidden_size = 256\n"
     ]
    },
    {
     "data": {
      "application/vnd.jupyter.widget-view+json": {
       "model_id": "36253ea011754dafbaca3e4cea90d7ad",
       "version_major": 2,
       "version_minor": 0
      },
      "text/plain": [
       "HBox(children=(IntProgress(value=0, max=51), HTML(value='')))"
      ]
     },
     "metadata": {},
     "output_type": "display_data"
    },
    {
     "name": "stdout",
     "output_type": "stream",
     "text": [
      "\n",
      "{'accuracy': 0.871826625386997, 'roc_auc': 0.9388811486512637, 'pr_auc': 0.8045142655335366}\n"
     ]
    },
    {
     "data": {
      "text/html": [
       "<div>\n",
       "<style scoped>\n",
       "    .dataframe tbody tr th:only-of-type {\n",
       "        vertical-align: middle;\n",
       "    }\n",
       "\n",
       "    .dataframe tbody tr th {\n",
       "        vertical-align: top;\n",
       "    }\n",
       "\n",
       "    .dataframe thead th {\n",
       "        text-align: right;\n",
       "    }\n",
       "</style>\n",
       "<table border=\"1\" class=\"dataframe\">\n",
       "  <thead>\n",
       "    <tr style=\"text-align: right;\">\n",
       "      <th></th>\n",
       "      <th>0.0</th>\n",
       "      <th>1.0</th>\n",
       "      <th>micro avg</th>\n",
       "      <th>macro avg</th>\n",
       "      <th>weighted avg</th>\n",
       "    </tr>\n",
       "  </thead>\n",
       "  <tbody>\n",
       "    <tr>\n",
       "      <th>f1-score</th>\n",
       "      <td>0.915</td>\n",
       "      <td>0.735</td>\n",
       "      <td>0.872</td>\n",
       "      <td>0.825</td>\n",
       "      <td>0.880</td>\n",
       "    </tr>\n",
       "    <tr>\n",
       "      <th>precision</th>\n",
       "      <td>0.972</td>\n",
       "      <td>0.621</td>\n",
       "      <td>0.872</td>\n",
       "      <td>0.797</td>\n",
       "      <td>0.903</td>\n",
       "    </tr>\n",
       "    <tr>\n",
       "      <th>recall</th>\n",
       "      <td>0.865</td>\n",
       "      <td>0.900</td>\n",
       "      <td>0.872</td>\n",
       "      <td>0.882</td>\n",
       "      <td>0.872</td>\n",
       "    </tr>\n",
       "    <tr>\n",
       "      <th>support</th>\n",
       "      <td>1296.000</td>\n",
       "      <td>319.000</td>\n",
       "      <td>1615.000</td>\n",
       "      <td>1615.000</td>\n",
       "      <td>1615.000</td>\n",
       "    </tr>\n",
       "  </tbody>\n",
       "</table>\n",
       "</div>"
      ],
      "text/plain": [
       "                0.0      1.0  micro avg  macro avg  weighted avg\n",
       "f1-score      0.915    0.735      0.872      0.825         0.880\n",
       "precision     0.972    0.621      0.872      0.797         0.903\n",
       "recall        0.865    0.900      0.872      0.882         0.872\n",
       "support    1296.000  319.000   1615.000   1615.000      1615.000"
      ]
     },
     "metadata": {},
     "output_type": "display_data"
    },
    {
     "name": "stderr",
     "output_type": "stream",
     "text": [
      "/media/data/sarthak/anaconda3/lib/python3.7/site-packages/allennlp/common/params.py:512: FutureWarning: elementwise comparison failed; returning scalar instead, but in the future will perform elementwise comparison\n",
      "  if dictionary[key] == \"None\":\n",
      "INFO - 2019-03-31 14:41:59,182 - instantiating class <class 'Transparency.model.modules.Encoder.Encoder'> from params {'vocab_size': 22316, 'embed_size': 200, 'projection': True, 'hidden_size': 128, 'activation': 'tanh', 'type': 'average', 'pre_embed': array([[ 0.        ,  0.        ,  0.        , ...,  0.        ,\n",
      "         0.        ,  0.        ],\n",
      "       [ 0.60795819,  0.75690186, -0.45841884, ...,  0.32715918,\n",
      "         1.05838462, -1.00027972],\n",
      "       [ 0.32040939, -0.98453535, -1.66852078, ..., -0.12068232,\n",
      "         2.20697478, -1.14211235],\n",
      "       ...,\n",
      "       [ 1.16788733, -0.92413783,  1.75671399, ...,  0.00975742,\n",
      "        -0.28707436, -0.2458024 ],\n",
      "       [ 0.0009315 , -0.98411071, -1.11939907, ..., -6.90321016,\n",
      "         3.93742228, -1.51261103],\n",
      "       [-0.72030318, -0.14090668, -2.27291822, ..., -1.9552381 ,\n",
      "         0.7607277 , -1.39611304]])} and extras {}\n",
      "INFO - 2019-03-31 14:41:59,182 - type = average\n",
      "INFO - 2019-03-31 14:41:59,183 - instantiating class <class 'Transparency.model.modules.Encoder.EncoderAverage'> from params {'vocab_size': 22316, 'embed_size': 200, 'projection': True, 'hidden_size': 128, 'activation': 'tanh', 'pre_embed': array([[ 0.        ,  0.        ,  0.        , ...,  0.        ,\n",
      "         0.        ,  0.        ],\n",
      "       [ 0.60795819,  0.75690186, -0.45841884, ...,  0.32715918,\n",
      "         1.05838462, -1.00027972],\n",
      "       [ 0.32040939, -0.98453535, -1.66852078, ..., -0.12068232,\n",
      "         2.20697478, -1.14211235],\n",
      "       ...,\n",
      "       [ 1.16788733, -0.92413783,  1.75671399, ...,  0.00975742,\n",
      "        -0.28707436, -0.2458024 ],\n",
      "       [ 0.0009315 , -0.98411071, -1.11939907, ..., -6.90321016,\n",
      "         3.93742228, -1.51261103],\n",
      "       [-0.72030318, -0.14090668, -2.27291822, ..., -1.9552381 ,\n",
      "         0.7607277 , -1.39611304]])} and extras {}\n",
      "INFO - 2019-03-31 14:41:59,183 - vocab_size = 22316\n",
      "INFO - 2019-03-31 14:41:59,183 - embed_size = 200\n",
      "INFO - 2019-03-31 14:41:59,184 - projection = True\n",
      "INFO - 2019-03-31 14:41:59,184 - hidden_size = 128\n",
      "INFO - 2019-03-31 14:41:59,184 - activation = tanh\n",
      "INFO - 2019-03-31 14:41:59,185 - pre_embed = [[ 0.          0.          0.         ...  0.          0.\n",
      "   0.        ]\n",
      " [ 0.60795819  0.75690186 -0.45841884 ...  0.32715918  1.05838462\n",
      "  -1.00027972]\n",
      " [ 0.32040939 -0.98453535 -1.66852078 ... -0.12068232  2.20697478\n",
      "  -1.14211235]\n",
      " ...\n",
      " [ 1.16788733 -0.92413783  1.75671399 ...  0.00975742 -0.28707436\n",
      "  -0.2458024 ]\n",
      " [ 0.0009315  -0.98411071 -1.11939907 ... -6.90321016  3.93742228\n",
      "  -1.51261103]\n",
      " [-0.72030318 -0.14090668 -2.27291822 ... -1.9552381   0.7607277\n",
      "  -1.39611304]]\n",
      "INFO - 2019-03-31 14:41:59,193 - instantiating class <class 'Transparency.model.modules.Decoder.AttnDecoder'> from params {'attention': {'type': 'tanh'}, 'output_size': 1, 'hidden_size': 128} and extras {}\n",
      "INFO - 2019-03-31 14:41:59,193 - hidden_size = 128\n",
      "INFO - 2019-03-31 14:41:59,193 - output_size = 1\n",
      "INFO - 2019-03-31 14:41:59,194 - use_attention = True\n",
      "INFO - 2019-03-31 14:41:59,194 - regularizer_attention = None\n",
      "INFO - 2019-03-31 14:41:59,194 - instantiating class <class 'Transparency.model.modules.Attention.Attention'> from params <allennlp.common.params.Params object at 0x7f66eda9fc50> and extras {}\n",
      "INFO - 2019-03-31 14:41:59,194 - attention.type = tanh\n",
      "INFO - 2019-03-31 14:41:59,195 - type = tanh\n",
      "INFO - 2019-03-31 14:41:59,195 - instantiating class <class 'Transparency.model.modules.Attention.TanhAttention'> from params <allennlp.common.params.Params object at 0x7f66eda9fc50> and extras {}\n",
      "INFO - 2019-03-31 14:41:59,195 - attention.hidden_size = 128\n",
      "INFO - 2019-03-31 14:41:59,195 - hidden_size = 128\n"
     ]
    },
    {
     "name": "stdout",
     "output_type": "stream",
     "text": [
      "Setting Embedding\n"
     ]
    },
    {
     "data": {
      "application/vnd.jupyter.widget-view+json": {
       "model_id": "ca191c815d674f299108bbbe8ba296cf",
       "version_major": 2,
       "version_minor": 0
      },
      "text/plain": [
       "HBox(children=(IntProgress(value=0, max=8), HTML(value='')))"
      ]
     },
     "metadata": {},
     "output_type": "display_data"
    },
    {
     "data": {
      "application/vnd.jupyter.widget-view+json": {
       "model_id": "8961a22b527c475fa11bfac4181f2e1e",
       "version_major": 2,
       "version_minor": 0
      },
      "text/plain": [
       "HBox(children=(IntProgress(value=0, max=242), HTML(value='')))"
      ]
     },
     "metadata": {},
     "output_type": "display_data"
    },
    {
     "data": {
      "application/vnd.jupyter.widget-view+json": {
       "model_id": "8c3b0f979dd6402cbd01fb12c2f7f889",
       "version_major": 2,
       "version_minor": 0
      },
      "text/plain": [
       "HBox(children=(IntProgress(value=0, max=51), HTML(value='')))"
      ]
     },
     "metadata": {},
     "output_type": "display_data"
    },
    {
     "name": "stdout",
     "output_type": "stream",
     "text": [
      "{'accuracy': 0.8507739938080495, 'roc_auc': 0.9164513913077131, 'pr_auc': 0.7154528218534062}\n"
     ]
    },
    {
     "data": {
      "text/html": [
       "<div>\n",
       "<style scoped>\n",
       "    .dataframe tbody tr th:only-of-type {\n",
       "        vertical-align: middle;\n",
       "    }\n",
       "\n",
       "    .dataframe tbody tr th {\n",
       "        vertical-align: top;\n",
       "    }\n",
       "\n",
       "    .dataframe thead th {\n",
       "        text-align: right;\n",
       "    }\n",
       "</style>\n",
       "<table border=\"1\" class=\"dataframe\">\n",
       "  <thead>\n",
       "    <tr style=\"text-align: right;\">\n",
       "      <th></th>\n",
       "      <th>0.0</th>\n",
       "      <th>1.0</th>\n",
       "      <th>micro avg</th>\n",
       "      <th>macro avg</th>\n",
       "      <th>weighted avg</th>\n",
       "    </tr>\n",
       "  </thead>\n",
       "  <tbody>\n",
       "    <tr>\n",
       "      <th>f1-score</th>\n",
       "      <td>0.901</td>\n",
       "      <td>0.695</td>\n",
       "      <td>0.851</td>\n",
       "      <td>0.798</td>\n",
       "      <td>0.860</td>\n",
       "    </tr>\n",
       "    <tr>\n",
       "      <th>precision</th>\n",
       "      <td>0.961</td>\n",
       "      <td>0.583</td>\n",
       "      <td>0.851</td>\n",
       "      <td>0.772</td>\n",
       "      <td>0.886</td>\n",
       "    </tr>\n",
       "    <tr>\n",
       "      <th>recall</th>\n",
       "      <td>0.849</td>\n",
       "      <td>0.859</td>\n",
       "      <td>0.851</td>\n",
       "      <td>0.854</td>\n",
       "      <td>0.851</td>\n",
       "    </tr>\n",
       "    <tr>\n",
       "      <th>support</th>\n",
       "      <td>1296.000</td>\n",
       "      <td>319.000</td>\n",
       "      <td>1615.000</td>\n",
       "      <td>1615.000</td>\n",
       "      <td>1615.000</td>\n",
       "    </tr>\n",
       "  </tbody>\n",
       "</table>\n",
       "</div>"
      ],
      "text/plain": [
       "                0.0      1.0  micro avg  macro avg  weighted avg\n",
       "f1-score      0.901    0.695      0.851      0.798         0.860\n",
       "precision     0.961    0.583      0.851      0.772         0.886\n",
       "recall        0.849    0.859      0.851      0.854         0.851\n",
       "support    1296.000  319.000   1615.000   1615.000      1615.000"
      ]
     },
     "metadata": {},
     "output_type": "display_data"
    },
    {
     "name": "stdout",
     "output_type": "stream",
     "text": [
      "Model not saved on  roc_auc 0.9164513913077131\n"
     ]
    },
    {
     "data": {
      "application/vnd.jupyter.widget-view+json": {
       "model_id": "f5023b06fab8426dabc3615479aa3561",
       "version_major": 2,
       "version_minor": 0
      },
      "text/plain": [
       "HBox(children=(IntProgress(value=0, max=242), HTML(value='')))"
      ]
     },
     "metadata": {},
     "output_type": "display_data"
    },
    {
     "data": {
      "application/vnd.jupyter.widget-view+json": {
       "model_id": "70e9b550cac94f8eae18317947795156",
       "version_major": 2,
       "version_minor": 0
      },
      "text/plain": [
       "HBox(children=(IntProgress(value=0, max=51), HTML(value='')))"
      ]
     },
     "metadata": {},
     "output_type": "display_data"
    },
    {
     "name": "stdout",
     "output_type": "stream",
     "text": [
      "{'accuracy': 0.8359133126934984, 'roc_auc': 0.9275150934633692, 'pr_auc': 0.7573748745960949}\n"
     ]
    },
    {
     "data": {
      "text/html": [
       "<div>\n",
       "<style scoped>\n",
       "    .dataframe tbody tr th:only-of-type {\n",
       "        vertical-align: middle;\n",
       "    }\n",
       "\n",
       "    .dataframe tbody tr th {\n",
       "        vertical-align: top;\n",
       "    }\n",
       "\n",
       "    .dataframe thead th {\n",
       "        text-align: right;\n",
       "    }\n",
       "</style>\n",
       "<table border=\"1\" class=\"dataframe\">\n",
       "  <thead>\n",
       "    <tr style=\"text-align: right;\">\n",
       "      <th></th>\n",
       "      <th>0.0</th>\n",
       "      <th>1.0</th>\n",
       "      <th>micro avg</th>\n",
       "      <th>macro avg</th>\n",
       "      <th>weighted avg</th>\n",
       "    </tr>\n",
       "  </thead>\n",
       "  <tbody>\n",
       "    <tr>\n",
       "      <th>f1-score</th>\n",
       "      <td>0.890</td>\n",
       "      <td>0.681</td>\n",
       "      <td>0.836</td>\n",
       "      <td>0.785</td>\n",
       "      <td>0.848</td>\n",
       "    </tr>\n",
       "    <tr>\n",
       "      <th>precision</th>\n",
       "      <td>0.967</td>\n",
       "      <td>0.553</td>\n",
       "      <td>0.836</td>\n",
       "      <td>0.760</td>\n",
       "      <td>0.885</td>\n",
       "    </tr>\n",
       "    <tr>\n",
       "      <th>recall</th>\n",
       "      <td>0.823</td>\n",
       "      <td>0.887</td>\n",
       "      <td>0.836</td>\n",
       "      <td>0.855</td>\n",
       "      <td>0.836</td>\n",
       "    </tr>\n",
       "    <tr>\n",
       "      <th>support</th>\n",
       "      <td>1296.000</td>\n",
       "      <td>319.000</td>\n",
       "      <td>1615.000</td>\n",
       "      <td>1615.000</td>\n",
       "      <td>1615.000</td>\n",
       "    </tr>\n",
       "  </tbody>\n",
       "</table>\n",
       "</div>"
      ],
      "text/plain": [
       "                0.0      1.0  micro avg  macro avg  weighted avg\n",
       "f1-score      0.890    0.681      0.836      0.785         0.848\n",
       "precision     0.967    0.553      0.836      0.760         0.885\n",
       "recall        0.823    0.887      0.836      0.855         0.836\n",
       "support    1296.000  319.000   1615.000   1615.000      1615.000"
      ]
     },
     "metadata": {},
     "output_type": "display_data"
    },
    {
     "name": "stdout",
     "output_type": "stream",
     "text": [
      "Model Saved on  roc_auc 0.9275150934633692\n"
     ]
    },
    {
     "data": {
      "application/vnd.jupyter.widget-view+json": {
       "model_id": "b7298f6a74cc4ee1a0e11969315f70aa",
       "version_major": 2,
       "version_minor": 0
      },
      "text/plain": [
       "HBox(children=(IntProgress(value=0, max=242), HTML(value='')))"
      ]
     },
     "metadata": {},
     "output_type": "display_data"
    },
    {
     "data": {
      "application/vnd.jupyter.widget-view+json": {
       "model_id": "3933eee590f044258ae08c4bd282e361",
       "version_major": 2,
       "version_minor": 0
      },
      "text/plain": [
       "HBox(children=(IntProgress(value=0, max=51), HTML(value='')))"
      ]
     },
     "metadata": {},
     "output_type": "display_data"
    },
    {
     "name": "stdout",
     "output_type": "stream",
     "text": [
      "{'accuracy': 0.8619195046439628, 'roc_auc': 0.9239255582646387, 'pr_auc': 0.7527112916728206}\n"
     ]
    },
    {
     "data": {
      "text/html": [
       "<div>\n",
       "<style scoped>\n",
       "    .dataframe tbody tr th:only-of-type {\n",
       "        vertical-align: middle;\n",
       "    }\n",
       "\n",
       "    .dataframe tbody tr th {\n",
       "        vertical-align: top;\n",
       "    }\n",
       "\n",
       "    .dataframe thead th {\n",
       "        text-align: right;\n",
       "    }\n",
       "</style>\n",
       "<table border=\"1\" class=\"dataframe\">\n",
       "  <thead>\n",
       "    <tr style=\"text-align: right;\">\n",
       "      <th></th>\n",
       "      <th>0.0</th>\n",
       "      <th>1.0</th>\n",
       "      <th>micro avg</th>\n",
       "      <th>macro avg</th>\n",
       "      <th>weighted avg</th>\n",
       "    </tr>\n",
       "  </thead>\n",
       "  <tbody>\n",
       "    <tr>\n",
       "      <th>f1-score</th>\n",
       "      <td>0.909</td>\n",
       "      <td>0.711</td>\n",
       "      <td>0.862</td>\n",
       "      <td>0.810</td>\n",
       "      <td>0.870</td>\n",
       "    </tr>\n",
       "    <tr>\n",
       "      <th>precision</th>\n",
       "      <td>0.961</td>\n",
       "      <td>0.606</td>\n",
       "      <td>0.862</td>\n",
       "      <td>0.784</td>\n",
       "      <td>0.891</td>\n",
       "    </tr>\n",
       "    <tr>\n",
       "      <th>recall</th>\n",
       "      <td>0.863</td>\n",
       "      <td>0.859</td>\n",
       "      <td>0.862</td>\n",
       "      <td>0.861</td>\n",
       "      <td>0.862</td>\n",
       "    </tr>\n",
       "    <tr>\n",
       "      <th>support</th>\n",
       "      <td>1296.000</td>\n",
       "      <td>319.000</td>\n",
       "      <td>1615.000</td>\n",
       "      <td>1615.000</td>\n",
       "      <td>1615.000</td>\n",
       "    </tr>\n",
       "  </tbody>\n",
       "</table>\n",
       "</div>"
      ],
      "text/plain": [
       "                0.0      1.0  micro avg  macro avg  weighted avg\n",
       "f1-score      0.909    0.711      0.862      0.810         0.870\n",
       "precision     0.961    0.606      0.862      0.784         0.891\n",
       "recall        0.863    0.859      0.862      0.861         0.862\n",
       "support    1296.000  319.000   1615.000   1615.000      1615.000"
      ]
     },
     "metadata": {},
     "output_type": "display_data"
    },
    {
     "name": "stdout",
     "output_type": "stream",
     "text": [
      "Model not saved on  roc_auc 0.9239255582646387\n"
     ]
    },
    {
     "data": {
      "application/vnd.jupyter.widget-view+json": {
       "model_id": "404774e2b4bf47449bf5e50e361e958a",
       "version_major": 2,
       "version_minor": 0
      },
      "text/plain": [
       "HBox(children=(IntProgress(value=0, max=242), HTML(value='')))"
      ]
     },
     "metadata": {},
     "output_type": "display_data"
    },
    {
     "data": {
      "application/vnd.jupyter.widget-view+json": {
       "model_id": "f4542e77940f48e4b5f6941c983b3bc3",
       "version_major": 2,
       "version_minor": 0
      },
      "text/plain": [
       "HBox(children=(IntProgress(value=0, max=51), HTML(value='')))"
      ]
     },
     "metadata": {},
     "output_type": "display_data"
    },
    {
     "name": "stdout",
     "output_type": "stream",
     "text": [
      "{'accuracy': 0.8631578947368421, 'roc_auc': 0.9252800998490652, 'pr_auc': 0.762625841429057}\n"
     ]
    },
    {
     "data": {
      "text/html": [
       "<div>\n",
       "<style scoped>\n",
       "    .dataframe tbody tr th:only-of-type {\n",
       "        vertical-align: middle;\n",
       "    }\n",
       "\n",
       "    .dataframe tbody tr th {\n",
       "        vertical-align: top;\n",
       "    }\n",
       "\n",
       "    .dataframe thead th {\n",
       "        text-align: right;\n",
       "    }\n",
       "</style>\n",
       "<table border=\"1\" class=\"dataframe\">\n",
       "  <thead>\n",
       "    <tr style=\"text-align: right;\">\n",
       "      <th></th>\n",
       "      <th>0.0</th>\n",
       "      <th>1.0</th>\n",
       "      <th>micro avg</th>\n",
       "      <th>macro avg</th>\n",
       "      <th>weighted avg</th>\n",
       "    </tr>\n",
       "  </thead>\n",
       "  <tbody>\n",
       "    <tr>\n",
       "      <th>f1-score</th>\n",
       "      <td>0.911</td>\n",
       "      <td>0.707</td>\n",
       "      <td>0.863</td>\n",
       "      <td>0.809</td>\n",
       "      <td>0.871</td>\n",
       "    </tr>\n",
       "    <tr>\n",
       "      <th>precision</th>\n",
       "      <td>0.956</td>\n",
       "      <td>0.612</td>\n",
       "      <td>0.863</td>\n",
       "      <td>0.784</td>\n",
       "      <td>0.888</td>\n",
       "    </tr>\n",
       "    <tr>\n",
       "      <th>recall</th>\n",
       "      <td>0.870</td>\n",
       "      <td>0.837</td>\n",
       "      <td>0.863</td>\n",
       "      <td>0.853</td>\n",
       "      <td>0.863</td>\n",
       "    </tr>\n",
       "    <tr>\n",
       "      <th>support</th>\n",
       "      <td>1296.000</td>\n",
       "      <td>319.000</td>\n",
       "      <td>1615.000</td>\n",
       "      <td>1615.000</td>\n",
       "      <td>1615.000</td>\n",
       "    </tr>\n",
       "  </tbody>\n",
       "</table>\n",
       "</div>"
      ],
      "text/plain": [
       "                0.0      1.0  micro avg  macro avg  weighted avg\n",
       "f1-score      0.911    0.707      0.863      0.809         0.871\n",
       "precision     0.956    0.612      0.863      0.784         0.888\n",
       "recall        0.870    0.837      0.863      0.853         0.863\n",
       "support    1296.000  319.000   1615.000   1615.000      1615.000"
      ]
     },
     "metadata": {},
     "output_type": "display_data"
    },
    {
     "name": "stdout",
     "output_type": "stream",
     "text": [
      "Model not saved on  roc_auc 0.9252800998490652\n"
     ]
    },
    {
     "data": {
      "application/vnd.jupyter.widget-view+json": {
       "model_id": "85b84bdb662942f4bb32f1b116750148",
       "version_major": 2,
       "version_minor": 0
      },
      "text/plain": [
       "HBox(children=(IntProgress(value=0, max=242), HTML(value='')))"
      ]
     },
     "metadata": {},
     "output_type": "display_data"
    },
    {
     "data": {
      "application/vnd.jupyter.widget-view+json": {
       "model_id": "71270c1f299848d6a24869dbdec6ba2e",
       "version_major": 2,
       "version_minor": 0
      },
      "text/plain": [
       "HBox(children=(IntProgress(value=0, max=51), HTML(value='')))"
      ]
     },
     "metadata": {},
     "output_type": "display_data"
    },
    {
     "name": "stdout",
     "output_type": "stream",
     "text": [
      "{'accuracy': 0.8520123839009288, 'roc_auc': 0.916833565540462, 'pr_auc': 0.7424182969457658}\n"
     ]
    },
    {
     "data": {
      "text/html": [
       "<div>\n",
       "<style scoped>\n",
       "    .dataframe tbody tr th:only-of-type {\n",
       "        vertical-align: middle;\n",
       "    }\n",
       "\n",
       "    .dataframe tbody tr th {\n",
       "        vertical-align: top;\n",
       "    }\n",
       "\n",
       "    .dataframe thead th {\n",
       "        text-align: right;\n",
       "    }\n",
       "</style>\n",
       "<table border=\"1\" class=\"dataframe\">\n",
       "  <thead>\n",
       "    <tr style=\"text-align: right;\">\n",
       "      <th></th>\n",
       "      <th>0.0</th>\n",
       "      <th>1.0</th>\n",
       "      <th>micro avg</th>\n",
       "      <th>macro avg</th>\n",
       "      <th>weighted avg</th>\n",
       "    </tr>\n",
       "  </thead>\n",
       "  <tbody>\n",
       "    <tr>\n",
       "      <th>f1-score</th>\n",
       "      <td>0.904</td>\n",
       "      <td>0.680</td>\n",
       "      <td>0.852</td>\n",
       "      <td>0.792</td>\n",
       "      <td>0.860</td>\n",
       "    </tr>\n",
       "    <tr>\n",
       "      <th>precision</th>\n",
       "      <td>0.945</td>\n",
       "      <td>0.593</td>\n",
       "      <td>0.852</td>\n",
       "      <td>0.769</td>\n",
       "      <td>0.876</td>\n",
       "    </tr>\n",
       "    <tr>\n",
       "      <th>recall</th>\n",
       "      <td>0.866</td>\n",
       "      <td>0.796</td>\n",
       "      <td>0.852</td>\n",
       "      <td>0.831</td>\n",
       "      <td>0.852</td>\n",
       "    </tr>\n",
       "    <tr>\n",
       "      <th>support</th>\n",
       "      <td>1296.000</td>\n",
       "      <td>319.000</td>\n",
       "      <td>1615.000</td>\n",
       "      <td>1615.000</td>\n",
       "      <td>1615.000</td>\n",
       "    </tr>\n",
       "  </tbody>\n",
       "</table>\n",
       "</div>"
      ],
      "text/plain": [
       "                0.0      1.0  micro avg  macro avg  weighted avg\n",
       "f1-score      0.904    0.680      0.852      0.792         0.860\n",
       "precision     0.945    0.593      0.852      0.769         0.876\n",
       "recall        0.866    0.796      0.852      0.831         0.852\n",
       "support    1296.000  319.000   1615.000   1615.000      1615.000"
      ]
     },
     "metadata": {},
     "output_type": "display_data"
    },
    {
     "name": "stdout",
     "output_type": "stream",
     "text": [
      "Model not saved on  roc_auc 0.916833565540462\n"
     ]
    },
    {
     "data": {
      "application/vnd.jupyter.widget-view+json": {
       "model_id": "2b6d4703839241be9bbe31897cf7e338",
       "version_major": 2,
       "version_minor": 0
      },
      "text/plain": [
       "HBox(children=(IntProgress(value=0, max=242), HTML(value='')))"
      ]
     },
     "metadata": {},
     "output_type": "display_data"
    },
    {
     "data": {
      "application/vnd.jupyter.widget-view+json": {
       "model_id": "06caa417ee974a27969bbf7145a5803b",
       "version_major": 2,
       "version_minor": 0
      },
      "text/plain": [
       "HBox(children=(IntProgress(value=0, max=51), HTML(value='')))"
      ]
     },
     "metadata": {},
     "output_type": "display_data"
    },
    {
     "name": "stdout",
     "output_type": "stream",
     "text": [
      "{'accuracy': 0.8452012383900929, 'roc_auc': 0.9187226672858856, 'pr_auc': 0.7514243141661456}\n"
     ]
    },
    {
     "data": {
      "text/html": [
       "<div>\n",
       "<style scoped>\n",
       "    .dataframe tbody tr th:only-of-type {\n",
       "        vertical-align: middle;\n",
       "    }\n",
       "\n",
       "    .dataframe tbody tr th {\n",
       "        vertical-align: top;\n",
       "    }\n",
       "\n",
       "    .dataframe thead th {\n",
       "        text-align: right;\n",
       "    }\n",
       "</style>\n",
       "<table border=\"1\" class=\"dataframe\">\n",
       "  <thead>\n",
       "    <tr style=\"text-align: right;\">\n",
       "      <th></th>\n",
       "      <th>0.0</th>\n",
       "      <th>1.0</th>\n",
       "      <th>micro avg</th>\n",
       "      <th>macro avg</th>\n",
       "      <th>weighted avg</th>\n",
       "    </tr>\n",
       "  </thead>\n",
       "  <tbody>\n",
       "    <tr>\n",
       "      <th>f1-score</th>\n",
       "      <td>0.898</td>\n",
       "      <td>0.680</td>\n",
       "      <td>0.845</td>\n",
       "      <td>0.789</td>\n",
       "      <td>0.855</td>\n",
       "    </tr>\n",
       "    <tr>\n",
       "      <th>precision</th>\n",
       "      <td>0.954</td>\n",
       "      <td>0.575</td>\n",
       "      <td>0.845</td>\n",
       "      <td>0.764</td>\n",
       "      <td>0.879</td>\n",
       "    </tr>\n",
       "    <tr>\n",
       "      <th>recall</th>\n",
       "      <td>0.848</td>\n",
       "      <td>0.834</td>\n",
       "      <td>0.845</td>\n",
       "      <td>0.841</td>\n",
       "      <td>0.845</td>\n",
       "    </tr>\n",
       "    <tr>\n",
       "      <th>support</th>\n",
       "      <td>1296.000</td>\n",
       "      <td>319.000</td>\n",
       "      <td>1615.000</td>\n",
       "      <td>1615.000</td>\n",
       "      <td>1615.000</td>\n",
       "    </tr>\n",
       "  </tbody>\n",
       "</table>\n",
       "</div>"
      ],
      "text/plain": [
       "                0.0      1.0  micro avg  macro avg  weighted avg\n",
       "f1-score      0.898    0.680      0.845      0.789         0.855\n",
       "precision     0.954    0.575      0.845      0.764         0.879\n",
       "recall        0.848    0.834      0.845      0.841         0.845\n",
       "support    1296.000  319.000   1615.000   1615.000      1615.000"
      ]
     },
     "metadata": {},
     "output_type": "display_data"
    },
    {
     "name": "stdout",
     "output_type": "stream",
     "text": [
      "Model not saved on  roc_auc 0.9187226672858856\n"
     ]
    },
    {
     "data": {
      "application/vnd.jupyter.widget-view+json": {
       "model_id": "4dfe2e856dfa47f4a6067b6032ba07c3",
       "version_major": 2,
       "version_minor": 0
      },
      "text/plain": [
       "HBox(children=(IntProgress(value=0, max=242), HTML(value='')))"
      ]
     },
     "metadata": {},
     "output_type": "display_data"
    },
    {
     "data": {
      "application/vnd.jupyter.widget-view+json": {
       "model_id": "ea32a5b9ce0a47259751a9dda6b605f3",
       "version_major": 2,
       "version_minor": 0
      },
      "text/plain": [
       "HBox(children=(IntProgress(value=0, max=51), HTML(value='')))"
      ]
     },
     "metadata": {},
     "output_type": "display_data"
    },
    {
     "name": "stdout",
     "output_type": "stream",
     "text": [
      "{'accuracy': 0.8445820433436533, 'roc_auc': 0.9145622895622895, 'pr_auc': 0.7465669901248235}\n"
     ]
    },
    {
     "data": {
      "text/html": [
       "<div>\n",
       "<style scoped>\n",
       "    .dataframe tbody tr th:only-of-type {\n",
       "        vertical-align: middle;\n",
       "    }\n",
       "\n",
       "    .dataframe tbody tr th {\n",
       "        vertical-align: top;\n",
       "    }\n",
       "\n",
       "    .dataframe thead th {\n",
       "        text-align: right;\n",
       "    }\n",
       "</style>\n",
       "<table border=\"1\" class=\"dataframe\">\n",
       "  <thead>\n",
       "    <tr style=\"text-align: right;\">\n",
       "      <th></th>\n",
       "      <th>0.0</th>\n",
       "      <th>1.0</th>\n",
       "      <th>micro avg</th>\n",
       "      <th>macro avg</th>\n",
       "      <th>weighted avg</th>\n",
       "    </tr>\n",
       "  </thead>\n",
       "  <tbody>\n",
       "    <tr>\n",
       "      <th>f1-score</th>\n",
       "      <td>0.898</td>\n",
       "      <td>0.672</td>\n",
       "      <td>0.845</td>\n",
       "      <td>0.785</td>\n",
       "      <td>0.853</td>\n",
       "    </tr>\n",
       "    <tr>\n",
       "      <th>precision</th>\n",
       "      <td>0.947</td>\n",
       "      <td>0.576</td>\n",
       "      <td>0.845</td>\n",
       "      <td>0.762</td>\n",
       "      <td>0.874</td>\n",
       "    </tr>\n",
       "    <tr>\n",
       "      <th>recall</th>\n",
       "      <td>0.854</td>\n",
       "      <td>0.806</td>\n",
       "      <td>0.845</td>\n",
       "      <td>0.830</td>\n",
       "      <td>0.845</td>\n",
       "    </tr>\n",
       "    <tr>\n",
       "      <th>support</th>\n",
       "      <td>1296.000</td>\n",
       "      <td>319.000</td>\n",
       "      <td>1615.000</td>\n",
       "      <td>1615.000</td>\n",
       "      <td>1615.000</td>\n",
       "    </tr>\n",
       "  </tbody>\n",
       "</table>\n",
       "</div>"
      ],
      "text/plain": [
       "                0.0      1.0  micro avg  macro avg  weighted avg\n",
       "f1-score      0.898    0.672      0.845      0.785         0.853\n",
       "precision     0.947    0.576      0.845      0.762         0.874\n",
       "recall        0.854    0.806      0.845      0.830         0.845\n",
       "support    1296.000  319.000   1615.000   1615.000      1615.000"
      ]
     },
     "metadata": {},
     "output_type": "display_data"
    },
    {
     "name": "stdout",
     "output_type": "stream",
     "text": [
      "Model not saved on  roc_auc 0.9145622895622895\n"
     ]
    },
    {
     "data": {
      "application/vnd.jupyter.widget-view+json": {
       "model_id": "39e355bc18b845c0ac36f2c02716d277",
       "version_major": 2,
       "version_minor": 0
      },
      "text/plain": [
       "HBox(children=(IntProgress(value=0, max=242), HTML(value='')))"
      ]
     },
     "metadata": {},
     "output_type": "display_data"
    },
    {
     "data": {
      "application/vnd.jupyter.widget-view+json": {
       "model_id": "178bff1137444e9696f0b5d96d6a5cdf",
       "version_major": 2,
       "version_minor": 0
      },
      "text/plain": [
       "HBox(children=(IntProgress(value=0, max=51), HTML(value='')))"
      ]
     },
     "metadata": {},
     "output_type": "display_data"
    },
    {
     "name": "stdout",
     "output_type": "stream",
     "text": [
      "{'accuracy': 0.8526315789473684, 'roc_auc': 0.9140132164557451, 'pr_auc': 0.7396175259584364}\n"
     ]
    },
    {
     "data": {
      "text/html": [
       "<div>\n",
       "<style scoped>\n",
       "    .dataframe tbody tr th:only-of-type {\n",
       "        vertical-align: middle;\n",
       "    }\n",
       "\n",
       "    .dataframe tbody tr th {\n",
       "        vertical-align: top;\n",
       "    }\n",
       "\n",
       "    .dataframe thead th {\n",
       "        text-align: right;\n",
       "    }\n",
       "</style>\n",
       "<table border=\"1\" class=\"dataframe\">\n",
       "  <thead>\n",
       "    <tr style=\"text-align: right;\">\n",
       "      <th></th>\n",
       "      <th>0.0</th>\n",
       "      <th>1.0</th>\n",
       "      <th>micro avg</th>\n",
       "      <th>macro avg</th>\n",
       "      <th>weighted avg</th>\n",
       "    </tr>\n",
       "  </thead>\n",
       "  <tbody>\n",
       "    <tr>\n",
       "      <th>f1-score</th>\n",
       "      <td>0.904</td>\n",
       "      <td>0.688</td>\n",
       "      <td>0.853</td>\n",
       "      <td>0.796</td>\n",
       "      <td>0.861</td>\n",
       "    </tr>\n",
       "    <tr>\n",
       "      <th>precision</th>\n",
       "      <td>0.951</td>\n",
       "      <td>0.591</td>\n",
       "      <td>0.853</td>\n",
       "      <td>0.771</td>\n",
       "      <td>0.880</td>\n",
       "    </tr>\n",
       "    <tr>\n",
       "      <th>recall</th>\n",
       "      <td>0.860</td>\n",
       "      <td>0.821</td>\n",
       "      <td>0.853</td>\n",
       "      <td>0.841</td>\n",
       "      <td>0.853</td>\n",
       "    </tr>\n",
       "    <tr>\n",
       "      <th>support</th>\n",
       "      <td>1296.000</td>\n",
       "      <td>319.000</td>\n",
       "      <td>1615.000</td>\n",
       "      <td>1615.000</td>\n",
       "      <td>1615.000</td>\n",
       "    </tr>\n",
       "  </tbody>\n",
       "</table>\n",
       "</div>"
      ],
      "text/plain": [
       "                0.0      1.0  micro avg  macro avg  weighted avg\n",
       "f1-score      0.904    0.688      0.853      0.796         0.861\n",
       "precision     0.951    0.591      0.853      0.771         0.880\n",
       "recall        0.860    0.821      0.853      0.841         0.853\n",
       "support    1296.000  319.000   1615.000   1615.000      1615.000"
      ]
     },
     "metadata": {},
     "output_type": "display_data"
    },
    {
     "name": "stderr",
     "output_type": "stream",
     "text": [
      "INFO - 2019-03-31 14:42:48,141 - instantiating class <class 'Transparency.model.modules.Encoder.Encoder'> from params {'vocab_size': 22316, 'embed_size': 200, 'projection': True, 'hidden_size': 128, 'activation': 'tanh', 'type': 'average', 'pre_embed': None} and extras {}\n",
      "INFO - 2019-03-31 14:42:48,141 - type = average\n",
      "INFO - 2019-03-31 14:42:48,141 - instantiating class <class 'Transparency.model.modules.Encoder.EncoderAverage'> from params {'vocab_size': 22316, 'embed_size': 200, 'projection': True, 'hidden_size': 128, 'activation': 'tanh', 'pre_embed': None} and extras {}\n",
      "INFO - 2019-03-31 14:42:48,141 - vocab_size = 22316\n",
      "INFO - 2019-03-31 14:42:48,142 - embed_size = 200\n",
      "INFO - 2019-03-31 14:42:48,142 - projection = True\n",
      "INFO - 2019-03-31 14:42:48,142 - hidden_size = 128\n",
      "INFO - 2019-03-31 14:42:48,142 - activation = tanh\n",
      "INFO - 2019-03-31 14:42:48,143 - pre_embed = None\n",
      "INFO - 2019-03-31 14:42:48,167 - instantiating class <class 'Transparency.model.modules.Decoder.AttnDecoder'> from params {'attention': {'type': 'tanh'}, 'output_size': 1, 'hidden_size': 128} and extras {}\n",
      "INFO - 2019-03-31 14:42:48,167 - hidden_size = 128\n",
      "INFO - 2019-03-31 14:42:48,168 - output_size = 1\n",
      "INFO - 2019-03-31 14:42:48,168 - use_attention = True\n",
      "INFO - 2019-03-31 14:42:48,168 - regularizer_attention = None\n",
      "INFO - 2019-03-31 14:42:48,169 - instantiating class <class 'Transparency.model.modules.Attention.Attention'> from params <allennlp.common.params.Params object at 0x7f66ed173a58> and extras {}\n",
      "INFO - 2019-03-31 14:42:48,169 - attention.type = tanh\n",
      "INFO - 2019-03-31 14:42:48,169 - type = tanh\n",
      "INFO - 2019-03-31 14:42:48,170 - instantiating class <class 'Transparency.model.modules.Attention.TanhAttention'> from params <allennlp.common.params.Params object at 0x7f66ed173a58> and extras {}\n",
      "INFO - 2019-03-31 14:42:48,170 - attention.hidden_size = 128\n",
      "INFO - 2019-03-31 14:42:48,170 - hidden_size = 128\n"
     ]
    },
    {
     "name": "stdout",
     "output_type": "stream",
     "text": [
      "Model not saved on  roc_auc 0.9140132164557451\n",
      "\n"
     ]
    },
    {
     "data": {
      "application/vnd.jupyter.widget-view+json": {
       "model_id": "808036d40090465496a6e9eac754d6aa",
       "version_major": 2,
       "version_minor": 0
      },
      "text/plain": [
       "HBox(children=(IntProgress(value=0, max=51), HTML(value='')))"
      ]
     },
     "metadata": {},
     "output_type": "display_data"
    },
    {
     "name": "stdout",
     "output_type": "stream",
     "text": [
      "\n",
      "{'accuracy': 0.8359133126934984, 'roc_auc': 0.9275150934633692, 'pr_auc': 0.7573748745960949}\n"
     ]
    },
    {
     "data": {
      "text/html": [
       "<div>\n",
       "<style scoped>\n",
       "    .dataframe tbody tr th:only-of-type {\n",
       "        vertical-align: middle;\n",
       "    }\n",
       "\n",
       "    .dataframe tbody tr th {\n",
       "        vertical-align: top;\n",
       "    }\n",
       "\n",
       "    .dataframe thead th {\n",
       "        text-align: right;\n",
       "    }\n",
       "</style>\n",
       "<table border=\"1\" class=\"dataframe\">\n",
       "  <thead>\n",
       "    <tr style=\"text-align: right;\">\n",
       "      <th></th>\n",
       "      <th>0.0</th>\n",
       "      <th>1.0</th>\n",
       "      <th>micro avg</th>\n",
       "      <th>macro avg</th>\n",
       "      <th>weighted avg</th>\n",
       "    </tr>\n",
       "  </thead>\n",
       "  <tbody>\n",
       "    <tr>\n",
       "      <th>f1-score</th>\n",
       "      <td>0.890</td>\n",
       "      <td>0.681</td>\n",
       "      <td>0.836</td>\n",
       "      <td>0.785</td>\n",
       "      <td>0.848</td>\n",
       "    </tr>\n",
       "    <tr>\n",
       "      <th>precision</th>\n",
       "      <td>0.967</td>\n",
       "      <td>0.553</td>\n",
       "      <td>0.836</td>\n",
       "      <td>0.760</td>\n",
       "      <td>0.885</td>\n",
       "    </tr>\n",
       "    <tr>\n",
       "      <th>recall</th>\n",
       "      <td>0.823</td>\n",
       "      <td>0.887</td>\n",
       "      <td>0.836</td>\n",
       "      <td>0.855</td>\n",
       "      <td>0.836</td>\n",
       "    </tr>\n",
       "    <tr>\n",
       "      <th>support</th>\n",
       "      <td>1296.000</td>\n",
       "      <td>319.000</td>\n",
       "      <td>1615.000</td>\n",
       "      <td>1615.000</td>\n",
       "      <td>1615.000</td>\n",
       "    </tr>\n",
       "  </tbody>\n",
       "</table>\n",
       "</div>"
      ],
      "text/plain": [
       "                0.0      1.0  micro avg  macro avg  weighted avg\n",
       "f1-score      0.890    0.681      0.836      0.785         0.848\n",
       "precision     0.967    0.553      0.836      0.760         0.885\n",
       "recall        0.823    0.887      0.836      0.855         0.836\n",
       "support    1296.000  319.000   1615.000   1615.000      1615.000"
      ]
     },
     "metadata": {},
     "output_type": "display_data"
    },
    {
     "name": "stderr",
     "output_type": "stream",
     "text": [
      "INFO - 2019-03-31 14:42:48,888 - instantiating class <class 'Transparency.model.modules.Encoder.Encoder'> from params {'vocab_size': 22316, 'embed_size': 200, 'type': 'rnn', 'hidden_size': 128, 'pre_embed': array([[ 0.        ,  0.        ,  0.        , ...,  0.        ,\n",
      "         0.        ,  0.        ],\n",
      "       [ 0.60795819,  0.75690186, -0.45841884, ...,  0.32715918,\n",
      "         1.05838462, -1.00027972],\n",
      "       [ 0.32040939, -0.98453535, -1.66852078, ..., -0.12068232,\n",
      "         2.20697478, -1.14211235],\n",
      "       ...,\n",
      "       [ 1.16788733, -0.92413783,  1.75671399, ...,  0.00975742,\n",
      "        -0.28707436, -0.2458024 ],\n",
      "       [ 0.0009315 , -0.98411071, -1.11939907, ..., -6.90321016,\n",
      "         3.93742228, -1.51261103],\n",
      "       [-0.72030318, -0.14090668, -2.27291822, ..., -1.9552381 ,\n",
      "         0.7607277 , -1.39611304]])} and extras {}\n",
      "INFO - 2019-03-31 14:42:48,889 - type = rnn\n",
      "INFO - 2019-03-31 14:42:48,889 - instantiating class <class 'Transparency.model.modules.Encoder.EncoderRNN'> from params {'vocab_size': 22316, 'embed_size': 200, 'hidden_size': 128, 'pre_embed': array([[ 0.        ,  0.        ,  0.        , ...,  0.        ,\n",
      "         0.        ,  0.        ],\n",
      "       [ 0.60795819,  0.75690186, -0.45841884, ...,  0.32715918,\n",
      "         1.05838462, -1.00027972],\n",
      "       [ 0.32040939, -0.98453535, -1.66852078, ..., -0.12068232,\n",
      "         2.20697478, -1.14211235],\n",
      "       ...,\n",
      "       [ 1.16788733, -0.92413783,  1.75671399, ...,  0.00975742,\n",
      "        -0.28707436, -0.2458024 ],\n",
      "       [ 0.0009315 , -0.98411071, -1.11939907, ..., -6.90321016,\n",
      "         3.93742228, -1.51261103],\n",
      "       [-0.72030318, -0.14090668, -2.27291822, ..., -1.9552381 ,\n",
      "         0.7607277 , -1.39611304]])} and extras {}\n",
      "INFO - 2019-03-31 14:42:48,890 - vocab_size = 22316\n",
      "INFO - 2019-03-31 14:42:48,890 - embed_size = 200\n",
      "INFO - 2019-03-31 14:42:48,890 - hidden_size = 128\n",
      "INFO - 2019-03-31 14:42:48,891 - pre_embed = [[ 0.          0.          0.         ...  0.          0.\n",
      "   0.        ]\n",
      " [ 0.60795819  0.75690186 -0.45841884 ...  0.32715918  1.05838462\n",
      "  -1.00027972]\n",
      " [ 0.32040939 -0.98453535 -1.66852078 ... -0.12068232  2.20697478\n",
      "  -1.14211235]\n",
      " ...\n",
      " [ 1.16788733 -0.92413783  1.75671399 ...  0.00975742 -0.28707436\n",
      "  -0.2458024 ]\n",
      " [ 0.0009315  -0.98411071 -1.11939907 ... -6.90321016  3.93742228\n",
      "  -1.51261103]\n",
      " [-0.72030318 -0.14090668 -2.27291822 ... -1.9552381   0.7607277\n",
      "  -1.39611304]]\n"
     ]
    },
    {
     "name": "stdout",
     "output_type": "stream",
     "text": [
      "Setting Embedding\n"
     ]
    },
    {
     "name": "stderr",
     "output_type": "stream",
     "text": [
      "INFO - 2019-03-31 14:42:49,475 - instantiating class <class 'Transparency.model.modules.Decoder.AttnDecoder'> from params {'attention': {'type': 'tanh'}, 'output_size': 1, 'hidden_size': 256} and extras {}\n",
      "INFO - 2019-03-31 14:42:49,477 - hidden_size = 256\n",
      "INFO - 2019-03-31 14:42:49,479 - output_size = 1\n",
      "INFO - 2019-03-31 14:42:49,481 - use_attention = True\n",
      "INFO - 2019-03-31 14:42:49,483 - regularizer_attention = None\n",
      "INFO - 2019-03-31 14:42:49,484 - instantiating class <class 'Transparency.model.modules.Attention.Attention'> from params <allennlp.common.params.Params object at 0x7f66eda9fc50> and extras {}\n",
      "INFO - 2019-03-31 14:42:49,484 - attention.type = tanh\n",
      "INFO - 2019-03-31 14:42:49,484 - type = tanh\n",
      "INFO - 2019-03-31 14:42:49,485 - instantiating class <class 'Transparency.model.modules.Attention.TanhAttention'> from params <allennlp.common.params.Params object at 0x7f66eda9fc50> and extras {}\n",
      "INFO - 2019-03-31 14:42:49,485 - attention.hidden_size = 256\n",
      "INFO - 2019-03-31 14:42:49,485 - hidden_size = 256\n"
     ]
    },
    {
     "data": {
      "application/vnd.jupyter.widget-view+json": {
       "model_id": "a520c0497f57414596cf9cec840c6915",
       "version_major": 2,
       "version_minor": 0
      },
      "text/plain": [
       "HBox(children=(IntProgress(value=0, max=8), HTML(value='')))"
      ]
     },
     "metadata": {},
     "output_type": "display_data"
    },
    {
     "data": {
      "application/vnd.jupyter.widget-view+json": {
       "model_id": "9bc151e6b8d0411aaf5dd445c6d0d482",
       "version_major": 2,
       "version_minor": 0
      },
      "text/plain": [
       "HBox(children=(IntProgress(value=0, max=242), HTML(value='')))"
      ]
     },
     "metadata": {},
     "output_type": "display_data"
    },
    {
     "data": {
      "application/vnd.jupyter.widget-view+json": {
       "model_id": "54c0714ba5354dd88acbd00e9f0a84bd",
       "version_major": 2,
       "version_minor": 0
      },
      "text/plain": [
       "HBox(children=(IntProgress(value=0, max=51), HTML(value='')))"
      ]
     },
     "metadata": {},
     "output_type": "display_data"
    },
    {
     "name": "stdout",
     "output_type": "stream",
     "text": [
      "{'accuracy': 0.8829721362229103, 'roc_auc': 0.9372581175742095, 'pr_auc': 0.795401495432055}\n"
     ]
    },
    {
     "data": {
      "text/html": [
       "<div>\n",
       "<style scoped>\n",
       "    .dataframe tbody tr th:only-of-type {\n",
       "        vertical-align: middle;\n",
       "    }\n",
       "\n",
       "    .dataframe tbody tr th {\n",
       "        vertical-align: top;\n",
       "    }\n",
       "\n",
       "    .dataframe thead th {\n",
       "        text-align: right;\n",
       "    }\n",
       "</style>\n",
       "<table border=\"1\" class=\"dataframe\">\n",
       "  <thead>\n",
       "    <tr style=\"text-align: right;\">\n",
       "      <th></th>\n",
       "      <th>0.0</th>\n",
       "      <th>1.0</th>\n",
       "      <th>micro avg</th>\n",
       "      <th>macro avg</th>\n",
       "      <th>weighted avg</th>\n",
       "    </tr>\n",
       "  </thead>\n",
       "  <tbody>\n",
       "    <tr>\n",
       "      <th>f1-score</th>\n",
       "      <td>0.923</td>\n",
       "      <td>0.752</td>\n",
       "      <td>0.883</td>\n",
       "      <td>0.838</td>\n",
       "      <td>0.890</td>\n",
       "    </tr>\n",
       "    <tr>\n",
       "      <th>precision</th>\n",
       "      <td>0.973</td>\n",
       "      <td>0.646</td>\n",
       "      <td>0.883</td>\n",
       "      <td>0.810</td>\n",
       "      <td>0.908</td>\n",
       "    </tr>\n",
       "    <tr>\n",
       "      <th>recall</th>\n",
       "      <td>0.879</td>\n",
       "      <td>0.900</td>\n",
       "      <td>0.883</td>\n",
       "      <td>0.889</td>\n",
       "      <td>0.883</td>\n",
       "    </tr>\n",
       "    <tr>\n",
       "      <th>support</th>\n",
       "      <td>1296.000</td>\n",
       "      <td>319.000</td>\n",
       "      <td>1615.000</td>\n",
       "      <td>1615.000</td>\n",
       "      <td>1615.000</td>\n",
       "    </tr>\n",
       "  </tbody>\n",
       "</table>\n",
       "</div>"
      ],
      "text/plain": [
       "                0.0      1.0  micro avg  macro avg  weighted avg\n",
       "f1-score      0.923    0.752      0.883      0.838         0.890\n",
       "precision     0.973    0.646      0.883      0.810         0.908\n",
       "recall        0.879    0.900      0.883      0.889         0.883\n",
       "support    1296.000  319.000   1615.000   1615.000      1615.000"
      ]
     },
     "metadata": {},
     "output_type": "display_data"
    },
    {
     "name": "stdout",
     "output_type": "stream",
     "text": [
      "Model not saved on  roc_auc 0.9372581175742095\n"
     ]
    },
    {
     "data": {
      "application/vnd.jupyter.widget-view+json": {
       "model_id": "c7299b3cb7d54fdc8c216683a42569c6",
       "version_major": 2,
       "version_minor": 0
      },
      "text/plain": [
       "HBox(children=(IntProgress(value=0, max=242), HTML(value='')))"
      ]
     },
     "metadata": {},
     "output_type": "display_data"
    },
    {
     "data": {
      "application/vnd.jupyter.widget-view+json": {
       "model_id": "c196a0e44f7d471cac0e22a4ff00da20",
       "version_major": 2,
       "version_minor": 0
      },
      "text/plain": [
       "HBox(children=(IntProgress(value=0, max=51), HTML(value='')))"
      ]
     },
     "metadata": {},
     "output_type": "display_data"
    },
    {
     "name": "stdout",
     "output_type": "stream",
     "text": [
      "{'accuracy': 0.8978328173374613, 'roc_auc': 0.9357874724254035, 'pr_auc': 0.8141281311318127}\n"
     ]
    },
    {
     "data": {
      "text/html": [
       "<div>\n",
       "<style scoped>\n",
       "    .dataframe tbody tr th:only-of-type {\n",
       "        vertical-align: middle;\n",
       "    }\n",
       "\n",
       "    .dataframe tbody tr th {\n",
       "        vertical-align: top;\n",
       "    }\n",
       "\n",
       "    .dataframe thead th {\n",
       "        text-align: right;\n",
       "    }\n",
       "</style>\n",
       "<table border=\"1\" class=\"dataframe\">\n",
       "  <thead>\n",
       "    <tr style=\"text-align: right;\">\n",
       "      <th></th>\n",
       "      <th>0.0</th>\n",
       "      <th>1.0</th>\n",
       "      <th>micro avg</th>\n",
       "      <th>macro avg</th>\n",
       "      <th>weighted avg</th>\n",
       "    </tr>\n",
       "  </thead>\n",
       "  <tbody>\n",
       "    <tr>\n",
       "      <th>f1-score</th>\n",
       "      <td>0.934</td>\n",
       "      <td>0.776</td>\n",
       "      <td>0.898</td>\n",
       "      <td>0.855</td>\n",
       "      <td>0.903</td>\n",
       "    </tr>\n",
       "    <tr>\n",
       "      <th>precision</th>\n",
       "      <td>0.972</td>\n",
       "      <td>0.685</td>\n",
       "      <td>0.898</td>\n",
       "      <td>0.828</td>\n",
       "      <td>0.915</td>\n",
       "    </tr>\n",
       "    <tr>\n",
       "      <th>recall</th>\n",
       "      <td>0.899</td>\n",
       "      <td>0.893</td>\n",
       "      <td>0.898</td>\n",
       "      <td>0.896</td>\n",
       "      <td>0.898</td>\n",
       "    </tr>\n",
       "    <tr>\n",
       "      <th>support</th>\n",
       "      <td>1296.000</td>\n",
       "      <td>319.000</td>\n",
       "      <td>1615.000</td>\n",
       "      <td>1615.000</td>\n",
       "      <td>1615.000</td>\n",
       "    </tr>\n",
       "  </tbody>\n",
       "</table>\n",
       "</div>"
      ],
      "text/plain": [
       "                0.0      1.0  micro avg  macro avg  weighted avg\n",
       "f1-score      0.934    0.776      0.898      0.855         0.903\n",
       "precision     0.972    0.685      0.898      0.828         0.915\n",
       "recall        0.899    0.893      0.898      0.896         0.898\n",
       "support    1296.000  319.000   1615.000   1615.000      1615.000"
      ]
     },
     "metadata": {},
     "output_type": "display_data"
    },
    {
     "name": "stdout",
     "output_type": "stream",
     "text": [
      "Model Saved on  roc_auc 0.9357874724254035\n"
     ]
    },
    {
     "data": {
      "application/vnd.jupyter.widget-view+json": {
       "model_id": "b00310089e874868af09cfd6a41313e4",
       "version_major": 2,
       "version_minor": 0
      },
      "text/plain": [
       "HBox(children=(IntProgress(value=0, max=242), HTML(value='')))"
      ]
     },
     "metadata": {},
     "output_type": "display_data"
    },
    {
     "data": {
      "application/vnd.jupyter.widget-view+json": {
       "model_id": "8cace9d5934b44f7892a705cd95b2c59",
       "version_major": 2,
       "version_minor": 0
      },
      "text/plain": [
       "HBox(children=(IntProgress(value=0, max=51), HTML(value='')))"
      ]
     },
     "metadata": {},
     "output_type": "display_data"
    },
    {
     "name": "stdout",
     "output_type": "stream",
     "text": [
      "{'accuracy': 0.8860681114551083, 'roc_auc': 0.9372581175742095, 'pr_auc': 0.8173441435454827}\n"
     ]
    },
    {
     "data": {
      "text/html": [
       "<div>\n",
       "<style scoped>\n",
       "    .dataframe tbody tr th:only-of-type {\n",
       "        vertical-align: middle;\n",
       "    }\n",
       "\n",
       "    .dataframe tbody tr th {\n",
       "        vertical-align: top;\n",
       "    }\n",
       "\n",
       "    .dataframe thead th {\n",
       "        text-align: right;\n",
       "    }\n",
       "</style>\n",
       "<table border=\"1\" class=\"dataframe\">\n",
       "  <thead>\n",
       "    <tr style=\"text-align: right;\">\n",
       "      <th></th>\n",
       "      <th>0.0</th>\n",
       "      <th>1.0</th>\n",
       "      <th>micro avg</th>\n",
       "      <th>macro avg</th>\n",
       "      <th>weighted avg</th>\n",
       "    </tr>\n",
       "  </thead>\n",
       "  <tbody>\n",
       "    <tr>\n",
       "      <th>f1-score</th>\n",
       "      <td>0.925</td>\n",
       "      <td>0.759</td>\n",
       "      <td>0.886</td>\n",
       "      <td>0.842</td>\n",
       "      <td>0.893</td>\n",
       "    </tr>\n",
       "    <tr>\n",
       "      <th>precision</th>\n",
       "      <td>0.975</td>\n",
       "      <td>0.652</td>\n",
       "      <td>0.886</td>\n",
       "      <td>0.813</td>\n",
       "      <td>0.911</td>\n",
       "    </tr>\n",
       "    <tr>\n",
       "      <th>recall</th>\n",
       "      <td>0.880</td>\n",
       "      <td>0.909</td>\n",
       "      <td>0.886</td>\n",
       "      <td>0.895</td>\n",
       "      <td>0.886</td>\n",
       "    </tr>\n",
       "    <tr>\n",
       "      <th>support</th>\n",
       "      <td>1296.000</td>\n",
       "      <td>319.000</td>\n",
       "      <td>1615.000</td>\n",
       "      <td>1615.000</td>\n",
       "      <td>1615.000</td>\n",
       "    </tr>\n",
       "  </tbody>\n",
       "</table>\n",
       "</div>"
      ],
      "text/plain": [
       "                0.0      1.0  micro avg  macro avg  weighted avg\n",
       "f1-score      0.925    0.759      0.886      0.842         0.893\n",
       "precision     0.975    0.652      0.886      0.813         0.911\n",
       "recall        0.880    0.909      0.886      0.895         0.886\n",
       "support    1296.000  319.000   1615.000   1615.000      1615.000"
      ]
     },
     "metadata": {},
     "output_type": "display_data"
    },
    {
     "name": "stdout",
     "output_type": "stream",
     "text": [
      "Model Saved on  roc_auc 0.9372581175742095\n"
     ]
    },
    {
     "data": {
      "application/vnd.jupyter.widget-view+json": {
       "model_id": "1aefabb0102d4951a56637645a025c69",
       "version_major": 2,
       "version_minor": 0
      },
      "text/plain": [
       "HBox(children=(IntProgress(value=0, max=242), HTML(value='')))"
      ]
     },
     "metadata": {},
     "output_type": "display_data"
    },
    {
     "data": {
      "application/vnd.jupyter.widget-view+json": {
       "model_id": "df3aad84119a4035a03c2c012eb78519",
       "version_major": 2,
       "version_minor": 0
      },
      "text/plain": [
       "HBox(children=(IntProgress(value=0, max=51), HTML(value='')))"
      ]
     },
     "metadata": {},
     "output_type": "display_data"
    },
    {
     "name": "stdout",
     "output_type": "stream",
     "text": [
      "{'accuracy': 0.9065015479876161, 'roc_auc': 0.9343482719919503, 'pr_auc': 0.7656708524660637}\n"
     ]
    },
    {
     "data": {
      "text/html": [
       "<div>\n",
       "<style scoped>\n",
       "    .dataframe tbody tr th:only-of-type {\n",
       "        vertical-align: middle;\n",
       "    }\n",
       "\n",
       "    .dataframe tbody tr th {\n",
       "        vertical-align: top;\n",
       "    }\n",
       "\n",
       "    .dataframe thead th {\n",
       "        text-align: right;\n",
       "    }\n",
       "</style>\n",
       "<table border=\"1\" class=\"dataframe\">\n",
       "  <thead>\n",
       "    <tr style=\"text-align: right;\">\n",
       "      <th></th>\n",
       "      <th>0.0</th>\n",
       "      <th>1.0</th>\n",
       "      <th>micro avg</th>\n",
       "      <th>macro avg</th>\n",
       "      <th>weighted avg</th>\n",
       "    </tr>\n",
       "  </thead>\n",
       "  <tbody>\n",
       "    <tr>\n",
       "      <th>f1-score</th>\n",
       "      <td>0.940</td>\n",
       "      <td>0.79</td>\n",
       "      <td>0.907</td>\n",
       "      <td>0.865</td>\n",
       "      <td>0.910</td>\n",
       "    </tr>\n",
       "    <tr>\n",
       "      <th>precision</th>\n",
       "      <td>0.971</td>\n",
       "      <td>0.71</td>\n",
       "      <td>0.907</td>\n",
       "      <td>0.841</td>\n",
       "      <td>0.920</td>\n",
       "    </tr>\n",
       "    <tr>\n",
       "      <th>recall</th>\n",
       "      <td>0.910</td>\n",
       "      <td>0.89</td>\n",
       "      <td>0.907</td>\n",
       "      <td>0.900</td>\n",
       "      <td>0.907</td>\n",
       "    </tr>\n",
       "    <tr>\n",
       "      <th>support</th>\n",
       "      <td>1296.000</td>\n",
       "      <td>319.00</td>\n",
       "      <td>1615.000</td>\n",
       "      <td>1615.000</td>\n",
       "      <td>1615.000</td>\n",
       "    </tr>\n",
       "  </tbody>\n",
       "</table>\n",
       "</div>"
      ],
      "text/plain": [
       "                0.0     1.0  micro avg  macro avg  weighted avg\n",
       "f1-score      0.940    0.79      0.907      0.865         0.910\n",
       "precision     0.971    0.71      0.907      0.841         0.920\n",
       "recall        0.910    0.89      0.907      0.900         0.907\n",
       "support    1296.000  319.00   1615.000   1615.000      1615.000"
      ]
     },
     "metadata": {},
     "output_type": "display_data"
    },
    {
     "name": "stdout",
     "output_type": "stream",
     "text": [
      "Model not saved on  roc_auc 0.9343482719919503\n"
     ]
    },
    {
     "data": {
      "application/vnd.jupyter.widget-view+json": {
       "model_id": "5852b8fc4b3048dcb624cccf63383c7e",
       "version_major": 2,
       "version_minor": 0
      },
      "text/plain": [
       "HBox(children=(IntProgress(value=0, max=242), HTML(value='')))"
      ]
     },
     "metadata": {},
     "output_type": "display_data"
    },
    {
     "data": {
      "application/vnd.jupyter.widget-view+json": {
       "model_id": "872cede6816a4cf29df5e70fcdec441e",
       "version_major": 2,
       "version_minor": 0
      },
      "text/plain": [
       "HBox(children=(IntProgress(value=0, max=51), HTML(value='')))"
      ]
     },
     "metadata": {},
     "output_type": "display_data"
    },
    {
     "name": "stdout",
     "output_type": "stream",
     "text": [
      "{'accuracy': 0.8990712074303405, 'roc_auc': 0.9231491156778514, 'pr_auc': 0.7568035732065655}\n"
     ]
    },
    {
     "data": {
      "text/html": [
       "<div>\n",
       "<style scoped>\n",
       "    .dataframe tbody tr th:only-of-type {\n",
       "        vertical-align: middle;\n",
       "    }\n",
       "\n",
       "    .dataframe tbody tr th {\n",
       "        vertical-align: top;\n",
       "    }\n",
       "\n",
       "    .dataframe thead th {\n",
       "        text-align: right;\n",
       "    }\n",
       "</style>\n",
       "<table border=\"1\" class=\"dataframe\">\n",
       "  <thead>\n",
       "    <tr style=\"text-align: right;\">\n",
       "      <th></th>\n",
       "      <th>0.0</th>\n",
       "      <th>1.0</th>\n",
       "      <th>micro avg</th>\n",
       "      <th>macro avg</th>\n",
       "      <th>weighted avg</th>\n",
       "    </tr>\n",
       "  </thead>\n",
       "  <tbody>\n",
       "    <tr>\n",
       "      <th>f1-score</th>\n",
       "      <td>0.936</td>\n",
       "      <td>0.763</td>\n",
       "      <td>0.899</td>\n",
       "      <td>0.850</td>\n",
       "      <td>0.902</td>\n",
       "    </tr>\n",
       "    <tr>\n",
       "      <th>precision</th>\n",
       "      <td>0.955</td>\n",
       "      <td>0.711</td>\n",
       "      <td>0.899</td>\n",
       "      <td>0.833</td>\n",
       "      <td>0.907</td>\n",
       "    </tr>\n",
       "    <tr>\n",
       "      <th>recall</th>\n",
       "      <td>0.917</td>\n",
       "      <td>0.824</td>\n",
       "      <td>0.899</td>\n",
       "      <td>0.871</td>\n",
       "      <td>0.899</td>\n",
       "    </tr>\n",
       "    <tr>\n",
       "      <th>support</th>\n",
       "      <td>1296.000</td>\n",
       "      <td>319.000</td>\n",
       "      <td>1615.000</td>\n",
       "      <td>1615.000</td>\n",
       "      <td>1615.000</td>\n",
       "    </tr>\n",
       "  </tbody>\n",
       "</table>\n",
       "</div>"
      ],
      "text/plain": [
       "                0.0      1.0  micro avg  macro avg  weighted avg\n",
       "f1-score      0.936    0.763      0.899      0.850         0.902\n",
       "precision     0.955    0.711      0.899      0.833         0.907\n",
       "recall        0.917    0.824      0.899      0.871         0.899\n",
       "support    1296.000  319.000   1615.000   1615.000      1615.000"
      ]
     },
     "metadata": {},
     "output_type": "display_data"
    },
    {
     "name": "stdout",
     "output_type": "stream",
     "text": [
      "Model not saved on  roc_auc 0.9231491156778514\n"
     ]
    },
    {
     "data": {
      "application/vnd.jupyter.widget-view+json": {
       "model_id": "213d8040f6ff4ef485c4c86d4e05db79",
       "version_major": 2,
       "version_minor": 0
      },
      "text/plain": [
       "HBox(children=(IntProgress(value=0, max=242), HTML(value='')))"
      ]
     },
     "metadata": {},
     "output_type": "display_data"
    },
    {
     "data": {
      "application/vnd.jupyter.widget-view+json": {
       "model_id": "093a76cf9c7f481fb9ad650d2036f8e6",
       "version_major": 2,
       "version_minor": 0
      },
      "text/plain": [
       "HBox(children=(IntProgress(value=0, max=51), HTML(value='')))"
      ]
     },
     "metadata": {},
     "output_type": "display_data"
    },
    {
     "name": "stdout",
     "output_type": "stream",
     "text": [
      "{'accuracy': 0.9071207430340558, 'roc_auc': 0.9331509539842873, 'pr_auc': 0.7843049098404334}\n"
     ]
    },
    {
     "data": {
      "text/html": [
       "<div>\n",
       "<style scoped>\n",
       "    .dataframe tbody tr th:only-of-type {\n",
       "        vertical-align: middle;\n",
       "    }\n",
       "\n",
       "    .dataframe tbody tr th {\n",
       "        vertical-align: top;\n",
       "    }\n",
       "\n",
       "    .dataframe thead th {\n",
       "        text-align: right;\n",
       "    }\n",
       "</style>\n",
       "<table border=\"1\" class=\"dataframe\">\n",
       "  <thead>\n",
       "    <tr style=\"text-align: right;\">\n",
       "      <th></th>\n",
       "      <th>0.0</th>\n",
       "      <th>1.0</th>\n",
       "      <th>micro avg</th>\n",
       "      <th>macro avg</th>\n",
       "      <th>weighted avg</th>\n",
       "    </tr>\n",
       "  </thead>\n",
       "  <tbody>\n",
       "    <tr>\n",
       "      <th>f1-score</th>\n",
       "      <td>0.940</td>\n",
       "      <td>0.789</td>\n",
       "      <td>0.907</td>\n",
       "      <td>0.865</td>\n",
       "      <td>0.911</td>\n",
       "    </tr>\n",
       "    <tr>\n",
       "      <th>precision</th>\n",
       "      <td>0.969</td>\n",
       "      <td>0.715</td>\n",
       "      <td>0.907</td>\n",
       "      <td>0.842</td>\n",
       "      <td>0.919</td>\n",
       "    </tr>\n",
       "    <tr>\n",
       "      <th>recall</th>\n",
       "      <td>0.914</td>\n",
       "      <td>0.881</td>\n",
       "      <td>0.907</td>\n",
       "      <td>0.897</td>\n",
       "      <td>0.907</td>\n",
       "    </tr>\n",
       "    <tr>\n",
       "      <th>support</th>\n",
       "      <td>1296.000</td>\n",
       "      <td>319.000</td>\n",
       "      <td>1615.000</td>\n",
       "      <td>1615.000</td>\n",
       "      <td>1615.000</td>\n",
       "    </tr>\n",
       "  </tbody>\n",
       "</table>\n",
       "</div>"
      ],
      "text/plain": [
       "                0.0      1.0  micro avg  macro avg  weighted avg\n",
       "f1-score      0.940    0.789      0.907      0.865         0.911\n",
       "precision     0.969    0.715      0.907      0.842         0.919\n",
       "recall        0.914    0.881      0.907      0.897         0.907\n",
       "support    1296.000  319.000   1615.000   1615.000      1615.000"
      ]
     },
     "metadata": {},
     "output_type": "display_data"
    },
    {
     "name": "stdout",
     "output_type": "stream",
     "text": [
      "Model not saved on  roc_auc 0.9331509539842873\n"
     ]
    },
    {
     "data": {
      "application/vnd.jupyter.widget-view+json": {
       "model_id": "5f453b440f9f464b9681d1c074ab67fa",
       "version_major": 2,
       "version_minor": 0
      },
      "text/plain": [
       "HBox(children=(IntProgress(value=0, max=242), HTML(value='')))"
      ]
     },
     "metadata": {},
     "output_type": "display_data"
    },
    {
     "data": {
      "application/vnd.jupyter.widget-view+json": {
       "model_id": "3bfc3f1312fe4bb096141e54e0813c62",
       "version_major": 2,
       "version_minor": 0
      },
      "text/plain": [
       "HBox(children=(IntProgress(value=0, max=51), HTML(value='')))"
      ]
     },
     "metadata": {},
     "output_type": "display_data"
    },
    {
     "name": "stdout",
     "output_type": "stream",
     "text": [
      "{'accuracy': 0.9052631578947369, 'roc_auc': 0.9265911025968497, 'pr_auc': 0.7692370016267118}\n"
     ]
    },
    {
     "data": {
      "text/html": [
       "<div>\n",
       "<style scoped>\n",
       "    .dataframe tbody tr th:only-of-type {\n",
       "        vertical-align: middle;\n",
       "    }\n",
       "\n",
       "    .dataframe tbody tr th {\n",
       "        vertical-align: top;\n",
       "    }\n",
       "\n",
       "    .dataframe thead th {\n",
       "        text-align: right;\n",
       "    }\n",
       "</style>\n",
       "<table border=\"1\" class=\"dataframe\">\n",
       "  <thead>\n",
       "    <tr style=\"text-align: right;\">\n",
       "      <th></th>\n",
       "      <th>0.0</th>\n",
       "      <th>1.0</th>\n",
       "      <th>micro avg</th>\n",
       "      <th>macro avg</th>\n",
       "      <th>weighted avg</th>\n",
       "    </tr>\n",
       "  </thead>\n",
       "  <tbody>\n",
       "    <tr>\n",
       "      <th>f1-score</th>\n",
       "      <td>0.941</td>\n",
       "      <td>0.757</td>\n",
       "      <td>0.905</td>\n",
       "      <td>0.849</td>\n",
       "      <td>0.905</td>\n",
       "    </tr>\n",
       "    <tr>\n",
       "      <th>precision</th>\n",
       "      <td>0.938</td>\n",
       "      <td>0.768</td>\n",
       "      <td>0.905</td>\n",
       "      <td>0.853</td>\n",
       "      <td>0.904</td>\n",
       "    </tr>\n",
       "    <tr>\n",
       "      <th>recall</th>\n",
       "      <td>0.944</td>\n",
       "      <td>0.746</td>\n",
       "      <td>0.905</td>\n",
       "      <td>0.845</td>\n",
       "      <td>0.905</td>\n",
       "    </tr>\n",
       "    <tr>\n",
       "      <th>support</th>\n",
       "      <td>1296.000</td>\n",
       "      <td>319.000</td>\n",
       "      <td>1615.000</td>\n",
       "      <td>1615.000</td>\n",
       "      <td>1615.000</td>\n",
       "    </tr>\n",
       "  </tbody>\n",
       "</table>\n",
       "</div>"
      ],
      "text/plain": [
       "                0.0      1.0  micro avg  macro avg  weighted avg\n",
       "f1-score      0.941    0.757      0.905      0.849         0.905\n",
       "precision     0.938    0.768      0.905      0.853         0.904\n",
       "recall        0.944    0.746      0.905      0.845         0.905\n",
       "support    1296.000  319.000   1615.000   1615.000      1615.000"
      ]
     },
     "metadata": {},
     "output_type": "display_data"
    },
    {
     "name": "stdout",
     "output_type": "stream",
     "text": [
      "Model not saved on  roc_auc 0.9265911025968497\n"
     ]
    },
    {
     "data": {
      "application/vnd.jupyter.widget-view+json": {
       "model_id": "739289eb01d048ae9ed952eadb869ca3",
       "version_major": 2,
       "version_minor": 0
      },
      "text/plain": [
       "HBox(children=(IntProgress(value=0, max=242), HTML(value='')))"
      ]
     },
     "metadata": {},
     "output_type": "display_data"
    },
    {
     "data": {
      "application/vnd.jupyter.widget-view+json": {
       "model_id": "ef833b0f12f64822adf396b398596f09",
       "version_major": 2,
       "version_minor": 0
      },
      "text/plain": [
       "HBox(children=(IntProgress(value=0, max=51), HTML(value='')))"
      ]
     },
     "metadata": {},
     "output_type": "display_data"
    },
    {
     "name": "stdout",
     "output_type": "stream",
     "text": [
      "{'accuracy': 0.9089783281733747, 'roc_auc': 0.922014687100894, 'pr_auc': 0.7748228782040967}\n"
     ]
    },
    {
     "data": {
      "text/html": [
       "<div>\n",
       "<style scoped>\n",
       "    .dataframe tbody tr th:only-of-type {\n",
       "        vertical-align: middle;\n",
       "    }\n",
       "\n",
       "    .dataframe tbody tr th {\n",
       "        vertical-align: top;\n",
       "    }\n",
       "\n",
       "    .dataframe thead th {\n",
       "        text-align: right;\n",
       "    }\n",
       "</style>\n",
       "<table border=\"1\" class=\"dataframe\">\n",
       "  <thead>\n",
       "    <tr style=\"text-align: right;\">\n",
       "      <th></th>\n",
       "      <th>0.0</th>\n",
       "      <th>1.0</th>\n",
       "      <th>micro avg</th>\n",
       "      <th>macro avg</th>\n",
       "      <th>weighted avg</th>\n",
       "    </tr>\n",
       "  </thead>\n",
       "  <tbody>\n",
       "    <tr>\n",
       "      <th>f1-score</th>\n",
       "      <td>0.944</td>\n",
       "      <td>0.763</td>\n",
       "      <td>0.909</td>\n",
       "      <td>0.853</td>\n",
       "      <td>0.908</td>\n",
       "    </tr>\n",
       "    <tr>\n",
       "      <th>precision</th>\n",
       "      <td>0.938</td>\n",
       "      <td>0.785</td>\n",
       "      <td>0.909</td>\n",
       "      <td>0.861</td>\n",
       "      <td>0.907</td>\n",
       "    </tr>\n",
       "    <tr>\n",
       "      <th>recall</th>\n",
       "      <td>0.950</td>\n",
       "      <td>0.743</td>\n",
       "      <td>0.909</td>\n",
       "      <td>0.846</td>\n",
       "      <td>0.909</td>\n",
       "    </tr>\n",
       "    <tr>\n",
       "      <th>support</th>\n",
       "      <td>1296.000</td>\n",
       "      <td>319.000</td>\n",
       "      <td>1615.000</td>\n",
       "      <td>1615.000</td>\n",
       "      <td>1615.000</td>\n",
       "    </tr>\n",
       "  </tbody>\n",
       "</table>\n",
       "</div>"
      ],
      "text/plain": [
       "                0.0      1.0  micro avg  macro avg  weighted avg\n",
       "f1-score      0.944    0.763      0.909      0.853         0.908\n",
       "precision     0.938    0.785      0.909      0.861         0.907\n",
       "recall        0.950    0.743      0.909      0.846         0.909\n",
       "support    1296.000  319.000   1615.000   1615.000      1615.000"
      ]
     },
     "metadata": {},
     "output_type": "display_data"
    },
    {
     "name": "stderr",
     "output_type": "stream",
     "text": [
      "INFO - 2019-03-31 14:49:10,385 - instantiating class <class 'Transparency.model.modules.Encoder.Encoder'> from params {'vocab_size': 22316, 'embed_size': 200, 'type': 'rnn', 'hidden_size': 128, 'pre_embed': None} and extras {}\n",
      "INFO - 2019-03-31 14:49:10,386 - type = rnn\n",
      "INFO - 2019-03-31 14:49:10,386 - instantiating class <class 'Transparency.model.modules.Encoder.EncoderRNN'> from params {'vocab_size': 22316, 'embed_size': 200, 'hidden_size': 128, 'pre_embed': None} and extras {}\n",
      "INFO - 2019-03-31 14:49:10,386 - vocab_size = 22316\n",
      "INFO - 2019-03-31 14:49:10,387 - embed_size = 200\n",
      "INFO - 2019-03-31 14:49:10,387 - hidden_size = 128\n",
      "INFO - 2019-03-31 14:49:10,387 - pre_embed = None\n",
      "INFO - 2019-03-31 14:49:10,415 - instantiating class <class 'Transparency.model.modules.Decoder.AttnDecoder'> from params {'attention': {'type': 'tanh'}, 'output_size': 1, 'hidden_size': 256} and extras {}\n",
      "INFO - 2019-03-31 14:49:10,415 - hidden_size = 256\n",
      "INFO - 2019-03-31 14:49:10,416 - output_size = 1\n",
      "INFO - 2019-03-31 14:49:10,416 - use_attention = True\n",
      "INFO - 2019-03-31 14:49:10,416 - regularizer_attention = None\n",
      "INFO - 2019-03-31 14:49:10,417 - instantiating class <class 'Transparency.model.modules.Attention.Attention'> from params <allennlp.common.params.Params object at 0x7f66ed09c630> and extras {}\n",
      "INFO - 2019-03-31 14:49:10,417 - attention.type = tanh\n",
      "INFO - 2019-03-31 14:49:10,418 - type = tanh\n",
      "INFO - 2019-03-31 14:49:10,418 - instantiating class <class 'Transparency.model.modules.Attention.TanhAttention'> from params <allennlp.common.params.Params object at 0x7f66ed09c630> and extras {}\n",
      "INFO - 2019-03-31 14:49:10,418 - attention.hidden_size = 256\n",
      "INFO - 2019-03-31 14:49:10,418 - hidden_size = 256\n"
     ]
    },
    {
     "name": "stdout",
     "output_type": "stream",
     "text": [
      "Model not saved on  roc_auc 0.922014687100894\n",
      "\n"
     ]
    },
    {
     "data": {
      "application/vnd.jupyter.widget-view+json": {
       "model_id": "e5945777f3664effa919c8ee14230895",
       "version_major": 2,
       "version_minor": 0
      },
      "text/plain": [
       "HBox(children=(IntProgress(value=0, max=51), HTML(value='')))"
      ]
     },
     "metadata": {},
     "output_type": "display_data"
    },
    {
     "name": "stdout",
     "output_type": "stream",
     "text": [
      "\n",
      "{'accuracy': 0.8860681114551083, 'roc_auc': 0.9372581175742095, 'pr_auc': 0.8173441435454827}\n"
     ]
    },
    {
     "data": {
      "text/html": [
       "<div>\n",
       "<style scoped>\n",
       "    .dataframe tbody tr th:only-of-type {\n",
       "        vertical-align: middle;\n",
       "    }\n",
       "\n",
       "    .dataframe tbody tr th {\n",
       "        vertical-align: top;\n",
       "    }\n",
       "\n",
       "    .dataframe thead th {\n",
       "        text-align: right;\n",
       "    }\n",
       "</style>\n",
       "<table border=\"1\" class=\"dataframe\">\n",
       "  <thead>\n",
       "    <tr style=\"text-align: right;\">\n",
       "      <th></th>\n",
       "      <th>0.0</th>\n",
       "      <th>1.0</th>\n",
       "      <th>micro avg</th>\n",
       "      <th>macro avg</th>\n",
       "      <th>weighted avg</th>\n",
       "    </tr>\n",
       "  </thead>\n",
       "  <tbody>\n",
       "    <tr>\n",
       "      <th>f1-score</th>\n",
       "      <td>0.925</td>\n",
       "      <td>0.759</td>\n",
       "      <td>0.886</td>\n",
       "      <td>0.842</td>\n",
       "      <td>0.893</td>\n",
       "    </tr>\n",
       "    <tr>\n",
       "      <th>precision</th>\n",
       "      <td>0.975</td>\n",
       "      <td>0.652</td>\n",
       "      <td>0.886</td>\n",
       "      <td>0.813</td>\n",
       "      <td>0.911</td>\n",
       "    </tr>\n",
       "    <tr>\n",
       "      <th>recall</th>\n",
       "      <td>0.880</td>\n",
       "      <td>0.909</td>\n",
       "      <td>0.886</td>\n",
       "      <td>0.895</td>\n",
       "      <td>0.886</td>\n",
       "    </tr>\n",
       "    <tr>\n",
       "      <th>support</th>\n",
       "      <td>1296.000</td>\n",
       "      <td>319.000</td>\n",
       "      <td>1615.000</td>\n",
       "      <td>1615.000</td>\n",
       "      <td>1615.000</td>\n",
       "    </tr>\n",
       "  </tbody>\n",
       "</table>\n",
       "</div>"
      ],
      "text/plain": [
       "                0.0      1.0  micro avg  macro avg  weighted avg\n",
       "f1-score      0.925    0.759      0.886      0.842         0.893\n",
       "precision     0.975    0.652      0.886      0.813         0.911\n",
       "recall        0.880    0.909      0.886      0.895         0.886\n",
       "support    1296.000  319.000   1615.000   1615.000      1615.000"
      ]
     },
     "metadata": {},
     "output_type": "display_data"
    },
    {
     "name": "stderr",
     "output_type": "stream",
     "text": [
      "INFO - 2019-03-31 14:49:14,280 - instantiating class <class 'Transparency.model.modules.Encoder.Encoder'> from params {'vocab_size': 22316, 'embed_size': 200, 'kernel_sizes': [1, 3, 5, 7], 'hidden_size': 64, 'activation': 'relu', 'type': 'cnn', 'pre_embed': None} and extras {}\n",
      "INFO - 2019-03-31 14:49:14,281 - type = cnn\n",
      "INFO - 2019-03-31 14:49:14,282 - instantiating class <class 'Transparency.model.modules.Encoder.EncoderCNN'> from params {'vocab_size': 22316, 'embed_size': 200, 'kernel_sizes': [1, 3, 5, 7], 'hidden_size': 64, 'activation': 'relu', 'pre_embed': None} and extras {}\n",
      "INFO - 2019-03-31 14:49:14,283 - vocab_size = 22316\n",
      "INFO - 2019-03-31 14:49:14,284 - embed_size = 200\n",
      "INFO - 2019-03-31 14:49:14,284 - hidden_size = 64\n",
      "INFO - 2019-03-31 14:49:14,285 - kernel_sizes = [1, 3, 5, 7]\n",
      "INFO - 2019-03-31 14:49:14,285 - activation = relu\n",
      "INFO - 2019-03-31 14:49:14,286 - pre_embed = None\n",
      "INFO - 2019-03-31 14:49:14,313 - instantiating class <class 'Transparency.model.modules.Decoder.AttnDecoder'> from params {'attention': {'type': 'tanh'}, 'output_size': 1, 'hidden_size': 256} and extras {}\n",
      "INFO - 2019-03-31 14:49:14,314 - hidden_size = 256\n",
      "INFO - 2019-03-31 14:49:14,314 - output_size = 1\n",
      "INFO - 2019-03-31 14:49:14,314 - use_attention = True\n",
      "INFO - 2019-03-31 14:49:14,315 - regularizer_attention = None\n",
      "INFO - 2019-03-31 14:49:14,315 - instantiating class <class 'Transparency.model.modules.Attention.Attention'> from params <allennlp.common.params.Params object at 0x7f66ed1c49b0> and extras {}\n",
      "INFO - 2019-03-31 14:49:14,316 - attention.type = tanh\n",
      "INFO - 2019-03-31 14:49:14,316 - type = tanh\n",
      "INFO - 2019-03-31 14:49:14,316 - instantiating class <class 'Transparency.model.modules.Attention.TanhAttention'> from params <allennlp.common.params.Params object at 0x7f66ed1c49b0> and extras {}\n",
      "INFO - 2019-03-31 14:49:14,316 - attention.hidden_size = 256\n",
      "INFO - 2019-03-31 14:49:14,317 - hidden_size = 256\n"
     ]
    },
    {
     "data": {
      "application/vnd.jupyter.widget-view+json": {
       "model_id": "d00f5f03c8294940ba990bf8f1d27af7",
       "version_major": 2,
       "version_minor": 0
      },
      "text/plain": [
       "HBox(children=(IntProgress(value=0, max=51), HTML(value='')))"
      ]
     },
     "metadata": {},
     "output_type": "display_data"
    },
    {
     "name": "stdout",
     "output_type": "stream",
     "text": [
      "\n",
      "{'accuracy': 0.871826625386997, 'roc_auc': 0.9388811486512637, 'pr_auc': 0.8045142655335366}\n"
     ]
    },
    {
     "data": {
      "text/html": [
       "<div>\n",
       "<style scoped>\n",
       "    .dataframe tbody tr th:only-of-type {\n",
       "        vertical-align: middle;\n",
       "    }\n",
       "\n",
       "    .dataframe tbody tr th {\n",
       "        vertical-align: top;\n",
       "    }\n",
       "\n",
       "    .dataframe thead th {\n",
       "        text-align: right;\n",
       "    }\n",
       "</style>\n",
       "<table border=\"1\" class=\"dataframe\">\n",
       "  <thead>\n",
       "    <tr style=\"text-align: right;\">\n",
       "      <th></th>\n",
       "      <th>0.0</th>\n",
       "      <th>1.0</th>\n",
       "      <th>micro avg</th>\n",
       "      <th>macro avg</th>\n",
       "      <th>weighted avg</th>\n",
       "    </tr>\n",
       "  </thead>\n",
       "  <tbody>\n",
       "    <tr>\n",
       "      <th>f1-score</th>\n",
       "      <td>0.915</td>\n",
       "      <td>0.735</td>\n",
       "      <td>0.872</td>\n",
       "      <td>0.825</td>\n",
       "      <td>0.880</td>\n",
       "    </tr>\n",
       "    <tr>\n",
       "      <th>precision</th>\n",
       "      <td>0.972</td>\n",
       "      <td>0.621</td>\n",
       "      <td>0.872</td>\n",
       "      <td>0.797</td>\n",
       "      <td>0.903</td>\n",
       "    </tr>\n",
       "    <tr>\n",
       "      <th>recall</th>\n",
       "      <td>0.865</td>\n",
       "      <td>0.900</td>\n",
       "      <td>0.872</td>\n",
       "      <td>0.882</td>\n",
       "      <td>0.872</td>\n",
       "    </tr>\n",
       "    <tr>\n",
       "      <th>support</th>\n",
       "      <td>1296.000</td>\n",
       "      <td>319.000</td>\n",
       "      <td>1615.000</td>\n",
       "      <td>1615.000</td>\n",
       "      <td>1615.000</td>\n",
       "    </tr>\n",
       "  </tbody>\n",
       "</table>\n",
       "</div>"
      ],
      "text/plain": [
       "                0.0      1.0  micro avg  macro avg  weighted avg\n",
       "f1-score      0.915    0.735      0.872      0.825         0.880\n",
       "precision     0.972    0.621      0.872      0.797         0.903\n",
       "recall        0.865    0.900      0.872      0.882         0.872\n",
       "support    1296.000  319.000   1615.000   1615.000      1615.000"
      ]
     },
     "metadata": {},
     "output_type": "display_data"
    },
    {
     "data": {
      "application/vnd.jupyter.widget-view+json": {
       "model_id": "9f44558a5e2f42fa88de5ec87194d9a4",
       "version_major": 2,
       "version_minor": 0
      },
      "text/plain": [
       "HBox(children=(IntProgress(value=0, max=51), HTML(value='')))"
      ]
     },
     "metadata": {},
     "output_type": "display_data"
    },
    {
     "name": "stdout",
     "output_type": "stream",
     "text": [
      "\n"
     ]
    },
    {
     "data": {
      "application/vnd.jupyter.widget-view+json": {
       "model_id": "3f00a53e3adc4e7fa59e039150780306",
       "version_major": 2,
       "version_minor": 0
      },
      "text/plain": [
       "HBox(children=(IntProgress(value=0, max=51), HTML(value='')))"
      ]
     },
     "metadata": {},
     "output_type": "display_data"
    },
    {
     "name": "stdout",
     "output_type": "stream",
     "text": [
      "\n"
     ]
    },
    {
     "data": {
      "application/vnd.jupyter.widget-view+json": {
       "model_id": "06d72af2a7e241fb97fb96120f2d882d",
       "version_major": 2,
       "version_minor": 0
      },
      "text/plain": [
       "HBox(children=(IntProgress(value=0, max=51), HTML(value='')))"
      ]
     },
     "metadata": {},
     "output_type": "display_data"
    },
    {
     "name": "stdout",
     "output_type": "stream",
     "text": [
      "\n"
     ]
    },
    {
     "data": {
      "application/vnd.jupyter.widget-view+json": {
       "model_id": "e6ddc4ca0deb45ec8261f037d10ee303",
       "version_major": 2,
       "version_minor": 0
      },
      "text/plain": [
       "HBox(children=(IntProgress(value=0, max=51), HTML(value='')))"
      ]
     },
     "metadata": {},
     "output_type": "display_data"
    },
    {
     "name": "stdout",
     "output_type": "stream",
     "text": [
      "\n"
     ]
    },
    {
     "name": "stderr",
     "output_type": "stream",
     "text": [
      "INFO - 2019-03-31 15:34:30,484 - instantiating class <class 'Transparency.model.modules.Encoder.Encoder'> from params {'vocab_size': 22316, 'embed_size': 200, 'projection': True, 'hidden_size': 128, 'activation': 'tanh', 'type': 'average', 'pre_embed': None} and extras {}\n",
      "INFO - 2019-03-31 15:34:30,485 - type = average\n",
      "INFO - 2019-03-31 15:34:30,485 - instantiating class <class 'Transparency.model.modules.Encoder.EncoderAverage'> from params {'vocab_size': 22316, 'embed_size': 200, 'projection': True, 'hidden_size': 128, 'activation': 'tanh', 'pre_embed': None} and extras {}\n",
      "INFO - 2019-03-31 15:34:30,485 - vocab_size = 22316\n",
      "INFO - 2019-03-31 15:34:30,486 - embed_size = 200\n",
      "INFO - 2019-03-31 15:34:30,486 - projection = True\n",
      "INFO - 2019-03-31 15:34:30,486 - hidden_size = 128\n",
      "INFO - 2019-03-31 15:34:30,486 - activation = tanh\n",
      "INFO - 2019-03-31 15:34:30,486 - pre_embed = None\n",
      "INFO - 2019-03-31 15:34:30,513 - instantiating class <class 'Transparency.model.modules.Decoder.AttnDecoder'> from params {'attention': {'type': 'tanh'}, 'output_size': 1, 'hidden_size': 128} and extras {}\n",
      "INFO - 2019-03-31 15:34:30,513 - hidden_size = 128\n",
      "INFO - 2019-03-31 15:34:30,513 - output_size = 1\n",
      "INFO - 2019-03-31 15:34:30,514 - use_attention = True\n",
      "INFO - 2019-03-31 15:34:30,514 - regularizer_attention = None\n",
      "INFO - 2019-03-31 15:34:30,514 - instantiating class <class 'Transparency.model.modules.Attention.Attention'> from params <allennlp.common.params.Params object at 0x7f66ed241780> and extras {}\n",
      "INFO - 2019-03-31 15:34:30,514 - attention.type = tanh\n",
      "INFO - 2019-03-31 15:34:30,515 - type = tanh\n",
      "INFO - 2019-03-31 15:34:30,515 - instantiating class <class 'Transparency.model.modules.Attention.TanhAttention'> from params <allennlp.common.params.Params object at 0x7f66ed241780> and extras {}\n",
      "INFO - 2019-03-31 15:34:30,515 - attention.hidden_size = 128\n",
      "INFO - 2019-03-31 15:34:30,515 - hidden_size = 128\n"
     ]
    },
    {
     "data": {
      "application/vnd.jupyter.widget-view+json": {
       "model_id": "e5e2084eb81b47aeb00188ab1ebde319",
       "version_major": 2,
       "version_minor": 0
      },
      "text/plain": [
       "HBox(children=(IntProgress(value=0, max=51), HTML(value='')))"
      ]
     },
     "metadata": {},
     "output_type": "display_data"
    },
    {
     "name": "stdout",
     "output_type": "stream",
     "text": [
      "\n",
      "{'accuracy': 0.8359133126934984, 'roc_auc': 0.9275150934633692, 'pr_auc': 0.7573748745960949}\n"
     ]
    },
    {
     "data": {
      "text/html": [
       "<div>\n",
       "<style scoped>\n",
       "    .dataframe tbody tr th:only-of-type {\n",
       "        vertical-align: middle;\n",
       "    }\n",
       "\n",
       "    .dataframe tbody tr th {\n",
       "        vertical-align: top;\n",
       "    }\n",
       "\n",
       "    .dataframe thead th {\n",
       "        text-align: right;\n",
       "    }\n",
       "</style>\n",
       "<table border=\"1\" class=\"dataframe\">\n",
       "  <thead>\n",
       "    <tr style=\"text-align: right;\">\n",
       "      <th></th>\n",
       "      <th>0.0</th>\n",
       "      <th>1.0</th>\n",
       "      <th>micro avg</th>\n",
       "      <th>macro avg</th>\n",
       "      <th>weighted avg</th>\n",
       "    </tr>\n",
       "  </thead>\n",
       "  <tbody>\n",
       "    <tr>\n",
       "      <th>f1-score</th>\n",
       "      <td>0.890</td>\n",
       "      <td>0.681</td>\n",
       "      <td>0.836</td>\n",
       "      <td>0.785</td>\n",
       "      <td>0.848</td>\n",
       "    </tr>\n",
       "    <tr>\n",
       "      <th>precision</th>\n",
       "      <td>0.967</td>\n",
       "      <td>0.553</td>\n",
       "      <td>0.836</td>\n",
       "      <td>0.760</td>\n",
       "      <td>0.885</td>\n",
       "    </tr>\n",
       "    <tr>\n",
       "      <th>recall</th>\n",
       "      <td>0.823</td>\n",
       "      <td>0.887</td>\n",
       "      <td>0.836</td>\n",
       "      <td>0.855</td>\n",
       "      <td>0.836</td>\n",
       "    </tr>\n",
       "    <tr>\n",
       "      <th>support</th>\n",
       "      <td>1296.000</td>\n",
       "      <td>319.000</td>\n",
       "      <td>1615.000</td>\n",
       "      <td>1615.000</td>\n",
       "      <td>1615.000</td>\n",
       "    </tr>\n",
       "  </tbody>\n",
       "</table>\n",
       "</div>"
      ],
      "text/plain": [
       "                0.0      1.0  micro avg  macro avg  weighted avg\n",
       "f1-score      0.890    0.681      0.836      0.785         0.848\n",
       "precision     0.967    0.553      0.836      0.760         0.885\n",
       "recall        0.823    0.887      0.836      0.855         0.836\n",
       "support    1296.000  319.000   1615.000   1615.000      1615.000"
      ]
     },
     "metadata": {},
     "output_type": "display_data"
    },
    {
     "data": {
      "application/vnd.jupyter.widget-view+json": {
       "model_id": "80159aa78f384e6c90207022c917bb61",
       "version_major": 2,
       "version_minor": 0
      },
      "text/plain": [
       "HBox(children=(IntProgress(value=0, max=51), HTML(value='')))"
      ]
     },
     "metadata": {},
     "output_type": "display_data"
    },
    {
     "name": "stdout",
     "output_type": "stream",
     "text": [
      "\n"
     ]
    },
    {
     "data": {
      "application/vnd.jupyter.widget-view+json": {
       "model_id": "0072f0ec00064b97bd09ffc2b119b123",
       "version_major": 2,
       "version_minor": 0
      },
      "text/plain": [
       "HBox(children=(IntProgress(value=0, max=51), HTML(value='')))"
      ]
     },
     "metadata": {},
     "output_type": "display_data"
    },
    {
     "name": "stdout",
     "output_type": "stream",
     "text": [
      "\n"
     ]
    },
    {
     "data": {
      "application/vnd.jupyter.widget-view+json": {
       "model_id": "cf9bb06a75af47d48c7f0955cad5ab9e",
       "version_major": 2,
       "version_minor": 0
      },
      "text/plain": [
       "HBox(children=(IntProgress(value=0, max=51), HTML(value='')))"
      ]
     },
     "metadata": {},
     "output_type": "display_data"
    },
    {
     "name": "stdout",
     "output_type": "stream",
     "text": [
      "\n"
     ]
    },
    {
     "data": {
      "application/vnd.jupyter.widget-view+json": {
       "model_id": "62f197d826a74a25b872c7b4ee74535e",
       "version_major": 2,
       "version_minor": 0
      },
      "text/plain": [
       "HBox(children=(IntProgress(value=0, max=51), HTML(value='')))"
      ]
     },
     "metadata": {},
     "output_type": "display_data"
    },
    {
     "name": "stdout",
     "output_type": "stream",
     "text": [
      "\n"
     ]
    },
    {
     "name": "stderr",
     "output_type": "stream",
     "text": [
      "INFO - 2019-03-31 15:58:08,063 - instantiating class <class 'Transparency.model.modules.Encoder.Encoder'> from params {'vocab_size': 22316, 'embed_size': 200, 'type': 'rnn', 'hidden_size': 128, 'pre_embed': None} and extras {}\n",
      "INFO - 2019-03-31 15:58:08,063 - type = rnn\n",
      "INFO - 2019-03-31 15:58:08,064 - instantiating class <class 'Transparency.model.modules.Encoder.EncoderRNN'> from params {'vocab_size': 22316, 'embed_size': 200, 'hidden_size': 128, 'pre_embed': None} and extras {}\n",
      "INFO - 2019-03-31 15:58:08,064 - vocab_size = 22316\n",
      "INFO - 2019-03-31 15:58:08,064 - embed_size = 200\n",
      "INFO - 2019-03-31 15:58:08,064 - hidden_size = 128\n",
      "INFO - 2019-03-31 15:58:08,065 - pre_embed = None\n",
      "INFO - 2019-03-31 15:58:08,093 - instantiating class <class 'Transparency.model.modules.Decoder.AttnDecoder'> from params {'attention': {'type': 'tanh'}, 'output_size': 1, 'hidden_size': 256} and extras {}\n",
      "INFO - 2019-03-31 15:58:08,093 - hidden_size = 256\n",
      "INFO - 2019-03-31 15:58:08,093 - output_size = 1\n",
      "INFO - 2019-03-31 15:58:08,093 - use_attention = True\n",
      "INFO - 2019-03-31 15:58:08,094 - regularizer_attention = None\n",
      "INFO - 2019-03-31 15:58:08,095 - instantiating class <class 'Transparency.model.modules.Attention.Attention'> from params <allennlp.common.params.Params object at 0x7f66edabe4a8> and extras {}\n",
      "INFO - 2019-03-31 15:58:08,095 - attention.type = tanh\n",
      "INFO - 2019-03-31 15:58:08,095 - type = tanh\n",
      "INFO - 2019-03-31 15:58:08,095 - instantiating class <class 'Transparency.model.modules.Attention.TanhAttention'> from params <allennlp.common.params.Params object at 0x7f66edabe4a8> and extras {}\n",
      "INFO - 2019-03-31 15:58:08,096 - attention.hidden_size = 256\n",
      "INFO - 2019-03-31 15:58:08,096 - hidden_size = 256\n"
     ]
    },
    {
     "data": {
      "application/vnd.jupyter.widget-view+json": {
       "model_id": "add3d4da13ab492c997f7567b4639388",
       "version_major": 2,
       "version_minor": 0
      },
      "text/plain": [
       "HBox(children=(IntProgress(value=0, max=51), HTML(value='')))"
      ]
     },
     "metadata": {},
     "output_type": "display_data"
    },
    {
     "name": "stdout",
     "output_type": "stream",
     "text": [
      "\n",
      "{'accuracy': 0.8860681114551083, 'roc_auc': 0.9372581175742095, 'pr_auc': 0.8173441435454827}\n"
     ]
    },
    {
     "data": {
      "text/html": [
       "<div>\n",
       "<style scoped>\n",
       "    .dataframe tbody tr th:only-of-type {\n",
       "        vertical-align: middle;\n",
       "    }\n",
       "\n",
       "    .dataframe tbody tr th {\n",
       "        vertical-align: top;\n",
       "    }\n",
       "\n",
       "    .dataframe thead th {\n",
       "        text-align: right;\n",
       "    }\n",
       "</style>\n",
       "<table border=\"1\" class=\"dataframe\">\n",
       "  <thead>\n",
       "    <tr style=\"text-align: right;\">\n",
       "      <th></th>\n",
       "      <th>0.0</th>\n",
       "      <th>1.0</th>\n",
       "      <th>micro avg</th>\n",
       "      <th>macro avg</th>\n",
       "      <th>weighted avg</th>\n",
       "    </tr>\n",
       "  </thead>\n",
       "  <tbody>\n",
       "    <tr>\n",
       "      <th>f1-score</th>\n",
       "      <td>0.925</td>\n",
       "      <td>0.759</td>\n",
       "      <td>0.886</td>\n",
       "      <td>0.842</td>\n",
       "      <td>0.893</td>\n",
       "    </tr>\n",
       "    <tr>\n",
       "      <th>precision</th>\n",
       "      <td>0.975</td>\n",
       "      <td>0.652</td>\n",
       "      <td>0.886</td>\n",
       "      <td>0.813</td>\n",
       "      <td>0.911</td>\n",
       "    </tr>\n",
       "    <tr>\n",
       "      <th>recall</th>\n",
       "      <td>0.880</td>\n",
       "      <td>0.909</td>\n",
       "      <td>0.886</td>\n",
       "      <td>0.895</td>\n",
       "      <td>0.886</td>\n",
       "    </tr>\n",
       "    <tr>\n",
       "      <th>support</th>\n",
       "      <td>1296.000</td>\n",
       "      <td>319.000</td>\n",
       "      <td>1615.000</td>\n",
       "      <td>1615.000</td>\n",
       "      <td>1615.000</td>\n",
       "    </tr>\n",
       "  </tbody>\n",
       "</table>\n",
       "</div>"
      ],
      "text/plain": [
       "                0.0      1.0  micro avg  macro avg  weighted avg\n",
       "f1-score      0.925    0.759      0.886      0.842         0.893\n",
       "precision     0.975    0.652      0.886      0.813         0.911\n",
       "recall        0.880    0.909      0.886      0.895         0.886\n",
       "support    1296.000  319.000   1615.000   1615.000      1615.000"
      ]
     },
     "metadata": {},
     "output_type": "display_data"
    },
    {
     "data": {
      "application/vnd.jupyter.widget-view+json": {
       "model_id": "9d9e2c7b10db472fae7f3c92c246c5f7",
       "version_major": 2,
       "version_minor": 0
      },
      "text/plain": [
       "HBox(children=(IntProgress(value=0, max=51), HTML(value='')))"
      ]
     },
     "metadata": {},
     "output_type": "display_data"
    },
    {
     "name": "stdout",
     "output_type": "stream",
     "text": [
      "\n"
     ]
    },
    {
     "data": {
      "application/vnd.jupyter.widget-view+json": {
       "model_id": "68fd92d744eb45059754f4b5e82f6356",
       "version_major": 2,
       "version_minor": 0
      },
      "text/plain": [
       "HBox(children=(IntProgress(value=0, max=51), HTML(value='')))"
      ]
     },
     "metadata": {},
     "output_type": "display_data"
    },
    {
     "name": "stdout",
     "output_type": "stream",
     "text": [
      "\n"
     ]
    },
    {
     "data": {
      "application/vnd.jupyter.widget-view+json": {
       "model_id": "0d02a0ba203849369227559c64b07213",
       "version_major": 2,
       "version_minor": 0
      },
      "text/plain": [
       "HBox(children=(IntProgress(value=0, max=51), HTML(value='')))"
      ]
     },
     "metadata": {},
     "output_type": "display_data"
    },
    {
     "name": "stdout",
     "output_type": "stream",
     "text": [
      "\n"
     ]
    },
    {
     "data": {
      "application/vnd.jupyter.widget-view+json": {
       "model_id": "6d72635c094f4f5d86bd993e83db3df8",
       "version_major": 2,
       "version_minor": 0
      },
      "text/plain": [
       "HBox(children=(IntProgress(value=0, max=51), HTML(value='')))"
      ]
     },
     "metadata": {},
     "output_type": "display_data"
    },
    {
     "name": "stdout",
     "output_type": "stream",
     "text": [
      "\n"
     ]
    }
   ],
   "source": [
    "for dataset in ['Diabetes'] :\n",
    "    %run train_and_run_experiments_bc.py --dataset {dataset} --data_dir='.' --output_dir='outputs/' --attention=tanh"
   ]
  },
  {
   "cell_type": "code",
   "execution_count": 2,
   "metadata": {},
   "outputs": [
    {
     "name": "stderr",
     "output_type": "stream",
     "text": [
      "/media/data/sarthak/anaconda3/lib/python3.7/site-packages/sklearn/base.py:251: UserWarning: Trying to unpickle estimator CountVectorizer from version 0.20.0 when using version 0.20.1. This might lead to breaking code or invalid results. Use at your own risk.\n",
      "  UserWarning)\n",
      "INFO - 2019-03-31 18:26:04,067 - instantiating class <class 'Transparency.model.modules.Encoder.Encoder'> from params {'vocab_size': 22316, 'embed_size': 200, 'kernel_sizes': (1, 3, 5, 7), 'hidden_size': 64, 'activation': 'relu', 'type': 'cnn', 'pre_embed': array([[ 0.        ,  0.        ,  0.        , ...,  0.        ,\n",
      "         0.        ,  0.        ],\n",
      "       [ 0.60795819,  0.75690186, -0.45841884, ...,  0.32715918,\n",
      "         1.05838462, -1.00027972],\n",
      "       [ 0.32040939, -0.98453535, -1.66852078, ..., -0.12068232,\n",
      "         2.20697478, -1.14211235],\n",
      "       ...,\n",
      "       [ 1.16788733, -0.92413783,  1.75671399, ...,  0.00975742,\n",
      "        -0.28707436, -0.2458024 ],\n",
      "       [ 0.0009315 , -0.98411071, -1.11939907, ..., -6.90321016,\n",
      "         3.93742228, -1.51261103],\n",
      "       [-0.72030318, -0.14090668, -2.27291822, ..., -1.9552381 ,\n",
      "         0.7607277 , -1.39611304]])} and extras {}\n",
      "INFO - 2019-03-31 18:26:04,067 - type = cnn\n",
      "INFO - 2019-03-31 18:26:04,068 - instantiating class <class 'Transparency.model.modules.Encoder.EncoderCNN'> from params {'vocab_size': 22316, 'embed_size': 200, 'kernel_sizes': (1, 3, 5, 7), 'hidden_size': 64, 'activation': 'relu', 'pre_embed': array([[ 0.        ,  0.        ,  0.        , ...,  0.        ,\n",
      "         0.        ,  0.        ],\n",
      "       [ 0.60795819,  0.75690186, -0.45841884, ...,  0.32715918,\n",
      "         1.05838462, -1.00027972],\n",
      "       [ 0.32040939, -0.98453535, -1.66852078, ..., -0.12068232,\n",
      "         2.20697478, -1.14211235],\n",
      "       ...,\n",
      "       [ 1.16788733, -0.92413783,  1.75671399, ...,  0.00975742,\n",
      "        -0.28707436, -0.2458024 ],\n",
      "       [ 0.0009315 , -0.98411071, -1.11939907, ..., -6.90321016,\n",
      "         3.93742228, -1.51261103],\n",
      "       [-0.72030318, -0.14090668, -2.27291822, ..., -1.9552381 ,\n",
      "         0.7607277 , -1.39611304]])} and extras {}\n",
      "INFO - 2019-03-31 18:26:04,068 - vocab_size = 22316\n",
      "INFO - 2019-03-31 18:26:04,068 - embed_size = 200\n",
      "INFO - 2019-03-31 18:26:04,069 - hidden_size = 64\n",
      "INFO - 2019-03-31 18:26:04,069 - kernel_sizes = (1, 3, 5, 7)\n",
      "INFO - 2019-03-31 18:26:04,069 - activation = relu\n",
      "INFO - 2019-03-31 18:26:04,070 - pre_embed = [[ 0.          0.          0.         ...  0.          0.\n",
      "   0.        ]\n",
      " [ 0.60795819  0.75690186 -0.45841884 ...  0.32715918  1.05838462\n",
      "  -1.00027972]\n",
      " [ 0.32040939 -0.98453535 -1.66852078 ... -0.12068232  2.20697478\n",
      "  -1.14211235]\n",
      " ...\n",
      " [ 1.16788733 -0.92413783  1.75671399 ...  0.00975742 -0.28707436\n",
      "  -0.2458024 ]\n",
      " [ 0.0009315  -0.98411071 -1.11939907 ... -6.90321016  3.93742228\n",
      "  -1.51261103]\n",
      " [-0.72030318 -0.14090668 -2.27291822 ... -1.9552381   0.7607277\n",
      "  -1.39611304]]\n",
      "INFO - 2019-03-31 18:26:04,080 - instantiating class <class 'Transparency.model.modules.Decoder.AttnDecoder'> from params {'attention': {'type': 'dot'}, 'output_size': 1, 'hidden_size': 256} and extras {}\n",
      "INFO - 2019-03-31 18:26:04,080 - hidden_size = 256\n",
      "INFO - 2019-03-31 18:26:04,080 - output_size = 1\n",
      "INFO - 2019-03-31 18:26:04,081 - use_attention = True\n",
      "INFO - 2019-03-31 18:26:04,081 - regularizer_attention = None\n",
      "INFO - 2019-03-31 18:26:04,081 - instantiating class <class 'Transparency.model.modules.Attention.Attention'> from params <allennlp.common.params.Params object at 0x7f66eccc2160> and extras {}\n",
      "INFO - 2019-03-31 18:26:04,082 - attention.type = dot\n",
      "INFO - 2019-03-31 18:26:04,082 - type = dot\n",
      "INFO - 2019-03-31 18:26:04,082 - instantiating class <class 'Transparency.model.modules.Attention.DotAttention'> from params <allennlp.common.params.Params object at 0x7f66eccc2160> and extras {}\n",
      "INFO - 2019-03-31 18:26:04,083 - attention.hidden_size = 256\n",
      "INFO - 2019-03-31 18:26:04,083 - hidden_size = 256\n"
     ]
    },
    {
     "name": "stdout",
     "output_type": "stream",
     "text": [
      "Setting Embedding\n"
     ]
    },
    {
     "data": {
      "application/vnd.jupyter.widget-view+json": {
       "model_id": "46c4f60981b642218f5701e53826b073",
       "version_major": 2,
       "version_minor": 0
      },
      "text/plain": [
       "HBox(children=(IntProgress(value=0, max=8), HTML(value='')))"
      ]
     },
     "metadata": {},
     "output_type": "display_data"
    },
    {
     "data": {
      "application/vnd.jupyter.widget-view+json": {
       "model_id": "ba34b4d2130a4fbb9f9fcae9d8440b53",
       "version_major": 2,
       "version_minor": 0
      },
      "text/plain": [
       "HBox(children=(IntProgress(value=0, max=242), HTML(value='')))"
      ]
     },
     "metadata": {},
     "output_type": "display_data"
    },
    {
     "data": {
      "application/vnd.jupyter.widget-view+json": {
       "model_id": "f9f8aafa8ddf4271b2d9913680a7aeac",
       "version_major": 2,
       "version_minor": 0
      },
      "text/plain": [
       "HBox(children=(IntProgress(value=0, max=51), HTML(value='')))"
      ]
     },
     "metadata": {},
     "output_type": "display_data"
    },
    {
     "name": "stdout",
     "output_type": "stream",
     "text": [
      "{'accuracy': 0.848297213622291, 'roc_auc': 0.8862596269205464, 'pr_auc': 0.6515936479127084}\n"
     ]
    },
    {
     "data": {
      "text/html": [
       "<div>\n",
       "<style scoped>\n",
       "    .dataframe tbody tr th:only-of-type {\n",
       "        vertical-align: middle;\n",
       "    }\n",
       "\n",
       "    .dataframe tbody tr th {\n",
       "        vertical-align: top;\n",
       "    }\n",
       "\n",
       "    .dataframe thead th {\n",
       "        text-align: right;\n",
       "    }\n",
       "</style>\n",
       "<table border=\"1\" class=\"dataframe\">\n",
       "  <thead>\n",
       "    <tr style=\"text-align: right;\">\n",
       "      <th></th>\n",
       "      <th>0.0</th>\n",
       "      <th>1.0</th>\n",
       "      <th>micro avg</th>\n",
       "      <th>macro avg</th>\n",
       "      <th>weighted avg</th>\n",
       "    </tr>\n",
       "  </thead>\n",
       "  <tbody>\n",
       "    <tr>\n",
       "      <th>f1-score</th>\n",
       "      <td>0.903</td>\n",
       "      <td>0.655</td>\n",
       "      <td>0.848</td>\n",
       "      <td>0.779</td>\n",
       "      <td>0.854</td>\n",
       "    </tr>\n",
       "    <tr>\n",
       "      <th>precision</th>\n",
       "      <td>0.930</td>\n",
       "      <td>0.594</td>\n",
       "      <td>0.848</td>\n",
       "      <td>0.762</td>\n",
       "      <td>0.863</td>\n",
       "    </tr>\n",
       "    <tr>\n",
       "      <th>recall</th>\n",
       "      <td>0.877</td>\n",
       "      <td>0.730</td>\n",
       "      <td>0.848</td>\n",
       "      <td>0.804</td>\n",
       "      <td>0.848</td>\n",
       "    </tr>\n",
       "    <tr>\n",
       "      <th>support</th>\n",
       "      <td>1296.000</td>\n",
       "      <td>319.000</td>\n",
       "      <td>1615.000</td>\n",
       "      <td>1615.000</td>\n",
       "      <td>1615.000</td>\n",
       "    </tr>\n",
       "  </tbody>\n",
       "</table>\n",
       "</div>"
      ],
      "text/plain": [
       "                0.0      1.0  micro avg  macro avg  weighted avg\n",
       "f1-score      0.903    0.655      0.848      0.779         0.854\n",
       "precision     0.930    0.594      0.848      0.762         0.863\n",
       "recall        0.877    0.730      0.848      0.804         0.848\n",
       "support    1296.000  319.000   1615.000   1615.000      1615.000"
      ]
     },
     "metadata": {},
     "output_type": "display_data"
    },
    {
     "name": "stdout",
     "output_type": "stream",
     "text": [
      "Model not saved on  roc_auc 0.8862596269205464\n"
     ]
    },
    {
     "data": {
      "application/vnd.jupyter.widget-view+json": {
       "model_id": "524ae74403c848c5839cb4b5fd9b07a4",
       "version_major": 2,
       "version_minor": 0
      },
      "text/plain": [
       "HBox(children=(IntProgress(value=0, max=242), HTML(value='')))"
      ]
     },
     "metadata": {},
     "output_type": "display_data"
    },
    {
     "data": {
      "application/vnd.jupyter.widget-view+json": {
       "model_id": "24e50caadbb841f3bd7c583f7581583f",
       "version_major": 2,
       "version_minor": 0
      },
      "text/plain": [
       "HBox(children=(IntProgress(value=0, max=51), HTML(value='')))"
      ]
     },
     "metadata": {},
     "output_type": "display_data"
    },
    {
     "name": "stdout",
     "output_type": "stream",
     "text": [
      "{'accuracy': 0.8736842105263158, 'roc_auc': 0.9168529161345252, 'pr_auc': 0.7267648911272476}\n"
     ]
    },
    {
     "data": {
      "text/html": [
       "<div>\n",
       "<style scoped>\n",
       "    .dataframe tbody tr th:only-of-type {\n",
       "        vertical-align: middle;\n",
       "    }\n",
       "\n",
       "    .dataframe tbody tr th {\n",
       "        vertical-align: top;\n",
       "    }\n",
       "\n",
       "    .dataframe thead th {\n",
       "        text-align: right;\n",
       "    }\n",
       "</style>\n",
       "<table border=\"1\" class=\"dataframe\">\n",
       "  <thead>\n",
       "    <tr style=\"text-align: right;\">\n",
       "      <th></th>\n",
       "      <th>0.0</th>\n",
       "      <th>1.0</th>\n",
       "      <th>micro avg</th>\n",
       "      <th>macro avg</th>\n",
       "      <th>weighted avg</th>\n",
       "    </tr>\n",
       "  </thead>\n",
       "  <tbody>\n",
       "    <tr>\n",
       "      <th>f1-score</th>\n",
       "      <td>0.919</td>\n",
       "      <td>0.717</td>\n",
       "      <td>0.874</td>\n",
       "      <td>0.818</td>\n",
       "      <td>0.879</td>\n",
       "    </tr>\n",
       "    <tr>\n",
       "      <th>precision</th>\n",
       "      <td>0.950</td>\n",
       "      <td>0.643</td>\n",
       "      <td>0.874</td>\n",
       "      <td>0.797</td>\n",
       "      <td>0.889</td>\n",
       "    </tr>\n",
       "    <tr>\n",
       "      <th>recall</th>\n",
       "      <td>0.890</td>\n",
       "      <td>0.809</td>\n",
       "      <td>0.874</td>\n",
       "      <td>0.849</td>\n",
       "      <td>0.874</td>\n",
       "    </tr>\n",
       "    <tr>\n",
       "      <th>support</th>\n",
       "      <td>1296.000</td>\n",
       "      <td>319.000</td>\n",
       "      <td>1615.000</td>\n",
       "      <td>1615.000</td>\n",
       "      <td>1615.000</td>\n",
       "    </tr>\n",
       "  </tbody>\n",
       "</table>\n",
       "</div>"
      ],
      "text/plain": [
       "                0.0      1.0  micro avg  macro avg  weighted avg\n",
       "f1-score      0.919    0.717      0.874      0.818         0.879\n",
       "precision     0.950    0.643      0.874      0.797         0.889\n",
       "recall        0.890    0.809      0.874      0.849         0.874\n",
       "support    1296.000  319.000   1615.000   1615.000      1615.000"
      ]
     },
     "metadata": {},
     "output_type": "display_data"
    },
    {
     "name": "stdout",
     "output_type": "stream",
     "text": [
      "Model Saved on  roc_auc 0.9168529161345252\n"
     ]
    },
    {
     "data": {
      "application/vnd.jupyter.widget-view+json": {
       "model_id": "38d25b5c365449e1b1b44995cf9fc7af",
       "version_major": 2,
       "version_minor": 0
      },
      "text/plain": [
       "HBox(children=(IntProgress(value=0, max=242), HTML(value='')))"
      ]
     },
     "metadata": {},
     "output_type": "display_data"
    },
    {
     "data": {
      "application/vnd.jupyter.widget-view+json": {
       "model_id": "057ea22131d0439ea4cff5577fcb1d09",
       "version_major": 2,
       "version_minor": 0
      },
      "text/plain": [
       "HBox(children=(IntProgress(value=0, max=51), HTML(value='')))"
      ]
     },
     "metadata": {},
     "output_type": "display_data"
    },
    {
     "name": "stdout",
     "output_type": "stream",
     "text": [
      "{'accuracy': 0.8736842105263158, 'roc_auc': 0.9319028406672086, 'pr_auc': 0.7866085195037309}\n"
     ]
    },
    {
     "data": {
      "text/html": [
       "<div>\n",
       "<style scoped>\n",
       "    .dataframe tbody tr th:only-of-type {\n",
       "        vertical-align: middle;\n",
       "    }\n",
       "\n",
       "    .dataframe tbody tr th {\n",
       "        vertical-align: top;\n",
       "    }\n",
       "\n",
       "    .dataframe thead th {\n",
       "        text-align: right;\n",
       "    }\n",
       "</style>\n",
       "<table border=\"1\" class=\"dataframe\">\n",
       "  <thead>\n",
       "    <tr style=\"text-align: right;\">\n",
       "      <th></th>\n",
       "      <th>0.0</th>\n",
       "      <th>1.0</th>\n",
       "      <th>micro avg</th>\n",
       "      <th>macro avg</th>\n",
       "      <th>weighted avg</th>\n",
       "    </tr>\n",
       "  </thead>\n",
       "  <tbody>\n",
       "    <tr>\n",
       "      <th>f1-score</th>\n",
       "      <td>0.917</td>\n",
       "      <td>0.733</td>\n",
       "      <td>0.874</td>\n",
       "      <td>0.825</td>\n",
       "      <td>0.881</td>\n",
       "    </tr>\n",
       "    <tr>\n",
       "      <th>precision</th>\n",
       "      <td>0.967</td>\n",
       "      <td>0.629</td>\n",
       "      <td>0.874</td>\n",
       "      <td>0.798</td>\n",
       "      <td>0.900</td>\n",
       "    </tr>\n",
       "    <tr>\n",
       "      <th>recall</th>\n",
       "      <td>0.873</td>\n",
       "      <td>0.878</td>\n",
       "      <td>0.874</td>\n",
       "      <td>0.875</td>\n",
       "      <td>0.874</td>\n",
       "    </tr>\n",
       "    <tr>\n",
       "      <th>support</th>\n",
       "      <td>1296.000</td>\n",
       "      <td>319.000</td>\n",
       "      <td>1615.000</td>\n",
       "      <td>1615.000</td>\n",
       "      <td>1615.000</td>\n",
       "    </tr>\n",
       "  </tbody>\n",
       "</table>\n",
       "</div>"
      ],
      "text/plain": [
       "                0.0      1.0  micro avg  macro avg  weighted avg\n",
       "f1-score      0.917    0.733      0.874      0.825         0.881\n",
       "precision     0.967    0.629      0.874      0.798         0.900\n",
       "recall        0.873    0.878      0.874      0.875         0.874\n",
       "support    1296.000  319.000   1615.000   1615.000      1615.000"
      ]
     },
     "metadata": {},
     "output_type": "display_data"
    },
    {
     "name": "stdout",
     "output_type": "stream",
     "text": [
      "Model Saved on  roc_auc 0.9319028406672086\n"
     ]
    },
    {
     "data": {
      "application/vnd.jupyter.widget-view+json": {
       "model_id": "7a187b98e4124c95a0af4efefb97b3f6",
       "version_major": 2,
       "version_minor": 0
      },
      "text/plain": [
       "HBox(children=(IntProgress(value=0, max=242), HTML(value='')))"
      ]
     },
     "metadata": {},
     "output_type": "display_data"
    },
    {
     "data": {
      "application/vnd.jupyter.widget-view+json": {
       "model_id": "ee1c6b5ffc034f7bb960804156357816",
       "version_major": 2,
       "version_minor": 0
      },
      "text/plain": [
       "HBox(children=(IntProgress(value=0, max=51), HTML(value='')))"
      ]
     },
     "metadata": {},
     "output_type": "display_data"
    },
    {
     "name": "stdout",
     "output_type": "stream",
     "text": [
      "{'accuracy': 0.8854489164086687, 'roc_auc': 0.9320576454197145, 'pr_auc': 0.7983649163996849}\n"
     ]
    },
    {
     "data": {
      "text/html": [
       "<div>\n",
       "<style scoped>\n",
       "    .dataframe tbody tr th:only-of-type {\n",
       "        vertical-align: middle;\n",
       "    }\n",
       "\n",
       "    .dataframe tbody tr th {\n",
       "        vertical-align: top;\n",
       "    }\n",
       "\n",
       "    .dataframe thead th {\n",
       "        text-align: right;\n",
       "    }\n",
       "</style>\n",
       "<table border=\"1\" class=\"dataframe\">\n",
       "  <thead>\n",
       "    <tr style=\"text-align: right;\">\n",
       "      <th></th>\n",
       "      <th>0.0</th>\n",
       "      <th>1.0</th>\n",
       "      <th>micro avg</th>\n",
       "      <th>macro avg</th>\n",
       "      <th>weighted avg</th>\n",
       "    </tr>\n",
       "  </thead>\n",
       "  <tbody>\n",
       "    <tr>\n",
       "      <th>f1-score</th>\n",
       "      <td>0.925</td>\n",
       "      <td>0.752</td>\n",
       "      <td>0.885</td>\n",
       "      <td>0.839</td>\n",
       "      <td>0.891</td>\n",
       "    </tr>\n",
       "    <tr>\n",
       "      <th>precision</th>\n",
       "      <td>0.968</td>\n",
       "      <td>0.657</td>\n",
       "      <td>0.885</td>\n",
       "      <td>0.812</td>\n",
       "      <td>0.906</td>\n",
       "    </tr>\n",
       "    <tr>\n",
       "      <th>recall</th>\n",
       "      <td>0.887</td>\n",
       "      <td>0.881</td>\n",
       "      <td>0.885</td>\n",
       "      <td>0.884</td>\n",
       "      <td>0.885</td>\n",
       "    </tr>\n",
       "    <tr>\n",
       "      <th>support</th>\n",
       "      <td>1296.000</td>\n",
       "      <td>319.000</td>\n",
       "      <td>1615.000</td>\n",
       "      <td>1615.000</td>\n",
       "      <td>1615.000</td>\n",
       "    </tr>\n",
       "  </tbody>\n",
       "</table>\n",
       "</div>"
      ],
      "text/plain": [
       "                0.0      1.0  micro avg  macro avg  weighted avg\n",
       "f1-score      0.925    0.752      0.885      0.839         0.891\n",
       "precision     0.968    0.657      0.885      0.812         0.906\n",
       "recall        0.887    0.881      0.885      0.884         0.885\n",
       "support    1296.000  319.000   1615.000   1615.000      1615.000"
      ]
     },
     "metadata": {},
     "output_type": "display_data"
    },
    {
     "name": "stdout",
     "output_type": "stream",
     "text": [
      "Model Saved on  roc_auc 0.9320576454197145\n"
     ]
    },
    {
     "data": {
      "application/vnd.jupyter.widget-view+json": {
       "model_id": "cbcfea92288743a0a494c52b4c3ca493",
       "version_major": 2,
       "version_minor": 0
      },
      "text/plain": [
       "HBox(children=(IntProgress(value=0, max=242), HTML(value='')))"
      ]
     },
     "metadata": {},
     "output_type": "display_data"
    },
    {
     "data": {
      "application/vnd.jupyter.widget-view+json": {
       "model_id": "0fe7f6f21c864d44b0df7483663a9913",
       "version_major": 2,
       "version_minor": 0
      },
      "text/plain": [
       "HBox(children=(IntProgress(value=0, max=51), HTML(value='')))"
      ]
     },
     "metadata": {},
     "output_type": "display_data"
    },
    {
     "name": "stdout",
     "output_type": "stream",
     "text": [
      "{'accuracy': 0.8470588235294118, 'roc_auc': 0.9276892488099385, 'pr_auc': 0.756051414553093}\n"
     ]
    },
    {
     "data": {
      "text/html": [
       "<div>\n",
       "<style scoped>\n",
       "    .dataframe tbody tr th:only-of-type {\n",
       "        vertical-align: middle;\n",
       "    }\n",
       "\n",
       "    .dataframe tbody tr th {\n",
       "        vertical-align: top;\n",
       "    }\n",
       "\n",
       "    .dataframe thead th {\n",
       "        text-align: right;\n",
       "    }\n",
       "</style>\n",
       "<table border=\"1\" class=\"dataframe\">\n",
       "  <thead>\n",
       "    <tr style=\"text-align: right;\">\n",
       "      <th></th>\n",
       "      <th>0.0</th>\n",
       "      <th>1.0</th>\n",
       "      <th>micro avg</th>\n",
       "      <th>macro avg</th>\n",
       "      <th>weighted avg</th>\n",
       "    </tr>\n",
       "  </thead>\n",
       "  <tbody>\n",
       "    <tr>\n",
       "      <th>f1-score</th>\n",
       "      <td>0.897</td>\n",
       "      <td>0.701</td>\n",
       "      <td>0.847</td>\n",
       "      <td>0.799</td>\n",
       "      <td>0.858</td>\n",
       "    </tr>\n",
       "    <tr>\n",
       "      <th>precision</th>\n",
       "      <td>0.973</td>\n",
       "      <td>0.571</td>\n",
       "      <td>0.847</td>\n",
       "      <td>0.772</td>\n",
       "      <td>0.894</td>\n",
       "    </tr>\n",
       "    <tr>\n",
       "      <th>recall</th>\n",
       "      <td>0.833</td>\n",
       "      <td>0.906</td>\n",
       "      <td>0.847</td>\n",
       "      <td>0.869</td>\n",
       "      <td>0.847</td>\n",
       "    </tr>\n",
       "    <tr>\n",
       "      <th>support</th>\n",
       "      <td>1296.000</td>\n",
       "      <td>319.000</td>\n",
       "      <td>1615.000</td>\n",
       "      <td>1615.000</td>\n",
       "      <td>1615.000</td>\n",
       "    </tr>\n",
       "  </tbody>\n",
       "</table>\n",
       "</div>"
      ],
      "text/plain": [
       "                0.0      1.0  micro avg  macro avg  weighted avg\n",
       "f1-score      0.897    0.701      0.847      0.799         0.858\n",
       "precision     0.973    0.571      0.847      0.772         0.894\n",
       "recall        0.833    0.906      0.847      0.869         0.847\n",
       "support    1296.000  319.000   1615.000   1615.000      1615.000"
      ]
     },
     "metadata": {},
     "output_type": "display_data"
    },
    {
     "name": "stdout",
     "output_type": "stream",
     "text": [
      "Model not saved on  roc_auc 0.9276892488099385\n"
     ]
    },
    {
     "data": {
      "application/vnd.jupyter.widget-view+json": {
       "model_id": "ff15c0fd2ab14b66813e61e2294f2d63",
       "version_major": 2,
       "version_minor": 0
      },
      "text/plain": [
       "HBox(children=(IntProgress(value=0, max=242), HTML(value='')))"
      ]
     },
     "metadata": {},
     "output_type": "display_data"
    },
    {
     "data": {
      "application/vnd.jupyter.widget-view+json": {
       "model_id": "eacd48a53d414bf293f5e023acb55358",
       "version_major": 2,
       "version_minor": 0
      },
      "text/plain": [
       "HBox(children=(IntProgress(value=0, max=51), HTML(value='')))"
      ]
     },
     "metadata": {},
     "output_type": "display_data"
    },
    {
     "name": "stdout",
     "output_type": "stream",
     "text": [
      "{'accuracy': 0.8885448916408669, 'roc_auc': 0.9268716862107667, 'pr_auc': 0.746364450895951}\n"
     ]
    },
    {
     "data": {
      "text/html": [
       "<div>\n",
       "<style scoped>\n",
       "    .dataframe tbody tr th:only-of-type {\n",
       "        vertical-align: middle;\n",
       "    }\n",
       "\n",
       "    .dataframe tbody tr th {\n",
       "        vertical-align: top;\n",
       "    }\n",
       "\n",
       "    .dataframe thead th {\n",
       "        text-align: right;\n",
       "    }\n",
       "</style>\n",
       "<table border=\"1\" class=\"dataframe\">\n",
       "  <thead>\n",
       "    <tr style=\"text-align: right;\">\n",
       "      <th></th>\n",
       "      <th>0.0</th>\n",
       "      <th>1.0</th>\n",
       "      <th>micro avg</th>\n",
       "      <th>macro avg</th>\n",
       "      <th>weighted avg</th>\n",
       "    </tr>\n",
       "  </thead>\n",
       "  <tbody>\n",
       "    <tr>\n",
       "      <th>f1-score</th>\n",
       "      <td>0.928</td>\n",
       "      <td>0.755</td>\n",
       "      <td>0.889</td>\n",
       "      <td>0.841</td>\n",
       "      <td>0.894</td>\n",
       "    </tr>\n",
       "    <tr>\n",
       "      <th>precision</th>\n",
       "      <td>0.965</td>\n",
       "      <td>0.667</td>\n",
       "      <td>0.889</td>\n",
       "      <td>0.816</td>\n",
       "      <td>0.906</td>\n",
       "    </tr>\n",
       "    <tr>\n",
       "      <th>recall</th>\n",
       "      <td>0.894</td>\n",
       "      <td>0.868</td>\n",
       "      <td>0.889</td>\n",
       "      <td>0.881</td>\n",
       "      <td>0.889</td>\n",
       "    </tr>\n",
       "    <tr>\n",
       "      <th>support</th>\n",
       "      <td>1296.000</td>\n",
       "      <td>319.000</td>\n",
       "      <td>1615.000</td>\n",
       "      <td>1615.000</td>\n",
       "      <td>1615.000</td>\n",
       "    </tr>\n",
       "  </tbody>\n",
       "</table>\n",
       "</div>"
      ],
      "text/plain": [
       "                0.0      1.0  micro avg  macro avg  weighted avg\n",
       "f1-score      0.928    0.755      0.889      0.841         0.894\n",
       "precision     0.965    0.667      0.889      0.816         0.906\n",
       "recall        0.894    0.868      0.889      0.881         0.889\n",
       "support    1296.000  319.000   1615.000   1615.000      1615.000"
      ]
     },
     "metadata": {},
     "output_type": "display_data"
    },
    {
     "name": "stdout",
     "output_type": "stream",
     "text": [
      "Model not saved on  roc_auc 0.9268716862107667\n"
     ]
    },
    {
     "data": {
      "application/vnd.jupyter.widget-view+json": {
       "model_id": "d6c346d81bee4720b0bafb7373db92d4",
       "version_major": 2,
       "version_minor": 0
      },
      "text/plain": [
       "HBox(children=(IntProgress(value=0, max=242), HTML(value='')))"
      ]
     },
     "metadata": {},
     "output_type": "display_data"
    },
    {
     "data": {
      "application/vnd.jupyter.widget-view+json": {
       "model_id": "4e3edd8929ee4131b455f23b02287dcd",
       "version_major": 2,
       "version_minor": 0
      },
      "text/plain": [
       "HBox(children=(IntProgress(value=0, max=51), HTML(value='')))"
      ]
     },
     "metadata": {},
     "output_type": "display_data"
    },
    {
     "name": "stdout",
     "output_type": "stream",
     "text": [
      "{'accuracy': 0.896594427244582, 'roc_auc': 0.9171068926816054, 'pr_auc': 0.7276330418649923}\n"
     ]
    },
    {
     "data": {
      "text/html": [
       "<div>\n",
       "<style scoped>\n",
       "    .dataframe tbody tr th:only-of-type {\n",
       "        vertical-align: middle;\n",
       "    }\n",
       "\n",
       "    .dataframe tbody tr th {\n",
       "        vertical-align: top;\n",
       "    }\n",
       "\n",
       "    .dataframe thead th {\n",
       "        text-align: right;\n",
       "    }\n",
       "</style>\n",
       "<table border=\"1\" class=\"dataframe\">\n",
       "  <thead>\n",
       "    <tr style=\"text-align: right;\">\n",
       "      <th></th>\n",
       "      <th>0.0</th>\n",
       "      <th>1.0</th>\n",
       "      <th>micro avg</th>\n",
       "      <th>macro avg</th>\n",
       "      <th>weighted avg</th>\n",
       "    </tr>\n",
       "  </thead>\n",
       "  <tbody>\n",
       "    <tr>\n",
       "      <th>f1-score</th>\n",
       "      <td>0.934</td>\n",
       "      <td>0.763</td>\n",
       "      <td>0.897</td>\n",
       "      <td>0.848</td>\n",
       "      <td>0.900</td>\n",
       "    </tr>\n",
       "    <tr>\n",
       "      <th>precision</th>\n",
       "      <td>0.959</td>\n",
       "      <td>0.697</td>\n",
       "      <td>0.897</td>\n",
       "      <td>0.828</td>\n",
       "      <td>0.907</td>\n",
       "    </tr>\n",
       "    <tr>\n",
       "      <th>recall</th>\n",
       "      <td>0.910</td>\n",
       "      <td>0.843</td>\n",
       "      <td>0.897</td>\n",
       "      <td>0.876</td>\n",
       "      <td>0.897</td>\n",
       "    </tr>\n",
       "    <tr>\n",
       "      <th>support</th>\n",
       "      <td>1296.000</td>\n",
       "      <td>319.000</td>\n",
       "      <td>1615.000</td>\n",
       "      <td>1615.000</td>\n",
       "      <td>1615.000</td>\n",
       "    </tr>\n",
       "  </tbody>\n",
       "</table>\n",
       "</div>"
      ],
      "text/plain": [
       "                0.0      1.0  micro avg  macro avg  weighted avg\n",
       "f1-score      0.934    0.763      0.897      0.848         0.900\n",
       "precision     0.959    0.697      0.897      0.828         0.907\n",
       "recall        0.910    0.843      0.897      0.876         0.897\n",
       "support    1296.000  319.000   1615.000   1615.000      1615.000"
      ]
     },
     "metadata": {},
     "output_type": "display_data"
    },
    {
     "name": "stdout",
     "output_type": "stream",
     "text": [
      "Model not saved on  roc_auc 0.9171068926816054\n"
     ]
    },
    {
     "data": {
      "application/vnd.jupyter.widget-view+json": {
       "model_id": "16140d83285d4efc89f59adbb591c543",
       "version_major": 2,
       "version_minor": 0
      },
      "text/plain": [
       "HBox(children=(IntProgress(value=0, max=242), HTML(value='')))"
      ]
     },
     "metadata": {},
     "output_type": "display_data"
    },
    {
     "data": {
      "application/vnd.jupyter.widget-view+json": {
       "model_id": "c02437563e324cacaf5a96556804d7c2",
       "version_major": 2,
       "version_minor": 0
      },
      "text/plain": [
       "HBox(children=(IntProgress(value=0, max=51), HTML(value='')))"
      ]
     },
     "metadata": {},
     "output_type": "display_data"
    },
    {
     "name": "stdout",
     "output_type": "stream",
     "text": [
      "{'accuracy': 0.8897832817337461, 'roc_auc': 0.9190274391423817, 'pr_auc': 0.7388766162953634}\n"
     ]
    },
    {
     "data": {
      "text/html": [
       "<div>\n",
       "<style scoped>\n",
       "    .dataframe tbody tr th:only-of-type {\n",
       "        vertical-align: middle;\n",
       "    }\n",
       "\n",
       "    .dataframe tbody tr th {\n",
       "        vertical-align: top;\n",
       "    }\n",
       "\n",
       "    .dataframe thead th {\n",
       "        text-align: right;\n",
       "    }\n",
       "</style>\n",
       "<table border=\"1\" class=\"dataframe\">\n",
       "  <thead>\n",
       "    <tr style=\"text-align: right;\">\n",
       "      <th></th>\n",
       "      <th>0.0</th>\n",
       "      <th>1.0</th>\n",
       "      <th>micro avg</th>\n",
       "      <th>macro avg</th>\n",
       "      <th>weighted avg</th>\n",
       "    </tr>\n",
       "  </thead>\n",
       "  <tbody>\n",
       "    <tr>\n",
       "      <th>f1-score</th>\n",
       "      <td>0.929</td>\n",
       "      <td>0.753</td>\n",
       "      <td>0.89</td>\n",
       "      <td>0.841</td>\n",
       "      <td>0.894</td>\n",
       "    </tr>\n",
       "    <tr>\n",
       "      <th>precision</th>\n",
       "      <td>0.961</td>\n",
       "      <td>0.675</td>\n",
       "      <td>0.89</td>\n",
       "      <td>0.818</td>\n",
       "      <td>0.905</td>\n",
       "    </tr>\n",
       "    <tr>\n",
       "      <th>recall</th>\n",
       "      <td>0.899</td>\n",
       "      <td>0.853</td>\n",
       "      <td>0.89</td>\n",
       "      <td>0.876</td>\n",
       "      <td>0.890</td>\n",
       "    </tr>\n",
       "    <tr>\n",
       "      <th>support</th>\n",
       "      <td>1296.000</td>\n",
       "      <td>319.000</td>\n",
       "      <td>1615.00</td>\n",
       "      <td>1615.000</td>\n",
       "      <td>1615.000</td>\n",
       "    </tr>\n",
       "  </tbody>\n",
       "</table>\n",
       "</div>"
      ],
      "text/plain": [
       "                0.0      1.0  micro avg  macro avg  weighted avg\n",
       "f1-score      0.929    0.753       0.89      0.841         0.894\n",
       "precision     0.961    0.675       0.89      0.818         0.905\n",
       "recall        0.899    0.853       0.89      0.876         0.890\n",
       "support    1296.000  319.000    1615.00   1615.000      1615.000"
      ]
     },
     "metadata": {},
     "output_type": "display_data"
    },
    {
     "name": "stderr",
     "output_type": "stream",
     "text": [
      "INFO - 2019-03-31 18:28:01,107 - instantiating class <class 'Transparency.model.modules.Encoder.Encoder'> from params {'vocab_size': 22316, 'embed_size': 200, 'kernel_sizes': [1, 3, 5, 7], 'hidden_size': 64, 'activation': 'relu', 'type': 'cnn', 'pre_embed': None} and extras {}\n",
      "INFO - 2019-03-31 18:28:01,107 - type = cnn\n",
      "INFO - 2019-03-31 18:28:01,108 - instantiating class <class 'Transparency.model.modules.Encoder.EncoderCNN'> from params {'vocab_size': 22316, 'embed_size': 200, 'kernel_sizes': [1, 3, 5, 7], 'hidden_size': 64, 'activation': 'relu', 'pre_embed': None} and extras {}\n",
      "INFO - 2019-03-31 18:28:01,108 - vocab_size = 22316\n",
      "INFO - 2019-03-31 18:28:01,108 - embed_size = 200\n",
      "INFO - 2019-03-31 18:28:01,109 - hidden_size = 64\n",
      "INFO - 2019-03-31 18:28:01,109 - kernel_sizes = [1, 3, 5, 7]\n",
      "INFO - 2019-03-31 18:28:01,109 - activation = relu\n",
      "INFO - 2019-03-31 18:28:01,109 - pre_embed = None\n",
      "INFO - 2019-03-31 18:28:01,135 - instantiating class <class 'Transparency.model.modules.Decoder.AttnDecoder'> from params {'attention': {'type': 'dot'}, 'output_size': 1, 'hidden_size': 256} and extras {}\n",
      "INFO - 2019-03-31 18:28:01,135 - hidden_size = 256\n",
      "INFO - 2019-03-31 18:28:01,135 - output_size = 1\n",
      "INFO - 2019-03-31 18:28:01,136 - use_attention = True\n",
      "INFO - 2019-03-31 18:28:01,136 - regularizer_attention = None\n",
      "INFO - 2019-03-31 18:28:01,136 - instantiating class <class 'Transparency.model.modules.Attention.Attention'> from params <allennlp.common.params.Params object at 0x7f66ebcd53c8> and extras {}\n",
      "INFO - 2019-03-31 18:28:01,137 - attention.type = dot\n",
      "INFO - 2019-03-31 18:28:01,137 - type = dot\n",
      "INFO - 2019-03-31 18:28:01,137 - instantiating class <class 'Transparency.model.modules.Attention.DotAttention'> from params <allennlp.common.params.Params object at 0x7f66ebcd53c8> and extras {}\n",
      "INFO - 2019-03-31 18:28:01,137 - attention.hidden_size = 256\n",
      "INFO - 2019-03-31 18:28:01,138 - hidden_size = 256\n"
     ]
    },
    {
     "name": "stdout",
     "output_type": "stream",
     "text": [
      "Model not saved on  roc_auc 0.9190274391423817\n",
      "\n"
     ]
    },
    {
     "data": {
      "application/vnd.jupyter.widget-view+json": {
       "model_id": "62bd254cdf3c40248bc3970f5e86ea7e",
       "version_major": 2,
       "version_minor": 0
      },
      "text/plain": [
       "HBox(children=(IntProgress(value=0, max=51), HTML(value='')))"
      ]
     },
     "metadata": {},
     "output_type": "display_data"
    },
    {
     "name": "stdout",
     "output_type": "stream",
     "text": [
      "\n",
      "{'accuracy': 0.8854489164086687, 'roc_auc': 0.9320576454197145, 'pr_auc': 0.7983649163996849}\n"
     ]
    },
    {
     "data": {
      "text/html": [
       "<div>\n",
       "<style scoped>\n",
       "    .dataframe tbody tr th:only-of-type {\n",
       "        vertical-align: middle;\n",
       "    }\n",
       "\n",
       "    .dataframe tbody tr th {\n",
       "        vertical-align: top;\n",
       "    }\n",
       "\n",
       "    .dataframe thead th {\n",
       "        text-align: right;\n",
       "    }\n",
       "</style>\n",
       "<table border=\"1\" class=\"dataframe\">\n",
       "  <thead>\n",
       "    <tr style=\"text-align: right;\">\n",
       "      <th></th>\n",
       "      <th>0.0</th>\n",
       "      <th>1.0</th>\n",
       "      <th>micro avg</th>\n",
       "      <th>macro avg</th>\n",
       "      <th>weighted avg</th>\n",
       "    </tr>\n",
       "  </thead>\n",
       "  <tbody>\n",
       "    <tr>\n",
       "      <th>f1-score</th>\n",
       "      <td>0.925</td>\n",
       "      <td>0.752</td>\n",
       "      <td>0.885</td>\n",
       "      <td>0.839</td>\n",
       "      <td>0.891</td>\n",
       "    </tr>\n",
       "    <tr>\n",
       "      <th>precision</th>\n",
       "      <td>0.968</td>\n",
       "      <td>0.657</td>\n",
       "      <td>0.885</td>\n",
       "      <td>0.812</td>\n",
       "      <td>0.906</td>\n",
       "    </tr>\n",
       "    <tr>\n",
       "      <th>recall</th>\n",
       "      <td>0.887</td>\n",
       "      <td>0.881</td>\n",
       "      <td>0.885</td>\n",
       "      <td>0.884</td>\n",
       "      <td>0.885</td>\n",
       "    </tr>\n",
       "    <tr>\n",
       "      <th>support</th>\n",
       "      <td>1296.000</td>\n",
       "      <td>319.000</td>\n",
       "      <td>1615.000</td>\n",
       "      <td>1615.000</td>\n",
       "      <td>1615.000</td>\n",
       "    </tr>\n",
       "  </tbody>\n",
       "</table>\n",
       "</div>"
      ],
      "text/plain": [
       "                0.0      1.0  micro avg  macro avg  weighted avg\n",
       "f1-score      0.925    0.752      0.885      0.839         0.891\n",
       "precision     0.968    0.657      0.885      0.812         0.906\n",
       "recall        0.887    0.881      0.885      0.884         0.885\n",
       "support    1296.000  319.000   1615.000   1615.000      1615.000"
      ]
     },
     "metadata": {},
     "output_type": "display_data"
    },
    {
     "name": "stderr",
     "output_type": "stream",
     "text": [
      "INFO - 2019-03-31 18:28:02,531 - instantiating class <class 'Transparency.model.modules.Encoder.Encoder'> from params {'vocab_size': 22316, 'embed_size': 200, 'projection': True, 'hidden_size': 128, 'activation': 'tanh', 'type': 'average', 'pre_embed': array([[ 0.        ,  0.        ,  0.        , ...,  0.        ,\n",
      "         0.        ,  0.        ],\n",
      "       [ 0.60795819,  0.75690186, -0.45841884, ...,  0.32715918,\n",
      "         1.05838462, -1.00027972],\n",
      "       [ 0.32040939, -0.98453535, -1.66852078, ..., -0.12068232,\n",
      "         2.20697478, -1.14211235],\n",
      "       ...,\n",
      "       [ 1.16788733, -0.92413783,  1.75671399, ...,  0.00975742,\n",
      "        -0.28707436, -0.2458024 ],\n",
      "       [ 0.0009315 , -0.98411071, -1.11939907, ..., -6.90321016,\n",
      "         3.93742228, -1.51261103],\n",
      "       [-0.72030318, -0.14090668, -2.27291822, ..., -1.9552381 ,\n",
      "         0.7607277 , -1.39611304]])} and extras {}\n",
      "INFO - 2019-03-31 18:28:02,532 - type = average\n",
      "INFO - 2019-03-31 18:28:02,533 - instantiating class <class 'Transparency.model.modules.Encoder.EncoderAverage'> from params {'vocab_size': 22316, 'embed_size': 200, 'projection': True, 'hidden_size': 128, 'activation': 'tanh', 'pre_embed': array([[ 0.        ,  0.        ,  0.        , ...,  0.        ,\n",
      "         0.        ,  0.        ],\n",
      "       [ 0.60795819,  0.75690186, -0.45841884, ...,  0.32715918,\n",
      "         1.05838462, -1.00027972],\n",
      "       [ 0.32040939, -0.98453535, -1.66852078, ..., -0.12068232,\n",
      "         2.20697478, -1.14211235],\n",
      "       ...,\n",
      "       [ 1.16788733, -0.92413783,  1.75671399, ...,  0.00975742,\n",
      "        -0.28707436, -0.2458024 ],\n",
      "       [ 0.0009315 , -0.98411071, -1.11939907, ..., -6.90321016,\n",
      "         3.93742228, -1.51261103],\n",
      "       [-0.72030318, -0.14090668, -2.27291822, ..., -1.9552381 ,\n",
      "         0.7607277 , -1.39611304]])} and extras {}\n",
      "INFO - 2019-03-31 18:28:02,533 - vocab_size = 22316\n",
      "INFO - 2019-03-31 18:28:02,533 - embed_size = 200\n",
      "INFO - 2019-03-31 18:28:02,534 - projection = True\n",
      "INFO - 2019-03-31 18:28:02,534 - hidden_size = 128\n",
      "INFO - 2019-03-31 18:28:02,534 - activation = tanh\n",
      "INFO - 2019-03-31 18:28:02,535 - pre_embed = [[ 0.          0.          0.         ...  0.          0.\n",
      "   0.        ]\n",
      " [ 0.60795819  0.75690186 -0.45841884 ...  0.32715918  1.05838462\n",
      "  -1.00027972]\n",
      " [ 0.32040939 -0.98453535 -1.66852078 ... -0.12068232  2.20697478\n",
      "  -1.14211235]\n",
      " ...\n",
      " [ 1.16788733 -0.92413783  1.75671399 ...  0.00975742 -0.28707436\n",
      "  -0.2458024 ]\n",
      " [ 0.0009315  -0.98411071 -1.11939907 ... -6.90321016  3.93742228\n",
      "  -1.51261103]\n",
      " [-0.72030318 -0.14090668 -2.27291822 ... -1.9552381   0.7607277\n",
      "  -1.39611304]]\n",
      "INFO - 2019-03-31 18:28:02,543 - instantiating class <class 'Transparency.model.modules.Decoder.AttnDecoder'> from params {'attention': {'type': 'dot'}, 'output_size': 1, 'hidden_size': 128} and extras {}\n",
      "INFO - 2019-03-31 18:28:02,543 - hidden_size = 128\n",
      "INFO - 2019-03-31 18:28:02,543 - output_size = 1\n",
      "INFO - 2019-03-31 18:28:02,543 - use_attention = True\n",
      "INFO - 2019-03-31 18:28:02,544 - regularizer_attention = None\n",
      "INFO - 2019-03-31 18:28:02,544 - instantiating class <class 'Transparency.model.modules.Attention.Attention'> from params <allennlp.common.params.Params object at 0x7f66ece800b8> and extras {}\n",
      "INFO - 2019-03-31 18:28:02,544 - attention.type = dot\n",
      "INFO - 2019-03-31 18:28:02,545 - type = dot\n",
      "INFO - 2019-03-31 18:28:02,545 - instantiating class <class 'Transparency.model.modules.Attention.DotAttention'> from params <allennlp.common.params.Params object at 0x7f66ece800b8> and extras {}\n",
      "INFO - 2019-03-31 18:28:02,545 - attention.hidden_size = 128\n",
      "INFO - 2019-03-31 18:28:02,545 - hidden_size = 128\n"
     ]
    },
    {
     "name": "stdout",
     "output_type": "stream",
     "text": [
      "Setting Embedding\n"
     ]
    },
    {
     "data": {
      "application/vnd.jupyter.widget-view+json": {
       "model_id": "eb43d4e1e0a241fb9a4cd1a216b8abed",
       "version_major": 2,
       "version_minor": 0
      },
      "text/plain": [
       "HBox(children=(IntProgress(value=0, max=8), HTML(value='')))"
      ]
     },
     "metadata": {},
     "output_type": "display_data"
    },
    {
     "data": {
      "application/vnd.jupyter.widget-view+json": {
       "model_id": "c1a4cf9b959347489635a82effb50921",
       "version_major": 2,
       "version_minor": 0
      },
      "text/plain": [
       "HBox(children=(IntProgress(value=0, max=242), HTML(value='')))"
      ]
     },
     "metadata": {},
     "output_type": "display_data"
    },
    {
     "data": {
      "application/vnd.jupyter.widget-view+json": {
       "model_id": "9576475d0a30450d992a236e2eb36d45",
       "version_major": 2,
       "version_minor": 0
      },
      "text/plain": [
       "HBox(children=(IntProgress(value=0, max=51), HTML(value='')))"
      ]
     },
     "metadata": {},
     "output_type": "display_data"
    },
    {
     "name": "stdout",
     "output_type": "stream",
     "text": [
      "{'accuracy': 0.5523219814241486, 'roc_auc': 0.6670778667905105, 'pr_auc': 0.3455874481840019}\n"
     ]
    },
    {
     "data": {
      "text/html": [
       "<div>\n",
       "<style scoped>\n",
       "    .dataframe tbody tr th:only-of-type {\n",
       "        vertical-align: middle;\n",
       "    }\n",
       "\n",
       "    .dataframe tbody tr th {\n",
       "        vertical-align: top;\n",
       "    }\n",
       "\n",
       "    .dataframe thead th {\n",
       "        text-align: right;\n",
       "    }\n",
       "</style>\n",
       "<table border=\"1\" class=\"dataframe\">\n",
       "  <thead>\n",
       "    <tr style=\"text-align: right;\">\n",
       "      <th></th>\n",
       "      <th>0.0</th>\n",
       "      <th>1.0</th>\n",
       "      <th>micro avg</th>\n",
       "      <th>macro avg</th>\n",
       "      <th>weighted avg</th>\n",
       "    </tr>\n",
       "  </thead>\n",
       "  <tbody>\n",
       "    <tr>\n",
       "      <th>f1-score</th>\n",
       "      <td>0.650</td>\n",
       "      <td>0.378</td>\n",
       "      <td>0.552</td>\n",
       "      <td>0.514</td>\n",
       "      <td>0.597</td>\n",
       "    </tr>\n",
       "    <tr>\n",
       "      <th>precision</th>\n",
       "      <td>0.872</td>\n",
       "      <td>0.261</td>\n",
       "      <td>0.552</td>\n",
       "      <td>0.566</td>\n",
       "      <td>0.751</td>\n",
       "    </tr>\n",
       "    <tr>\n",
       "      <th>recall</th>\n",
       "      <td>0.519</td>\n",
       "      <td>0.690</td>\n",
       "      <td>0.552</td>\n",
       "      <td>0.604</td>\n",
       "      <td>0.552</td>\n",
       "    </tr>\n",
       "    <tr>\n",
       "      <th>support</th>\n",
       "      <td>1296.000</td>\n",
       "      <td>319.000</td>\n",
       "      <td>1615.000</td>\n",
       "      <td>1615.000</td>\n",
       "      <td>1615.000</td>\n",
       "    </tr>\n",
       "  </tbody>\n",
       "</table>\n",
       "</div>"
      ],
      "text/plain": [
       "                0.0      1.0  micro avg  macro avg  weighted avg\n",
       "f1-score      0.650    0.378      0.552      0.514         0.597\n",
       "precision     0.872    0.261      0.552      0.566         0.751\n",
       "recall        0.519    0.690      0.552      0.604         0.552\n",
       "support    1296.000  319.000   1615.000   1615.000      1615.000"
      ]
     },
     "metadata": {},
     "output_type": "display_data"
    },
    {
     "name": "stdout",
     "output_type": "stream",
     "text": [
      "Model not saved on  roc_auc 0.6670778667905105\n"
     ]
    },
    {
     "data": {
      "application/vnd.jupyter.widget-view+json": {
       "model_id": "d9bd1325151b494d85994db0774814cb",
       "version_major": 2,
       "version_minor": 0
      },
      "text/plain": [
       "HBox(children=(IntProgress(value=0, max=242), HTML(value='')))"
      ]
     },
     "metadata": {},
     "output_type": "display_data"
    },
    {
     "data": {
      "application/vnd.jupyter.widget-view+json": {
       "model_id": "f7f83d0ad6654002b64964639656908b",
       "version_major": 2,
       "version_minor": 0
      },
      "text/plain": [
       "HBox(children=(IntProgress(value=0, max=51), HTML(value='')))"
      ]
     },
     "metadata": {},
     "output_type": "display_data"
    },
    {
     "name": "stdout",
     "output_type": "stream",
     "text": [
      "{'accuracy': 0.7653250773993808, 'roc_auc': 0.6968584310538334, 'pr_auc': 0.36396757032354654}\n"
     ]
    },
    {
     "data": {
      "text/html": [
       "<div>\n",
       "<style scoped>\n",
       "    .dataframe tbody tr th:only-of-type {\n",
       "        vertical-align: middle;\n",
       "    }\n",
       "\n",
       "    .dataframe tbody tr th {\n",
       "        vertical-align: top;\n",
       "    }\n",
       "\n",
       "    .dataframe thead th {\n",
       "        text-align: right;\n",
       "    }\n",
       "</style>\n",
       "<table border=\"1\" class=\"dataframe\">\n",
       "  <thead>\n",
       "    <tr style=\"text-align: right;\">\n",
       "      <th></th>\n",
       "      <th>0.0</th>\n",
       "      <th>1.0</th>\n",
       "      <th>micro avg</th>\n",
       "      <th>macro avg</th>\n",
       "      <th>weighted avg</th>\n",
       "    </tr>\n",
       "  </thead>\n",
       "  <tbody>\n",
       "    <tr>\n",
       "      <th>f1-score</th>\n",
       "      <td>0.855</td>\n",
       "      <td>0.380</td>\n",
       "      <td>0.765</td>\n",
       "      <td>0.617</td>\n",
       "      <td>0.761</td>\n",
       "    </tr>\n",
       "    <tr>\n",
       "      <th>precision</th>\n",
       "      <td>0.847</td>\n",
       "      <td>0.397</td>\n",
       "      <td>0.765</td>\n",
       "      <td>0.622</td>\n",
       "      <td>0.758</td>\n",
       "    </tr>\n",
       "    <tr>\n",
       "      <th>recall</th>\n",
       "      <td>0.864</td>\n",
       "      <td>0.364</td>\n",
       "      <td>0.765</td>\n",
       "      <td>0.614</td>\n",
       "      <td>0.765</td>\n",
       "    </tr>\n",
       "    <tr>\n",
       "      <th>support</th>\n",
       "      <td>1296.000</td>\n",
       "      <td>319.000</td>\n",
       "      <td>1615.000</td>\n",
       "      <td>1615.000</td>\n",
       "      <td>1615.000</td>\n",
       "    </tr>\n",
       "  </tbody>\n",
       "</table>\n",
       "</div>"
      ],
      "text/plain": [
       "                0.0      1.0  micro avg  macro avg  weighted avg\n",
       "f1-score      0.855    0.380      0.765      0.617         0.761\n",
       "precision     0.847    0.397      0.765      0.622         0.758\n",
       "recall        0.864    0.364      0.765      0.614         0.765\n",
       "support    1296.000  319.000   1615.000   1615.000      1615.000"
      ]
     },
     "metadata": {},
     "output_type": "display_data"
    },
    {
     "name": "stdout",
     "output_type": "stream",
     "text": [
      "Model Saved on  roc_auc 0.6968584310538334\n"
     ]
    },
    {
     "data": {
      "application/vnd.jupyter.widget-view+json": {
       "model_id": "4a03b4f0c4294f0f948bb2bbaf3656cd",
       "version_major": 2,
       "version_minor": 0
      },
      "text/plain": [
       "HBox(children=(IntProgress(value=0, max=242), HTML(value='')))"
      ]
     },
     "metadata": {},
     "output_type": "display_data"
    },
    {
     "data": {
      "application/vnd.jupyter.widget-view+json": {
       "model_id": "17d2ba0eb0a945ac8771289d70b5af90",
       "version_major": 2,
       "version_minor": 0
      },
      "text/plain": [
       "HBox(children=(IntProgress(value=0, max=51), HTML(value='')))"
      ]
     },
     "metadata": {},
     "output_type": "display_data"
    },
    {
     "name": "stdout",
     "output_type": "stream",
     "text": [
      "{'accuracy': 0.6055727554179566, 'roc_auc': 0.7193559154766052, 'pr_auc': 0.39487200934961336}\n"
     ]
    },
    {
     "data": {
      "text/html": [
       "<div>\n",
       "<style scoped>\n",
       "    .dataframe tbody tr th:only-of-type {\n",
       "        vertical-align: middle;\n",
       "    }\n",
       "\n",
       "    .dataframe tbody tr th {\n",
       "        vertical-align: top;\n",
       "    }\n",
       "\n",
       "    .dataframe thead th {\n",
       "        text-align: right;\n",
       "    }\n",
       "</style>\n",
       "<table border=\"1\" class=\"dataframe\">\n",
       "  <thead>\n",
       "    <tr style=\"text-align: right;\">\n",
       "      <th></th>\n",
       "      <th>0.0</th>\n",
       "      <th>1.0</th>\n",
       "      <th>micro avg</th>\n",
       "      <th>macro avg</th>\n",
       "      <th>weighted avg</th>\n",
       "    </tr>\n",
       "  </thead>\n",
       "  <tbody>\n",
       "    <tr>\n",
       "      <th>f1-score</th>\n",
       "      <td>0.700</td>\n",
       "      <td>0.426</td>\n",
       "      <td>0.606</td>\n",
       "      <td>0.563</td>\n",
       "      <td>0.646</td>\n",
       "    </tr>\n",
       "    <tr>\n",
       "      <th>precision</th>\n",
       "      <td>0.899</td>\n",
       "      <td>0.299</td>\n",
       "      <td>0.606</td>\n",
       "      <td>0.599</td>\n",
       "      <td>0.781</td>\n",
       "    </tr>\n",
       "    <tr>\n",
       "      <th>recall</th>\n",
       "      <td>0.573</td>\n",
       "      <td>0.740</td>\n",
       "      <td>0.606</td>\n",
       "      <td>0.656</td>\n",
       "      <td>0.606</td>\n",
       "    </tr>\n",
       "    <tr>\n",
       "      <th>support</th>\n",
       "      <td>1296.000</td>\n",
       "      <td>319.000</td>\n",
       "      <td>1615.000</td>\n",
       "      <td>1615.000</td>\n",
       "      <td>1615.000</td>\n",
       "    </tr>\n",
       "  </tbody>\n",
       "</table>\n",
       "</div>"
      ],
      "text/plain": [
       "                0.0      1.0  micro avg  macro avg  weighted avg\n",
       "f1-score      0.700    0.426      0.606      0.563         0.646\n",
       "precision     0.899    0.299      0.606      0.599         0.781\n",
       "recall        0.573    0.740      0.606      0.656         0.606\n",
       "support    1296.000  319.000   1615.000   1615.000      1615.000"
      ]
     },
     "metadata": {},
     "output_type": "display_data"
    },
    {
     "name": "stdout",
     "output_type": "stream",
     "text": [
      "Model Saved on  roc_auc 0.7193559154766052\n"
     ]
    },
    {
     "data": {
      "application/vnd.jupyter.widget-view+json": {
       "model_id": "b61323d2aac94498af4c4d406573ea42",
       "version_major": 2,
       "version_minor": 0
      },
      "text/plain": [
       "HBox(children=(IntProgress(value=0, max=242), HTML(value='')))"
      ]
     },
     "metadata": {},
     "output_type": "display_data"
    },
    {
     "data": {
      "application/vnd.jupyter.widget-view+json": {
       "model_id": "1ceb0b38061a4aad8b1c77c78620287b",
       "version_major": 2,
       "version_minor": 0
      },
      "text/plain": [
       "HBox(children=(IntProgress(value=0, max=51), HTML(value='')))"
      ]
     },
     "metadata": {},
     "output_type": "display_data"
    },
    {
     "name": "stdout",
     "output_type": "stream",
     "text": [
      "{'accuracy': 0.6965944272445821, 'roc_auc': 0.7421896164712256, 'pr_auc': 0.4153146406767785}\n"
     ]
    },
    {
     "data": {
      "text/html": [
       "<div>\n",
       "<style scoped>\n",
       "    .dataframe tbody tr th:only-of-type {\n",
       "        vertical-align: middle;\n",
       "    }\n",
       "\n",
       "    .dataframe tbody tr th {\n",
       "        vertical-align: top;\n",
       "    }\n",
       "\n",
       "    .dataframe thead th {\n",
       "        text-align: right;\n",
       "    }\n",
       "</style>\n",
       "<table border=\"1\" class=\"dataframe\">\n",
       "  <thead>\n",
       "    <tr style=\"text-align: right;\">\n",
       "      <th></th>\n",
       "      <th>0.0</th>\n",
       "      <th>1.0</th>\n",
       "      <th>micro avg</th>\n",
       "      <th>macro avg</th>\n",
       "      <th>weighted avg</th>\n",
       "    </tr>\n",
       "  </thead>\n",
       "  <tbody>\n",
       "    <tr>\n",
       "      <th>f1-score</th>\n",
       "      <td>0.789</td>\n",
       "      <td>0.460</td>\n",
       "      <td>0.697</td>\n",
       "      <td>0.625</td>\n",
       "      <td>0.724</td>\n",
       "    </tr>\n",
       "    <tr>\n",
       "      <th>precision</th>\n",
       "      <td>0.893</td>\n",
       "      <td>0.355</td>\n",
       "      <td>0.697</td>\n",
       "      <td>0.624</td>\n",
       "      <td>0.787</td>\n",
       "    </tr>\n",
       "    <tr>\n",
       "      <th>recall</th>\n",
       "      <td>0.707</td>\n",
       "      <td>0.655</td>\n",
       "      <td>0.697</td>\n",
       "      <td>0.681</td>\n",
       "      <td>0.697</td>\n",
       "    </tr>\n",
       "    <tr>\n",
       "      <th>support</th>\n",
       "      <td>1296.000</td>\n",
       "      <td>319.000</td>\n",
       "      <td>1615.000</td>\n",
       "      <td>1615.000</td>\n",
       "      <td>1615.000</td>\n",
       "    </tr>\n",
       "  </tbody>\n",
       "</table>\n",
       "</div>"
      ],
      "text/plain": [
       "                0.0      1.0  micro avg  macro avg  weighted avg\n",
       "f1-score      0.789    0.460      0.697      0.625         0.724\n",
       "precision     0.893    0.355      0.697      0.624         0.787\n",
       "recall        0.707    0.655      0.697      0.681         0.697\n",
       "support    1296.000  319.000   1615.000   1615.000      1615.000"
      ]
     },
     "metadata": {},
     "output_type": "display_data"
    },
    {
     "name": "stdout",
     "output_type": "stream",
     "text": [
      "Model Saved on  roc_auc 0.7421896164712256\n"
     ]
    },
    {
     "data": {
      "application/vnd.jupyter.widget-view+json": {
       "model_id": "3d5bd9fa83c74e1786ab4c7274bd6aab",
       "version_major": 2,
       "version_minor": 0
      },
      "text/plain": [
       "HBox(children=(IntProgress(value=0, max=242), HTML(value='')))"
      ]
     },
     "metadata": {},
     "output_type": "display_data"
    },
    {
     "data": {
      "application/vnd.jupyter.widget-view+json": {
       "model_id": "033157f7226b4e64907ce44335ed7611",
       "version_major": 2,
       "version_minor": 0
      },
      "text/plain": [
       "HBox(children=(IntProgress(value=0, max=51), HTML(value='')))"
      ]
     },
     "metadata": {},
     "output_type": "display_data"
    },
    {
     "name": "stdout",
     "output_type": "stream",
     "text": [
      "{'accuracy': 0.638390092879257, 'roc_auc': 0.7584828166724719, 'pr_auc': 0.4326777416067368}\n"
     ]
    },
    {
     "data": {
      "text/html": [
       "<div>\n",
       "<style scoped>\n",
       "    .dataframe tbody tr th:only-of-type {\n",
       "        vertical-align: middle;\n",
       "    }\n",
       "\n",
       "    .dataframe tbody tr th {\n",
       "        vertical-align: top;\n",
       "    }\n",
       "\n",
       "    .dataframe thead th {\n",
       "        text-align: right;\n",
       "    }\n",
       "</style>\n",
       "<table border=\"1\" class=\"dataframe\">\n",
       "  <thead>\n",
       "    <tr style=\"text-align: right;\">\n",
       "      <th></th>\n",
       "      <th>0.0</th>\n",
       "      <th>1.0</th>\n",
       "      <th>micro avg</th>\n",
       "      <th>macro avg</th>\n",
       "      <th>weighted avg</th>\n",
       "    </tr>\n",
       "  </thead>\n",
       "  <tbody>\n",
       "    <tr>\n",
       "      <th>f1-score</th>\n",
       "      <td>0.730</td>\n",
       "      <td>0.454</td>\n",
       "      <td>0.638</td>\n",
       "      <td>0.592</td>\n",
       "      <td>0.675</td>\n",
       "    </tr>\n",
       "    <tr>\n",
       "      <th>precision</th>\n",
       "      <td>0.912</td>\n",
       "      <td>0.324</td>\n",
       "      <td>0.638</td>\n",
       "      <td>0.618</td>\n",
       "      <td>0.796</td>\n",
       "    </tr>\n",
       "    <tr>\n",
       "      <th>recall</th>\n",
       "      <td>0.608</td>\n",
       "      <td>0.762</td>\n",
       "      <td>0.638</td>\n",
       "      <td>0.685</td>\n",
       "      <td>0.638</td>\n",
       "    </tr>\n",
       "    <tr>\n",
       "      <th>support</th>\n",
       "      <td>1296.000</td>\n",
       "      <td>319.000</td>\n",
       "      <td>1615.000</td>\n",
       "      <td>1615.000</td>\n",
       "      <td>1615.000</td>\n",
       "    </tr>\n",
       "  </tbody>\n",
       "</table>\n",
       "</div>"
      ],
      "text/plain": [
       "                0.0      1.0  micro avg  macro avg  weighted avg\n",
       "f1-score      0.730    0.454      0.638      0.592         0.675\n",
       "precision     0.912    0.324      0.638      0.618         0.796\n",
       "recall        0.608    0.762      0.638      0.685         0.638\n",
       "support    1296.000  319.000   1615.000   1615.000      1615.000"
      ]
     },
     "metadata": {},
     "output_type": "display_data"
    },
    {
     "name": "stdout",
     "output_type": "stream",
     "text": [
      "Model Saved on  roc_auc 0.7584828166724719\n"
     ]
    },
    {
     "data": {
      "application/vnd.jupyter.widget-view+json": {
       "model_id": "f97e2d3924744a888715173bdb852733",
       "version_major": 2,
       "version_minor": 0
      },
      "text/plain": [
       "HBox(children=(IntProgress(value=0, max=242), HTML(value='')))"
      ]
     },
     "metadata": {},
     "output_type": "display_data"
    },
    {
     "data": {
      "application/vnd.jupyter.widget-view+json": {
       "model_id": "6b19e4742a7347aba822d78f5198e93e",
       "version_major": 2,
       "version_minor": 0
      },
      "text/plain": [
       "HBox(children=(IntProgress(value=0, max=51), HTML(value='')))"
      ]
     },
     "metadata": {},
     "output_type": "display_data"
    },
    {
     "name": "stdout",
     "output_type": "stream",
     "text": [
      "{'accuracy': 0.7857585139318886, 'roc_auc': 0.7745728356360541, 'pr_auc': 0.4667544046566317}\n"
     ]
    },
    {
     "data": {
      "text/html": [
       "<div>\n",
       "<style scoped>\n",
       "    .dataframe tbody tr th:only-of-type {\n",
       "        vertical-align: middle;\n",
       "    }\n",
       "\n",
       "    .dataframe tbody tr th {\n",
       "        vertical-align: top;\n",
       "    }\n",
       "\n",
       "    .dataframe thead th {\n",
       "        text-align: right;\n",
       "    }\n",
       "</style>\n",
       "<table border=\"1\" class=\"dataframe\">\n",
       "  <thead>\n",
       "    <tr style=\"text-align: right;\">\n",
       "      <th></th>\n",
       "      <th>0.0</th>\n",
       "      <th>1.0</th>\n",
       "      <th>micro avg</th>\n",
       "      <th>macro avg</th>\n",
       "      <th>weighted avg</th>\n",
       "    </tr>\n",
       "  </thead>\n",
       "  <tbody>\n",
       "    <tr>\n",
       "      <th>f1-score</th>\n",
       "      <td>0.862</td>\n",
       "      <td>0.519</td>\n",
       "      <td>0.786</td>\n",
       "      <td>0.691</td>\n",
       "      <td>0.794</td>\n",
       "    </tr>\n",
       "    <tr>\n",
       "      <th>precision</th>\n",
       "      <td>0.891</td>\n",
       "      <td>0.466</td>\n",
       "      <td>0.786</td>\n",
       "      <td>0.679</td>\n",
       "      <td>0.807</td>\n",
       "    </tr>\n",
       "    <tr>\n",
       "      <th>recall</th>\n",
       "      <td>0.835</td>\n",
       "      <td>0.586</td>\n",
       "      <td>0.786</td>\n",
       "      <td>0.711</td>\n",
       "      <td>0.786</td>\n",
       "    </tr>\n",
       "    <tr>\n",
       "      <th>support</th>\n",
       "      <td>1296.000</td>\n",
       "      <td>319.000</td>\n",
       "      <td>1615.000</td>\n",
       "      <td>1615.000</td>\n",
       "      <td>1615.000</td>\n",
       "    </tr>\n",
       "  </tbody>\n",
       "</table>\n",
       "</div>"
      ],
      "text/plain": [
       "                0.0      1.0  micro avg  macro avg  weighted avg\n",
       "f1-score      0.862    0.519      0.786      0.691         0.794\n",
       "precision     0.891    0.466      0.786      0.679         0.807\n",
       "recall        0.835    0.586      0.786      0.711         0.786\n",
       "support    1296.000  319.000   1615.000   1615.000      1615.000"
      ]
     },
     "metadata": {},
     "output_type": "display_data"
    },
    {
     "name": "stdout",
     "output_type": "stream",
     "text": [
      "Model Saved on  roc_auc 0.7745728356360541\n"
     ]
    },
    {
     "data": {
      "application/vnd.jupyter.widget-view+json": {
       "model_id": "e6f6621dcdeb4dc796ff86b262a45ba0",
       "version_major": 2,
       "version_minor": 0
      },
      "text/plain": [
       "HBox(children=(IntProgress(value=0, max=242), HTML(value='')))"
      ]
     },
     "metadata": {},
     "output_type": "display_data"
    },
    {
     "data": {
      "application/vnd.jupyter.widget-view+json": {
       "model_id": "c9619a0ed7254c3d99fc1c376f8d861c",
       "version_major": 2,
       "version_minor": 0
      },
      "text/plain": [
       "HBox(children=(IntProgress(value=0, max=51), HTML(value='')))"
      ]
     },
     "metadata": {},
     "output_type": "display_data"
    },
    {
     "name": "stdout",
     "output_type": "stream",
     "text": [
      "{'accuracy': 0.7232198142414861, 'roc_auc': 0.789574383683579, 'pr_auc': 0.4894284380998193}\n"
     ]
    },
    {
     "data": {
      "text/html": [
       "<div>\n",
       "<style scoped>\n",
       "    .dataframe tbody tr th:only-of-type {\n",
       "        vertical-align: middle;\n",
       "    }\n",
       "\n",
       "    .dataframe tbody tr th {\n",
       "        vertical-align: top;\n",
       "    }\n",
       "\n",
       "    .dataframe thead th {\n",
       "        text-align: right;\n",
       "    }\n",
       "</style>\n",
       "<table border=\"1\" class=\"dataframe\">\n",
       "  <thead>\n",
       "    <tr style=\"text-align: right;\">\n",
       "      <th></th>\n",
       "      <th>0.0</th>\n",
       "      <th>1.0</th>\n",
       "      <th>micro avg</th>\n",
       "      <th>macro avg</th>\n",
       "      <th>weighted avg</th>\n",
       "    </tr>\n",
       "  </thead>\n",
       "  <tbody>\n",
       "    <tr>\n",
       "      <th>f1-score</th>\n",
       "      <td>0.807</td>\n",
       "      <td>0.513</td>\n",
       "      <td>0.723</td>\n",
       "      <td>0.660</td>\n",
       "      <td>0.749</td>\n",
       "    </tr>\n",
       "    <tr>\n",
       "      <th>precision</th>\n",
       "      <td>0.917</td>\n",
       "      <td>0.393</td>\n",
       "      <td>0.723</td>\n",
       "      <td>0.655</td>\n",
       "      <td>0.814</td>\n",
       "    </tr>\n",
       "    <tr>\n",
       "      <th>recall</th>\n",
       "      <td>0.720</td>\n",
       "      <td>0.737</td>\n",
       "      <td>0.723</td>\n",
       "      <td>0.728</td>\n",
       "      <td>0.723</td>\n",
       "    </tr>\n",
       "    <tr>\n",
       "      <th>support</th>\n",
       "      <td>1296.000</td>\n",
       "      <td>319.000</td>\n",
       "      <td>1615.000</td>\n",
       "      <td>1615.000</td>\n",
       "      <td>1615.000</td>\n",
       "    </tr>\n",
       "  </tbody>\n",
       "</table>\n",
       "</div>"
      ],
      "text/plain": [
       "                0.0      1.0  micro avg  macro avg  weighted avg\n",
       "f1-score      0.807    0.513      0.723      0.660         0.749\n",
       "precision     0.917    0.393      0.723      0.655         0.814\n",
       "recall        0.720    0.737      0.723      0.728         0.723\n",
       "support    1296.000  319.000   1615.000   1615.000      1615.000"
      ]
     },
     "metadata": {},
     "output_type": "display_data"
    },
    {
     "name": "stdout",
     "output_type": "stream",
     "text": [
      "Model Saved on  roc_auc 0.789574383683579\n"
     ]
    },
    {
     "data": {
      "application/vnd.jupyter.widget-view+json": {
       "model_id": "e93f114004364393bb47d6e4020d6220",
       "version_major": 2,
       "version_minor": 0
      },
      "text/plain": [
       "HBox(children=(IntProgress(value=0, max=242), HTML(value='')))"
      ]
     },
     "metadata": {},
     "output_type": "display_data"
    },
    {
     "data": {
      "application/vnd.jupyter.widget-view+json": {
       "model_id": "4aa5bd5da46847bdb588c0d8a86cf965",
       "version_major": 2,
       "version_minor": 0
      },
      "text/plain": [
       "HBox(children=(IntProgress(value=0, max=51), HTML(value='')))"
      ]
     },
     "metadata": {},
     "output_type": "display_data"
    },
    {
     "name": "stdout",
     "output_type": "stream",
     "text": [
      "{'accuracy': 0.8086687306501548, 'roc_auc': 0.7928156081891715, 'pr_auc': 0.5004003354443346}\n"
     ]
    },
    {
     "data": {
      "text/html": [
       "<div>\n",
       "<style scoped>\n",
       "    .dataframe tbody tr th:only-of-type {\n",
       "        vertical-align: middle;\n",
       "    }\n",
       "\n",
       "    .dataframe tbody tr th {\n",
       "        vertical-align: top;\n",
       "    }\n",
       "\n",
       "    .dataframe thead th {\n",
       "        text-align: right;\n",
       "    }\n",
       "</style>\n",
       "<table border=\"1\" class=\"dataframe\">\n",
       "  <thead>\n",
       "    <tr style=\"text-align: right;\">\n",
       "      <th></th>\n",
       "      <th>0.0</th>\n",
       "      <th>1.0</th>\n",
       "      <th>micro avg</th>\n",
       "      <th>macro avg</th>\n",
       "      <th>weighted avg</th>\n",
       "    </tr>\n",
       "  </thead>\n",
       "  <tbody>\n",
       "    <tr>\n",
       "      <th>f1-score</th>\n",
       "      <td>0.880</td>\n",
       "      <td>0.531</td>\n",
       "      <td>0.809</td>\n",
       "      <td>0.705</td>\n",
       "      <td>0.811</td>\n",
       "    </tr>\n",
       "    <tr>\n",
       "      <th>precision</th>\n",
       "      <td>0.887</td>\n",
       "      <td>0.515</td>\n",
       "      <td>0.809</td>\n",
       "      <td>0.701</td>\n",
       "      <td>0.814</td>\n",
       "    </tr>\n",
       "    <tr>\n",
       "      <th>recall</th>\n",
       "      <td>0.873</td>\n",
       "      <td>0.549</td>\n",
       "      <td>0.809</td>\n",
       "      <td>0.711</td>\n",
       "      <td>0.809</td>\n",
       "    </tr>\n",
       "    <tr>\n",
       "      <th>support</th>\n",
       "      <td>1296.000</td>\n",
       "      <td>319.000</td>\n",
       "      <td>1615.000</td>\n",
       "      <td>1615.000</td>\n",
       "      <td>1615.000</td>\n",
       "    </tr>\n",
       "  </tbody>\n",
       "</table>\n",
       "</div>"
      ],
      "text/plain": [
       "                0.0      1.0  micro avg  macro avg  weighted avg\n",
       "f1-score      0.880    0.531      0.809      0.705         0.811\n",
       "precision     0.887    0.515      0.809      0.701         0.814\n",
       "recall        0.873    0.549      0.809      0.711         0.809\n",
       "support    1296.000  319.000   1615.000   1615.000      1615.000"
      ]
     },
     "metadata": {},
     "output_type": "display_data"
    },
    {
     "name": "stderr",
     "output_type": "stream",
     "text": [
      "INFO - 2019-03-31 18:28:45,981 - instantiating class <class 'Transparency.model.modules.Encoder.Encoder'> from params {'vocab_size': 22316, 'embed_size': 200, 'projection': True, 'hidden_size': 128, 'activation': 'tanh', 'type': 'average', 'pre_embed': None} and extras {}\n",
      "INFO - 2019-03-31 18:28:45,981 - type = average\n",
      "INFO - 2019-03-31 18:28:45,982 - instantiating class <class 'Transparency.model.modules.Encoder.EncoderAverage'> from params {'vocab_size': 22316, 'embed_size': 200, 'projection': True, 'hidden_size': 128, 'activation': 'tanh', 'pre_embed': None} and extras {}\n",
      "INFO - 2019-03-31 18:28:45,982 - vocab_size = 22316\n",
      "INFO - 2019-03-31 18:28:45,982 - embed_size = 200\n",
      "INFO - 2019-03-31 18:28:45,983 - projection = True\n",
      "INFO - 2019-03-31 18:28:45,983 - hidden_size = 128\n",
      "INFO - 2019-03-31 18:28:45,983 - activation = tanh\n",
      "INFO - 2019-03-31 18:28:45,984 - pre_embed = None\n"
     ]
    },
    {
     "name": "stdout",
     "output_type": "stream",
     "text": [
      "Model Saved on  roc_auc 0.7928156081891715\n",
      "\n"
     ]
    },
    {
     "name": "stderr",
     "output_type": "stream",
     "text": [
      "INFO - 2019-03-31 18:28:46,009 - instantiating class <class 'Transparency.model.modules.Decoder.AttnDecoder'> from params {'attention': {'type': 'dot'}, 'output_size': 1, 'hidden_size': 128} and extras {}\n",
      "INFO - 2019-03-31 18:28:46,009 - hidden_size = 128\n",
      "INFO - 2019-03-31 18:28:46,010 - output_size = 1\n",
      "INFO - 2019-03-31 18:28:46,010 - use_attention = True\n",
      "INFO - 2019-03-31 18:28:46,010 - regularizer_attention = None\n",
      "INFO - 2019-03-31 18:28:46,011 - instantiating class <class 'Transparency.model.modules.Attention.Attention'> from params <allennlp.common.params.Params object at 0x7f6685e55dd8> and extras {}\n",
      "INFO - 2019-03-31 18:28:46,011 - attention.type = dot\n",
      "INFO - 2019-03-31 18:28:46,012 - type = dot\n",
      "INFO - 2019-03-31 18:28:46,012 - instantiating class <class 'Transparency.model.modules.Attention.DotAttention'> from params <allennlp.common.params.Params object at 0x7f6685e55dd8> and extras {}\n",
      "INFO - 2019-03-31 18:28:46,012 - attention.hidden_size = 128\n",
      "INFO - 2019-03-31 18:28:46,013 - hidden_size = 128\n"
     ]
    },
    {
     "data": {
      "application/vnd.jupyter.widget-view+json": {
       "model_id": "a83c12596c4242b4a84a9702f4826a2e",
       "version_major": 2,
       "version_minor": 0
      },
      "text/plain": [
       "HBox(children=(IntProgress(value=0, max=51), HTML(value='')))"
      ]
     },
     "metadata": {},
     "output_type": "display_data"
    },
    {
     "name": "stdout",
     "output_type": "stream",
     "text": [
      "\n",
      "{'accuracy': 0.8086687306501548, 'roc_auc': 0.7928156081891715, 'pr_auc': 0.5004003354443346}\n"
     ]
    },
    {
     "data": {
      "text/html": [
       "<div>\n",
       "<style scoped>\n",
       "    .dataframe tbody tr th:only-of-type {\n",
       "        vertical-align: middle;\n",
       "    }\n",
       "\n",
       "    .dataframe tbody tr th {\n",
       "        vertical-align: top;\n",
       "    }\n",
       "\n",
       "    .dataframe thead th {\n",
       "        text-align: right;\n",
       "    }\n",
       "</style>\n",
       "<table border=\"1\" class=\"dataframe\">\n",
       "  <thead>\n",
       "    <tr style=\"text-align: right;\">\n",
       "      <th></th>\n",
       "      <th>0.0</th>\n",
       "      <th>1.0</th>\n",
       "      <th>micro avg</th>\n",
       "      <th>macro avg</th>\n",
       "      <th>weighted avg</th>\n",
       "    </tr>\n",
       "  </thead>\n",
       "  <tbody>\n",
       "    <tr>\n",
       "      <th>f1-score</th>\n",
       "      <td>0.880</td>\n",
       "      <td>0.531</td>\n",
       "      <td>0.809</td>\n",
       "      <td>0.705</td>\n",
       "      <td>0.811</td>\n",
       "    </tr>\n",
       "    <tr>\n",
       "      <th>precision</th>\n",
       "      <td>0.887</td>\n",
       "      <td>0.515</td>\n",
       "      <td>0.809</td>\n",
       "      <td>0.701</td>\n",
       "      <td>0.814</td>\n",
       "    </tr>\n",
       "    <tr>\n",
       "      <th>recall</th>\n",
       "      <td>0.873</td>\n",
       "      <td>0.549</td>\n",
       "      <td>0.809</td>\n",
       "      <td>0.711</td>\n",
       "      <td>0.809</td>\n",
       "    </tr>\n",
       "    <tr>\n",
       "      <th>support</th>\n",
       "      <td>1296.000</td>\n",
       "      <td>319.000</td>\n",
       "      <td>1615.000</td>\n",
       "      <td>1615.000</td>\n",
       "      <td>1615.000</td>\n",
       "    </tr>\n",
       "  </tbody>\n",
       "</table>\n",
       "</div>"
      ],
      "text/plain": [
       "                0.0      1.0  micro avg  macro avg  weighted avg\n",
       "f1-score      0.880    0.531      0.809      0.705         0.811\n",
       "precision     0.887    0.515      0.809      0.701         0.814\n",
       "recall        0.873    0.549      0.809      0.711         0.809\n",
       "support    1296.000  319.000   1615.000   1615.000      1615.000"
      ]
     },
     "metadata": {},
     "output_type": "display_data"
    },
    {
     "name": "stderr",
     "output_type": "stream",
     "text": [
      "INFO - 2019-03-31 18:28:46,688 - instantiating class <class 'Transparency.model.modules.Encoder.Encoder'> from params {'vocab_size': 22316, 'embed_size': 200, 'type': 'rnn', 'hidden_size': 128, 'pre_embed': array([[ 0.        ,  0.        ,  0.        , ...,  0.        ,\n",
      "         0.        ,  0.        ],\n",
      "       [ 0.60795819,  0.75690186, -0.45841884, ...,  0.32715918,\n",
      "         1.05838462, -1.00027972],\n",
      "       [ 0.32040939, -0.98453535, -1.66852078, ..., -0.12068232,\n",
      "         2.20697478, -1.14211235],\n",
      "       ...,\n",
      "       [ 1.16788733, -0.92413783,  1.75671399, ...,  0.00975742,\n",
      "        -0.28707436, -0.2458024 ],\n",
      "       [ 0.0009315 , -0.98411071, -1.11939907, ..., -6.90321016,\n",
      "         3.93742228, -1.51261103],\n",
      "       [-0.72030318, -0.14090668, -2.27291822, ..., -1.9552381 ,\n",
      "         0.7607277 , -1.39611304]])} and extras {}\n",
      "INFO - 2019-03-31 18:28:46,689 - type = rnn\n",
      "INFO - 2019-03-31 18:28:46,689 - instantiating class <class 'Transparency.model.modules.Encoder.EncoderRNN'> from params {'vocab_size': 22316, 'embed_size': 200, 'hidden_size': 128, 'pre_embed': array([[ 0.        ,  0.        ,  0.        , ...,  0.        ,\n",
      "         0.        ,  0.        ],\n",
      "       [ 0.60795819,  0.75690186, -0.45841884, ...,  0.32715918,\n",
      "         1.05838462, -1.00027972],\n",
      "       [ 0.32040939, -0.98453535, -1.66852078, ..., -0.12068232,\n",
      "         2.20697478, -1.14211235],\n",
      "       ...,\n",
      "       [ 1.16788733, -0.92413783,  1.75671399, ...,  0.00975742,\n",
      "        -0.28707436, -0.2458024 ],\n",
      "       [ 0.0009315 , -0.98411071, -1.11939907, ..., -6.90321016,\n",
      "         3.93742228, -1.51261103],\n",
      "       [-0.72030318, -0.14090668, -2.27291822, ..., -1.9552381 ,\n",
      "         0.7607277 , -1.39611304]])} and extras {}\n",
      "INFO - 2019-03-31 18:28:46,690 - vocab_size = 22316\n",
      "INFO - 2019-03-31 18:28:46,690 - embed_size = 200\n",
      "INFO - 2019-03-31 18:28:46,691 - hidden_size = 128\n",
      "INFO - 2019-03-31 18:28:46,691 - pre_embed = [[ 0.          0.          0.         ...  0.          0.\n",
      "   0.        ]\n",
      " [ 0.60795819  0.75690186 -0.45841884 ...  0.32715918  1.05838462\n",
      "  -1.00027972]\n",
      " [ 0.32040939 -0.98453535 -1.66852078 ... -0.12068232  2.20697478\n",
      "  -1.14211235]\n",
      " ...\n",
      " [ 1.16788733 -0.92413783  1.75671399 ...  0.00975742 -0.28707436\n",
      "  -0.2458024 ]\n",
      " [ 0.0009315  -0.98411071 -1.11939907 ... -6.90321016  3.93742228\n",
      "  -1.51261103]\n",
      " [-0.72030318 -0.14090668 -2.27291822 ... -1.9552381   0.7607277\n",
      "  -1.39611304]]\n",
      "INFO - 2019-03-31 18:28:46,702 - instantiating class <class 'Transparency.model.modules.Decoder.AttnDecoder'> from params {'attention': {'type': 'dot'}, 'output_size': 1, 'hidden_size': 256} and extras {}\n",
      "INFO - 2019-03-31 18:28:46,702 - hidden_size = 256\n",
      "INFO - 2019-03-31 18:28:46,702 - output_size = 1\n",
      "INFO - 2019-03-31 18:28:46,703 - use_attention = True\n",
      "INFO - 2019-03-31 18:28:46,703 - regularizer_attention = None\n",
      "INFO - 2019-03-31 18:28:46,704 - instantiating class <class 'Transparency.model.modules.Attention.Attention'> from params <allennlp.common.params.Params object at 0x7f66ebbece48> and extras {}\n",
      "INFO - 2019-03-31 18:28:46,704 - attention.type = dot\n",
      "INFO - 2019-03-31 18:28:46,704 - type = dot\n",
      "INFO - 2019-03-31 18:28:46,705 - instantiating class <class 'Transparency.model.modules.Attention.DotAttention'> from params <allennlp.common.params.Params object at 0x7f66ebbece48> and extras {}\n",
      "INFO - 2019-03-31 18:28:46,705 - attention.hidden_size = 256\n",
      "INFO - 2019-03-31 18:28:46,706 - hidden_size = 256\n"
     ]
    },
    {
     "name": "stdout",
     "output_type": "stream",
     "text": [
      "Setting Embedding\n"
     ]
    },
    {
     "data": {
      "application/vnd.jupyter.widget-view+json": {
       "model_id": "44886ee2c59548958e627cf91ed252d6",
       "version_major": 2,
       "version_minor": 0
      },
      "text/plain": [
       "HBox(children=(IntProgress(value=0, max=8), HTML(value='')))"
      ]
     },
     "metadata": {},
     "output_type": "display_data"
    },
    {
     "data": {
      "application/vnd.jupyter.widget-view+json": {
       "model_id": "2abf2f45bcad40e2a0cad44bbc297407",
       "version_major": 2,
       "version_minor": 0
      },
      "text/plain": [
       "HBox(children=(IntProgress(value=0, max=242), HTML(value='')))"
      ]
     },
     "metadata": {},
     "output_type": "display_data"
    },
    {
     "data": {
      "application/vnd.jupyter.widget-view+json": {
       "model_id": "7f617d0a416a4ce19167ac554508f0f9",
       "version_major": 2,
       "version_minor": 0
      },
      "text/plain": [
       "HBox(children=(IntProgress(value=0, max=51), HTML(value='')))"
      ]
     },
     "metadata": {},
     "output_type": "display_data"
    },
    {
     "name": "stdout",
     "output_type": "stream",
     "text": [
      "{'accuracy': 0.643343653250774, 'roc_auc': 0.7266897906265722, 'pr_auc': 0.39333153723357495}\n"
     ]
    },
    {
     "data": {
      "text/html": [
       "<div>\n",
       "<style scoped>\n",
       "    .dataframe tbody tr th:only-of-type {\n",
       "        vertical-align: middle;\n",
       "    }\n",
       "\n",
       "    .dataframe tbody tr th {\n",
       "        vertical-align: top;\n",
       "    }\n",
       "\n",
       "    .dataframe thead th {\n",
       "        text-align: right;\n",
       "    }\n",
       "</style>\n",
       "<table border=\"1\" class=\"dataframe\">\n",
       "  <thead>\n",
       "    <tr style=\"text-align: right;\">\n",
       "      <th></th>\n",
       "      <th>0.0</th>\n",
       "      <th>1.0</th>\n",
       "      <th>micro avg</th>\n",
       "      <th>macro avg</th>\n",
       "      <th>weighted avg</th>\n",
       "    </tr>\n",
       "  </thead>\n",
       "  <tbody>\n",
       "    <tr>\n",
       "      <th>f1-score</th>\n",
       "      <td>0.741</td>\n",
       "      <td>0.425</td>\n",
       "      <td>0.643</td>\n",
       "      <td>0.583</td>\n",
       "      <td>0.679</td>\n",
       "    </tr>\n",
       "    <tr>\n",
       "      <th>precision</th>\n",
       "      <td>0.886</td>\n",
       "      <td>0.312</td>\n",
       "      <td>0.643</td>\n",
       "      <td>0.599</td>\n",
       "      <td>0.773</td>\n",
       "    </tr>\n",
       "    <tr>\n",
       "      <th>recall</th>\n",
       "      <td>0.637</td>\n",
       "      <td>0.668</td>\n",
       "      <td>0.643</td>\n",
       "      <td>0.653</td>\n",
       "      <td>0.643</td>\n",
       "    </tr>\n",
       "    <tr>\n",
       "      <th>support</th>\n",
       "      <td>1296.000</td>\n",
       "      <td>319.000</td>\n",
       "      <td>1615.000</td>\n",
       "      <td>1615.000</td>\n",
       "      <td>1615.000</td>\n",
       "    </tr>\n",
       "  </tbody>\n",
       "</table>\n",
       "</div>"
      ],
      "text/plain": [
       "                0.0      1.0  micro avg  macro avg  weighted avg\n",
       "f1-score      0.741    0.425      0.643      0.583         0.679\n",
       "precision     0.886    0.312      0.643      0.599         0.773\n",
       "recall        0.637    0.668      0.643      0.653         0.643\n",
       "support    1296.000  319.000   1615.000   1615.000      1615.000"
      ]
     },
     "metadata": {},
     "output_type": "display_data"
    },
    {
     "name": "stdout",
     "output_type": "stream",
     "text": [
      "Model not saved on  roc_auc 0.7266897906265722\n"
     ]
    },
    {
     "data": {
      "application/vnd.jupyter.widget-view+json": {
       "model_id": "d017a1bd36e14524a519810ab33c438e",
       "version_major": 2,
       "version_minor": 0
      },
      "text/plain": [
       "HBox(children=(IntProgress(value=0, max=242), HTML(value='')))"
      ]
     },
     "metadata": {},
     "output_type": "display_data"
    },
    {
     "data": {
      "application/vnd.jupyter.widget-view+json": {
       "model_id": "f8de7185b1b74e988421e3d6a96b0b3c",
       "version_major": 2,
       "version_minor": 0
      },
      "text/plain": [
       "HBox(children=(IntProgress(value=0, max=51), HTML(value='')))"
      ]
     },
     "metadata": {},
     "output_type": "display_data"
    },
    {
     "name": "stdout",
     "output_type": "stream",
     "text": [
      "{'accuracy': 0.8520123839009288, 'roc_auc': 0.8985182282596076, 'pr_auc': 0.6431046777926346}\n"
     ]
    },
    {
     "data": {
      "text/html": [
       "<div>\n",
       "<style scoped>\n",
       "    .dataframe tbody tr th:only-of-type {\n",
       "        vertical-align: middle;\n",
       "    }\n",
       "\n",
       "    .dataframe tbody tr th {\n",
       "        vertical-align: top;\n",
       "    }\n",
       "\n",
       "    .dataframe thead th {\n",
       "        text-align: right;\n",
       "    }\n",
       "</style>\n",
       "<table border=\"1\" class=\"dataframe\">\n",
       "  <thead>\n",
       "    <tr style=\"text-align: right;\">\n",
       "      <th></th>\n",
       "      <th>0.0</th>\n",
       "      <th>1.0</th>\n",
       "      <th>micro avg</th>\n",
       "      <th>macro avg</th>\n",
       "      <th>weighted avg</th>\n",
       "    </tr>\n",
       "  </thead>\n",
       "  <tbody>\n",
       "    <tr>\n",
       "      <th>f1-score</th>\n",
       "      <td>0.905</td>\n",
       "      <td>0.666</td>\n",
       "      <td>0.852</td>\n",
       "      <td>0.785</td>\n",
       "      <td>0.858</td>\n",
       "    </tr>\n",
       "    <tr>\n",
       "      <th>precision</th>\n",
       "      <td>0.934</td>\n",
       "      <td>0.601</td>\n",
       "      <td>0.852</td>\n",
       "      <td>0.767</td>\n",
       "      <td>0.868</td>\n",
       "    </tr>\n",
       "    <tr>\n",
       "      <th>recall</th>\n",
       "      <td>0.878</td>\n",
       "      <td>0.746</td>\n",
       "      <td>0.852</td>\n",
       "      <td>0.812</td>\n",
       "      <td>0.852</td>\n",
       "    </tr>\n",
       "    <tr>\n",
       "      <th>support</th>\n",
       "      <td>1296.000</td>\n",
       "      <td>319.000</td>\n",
       "      <td>1615.000</td>\n",
       "      <td>1615.000</td>\n",
       "      <td>1615.000</td>\n",
       "    </tr>\n",
       "  </tbody>\n",
       "</table>\n",
       "</div>"
      ],
      "text/plain": [
       "                0.0      1.0  micro avg  macro avg  weighted avg\n",
       "f1-score      0.905    0.666      0.852      0.785         0.858\n",
       "precision     0.934    0.601      0.852      0.767         0.868\n",
       "recall        0.878    0.746      0.852      0.812         0.852\n",
       "support    1296.000  319.000   1615.000   1615.000      1615.000"
      ]
     },
     "metadata": {},
     "output_type": "display_data"
    },
    {
     "name": "stdout",
     "output_type": "stream",
     "text": [
      "Model Saved on  roc_auc 0.8985182282596076\n"
     ]
    },
    {
     "data": {
      "application/vnd.jupyter.widget-view+json": {
       "model_id": "47b5541a5f0e46a5b84afbbcc493493e",
       "version_major": 2,
       "version_minor": 0
      },
      "text/plain": [
       "HBox(children=(IntProgress(value=0, max=242), HTML(value='')))"
      ]
     },
     "metadata": {},
     "output_type": "display_data"
    },
    {
     "data": {
      "application/vnd.jupyter.widget-view+json": {
       "model_id": "67e30712432545ad9b4fb01f32f22752",
       "version_major": 2,
       "version_minor": 0
      },
      "text/plain": [
       "HBox(children=(IntProgress(value=0, max=51), HTML(value='')))"
      ]
     },
     "metadata": {},
     "output_type": "display_data"
    },
    {
     "name": "stdout",
     "output_type": "stream",
     "text": [
      "{'accuracy': 0.874922600619195, 'roc_auc': 0.9113815356631448, 'pr_auc': 0.6816750651248505}\n"
     ]
    },
    {
     "data": {
      "text/html": [
       "<div>\n",
       "<style scoped>\n",
       "    .dataframe tbody tr th:only-of-type {\n",
       "        vertical-align: middle;\n",
       "    }\n",
       "\n",
       "    .dataframe tbody tr th {\n",
       "        vertical-align: top;\n",
       "    }\n",
       "\n",
       "    .dataframe thead th {\n",
       "        text-align: right;\n",
       "    }\n",
       "</style>\n",
       "<table border=\"1\" class=\"dataframe\">\n",
       "  <thead>\n",
       "    <tr style=\"text-align: right;\">\n",
       "      <th></th>\n",
       "      <th>0.0</th>\n",
       "      <th>1.0</th>\n",
       "      <th>micro avg</th>\n",
       "      <th>macro avg</th>\n",
       "      <th>weighted avg</th>\n",
       "    </tr>\n",
       "  </thead>\n",
       "  <tbody>\n",
       "    <tr>\n",
       "      <th>f1-score</th>\n",
       "      <td>0.920</td>\n",
       "      <td>0.719</td>\n",
       "      <td>0.875</td>\n",
       "      <td>0.819</td>\n",
       "      <td>0.880</td>\n",
       "    </tr>\n",
       "    <tr>\n",
       "      <th>precision</th>\n",
       "      <td>0.951</td>\n",
       "      <td>0.646</td>\n",
       "      <td>0.875</td>\n",
       "      <td>0.798</td>\n",
       "      <td>0.890</td>\n",
       "    </tr>\n",
       "    <tr>\n",
       "      <th>recall</th>\n",
       "      <td>0.890</td>\n",
       "      <td>0.812</td>\n",
       "      <td>0.875</td>\n",
       "      <td>0.851</td>\n",
       "      <td>0.875</td>\n",
       "    </tr>\n",
       "    <tr>\n",
       "      <th>support</th>\n",
       "      <td>1296.000</td>\n",
       "      <td>319.000</td>\n",
       "      <td>1615.000</td>\n",
       "      <td>1615.000</td>\n",
       "      <td>1615.000</td>\n",
       "    </tr>\n",
       "  </tbody>\n",
       "</table>\n",
       "</div>"
      ],
      "text/plain": [
       "                0.0      1.0  micro avg  macro avg  weighted avg\n",
       "f1-score      0.920    0.719      0.875      0.819         0.880\n",
       "precision     0.951    0.646      0.875      0.798         0.890\n",
       "recall        0.890    0.812      0.875      0.851         0.875\n",
       "support    1296.000  319.000   1615.000   1615.000      1615.000"
      ]
     },
     "metadata": {},
     "output_type": "display_data"
    },
    {
     "name": "stdout",
     "output_type": "stream",
     "text": [
      "Model Saved on  roc_auc 0.9113815356631448\n"
     ]
    },
    {
     "data": {
      "application/vnd.jupyter.widget-view+json": {
       "model_id": "89092d93dee94f06b7d3eb60afe54d06",
       "version_major": 2,
       "version_minor": 0
      },
      "text/plain": [
       "HBox(children=(IntProgress(value=0, max=242), HTML(value='')))"
      ]
     },
     "metadata": {},
     "output_type": "display_data"
    },
    {
     "data": {
      "application/vnd.jupyter.widget-view+json": {
       "model_id": "837d4be304cd4998bd94216fa681cc68",
       "version_major": 2,
       "version_minor": 0
      },
      "text/plain": [
       "HBox(children=(IntProgress(value=0, max=51), HTML(value='')))"
      ]
     },
     "metadata": {},
     "output_type": "display_data"
    },
    {
     "name": "stdout",
     "output_type": "stream",
     "text": [
      "{'accuracy': 0.8613003095975232, 'roc_auc': 0.9138511552304656, 'pr_auc': 0.7007462353767253}\n"
     ]
    },
    {
     "data": {
      "text/html": [
       "<div>\n",
       "<style scoped>\n",
       "    .dataframe tbody tr th:only-of-type {\n",
       "        vertical-align: middle;\n",
       "    }\n",
       "\n",
       "    .dataframe tbody tr th {\n",
       "        vertical-align: top;\n",
       "    }\n",
       "\n",
       "    .dataframe thead th {\n",
       "        text-align: right;\n",
       "    }\n",
       "</style>\n",
       "<table border=\"1\" class=\"dataframe\">\n",
       "  <thead>\n",
       "    <tr style=\"text-align: right;\">\n",
       "      <th></th>\n",
       "      <th>0.0</th>\n",
       "      <th>1.0</th>\n",
       "      <th>micro avg</th>\n",
       "      <th>macro avg</th>\n",
       "      <th>weighted avg</th>\n",
       "    </tr>\n",
       "  </thead>\n",
       "  <tbody>\n",
       "    <tr>\n",
       "      <th>f1-score</th>\n",
       "      <td>0.909</td>\n",
       "      <td>0.709</td>\n",
       "      <td>0.861</td>\n",
       "      <td>0.809</td>\n",
       "      <td>0.869</td>\n",
       "    </tr>\n",
       "    <tr>\n",
       "      <th>precision</th>\n",
       "      <td>0.960</td>\n",
       "      <td>0.605</td>\n",
       "      <td>0.861</td>\n",
       "      <td>0.783</td>\n",
       "      <td>0.890</td>\n",
       "    </tr>\n",
       "    <tr>\n",
       "      <th>recall</th>\n",
       "      <td>0.863</td>\n",
       "      <td>0.856</td>\n",
       "      <td>0.861</td>\n",
       "      <td>0.859</td>\n",
       "      <td>0.861</td>\n",
       "    </tr>\n",
       "    <tr>\n",
       "      <th>support</th>\n",
       "      <td>1296.000</td>\n",
       "      <td>319.000</td>\n",
       "      <td>1615.000</td>\n",
       "      <td>1615.000</td>\n",
       "      <td>1615.000</td>\n",
       "    </tr>\n",
       "  </tbody>\n",
       "</table>\n",
       "</div>"
      ],
      "text/plain": [
       "                0.0      1.0  micro avg  macro avg  weighted avg\n",
       "f1-score      0.909    0.709      0.861      0.809         0.869\n",
       "precision     0.960    0.605      0.861      0.783         0.890\n",
       "recall        0.863    0.856      0.861      0.859         0.861\n",
       "support    1296.000  319.000   1615.000   1615.000      1615.000"
      ]
     },
     "metadata": {},
     "output_type": "display_data"
    },
    {
     "name": "stdout",
     "output_type": "stream",
     "text": [
      "Model Saved on  roc_auc 0.9138511552304656\n"
     ]
    },
    {
     "data": {
      "application/vnd.jupyter.widget-view+json": {
       "model_id": "10e21f03b03d4bd2a555c32f59150739",
       "version_major": 2,
       "version_minor": 0
      },
      "text/plain": [
       "HBox(children=(IntProgress(value=0, max=242), HTML(value='')))"
      ]
     },
     "metadata": {},
     "output_type": "display_data"
    },
    {
     "data": {
      "application/vnd.jupyter.widget-view+json": {
       "model_id": "533f7d65187c4f588fe5362f0c407beb",
       "version_major": 2,
       "version_minor": 0
      },
      "text/plain": [
       "HBox(children=(IntProgress(value=0, max=51), HTML(value='')))"
      ]
     },
     "metadata": {},
     "output_type": "display_data"
    },
    {
     "name": "stdout",
     "output_type": "stream",
     "text": [
      "{'accuracy': 0.8154798761609907, 'roc_auc': 0.9092553891404467, 'pr_auc': 0.6742944068404426}\n"
     ]
    },
    {
     "data": {
      "text/html": [
       "<div>\n",
       "<style scoped>\n",
       "    .dataframe tbody tr th:only-of-type {\n",
       "        vertical-align: middle;\n",
       "    }\n",
       "\n",
       "    .dataframe tbody tr th {\n",
       "        vertical-align: top;\n",
       "    }\n",
       "\n",
       "    .dataframe thead th {\n",
       "        text-align: right;\n",
       "    }\n",
       "</style>\n",
       "<table border=\"1\" class=\"dataframe\">\n",
       "  <thead>\n",
       "    <tr style=\"text-align: right;\">\n",
       "      <th></th>\n",
       "      <th>0.0</th>\n",
       "      <th>1.0</th>\n",
       "      <th>micro avg</th>\n",
       "      <th>macro avg</th>\n",
       "      <th>weighted avg</th>\n",
       "    </tr>\n",
       "  </thead>\n",
       "  <tbody>\n",
       "    <tr>\n",
       "      <th>f1-score</th>\n",
       "      <td>0.874</td>\n",
       "      <td>0.657</td>\n",
       "      <td>0.815</td>\n",
       "      <td>0.766</td>\n",
       "      <td>0.831</td>\n",
       "    </tr>\n",
       "    <tr>\n",
       "      <th>precision</th>\n",
       "      <td>0.969</td>\n",
       "      <td>0.519</td>\n",
       "      <td>0.815</td>\n",
       "      <td>0.744</td>\n",
       "      <td>0.880</td>\n",
       "    </tr>\n",
       "    <tr>\n",
       "      <th>recall</th>\n",
       "      <td>0.796</td>\n",
       "      <td>0.897</td>\n",
       "      <td>0.815</td>\n",
       "      <td>0.846</td>\n",
       "      <td>0.815</td>\n",
       "    </tr>\n",
       "    <tr>\n",
       "      <th>support</th>\n",
       "      <td>1296.000</td>\n",
       "      <td>319.000</td>\n",
       "      <td>1615.000</td>\n",
       "      <td>1615.000</td>\n",
       "      <td>1615.000</td>\n",
       "    </tr>\n",
       "  </tbody>\n",
       "</table>\n",
       "</div>"
      ],
      "text/plain": [
       "                0.0      1.0  micro avg  macro avg  weighted avg\n",
       "f1-score      0.874    0.657      0.815      0.766         0.831\n",
       "precision     0.969    0.519      0.815      0.744         0.880\n",
       "recall        0.796    0.897      0.815      0.846         0.815\n",
       "support    1296.000  319.000   1615.000   1615.000      1615.000"
      ]
     },
     "metadata": {},
     "output_type": "display_data"
    },
    {
     "name": "stdout",
     "output_type": "stream",
     "text": [
      "Model not saved on  roc_auc 0.9092553891404467\n"
     ]
    },
    {
     "data": {
      "application/vnd.jupyter.widget-view+json": {
       "model_id": "e7649056f51d4ed2b5f54d5e28a4969c",
       "version_major": 2,
       "version_minor": 0
      },
      "text/plain": [
       "HBox(children=(IntProgress(value=0, max=242), HTML(value='')))"
      ]
     },
     "metadata": {},
     "output_type": "display_data"
    },
    {
     "data": {
      "application/vnd.jupyter.widget-view+json": {
       "model_id": "867da05228044f81bfad2e605018c414",
       "version_major": 2,
       "version_minor": 0
      },
      "text/plain": [
       "HBox(children=(IntProgress(value=0, max=51), HTML(value='')))"
      ]
     },
     "metadata": {},
     "output_type": "display_data"
    },
    {
     "name": "stdout",
     "output_type": "stream",
     "text": [
      "{'accuracy': 0.8315789473684211, 'roc_auc': 0.9098480010836332, 'pr_auc': 0.6802589592603195}\n"
     ]
    },
    {
     "data": {
      "text/html": [
       "<div>\n",
       "<style scoped>\n",
       "    .dataframe tbody tr th:only-of-type {\n",
       "        vertical-align: middle;\n",
       "    }\n",
       "\n",
       "    .dataframe tbody tr th {\n",
       "        vertical-align: top;\n",
       "    }\n",
       "\n",
       "    .dataframe thead th {\n",
       "        text-align: right;\n",
       "    }\n",
       "</style>\n",
       "<table border=\"1\" class=\"dataframe\">\n",
       "  <thead>\n",
       "    <tr style=\"text-align: right;\">\n",
       "      <th></th>\n",
       "      <th>0.0</th>\n",
       "      <th>1.0</th>\n",
       "      <th>micro avg</th>\n",
       "      <th>macro avg</th>\n",
       "      <th>weighted avg</th>\n",
       "    </tr>\n",
       "  </thead>\n",
       "  <tbody>\n",
       "    <tr>\n",
       "      <th>f1-score</th>\n",
       "      <td>0.887</td>\n",
       "      <td>0.671</td>\n",
       "      <td>0.832</td>\n",
       "      <td>0.779</td>\n",
       "      <td>0.844</td>\n",
       "    </tr>\n",
       "    <tr>\n",
       "      <th>precision</th>\n",
       "      <td>0.962</td>\n",
       "      <td>0.546</td>\n",
       "      <td>0.832</td>\n",
       "      <td>0.754</td>\n",
       "      <td>0.880</td>\n",
       "    </tr>\n",
       "    <tr>\n",
       "      <th>recall</th>\n",
       "      <td>0.823</td>\n",
       "      <td>0.868</td>\n",
       "      <td>0.832</td>\n",
       "      <td>0.845</td>\n",
       "      <td>0.832</td>\n",
       "    </tr>\n",
       "    <tr>\n",
       "      <th>support</th>\n",
       "      <td>1296.000</td>\n",
       "      <td>319.000</td>\n",
       "      <td>1615.000</td>\n",
       "      <td>1615.000</td>\n",
       "      <td>1615.000</td>\n",
       "    </tr>\n",
       "  </tbody>\n",
       "</table>\n",
       "</div>"
      ],
      "text/plain": [
       "                0.0      1.0  micro avg  macro avg  weighted avg\n",
       "f1-score      0.887    0.671      0.832      0.779         0.844\n",
       "precision     0.962    0.546      0.832      0.754         0.880\n",
       "recall        0.823    0.868      0.832      0.845         0.832\n",
       "support    1296.000  319.000   1615.000   1615.000      1615.000"
      ]
     },
     "metadata": {},
     "output_type": "display_data"
    },
    {
     "name": "stdout",
     "output_type": "stream",
     "text": [
      "Model not saved on  roc_auc 0.9098480010836332\n"
     ]
    },
    {
     "data": {
      "application/vnd.jupyter.widget-view+json": {
       "model_id": "ecfd8451c900463ea03f28fd9c36863a",
       "version_major": 2,
       "version_minor": 0
      },
      "text/plain": [
       "HBox(children=(IntProgress(value=0, max=242), HTML(value='')))"
      ]
     },
     "metadata": {},
     "output_type": "display_data"
    },
    {
     "data": {
      "application/vnd.jupyter.widget-view+json": {
       "model_id": "32f3a5b35c2c49708dedfa26c828f170",
       "version_major": 2,
       "version_minor": 0
      },
      "text/plain": [
       "HBox(children=(IntProgress(value=0, max=51), HTML(value='')))"
      ]
     },
     "metadata": {},
     "output_type": "display_data"
    },
    {
     "name": "stdout",
     "output_type": "stream",
     "text": [
      "{'accuracy': 0.8643962848297214, 'roc_auc': 0.9123805100816594, 'pr_auc': 0.6938910683351442}\n"
     ]
    },
    {
     "data": {
      "text/html": [
       "<div>\n",
       "<style scoped>\n",
       "    .dataframe tbody tr th:only-of-type {\n",
       "        vertical-align: middle;\n",
       "    }\n",
       "\n",
       "    .dataframe tbody tr th {\n",
       "        vertical-align: top;\n",
       "    }\n",
       "\n",
       "    .dataframe thead th {\n",
       "        text-align: right;\n",
       "    }\n",
       "</style>\n",
       "<table border=\"1\" class=\"dataframe\">\n",
       "  <thead>\n",
       "    <tr style=\"text-align: right;\">\n",
       "      <th></th>\n",
       "      <th>0.0</th>\n",
       "      <th>1.0</th>\n",
       "      <th>micro avg</th>\n",
       "      <th>macro avg</th>\n",
       "      <th>weighted avg</th>\n",
       "    </tr>\n",
       "  </thead>\n",
       "  <tbody>\n",
       "    <tr>\n",
       "      <th>f1-score</th>\n",
       "      <td>0.913</td>\n",
       "      <td>0.695</td>\n",
       "      <td>0.864</td>\n",
       "      <td>0.804</td>\n",
       "      <td>0.870</td>\n",
       "    </tr>\n",
       "    <tr>\n",
       "      <th>precision</th>\n",
       "      <td>0.943</td>\n",
       "      <td>0.625</td>\n",
       "      <td>0.864</td>\n",
       "      <td>0.784</td>\n",
       "      <td>0.880</td>\n",
       "    </tr>\n",
       "    <tr>\n",
       "      <th>recall</th>\n",
       "      <td>0.884</td>\n",
       "      <td>0.784</td>\n",
       "      <td>0.864</td>\n",
       "      <td>0.834</td>\n",
       "      <td>0.864</td>\n",
       "    </tr>\n",
       "    <tr>\n",
       "      <th>support</th>\n",
       "      <td>1296.000</td>\n",
       "      <td>319.000</td>\n",
       "      <td>1615.000</td>\n",
       "      <td>1615.000</td>\n",
       "      <td>1615.000</td>\n",
       "    </tr>\n",
       "  </tbody>\n",
       "</table>\n",
       "</div>"
      ],
      "text/plain": [
       "                0.0      1.0  micro avg  macro avg  weighted avg\n",
       "f1-score      0.913    0.695      0.864      0.804         0.870\n",
       "precision     0.943    0.625      0.864      0.784         0.880\n",
       "recall        0.884    0.784      0.864      0.834         0.864\n",
       "support    1296.000  319.000   1615.000   1615.000      1615.000"
      ]
     },
     "metadata": {},
     "output_type": "display_data"
    },
    {
     "name": "stdout",
     "output_type": "stream",
     "text": [
      "Model not saved on  roc_auc 0.9123805100816594\n"
     ]
    },
    {
     "data": {
      "application/vnd.jupyter.widget-view+json": {
       "model_id": "2c8e1694d4444b88a9a2ddddd6f63333",
       "version_major": 2,
       "version_minor": 0
      },
      "text/plain": [
       "HBox(children=(IntProgress(value=0, max=242), HTML(value='')))"
      ]
     },
     "metadata": {},
     "output_type": "display_data"
    },
    {
     "data": {
      "application/vnd.jupyter.widget-view+json": {
       "model_id": "0fab6562727c4d6daab914dd876349b1",
       "version_major": 2,
       "version_minor": 0
      },
      "text/plain": [
       "HBox(children=(IntProgress(value=0, max=51), HTML(value='')))"
      ]
     },
     "metadata": {},
     "output_type": "display_data"
    },
    {
     "name": "stdout",
     "output_type": "stream",
     "text": [
      "{'accuracy': 0.8829721362229103, 'roc_auc': 0.9137906846240179, 'pr_auc': 0.7032705390752174}\n"
     ]
    },
    {
     "data": {
      "text/html": [
       "<div>\n",
       "<style scoped>\n",
       "    .dataframe tbody tr th:only-of-type {\n",
       "        vertical-align: middle;\n",
       "    }\n",
       "\n",
       "    .dataframe tbody tr th {\n",
       "        vertical-align: top;\n",
       "    }\n",
       "\n",
       "    .dataframe thead th {\n",
       "        text-align: right;\n",
       "    }\n",
       "</style>\n",
       "<table border=\"1\" class=\"dataframe\">\n",
       "  <thead>\n",
       "    <tr style=\"text-align: right;\">\n",
       "      <th></th>\n",
       "      <th>0.0</th>\n",
       "      <th>1.0</th>\n",
       "      <th>micro avg</th>\n",
       "      <th>macro avg</th>\n",
       "      <th>weighted avg</th>\n",
       "    </tr>\n",
       "  </thead>\n",
       "  <tbody>\n",
       "    <tr>\n",
       "      <th>f1-score</th>\n",
       "      <td>0.926</td>\n",
       "      <td>0.722</td>\n",
       "      <td>0.883</td>\n",
       "      <td>0.824</td>\n",
       "      <td>0.886</td>\n",
       "    </tr>\n",
       "    <tr>\n",
       "      <th>precision</th>\n",
       "      <td>0.941</td>\n",
       "      <td>0.681</td>\n",
       "      <td>0.883</td>\n",
       "      <td>0.811</td>\n",
       "      <td>0.890</td>\n",
       "    </tr>\n",
       "    <tr>\n",
       "      <th>recall</th>\n",
       "      <td>0.911</td>\n",
       "      <td>0.768</td>\n",
       "      <td>0.883</td>\n",
       "      <td>0.840</td>\n",
       "      <td>0.883</td>\n",
       "    </tr>\n",
       "    <tr>\n",
       "      <th>support</th>\n",
       "      <td>1296.000</td>\n",
       "      <td>319.000</td>\n",
       "      <td>1615.000</td>\n",
       "      <td>1615.000</td>\n",
       "      <td>1615.000</td>\n",
       "    </tr>\n",
       "  </tbody>\n",
       "</table>\n",
       "</div>"
      ],
      "text/plain": [
       "                0.0      1.0  micro avg  macro avg  weighted avg\n",
       "f1-score      0.926    0.722      0.883      0.824         0.886\n",
       "precision     0.941    0.681      0.883      0.811         0.890\n",
       "recall        0.911    0.768      0.883      0.840         0.883\n",
       "support    1296.000  319.000   1615.000   1615.000      1615.000"
      ]
     },
     "metadata": {},
     "output_type": "display_data"
    },
    {
     "name": "stderr",
     "output_type": "stream",
     "text": [
      "INFO - 2019-03-31 18:34:57,007 - instantiating class <class 'Transparency.model.modules.Encoder.Encoder'> from params {'vocab_size': 22316, 'embed_size': 200, 'type': 'rnn', 'hidden_size': 128, 'pre_embed': None} and extras {}\n",
      "INFO - 2019-03-31 18:34:57,007 - type = rnn\n",
      "INFO - 2019-03-31 18:34:57,007 - instantiating class <class 'Transparency.model.modules.Encoder.EncoderRNN'> from params {'vocab_size': 22316, 'embed_size': 200, 'hidden_size': 128, 'pre_embed': None} and extras {}\n",
      "INFO - 2019-03-31 18:34:57,008 - vocab_size = 22316\n",
      "INFO - 2019-03-31 18:34:57,008 - embed_size = 200\n",
      "INFO - 2019-03-31 18:34:57,008 - hidden_size = 128\n",
      "INFO - 2019-03-31 18:34:57,008 - pre_embed = None\n",
      "INFO - 2019-03-31 18:34:57,034 - instantiating class <class 'Transparency.model.modules.Decoder.AttnDecoder'> from params {'attention': {'type': 'dot'}, 'output_size': 1, 'hidden_size': 256} and extras {}\n",
      "INFO - 2019-03-31 18:34:57,035 - hidden_size = 256\n",
      "INFO - 2019-03-31 18:34:57,035 - output_size = 1\n",
      "INFO - 2019-03-31 18:34:57,035 - use_attention = True\n",
      "INFO - 2019-03-31 18:34:57,036 - regularizer_attention = None\n",
      "INFO - 2019-03-31 18:34:57,036 - instantiating class <class 'Transparency.model.modules.Attention.Attention'> from params <allennlp.common.params.Params object at 0x7f66862127f0> and extras {}\n",
      "INFO - 2019-03-31 18:34:57,036 - attention.type = dot\n",
      "INFO - 2019-03-31 18:34:57,037 - type = dot\n",
      "INFO - 2019-03-31 18:34:57,037 - instantiating class <class 'Transparency.model.modules.Attention.DotAttention'> from params <allennlp.common.params.Params object at 0x7f66862127f0> and extras {}\n",
      "INFO - 2019-03-31 18:34:57,037 - attention.hidden_size = 256\n",
      "INFO - 2019-03-31 18:34:57,038 - hidden_size = 256\n"
     ]
    },
    {
     "name": "stdout",
     "output_type": "stream",
     "text": [
      "Model not saved on  roc_auc 0.9137906846240179\n",
      "\n"
     ]
    },
    {
     "data": {
      "application/vnd.jupyter.widget-view+json": {
       "model_id": "4737323ecc554cdc814ccc8aaaef65e9",
       "version_major": 2,
       "version_minor": 0
      },
      "text/plain": [
       "HBox(children=(IntProgress(value=0, max=51), HTML(value='')))"
      ]
     },
     "metadata": {},
     "output_type": "display_data"
    },
    {
     "name": "stdout",
     "output_type": "stream",
     "text": [
      "\n",
      "{'accuracy': 0.8613003095975232, 'roc_auc': 0.9138511552304656, 'pr_auc': 0.7007462353767253}\n"
     ]
    },
    {
     "data": {
      "text/html": [
       "<div>\n",
       "<style scoped>\n",
       "    .dataframe tbody tr th:only-of-type {\n",
       "        vertical-align: middle;\n",
       "    }\n",
       "\n",
       "    .dataframe tbody tr th {\n",
       "        vertical-align: top;\n",
       "    }\n",
       "\n",
       "    .dataframe thead th {\n",
       "        text-align: right;\n",
       "    }\n",
       "</style>\n",
       "<table border=\"1\" class=\"dataframe\">\n",
       "  <thead>\n",
       "    <tr style=\"text-align: right;\">\n",
       "      <th></th>\n",
       "      <th>0.0</th>\n",
       "      <th>1.0</th>\n",
       "      <th>micro avg</th>\n",
       "      <th>macro avg</th>\n",
       "      <th>weighted avg</th>\n",
       "    </tr>\n",
       "  </thead>\n",
       "  <tbody>\n",
       "    <tr>\n",
       "      <th>f1-score</th>\n",
       "      <td>0.909</td>\n",
       "      <td>0.709</td>\n",
       "      <td>0.861</td>\n",
       "      <td>0.809</td>\n",
       "      <td>0.869</td>\n",
       "    </tr>\n",
       "    <tr>\n",
       "      <th>precision</th>\n",
       "      <td>0.960</td>\n",
       "      <td>0.605</td>\n",
       "      <td>0.861</td>\n",
       "      <td>0.783</td>\n",
       "      <td>0.890</td>\n",
       "    </tr>\n",
       "    <tr>\n",
       "      <th>recall</th>\n",
       "      <td>0.863</td>\n",
       "      <td>0.856</td>\n",
       "      <td>0.861</td>\n",
       "      <td>0.859</td>\n",
       "      <td>0.861</td>\n",
       "    </tr>\n",
       "    <tr>\n",
       "      <th>support</th>\n",
       "      <td>1296.000</td>\n",
       "      <td>319.000</td>\n",
       "      <td>1615.000</td>\n",
       "      <td>1615.000</td>\n",
       "      <td>1615.000</td>\n",
       "    </tr>\n",
       "  </tbody>\n",
       "</table>\n",
       "</div>"
      ],
      "text/plain": [
       "                0.0      1.0  micro avg  macro avg  weighted avg\n",
       "f1-score      0.909    0.709      0.861      0.809         0.869\n",
       "precision     0.960    0.605      0.861      0.783         0.890\n",
       "recall        0.863    0.856      0.861      0.859         0.861\n",
       "support    1296.000  319.000   1615.000   1615.000      1615.000"
      ]
     },
     "metadata": {},
     "output_type": "display_data"
    },
    {
     "name": "stderr",
     "output_type": "stream",
     "text": [
      "INFO - 2019-03-31 18:35:00,844 - instantiating class <class 'Transparency.model.modules.Encoder.Encoder'> from params {'vocab_size': 22316, 'embed_size': 200, 'kernel_sizes': [1, 3, 5, 7], 'hidden_size': 64, 'activation': 'relu', 'type': 'cnn', 'pre_embed': None} and extras {}\n",
      "INFO - 2019-03-31 18:35:00,844 - type = cnn\n",
      "INFO - 2019-03-31 18:35:00,845 - instantiating class <class 'Transparency.model.modules.Encoder.EncoderCNN'> from params {'vocab_size': 22316, 'embed_size': 200, 'kernel_sizes': [1, 3, 5, 7], 'hidden_size': 64, 'activation': 'relu', 'pre_embed': None} and extras {}\n",
      "INFO - 2019-03-31 18:35:00,845 - vocab_size = 22316\n",
      "INFO - 2019-03-31 18:35:00,845 - embed_size = 200\n",
      "INFO - 2019-03-31 18:35:00,845 - hidden_size = 64\n",
      "INFO - 2019-03-31 18:35:00,846 - kernel_sizes = [1, 3, 5, 7]\n",
      "INFO - 2019-03-31 18:35:00,846 - activation = relu\n",
      "INFO - 2019-03-31 18:35:00,846 - pre_embed = None\n",
      "INFO - 2019-03-31 18:35:00,873 - instantiating class <class 'Transparency.model.modules.Decoder.AttnDecoder'> from params {'attention': {'type': 'dot'}, 'output_size': 1, 'hidden_size': 256} and extras {}\n",
      "INFO - 2019-03-31 18:35:00,873 - hidden_size = 256\n",
      "INFO - 2019-03-31 18:35:00,873 - output_size = 1\n",
      "INFO - 2019-03-31 18:35:00,874 - use_attention = True\n",
      "INFO - 2019-03-31 18:35:00,874 - regularizer_attention = None\n",
      "INFO - 2019-03-31 18:35:00,875 - instantiating class <class 'Transparency.model.modules.Attention.Attention'> from params <allennlp.common.params.Params object at 0x7f66ebcd52b0> and extras {}\n",
      "INFO - 2019-03-31 18:35:00,875 - attention.type = dot\n",
      "INFO - 2019-03-31 18:35:00,875 - type = dot\n",
      "INFO - 2019-03-31 18:35:00,875 - instantiating class <class 'Transparency.model.modules.Attention.DotAttention'> from params <allennlp.common.params.Params object at 0x7f66ebcd52b0> and extras {}\n",
      "INFO - 2019-03-31 18:35:00,876 - attention.hidden_size = 256\n",
      "INFO - 2019-03-31 18:35:00,876 - hidden_size = 256\n"
     ]
    },
    {
     "data": {
      "application/vnd.jupyter.widget-view+json": {
       "model_id": "7b546ee8d530425b86a78471c56d4ed5",
       "version_major": 2,
       "version_minor": 0
      },
      "text/plain": [
       "HBox(children=(IntProgress(value=0, max=51), HTML(value='')))"
      ]
     },
     "metadata": {},
     "output_type": "display_data"
    },
    {
     "name": "stdout",
     "output_type": "stream",
     "text": [
      "\n",
      "{'accuracy': 0.8854489164086687, 'roc_auc': 0.9320576454197145, 'pr_auc': 0.7983649163996849}\n"
     ]
    },
    {
     "data": {
      "text/html": [
       "<div>\n",
       "<style scoped>\n",
       "    .dataframe tbody tr th:only-of-type {\n",
       "        vertical-align: middle;\n",
       "    }\n",
       "\n",
       "    .dataframe tbody tr th {\n",
       "        vertical-align: top;\n",
       "    }\n",
       "\n",
       "    .dataframe thead th {\n",
       "        text-align: right;\n",
       "    }\n",
       "</style>\n",
       "<table border=\"1\" class=\"dataframe\">\n",
       "  <thead>\n",
       "    <tr style=\"text-align: right;\">\n",
       "      <th></th>\n",
       "      <th>0.0</th>\n",
       "      <th>1.0</th>\n",
       "      <th>micro avg</th>\n",
       "      <th>macro avg</th>\n",
       "      <th>weighted avg</th>\n",
       "    </tr>\n",
       "  </thead>\n",
       "  <tbody>\n",
       "    <tr>\n",
       "      <th>f1-score</th>\n",
       "      <td>0.925</td>\n",
       "      <td>0.752</td>\n",
       "      <td>0.885</td>\n",
       "      <td>0.839</td>\n",
       "      <td>0.891</td>\n",
       "    </tr>\n",
       "    <tr>\n",
       "      <th>precision</th>\n",
       "      <td>0.968</td>\n",
       "      <td>0.657</td>\n",
       "      <td>0.885</td>\n",
       "      <td>0.812</td>\n",
       "      <td>0.906</td>\n",
       "    </tr>\n",
       "    <tr>\n",
       "      <th>recall</th>\n",
       "      <td>0.887</td>\n",
       "      <td>0.881</td>\n",
       "      <td>0.885</td>\n",
       "      <td>0.884</td>\n",
       "      <td>0.885</td>\n",
       "    </tr>\n",
       "    <tr>\n",
       "      <th>support</th>\n",
       "      <td>1296.000</td>\n",
       "      <td>319.000</td>\n",
       "      <td>1615.000</td>\n",
       "      <td>1615.000</td>\n",
       "      <td>1615.000</td>\n",
       "    </tr>\n",
       "  </tbody>\n",
       "</table>\n",
       "</div>"
      ],
      "text/plain": [
       "                0.0      1.0  micro avg  macro avg  weighted avg\n",
       "f1-score      0.925    0.752      0.885      0.839         0.891\n",
       "precision     0.968    0.657      0.885      0.812         0.906\n",
       "recall        0.887    0.881      0.885      0.884         0.885\n",
       "support    1296.000  319.000   1615.000   1615.000      1615.000"
      ]
     },
     "metadata": {},
     "output_type": "display_data"
    },
    {
     "data": {
      "application/vnd.jupyter.widget-view+json": {
       "model_id": "8c23a12228a14793ab95605529a9fb43",
       "version_major": 2,
       "version_minor": 0
      },
      "text/plain": [
       "HBox(children=(IntProgress(value=0, max=51), HTML(value='')))"
      ]
     },
     "metadata": {},
     "output_type": "display_data"
    },
    {
     "name": "stdout",
     "output_type": "stream",
     "text": [
      "\n"
     ]
    },
    {
     "data": {
      "application/vnd.jupyter.widget-view+json": {
       "model_id": "caf670e8bfcd4b57ba1902744c66254b",
       "version_major": 2,
       "version_minor": 0
      },
      "text/plain": [
       "HBox(children=(IntProgress(value=0, max=51), HTML(value='')))"
      ]
     },
     "metadata": {},
     "output_type": "display_data"
    },
    {
     "name": "stdout",
     "output_type": "stream",
     "text": [
      "\n"
     ]
    },
    {
     "data": {
      "application/vnd.jupyter.widget-view+json": {
       "model_id": "bf87faf8bb684fef8321327ec254ec03",
       "version_major": 2,
       "version_minor": 0
      },
      "text/plain": [
       "HBox(children=(IntProgress(value=0, max=51), HTML(value='')))"
      ]
     },
     "metadata": {},
     "output_type": "display_data"
    },
    {
     "name": "stdout",
     "output_type": "stream",
     "text": [
      "\n"
     ]
    },
    {
     "data": {
      "application/vnd.jupyter.widget-view+json": {
       "model_id": "26dbf013580d445daac58d575e023696",
       "version_major": 2,
       "version_minor": 0
      },
      "text/plain": [
       "HBox(children=(IntProgress(value=0, max=51), HTML(value='')))"
      ]
     },
     "metadata": {},
     "output_type": "display_data"
    },
    {
     "name": "stdout",
     "output_type": "stream",
     "text": [
      "\n"
     ]
    },
    {
     "name": "stderr",
     "output_type": "stream",
     "text": [
      "INFO - 2019-03-31 19:17:29,671 - instantiating class <class 'Transparency.model.modules.Encoder.Encoder'> from params {'vocab_size': 22316, 'embed_size': 200, 'projection': True, 'hidden_size': 128, 'activation': 'tanh', 'type': 'average', 'pre_embed': None} and extras {}\n",
      "INFO - 2019-03-31 19:17:29,671 - type = average\n",
      "INFO - 2019-03-31 19:17:29,672 - instantiating class <class 'Transparency.model.modules.Encoder.EncoderAverage'> from params {'vocab_size': 22316, 'embed_size': 200, 'projection': True, 'hidden_size': 128, 'activation': 'tanh', 'pre_embed': None} and extras {}\n",
      "INFO - 2019-03-31 19:17:29,672 - vocab_size = 22316\n",
      "INFO - 2019-03-31 19:17:29,672 - embed_size = 200\n",
      "INFO - 2019-03-31 19:17:29,673 - projection = True\n",
      "INFO - 2019-03-31 19:17:29,673 - hidden_size = 128\n",
      "INFO - 2019-03-31 19:17:29,673 - activation = tanh\n",
      "INFO - 2019-03-31 19:17:29,673 - pre_embed = None\n",
      "INFO - 2019-03-31 19:17:29,702 - instantiating class <class 'Transparency.model.modules.Decoder.AttnDecoder'> from params {'attention': {'type': 'dot'}, 'output_size': 1, 'hidden_size': 128} and extras {}\n",
      "INFO - 2019-03-31 19:17:29,702 - hidden_size = 128\n",
      "INFO - 2019-03-31 19:17:29,702 - output_size = 1\n",
      "INFO - 2019-03-31 19:17:29,702 - use_attention = True\n",
      "INFO - 2019-03-31 19:17:29,703 - regularizer_attention = None\n",
      "INFO - 2019-03-31 19:17:29,704 - instantiating class <class 'Transparency.model.modules.Attention.Attention'> from params <allennlp.common.params.Params object at 0x7f66ebb91630> and extras {}\n",
      "INFO - 2019-03-31 19:17:29,704 - attention.type = dot\n",
      "INFO - 2019-03-31 19:17:29,704 - type = dot\n",
      "INFO - 2019-03-31 19:17:29,704 - instantiating class <class 'Transparency.model.modules.Attention.DotAttention'> from params <allennlp.common.params.Params object at 0x7f66ebb91630> and extras {}\n",
      "INFO - 2019-03-31 19:17:29,705 - attention.hidden_size = 128\n",
      "INFO - 2019-03-31 19:17:29,705 - hidden_size = 128\n"
     ]
    },
    {
     "data": {
      "application/vnd.jupyter.widget-view+json": {
       "model_id": "a1651f04797e409aaca13d0234cabb27",
       "version_major": 2,
       "version_minor": 0
      },
      "text/plain": [
       "HBox(children=(IntProgress(value=0, max=51), HTML(value='')))"
      ]
     },
     "metadata": {},
     "output_type": "display_data"
    },
    {
     "name": "stdout",
     "output_type": "stream",
     "text": [
      "\n",
      "{'accuracy': 0.8086687306501548, 'roc_auc': 0.7928156081891715, 'pr_auc': 0.5004003354443346}\n"
     ]
    },
    {
     "data": {
      "text/html": [
       "<div>\n",
       "<style scoped>\n",
       "    .dataframe tbody tr th:only-of-type {\n",
       "        vertical-align: middle;\n",
       "    }\n",
       "\n",
       "    .dataframe tbody tr th {\n",
       "        vertical-align: top;\n",
       "    }\n",
       "\n",
       "    .dataframe thead th {\n",
       "        text-align: right;\n",
       "    }\n",
       "</style>\n",
       "<table border=\"1\" class=\"dataframe\">\n",
       "  <thead>\n",
       "    <tr style=\"text-align: right;\">\n",
       "      <th></th>\n",
       "      <th>0.0</th>\n",
       "      <th>1.0</th>\n",
       "      <th>micro avg</th>\n",
       "      <th>macro avg</th>\n",
       "      <th>weighted avg</th>\n",
       "    </tr>\n",
       "  </thead>\n",
       "  <tbody>\n",
       "    <tr>\n",
       "      <th>f1-score</th>\n",
       "      <td>0.880</td>\n",
       "      <td>0.531</td>\n",
       "      <td>0.809</td>\n",
       "      <td>0.705</td>\n",
       "      <td>0.811</td>\n",
       "    </tr>\n",
       "    <tr>\n",
       "      <th>precision</th>\n",
       "      <td>0.887</td>\n",
       "      <td>0.515</td>\n",
       "      <td>0.809</td>\n",
       "      <td>0.701</td>\n",
       "      <td>0.814</td>\n",
       "    </tr>\n",
       "    <tr>\n",
       "      <th>recall</th>\n",
       "      <td>0.873</td>\n",
       "      <td>0.549</td>\n",
       "      <td>0.809</td>\n",
       "      <td>0.711</td>\n",
       "      <td>0.809</td>\n",
       "    </tr>\n",
       "    <tr>\n",
       "      <th>support</th>\n",
       "      <td>1296.000</td>\n",
       "      <td>319.000</td>\n",
       "      <td>1615.000</td>\n",
       "      <td>1615.000</td>\n",
       "      <td>1615.000</td>\n",
       "    </tr>\n",
       "  </tbody>\n",
       "</table>\n",
       "</div>"
      ],
      "text/plain": [
       "                0.0      1.0  micro avg  macro avg  weighted avg\n",
       "f1-score      0.880    0.531      0.809      0.705         0.811\n",
       "precision     0.887    0.515      0.809      0.701         0.814\n",
       "recall        0.873    0.549      0.809      0.711         0.809\n",
       "support    1296.000  319.000   1615.000   1615.000      1615.000"
      ]
     },
     "metadata": {},
     "output_type": "display_data"
    },
    {
     "data": {
      "application/vnd.jupyter.widget-view+json": {
       "model_id": "de5b02b5f50a49f980912c7850e666b8",
       "version_major": 2,
       "version_minor": 0
      },
      "text/plain": [
       "HBox(children=(IntProgress(value=0, max=51), HTML(value='')))"
      ]
     },
     "metadata": {},
     "output_type": "display_data"
    },
    {
     "name": "stdout",
     "output_type": "stream",
     "text": [
      "\n"
     ]
    },
    {
     "data": {
      "application/vnd.jupyter.widget-view+json": {
       "model_id": "b825134e3e7c46a9972ff5c3cdf8a2cf",
       "version_major": 2,
       "version_minor": 0
      },
      "text/plain": [
       "HBox(children=(IntProgress(value=0, max=51), HTML(value='')))"
      ]
     },
     "metadata": {},
     "output_type": "display_data"
    },
    {
     "name": "stdout",
     "output_type": "stream",
     "text": [
      "\n"
     ]
    },
    {
     "data": {
      "application/vnd.jupyter.widget-view+json": {
       "model_id": "bd1df51aa9c144f289c1d7fe398dca57",
       "version_major": 2,
       "version_minor": 0
      },
      "text/plain": [
       "HBox(children=(IntProgress(value=0, max=51), HTML(value='')))"
      ]
     },
     "metadata": {},
     "output_type": "display_data"
    },
    {
     "name": "stdout",
     "output_type": "stream",
     "text": [
      "\n"
     ]
    },
    {
     "data": {
      "application/vnd.jupyter.widget-view+json": {
       "model_id": "973b95988ff14e718bcff4dda0ac1e11",
       "version_major": 2,
       "version_minor": 0
      },
      "text/plain": [
       "HBox(children=(IntProgress(value=0, max=51), HTML(value='')))"
      ]
     },
     "metadata": {},
     "output_type": "display_data"
    },
    {
     "name": "stdout",
     "output_type": "stream",
     "text": [
      "\n"
     ]
    },
    {
     "name": "stderr",
     "output_type": "stream",
     "text": [
      "INFO - 2019-03-31 19:39:23,375 - instantiating class <class 'Transparency.model.modules.Encoder.Encoder'> from params {'vocab_size': 22316, 'embed_size': 200, 'type': 'rnn', 'hidden_size': 128, 'pre_embed': None} and extras {}\n",
      "INFO - 2019-03-31 19:39:23,375 - type = rnn\n",
      "INFO - 2019-03-31 19:39:23,376 - instantiating class <class 'Transparency.model.modules.Encoder.EncoderRNN'> from params {'vocab_size': 22316, 'embed_size': 200, 'hidden_size': 128, 'pre_embed': None} and extras {}\n",
      "INFO - 2019-03-31 19:39:23,376 - vocab_size = 22316\n",
      "INFO - 2019-03-31 19:39:23,376 - embed_size = 200\n",
      "INFO - 2019-03-31 19:39:23,377 - hidden_size = 128\n",
      "INFO - 2019-03-31 19:39:23,377 - pre_embed = None\n",
      "INFO - 2019-03-31 19:39:23,404 - instantiating class <class 'Transparency.model.modules.Decoder.AttnDecoder'> from params {'attention': {'type': 'dot'}, 'output_size': 1, 'hidden_size': 256} and extras {}\n",
      "INFO - 2019-03-31 19:39:23,405 - hidden_size = 256\n",
      "INFO - 2019-03-31 19:39:23,405 - output_size = 1\n",
      "INFO - 2019-03-31 19:39:23,405 - use_attention = True\n",
      "INFO - 2019-03-31 19:39:23,405 - regularizer_attention = None\n",
      "INFO - 2019-03-31 19:39:23,406 - instantiating class <class 'Transparency.model.modules.Attention.Attention'> from params <allennlp.common.params.Params object at 0x7f66ed1739e8> and extras {}\n",
      "INFO - 2019-03-31 19:39:23,407 - attention.type = dot\n",
      "INFO - 2019-03-31 19:39:23,407 - type = dot\n",
      "INFO - 2019-03-31 19:39:23,407 - instantiating class <class 'Transparency.model.modules.Attention.DotAttention'> from params <allennlp.common.params.Params object at 0x7f66ed1739e8> and extras {}\n",
      "INFO - 2019-03-31 19:39:23,407 - attention.hidden_size = 256\n",
      "INFO - 2019-03-31 19:39:23,408 - hidden_size = 256\n"
     ]
    },
    {
     "data": {
      "application/vnd.jupyter.widget-view+json": {
       "model_id": "8e30ec2df45340e18e6ffca815e1e0c9",
       "version_major": 2,
       "version_minor": 0
      },
      "text/plain": [
       "HBox(children=(IntProgress(value=0, max=51), HTML(value='')))"
      ]
     },
     "metadata": {},
     "output_type": "display_data"
    },
    {
     "name": "stdout",
     "output_type": "stream",
     "text": [
      "\n",
      "{'accuracy': 0.8613003095975232, 'roc_auc': 0.9138511552304656, 'pr_auc': 0.7007462353767253}\n"
     ]
    },
    {
     "data": {
      "text/html": [
       "<div>\n",
       "<style scoped>\n",
       "    .dataframe tbody tr th:only-of-type {\n",
       "        vertical-align: middle;\n",
       "    }\n",
       "\n",
       "    .dataframe tbody tr th {\n",
       "        vertical-align: top;\n",
       "    }\n",
       "\n",
       "    .dataframe thead th {\n",
       "        text-align: right;\n",
       "    }\n",
       "</style>\n",
       "<table border=\"1\" class=\"dataframe\">\n",
       "  <thead>\n",
       "    <tr style=\"text-align: right;\">\n",
       "      <th></th>\n",
       "      <th>0.0</th>\n",
       "      <th>1.0</th>\n",
       "      <th>micro avg</th>\n",
       "      <th>macro avg</th>\n",
       "      <th>weighted avg</th>\n",
       "    </tr>\n",
       "  </thead>\n",
       "  <tbody>\n",
       "    <tr>\n",
       "      <th>f1-score</th>\n",
       "      <td>0.909</td>\n",
       "      <td>0.709</td>\n",
       "      <td>0.861</td>\n",
       "      <td>0.809</td>\n",
       "      <td>0.869</td>\n",
       "    </tr>\n",
       "    <tr>\n",
       "      <th>precision</th>\n",
       "      <td>0.960</td>\n",
       "      <td>0.605</td>\n",
       "      <td>0.861</td>\n",
       "      <td>0.783</td>\n",
       "      <td>0.890</td>\n",
       "    </tr>\n",
       "    <tr>\n",
       "      <th>recall</th>\n",
       "      <td>0.863</td>\n",
       "      <td>0.856</td>\n",
       "      <td>0.861</td>\n",
       "      <td>0.859</td>\n",
       "      <td>0.861</td>\n",
       "    </tr>\n",
       "    <tr>\n",
       "      <th>support</th>\n",
       "      <td>1296.000</td>\n",
       "      <td>319.000</td>\n",
       "      <td>1615.000</td>\n",
       "      <td>1615.000</td>\n",
       "      <td>1615.000</td>\n",
       "    </tr>\n",
       "  </tbody>\n",
       "</table>\n",
       "</div>"
      ],
      "text/plain": [
       "                0.0      1.0  micro avg  macro avg  weighted avg\n",
       "f1-score      0.909    0.709      0.861      0.809         0.869\n",
       "precision     0.960    0.605      0.861      0.783         0.890\n",
       "recall        0.863    0.856      0.861      0.859         0.861\n",
       "support    1296.000  319.000   1615.000   1615.000      1615.000"
      ]
     },
     "metadata": {},
     "output_type": "display_data"
    },
    {
     "data": {
      "application/vnd.jupyter.widget-view+json": {
       "model_id": "bef602bd2c09457d8fdeff87eb8b0432",
       "version_major": 2,
       "version_minor": 0
      },
      "text/plain": [
       "HBox(children=(IntProgress(value=0, max=51), HTML(value='')))"
      ]
     },
     "metadata": {},
     "output_type": "display_data"
    },
    {
     "name": "stdout",
     "output_type": "stream",
     "text": [
      "\n"
     ]
    },
    {
     "data": {
      "application/vnd.jupyter.widget-view+json": {
       "model_id": "47eae24cfa81462384602a57f06f0213",
       "version_major": 2,
       "version_minor": 0
      },
      "text/plain": [
       "HBox(children=(IntProgress(value=0, max=51), HTML(value='')))"
      ]
     },
     "metadata": {},
     "output_type": "display_data"
    },
    {
     "name": "stdout",
     "output_type": "stream",
     "text": [
      "\n"
     ]
    },
    {
     "data": {
      "application/vnd.jupyter.widget-view+json": {
       "model_id": "19f4f6b50cad4294a1f8c93589f4de67",
       "version_major": 2,
       "version_minor": 0
      },
      "text/plain": [
       "HBox(children=(IntProgress(value=0, max=51), HTML(value='')))"
      ]
     },
     "metadata": {},
     "output_type": "display_data"
    },
    {
     "name": "stdout",
     "output_type": "stream",
     "text": [
      "\n"
     ]
    },
    {
     "data": {
      "application/vnd.jupyter.widget-view+json": {
       "model_id": "ae8ed5cae0a647b49a69b6f9ed58d215",
       "version_major": 2,
       "version_minor": 0
      },
      "text/plain": [
       "HBox(children=(IntProgress(value=0, max=51), HTML(value='')))"
      ]
     },
     "metadata": {},
     "output_type": "display_data"
    },
    {
     "name": "stdout",
     "output_type": "stream",
     "text": [
      "\n"
     ]
    }
   ],
   "source": [
    "for dataset in ['Diabetes'] :\n",
    "    %run train_and_run_experiments_bc.py --dataset {dataset} --data_dir='.' --output_dir='outputs/' --attention=dot"
   ]
  },
  {
   "cell_type": "code",
   "execution_count": null,
   "metadata": {},
   "outputs": [],
   "source": []
  }
 ],
 "metadata": {
  "kernelspec": {
   "display_name": "Python 3",
   "language": "python",
   "name": "python3"
  },
  "language_info": {
   "codemirror_mode": {
    "name": "ipython",
    "version": 3
   },
   "file_extension": ".py",
   "mimetype": "text/x-python",
   "name": "python",
   "nbconvert_exporter": "python",
   "pygments_lexer": "ipython3",
   "version": "3.7.1"
  }
 },
 "nbformat": 4,
 "nbformat_minor": 2
}

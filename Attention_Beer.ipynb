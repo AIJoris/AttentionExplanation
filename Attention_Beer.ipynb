{
 "cells": [
  {
   "cell_type": "code",
   "execution_count": 1,
   "metadata": {},
   "outputs": [],
   "source": [
    "%load_ext autoreload\n",
    "%autoreload 2\n",
    "%config InlineBackend.figure_format = 'retina'\n",
    "\n",
    "from Utils import exec_jupyter\n",
    "exec_jupyter()"
   ]
  },
  {
   "cell_type": "code",
   "execution_count": null,
   "metadata": {},
   "outputs": [],
   "source": [
    "import numpy as np\n",
    "import pandas as pd\n",
    "from tqdm import tqdm_notebook, tqdm\n",
    "import matplotlib.pyplot as plt\n",
    "import seaborn as sns\n",
    "from sklearn.metrics import classification_report\n",
    "np.set_printoptions(suppress=True)"
   ]
  },
  {
   "cell_type": "code",
   "execution_count": null,
   "metadata": {},
   "outputs": [],
   "source": [
    "from DataGenBeer import DataGen\n",
    "dg = DataGen()"
   ]
  },
  {
   "cell_type": "code",
   "execution_count": null,
   "metadata": {},
   "outputs": [],
   "source": [
    "import model.CNN_beer_sent as CNN\n",
    "Model = CNN.Model"
   ]
  },
  {
   "cell_type": "code",
   "execution_count": null,
   "metadata": {},
   "outputs": [],
   "source": [
    "vocab_size = dg.vecs.vocab_size\n",
    "embed_size = dg.vecs.word_dim"
   ]
  },
  {
   "cell_type": "code",
   "execution_count": null,
   "metadata": {},
   "outputs": [],
   "source": [
    "model = Model(vocab_size, embed_size, 32, dirname='beer', pre_embed=dg.vecs.embeddings)"
   ]
  },
  {
   "cell_type": "code",
   "execution_count": null,
   "metadata": {},
   "outputs": [],
   "source": [
    "X, y = dg.get_training_data('overall')"
   ]
  },
  {
   "cell_type": "code",
   "execution_count": null,
   "metadata": {},
   "outputs": [],
   "source": [
    "Xt, yt = dg.get_test_data('overall')"
   ]
  },
  {
   "cell_type": "code",
   "execution_count": null,
   "metadata": {},
   "outputs": [],
   "source": [
    "def train(model, name) :\n",
    "    for i in tqdm_notebook(range(4)) :\n",
    "        if name.startswith('normal') :\n",
    "            correct=False\n",
    "        else :\n",
    "            if i >= 1 :\n",
    "                correct=True\n",
    "            else :\n",
    "                correct=False\n",
    "        loss = model.train(X, y, correct=correct)\n",
    "        print(loss)\n",
    "        o, he = model.evaluate(Xt)\n",
    "        o = np.array(o)\n",
    "        rep = classification_report(yt, (o > 0.5))\n",
    "        print(rep)\n",
    "        stmt = '%s, %s' % (i, loss)\n",
    "        dirname = model.save_values(add_name=name)\n",
    "        f = open(dirname + '/epoch.txt', 'a')\n",
    "        f.write(stmt + '\\n')\n",
    "        f.write(rep + '\\n')\n",
    "        f.close()"
   ]
  },
  {
   "cell_type": "code",
   "execution_count": null,
   "metadata": {},
   "outputs": [],
   "source": [
    "model.load_values('outputs/attnexp_cnn_beer_MonMay2122:17:322018_kld_overall/')"
   ]
  },
  {
   "cell_type": "code",
   "execution_count": null,
   "metadata": {},
   "outputs": [],
   "source": [
    "model.load_values('outputs/attnexp_cnn_beer_MonMay2117:27:572018_normal_overall/')"
   ]
  },
  {
   "cell_type": "code",
   "execution_count": null,
   "metadata": {},
   "outputs": [],
   "source": [
    "train(model, name='kld_overall')"
   ]
  },
  {
   "cell_type": "code",
   "execution_count": null,
   "metadata": {},
   "outputs": [],
   "source": [
    "def load_model(dirname) :\n",
    "    model = Model(vocab_size, embed_size, 32, dirname='beer', pre_embed=dg.vecs.embeddings)\n",
    "    model.dirname = dirname\n",
    "    model.load_values(dirname)\n",
    "    return model"
   ]
  },
  {
   "cell_type": "code",
   "execution_count": null,
   "metadata": {},
   "outputs": [],
   "source": [
    "dirname_normal = 'outputs/attnexp_cnn_beer_MonMay2122:47:392018_normal_overall/'\n",
    "model_normal = load_model(dirname_normal)\n",
    "dirname_kld = 'outputs/attnexp_cnn_beer_MonMay2122:57:232018_kld_overall/'\n",
    "model_kld = load_model(dirname_kld)"
   ]
  },
  {
   "cell_type": "markdown",
   "metadata": {},
   "source": [
    "Evaluation\n",
    "=========="
   ]
  },
  {
   "cell_type": "code",
   "execution_count": null,
   "metadata": {},
   "outputs": [],
   "source": [
    "import matplotlib.ticker as ticker\n",
    "\n",
    "def showAttention(input_sentence, attentions):\n",
    "    # Set up figure with colorbar\n",
    "    fig = plt.figure(figsize=(8, 8))\n",
    "    ax = fig.add_subplot(111)\n",
    "    cax = ax.imshow(np.expand_dims(attentions, 0).T, cmap='bone', aspect='auto', vmin=0)\n",
    "    fig.colorbar(cax)\n",
    "\n",
    "    # Set up axes\n",
    "    ax.set_yticks(np.arange(len(input_sentence)))\n",
    "    ax.set_yticklabels(input_sentence)\n",
    "\n",
    "    plt.show()"
   ]
  },
  {
   "cell_type": "code",
   "execution_count": null,
   "metadata": {},
   "outputs": [],
   "source": [
    "np.random.seed(1230)\n",
    "test_idx = np.random.choice(range(len(Xt)), size=2000, replace=False)\n",
    "Xtest = [Xt[i] for i in test_idx]\n",
    "ytest = [yt[i] for i in test_idx]"
   ]
  },
  {
   "cell_type": "code",
   "execution_count": null,
   "metadata": {},
   "outputs": [],
   "source": [
    "import pickle\n",
    "def generate_sampled(model) :\n",
    "    attn_list = []\n",
    "    sampled_list = []\n",
    "    for i in tqdm_notebook(range(10)) :\n",
    "        _, attn, sampled = model.evaluate(Xtest, sample=True)\n",
    "        attn_list.append(attn)\n",
    "        sampled_list.append(sampled)\n",
    "        \n",
    "    pickle.dump([attn_list, sampled_list], open(model.dirname + '/sampled_1.p', 'wb'))\n",
    "        \n",
    "def load_sampled(model) :\n",
    "    attn_list, sampled_list = pickle.load(open(model.dirname + '/sampled_1.p', 'rb'))\n",
    "    attn = list(map(list, zip(*attn_list)))\n",
    "    attn = [np.array(x) for x in attn]\n",
    "    attn = [x.mean(0) for x in attn]\n",
    "\n",
    "    sampled = list(map(list, zip(*sampled_list)))\n",
    "    sampled = [np.array(x) for x in sampled]\n",
    "    sampled = [x.mean(0) for x in sampled]\n",
    "\n",
    "    model.attn = attn\n",
    "    model.sampled = sampled"
   ]
  },
  {
   "cell_type": "code",
   "execution_count": null,
   "metadata": {},
   "outputs": [],
   "source": [
    "generate_sampled(model_normal)\n",
    "generate_sampled(model_kld)"
   ]
  },
  {
   "cell_type": "code",
   "execution_count": null,
   "metadata": {},
   "outputs": [],
   "source": [
    "import pickle"
   ]
  },
  {
   "cell_type": "code",
   "execution_count": null,
   "metadata": {},
   "outputs": [],
   "source": [
    "load_sampled(model_normal)\n",
    "load_sampled(model_kld)"
   ]
  },
  {
   "cell_type": "code",
   "execution_count": null,
   "metadata": {},
   "outputs": [],
   "source": [
    "from scipy.stats import spearmanr, kendalltau\n",
    "from cycler import cycler\n",
    "import matplotlib.pyplot as plt\n",
    "\n",
    "plt.rc('lines', linewidth=2)\n",
    "line_cycle = cycler('linestyle', ['-', '--'])\n",
    "color_cycle = cycler('color', ['#1f78b4', '#33a02c'])\n",
    "marker_cycle = cycler('marker', ['+', '2'])\n",
    "\n",
    "def plot(attn, sampled, ax, name, marker) :\n",
    "    a = []\n",
    "    b = []\n",
    "    for i in range(len(attn)) :\n",
    "        for j in range(len(attn[i])) :\n",
    "            v = attn[i][j]\n",
    "            if v > 0.0 :\n",
    "                b += [sampled[i][j]]\n",
    "                a += [v]\n",
    "\n",
    "    a = np.array(a)\n",
    "    b = np.array(b)\n",
    "    print(spearmanr(a, b))\n",
    "    print(kendalltau(a, b))\n",
    "    print(np.corrcoef(a, b))\n",
    "    fit = np.polyfit(a, b, deg=1)\n",
    "    r = np.linspace(0, 1, 10)\n",
    "    ax.plot(r, fit[0] * r + fit[1], label=name + (r' ($\\rho$=%.3f'%np.corrcoef(a, b)[0, 1]) + ')')\n",
    "    ax.scatter(a, b, s=0.8, alpha=0.5, marker=marker)\n",
    "    ax.set_xlabel('Attention')\n",
    "    ax.set_ylabel('Expected Normalised KL divergence')"
   ]
  },
  {
   "cell_type": "code",
   "execution_count": null,
   "metadata": {},
   "outputs": [],
   "source": [
    "fig, ax = plt.subplots()\n",
    "ax.set_prop_cycle(line_cycle + color_cycle) # + marker_cycle)\n",
    "plot(model_normal.attn, model_normal.sampled, ax, name='Standard', marker='^')\n",
    "plot(model_kld.attn, model_kld.sampled, ax, name='Regularized', marker='*')\n",
    "ax.legend()\n",
    "plt.tight_layout()"
   ]
  },
  {
   "cell_type": "code",
   "execution_count": null,
   "metadata": {},
   "outputs": [],
   "source": [
    "plt.hist(a)"
   ]
  },
  {
   "cell_type": "code",
   "execution_count": null,
   "metadata": {},
   "outputs": [],
   "source": [
    "otest, hetest = model_normal.evaluate(Xtest)"
   ]
  },
  {
   "cell_type": "code",
   "execution_count": null,
   "metadata": {},
   "outputs": [],
   "source": [
    "def showAttention(fig, ax, input_sentence, attnn, kldn, attnk, kldk):\n",
    "\n",
    "    attentions = np.stack([attnn - kldn, attnk - kldk], axis=0)[:, :len(input_sentence)]\n",
    "    \n",
    "    im = ax.imshow(attentions.T, cmap='bwr', interpolation='none', vmin=-1, vmax=1)\n",
    "    cax = fig.colorbar(im)\n",
    "    \n",
    "    # Set up axes\n",
    "    ax.set_xticks([])\n",
    "    ax.set_xticklabels([])\n",
    "    \n",
    "    ax.set_yticks(np.arange(len(input_sentence)))\n",
    "    ax.set_yticklabels(input_sentence, fontsize=20)\n",
    "    ax.tick_params(axis=\"y\",direction=\"in\")\n",
    "    ax.yaxis.tick_right()\n",
    "    ax.yaxis.set_label_position(\"right\")"
   ]
  },
  {
   "cell_type": "code",
   "execution_count": null,
   "metadata": {},
   "outputs": [],
   "source": [
    "idxs = []\n",
    "for idx, (att, sm) in enumerate(zip(model_normal.attn, model_normal.sampled)) :\n",
    "    kld = (att * np.log((att + 1e-8)/(sm + 1e-8))).sum()\n",
    "    if kld != kld :\n",
    "        continue\n",
    "    if kld > 1. :\n",
    "        idxs.append(idx)"
   ]
  },
  {
   "cell_type": "code",
   "execution_count": null,
   "metadata": {},
   "outputs": [],
   "source": [
    "import matplotlib.backends.backend_pdf\n",
    "pdf = matplotlib.backends.backend_pdf.PdfPages(\"output_beer.pdf\")\n",
    "for i in idxs :\n",
    "    n = i\n",
    "    words = [\" \".join([dg.vecs.idx2word[w] for w in x]) for x in Xtest[n]]   \n",
    "    fig, axes = plt.subplots(nrows=1, ncols=1, figsize=(8, 8))        \n",
    "    showAttention(fig, axes, words, model_normal.attn[n], model_normal.sampled[n], model_kld.attn[n], model_kld.sampled[n])\n",
    "    pdf.savefig(fig, bbox_inches='tight')\n",
    "pdf.close()"
   ]
  },
  {
   "cell_type": "code",
   "execution_count": null,
   "metadata": {},
   "outputs": [],
   "source": []
  }
 ],
 "metadata": {
  "kernelspec": {
   "display_name": "Python 3",
   "language": "python",
   "name": "python3"
  },
  "language_info": {
   "codemirror_mode": {
    "name": "ipython",
    "version": 3
   },
   "file_extension": ".py",
   "mimetype": "text/x-python",
   "name": "python",
   "nbconvert_exporter": "python",
   "pygments_lexer": "ipython3",
   "version": "3.7.0"
  }
 },
 "nbformat": 4,
 "nbformat_minor": 2
}

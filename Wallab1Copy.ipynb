{
 "cells": [
  {
   "cell_type": "code",
   "execution_count": null,
   "metadata": {},
   "outputs": [],
   "source": [
    "for dataset in ['sst', '20News_sports', 'tweet', 'AgNews'] :\n",
    "    %run train_and_run_experiments_bc.py --dataset {dataset} --data_dir='.' --output_dir='outputs/' --attention=tanh"
   ]
  },
  {
   "cell_type": "code",
   "execution_count": null,
   "metadata": {},
   "outputs": [],
   "source": [
    "for dataset in ['sst', '20News_sports', 'tweet', 'AgNews'] :\n",
    "    %run train_and_run_experiments_bc.py --dataset {dataset} --data_dir='.' --output_dir='outputs/' --attention=dot"
   ]
  },
  {
   "cell_type": "code",
   "execution_count": null,
   "metadata": {},
   "outputs": [],
   "source": [
    "for dataset in ['cnn'] :\n",
    "    %run train_and_run_experiments_qa.py --dataset {dataset} --data_dir='.' --output_dir='outputs/' --attention=tanh"
   ]
  },
  {
   "cell_type": "code",
   "execution_count": null,
   "metadata": {},
   "outputs": [
    {
     "name": "stderr",
     "output_type": "stream",
     "text": [
      "/home/ramin/anaconda3/lib/python3.6/site-packages/sklearn/base.py:251: UserWarning: Trying to unpickle estimator CountVectorizer from version 0.20.0 when using version 0.20.2. This might lead to breaking code or invalid results. Use at your own risk.\n",
      "  UserWarning)\n",
      "/home/ramin/anaconda3/lib/python3.6/site-packages/allennlp/common/params.py:512: FutureWarning: elementwise comparison failed; returning scalar instead, but in the future will perform elementwise comparison\n",
      "  if dictionary[key] == \"None\":\n",
      "INFO - 2019-04-01 12:22:56,929 - instantiating class <class 'Transparency.model.modules.Encoder.Encoder'> from params {'vocab_size': 74790, 'embed_size': 300, 'kernel_sizes': (1, 3, 5, 7), 'hidden_size': 64, 'activation': 'relu', 'type': 'cnn', 'pre_embed': array([[0., 0., 0., ..., 0., 0., 0.],\n",
      "       [0., 0., 0., ..., 0., 0., 0.],\n",
      "       [0., 0., 0., ..., 0., 0., 0.],\n",
      "       ...,\n",
      "       [0., 0., 0., ..., 0., 0., 0.],\n",
      "       [0., 0., 0., ..., 0., 0., 0.],\n",
      "       [0., 0., 0., ..., 0., 0., 0.]])} and extras {}\n",
      "INFO - 2019-04-01 12:22:56,929 - type = cnn\n",
      "INFO - 2019-04-01 12:22:56,930 - instantiating class <class 'Transparency.model.modules.Encoder.EncoderCNN'> from params {'vocab_size': 74790, 'embed_size': 300, 'kernel_sizes': (1, 3, 5, 7), 'hidden_size': 64, 'activation': 'relu', 'pre_embed': array([[0., 0., 0., ..., 0., 0., 0.],\n",
      "       [0., 0., 0., ..., 0., 0., 0.],\n",
      "       [0., 0., 0., ..., 0., 0., 0.],\n",
      "       ...,\n",
      "       [0., 0., 0., ..., 0., 0., 0.],\n",
      "       [0., 0., 0., ..., 0., 0., 0.],\n",
      "       [0., 0., 0., ..., 0., 0., 0.]])} and extras {}\n",
      "INFO - 2019-04-01 12:22:57,090 - vocab_size = 74790\n",
      "INFO - 2019-04-01 12:22:57,090 - embed_size = 300\n",
      "INFO - 2019-04-01 12:22:57,090 - hidden_size = 64\n",
      "INFO - 2019-04-01 12:22:57,091 - kernel_sizes = (1, 3, 5, 7)\n",
      "INFO - 2019-04-01 12:22:57,091 - activation = relu\n",
      "INFO - 2019-04-01 12:22:57,092 - pre_embed = [[0. 0. 0. ... 0. 0. 0.]\n",
      " [0. 0. 0. ... 0. 0. 0.]\n",
      " [0. 0. 0. ... 0. 0. 0.]\n",
      " ...\n",
      " [0. 0. 0. ... 0. 0. 0.]\n",
      " [0. 0. 0. ... 0. 0. 0.]\n",
      " [0. 0. 0. ... 0. 0. 0.]]\n"
     ]
    },
    {
     "name": "stdout",
     "output_type": "stream",
     "text": [
      "Better speed can be achieved with apex installed from https://www.github.com/nvidia/apex.\n",
      "Setting Embedding\n"
     ]
    },
    {
     "name": "stderr",
     "output_type": "stream",
     "text": [
      "/home/ramin/anaconda3/lib/python3.6/site-packages/allennlp/common/params.py:512: FutureWarning: elementwise comparison failed; returning scalar instead, but in the future will perform elementwise comparison\n",
      "  if dictionary[key] == \"None\":\n",
      "INFO - 2019-04-01 12:22:58,040 - instantiating class <class 'Transparency.model.modules.Encoder.Encoder'> from params {'vocab_size': 74790, 'embed_size': 300, 'kernel_sizes': (1, 3, 5, 7), 'hidden_size': 64, 'activation': 'relu', 'type': 'cnn', 'pre_embed': array([[0., 0., 0., ..., 0., 0., 0.],\n",
      "       [0., 0., 0., ..., 0., 0., 0.],\n",
      "       [0., 0., 0., ..., 0., 0., 0.],\n",
      "       ...,\n",
      "       [0., 0., 0., ..., 0., 0., 0.],\n",
      "       [0., 0., 0., ..., 0., 0., 0.],\n",
      "       [0., 0., 0., ..., 0., 0., 0.]])} and extras {}\n",
      "INFO - 2019-04-01 12:22:58,040 - type = cnn\n",
      "INFO - 2019-04-01 12:22:58,041 - instantiating class <class 'Transparency.model.modules.Encoder.EncoderCNN'> from params {'vocab_size': 74790, 'embed_size': 300, 'kernel_sizes': (1, 3, 5, 7), 'hidden_size': 64, 'activation': 'relu', 'pre_embed': array([[0., 0., 0., ..., 0., 0., 0.],\n",
      "       [0., 0., 0., ..., 0., 0., 0.],\n",
      "       [0., 0., 0., ..., 0., 0., 0.],\n",
      "       ...,\n",
      "       [0., 0., 0., ..., 0., 0., 0.],\n",
      "       [0., 0., 0., ..., 0., 0., 0.],\n",
      "       [0., 0., 0., ..., 0., 0., 0.]])} and extras {}\n",
      "INFO - 2019-04-01 12:22:58,042 - vocab_size = 74790\n",
      "INFO - 2019-04-01 12:22:58,042 - embed_size = 300\n",
      "INFO - 2019-04-01 12:22:58,043 - hidden_size = 64\n",
      "INFO - 2019-04-01 12:22:58,043 - kernel_sizes = (1, 3, 5, 7)\n",
      "INFO - 2019-04-01 12:22:58,044 - activation = relu\n",
      "INFO - 2019-04-01 12:22:58,045 - pre_embed = [[0. 0. 0. ... 0. 0. 0.]\n",
      " [0. 0. 0. ... 0. 0. 0.]\n",
      " [0. 0. 0. ... 0. 0. 0.]\n",
      " ...\n",
      " [0. 0. 0. ... 0. 0. 0.]\n",
      " [0. 0. 0. ... 0. 0. 0.]\n",
      " [0. 0. 0. ... 0. 0. 0.]]\n",
      "INFO - 2019-04-01 12:22:58,105 - instantiating class <class 'Transparency.model.modules.Decoder.AttnDecoderQA'> from params {'attention': {'type': 'dot_qa'}, 'output_size': 584, 'hidden_size': 256} and extras {}\n",
      "INFO - 2019-04-01 12:22:58,105 - hidden_size = 256\n",
      "INFO - 2019-04-01 12:22:58,106 - output_size = 584\n",
      "INFO - 2019-04-01 12:22:58,106 - use_attention = True\n",
      "INFO - 2019-04-01 12:22:58,106 - regularizer_attention = None\n",
      "INFO - 2019-04-01 12:22:58,109 - instantiating class <class 'Transparency.model.modules.Attention.Attention'> from params <allennlp.common.params.Params object at 0x7fe0ad50f6d8> and extras {}\n",
      "INFO - 2019-04-01 12:22:58,109 - attention.type = dot_qa\n",
      "INFO - 2019-04-01 12:22:58,109 - type = dot_qa\n",
      "INFO - 2019-04-01 12:22:58,110 - instantiating class <class 'Transparency.model.modules.Attention.DotQAAttention'> from params <allennlp.common.params.Params object at 0x7fe0ad50f6d8> and extras {}\n",
      "INFO - 2019-04-01 12:22:58,110 - attention.hidden_size = 256\n",
      "INFO - 2019-04-01 12:22:58,110 - hidden_size = 256\n"
     ]
    },
    {
     "name": "stdout",
     "output_type": "stream",
     "text": [
      "Setting Embedding\n"
     ]
    },
    {
     "data": {
      "application/vnd.jupyter.widget-view+json": {
       "model_id": "b283a81eee214857a6e21cb1ae7a9b25",
       "version_major": 2,
       "version_minor": 0
      },
      "text/plain": [
       "HBox(children=(IntProgress(value=0, max=25), HTML(value='')))"
      ]
     },
     "metadata": {},
     "output_type": "display_data"
    },
    {
     "data": {
      "application/vnd.jupyter.widget-view+json": {
       "model_id": "b1fc0c66aa2b4b959cceef5ec9f4d21f",
       "version_major": 2,
       "version_minor": 0
      },
      "text/plain": [
       "HBox(children=(IntProgress(value=0, max=4226), HTML(value='')))"
      ]
     },
     "metadata": {},
     "output_type": "display_data"
    },
    {
     "data": {
      "application/vnd.jupyter.widget-view+json": {
       "model_id": "48145af826cf49b0aa078d173a5f04bf",
       "version_major": 2,
       "version_minor": 0
      },
      "text/plain": [
       "HBox(children=(IntProgress(value=0, max=36), HTML(value='')))"
      ]
     },
     "metadata": {},
     "output_type": "display_data"
    },
    {
     "name": "stdout",
     "output_type": "stream",
     "text": [
      "{'accuracy': 0.5991244527829893}\n"
     ]
    },
    {
     "data": {
      "text/html": [
       "<div>\n",
       "<style scoped>\n",
       "    .dataframe tbody tr th:only-of-type {\n",
       "        vertical-align: middle;\n",
       "    }\n",
       "\n",
       "    .dataframe tbody tr th {\n",
       "        vertical-align: top;\n",
       "    }\n",
       "\n",
       "    .dataframe thead th {\n",
       "        text-align: right;\n",
       "    }\n",
       "</style>\n",
       "<table border=\"1\" class=\"dataframe\">\n",
       "  <thead>\n",
       "    <tr style=\"text-align: right;\">\n",
       "      <th></th>\n",
       "    </tr>\n",
       "  </thead>\n",
       "  <tbody>\n",
       "  </tbody>\n",
       "</table>\n",
       "</div>"
      ],
      "text/plain": [
       "Empty DataFrame\n",
       "Columns: []\n",
       "Index: []"
      ]
     },
     "metadata": {},
     "output_type": "display_data"
    },
    {
     "name": "stdout",
     "output_type": "stream",
     "text": [
      "Model not saved on  accuracy 0.5991244527829893\n"
     ]
    },
    {
     "data": {
      "application/vnd.jupyter.widget-view+json": {
       "model_id": "ebd757c53858493e80ae57088d211610",
       "version_major": 2,
       "version_minor": 0
      },
      "text/plain": [
       "HBox(children=(IntProgress(value=0, max=4226), HTML(value='')))"
      ]
     },
     "metadata": {},
     "output_type": "display_data"
    }
   ],
   "source": [
    "for dataset in ['cnn'] :\n",
    "    %run train_and_run_experiments_qa.py --dataset {dataset} --data_dir='.' --output_dir='outputs/' --attention=dot"
   ]
  },
  {
   "cell_type": "code",
   "execution_count": null,
   "metadata": {},
   "outputs": [],
   "source": [
    "%load_ext autoreload\n",
    "%autoreload 2\n",
    "%matplotlib inline\n",
    "%config InlineBackend.figure_format = 'retina'"
   ]
  },
  {
   "cell_type": "code",
   "execution_count": null,
   "metadata": {},
   "outputs": [],
   "source": [
    "from Trainers.DatasetQA import *\n",
    "from Trainers.TrainerQA import *\n",
    "from configurations import *\n",
    "from ExperimentsQA import *"
   ]
  },
  {
   "cell_type": "code",
   "execution_count": null,
   "metadata": {},
   "outputs": [],
   "source": [
    "import argparse\n",
    "parser = argparse.ArgumentParser(description='Run experiments on a dataset')\n",
    "parser.add_argument('--dataset', type=str, required=True)\n",
    "parser.add_argument(\"--data_dir\", type=str, required=True)\n",
    "parser.add_argument(\"--output_dir\", type=str)\n",
    "parser.add_argument('--attention', type=str, required=True)\n",
    "\n",
    "args, extras = parser.parse_known_args(['--dataset=snli', '--data_dir=.', '--output_dir=basepath',  '--attention=tanh'])"
   ]
  },
  {
   "cell_type": "code",
   "execution_count": null,
   "metadata": {},
   "outputs": [],
   "source": [
    "dataset = get_Babi_1(args)"
   ]
  },
  {
   "cell_type": "code",
   "execution_count": null,
   "metadata": {},
   "outputs": [],
   "source": [
    "configurations_qa['lstm_dot'](dataset)"
   ]
  },
  {
   "cell_type": "code",
   "execution_count": null,
   "metadata": {},
   "outputs": [],
   "source": [
    "train_dataset_on_encoders_tanh(dataset)\n",
    "train_dataset_on_encoders_dot(dataset)"
   ]
  },
  {
   "cell_type": "code",
   "execution_count": null,
   "metadata": {},
   "outputs": [],
   "source": [
    "dataset = datasets_ehr['knee']()\n",
    "run_experiments_on_latest_model(dataset, config='cnn')"
   ]
  },
  {
   "cell_type": "code",
   "execution_count": null,
   "metadata": {},
   "outputs": [],
   "source": [
    "generate_graphs_on_latest_model(dataset, config='cnn')"
   ]
  },
  {
   "cell_type": "code",
   "execution_count": null,
   "metadata": {},
   "outputs": [],
   "source": [
    "evaluator = run_evaluator_on_latest_model(dataset, config='cnn')"
   ]
  },
  {
   "cell_type": "code",
   "execution_count": null,
   "metadata": {},
   "outputs": [],
   "source": [
    "multi_adversarial_outputs = pload(evaluator.model, 'multi_adversarial')\n",
    "from Trainers.PlottingBC import *\n",
    "test_data = dataset.test_data\n",
    "emax_jds, emax_adv_attn, emax_ad_y = plot_multi_adversarial(test_data, multi_adversarial_outputs, dirname=\".\")\n",
    "print_adversarial_examples(dataset, test_data, \n",
    "                           emax_jds, emax_adv_attn, emax_ad_y, by_class=None, dirname='.')"
   ]
  },
  {
   "cell_type": "code",
   "execution_count": null,
   "metadata": {},
   "outputs": [],
   "source": [
    "for k in datasets_ehr :\n",
    "    dataset = datasets_ehr[k]()\n",
    "    train_dataset(dataset, 'logodds_lstm_reg')"
   ]
  },
  {
   "cell_type": "code",
   "execution_count": null,
   "metadata": {},
   "outputs": [],
   "source": [
    "for k in datasets_ehr :\n",
    "    dataset = datasets_ehr[k]()\n",
    "    run_experiments_on_latest_model(dataset, 'logodds_lstm_reg')\n",
    "    run_logodds_experiment(dataset, 'logodds_lstm_reg')"
   ]
  },
  {
   "cell_type": "code",
   "execution_count": null,
   "metadata": {},
   "outputs": [],
   "source": []
  }
 ],
 "metadata": {
  "kernelspec": {
   "display_name": "Python 3",
   "language": "python",
   "name": "python3"
  },
  "language_info": {
   "codemirror_mode": {
    "name": "ipython",
    "version": 3
   },
   "file_extension": ".py",
   "mimetype": "text/x-python",
   "name": "python",
   "nbconvert_exporter": "python",
   "pygments_lexer": "ipython3",
   "version": "3.6.7"
  }
 },
 "nbformat": 4,
 "nbformat_minor": 2
}
